{
  "nbformat": 4,
  "nbformat_minor": 0,
  "metadata": {
    "colab": {
      "name": "CLV_Modelling_2.ipynb",
      "provenance": [],
      "collapsed_sections": [],
      "include_colab_link": true
    },
    "kernelspec": {
      "name": "python3",
      "display_name": "Python 3"
    }
  },
  "cells": [
    {
      "cell_type": "markdown",
      "metadata": {
        "id": "view-in-github",
        "colab_type": "text"
      },
      "source": [
        "<a href=\"https://colab.research.google.com/github/shubhamkoul007/Acquire-Valued-Shopper-Challenge-Team1-TDL/blob/main/CLV_Modelling_2.ipynb\" target=\"_parent\"><img src=\"https://colab.research.google.com/assets/colab-badge.svg\" alt=\"Open In Colab\"/></a>"
      ]
    },
    {
      "cell_type": "markdown",
      "metadata": {
        "id": "CrBP8Ui0a2J4"
      },
      "source": [
        "**IMPORTING MODULES**"
      ]
    },
    {
      "cell_type": "code",
      "metadata": {
        "id": "uucVOEd7oPBJ"
      },
      "source": [
        "import pandas as pd\n",
        "import numpy as np\n",
        "import matplotlib.pyplot as plt\n",
        "import seaborn as sns\n",
        "from scipy.stats import norm\n",
        "from sklearn.preprocessing import StandardScaler\n",
        "from scipy import stats\n",
        "import warnings\n",
        "warnings.filterwarnings('ignore')\n",
        "%matplotlib inline\n",
        "\n"
      ],
      "execution_count": 72,
      "outputs": []
    },
    {
      "cell_type": "markdown",
      "metadata": {
        "id": "nCQDKpqva9fY"
      },
      "source": [
        "**IMPORTING DATASET**"
      ]
    },
    {
      "cell_type": "code",
      "metadata": {
        "id": "HCzBKt4Fx-q_",
        "outputId": "e0597ad4-305e-454f-fa51-2ae6220dcf3b",
        "colab": {
          "base_uri": "https://localhost:8080/",
          "height": 306
        }
      },
      "source": [
        "df = pd.read_csv('online_retail_II.csv' )\n",
        "\n",
        "df.head()\n"
      ],
      "execution_count": 73,
      "outputs": [
        {
          "output_type": "execute_result",
          "data": {
            "text/html": [
              "<div>\n",
              "<style scoped>\n",
              "    .dataframe tbody tr th:only-of-type {\n",
              "        vertical-align: middle;\n",
              "    }\n",
              "\n",
              "    .dataframe tbody tr th {\n",
              "        vertical-align: top;\n",
              "    }\n",
              "\n",
              "    .dataframe thead th {\n",
              "        text-align: right;\n",
              "    }\n",
              "</style>\n",
              "<table border=\"1\" class=\"dataframe\">\n",
              "  <thead>\n",
              "    <tr style=\"text-align: right;\">\n",
              "      <th></th>\n",
              "      <th>Invoice</th>\n",
              "      <th>StockCode</th>\n",
              "      <th>Description</th>\n",
              "      <th>Quantity</th>\n",
              "      <th>InvoiceDate</th>\n",
              "      <th>Price</th>\n",
              "      <th>Customer ID</th>\n",
              "      <th>Country</th>\n",
              "    </tr>\n",
              "  </thead>\n",
              "  <tbody>\n",
              "    <tr>\n",
              "      <th>0</th>\n",
              "      <td>489434</td>\n",
              "      <td>85048</td>\n",
              "      <td>15CM CHRISTMAS GLASS BALL 20 LIGHTS</td>\n",
              "      <td>12</td>\n",
              "      <td>2009-12-01 07:45:00</td>\n",
              "      <td>6.95</td>\n",
              "      <td>13085.0</td>\n",
              "      <td>United Kingdom</td>\n",
              "    </tr>\n",
              "    <tr>\n",
              "      <th>1</th>\n",
              "      <td>489434</td>\n",
              "      <td>79323P</td>\n",
              "      <td>PINK CHERRY LIGHTS</td>\n",
              "      <td>12</td>\n",
              "      <td>2009-12-01 07:45:00</td>\n",
              "      <td>6.75</td>\n",
              "      <td>13085.0</td>\n",
              "      <td>United Kingdom</td>\n",
              "    </tr>\n",
              "    <tr>\n",
              "      <th>2</th>\n",
              "      <td>489434</td>\n",
              "      <td>79323W</td>\n",
              "      <td>WHITE CHERRY LIGHTS</td>\n",
              "      <td>12</td>\n",
              "      <td>2009-12-01 07:45:00</td>\n",
              "      <td>6.75</td>\n",
              "      <td>13085.0</td>\n",
              "      <td>United Kingdom</td>\n",
              "    </tr>\n",
              "    <tr>\n",
              "      <th>3</th>\n",
              "      <td>489434</td>\n",
              "      <td>22041</td>\n",
              "      <td>RECORD FRAME 7\" SINGLE SIZE</td>\n",
              "      <td>48</td>\n",
              "      <td>2009-12-01 07:45:00</td>\n",
              "      <td>2.10</td>\n",
              "      <td>13085.0</td>\n",
              "      <td>United Kingdom</td>\n",
              "    </tr>\n",
              "    <tr>\n",
              "      <th>4</th>\n",
              "      <td>489434</td>\n",
              "      <td>21232</td>\n",
              "      <td>STRAWBERRY CERAMIC TRINKET BOX</td>\n",
              "      <td>24</td>\n",
              "      <td>2009-12-01 07:45:00</td>\n",
              "      <td>1.25</td>\n",
              "      <td>13085.0</td>\n",
              "      <td>United Kingdom</td>\n",
              "    </tr>\n",
              "  </tbody>\n",
              "</table>\n",
              "</div>"
            ],
            "text/plain": [
              "  Invoice StockCode  ... Customer ID         Country\n",
              "0  489434     85048  ...     13085.0  United Kingdom\n",
              "1  489434    79323P  ...     13085.0  United Kingdom\n",
              "2  489434    79323W  ...     13085.0  United Kingdom\n",
              "3  489434     22041  ...     13085.0  United Kingdom\n",
              "4  489434     21232  ...     13085.0  United Kingdom\n",
              "\n",
              "[5 rows x 8 columns]"
            ]
          },
          "metadata": {
            "tags": []
          },
          "execution_count": 73
        }
      ]
    },
    {
      "cell_type": "code",
      "metadata": {
        "id": "qrGRrL-GgYG2",
        "outputId": "d21a3aba-19bc-42ea-aaa0-d570c57d219c",
        "colab": {
          "base_uri": "https://localhost:8080/"
        }
      },
      "source": [
        "df.info()"
      ],
      "execution_count": 74,
      "outputs": [
        {
          "output_type": "stream",
          "text": [
            "<class 'pandas.core.frame.DataFrame'>\n",
            "RangeIndex: 1067371 entries, 0 to 1067370\n",
            "Data columns (total 8 columns):\n",
            " #   Column       Non-Null Count    Dtype  \n",
            "---  ------       --------------    -----  \n",
            " 0   Invoice      1067371 non-null  object \n",
            " 1   StockCode    1067371 non-null  object \n",
            " 2   Description  1062989 non-null  object \n",
            " 3   Quantity     1067371 non-null  int64  \n",
            " 4   InvoiceDate  1067371 non-null  object \n",
            " 5   Price        1067371 non-null  float64\n",
            " 6   Customer ID  824364 non-null   float64\n",
            " 7   Country      1067371 non-null  object \n",
            "dtypes: float64(2), int64(1), object(5)\n",
            "memory usage: 65.1+ MB\n"
          ],
          "name": "stdout"
        }
      ]
    },
    {
      "cell_type": "markdown",
      "metadata": {
        "id": "FEld2xRcbimI"
      },
      "source": [
        "**CHECKING DATA DISCREPANCY**"
      ]
    },
    {
      "cell_type": "code",
      "metadata": {
        "id": "8WKIJmkb3it-",
        "outputId": "1a303995-2bd0-4dc9-eacf-9f11d5edf3e2",
        "colab": {
          "base_uri": "https://localhost:8080/"
        }
      },
      "source": [
        "df.isnull().sum()"
      ],
      "execution_count": 75,
      "outputs": [
        {
          "output_type": "execute_result",
          "data": {
            "text/plain": [
              "Invoice             0\n",
              "StockCode           0\n",
              "Description      4382\n",
              "Quantity            0\n",
              "InvoiceDate         0\n",
              "Price               0\n",
              "Customer ID    243007\n",
              "Country             0\n",
              "dtype: int64"
            ]
          },
          "metadata": {
            "tags": []
          },
          "execution_count": 75
        }
      ]
    },
    {
      "cell_type": "code",
      "metadata": {
        "id": "FE9xr_Nj4LV6"
      },
      "source": [
        "df.rename( columns ={'Customer ID': 'CustomerID' , 'Price' : 'UnitPrice'} , inplace= True  )"
      ],
      "execution_count": 76,
      "outputs": []
    },
    {
      "cell_type": "markdown",
      "metadata": {
        "id": "h9AwZUMhbuBM"
      },
      "source": [
        "**DATA CLEANING (REMOVING DISCREPANCY)**"
      ]
    },
    {
      "cell_type": "code",
      "metadata": {
        "id": "AAJotO4_x-oD",
        "outputId": "45f71375-e9bb-489f-8d16-b9d52e10bed8",
        "colab": {
          "base_uri": "https://localhost:8080/"
        }
      },
      "source": [
        "#Removing all customer id's with Null Value\n",
        "df=df[pd.notnull(df['CustomerID'])]\n",
        "\n",
        "#Removing all the returned items(Quantity less than equal to 0)\n",
        "df=df[df['Quantity']>0]\n",
        "df['Sales'] = df['Quantity'] * df['UnitPrice']\n",
        "df[df['CustomerID']==12347]['Sales'].sum()#this monetary value does not match with the monetary value that we get after summary_from_transaction_data\n",
        "\n"
      ],
      "execution_count": 77,
      "outputs": [
        {
          "output_type": "execute_result",
          "data": {
            "text/plain": [
              "5633.320000000001"
            ]
          },
          "metadata": {
            "tags": []
          },
          "execution_count": 77
        }
      ]
    },
    {
      "cell_type": "code",
      "metadata": {
        "id": "fPdgxOsG4p7X",
        "outputId": "364721de-6dcb-427f-c6be-3dab18477ca2",
        "colab": {
          "base_uri": "https://localhost:8080/"
        }
      },
      "source": [
        "\n",
        "df['CustomerID'].nunique() "
      ],
      "execution_count": 78,
      "outputs": [
        {
          "output_type": "execute_result",
          "data": {
            "text/plain": [
              "5881"
            ]
          },
          "metadata": {
            "tags": []
          },
          "execution_count": 78
        }
      ]
    },
    {
      "cell_type": "markdown",
      "metadata": {
        "id": "___2u42zyHJX"
      },
      "source": [
        "**LIFETIMES PACKAGE**\n",
        "\n",
        "It is basically a library in python that is mainly used to predict future purchases of a customer, his alive probability and Customer's Lifetime Value , that can be used to draw useful insights ."
      ]
    },
    {
      "cell_type": "markdown",
      "metadata": {
        "id": "NMKJBGFq6MkM"
      },
      "source": [
        ""
      ]
    },
    {
      "cell_type": "markdown",
      "metadata": {
        "id": "G8abwIUzb_87"
      },
      "source": [
        "**Installing Lifetimes Package**"
      ]
    },
    {
      "cell_type": "code",
      "metadata": {
        "id": "FfjIVNurx-k6",
        "outputId": "e5c689c2-f812-46a7-da05-3a8be2a0a079",
        "colab": {
          "base_uri": "https://localhost:8080/"
        }
      },
      "source": [
        "!pip install lifetimes"
      ],
      "execution_count": 79,
      "outputs": [
        {
          "output_type": "stream",
          "text": [
            "Requirement already satisfied: lifetimes in /usr/local/lib/python3.6/dist-packages (0.11.3)\n",
            "Requirement already satisfied: scipy>=1.0.0 in /usr/local/lib/python3.6/dist-packages (from lifetimes) (1.4.1)\n",
            "Requirement already satisfied: numpy>=1.10.0 in /usr/local/lib/python3.6/dist-packages (from lifetimes) (1.18.5)\n",
            "Requirement already satisfied: dill>=0.2.6 in /usr/local/lib/python3.6/dist-packages (from lifetimes) (0.3.3)\n",
            "Requirement already satisfied: autograd>=1.2.0 in /usr/local/lib/python3.6/dist-packages (from lifetimes) (1.3)\n",
            "Requirement already satisfied: pandas>=0.24.0 in /usr/local/lib/python3.6/dist-packages (from lifetimes) (1.1.4)\n",
            "Requirement already satisfied: future>=0.15.2 in /usr/local/lib/python3.6/dist-packages (from autograd>=1.2.0->lifetimes) (0.16.0)\n",
            "Requirement already satisfied: python-dateutil>=2.7.3 in /usr/local/lib/python3.6/dist-packages (from pandas>=0.24.0->lifetimes) (2.8.1)\n",
            "Requirement already satisfied: pytz>=2017.2 in /usr/local/lib/python3.6/dist-packages (from pandas>=0.24.0->lifetimes) (2018.9)\n",
            "Requirement already satisfied: six>=1.5 in /usr/local/lib/python3.6/dist-packages (from python-dateutil>=2.7.3->pandas>=0.24.0->lifetimes) (1.15.0)\n"
          ],
          "name": "stdout"
        }
      ]
    },
    {
      "cell_type": "code",
      "metadata": {
        "id": "0WP6fnmLx-hf",
        "outputId": "4bc71e76-5ae9-42ca-cb17-b760eadeeeed",
        "colab": {
          "base_uri": "https://localhost:8080/",
          "height": 233
        }
      },
      "source": [
        "from lifetimes.plotting import *\n",
        "from lifetimes.utils import *\n",
        "data = summary_data_from_transaction_data(df, 'CustomerID', 'InvoiceDate', monetary_value_col='Sales', observation_period_end='2011-12-10')\n",
        "data1 = data.copy()\n",
        "data2 = data.copy()\n",
        "data.head()\n"
      ],
      "execution_count": 80,
      "outputs": [
        {
          "output_type": "execute_result",
          "data": {
            "text/html": [
              "<div>\n",
              "<style scoped>\n",
              "    .dataframe tbody tr th:only-of-type {\n",
              "        vertical-align: middle;\n",
              "    }\n",
              "\n",
              "    .dataframe tbody tr th {\n",
              "        vertical-align: top;\n",
              "    }\n",
              "\n",
              "    .dataframe thead th {\n",
              "        text-align: right;\n",
              "    }\n",
              "</style>\n",
              "<table border=\"1\" class=\"dataframe\">\n",
              "  <thead>\n",
              "    <tr style=\"text-align: right;\">\n",
              "      <th></th>\n",
              "      <th>frequency</th>\n",
              "      <th>recency</th>\n",
              "      <th>T</th>\n",
              "      <th>monetary_value</th>\n",
              "    </tr>\n",
              "    <tr>\n",
              "      <th>CustomerID</th>\n",
              "      <th></th>\n",
              "      <th></th>\n",
              "      <th></th>\n",
              "      <th></th>\n",
              "    </tr>\n",
              "  </thead>\n",
              "  <tbody>\n",
              "    <tr>\n",
              "      <th>12346.0</th>\n",
              "      <td>7.0</td>\n",
              "      <td>400.0</td>\n",
              "      <td>726.0</td>\n",
              "      <td>11066.637143</td>\n",
              "    </tr>\n",
              "    <tr>\n",
              "      <th>12347.0</th>\n",
              "      <td>7.0</td>\n",
              "      <td>402.0</td>\n",
              "      <td>405.0</td>\n",
              "      <td>717.398571</td>\n",
              "    </tr>\n",
              "    <tr>\n",
              "      <th>12348.0</th>\n",
              "      <td>4.0</td>\n",
              "      <td>363.0</td>\n",
              "      <td>439.0</td>\n",
              "      <td>449.310000</td>\n",
              "    </tr>\n",
              "    <tr>\n",
              "      <th>12349.0</th>\n",
              "      <td>3.0</td>\n",
              "      <td>571.0</td>\n",
              "      <td>590.0</td>\n",
              "      <td>1120.056667</td>\n",
              "    </tr>\n",
              "    <tr>\n",
              "      <th>12350.0</th>\n",
              "      <td>0.0</td>\n",
              "      <td>0.0</td>\n",
              "      <td>311.0</td>\n",
              "      <td>0.000000</td>\n",
              "    </tr>\n",
              "  </tbody>\n",
              "</table>\n",
              "</div>"
            ],
            "text/plain": [
              "            frequency  recency      T  monetary_value\n",
              "CustomerID                                           \n",
              "12346.0           7.0    400.0  726.0    11066.637143\n",
              "12347.0           7.0    402.0  405.0      717.398571\n",
              "12348.0           4.0    363.0  439.0      449.310000\n",
              "12349.0           3.0    571.0  590.0     1120.056667\n",
              "12350.0           0.0      0.0  311.0        0.000000"
            ]
          },
          "metadata": {
            "tags": []
          },
          "execution_count": 80
        }
      ]
    },
    {
      "cell_type": "code",
      "metadata": {
        "id": "WLjTBCcey5Ql",
        "outputId": "821128f5-a40b-4ef0-ee61-904f75837f42",
        "colab": {
          "base_uri": "https://localhost:8080/"
        }
      },
      "source": [
        "\n",
        "import time\n",
        "start=time.time()\n",
        "from lifetimes import ParetoNBDFitter\n",
        "pareto = ParetoNBDFitter(penalizer_coef=0.0)\n",
        "pareto.fit(data['frequency'], data['recency'], data['T'])\n",
        "#print(bgf)\n",
        "\n",
        "end =time.time()\n",
        "print(\"TIme elapsed :\",end-start,\"seconds\")\n",
        "\n"
      ],
      "execution_count": 81,
      "outputs": [
        {
          "output_type": "stream",
          "text": [
            "TIme elapsed : 6.5184102058410645 seconds\n"
          ],
          "name": "stdout"
        }
      ]
    },
    {
      "cell_type": "code",
      "metadata": {
        "id": "8CegRmYox-eS",
        "outputId": "be53afd5-84ac-4f8b-8f5f-d0f4fafde921",
        "colab": {
          "base_uri": "https://localhost:8080/"
        }
      },
      "source": [
        "import time\n",
        "start=time.time()\n",
        "from lifetimes import BetaGeoFitter\n",
        "bgf = BetaGeoFitter(penalizer_coef=0.0)\n",
        "bgf.fit(data['frequency'], data['recency'], data['T'])\n",
        "#print(bgf)\n",
        "\n",
        "end =time.time()\n",
        "print(\"TIme elapsed :\",end-start,\"seconds\")\n",
        "\n"
      ],
      "execution_count": 82,
      "outputs": [
        {
          "output_type": "stream",
          "text": [
            "TIme elapsed : 0.2806212902069092 seconds\n"
          ],
          "name": "stdout"
        }
      ]
    },
    {
      "cell_type": "code",
      "metadata": {
        "id": "3ILlrOiLGWPt",
        "outputId": "321ee4f7-6cbb-4f8f-fcdd-e0e4c76bc7b0",
        "colab": {
          "base_uri": "https://localhost:8080/",
          "height": 355
        }
      },
      "source": [
        "\n",
        "t = 30\n",
        "data1['pred_num_txn'] = round(bgf.conditional_expected_number_of_purchases_up_to_time(t, data1['frequency'], data1['recency'], data1['T']),2)\n",
        "data2['pred_num_txn'] = data1['pred_num_txn'] \n",
        "data1.sort_values(by='pred_num_txn', ascending=False).head(10).reset_index() \n",
        "\n"
      ],
      "execution_count": 83,
      "outputs": [
        {
          "output_type": "execute_result",
          "data": {
            "text/html": [
              "<div>\n",
              "<style scoped>\n",
              "    .dataframe tbody tr th:only-of-type {\n",
              "        vertical-align: middle;\n",
              "    }\n",
              "\n",
              "    .dataframe tbody tr th {\n",
              "        vertical-align: top;\n",
              "    }\n",
              "\n",
              "    .dataframe thead th {\n",
              "        text-align: right;\n",
              "    }\n",
              "</style>\n",
              "<table border=\"1\" class=\"dataframe\">\n",
              "  <thead>\n",
              "    <tr style=\"text-align: right;\">\n",
              "      <th></th>\n",
              "      <th>CustomerID</th>\n",
              "      <th>frequency</th>\n",
              "      <th>recency</th>\n",
              "      <th>T</th>\n",
              "      <th>monetary_value</th>\n",
              "      <th>pred_num_txn</th>\n",
              "    </tr>\n",
              "  </thead>\n",
              "  <tbody>\n",
              "    <tr>\n",
              "      <th>0</th>\n",
              "      <td>14911.0</td>\n",
              "      <td>254.0</td>\n",
              "      <td>737.0</td>\n",
              "      <td>739.0</td>\n",
              "      <td>1162.358268</td>\n",
              "      <td>9.49</td>\n",
              "    </tr>\n",
              "    <tr>\n",
              "      <th>1</th>\n",
              "      <td>12748.0</td>\n",
              "      <td>202.0</td>\n",
              "      <td>735.0</td>\n",
              "      <td>736.0</td>\n",
              "      <td>279.101436</td>\n",
              "      <td>7.59</td>\n",
              "    </tr>\n",
              "    <tr>\n",
              "      <th>2</th>\n",
              "      <td>15311.0</td>\n",
              "      <td>195.0</td>\n",
              "      <td>738.0</td>\n",
              "      <td>739.0</td>\n",
              "      <td>594.605846</td>\n",
              "      <td>7.30</td>\n",
              "    </tr>\n",
              "    <tr>\n",
              "      <th>3</th>\n",
              "      <td>17841.0</td>\n",
              "      <td>192.0</td>\n",
              "      <td>736.0</td>\n",
              "      <td>738.0</td>\n",
              "      <td>366.423490</td>\n",
              "      <td>7.19</td>\n",
              "    </tr>\n",
              "    <tr>\n",
              "      <th>4</th>\n",
              "      <td>14606.0</td>\n",
              "      <td>180.0</td>\n",
              "      <td>735.0</td>\n",
              "      <td>737.0</td>\n",
              "      <td>170.255889</td>\n",
              "      <td>6.75</td>\n",
              "    </tr>\n",
              "    <tr>\n",
              "      <th>5</th>\n",
              "      <td>13089.0</td>\n",
              "      <td>131.0</td>\n",
              "      <td>735.0</td>\n",
              "      <td>738.0</td>\n",
              "      <td>888.318779</td>\n",
              "      <td>4.91</td>\n",
              "    </tr>\n",
              "    <tr>\n",
              "      <th>6</th>\n",
              "      <td>14527.0</td>\n",
              "      <td>120.0</td>\n",
              "      <td>735.0</td>\n",
              "      <td>738.0</td>\n",
              "      <td>223.904250</td>\n",
              "      <td>4.50</td>\n",
              "    </tr>\n",
              "    <tr>\n",
              "      <th>7</th>\n",
              "      <td>14156.0</td>\n",
              "      <td>120.0</td>\n",
              "      <td>729.0</td>\n",
              "      <td>739.0</td>\n",
              "      <td>2607.329750</td>\n",
              "      <td>4.48</td>\n",
              "    </tr>\n",
              "    <tr>\n",
              "      <th>8</th>\n",
              "      <td>12971.0</td>\n",
              "      <td>98.0</td>\n",
              "      <td>721.0</td>\n",
              "      <td>725.0</td>\n",
              "      <td>162.360612</td>\n",
              "      <td>3.74</td>\n",
              "    </tr>\n",
              "    <tr>\n",
              "      <th>9</th>\n",
              "      <td>13798.0</td>\n",
              "      <td>98.0</td>\n",
              "      <td>730.0</td>\n",
              "      <td>732.0</td>\n",
              "      <td>768.906837</td>\n",
              "      <td>3.71</td>\n",
              "    </tr>\n",
              "  </tbody>\n",
              "</table>\n",
              "</div>"
            ],
            "text/plain": [
              "   CustomerID  frequency  recency      T  monetary_value  pred_num_txn\n",
              "0     14911.0      254.0    737.0  739.0     1162.358268          9.49\n",
              "1     12748.0      202.0    735.0  736.0      279.101436          7.59\n",
              "2     15311.0      195.0    738.0  739.0      594.605846          7.30\n",
              "3     17841.0      192.0    736.0  738.0      366.423490          7.19\n",
              "4     14606.0      180.0    735.0  737.0      170.255889          6.75\n",
              "5     13089.0      131.0    735.0  738.0      888.318779          4.91\n",
              "6     14527.0      120.0    735.0  738.0      223.904250          4.50\n",
              "7     14156.0      120.0    729.0  739.0     2607.329750          4.48\n",
              "8     12971.0       98.0    721.0  725.0      162.360612          3.74\n",
              "9     13798.0       98.0    730.0  732.0      768.906837          3.71"
            ]
          },
          "metadata": {
            "tags": []
          },
          "execution_count": 83
        }
      ]
    },
    {
      "cell_type": "code",
      "metadata": {
        "id": "X8aapXTPRTJn",
        "outputId": "80036744-1296-4764-8a8d-2a840e2ed4af",
        "colab": {
          "base_uri": "https://localhost:8080/"
        }
      },
      "source": [
        "data2['pred_num_txn']"
      ],
      "execution_count": 84,
      "outputs": [
        {
          "output_type": "execute_result",
          "data": {
            "text/plain": [
              "CustomerID\n",
              "12346.0    0.16\n",
              "12347.0    0.48\n",
              "12348.0    0.27\n",
              "12349.0    0.16\n",
              "12350.0    0.05\n",
              "           ... \n",
              "18283.0    0.77\n",
              "18284.0    0.04\n",
              "18285.0    0.03\n",
              "18286.0    0.05\n",
              "18287.0    0.26\n",
              "Name: pred_num_txn, Length: 5881, dtype: float64"
            ]
          },
          "metadata": {
            "tags": []
          },
          "execution_count": 84
        }
      ]
    },
    {
      "cell_type": "code",
      "metadata": {
        "id": "4o0R4cmVNL57",
        "outputId": "b058123a-9ecf-4e62-a93b-a9f6c16ca48d",
        "colab": {
          "base_uri": "https://localhost:8080/"
        }
      },
      "source": [
        "len(data1)"
      ],
      "execution_count": 85,
      "outputs": [
        {
          "output_type": "execute_result",
          "data": {
            "text/plain": [
              "5881"
            ]
          },
          "metadata": {
            "tags": []
          },
          "execution_count": 85
        }
      ]
    },
    {
      "cell_type": "code",
      "metadata": {
        "id": "bjEuosZ2zIzW",
        "outputId": "ef165916-02e3-43b1-ff6c-348aca1a334a",
        "colab": {
          "base_uri": "https://localhost:8080/",
          "height": 551
        }
      },
      "source": [
        "\n",
        "import seaborn as sns\n",
        "sns.set_palette(\"husl\")\n",
        "sns.set(rc={'image.cmap':'coolwarm'})\n",
        "%matplotlib inline\n",
        "from lifetimes.plotting import plot_frequency_recency_matrix\n",
        "\n",
        "import matplotlib.pyplot as plt\n",
        "fig = plt.figure(figsize=(12,8))\n",
        "plot_frequency_recency_matrix(bgf , T = 30 )\n"
      ],
      "execution_count": 86,
      "outputs": [
        {
          "output_type": "execute_result",
          "data": {
            "text/plain": [
              "<matplotlib.axes._subplots.AxesSubplot at 0x7ff2c16a67b8>"
            ]
          },
          "metadata": {
            "tags": []
          },
          "execution_count": 86
        },
        {
          "output_type": "display_data",
          "data": {
            "image/png": "[encoded data removed]",
            "text/plain": [
              "<Figure size 864x576 with 2 Axes>"
            ]
          },
          "metadata": {
            "tags": [],
            "needs_background": "light"
          }
        }
      ]
    },
    {
      "cell_type": "code",
      "metadata": {
        "id": "mBtJL2VJD2aM"
      },
      "source": [
        ""
      ],
      "execution_count": null,
      "outputs": []
    },
    {
      "cell_type": "code",
      "metadata": {
        "id": "S_rY0hGUD2N8",
        "outputId": "5efe34a4-dc71-4d8b-9d5b-425ee06986f7",
        "colab": {
          "base_uri": "https://localhost:8080/"
        }
      },
      "source": [
        "\n",
        "recency=(data['recency'].to_numpy())\n",
        "freq=data['frequency'].to_numpy()\n",
        "\n",
        "\n",
        "rf =zip(recency,freq)\n",
        "lst=[]\n",
        "\n",
        "for r,f in rf:\n",
        "    lst.append(bgf.conditional_probability_alive_matrix(int(data['frequency'].max()),int(data['recency'].max()))[int(r),int(f)])\n",
        "print(lst)\n",
        "\n"
      ],
      "execution_count": 87,
      "outputs": [
        {
          "output_type": "stream",
          "text": [
            "[0.5353457334997168, 0.5435452471969172, 0.7225649999243078, 0.9448046993650284, 1.0, 1.0, 0.23894906568636026, 0.7808235218828792, 1.0, 0.8815303828666402, 0.729255648722336, 0.8823599903119547, 0.9792205403989939, 0.9778432859416287, 0.9491042828128636, 0.8388685185730399, 0.990085662663124, 0.6807575852496685, 0.11725130217573532, 1.0, 1.0, 1.0, 1.0, 0.6783523210339245, 0.9585785973923084, 0.9529946747947665, 0.672309679513388, 0.8524252666860507, 0.941816873374609, 0.5804061246818366, 0.37400554908015193, 0.6288210659116421, 0.9088135696513661, 0.8895598838209067, 0.9661283273129068, 0.042843148968218836, 0.13087463142236402, 0.5935071663485875, 1.0, 0.37825350224912524, 1.0, 0.9241525377715568, 0.7242048980892242, 1.0, 0.9643594062050538, 1.0, 0.5990358838346597, 0.7163048184478034, 0.8743474634898184, 1.0, 0.6109500297755455, 1.0, 0.8960886099236204, 1.0, 1.0, 0.5692014851328414, 0.9187139769872473, 1.0, 1.0, 0.9711897755967043, 0.26291285495565814, 0.8100654004817818, 0.8467903941273365, 0.7697829819863425, 1.0, 0.8468157461875016, 0.7586199571488204, 0.5522572930197063, 0.07555171144795253, 1.0, 0.9934859130747328, 0.9255689709421722, 0.37400554908015193, 1.0, 0.8777871298128738, 0.9437442825506662, 0.6288640346953207, 0.869880992458908, 0.8883050783229844, 0.9177778562388096, 0.8425798269084648, 0.1329565754509343, 0.9193299285944402, 1.0, 0.9485655952834986, 0.4144564899866754, 0.7352854948764882, 0.7878766931939805, 0.9699102825618477, 1.0, 0.9965375965812552, 0.6674991785713376, 0.4348053505849034, 0.8264639579282503, 1.0, 1.0, 1.0, 0.09356017356242281, 0.8982243338281783, 1.0, 1.0, 1.0, 0.761096350073267, 0.6075738440431745, 0.8895551615737919, 1.0, 1.0, 0.7269181578776368, 0.9677389144488389, 0.6402390279016248, 0.4039568550031579, 0.8598344738601083, 1.0, 1.0, 0.49607419590105434, 0.8469023459341098, 0.3657049110657255, 0.2544523852026024, 0.7131709242873225, 1.0, 1.0, 0.9015775623382322, 0.31180756420092653, 1.0, 0.996350148974461, 0.983629426781308, 0.27875848373923745, 0.901598099948232, 0.8827714258361603, 0.17548022274936617, 0.9441337078473179, 1.0, 1.0, 0.8337005969092216, 0.8930443642510585, 0.003028003682941445, 0.9648642154737093, 0.9662561879475757, 1.0, 1.0, 1.0, 0.19529838709648029, 1.0, 0.9941937237012007, 1.0, 0.8337359800306748, 0.39083299339402633, 0.9079926513068026, 1.0, 1.0, 0.941816873374609, 0.40721699319774884, 1.0, 0.9580099360296586, 1.0, 0.25967373001743443, 1.0, 0.9468638021621973, 1.0, 1.0, 0.8874456290705341, 0.25985081843128033, 1.0, 0.9432069985941307, 1.0, 1.0, 1.0, 0.8898118983749288, 1.0, 0.9272807965389285, 0.27875848373923745, 0.037723871103427765, 0.9029857536083117, 0.19834984106438247, 1.0, 0.3025380513428546, 0.9904655329037831, 0.9677891625687048, 0.4760224198203747, 0.2902489053180963, 0.8587414051709894, 0.4100687168402591, 1.0, 0.9301735842377492, 0.9503951594911866, 1.0, 0.6363754603305173, 1.0, 0.5985957454210454, 0.320987855768999, 1.0, 0.8798437626852377, 0.9769956911059624, 0.990837608477326, 0.7208191832047428, 0.7193895221175959, 1.0, 1.0, 0.757897694893516, 0.38666738178823834, 0.7951323533086663, 1.0, 0.05083901288841636, 1.0, 1.0, 0.2501831063084216, 0.21588888780058468, 1.0, 1.0, 0.6133593550984302, 0.9824864481583637, 1.0, 0.2884762255498674, 0.44087343965907916, 1.0, 0.5489728201215407, 1.0, 1.0, 1.0, 1.0, 0.9597717115035553, 1.0, 8.235788711634473e-09, 1.0, 0.5639435797235773, 0.4348053505849034, 0.34058372346701227, 1.0, 0.5253265977265275, 0.8198973881267667, 0.9753773643625565, 0.8652360276566524, 1.0, 0.8713016079833547, 1.0, 0.7636039421392852, 0.9949596635503557, 0.048955957331450126, 0.6492911214645004, 0.9719905614464366, 1.0, 0.9406363391344, 0.9685844235672574, 1.0, 0.2798042107601226, 0.8940134518906518, 0.34607994195849073, 0.922641299464187, 1.0, 0.7663096766221116, 0.560981028134676, 0.9636686916477116, 0.7986930087448352, 0.9875866473909274, 0.12794036398204522, 1.0, 1.0, 0.7554121746384728, 0.07197217295623796, 1.0, 1.0, 1.0, 0.9655698056832639, 0.03219387822087129, 1.0, 1.0, 0.9743933921620707, 1.0, 0.962275494108715, 0.7828667850192783, 1.0, 1.0, 0.8668990024176896, 0.5924455833021592, 0.9398635744037195, 1.0, 0.6994612501687295, 0.5315409498265896, 0.8276463611629369, 0.08875491228100373, 0.005168741840194957, 0.17618472901874196, 0.41524063641456527, 0.39908089519202, 0.963199930614745, 0.43863340827390307, 0.8119926068509998, 0.307183697495593, 0.8051747070001559, 1.0, 0.6039783098033886, 0.9424825291058819, 0.8718733577283286, 0.16995572296012865, 1.0, 0.24872837876127457, 0.6363522029135472, 0.9429611080135823, 0.963916295026088, 0.44243318849833924, 0.9529420296252096, 0.9369578952224541, 0.9449291428321389, 1.0, 0.18351785603783588, 0.6181178742161562, 0.8643704439137196, 0.6558123441302365, 1.0, 0.9027302206086176, 0.19854127035961133, 1.0, 1.0, 1.0, 1.0, 0.8927779255364582, 0.43863340827390307, 0.9875598233848303, 0.8382337308040466, 1.0, 1.0, 0.9744830513161749, 0.33214992285358297, 0.9705132210056623, 1.0, 0.8344159290334968, 0.8763720842766923, 0.3018329665575953, 0.36109988972956447, 0.677906295952102, 0.6363754603305173, 0.9640263663763863, 0.48808006937523, 0.13602844523017, 0.9897634615222607, 0.9972920708309343, 0.9912478972942034, 0.04516693865467864, 0.001827547952818761, 1.0, 1.0, 1.0, 0.6157485786049693, 1.0, 0.6099582932695315, 1.0, 0.6203159124323517, 0.8434313510313253, 0.9710380184196667, 0.5406728093059293, 0.4506023145988578, 1.0, 1.0, 0.43284403691003864, 0.9303060127113509, 1.0, 0.9558461518689706, 0.014209663239789408, 0.7280141940110426, 1.0, 0.9833303123969489, 0.9914634961611595, 0.3286610474134849, 0.5125886949519802, 0.9869078821952425, 1.0, 0.9895608813095704, 1.0, 0.6751683287076762, 0.8999606120191395, 1.0, 0.49607419590105434, 0.044229122466805784, 0.6848427596336907, 0.04687013083057371, 0.18248734001119157, 0.9012226248699389, 0.4493295085418745, 0.9285154904035735, 0.9667730617474674, 0.5898101458301562, 1.0, 1.0, 0.9310630231337956, 1.0, 0.8909433104772938, 0.11779616225943274, 0.34795635975788686, 1.0, 1.0, 1.0, 0.7225089407523086, 1.0, 0.2646631931063045, 1.0, 1.0, 0.8970340523411778, 0.6074032652806908, 1.0, 0.9946459817179475, 0.9988452184717316, 0.8884251141598208, 1.0, 1.0, 1.0, 0.5451670689757733, 0.21829886150463396, 0.38372364344684096, 1.0, 0.0048633832026785465, 0.959739248472957, 0.9780015102779156, 1.0, 0.2790039526137592, 0.33007500546339397, 0.8069704607286925, 1.0, 0.050107294541711096, 0.4453083177510896, 1.0, 1.0, 1.0, 0.8195183024574632, 1.0, 1.0, 1.0, 1.0, 0.6099582932695315, 1.0, 1.0, 0.9301735842377492, 0.9851558499214361, 1.0, 0.7978602382007826, 0.7625088823807152, 0.012636083641087582, 0.9305286008586793, 0.8562970059622499, 1.0, 0.8482648456651434, 0.04687013083057371, 0.9546581959346198, 0.7950010464360159, 0.3860930735308101, 0.842474659190965, 0.19854127035961133, 0.44243318849833924, 1.0, 1.0, 0.4926909426271311, 0.8551415642634848, 1.0, 0.7829369266967419, 1.0, 0.5557567674712833, 1.0, 0.4031629655260009, 0.6743338286647758, 0.24975642195883369, 1.0, 0.8319940676459923, 0.9134283679910946, 0.696729914760794, 0.1285942348441221, 1.0, 0.5974911071354663, 1.0, 0.4646401709662001, 0.5611187107516745, 0.4884288126144797, 1.0, 1.0, 0.9895458946078319, 0.8978940315121337, 0.32554330093967726, 0.9074404442613039, 1.0, 0.6555115938009235, 0.9884312771866977, 0.11513217914127394, 0.017266743508993924, 0.649099612706171, 0.06695666438177485, 0.7775954930474211, 0.5158122063215955, 1.0, 1.0, 2.1278186446902064e-10, 0.978792623155948, 0.8975620580971669, 0.8918289022532658, 0.9946459817179475, 0.9022169082197413, 0.0011971340439292416, 0.9663092979199642, 0.9404971849887461, 0.9426465248685902, 0.011383717881689705, 1.0, 0.8863761524750948, 1.0, 0.933774515271372, 1.0, 0.8923739970390089, 1.0, 0.9088866127306726, 0.9688735769634957, 0.09241944298262217, 0.0012115529972715384, 0.8575320068511487, 1.0, 1.0, 1.0, 1.0, 0.5284465263223949, 0.9193299285944402, 0.8883050783229844, 0.8874456290705341, 0.6598575087244654, 0.984326832885885, 0.018220714465193324, 1.0, 0.7173862703612814, 0.8467799482358339, 0.19586608920452558, 0.878237858667568, 0.7383033701570239, 0.9360309188631303, 0.9317471765683037, 0.9807640473751537, 0.3824741684027126, 0.1371742065051149, 0.7686337592614889, 1.0, 0.356744803687595, 0.5125886949519802, 1.0, 0.49607419590105434, 0.7131709242873225, 1.0, 0.4270643420101925, 0.15627937930327188, 0.8855900871824124, 0.5944654558415938, 1.0, 1.0, 1.0, 0.43863340827390307, 0.7636039421392852, 0.7720561826967823, 1.0, 1.0, 2.861856130905478e-07, 1.0, 1.0, 0.7163048184478034, 0.6251079222751952, 0.5190095927727552, 0.6085204280627051, 0.8652115969239236, 0.9566053141184283, 0.9368415159317176, 1.0, 0.003199113066621287, 0.9913514421287002, 1.0, 0.8808103878071813, 0.9159206079571794, 0.954015692215536, 1.0, 0.041463601363659716, 0.9657322135450226, 0.9961932803721755, 1.0, 0.9278040558200676, 0.9638478731493768, 0.9472714390783079, 0.7186104566512339, 1.0, 0.7591511750646907, 1.0, 0.5935071663485875, 0.9921995200796812, 0.004824451288252213, 0.9807902194399889, 1.0, 0.9246264296741726, 0.17932706667309536, 0.9861527009183263, 1.0, 0.9418258265172954, 0.3949708703244629, 1.0, 0.6900790041334712, 0.449948034006385, 0.8659200431275558, 0.8875396470376763, 1.0, 0.16491930404146787, 0.9861527009183263, 0.987486613466038, 0.07426026482054356, 0.9826757198088526, 0.21829886150463396, 0.927418834467019, 1.0, 0.007866290614334973, 0.8616623559084423, 0.9877262606027977, 0.7566596099592507, 1.0, 0.5580863676535383, 1.0, 0.6251079222751952, 0.74884876162488, 1.0, 1.0, 1.0, 0.08083693196313593, 1.0, 1.0, 0.9789797058526912, 0.9909093684351803, 0.5580863676535383, 1.0, 0.8875396470376763, 0.5431473071567526, 0.7854404371702899, 0.8467799482358339, 0.6780133298085336, 1.0, 0.6758123591205893, 0.6204674151604679, 0.38269172115387234, 1.0, 1.0, 0.37400554908015193, 0.13536120447248523, 0.9578155831920588, 1.0, 0.9941624526671125, 0.9443948227181321, 0.8555330688935028, 1.0, 0.9646346226235473, 0.7420077460806735, 1.0, 1.0, 0.9412970108093961, 0.5125949658130777, 0.1429338726611977, 0.9571914732842545, 0.9958126530864722, 0.36685995113602404, 0.34260198004170705, 0.9907739825944102, 0.6534316843703079, 1.0, 1.0, 0.8788517123788034, 1.0, 0.8398561484374228, 1.0, 0.9130752390431003, 0.9936266054425269, 0.3311935504591565, 0.8942950869304542, 0.4610091840405168, 1.0, 0.8855431563627815, 0.5925163703191609, 0.6035996941645843, 0.9922285747254018, 1.0, 0.9110163617512625, 0.6385731055081342, 1.0, 0.9867417275235452, 0.7171223470704948, 0.3523635335970487, 0.9000828508740636, 0.8831806374000319, 0.08810865606301681, 0.7433388439772105, 0.5346100291781214, 0.8399900450956242, 0.8492322391524737, 1.0, 0.9306295642228584, 0.6402390279016248, 0.20373850945389876, 0.36109988972956447, 0.20669813653981667, 0.4277472735049011, 1.0, 0.27046077651745376, 0.8705495022360699, 0.8934972880862366, 0.9832270520658857, 0.9746128070364436, 0.7602933688979928, 0.9894628408179382, 0.4270643420101925, 0.811196964857736, 1.0, 0.8434313510313253, 1.0, 0.3146911883958402, 0.4043888371499996, 0.29028919188754315, 1.0, 1.0, 1.0, 1.0, 0.9435446696867642, 0.1450627275918863, 0.28374941025932326, 0.8539896584461192, 0.8607209224403568, 0.04139698792954214, 0.9344157342443454, 1.0, 1.0, 0.3654285322819586, 0.4460463525738662, 1.0, 1.0, 0.9880935376250195, 0.9975704190645452, 0.7545722047921969, 0.8720668024922602, 0.9924838689357484, 0.8620601129262313, 0.8908668412772509, 1.0, 0.9469916554033947, 1.0, 1.0, 1.0, 0.9986411053754257, 0.05410957197442654, 0.9533407819864747, 0.9220551328160793, 5.041853188485768e-06, 0.04573882593096072, 1.0, 1.0, 0.9883184567725544, 1.1117040156503313e-06, 1.0, 0.8852834149800153, 0.1969697647638256, 0.9355808791870353, 0.9690449072257981, 1.0, 0.8437594766035122, 0.9602630552156083, 0.5060627082964592, 0.9215692387866267, 0.9855588486418311, 1.0, 1.0, 0.5434664267773662, 1.0, 0.9275496463902001, 1.0, 0.8625358902394776, 0.6143024342189739, 1.0, 1.0, 1.0, 0.7034645672685701, 0.4858430503231811, 0.6810407434427685, 1.0, 0.9628874967488055, 1.0, 1.0, 0.5495810318668147, 1.0, 0.966754879680217, 1.0, 0.5821750935770088, 0.5133412607426758, 0.8529048611668093, 0.9768461499347681, 0.32368836183152777, 0.5444849377331183, 0.7023479939347596, 0.7633209087577152, 0.9591348106248775, 1.0, 1.0, 0.6085204280627051, 0.9268659193824605, 1.0, 0.0843622350555859, 0.9870383917793625, 0.631347928299122, 0.7034645672685701, 0.8262093596798008, 0.18357168549155717, 1.0, 0.8300246379794308, 0.8367600126642771, 0.7803084814068681, 0.9425778823284515, 0.5334595885409172, 0.12180321789980791, 1.0, 0.7615567130603393, 0.9129698371294731, 1.0, 0.6060703747757924, 0.8562970059622499, 0.6770466588405302, 0.7416618034549092, 0.9093598859639616, 0.9239463235107886, 1.0, 0.7627726133193218, 1.0, 0.9878020362829193, 0.9877262606027977, 0.7147440787595943, 1.0, 0.8867660497050323, 0.9850375271306794, 1.0, 1.0, 1.0, 1.0, 0.9415237293138008, 0.04778271494022726, 1.0, 0.2728598038492319, 0.8481324907428275, 1.0, 0.6035996941645843, 0.5873402705021044, 1.0, 0.9504827246818188, 1.0, 0.8475193159837198, 1.0, 0.9547544476565111, 1.0, 0.6291533696371892, 0.9968617114430876, 0.12180321789980791, 0.20967461069896673, 0.3947946016047591, 0.9858807938854333, 1.0, 1.0, 0.028962182205580094, 0.9519938204941315, 0.9776274619243477, 0.9696186902543183, 1.0, 0.9864507451490077, 0.4309489977643759, 0.7942607192860643, 0.07549275263505456, 1.0, 1.0, 0.9317471765683037, 1.0, 1.0, 0.9030470842198681, 0.6534552581392982, 1.0, 0.8468157461875016, 0.5883325356658019, 0.9899692221866475, 0.6555115938009235, 1.0, 1.0, 1.0, 0.7885051487050764, 0.07872493228308747, 0.9574107249457199, 0.49607419590105434, 1.0, 0.5639435797235773, 1.0, 0.9406462346374933, 0.35103222514502536, 0.9239046924124479, 1.0, 0.9314842193022282, 0.8945263645697465, 1.0, 0.8927324499612864, 0.7345755022625742, 0.04687013083057371, 0.5125886949519802, 0.9375643919122881, 0.4309489977643759, 1.0, 0.8069704607286925, 0.9369578952224541, 1.0, 0.9252619476006264, 1.0, 1.0, 0.7743840909968753, 0.9649579692380159, 1.0, 0.32554330093967726, 0.8309620944355566, 1.6461852954810683e-06, 1.0, 0.2793133800850159, 0.9893838611844658, 0.9947883976357091, 0.010762699416948641, 0.9946254259514759, 1.0, 1.0, 0.4892806012725246, 1.0, 1.0, 0.8218796205944832, 0.9462592887177318, 0.8950285034024387, 0.944502580297232, 1.0, 0.9080449638062391, 1.0, 0.8311029008149526, 0.9477172542320987, 1.0, 0.9528844626264943, 1.0, 0.3146911883958402, 0.28930493064236185, 1.0, 1.0, 0.74884876162488, 0.8962329072277825, 0.3106237763863062, 0.9080894397404878, 0.4623851446814143, 0.8077336890539212, 0.9179173863479031, 1.0, 0.7356913160843058, 0.8818618090063259, 0.36908500061984284, 0.8886847675240698, 1.0, 0.7263537437518973, 0.9454120909007508, 1.0, 0.9142132256866806, 0.9456989909889326, 0.6857031855262948, 0.7457353911746195, 0.7034645672685701, 1.0, 0.987045684152634, 0.21497257402702893, 1.0, 0.9402026128654989, 0.9690013982331073, 0.10730469385300287, 0.9955439232006774, 0.7933541101774352, 0.31180756420092653, 1.0, 0.016421110416459817, 0.7620117729970926, 1.0, 1.0, 0.979109938972327, 1.0, 0.9786073193904535, 0.9348874750100593, 1.0, 1.0, 0.7139056005277691, 0.9428136874404432, 1.0, 1.0, 0.9366022051659495, 1.0, 0.9499731353014093, 1.0, 1.0, 0.7870735636822452, 1.0, 0.06695666438177485, 1.0, 1.0, 1.0, 0.5060627082964592, 1.0, 1.0, 1.0, 1.0, 1.0, 0.8091351846694214, 1.0, 0.8759102890879085, 0.6159680499609239, 0.7018011253832432, 0.6876952426455797, 0.8738267282989938, 1.0, 0.757897694893516, 1.0, 1.0, 0.2952025176246443, 1.0, 1.0, 0.6694401341000502, 1.0, 0.9731315138865784, 0.4031629655260009, 0.8827714258361603, 0.4310447697219157, 0.8218796205944832, 0.34607994195849073, 1.0, 0.9861775186368587, 0.8620177833723262, 1.0, 0.6498453047803533, 1.0, 0.3523635335970487, 1.0, 0.9187139769872473, 0.664063138032479, 1.0, 1.0, 1.0, 0.23716882461548747, 0.9942400374744256, 0.6938835226748039, 0.8499495471358068, 0.9505624206396548, 0.8272105906600546, 0.1607582950030972, 1.0, 0.877714392893866, 0.9655026998278693, 0.788089331982396, 0.9680115094993296, 0.7808235218828792, 0.25215552273215397, 0.9979032250598242, 0.9838523577769327, 1.0, 1.0, 0.028393610325032497, 0.853607300082263, 0.7291962006482706, 0.9639589598225162, 0.9693564272624262, 0.991744015910967, 1.0, 0.3435235840784731, 0.9605083891541667, 1.0, 1.0, 1.0, 0.8818451666037909, 0.9937257364066431, 0.9784521791724037, 0.9256374934243954, 0.04687013083057371, 0.5221810053198466, 0.9464984812788044, 0.4270643420101925, 0.38934264002917096, 0.9469916554033947, 0.7894348673161968, 1.0, 0.021083782880194638, 1.0, 0.7526450124344682, 0.08769462869569902, 0.8759102890879085, 0.21165899016014, 0.16227346030056128, 0.678909696612717, 1.0, 0.002565467414175075, 0.054431496393894926, 0.9873909405735777, 1.0, 0.8770735133679101, 0.9346672447573079, 0.6469058074206271, 0.6957665060508317, 1.0, 0.9789137339638643, 0.0792777780089441, 0.45735020990641645, 0.014351398407165742, 0.4892806012725246, 0.33906553084344093, 0.9332100689606555, 0.8836481283476614, 0.9386787399871139, 0.6932804108621142, 0.8830720679912665, 0.3654285322819586, 0.9979763738502633, 1.0, 0.320987855768999, 0.02661840708569998, 0.5909306964649266, 0.972550425273639, 0.7340844644779435, 0.12180321789980791, 0.8772007829819368, 0.9668786538042491, 0.43284403691003864, 0.6363578104520394, 0.8323030418722426, 0.9804759800454808, 0.8972284022649173, 1.0, 0.8776199898644965, 0.8091907884440064, 0.23172148111653004, 0.971540601252758, 0.9682427870055398, 0.36908500061984284, 1.0, 0.9721264269068994, 0.23510411842874263, 0.3025380513428546, 1.0, 0.9878020362829193, 0.8798437626852377, 0.6911094533415076, 1.0, 0.3896091452272146, 0.8192687445906867, 0.7683400317465646, 0.9251211989331801, 0.950146012972312, 1.0, 0.2722413334974324, 0.08287359627549266, 0.21567686186181922, 0.898552976269804, 0.83554476212362, 0.9865556008367006, 1.0, 0.7357339107272036, 0.9331181853840336, 0.9549200866381039, 0.9401470623328689, 0.8399445691810566, 0.38060583154773214, 1.0, 0.8859841699242111, 0.9736783563644714, 0.04912435949041451, 1.0, 0.7354362554474579, 0.157538651436241, 0.8095832357180061, 1.0, 0.9696186902543183, 0.6674991785713376, 1.0, 0.9245763985379213, 1.0, 0.5722780749926618, 0.05984332291006555, 1.0, 0.0005319561764879204, 0.3654285322819586, 0.9557621984406696, 0.872591930041997, 0.7627582577184638, 0.698433927514494, 0.0028871968649152382, 0.4718184921485044, 0.9549272126962831, 0.7163048184478034, 0.8122173514833336, 1.0, 0.8622272085984639, 0.37423647692563533, 1.0, 0.8789864819511902, 0.8936795800061733, 1.0, 0.0019095011966775428, 0.9535015670728396, 0.2742405812053037, 0.9853249702960798, 0.04436629480965914, 0.38666738178823834, 1.0, 0.48577610677510263, 0.9561948434794383, 0.48237817301388347, 0.5889527500661474, 0.8738267282989938, 0.953082404675437, 0.356490765550056, 1.0, 0.8551415642634848, 1.0, 0.9923565147425485, 1.0, 0.9491196449904249, 1.0, 0.0992298114507517, 0.9930483995955526, 0.9841060344226013, 1.0, 0.96525589970389, 1.0, 0.6227973739360909, 0.8043033141108172, 0.9295065954216503, 0.8578095408033558, 0.6357228967010191, 1.0, 0.9496472799940888, 0.018640299735467113, 0.9807858544160488, 0.9921192425971588, 0.971805632257466, 0.5006929079787052, 0.7668027384193276, 0.9088135696513661, 0.4144564899866754, 0.2790039526137592, 0.2550238161911014, 0.9537284155644921, 0.9951948257089239, 0.867421648962302, 0.9177251248781159, 0.9152302349888951, 1.0, 1.0, 0.757897694893516, 0.7683400317465646, 0.8851938892492957, 1.0, 1.0, 0.982893820981134, 0.9673118210633693, 1.0, 0.6357228967010191, 0.9119884456694869, 0.37423647692563533, 0.6615795522620816, 0.7312813741509747, 1.0, 0.6751683287076762, 1.0, 1.0, 1.0, 0.9847983239119903, 1.0, 1.0, 0.6694401341000502, 0.940491122131777, 1.0, 0.9437127953022888, 0.19249754929480667, 0.016882616323155734, 0.9393177123743119, 0.9718957671175982, 0.966954543948986, 0.379063388418642, 0.5499276414474408, 1.0, 0.8851938892492957, 1.0, 0.09395928103202425, 0.7940344997372869, 0.9834197968494418, 0.0843622350555859, 1.0, 1.0, 0.9475173053770829, 0.40277457459417504, 0.2929166103660595, 0.9743174709384101, 0.8391148976590422, 0.9555230813598757, 1.0, 0.982129583899699, 0.8625954188881361, 0.8728919728680289, 0.7663096766221116, 0.9723046504488351, 0.4996521405894847, 1.0, 1.0, 0.9356579747220761, 0.8781455829197311, 0.373745305563155, 0.9675844383404351, 1.0, 0.9947906766716593, 0.8484203570251516, 1.0, 1.0, 0.8950360503220814, 0.31180756420092653, 1.0, 0.6807575852496685, 0.5582701961859422, 0.6471830028943796, 1.0, 0.7049913403925849, 0.9907083782858664, 0.20373850945389876, 1.0, 1.0, 0.7586199571488204, 0.0013309477489107159, 0.6598575087244654, 1.0, 1.0, 0.8923739970390089, 1.0, 1.0, 0.7866477360496332, 0.2465249056731249, 0.9975525409496768, 0.7165994422027792, 0.7103766167064463, 1.0, 0.5722780749926618, 0.8972284022649173, 0.9648852804615683, 1.0, 1.0, 0.6035996941645843, 3.438667634440511e-05, 0.9578112904967817, 0.868408377392121, 0.6159680499609239, 1.0, 0.983193603229443, 0.9458157523431334, 0.848159833673922, 0.8859841699242111, 0.5526969143253341, 1.0, 0.006065066714746412, 1.0, 0.7254204485695425, 0.45735020990641645, 0.869527731069694, 0.20373850945389876, 0.8839924523133691, 0.9021960924627808, 0.7832131333244187, 1.0, 0.06668453396528944, 0.5027599464795819, 0.9782957340943935, 0.9840487395662236, 0.7173862703612814, 0.3654285322819586, 0.3697304920316006, 1.0, 0.8688975040577427, 0.2902489053180963, 0.9851031359957837, 0.9819691976453842, 1.0, 1.0, 0.9266354898359014, 0.9030470842198681, 0.4665823126292364, 0.024771940741727283, 0.1305808866641417, 0.7731803152439098, 0.8934438147448385, 1.0, 0.4646401709662001, 0.9668321892575136, 0.8842836359276899, 1.0, 0.6470682267721916, 0.8867302772626996, 0.7737530027031586, 4.540959938286192e-05, 0.9922753785437848, 1.0, 0.9913472675836411, 0.41524063641456527, 0.928810373385555, 0.9552263143663289, 0.8897215842841231, 0.8600405768412697, 0.9436011563546712, 1.0, 1.0, 0.9978619323840553, 0.2646631931063045, 0.9913609166102018, 0.7065885729574476, 0.9443948227181321, 0.9593616455689694, 0.8323030418722426, 1.0, 1.0, 1.0, 0.997498694150175, 0.8956262334804446, 1.0, 0.8788517123788034, 0.913821973273655, 0.9893714024104149, 0.35894441120719384, 0.19009812981012195, 0.09726425159118932, 0.6397617895758376, 0.9592335809336925, 1.0, 1.0, 1.0, 0.4270643420101925, 0.8476029408895915, 1.0, 1.0, 0.560981028134676, 1.0, 0.6424755634322085, 0.997032424598718, 0.8604406490140054, 0.8940134518906518, 1.0, 0.4022748768397682, 0.8532101053506915, 0.5597650062932075, 0.5495810318668147, 1.0, 0.8570558168986765, 0.02230670169192568, 0.49455245937129605, 0.37400554908015193, 0.16380401808668862, 0.18566508041423865, 0.980288594610646, 0.8980277299242463, 0.9668321892575136, 0.4270643420101925, 0.867421648962302, 1.0, 0.8024217628028963, 0.7388715861018754, 0.933774515271372, 0.4031629655260009, 0.980952811978135, 0.9315691040952949, 0.6319248098090662, 1.0, 0.26248010582571935, 1.0, 1.0, 1.0, 0.9896637219262349, 0.8998511685479086, 0.8187206558376218, 0.5935071663485875, 0.9589800928898267, 0.3164091182862471, 0.6251079222751952, 0.9411407298434354, 1.0, 1.0, 1.0, 0.8925580975042147, 1.0, 1.0, 1.0, 0.8155402155876462, 1.0, 0.9650415334194749, 0.9439901401114714, 1.0, 0.9421998162658263, 1.0, 1.0, 0.9741651143769868, 0.5069354321997883, 0.4790141311057571, 0.15499672853225344, 1.0, 0.7797553059185549, 0.07713306807538681, 0.6133593550984302, 0.2985945503529966, 0.7748174485174657, 1.0, 0.5069354321997883, 1.0, 0.5847651683084799, 0.38666738178823834, 0.9045033899154398, 0.974560164031995, 0.9849921165104042, 0.6122702213731506, 0.8805645006121628, 0.31278868791849057, 0.9750325457256906, 1.0, 0.9502187106738681, 0.9380104036023903, 1.0, 0.7353598431052989, 0.8383919709771085, 0.008571589202298046, 0.9887668636669307, 0.7537092075310713, 0.2978711890408351, 1.0, 1.0, 0.8672959274880797, 0.9501171621795508, 0.9910744751341052, 0.6265171694524058, 0.927260474738612, 1.0, 0.8481324907428275, 0.9792150740123734, 1.0, 0.954491067913881, 0.5750101262978614, 0.8286892989957977, 0.809473060485838, 0.9550470801117905, 0.02297294297190074, 1.0, 0.8279523573221614, 1.0, 1.0, 1.0, 0.39607879415024594, 0.6060703747757924, 0.8009497743454841, 1.0, 1.0, 0.36109988972956447, 1.0, 0.4460463525738662, 0.696729914760794, 0.7808235218828792, 0.9071795168140264, 0.18351785603783588, 0.7282561564757777, 0.36685995113602404, 1.0, 0.002365890372154734, 0.1232042351311557, 1.0, 0.8855900871824124, 0.16156179143563715, 0.8550654243106469, 0.5553978608844453, 0.9661283273129068, 1.0, 0.41921014246468746, 1.0, 0.16380401808668862, 0.6919877107844091, 0.8087182637152281, 1.0, 0.9449291428321389, 0.1723783629387214, 0.9859204756840573, 1.0, 1.0, 1.0, 0.5722780749926618, 0.969448036319093, 1.0, 0.8155402155876462, 0.005368563347388988, 0.5192859828805969, 0.373745305563155, 0.7309112625951104, 0.9887668636669307, 0.5253265977265275, 0.664063138032479, 0.43870585961311437, 0.7031714927802263, 0.7045164027259531, 0.7932498785329556, 0.4610091840405168, 1.0, 0.8870406511526864, 0.0001794166964372135, 0.4348053505849034, 0.6763515349793515, 1.0, 0.8234279300421615, 1.0, 0.5915512726943265, 0.4646401709662001, 0.9721607022410123, 0.6770466588405302, 1.0, 0.9311454642514891, 0.9648852804615683, 0.8956262334804446, 1.0, 0.38666738178823834, 0.9710310972032216, 0.9521267658089916, 1.0, 0.9686782923225783, 0.9865086761082622, 0.985360389700677, 0.9615438378962913, 1.0, 0.3435235840784731, 0.9507415420030645, 0.9037725373021472, 1.0, 0.06263016593945492, 0.8970430011884964, 0.9840788625054182, 0.027664039537320734, 0.9868756493477112, 0.307183697495593, 0.38666738178823834, 0.4144564899866754, 0.9938452334285153, 0.9217830918520336, 0.710321864026395, 0.34795635975788686, 1.0, 0.39055456774372144, 0.23430916012404027, 0.9079641529290559, 1.0, 1.0, 0.7420077460806735, 1.0, 0.6694401341000502, 1.0, 0.9139479623035839, 0.9239463235107886, 1.0, 0.8320219309418364, 1.0, 1.0, 0.2832824669164125, 0.9233598273841195, 0.7455548446408921, 0.8308715787624827, 0.8171092769420729, 0.7496588368197193, 0.0009071179498653492, 0.7178532607939814, 1.0, 1.0, 0.5611187107516745, 0.9886803028671406, 0.9957022613100517, 0.9910816748734851, 1.0, 0.684408482071842, 0.9310384210651348, 1.0, 0.9314842193022282, 0.9518031491754748, 0.9327252262745481, 0.9831319064067117, 1.0, 1.0, 0.8129847986678449, 0.9718151935222595, 0.8916808183717824, 1.0, 0.9749528178630299, 0.5495810318668147, 0.9393802564060724, 0.5436668416224821, 0.9966265998215714, 0.8886847675240698, 0.7983722350432011, 1.0, 0.9527732756348324, 1.1810539050965147e-06, 0.9898777678459993, 0.5221810053198466, 1.0, 0.8467780751428347, 0.6842748596563789, 0.9920435798847398, 0.13349734461234744, 0.9689284865357802, 0.1232042351311557, 1.0, 0.3949708703244629, 0.791310211740374, 0.449948034006385, 1.0, 0.14025735143391127, 1.0, 1.0, 1.0, 0.9193299285944402, 1.0, 0.5957842492419682, 0.8456603367998536, 0.9353964915349747, 0.9759551459169649, 0.6400570431728112, 0.37400554908015193, 0.9865556008367006, 1.0, 0.9949731323162133, 1.0, 0.9684343851308327, 0.09218507655061743, 1.0, 1.0, 0.43863340827390307, 0.9911187184360686, 1.0, 1.0, 1.0, 3.604295911635626e-10, 0.7312546890099679, 1.0, 0.9900613628964219, 1.0, 0.7986930087448352, 0.0033484756799144425, 1.0, 0.8030162860674445, 0.891391276606204, 1.0, 0.9787173015860329, 0.9722482909360656, 1.0, 0.9961958195753307, 0.4944073169545006, 0.9601237202787773, 0.991504865198789, 0.3828560736823516, 0.7326863735826139, 0.030492251397205523, 1.0, 1.0, 0.8772432910169298, 0.036310714085407696, 0.8252389269602387, 1.0, 1.0, 0.20179925037457622, 0.899000206660743, 0.4100687168402591, 0.9212216682063336, 0.9329378659395068, 0.8532139539671676, 1.0, 0.0003286066802311516, 0.9504072518271884, 0.07637570710006922, 0.9950574123719026, 0.6441508507092149, 1.0, 0.5027599464795819, 0.9152302349888951, 0.37400554908015193, 0.1127958908279521, 0.8391911413629333, 1.0, 1.0, 0.9297027479927485, 0.9798031875456654, 0.928299546474643, 0.7541553010215736, 1.0, 0.868408377392121, 0.4348053505849034, 0.9458385015560914, 1.0, 0.8337652243662014, 1.0, 0.99647378621301, 0.960998277399357, 1.0, 0.9907949633334093, 0.0010151452575537054, 0.8801700946338661, 0.6534552581392982, 0.7477493325421394, 0.293183704966956, 1.0, 0.6575509842198001, 0.9664822912303458, 0.7001242880645796, 0.31180756420092653, 0.07003470111418261, 0.9458226284790817, 0.10988610072760122, 0.9779823192431958, 1.0, 0.9249995806965566, 0.07538796664881506, 0.9125112381478219, 0.019960263322013304, 0.3025380513428546, 0.03215683765705516, 0.7131709242873225, 0.24975642195883369, 0.5284465263223949, 1.0, 1.0, 0.2694331275838745, 1.0, 0.32500890732001864, 0.02823676241900158, 1.0, 0.9913472675836411, 1.0, 0.8232777708792702, 0.9849409863165972, 0.8410487886392801, 1.0, 1.0, 0.9793405431244441, 0.7146578497922719, 1.0, 0.8342214923417731, 0.7067987645117291, 1.0, 0.975453403172737, 0.9602951597490755, 0.5184972209542842, 1.0, 0.9151146554883652, 0.9773153057986169, 0.8915049930489733, 0.9773913530736763, 0.8827714258361603, 1.0, 0.3720394555577869, 0.9860009726738641, 0.8107151032636588, 0.20774731034191457, 1.0, 0.9205203943332504, 0.7338841377910504, 0.840554295931578, 1.0, 0.5443447017406823, 0.5791566042045535, 0.5973656005454081, 0.7545722047921969, 0.9655418027876276, 0.34260198004170705, 0.7695473382111081, 0.6407525183199422, 0.6107251419838334, 0.285962647203161, 0.948018678506701, 0.01820822353193876, 0.914218316741417, 0.8306565987037791, 0.7940344997372869, 0.8836215924187902, 0.9824230862129145, 0.8744693392712908, 0.927418834467019, 0.5883325356658019, 0.14422740518969335, 1.0, 0.43863340827390307, 0.4310447697219157, 0.46297972079707583, 0.6098441505943016, 0.08281747289953408, 0.5639435797235773, 0.006831195582119345, 1.0, 0.6751683287076762, 1.0, 1.0, 0.8753304483625309, 0.9310384210651348, 0.9932475847430546, 1.0, 0.5495810318668147, 0.37400554908015193, 0.035260859359895355, 1.0, 0.835269520645558, 0.9186982005057944, 1.0, 0.6060703747757924, 1.0, 1.0, 1.0, 0.757897694893516, 0.9215350561479824, 0.3758432053862625, 1.0, 0.2532392052224634, 0.9348874750100593, 0.9833204309278918, 1.0, 0.7268921068204064, 1.0, 1.0, 0.9470373978178885, 0.11951525058825815, 0.9538142034996168, 0.9831572435377315, 0.9798029056222519, 0.7651346572751793, 1.0, 0.3286321301331881, 0.9847122577571551, 0.9911858275497211, 0.952213052672714, 0.9855679478681676, 1.0, 0.9738587884533126, 0.7147440787595943, 0.5836497575370057, 0.9933668721532338, 0.994318811137145, 1.0, 0.9376619753230148, 0.799802409718031, 0.3697304920316006, 0.8408592188808959, 0.18885981711390004, 0.9614346353582656, 0.9667730617474674, 1.0, 0.8392960018713861, 1.0, 0.8688975040577427, 0.5150310599624949, 0.868408377392121, 0.9412970108093961, 0.43284403691003864, 1.0, 1.0, 1.0, 0.8905599901552627, 0.804170648693902, 0.5038196388863305, 0.6635690385265517, 0.8462815497626083, 1.0, 0.7790157686818383, 0.9193299285944402, 1.0, 0.9868756493477112, 1.0, 0.2978711890408351, 0.7832131333244187, 1.0, 0.8385475616034673, 0.5582701961859422, 0.5919216848791239, 0.8622272085984639, 0.7603461607616862, 1.0, 0.9829370711539797, 0.82603300500372, 0.6159680499609239, 0.14937717190400868, 1.0, 0.8180352860825443, 1.0, 1.0, 1.0, 0.49759400269156645, 1.0, 0.36685995113602404, 0.6534448404481685, 0.36109988972956447, 0.7388715861018754, 0.2550238161911014, 1.0, 0.41921014246468746, 0.20179925037457622, 0.18566508041423865, 1.0, 1.0, 0.45735020990641645, 0.0019036429311650102, 0.8481324907428275, 1.0, 0.0016960940757049679, 1.0, 0.33458254750009014, 0.2993979914408143, 1.0, 0.7193895221175959, 1.0, 1.0, 0.8476029408895915, 1.0, 0.5315409498265896, 1.0, 0.8769257234229547, 1.0, 0.898552976269804, 0.8859841699242111, 0.39763322920785105, 1.0, 0.05813536524829497, 1.0, 0.23172148111653004, 0.9778538444765889, 0.9212102756181578, 0.29782094510259743, 1.0, 1.0, 1.0, 1.0, 0.8307326065479206, 0.972929568932688, 3.625248383281766e-07, 0.6674991785713376, 0.10385048846798109, 0.9179999948159694, 0.9922587769499294, 1.0, 0.8968600862102211, 0.9810197928654604, 1.0, 1.0, 0.050107294541711096, 0.9882112729522462, 0.8298348449598575, 0.1996127194384829, 1.0, 0.867162283739736, 0.7430035222493896, 0.11022028692789052, 0.9926412078078989, 0.33906553084344093, 1.0, 0.3286610474134849, 0.5369010143317854, 0.9507054187852386, 0.9637855395631199, 0.9918208540661453, 0.9157550427393114, 1.0, 0.7951323533086663, 0.9393710253801677, 0.9477172542320987, 0.6075738440431745, 1.0, 0.6011082099595375, 0.8276463611629369, 0.0034119562420481925, 1.0, 0.0009510541131878875, 1.0, 0.9146159419922698, 0.27271358352379993, 1.0, 0.7333301299193432, 0.9900081406240406, 0.981750287219209, 0.873311049160551, 0.6303989775666596, 1.0, 1.0, 0.7689172657525901, 0.7614263307071039, 0.8823599903119547, 0.6936219985986243, 0.7273407306027743, 0.9550470801117905, 0.9224539462614632, 1.0, 0.7091245956400407, 0.04436629480965914, 0.0018643604319109272, 1.0, 1.0, 0.9239957761584358, 0.9523559827091159, 0.8109773769801485, 0.18579866434460654, 0.8452038637168283, 0.4926909426271311, 0.5848482651947483, 0.984326832885885, 0.9886003980996754, 1.0, 0.6000661947555365, 0.8897910352609701, 0.6950121196535997, 0.9327345210010473, 0.7850200919785125, 0.9311454642514891, 0.7602933688979928, 1.0, 0.9771839888861235, 0.7898658998626384, 0.9066108562326002, 0.9721197991000622, 0.9139479623035839, 0.5711688983430916, 0.9146159419922698, 0.96711343972498, 1.0, 0.4309489977643759, 0.5892324179291049, 1.0, 0.8492697643063628, 0.34795635975788686, 0.7731803152439098, 0.029726255880272043, 0.9611727954002554, 0.9655026998278693, 0.951335710930095, 0.3396239647196102, 0.8859841699242111, 0.7830261440500877, 0.7603255317293895, 0.3146911883958402, 0.6862117707563458, 0.07280319677967145, 0.05744271360277358, 0.5069354321997883, 0.9891236483640854, 0.9410667663913722, 0.9846092734227262, 0.9255689709421722, 1.0, 0.49943048710106197, 0.05083901288841636, 0.9150740311160311, 0.8509287502306218, 0.9740183785934848, 0.845169154524337, 1.0, 0.6296714705417735, 1.0, 0.44243318849833924, 0.8493475762267775, 1.0, 0.9722042487414457, 1.0, 0.47239048535998324, 0.9879710533459183, 1.0, 0.998577997318781, 1.0, 0.145848860899867, 0.9691103614927171, 1.0, 0.5353506467608172, 0.9169150637074779, 0.863057836370759, 0.9383331241095363, 1.0, 0.9366700606335133, 0.9589094361719841, 0.37825350224912524, 0.988368299049557, 0.9611031642422084, 1.0, 0.9893819088391206, 0.9032295083191221, 1.0, 0.9891201728451804, 2.5411242351521024e-05, 0.945388280886767, 0.8687030712162613, 0.9025112879923364, 0.9689732809326247, 0.9009091236956236, 0.8514307113458429, 0.023301302111952374, 0.971249447094513, 0.2832824669164125, 1.0, 0.23172148111653004, 1.0, 0.9958416460454911, 0.34260198004170705, 0.961136025946559, 0.5667449789846399, 0.8563350071372174, 0.7537005031425947, 0.8661126538879149, 0.5406728093059293, 1.0, 0.9532408442717536, 0.7298118208842345, 1.0, 0.951880325945555, 0.7818590472572821, 1.0, 1.0, 1.0, 0.9824956915840143, 1.0, 1.0, 1.0, 0.9302424680902208, 1.0, 0.9557987639632586, 0.8198973881267667, 0.7290711336835269, 1.0, 0.10952116032220878, 1.0, 1.0, 0.00010305135022075368, 0.7742962376348886, 0.0900419019231667, 0.9829922729868847, 0.8867660497050323, 0.9746533435782678, 1.0, 0.8319940676459923, 0.9296917032817517, 0.6534552581392982, 0.5804061246818366, 1.0, 1.0, 1.0, 1.0, 0.8484203570251516, 0.9988077890589705, 0.9875468158578382, 0.9883774439814511, 0.9350875915758015, 0.6534552581392982, 0.7178532607939814, 1.0, 1.0, 1.0, 0.10116838333510265, 0.5715172631668736, 0.307183697495593, 0.9193299285944402, 0.8534852175587503, 0.5525015305547077, 0.9786246363524526, 1.0, 0.9071107561678945, 0.9260010358552591, 0.8319474241313236, 0.985360389700677, 1.0, 0.95081677071914, 0.4348053505849034, 1.0, 0.8024217628028963, 1.0, 1.0, 0.11501148159960489, 1.0, 0.8078473561972473, 1.0, 1.0, 0.9545092856487699, 0.9731278411520182, 1.0, 1.0, 0.9378105405167897, 0.9723131472156327, 0.916512267194722, 0.998493588175918, 0.867421648962302, 0.008449222229094795, 0.9782211718734902, 1.0, 0.9215500959203283, 1.0, 0.9902158299673706, 1.0, 0.9443948227181321, 0.8422993617852833, 0.7653570023674796, 0.6385731055081342, 0.09666332657741761, 0.31180756420092653, 1.0, 0.9812733387326449, 1.0, 0.31180756420092653, 0.915747160781182, 1.0, 0.9956863984946521, 1.0, 0.9023154442206355, 0.9138592318778596, 0.33458254750009014, 0.884551817248763, 0.6567626918106619, 1.0, 0.8890624579577668, 0.934824731978764, 1.0, 1.0, 0.8425798269084648, 0.9872053561637691, 0.9473534551346768, 0.8721651347698376, 1.0, 0.6275443171920048, 0.09356017356242281, 0.8187206558376218, 0.9027711624457598, 0.0016475140019137345, 1.0, 0.803834563001065, 0.3454315553641508, 0.5488874810379316, 0.14025735143391127, 1.0, 0.7900992625328973, 0.6029388293357322, 1.0, 0.00537874091517052, 0.7126611161512068, 0.8641560419146616, 0.977163368438906, 0.9946728765064954, 1.0, 0.9445663497039173, 1.0, 1.0, 0.6950121196535997, 0.8641560419146616, 0.9919797808561677, 0.9895397285863388, 0.004964628633292626, 0.8322377049710772, 0.993218296570121, 0.9656482560453381, 0.973595654656293, 0.879461581367739, 1.0, 1.0, 0.3755505164480109, 0.3840260412335827, 1.0, 0.8328177168283907, 0.9878020362829193, 1.0, 0.9274926273495299, 1.0, 0.8385219136841311, 1.0, 0.8241944462432057, 0.17775945899020135, 0.524342467756556, 0.991551540436917, 0.02823676241900158, 0.16964333091612205, 0.9963486391588801, 1.0, 0.8410124746923068, 0.9804759800454808, 0.9949789804755724, 0.4996521405894847, 0.6567626918106619, 1.0, 1.0, 0.8436057630051969, 0.8273128216093942, 0.06393819617145997, 1.0, 0.9535015670728396, 1.0, 1.0, 0.4309489977643759, 1.0, 0.88943816361713, 0.9670106775428559, 0.9934290624990297, 0.8842006480835971, 1.0, 0.8100654004817818, 0.6783523210339245, 1.0, 0.869880992458908, 0.8855900871824124, 1.0, 0.46974163537008534, 0.8416556599573388, 1.0, 0.6341594172611433, 0.9910617779099974, 0.6143024342189739, 0.6450573039947587, 1.0, 1.0, 1.0, 0.8076665055560349, 0.09370681758928419, 1.0, 0.7541553010215736, 0.12594758933349226, 0.36109988972956447, 1.0, 1.0, 0.8532101053506915, 0.2694600607419148, 1.0, 1.0, 0.9474750985357799, 1.0, 0.9857063774237522, 1.0, 1.0, 0.9276126193779921, 0.7081393178310235, 1.0, 0.9936266054425269, 1.0, 0.9450501564755742, 0.951852805541337, 0.018259624400523044, 1.0, 1.0, 0.4144564899866754, 1.0, 0.9531978691443674, 0.8859841699242111, 0.8294214563513396, 0.01992826505500849, 1.0, 0.0804648724106418, 1.0, 1.0, 0.7031714927802263, 1.0, 0.38666738178823834, 1.0, 0.7192073415656158, 0.9411407298434354, 0.9641007571000817, 0.9711488843797393, 0.5837700846861634, 1.0, 0.31180756420092653, 0.957366598629694, 0.7773129220241679, 0.6429138633049561, 1.0, 0.7553071134872208, 0.7410376228029244, 1.0, 0.4858430503231811, 1.0, 1.0, 0.6029586512638553, 0.5830704281729971, 0.07003470111418261, 0.9398407177940781, 0.8628371751265835, 0.7737530027031586, 0.8385219136841311, 0.9806151037695883, 0.6054244328056869, 1.0, 0.9004918921391682, 1.0, 1.0, 0.8881513707580437, 1.0, 0.9725411587194412, 0.5836497575370057, 0.9509671528082647, 0.9067591451139558, 0.9469916554033947, 0.9402749433137294, 0.8985625013390032, 0.33906553084344093, 0.9447587468745114, 1.0, 0.9351546577845146, 1.0, 0.9778814464110088, 0.6615795522620816, 1.0, 0.9750090159662891, 0.1157409301738765, 0.7309931931235498, 0.40300212355918885, 0.9802311459135131, 0.8265764778483201, 0.9880968763766352, 0.47914360774650305, 0.9059700550287979, 1.0, 0.8281301888182181, 0.42315138582410017, 0.8006600100795601, 0.9366824683358679, 1.0, 0.6424755634322085, 1.0, 0.9168076727495377, 0.19547908680494816, 1.0, 0.8281301888182181, 1.0, 1.0, 1.0, 1.0, 0.882452201466518, 0.6628668445885193, 1.0, 0.95115189885656, 0.9584329209472897, 0.992797498862734, 0.8832633452266407, 0.9842632676491176, 0.9883855668536122, 1.0, 1.0, 0.5855183419117849, 0.9328368626653806, 0.4071871558263983, 0.8678461238569464, 0.933680947256514, 1.0, 0.9245525018514105, 0.8951904906195459, 0.6743373416311316, 0.03218570701763879, 0.99940861602646, 0.9695458887048348, 0.7164378008365833, 0.9664393227312796, 0.904916390334351, 1.0, 0.8278898750386574, 1.0, 0.8815303828666402, 0.741047460155121, 0.6429138633049561, 1.0, 0.875107747722269, 0.7940344997372869, 1.0, 1.0, 0.8951904906195459, 0.9037725373021472, 0.33364547492367264, 0.33906553084344093, 0.2501831063084216, 0.7955790556276193, 0.867421648962302, 0.9081003492376837, 0.5406728093059293, 1.0, 0.8643920897502735, 1.0, 0.7447888662664429, 1.0, 0.9550470801117905, 1.0, 1.0, 0.9291051727928565, 0.08950818434965764, 0.5695844009177954, 1.0, 1.0, 0.9725411587194412, 0.884775981605635, 0.9523570368775226, 1.0, 1.0, 0.8958767250588903, 0.9480276220402327, 0.5100401223894107, 0.7298118208842345, 0.9923783367810093, 0.7186104566512339, 0.7658285016164516, 1.0, 1.0, 0.9766547518916849, 0.9693862449468972, 0.907408846546153, 1.0, 0.9341916779604567, 0.28374941025932326, 0.8249559278488905, 0.373745305563155, 1.0, 0.8859841699242111, 0.4491424878259499, 1.0, 0.8101595977574988, 1.0, 1.0, 0.7490316335242343, 1.0, 1.0, 0.9717141045079155, 0.7254150446495098, 0.8601840144815196, 0.983353144412077, 0.6064677877107039, 1.0, 0.6513818201049298, 1.0, 1.0, 1.0, 0.35103222514502536, 0.8162954514259928, 1.0, 0.9549200866381039, 0.8761310911893686, 1.0, 1.0, 1.0, 0.9284096098376162, 0.11479286269746813, 1.0, 0.9944517707097473, 0.8995290552043953, 1.0, 0.7209137176219558, 0.056266899603794364, 1.0, 0.3435235840784731, 0.9314063810095916, 0.0013933349545677313, 0.6807575852496685, 0.001847840056262993, 0.8104355865017641, 1.0, 0.8232777708792702, 1.0, 1.0, 0.6671477773649609, 0.9661455359810377, 0.9719377772073845, 0.21588888780058468, 0.9315015275642831, 0.7333301299193432, 0.9390918560595013, 0.7689172657525901, 1.0, 0.929875475864108, 0.9897123163750454, 0.8231685806378188, 0.07963247308857901, 0.8408885104541105, 1.0, 0.33563661295014063, 1.0, 0.28208438465324415, 0.9914527089771881, 1.0, 0.8398561484374228, 0.8975620580971669, 0.8902336215174949, 0.987328550629732, 0.6251079222751952, 0.9771536605888985, 1.0, 0.6961902563625098, 1.0, 0.8909433104772938, 0.9852143106109131, 1.0, 0.7613561231064653, 0.37400554908015193, 0.7173862703612814, 1.0, 0.8703565697553243, 0.9495673326910989, 0.983720624131977, 0.2501831063084216, 0.9979328854919178, 0.8958540886397691, 1.0, 0.7045367777028655, 0.7437062353258325, 1.0, 0.9301627698334247, 0.9459931180357277, 1.0, 0.8442770812666164, 0.904879662692101, 1.0, 0.9754158159882186, 0.8524252666860507, 1.0, 0.8425798269084648, 0.8112955802483054, 0.9952980882131326, 0.869124146939274, 0.5406728093059293, 0.7076151237541041, 1.0, 1.0, 0.8344159290334968, 1.0, 0.49943048710106197, 1.0, 0.4462047183645954, 0.012798998796881232, 1.0, 0.9426169405794169, 0.7139056005277691, 0.9900613628964219, 0.7541553010215736, 0.9372665379140582, 1.0, 0.9386569625767542, 1.0, 1.0, 0.5215797414656627, 0.9449338303109687, 0.320987855768999, 0.47888585759370095, 0.5750101262978614, 0.9540767307163047, 0.3896091452272146, 0.0005938036431582079, 0.07890302077284304, 0.9208720582222881, 0.8425860367246301, 0.9399547439766954, 1.0, 0.13151103955877938, 0.13123012078419488, 0.9545723905700374, 0.3623246034395515, 0.9589800928898267, 1.0, 1.0, 1.0, 0.8129847986678449, 0.7742591823739078, 0.9607441537146404, 0.9593225956785774, 0.8825827480623335, 0.7115852364601772, 0.9143648643884049, 0.7375268718212479, 0.5205002880959843, 1.0, 1.0, 0.3615208977279668, 0.7814751996595887, 0.35991482320278034, 0.8649043725766642, 0.2902489053180963, 0.7254150446495098, 1.0, 0.6035996941645843, 0.6029586512638553, 0.044558477475242324, 0.8652115969239236, 0.7839822548916149, 0.9918799800227533, 0.5463758755763439, 0.6694401341000502, 1.0, 1.0, 0.9246947108052777, 0.7584074956436431, 0.5750101262978614, 0.9831955005560091, 1.0, 0.8998511685479086, 1.0, 0.09726425159118932, 0.9787355208010681, 0.8827714258361603, 0.0035697040336983964, 0.04560676726058392, 1.0, 1.0, 0.7450853367024382, 0.9567645102096229, 1.0, 1.0, 0.7854679003826377, 1.0, 0.8776827113169912, 1.0, 1.0, 0.30617817184580376, 0.08904501280683327, 0.5804061246818366, 1.0, 1.0, 1.0, 1.0, 0.988848817691206, 0.6661452760628668, 0.9693564272624262, 0.8686198971103078, 0.10988610072760122, 0.9703796209953551, 1.0, 0.9723956318408213, 5.724134749669176e-05, 1.0, 0.0002130012197758003, 1.0, 0.8015803356177549, 0.9386787399871139, 1.0, 0.9952849804882945, 1.0, 0.8523209739254338, 0.9806488891774878, 0.9524478323272169, 0.804985097416945, 1.0, 0.9096451087582965, 1.0, 0.9868756493477112, 1.0, 0.4309489977643759, 0.6054244328056869, 0.41779386880180236, 0.773667992586192, 1.0, 0.8425798269084648, 0.8585540683315508, 0.684408482071842, 0.2978711890408351, 0.043978940784899605, 0.9370511320274637, 0.9307864827957818, 1.0, 0.9716535343674273, 0.9187139769872473, 0.16227346030056128, 0.6211529306928787, 0.2529451512526916, 0.911359472447533, 0.6548626731817374, 1.0, 1.0, 0.9456501081551943, 0.7951165805686843, 1.0, 0.2501831063084216, 1.0, 0.3697304920316006, 1.0, 1.0, 6.694999805197516e-05, 1.0, 0.491248809394077, 0.49455245937129605, 0.5221810053198466, 0.9821420226416668, 0.91937921949103, 1.0, 0.8847955609926897, 0.9498387308775074, 0.7482539772033118, 0.8109207121089058, 0.8875977896653172, 0.3908449191291428, 0.8474031916255045, 1.0, 0.9712357572254997, 0.9447587468745114, 0.9391344970780469, 0.8970430011884964, 0.9749103745217867, 0.9029857536083117, 0.6770466588405302, 0.45735020990641645, 0.538702808018705, 0.9215062677600242, 0.6876186745317877, 0.524342467756556, 1.0, 0.9173034503221755, 0.9493740304900181, 0.7225649999243078, 0.11331305878283553, 0.6694401341000502, 0.8562970059622499, 0.9871035389012252, 0.026156880422348393, 0.9547544476565111, 1.0, 0.31180756420092653, 1.0, 0.8570558168986765, 0.891651485918125, 0.6204674151604679, 0.6162502689766846, 0.878237858667568, 0.01623876908945858, 1.0, 0.4077537360073237, 1.0, 1.0, 1.0, 0.9773301569159738, 0.9567645102096229, 0.95081677071914, 0.9319828963169323, 0.9896146247567119, 1.0, 1.0, 1.0, 1.0, 0.9626915420386687, 0.15472935893491885, 0.9937769649332628, 0.962275494108715, 1.0, 0.06863758083911575, 1.0, 0.8744693392712908, 0.25811808213152104, 1.0, 0.9398407177940781, 1.0, 1.0, 0.16692873327087657, 1.0, 0.9994404419268609, 0.9657178942810899, 1.0, 0.6803397619133158, 0.4682432462180212, 1.0, 1.0, 1.0, 1.0, 1.0, 0.952300327099716, 0.8958767250588903, 0.30770303545214583, 1.0, 0.9254011959749244, 0.8014384265279085, 1.0, 1.0, 0.9807049250833286, 0.37400554908015193, 0.6341594172611433, 0.23095523993979336, 1.0, 0.06393819617145997, 1.0, 1.0, 1.0, 1.0, 0.953642803890415, 1.0, 0.8879233762399521, 1.0, 1.0, 0.22163737383908794, 1.0, 0.30770303545214583, 0.05493888941019234, 1.0, 0.37825350224912524, 0.293183704966956, 0.41755677187619317, 1.0, 0.840378093004048, 1.0, 0.356744803687595, 0.08469627442972114, 0.9947822549918749, 0.015679621238375175, 1.0, 0.3454315553641508, 0.8499495471358068, 0.6555115938009235, 0.7239263664449895, 0.9683044639569854, 0.9375189629669698, 0.9760348761283525, 0.88943816361713, 0.04190305810238925, 0.40822645887353415, 1.0, 0.9112148195163644, 0.8202735159250298, 0.9239957761584358, 1.0, 0.5716650361827189, 0.09973095615386646, 0.41921014246468746, 0.03438738655043489, 0.9894060287644079, 0.7375268718212479, 0.9871953661843115, 0.8661126538879149, 0.9561258200705056, 1.0, 1.0, 1.0, 0.911359472447533, 0.307183697495593, 1.0, 0.7192073415656158, 0.9763778687391074, 0.9862227038361339, 1.0, 0.9184815172753127, 1.0, 0.5027599464795819, 0.23510411842874263, 0.7669093976968954, 0.6471830028943796, 0.8129055038962805, 0.813820861089365, 1.0, 0.8944971986682412, 0.8913996306765419, 0.6237235524749699, 1.0, 1.0, 0.8023512127457083, 0.2593265908566447, 1.0, 0.004749386915015123, 0.6881573368990407, 1.0, 0.956887955303431, 1.0, 0.7268921068204064, 1.0, 0.39885366524975086, 0.9765791141135752, 0.5692014851328414, 0.9462371019094047, 0.7860505058459915, 0.6000661947555365, 0.9317519376566402, 0.31180756420092653, 0.9721197991000622, 0.45735020990641645, 0.49943048710106197, 1.0, 0.9283796923160634, 0.4753659976010312, 0.9775585490224016, 1.0, 0.6661452760628668, 0.8912874017029875, 1.0, 0.7173862703612814, 0.49149736050988124, 0.8281301888182181, 1.0, 0.9574688149114365, 0.38666738178823834, 0.869383834153355, 0.8425798269084648, 0.6788194798057174, 0.8851938892492957, 0.6919877107844091, 1.0, 0.7326863735826139, 0.8686613039107063, 0.027512125818728052, 0.8272105906600546, 1.0, 0.6364045041079595, 1.0, 0.8909214141875632, 0.5582701961859422, 1.0, 0.741047460155121, 0.7824809860424687, 1.0, 1.0, 0.989651177215773, 0.9635656907450705, 0.45703036845008616, 0.8763570980569197, 0.8712136128492165, 1.0, 0.9381775113906662, 1.0, 0.8372332819992366, 1.0, 1.0, 0.18248734001119157, 1.0, 0.9347736051990295, 1.0, 0.9413666776511848, 1.0, 0.9909037738795281, 0.9088488775818279, 0.9825899579767503, 0.9792150740123734, 1.0, 1.0, 0.8985625013390032, 0.9751645203535431, 1.0, 0.07622653638233062, 0.4462047183645954, 0.9585595633124953, 0.9763778687391074, 1.0, 1.0, 0.98330648215896, 0.9932924761307721, 1.0, 0.057817676196760766, 0.2978711890408351, 0.8574092399255577, 0.8859841699242111, 0.9485538688009203, 0.031334445696049054, 0.8322470188323033, 1.0, 0.02661840708569998, 1.0, 1.0, 0.01306832013252407, 0.9268573659052541, 0.9459553931274004, 0.9906852012500916, 1.0, 0.2550238161911014, 1.0, 0.9671677060836272, 0.5060627082964592, 1.0, 0.9729229817943377, 0.47888585759370095, 0.9644198418601067, 0.9391015443835223, 0.821707840311955, 1.0, 0.9880359209119167, 1.0, 0.08406691464391249, 0.8985625013390032, 0.34795635975788686, 0.8249518163450743, 0.20835858892343687, 1.0, 0.47328827921230776, 1.0, 1.0, 0.016285597529387717, 1.0, 0.8859841699242111, 1.0, 0.8015803356177549, 0.741047460155121, 0.9709071786332496, 0.8649043725766642, 1.0, 0.9934362520488578, 1.0, 0.957660803455655, 0.9887895260025408, 0.9145815499354344, 0.9008079204421098, 1.0, 1.0, 0.9933579676553815, 1.0, 1.0, 1.0, 1.0, 1.0, 0.9694312417690946, 0.8622272085984639, 0.9699102825618477, 0.7900992625328973, 0.33906553084344093, 0.8722442550280829, 1.0, 0.21165899016014, 0.8888161046381549, 0.8251608541779388, 0.9895397285863388, 0.9474078755950323, 0.9749331225602738, 0.5104473717730421, 1.0, 1.0, 0.9459931180357277, 1.0, 0.7247494628159912, 0.13600089665351084, 0.6829651658592932, 0.6074032652806908, 1.0, 0.9672642175196737, 1.0, 0.33912075209539666, 0.7554873914518273, 1.0, 0.47888585759370095, 0.48490128399463156, 0.2798042107601226, 1.0, 1.0, 0.27600711906318875, 1.0, 0.42242550241457233, 0.9323791276304428, 0.8898118983749288, 0.8897910352609701, 0.28860080610829564, 0.994237633781779, 0.9920747525524425, 0.9372920852287074, 1.0, 0.9718151935222595, 0.8265140472982115, 0.26997569511828806, 0.8299594514076047, 1.0, 1.0, 0.9687432084618198, 0.36109988972956447, 1.0, 0.5899004060782774, 0.9952069301527942, 1.0, 0.349554288484595, 0.3251703575361395, 1.0, 0.7854679003826377, 0.06393819617145997, 0.9402026128654989, 0.93998533629837, 0.20967461069896673, 0.6001202816311249, 0.8399900450956242, 0.5125886949519802, 0.9912478972942034, 0.24872837876127457, 0.9494548468845233, 1.0, 0.06668453396528944, 0.00025594423430394737, 0.8867660497050323, 1.0, 0.9066108562326002, 0.9706538282168042, 0.3198485752416334, 0.913821973273655, 0.9927149762177061, 0.9528285362418129, 1.0, 0.5883325356658019, 0.2937362276753843, 0.8830387863700091, 0.3931255453881746, 1.0, 0.5060627082964592, 0.03120696254145243, 0.6273992311101724, 0.9413666776511848, 0.7832131333244187, 0.3523635335970487, 0.32554330093967726, 1.0, 0.5314490538166136, 1.0, 0.9038297532807632, 0.9515185948628795, 0.9651705482907806, 0.0696956428728782, 0.5495810318668147, 1.0, 0.9524975075397168, 0.8781455829197311, 0.3523635335970487, 1.0, 1.0, 0.4817126446903727, 0.8301488696528361, 0.11913528934118175, 1.0, 0.9146842024410228, 0.9699172437415521, 0.7357339107272036, 0.7435594598943016, 0.8870406511526864, 0.9134283679910946, 0.2657630770426344, 0.9882364267471189, 0.8574092399255577, 0.5804061246818366, 0.8827714258361603, 0.5873402705021044, 1.0, 1.0, 0.21911000050581572, 1.0, 0.9236126323522252, 0.6011082099595375, 0.9071795168140264, 1.0, 1.0, 0.9946510861105566, 0.8875977896653172, 0.9660975946655456, 1.0, 1.0, 1.0, 0.2501831063084216, 0.12411508822076954, 0.7829369266967419, 1.0, 0.853091756579865, 1.0, 0.033185262390900055, 0.03120696254145243, 0.3591197867638168, 0.859100612511113, 1.0, 0.6713652125250581, 0.9900081406240406, 0.9474346603195405, 0.9313172676745829, 0.18885981711390004, 0.9181565355445489, 0.7114045881312713, 1.0, 0.9879398693639047, 0.9298760485268391, 1.0, 0.9468140209460074, 0.4394586319605218, 0.6146815044949445, 1.0, 1.0, 0.9741184814123689, 0.5125886949519802, 0.5949758127265589, 0.7290711336835269, 1.0, 0.6850917784810359, 1.0, 0.8745237467689254, 1.0, 1.0, 0.07391476709199406, 0.9897827851825175, 1.0, 1.0, 0.7254150446495098, 1.0, 0.2985143317065891, 1.0, 0.4623851446814143, 1.0, 0.9776274619243477, 0.901750511670806, 0.6035996941645843, 0.9934654243175357, 0.172059301581342, 0.5090105185551931, 1.0, 0.9461570346411038, 0.9917821946911226, 0.3657049110657255, 0.8686613039107063, 1.0, 0.8895551615737919, 1.0, 1.0, 0.3025380513428546, 0.4462047183645954, 0.6990773957721147, 1.0, 0.9529489394182126, 0.6368816396280321, 0.9936732167026625, 1.0, 0.2728598038492319, 1.0, 0.9001716767632081, 0.947597924833357, 0.8941478758028949, 1.0, 0.4989114271964658, 1.0, 0.5253265977265275, 0.5499276414474408, 0.7655758961295842, 0.8643527375991715, 1.0, 0.7818840387976242, 0.9826763453186314, 0.912114878044132, 0.4031629655260009, 1.0, 0.4352174859564284, 1.0, 0.9527663711971176, 0.7959608114657879, 0.9852888127559986, 0.2501831063084216, 0.9115953673942933, 0.9119914514051835, 0.9381026506606243, 0.5899004060782774, 0.770081983681193, 0.9224539462614632, 0.18566508041423865, 1.0, 0.9584863163741797, 8.415227725573797e-05, 0.9882853392710247, 0.6823139203489763, 0.9565252646304121, 0.009311390899242326, 0.864521283449344, 0.9444430463554022, 0.5138485255741099, 0.9436721106681305, 0.39083299339402633, 0.9491196449904249, 0.20415199696184227, 1.0, 0.3908449191291428, 1.0, 0.9358578512504752, 1.0, 0.32554330093967726, 0.9822205381889575, 0.8500386294636688, 0.5553978608844453, 1.0, 0.9281137117959989, 0.8897340880248654, 1.0, 0.4270643420101925, 1.0, 0.7451003561411088, 1.0, 1.0, 0.7021881369214443, 0.658178414343429, 1.0, 0.9053847506024243, 0.990816179060196, 0.36340872744610575, 0.6429138633049561, 0.9714841591354558, 0.6825904667875601, 1.0, 1.0, 0.9740512152994304, 1.0, 0.9543219225579298, 1.0, 0.9790650323679975, 1.0, 0.8337359800306748, 1.0, 0.9923783367810093, 0.5451670689757733, 0.9965751818209047, 0.902679221286564, 0.9881089209888195, 1.0, 0.9837412299141582, 0.9751328199406595, 0.9860528916825904, 0.9747829190333146, 0.48647469191231, 0.9689732809326247, 1.0, 0.9929598607635551, 1.0, 0.8798437626852377, 0.8870406511526864, 1.0, 0.9350441864345272, 0.2501831063084216, 0.9487752477570506, 1.0, 0.41921014246468746, 0.320987855768999, 0.7424037551343411, 0.7263537437518973, 1.0, 0.1517470344841038, 0.9150097703346509, 0.38666738178823834, 0.8580042615122995, 0.8871275603596589, 0.9355808791870353, 0.4760224198203747, 0.9032295083191221, 0.9290868185561318, 0.6402390279016248, 1.0, 1.0, 1.0, 0.6471830028943796, 1.0, 1.0, 0.9937955945686529, 1.0, 0.934042414427723, 0.9119884456694869, 1.0, 0.9807276188856731, 1.0, 1.0, 0.6542710226064499, 0.6334432115792168, 0.34795635975788686, 1.0, 0.9816510476920972, 0.0022294578594336816, 0.928496123056646, 1.0, 1.0, 1.0, 0.9873582150495165, 0.912114878044132, 0.9009091236956236, 0.8798437626852377, 0.943209014928563, 0.8994510127849386, 1.0, 1.0, 1.0, 1.0, 1.0, 1.0, 1.0, 1.0, 1.0, 1.0, 0.11462233741643132, 0.19207107744503774, 0.3025380513428546, 0.2550238161911014, 0.5804061246818366, 1.0, 0.6205214847705101, 0.0006945507469530376, 1.0, 1.0, 1.0, 0.37400554908015193, 0.8874456290705341, 0.8130071615935396, 0.6770466588405302, 1.0, 0.8881513707580437, 0.47888585759370095, 0.968984631379353, 0.8607743376481307, 0.37922066769166435, 0.9913609166102018, 1.0, 0.9285484606146852, 0.7464108169909739, 0.8951904906195459, 0.9042940798494713, 1.0, 0.04195341509903878, 1.0, 1.0, 0.3654285322819586, 1.0, 0.9877262606027977, 1.0, 0.987045684152634, 1.0, 0.9182730486594646, 0.8529048611668093, 0.9896366715872992, 0.2217427470382206, 0.18566508041423865, 0.11261219223017588, 1.0, 0.688415745508219, 0.34795635975788686, 0.9427388032987931, 1.0, 0.8994510127849386, 0.7759443759428214, 1.0, 0.9833204309278918, 0.9954216299364923, 0.8042081406204902, 0.8806916845932958, 0.5177196850690625, 0.9561258200705056, 0.8851938892492957, 0.9527514593350485, 1.0, 0.9050348633665877, 0.002916031459220226, 0.9458157523431334, 1.0, 0.29036318781781606, 0.9862095193849025, 1.0, 1.0, 1.0, 1.0, 0.9826568969904808, 0.43615456637103217, 0.5959708380401642, 0.7477262177902151, 0.8602925798352524, 0.9110552060282349, 0.20079603389427675, 0.0005330680597631001, 0.9950428328316797, 0.9008333831697184, 0.995917622735774, 0.9641310147310513, 0.13433035718286102, 0.31820796483983355, 0.967586651362983, 0.9702402042061117, 0.9741275469428236, 0.45735020990641645, 0.7083757807782344, 1.0, 0.6619672345736937, 0.898552976269804, 1.0, 1.0, 0.9145318924146703, 1.0, 0.9162429133183604, 1.0, 0.7178532607939814, 0.001994448321727157, 0.015686744925106643, 0.12345314806483758, 1.0, 0.9317471765683037, 0.7556542256671378, 0.6024769528644676, 0.7818840387976242, 0.914218316741417, 0.6363754603305173, 0.7913668211579861, 0.6977846805546547, 1.0, 0.5631979625217919, 1.0, 1.0, 0.5554513481190905, 0.861347425470699, 0.6783523210339245, 1.0, 1.0, 0.9458886693074599, 0.901908224762083, 1.0, 1.0, 0.9771839888861235, 1.0, 0.6682482012131978, 0.2902489053180963, 1.0, 0.8981751810418812, 1.0, 1.0, 0.006645028435012646, 0.03580807022007912, 0.356490765550056, 1.0, 1.0, 0.293183704966956, 0.9553860964078487, 0.7372869999007049, 1.0, 1.0, 0.5027599464795819, 0.0065246160647841915, 1.0, 0.8941478758028949, 0.07861319416881637, 0.8078249495374074, 0.9567407143531391, 1.0, 0.6628668445885193, 1.0, 0.9737551152818281, 0.9781241137559621, 0.5527225999926388, 0.320987855768999, 0.6615795522620816, 1.0, 0.43863340827390307, 0.876247885450419, 1.0, 0.9304774980390659, 1.0, 0.8229136096944785, 1.0, 0.9541848998807626, 0.9485147715184598, 1.0, 0.91264355862939, 0.26248010582571935, 0.9833433073617753, 0.9754158159882186, 0.7068285450834202, 1.0, 0.0159488128810188, 0.9369578952224541, 0.9172605421245653, 0.904879662692101, 1.0, 0.38934264002917096, 1.0, 1.0, 0.8689018138216016, 1.0, 0.8800674957604301, 1.0, 0.9839557653125112, 0.8855900871824124, 0.9210706668178742, 0.5859325689070666, 1.0, 0.8589100823362749, 0.019723389462570785, 0.9876831221182488, 0.951954324909317, 0.7395575719526863, 0.3111970533821313, 0.38934264002917096, 0.978653220893612, 0.5667449789846399, 0.10457015924271318, 0.9176706643275757, 0.8669240040072461, 0.9537284155644921, 1.0, 0.6446978073285436, 0.9777241838819662, 0.8629463931034022, 0.8708262550739588, 1.0, 0.9895608813095704, 1.0, 0.7230106828003822, 0.6697904848208102, 0.928810373385555, 0.6932804108621142, 0.8929778487598152, 0.9786742684411276, 1.0, 0.7557552967484936, 0.2657630770426344, 0.9927682875143933, 0.1668699787476664, 0.020910275573399563, 0.8909433104772938, 0.33906553084344093, 0.8954020842051699, 1.0, 0.8931281080810252, 0.08083693196313593, 1.0, 0.8323030418722426, 0.7375706739714062, 0.9955067149848813, 0.049466112125344804, 0.854873933732908, 1.0, 0.6936219985986243, 0.00383491788483032, 0.8302597474161281, 0.8157911930601957, 0.40280260966692855, 0.9490056429792649, 0.8323030418722426, 1.0, 0.3911769667962554, 1.0, 0.9157497111215983, 0.7652412387004849, 0.029157019370880433, 0.9381775113906662, 0.9889785852749771, 0.0051342156100206565, 0.7247494628159912, 0.5284465263223949, 0.9784383990039869, 0.9919525754169874, 1.0, 0.7450853367024382, 1.0, 1.0, 1.0, 0.0273112267987013, 0.8851938892492957, 0.09269770793325453, 0.987838584983118, 0.8122173514833336, 0.5557567674712833, 0.8179399529018551, 0.9657322135450226, 0.8813871646760033, 0.9543198996237159, 1.0, 0.9456414685995782, 0.6742710289588482, 0.9962365826318359, 0.8425798269084648, 0.9635656907450705, 1.0, 0.6054244328056869, 1.0, 1.0, 0.449948034006385, 0.7793879347858301, 1.0, 0.6441925991263338, 0.8998511685479086, 0.3435235840784731, 0.6414325326793308, 0.9477812589402214, 0.24686520542380416, 0.8032199914087458, 0.3164091182862471, 0.8625954188881361, 0.38666738178823834, 0.46562864392477216, 0.8950120045238574, 0.9743174709384101, 0.25903184682636565, 0.5620187780697599, 1.0, 1.0, 1.0, 0.7410376228029244, 0.4718184921485044, 0.04491564889489534, 0.9477812589402214, 0.3435235840784731, 0.7268921068204064, 0.6881573368990407, 0.7870735636822452, 1.0, 1.0, 0.17869340563574954, 0.39763322920785105, 1.0, 1.0, 0.972793746750584, 0.7258802314143957, 0.9734960170984142, 0.8252389269602387, 1.0, 0.9086108289733573, 0.7709237639045456, 1.0, 0.779719770242301, 1.0, 1.0, 0.28374941025932326, 0.22382119890782018, 0.9257707025682547, 1.0, 1.0, 1.0, 1.0, 0.9641469692086626, 1.0, 0.28374941025932326, 1.0, 0.9027711624457598, 0.8960458368595207, 1.0, 0.878237858667568, 0.922832500517408, 1.0, 0.9515185948628795, 0.865075382857734, 0.9671780711296781, 0.8524252666860507, 1.0, 0.7034645672685701, 0.9182730486594646, 1.0, 1.0, 0.10843777165211863, 1.0, 0.8922155052646534, 0.9847983239119903, 1.0, 0.035247577266364565, 0.09595336782751951, 1.0, 0.6994612501687295, 1.0, 0.7103766167064463, 1.0, 1.0, 0.9531978691443674, 1.0, 1.0, 0.06356077754063418, 0.4728883842089065, 0.977577115665959, 0.6825904667875601, 0.8043033141108172, 0.39083299339402633, 1.0, 0.4462047183645954, 0.25215552273215397, 0.7829369266967419, 0.27821174344038996, 0.876247885450419, 1.0, 1.0, 0.8968600862102211, 0.9695458887048348, 0.4031629655260009, 0.8923739970390089, 0.45735020990641645, 0.9818682777416066, 0.9708557304119483, 0.9886803028671406, 1.0, 0.7126611161512068, 0.96525589970389, 0.4394586319605218, 0.8789499696432923, 0.005818822724999722, 1.0, 0.02611235659737939, 0.6424755634322085, 1.0, 1.0, 1.0, 0.9023099721968258, 0.9462845346196984, 0.11501148159960489, 0.8958767250588903, 0.9219961404532961, 0.9104557752627683, 1.0, 0.956791214419939, 0.630498576396317, 1.0, 0.5637799809604042, 0.11404392002729578, 0.33906553084344093, 0.9951743995368748, 0.9229144423330476, 1.0, 0.7021881369214443, 0.7779168534057898, 0.7814751996595887, 0.9634644911512644, 0.003985086998445454, 0.0431485625492704, 0.8492697643063628, 1.0, 0.6674991785713376, 0.9879739536335138, 0.9718605728282538, 0.8391148976590422, 0.8970430011884964, 0.9470105929202628, 0.21870200981806237, 1.0, 0.9456989909889326, 0.37825350224912524, 0.9194627444663676, 1.0, 0.2884762255498674, 0.8802688849865934, 0.18566508041423865, 0.05929306372999448, 1.0, 0.3523635335970487, 0.696729914760794, 0.9499719523374062, 0.9177251248781159, 0.943209014928563, 0.8500386294636688, 0.6017128607102341, 1.0, 0.5038196388863305, 0.45703036845008616, 0.27549522733215065, 0.7815921321065606, 0.9950574123719026, 0.32328689381704623, 0.9768217707881736, 1.0, 1.0, 0.6085204280627051, 0.8585582164767562, 0.9638914368711035, 0.47058301977447, 0.6227973739360909, 1.0, 1.0, 0.28374941025932326, 0.9558052715323565, 0.237123791455982, 1.0, 0.9821420226416668, 1.0, 0.8532139539671676, 0.9591776453780377, 0.8659200431275558, 0.9708337863423899, 0.9553185081031271, 0.9611329974969035, 1.0, 0.7537005031425947, 0.9239046924124479, 1.0, 0.2867641757590038, 0.4313973174811353, 1.0, 0.7663096766221116, 1.0, 0.17489530476307863, 0.3435235840784731, 0.5695230850550395, 1.0, 0.9604827797317252, 0.5695230850550395, 1.0, 0.8920136800088747, 0.9724964646513367, 0.2550238161911014, 0.19207107744503774, 0.4536631801856875, 0.014433543418217632, 1.0, 0.873311049160551, 0.9386787399871139, 0.9786121550449014, 1.0, 0.8238429815734089, 0.8643704439137196, 0.7818840387976242, 0.9319833909293314, 0.8391911413629333, 0.5667449789846399, 0.9265475828966192, 0.9578340000344215, 0.5060627082964592, 0.33007500546339397, 0.9435839366439125, 0.8872414959139414, 0.7397366803649226, 1.0, 0.13847194628815795, 1.0, 0.15472935893491885, 0.9130323927944287, 0.6402390279016248, 0.34880790034380904, 0.3908449191291428, 0.356744803687595, 0.9145318924146703, 0.07549275263505456, 0.8830387863700091, 0.91264355862939, 0.9778432859416287, 0.8192687445906867, 0.7298118208842345, 0.4394586319605218, 0.02290807583834744, 0.3555646704631811, 1.0, 0.32634046644198006, 0.11779616225943274, 1.0, 1.0, 1.0, 1.0, 1.0, 0.32554330093967726, 0.967586651362983, 1.0, 0.5639435797235773, 0.36340872744610575, 0.48237817301388347, 1.0, 0.8871538763548781, 1.0, 0.914218316741417, 1.0, 0.8391911413629333, 0.9059123181890484, 0.9814765467393525, 0.2501831063084216, 0.009888763281942688, 0.8958540886397691, 1.0, 1.0, 0.46631634250081366, 1.0, 1.0, 0.3435235840784731, 1.0, 1.0, 1.0, 0.46963375355278675, 0.9617378456109629, 0.021010756303750166, 0.7189147290716634, 1.0, 1.0, 0.9147203617246114, 0.9580601722450943, 0.8411497126192142, 0.8087182637152281, 0.3164091182862471, 0.976358801361248, 0.8187206558376218, 0.9972920708309343, 0.9029857536083117, 0.8772432910169298, 1.0, 0.7652412387004849, 1.0, 0.31671625872539994, 0.9543219225579298, 0.1429338726611977, 1.0, 0.9616632556243584, 1.0, 1.0, 0.4753659976010312, 0.838684360303733, 1.0, 1.0, 0.8794163007154201, 1.0, 0.698433927514494, 0.788089331982396, 0.2465903287484862, 1.0, 1.0, 0.5901196351213142, 0.9268385137014027, 0.962967003786752, 0.6770466588405302, 0.3942056880218169, 0.9777793846192943, 0.9134283679910946, 0.970603168590919, 0.6407525183199422, 0.9967107110970788, 1.0, 0.9823141293853102, 0.4753659976010312, 1.0, 0.9754240609860513, 1.0, 0.3758432053862625, 0.4767096895957422, 0.696729914760794, 0.7910935543730023, 0.9779823192431958, 0.8825421063874279, 0.9426003336929436, 0.4728883842089065, 0.7829369266967419, 0.9470667194360527, 0.6133593550984302, 1.0, 1.0, 1.0, 1.0, 1.0, 0.8557718904435404, 0.9469916554033947, 0.6157485786049693, 0.8705495022360699, 1.0, 0.3657049110657255, 0.8204929072656394, 0.31180756420092653, 1.0, 0.9905521546995484, 0.9782211718734902, 1.0, 0.9617490565538762, 0.9730038629835075, 1.0, 1.0, 1.0, 0.9886685748408036, 0.9462371019094047, 0.8811121783285768, 0.32554330093967726, 0.2742405812053037, 1.0, 0.3824741684027126, 0.477687474304496, 0.7870735636822452, 0.08904501280683327, 1.0, 0.8291684600749427, 0.98330648215896, 1.0, 0.8763720842766923, 1.0, 0.696729914760794, 1.0, 0.6697904848208102, 0.8355908800992998, 0.9828312843288763, 0.491248809394077, 1.0, 0.7763728621025776, 0.6492911214645004, 0.4491424878259499, 5.8266422486551075e-05, 1.0, 0.9557800540922905, 0.3523635335970487, 1.0, 0.05127755982198348, 0.6011082099595375, 0.13253239684996485, 0.8468157461875016, 1.0, 0.43284403691003864, 0.3825966062956034, 0.25942670511334337, 0.8192687445906867, 1.0, 0.9411106508564518, 0.8853476209982971, 0.7490316335242343, 0.4031629655260009, 1.0, 1.0, 0.8155402155876462, 0.9381775113906662, 1.0, 0.8212213093908399, 1.0, 0.8866677671901573, 0.47888585759370095, 0.7745324936352006, 0.9709235315963034, 0.9907899877204864, 0.5493230755810374, 0.3860930735308101, 1.0, 0.9741155244140379, 0.3454315553641508, 1.0, 1.0, 1.0, 1.0, 0.9419398861041944, 0.7930611101632274, 0.9427532709626736, 0.47888585759370095, 0.9896637219262349, 0.43433176311951394, 2.273896163085801e-05, 1.0, 0.43863340827390307, 0.41124290386206613, 0.6857031855262948, 0.8154761389082283, 0.005725564494496533, 0.5690000960995661, 0.9212216682063336, 0.9330819248766781, 0.1679360260210776, 1.0, 0.9952260578009176, 1.0, 0.9812971639529324, 1.0, 0.03963023151369157, 0.2790039526137592, 0.8204929072656394, 0.698433927514494, 0.3555646704631811, 0.9494644972336274, 1.0, 1.0, 0.13602844523017, 1.0, 0.3697304920316006, 0.4706545722409525, 0.9937769649332628, 0.994491854217785, 0.7244380242614399, 0.4753659976010312, 0.9946459817179475, 0.23172148111653004, 0.5344594682655948, 1.0, 0.9646139946836283, 0.9909609420497776, 0.9879684963203776, 0.2871159145277858, 0.9879398693639047, 0.9059210098394369, 0.9214243890826538, 0.8539896584461192, 0.9865837275038035, 0.7247494628159912, 0.9881816633491506, 0.9643233752035184, 1.0, 0.9918221635601305, 0.9622780516875524, 1.0, 0.25494797290634386, 0.6857031855262948, 0.7375706739714062, 0.46562864392477216, 2.086786022634015e-07, 0.7466305046115659, 1.0, 0.9711991822650458, 1.0, 0.5027599464795819, 0.9683218577961255, 0.3164181637713663, 0.9295065954216503, 1.0, 0.8843950871473052, 1.0, 1.0, 0.9780138599423716, 0.8539216895316929, 0.014209663239789408, 6.358689804559718e-06, 0.9962219294285167, 0.3824741684027126, 0.9881816633491506, 0.6807575852496685, 0.18143770351119004, 1.0, 1.0, 1.0, 1.2994918290568236e-05, 0.9574134904666549, 0.7164523534984963, 0.5883325356658019, 1.0, 0.3523635335970487, 1.0, 1.0, 0.39763322920785105, 0.9323791276304428, 3.5085481187858266e-06, 0.5804061246818366, 1.0, 0.8579184441428633, 0.9793405431244441, 0.9114244470894897, 0.5045074985855175, 0.9827878352596435, 0.7891073103213806, 0.9617958987044978, 0.9438286899965744, 0.07394174835153934, 0.8823599903119547, 0.9351189723078855, 0.7765037523920404, 0.997252217209994, 0.799802409718031, 0.8540620710915178, 0.9932585244139748, 1.0, 0.954015692215536, 1.0, 1.0, 0.6919327656123072, 0.932772376718198, 1.0, 0.00038248980177540075, 0.9866850123853428, 0.8652360276566524, 1.0, 0.9404957016700896, 0.8119903825063549, 1.0, 0.6780133298085336, 0.5526969143253341, 0.3435235840784731, 1.0, 0.12881003970377317, 0.4646401709662001, 1.0, 0.8203106485668378, 0.9378105405167897, 0.1978710100357547, 0.8674710062381844, 0.7464108169909739, 0.9292973628191307, 0.8043033141108172, 0.307183697495593, 0.010913429422964416, 0.0017463349657913746, 0.2115647265968719, 0.5667449789846399, 0.5780651072026823, 0.20373929473066493, 0.0005950575766527015, 1.0, 1.0, 1.0, 1.0, 0.8789401025392545, 0.8643704439137196, 0.9023154442206355, 1.0, 0.20415199696184227, 0.33458254750009014, 0.8078473561972473, 0.9695306790908834, 1.0, 0.46642300711466594, 0.9597078862178029, 0.9125745276921308, 0.809473060485838, 0.9325229331105337, 0.00866416126880272, 0.8981949157230165, 0.8282888920473984, 0.5315409498265896, 0.9716219246506542, 0.6218269234537172, 0.9773761425967314, 0.33906553084344093, 1.0, 0.9474750985357799, 0.9380561857255681, 0.8657756454476816, 1.0, 1.0, 0.1371742065051149, 0.7341069800736958, 0.7997332571142445, 0.33906553084344093, 0.8945263645697465, 1.0, 0.15377928928114654, 0.889250142941502, 0.6402390279016248, 0.8598428300787032, 0.25293473112373804, 0.8643704439137196, 0.7312546890099679, 1.0, 0.07213147002275316, 1.0, 0.6146815044949445, 0.24975642195883369, 1.0, 0.3755505164480109, 0.688415745508219, 0.973342492356056, 1.0, 0.9634581417219602, 1.0, 0.08950818434965764, 1.0, 0.804170648693902, 1.0, 0.7208191832047428, 0.5845484898641831, 0.9342279222696609, 0.8091351846694214, 1.0, 0.9651545122106557, 0.7927476978232597, 0.6457627166736026, 0.33214992285358297, 0.9899536148181506, 0.9822205381889575, 0.293183704966956, 0.3949708703244629, 0.9537070434447886, 1.0, 0.31180756420092653, 0.9341919109117242, 0.4936082107928572, 0.1371742065051149, 1.0, 1.0, 0.869880992458908, 0.00841272993853862, 0.9908556002870015, 0.8820956383136991, 0.7945375012235214, 1.0, 1.0, 0.0002069221335036176, 0.3654285322819586, 0.9838270533286257, 0.8847955609926897, 1.0, 0.8771196395752505, 0.8355908800992998, 0.8827714258361603, 0.9816286519819117, 2.494818521251184e-05, 1.0, 0.9358470107636109, 1.0, 0.945410433939687, 0.18566508041423865, 1.0, 0.10313136108739222, 0.7121471825828998, 0.5188627621812371, 0.010540377299855698, 0.4309489977643759, 0.000980408343972077, 0.929935105091304, 0.9859756178514686, 0.9416083006816476, 0.11779616225943274, 0.8843950871473052, 1.0, 0.9697642180215472, 0.5125949658130777, 0.9770979215777785, 1.0, 0.0226796474614734, 0.813707288727166, 1.0, 0.9892940731806777, 0.43172490420831683, 0.8551415642634848, 0.8884251141598208, 0.44739998599800723, 0.9579338406606221, 0.538702808018705, 0.9571914732842545, 1.0, 0.9823912258976534, 0.8810338929458537, 1.0, 0.4309489977643759, 1.0, 1.0, 0.9523217890565471, 0.8881513707580437, 1.0, 1.0, 1.0, 1.0, 0.08037952196244626, 1.0, 0.6181178742161562, 0.48534692669740975, 1.0, 1.0, 0.5406728093059293, 1.0, 0.4309489977643759, 0.24872837876127457, 1.0, 0.6938835226748039, 0.9401193751799711, 0.632471636784969, 0.547143559510043, 1.0, 0.3911769667962554, 0.8995012895314702, 0.9891870452573391, 0.9664968016495694, 0.9890553608409669, 0.8898118983749288, 0.026232107979889584, 0.7808235218828792, 1.0, 0.9688743109015279, 0.6407525183199422, 0.4808981647467904, 0.10988610072760122, 0.6788194798057174, 0.4646401709662001, 0.3025380513428546, 0.9176691306927457, 0.9314842193022282, 0.5554513481190905, 0.8192687445906867, 0.6513818201049298, 0.9657702471430762, 0.6911094533415076, 1.0, 1.0, 1.0, 0.9534706873390875, 1.0, 0.16995572296012865, 0.5006218884057688, 1.0, 0.9945654275505081, 0.9769956911059624, 0.9879487498575152, 0.6204674151604679, 0.029157019370880433, 0.8992053259639774, 0.7655758961295842, 0.3530246757761615, 0.9477172542320987, 0.6862226437066864, 0.9694908413504815, 0.4473707539022301, 0.9215988208481006, 1.0, 0.9391344970780469, 0.16530252477224167, 0.7126611161512068, 0.9030470842198681, 0.91264355862939, 1.0, 1.0, 0.8937967519664186, 1.0, 0.9029857536083117, 0.9443759943285215, 0.3650242689240454, 0.9810536225003127, 0.9855588486418311, 0.6017128607102341, 0.8962755608714035, 0.9654758275634815, 0.9356579747220761, 0.9539205990285585, 0.9169150637074779, 0.8753304483625309, 1.0, 1.0, 0.2694331275838745, 1.0, 1.0, 1.0, 0.5036360188277287, 0.9701170380839402, 1.0, 0.0012864626443866876, 0.016285597529387717, 0.9865556008367006, 0.7496588368197193, 1.0, 1.0, 0.2790039526137592, 0.1068393684793725, 0.9863822483337772, 0.8534852175587503, 0.9697833027329472, 1.0, 0.09004572932277118, 1.0, 0.9849848468166107, 0.9778184457010534, 1.0, 1.0, 1.0, 0.8712817684807792, 0.9626312413183113, 0.9738587884533126, 0.9056441914870446, 0.8847955609926897, 0.7597531890853502, 0.0012115529972715384, 1.0, 0.48808006937523, 1.0, 0.6682482012131978, 0.9910617779099974, 0.9562075685069829, 1.0, 0.6133593550984302, 0.9802929245181023, 0.8344794283074104, 0.643645688947684, 0.5066363005860407, 1.0, 1.0, 0.9107021175970889, 1.0, 1.0, 1.0, 0.7051147403484559, 1.0, 0.9667730617474674, 1.0, 0.8509287502306218, 0.9027711624457598, 0.8912874017029875, 1.0, 0.052063396482159616, 0.24362384887347602, 0.9838982718666816, 1.0, 1.0, 1.0, 0.48237817301388347, 1.0, 1.0, 0.821707840311955, 0.8853476209982971, 1.0, 1.0, 0.3052486290089238, 0.5746017362628755, 1.0, 1.0, 0.05353527260697636, 0.40721699319774884, 0.9445663497039173, 0.8300246379794308, 0.9206617748791708, 1.0, 0.4212252275047627, 0.630498576396317, 0.9789989071506947, 1.0, 0.8344159290334968, 0.8838147164039157, 0.6060703747757924, 0.5667449789846399, 0.4665823126292364, 0.861262899322436, 0.9768461499347681, 1.0, 1.0, 0.6022711091738625, 1.0, 0.6842748596563789, 1.0, 1.0, 0.9829305294027432, 1.0, 0.9926063727544947, 0.956399577826468, 0.9602300089678465, 0.9871733475180986, 1.0, 0.3142030382859225, 0.9641007571000817, 0.35103222514502536, 0.8145987797847997, 0.7326863735826139, 0.19529838709648029, 1.0, 0.9308228446255193, 0.3164091182862471, 0.8890624579577668, 0.9578340000344215, 0.0044997282628093565, 1.0, 0.5695844009177954, 0.9157550427393114, 1.0, 1.0, 0.6829717861301963, 0.959587884355421, 0.9355808791870353, 0.8534852175587503, 0.006645028435012646, 0.7268921068204064, 0.2790039526137592, 0.31180756420092653, 0.8557718904435404, 0.9886003980996754, 0.9619955077355798, 0.9487720306428751, 0.9867820106583164, 1.0, 0.9802929245181023, 0.7308369770086646, 1.0, 1.0, 1.0, 0.8408592188808959, 1.0, 0.8337161567080342, 0.9560739745493696, 1.0, 0.7854679003826377, 0.5369010143317854, 0.9278040558200676, 1.0, 1.0, 1.0, 0.26593448669079534, 1.0, 0.9850778067271126, 0.6881573368990407, 0.9804306374489726, 0.3951177250673627, 1.0, 1.0, 0.8937967519664186, 0.9774832303826853, 0.8937967519664186, 0.9721607022410123, 0.9527468999609215, 0.9635008403704333, 0.19207107744503774, 1.0, 1.0, 0.8484203570251516, 0.9775273003817765, 0.9440114889055451, 0.4462047183645954, 0.318084069720588, 0.9920435798847398, 0.3025380513428546, 0.9634651997063601, 1.0, 0.8819217420005968, 0.9543198996237159, 0.8091351846694214, 0.9960018149111498, 0.4526052025852123, 1.0, 0.01112952450405694, 0.9451384253595275, 0.9982062693662677, 0.9623203152557573, 0.9216438455964473, 0.7674760172415057, 1.0, 0.8847955609926897, 1.0, 0.8286892989957977, 0.8524252666860507, 0.5284465263223949, 1.0, 0.8769980753548049, 0.8502670764336127, 0.9136894827258539, 1.0, 0.8364885550443596, 0.910032058967544, 1.0, 1.0, 0.9760348761283525, 1.0, 1.0, 0.4309489977643759, 0.963669006527516, 1.0, 0.9529145138508185, 1.0, 0.8323030418722426, 1.0, 0.4720895828164529, 1.0, 0.8843950871473052, 1.0, 1.0, 0.5985957454210454, 0.868408377392121, 1.0, 1.0, 0.3951177250673627, 0.8209752268891968, 1.0, 0.47239048535998324, 0.4031629655260009, 0.891651485918125, 0.9889402341724135, 0.3591197867638168, 0.9499731353014093, 0.9834913658594739, 1.0, 0.6273992311101724, 0.9919177105258409, 1.0, 0.40721699319774884, 1.0, 1.0, 0.9293200964612226, 0.853607300082263, 0.5883325356658019, 0.9420763014451282, 0.5236645950021759, 1.0, 1.0, 1.0, 0.013176754086875478, 0.01857396812745639, 0.4926909426271311, 0.9451753924384083, 0.7051147403484559, 0.9509261964550615, 0.07213147002275316, 1.0, 0.9891870452573391, 2.8342926403063757e-06, 1.0, 0.12594758933349226, 1.0, 1.0, 0.9471642050122886, 0.9424151452321738, 0.7159165439865239, 0.9801287656591325, 0.9849545762275944, 0.8516351018260523, 0.6575509842198001, 0.7147440787595943, 1.0, 0.9739716544092042, 0.9584863163741797, 1.0, 0.058504448455524, 1.0, 0.3251703575361395, 0.8563350071372174, 1.0, 0.2689971633490764, 0.9213046101663674, 0.8875977896653172, 0.9481217217085638, 0.8685306403575205, 0.6674971115791855, 0.6746647400772964, 0.9514433164501093, 0.9834913658594739, 0.6616194748074339, 1.0, 0.9583029058277557, 0.8630914621351885, 0.9721040871240638, 0.9824942418364848, 1.0, 0.9147203617246114, 0.8912874017029875, 1.0, 0.7517318240315835, 1.0, 0.6927132824551364, 0.9464298531934511, 0.8607518802434871, 0.958907097846033, 0.804170648693902, 0.2790039526137592, 0.9949793012891207, 0.9721607022410123, 0.356744803687595, 1.0, 0.985319539076171, 1.0, 0.10001600187706391, 0.9730038629835075, 0.9831388715671132, 0.9545092856487699, 0.5581909159427113, 0.5100401223894107, 0.8888603897018895, 0.9873826374014922, 1.0, 1.0, 0.3111970533821313, 0.09147599550287745, 0.8712817684807792, 0.913091981426763, 0.9041377503390203, 1.0, 0.7537005031425947, 0.31180756420092653, 0.968729359636749, 0.997498493109653, 1.0, 0.2501831063084216, 0.4602265274212251, 0.5525015305547077, 1.0, 1.0, 0.3319176797852302, 0.8968930526022426, 0.4506023145988578, 0.9450501564755742, 1.0, 0.9916450074776478, 0.903290783757202, 0.9848026271736197, 0.4760224198203747, 0.23193608041522917, 1.0, 0.8434313510313253, 0.9016176485220802, 0.21300316266850888, 0.9784879313930408, 0.9929517512813542, 0.7326863735826139, 0.9768269316030151, 1.0, 0.9845486657730292, 1.0, 0.8382337308040466, 0.9742578499613068, 0.6951063148343257, 0.8417224644502169, 0.7723538708023842, 0.8399900450956242, 0.4270643420101925, 0.9694312417690946, 1.0, 0.9967211236152462, 0.5558885470565208, 0.8852834149800153, 1.0, 0.9827869606669746, 0.8540620710915178, 0.0008117238875969898, 1.0, 0.9793397178009094, 1.0, 0.7725760846833285, 1.0, 0.8744693392712908, 1.0, 0.9437442825506662, 1.0, 0.08083693196313593, 0.6825904667875601, 0.38666738178823834, 1.0015220424424532e-08, 0.9898613897796867, 9.91672190598317e-05, 0.03219387822087129, 0.449948034006385, 0.7621082972976788, 1.0, 0.5883325356658019, 0.918166224979237, 0.8867660497050323, 0.32554330093967726, 0.864879720803253, 0.2790039526137592, 0.8006600100795601, 0.9356579747220761, 0.9097771825831377, 0.4399525542252706, 0.5221810053198466, 1.0, 0.8547639662900698, 0.9871035389012252, 0.5454131946886449, 1.0, 0.877714392893866, 0.4536631801856875, 1.0, 1.0, 0.8768014259544793, 0.4031629655260009, 0.8015803356177549, 1.0, 0.8871538763548781, 0.08623180861864473, 0.5883325356658019, 0.7794494916278202, 0.4536631801856875, 1.0, 1.0, 1.0, 0.7163048184478034, 0.925836603227076, 0.8562591411144093, 0.7511571595413803, 1.0, 1.0, 0.8678487298328609, 0.7586199571488204, 0.7969138554029976, 1.0, 0.8385219136841311, 0.054431496393894926, 1.0, 0.010014666018650436, 0.40721699319774884, 0.2280490416568385, 0.8830720679912665, 1.0, 0.4536631801856875, 0.7224517406042475, 0.0441167824401502, 0.8975620580971669, 0.9974208389156741, 0.9863200376950969, 0.8830387863700091, 0.932552526061331, 0.8437104876931227, 0.7225649999243078, 1.0, 0.7720561826967823, 0.9903342302021975, 1.0, 0.8014384265279085, 0.2694331275838745, 0.04742184290334748, 0.5495810318668147, 0.20507184937391576, 0.9875598233848303, 0.28860080610829564, 0.00043691370225210996, 0.577719416822316, 0.9896837606113017, 0.8945263645697465, 1.0, 1.0, 0.953082404675437, 1.0, 0.9259084615785915, 0.8398561484374228, 1.0, 0.12645073873064627, 0.9416305947047285, 1.0, 0.8890624579577668, 1.0, 1.0, 0.934501520553224, 0.8499495471358068, 0.28203074080033474, 0.37400554908015193, 0.8231685806378188, 1.0, 0.9146842024410228, 0.9071795168140264, 0.08810865606301681, 0.9416083006816476, 0.7450853367024382, 0.9734932933217141, 1.0, 1.0, 0.9136047687989567, 0.9730038629835075, 0.013011611427287571, 0.3949708703244629, 0.16380401808668862, 1.0, 0.32554330093967726, 0.5791566042045535, 1.0, 1.0, 1.0, 0.8993259091708434, 0.9697863311723032, 0.18885981711390004, 1.0, 1.0, 0.9954881832103459, 0.3523635335970487, 0.5867974138241692, 0.9456989909889326, 0.1355079617538102, 0.9943778334928143, 0.7707538345738294, 1.0, 0.973726997336131, 0.5254282932904636, 1.0, 1.0, 0.9079641529290559, 0.834185278902478, 0.11249537586022595, 0.9567407143531391, 1.0, 0.9896837606113017, 0.9260014773790088, 0.36109988972956447, 0.985319539076171, 0.7375268718212479, 1.0, 1.0, 1.0, 0.6950121196535997, 0.9389042715699368, 0.9635656907450705, 0.8454189490931071, 1.0, 1.0, 1.0, 0.9443057143195243, 0.925836603227076, 0.19547908680494816, 0.9948154103511236, 0.9724931601697661, 0.013378646090063546, 1.0, 0.5957842492419682, 0.6388408161124021, 1.0, 0.9787173015860329, 1.0, 1.0, 0.7478865531034774, 0.2501831063084216, 0.9787112981245304, 0.9718605728282538, 0.9824864481583637, 1.0, 1.0, 1.0, 0.3981669342050536, 0.5060627082964592, 0.9842938208124338, 0.48252997821597504, 0.08499361289924888, 0.5272435433002133, 1.0, 0.5695230850550395, 0.5406728093059293, 0.4295273034763612, 0.9213986631292695, 0.9578155831920588, 0.678909696612717, 0.9664109047607505, 0.6682482012131978, 0.9422122120430195, 0.7393944889010993, 0.8281301888182181, 1.0, 0.6037653496738932, 0.0024672314529376725, 0.07538796664881506, 1.0, 0.45446331474480156, 0.006570104597102486, 1.0, 0.7603461607616862, 0.027816426473959446, 0.9411106508564518, 0.49943048710106197, 0.9177007609223607, 0.9532408442717536, 1.0, 0.920632641365569, 0.93998533629837, 0.41124290386206613, 0.9133181650136633, 1.0, 0.7159165439865239, 0.9632135746577517, 0.9535804537712991, 0.8523209739254338, 0.9961934676069543, 0.9498892096423985, 0.9937938152874172, 0.8759102890879085, 0.9752418901713555, 0.9201666619208628, 0.09797228783741838, 0.9575317022391615, 0.5358598551185939, 1.0, 0.9667855820648716, 0.8971374646020015, 1.0, 1.0, 0.5750101262978614, 0.9450989608220616, 0.3657049110657255, 0.288563532200119, 1.0, 0.8908668412772509, 0.9337226265744051, 0.9815329376980754, 1.0, 1.0, 0.5722780749926618, 0.9895397285863388, 1.0, 0.6427713127025557, 0.8252979200931027, 0.5315409498265896, 0.8989414002785169, 0.9783486372302729, 0.904916390334351, 0.5223446904247456, 0.8422993617852833, 1.0, 0.843119076678163, 1.0, 0.2918978878718823, 0.19547908680494816, 0.8962172256535436, 0.9905470103136489, 1.0, 0.902679221286564, 3.0320760538737278e-05, 0.8808244489653286, 1.0, 0.4835286537269446, 0.11049475186733201, 0.19854127035961133, 0.004800103970787509, 0.21426720446710845, 1.0, 0.8609349310189472, 1.0, 0.7771419541829967, 0.9498066118208827, 0.0030244679350303343, 0.7997332571142445, 0.9480276220402327, 0.030251159191240433, 0.3251703575361395, 0.45735020990641645, 0.9505805643980151, 0.9913609166102018, 0.42875855394508644, 0.7163048184478034, 0.9536051815064384, 1.0, 0.5557567674712833, 0.5525015305547077, 0.8585582164767562, 1.0, 1.0, 0.8570558168986765, 0.0012864626443866876, 1.0, 1.0, 0.6976367275571881, 0.9898613897796867, 0.06797012846995702, 0.9583411784516435, 0.8757774173625543, 0.9432735731176286, 0.9612504579366576, 1.0, 1.0, 0.8763720842766923, 0.9730576731173728, 0.6674971115791855, 1.0, 0.8972284022649173, 0.9820953802032154, 0.9769430464864121, 0.07538796664881506, 0.9317471765683037, 0.8927324499612864, 0.7477262177902151, 0.920874293813662, 1.0, 0.8745547908981819, 0.22834916073419464, 1.0, 0.3874391641620626, 0.32554330093967726, 0.5960621233912613, 1.0, 0.9004363435745688, 1.0, 0.9281137117959989, 0.8078473561972473, 0.46886352913713886, 0.48237817301388347, 0.8920136800088747, 0.3665009225931183, 1.0, 0.2978711890408351, 1.0, 0.2550238161911014, 0.5722780749926618, 0.5705774445221902, 0.9802929245181023, 1.0, 0.9871733475180986, 0.07784565371749791, 0.7013391533880576, 0.9667730617474674, 1.0, 0.8524252666860507, 0.9318547046932656, 1.0, 0.8020887705161834, 0.016910616200422765, 0.9910617779099974, 0.3164091182862471, 4.3130889626182173e-07, 0.8884251141598208, 0.007100279736776996, 0.449948034006385, 1.0, 0.975961346804547, 0.8209752268891968, 1.0, 0.9693042344581695, 1.0, 1.0, 0.6932804108621142, 1.0, 1.0, 0.6694401341000502, 1.0, 0.9565252646304121, 0.27875848373923745, 0.7091245956400407, 0.7750826116472849, 1.0, 1.0, 1.0, 0.38666738178823834, 0.07213147002275316, 1.0, 0.0009861226950036248, 0.930447437919951, 1.0, 1.0, 0.9990806882140153, 1.0, 0.6296714705417735, 1.0, 0.3435235840784731, 1.0, 0.6751683287076762, 0.9179281172059376, 0.6906695422624154, 0.00012429368930279161, 0.45111790992932654, 0.9737338387757978, 0.8232777708792702, 0.9322913406814569, 1.0, 0.6437629394559554, 0.9233446329465383, 0.9945549655361081, 1.0, 0.8508395698345248, 0.9919525754169874, 0.5344594682655948, 0.9168076727495377, 0.8166505635678963, 0.9884846805119887, 0.9462371019094047, 0.9861775186368587, 1.0, 0.8077336890539212, 0.23338168032206277, 0.8970160581951688, 1.0, 0.9566283716437989, 0.20835858892343687, 1.0, 0.7599296433199815, 1.0, 0.8811121783285768, 1.0, 0.8555330688935028, 1.0, 1.0, 0.9677646117896068, 0.9925268341272656, 1.0, 0.9326402403718929, 1.0, 0.9846412628027159, 0.8030162860674445, 0.41921014246468746, 1.0, 0.30770303545214583, 1.0, 0.01575892856349395, 1.0, 1.0, 0.5516862209810005, 0.9077440319329653, 1.0, 1.0, 0.9231534946324421, 1.0, 1.0, 1.0, 0.9358744313419912, 1.0, 1.0, 0.6974831191557262, 1.0, 1.0, 1.0, 0.009561400681793564, 0.9785335612606566, 1.0, 1.0, 0.6227973739360909, 0.8109207121089058, 0.042514254860434746, 0.8802688849865934, 0.9962247789332127, 0.5526366828780922, 1.0, 0.7388715861018754, 0.731648995179273, 1.0, 0.856510280041, 1.0, 0.9322694762848756, 0.9877262606027977, 0.9309459660355718, 0.7998661410861037, 0.5716650361827189, 1.0, 0.8467799482358339, 0.9513251267415698, 1.0, 0.4666839192997936, 1.0, 1.0, 0.9816286519819117, 0.9451047970970474, 1.0, 1.0, 1.0, 0.3654285322819586, 1.0, 1.0, 0.9981664061921616, 0.9632135746577517, 0.8024843125324636, 0.7298118208842345, 1.0, 0.9920973975874371, 0.8781455829197311, 1.0, 1.0, 0.9432816261371724, 1.0, 0.9134283679910946, 0.9881292227294107, 0.9394235806487472, 0.46562864392477216, 0.8763570980569197, 0.9775280027048755, 0.9697058594405239, 0.44243318849833924, 0.20669813653981667, 0.6236400421075795, 1.0, 1.0, 1.0, 1.0, 0.6802215641083029, 0.017819942956167536, 1.0, 0.8886847675240698, 0.803834563001065, 0.6702684878230809, 0.4975554092946316, 1.0, 1.0, 1.0, 0.951148174631879, 1.0, 1.0, 0.7269181578776368, 0.9880519485654922, 1.0, 0.8841889198765407, 0.8555330688935028, 1.0, 1.0, 0.7041924819951215, 0.33214992285358297, 0.735516612910566, 0.00024073646439388735, 0.8492322391524737, 0.8346479421791584, 1.0, 0.9786121550449014, 0.7898658998626384, 1.0, 1.0, 0.43863340827390307, 0.971064577475892, 1.0, 0.9121870717524259, 0.6906695422624154, 1.0, 0.7697829819863425, 1.0, 1.0, 1.0, 1.0, 0.9685904673356329, 0.780970846054745, 0.7146578497922719, 1.0, 1.0, 0.25985081843128033, 0.9126646422712656, 1.0, 0.34754441814588105, 0.2694600607419148, 1.0, 1.0, 1.0, 0.41524063641456527, 1.0, 1.0, 1.0, 0.8819463147341923, 0.8425798269084648, 0.9809708749050801, 0.8766497193668574, 1.0, 0.608081996627401, 0.8024942906644084, 0.9632851977256316, 0.9222964820416867, 0.8355536510558884, 0.6390183365028025, 1.0, 1.0, 1.0, 0.8499495471358068, 0.7147440787595943, 0.39908089519202, 0.0014301847962105137, 1.0, 0.9080894397404878, 1.0, 0.1225086067484059, 0.8713016079833547, 0.7878766931939805, 0.9593099837418018, 0.1287166527466585, 0.7193895221175959, 0.991061607006385, 0.7777196249717476, 0.8171092769420729, 0.8845202684726502, 0.9917821946911226, 0.8337359800306748, 1.0, 1.0, 0.9550150051451235, 1.0, 0.8871630271332561, 1.0, 6.94603132044781e-06, 0.678909696612717, 0.06932548469309376, 1.0, 0.9919196765093152, 0.8551415642634848, 0.884551817248763, 0.8006600100795601, 0.30071696012151844, 1.0, 1.0, 0.8600405768412697, 0.6854403065566566, 1.0, 0.9566712789729023, 1.0, 1.0, 1.0, 1.0, 0.9930458488414822, 0.8778024591831922, 0.9531611127114855, 0.5104473717730421, 0.8902336215174949, 0.9862227038361339, 1.0, 1.0, 1.0, 0.9689732809326247, 0.9983717094170447, 1.0, 1.0, 1.0, 0.8011238869313794, 1.0, 0.9183664520404219, 0.0040785049664698435, 0.8962172256535436, 1.0, 0.934042414427723, 1.0, 1.0, 1.0, 0.02268962813019532, 1.0, 6.363513105243347e-06, 1.0, 1.0, 0.2694600607419148, 0.025538495835039317, 0.9205203943332504, 1.0, 0.6605299091289113, 1.0, 0.8685306403575205, 1.0, 1.0, 0.1232042351311557, 1.0, 1.0, 1.0, 0.6011082099595375, 0.9426003336929436, 0.7725760846833285, 1.0, 1.0, 0.2501831063084216, 1.0, 0.7627582577184638, 0.4892806012725246, 0.36109988972956447, 0.9903378207123447, 0.9877262606027977, 0.5582701961859422, 0.5060627082964592, 1.0, 0.9427573558855491, 0.5358598551185939, 0.8986730230053837, 1.0, 1.0, 0.8954430588190305, 0.6534448404481685, 0.8831806374000319, 1.0, 0.5553978608844453, 1.0, 0.8232777708792702, 0.6244456034149755, 1.0, 1.0, 1.0, 1.0, 1.0, 0.24872837876127457, 0.7450392284773044, 1.0, 0.9746128070364436, 0.9671639472191665, 0.9911730417697988, 0.9217830918520336, 0.9411106508564518, 1.0, 1.0, 0.9811242483624428, 0.8111440717284918, 0.9704265092659852, 0.02290807583834744, 0.9767917376859442, 1.0, 0.449948034006385, 1.0, 1.0, 1.0, 1.0, 0.955478696366068, 0.9381775113906662, 0.9212102756181578, 0.7930611101632274, 1.0, 0.7613561231064653, 0.951720382004237, 1.0, 0.9332879559134789, 1.0, 0.0012208851375033996, 1.0, 1.0, 1.0, 0.6385731055081342, 0.9456989909889326, 0.3840260412335827, 0.41524063641456527, 1.0, 1.0, 1.0, 1.0, 0.5705774445221902, 0.3931255453881746, 0.8806916845932958, 1.0, 0.011868266207357682, 0.926197268126732, 1.0, 0.9157364372896093, 0.8867302772626996, 0.9922285747254018, 0.8862425310174235, 0.6367342339407708, 1.0, 0.9946594467501031, 1.0, 0.9948217652670466, 0.6861777413383784, 0.8351112281457398, 0.3523635335970487, 0.9938373808863997, 0.837719563645587, 0.04804648122128064, 0.14345437906891306, 1.0, 1.0, 0.4665823126292364, 0.9121113199617658, 0.06404983314720536, 1.0, 0.10455388558534237, 1.0, 0.8340853936653481, 0.9608487942432714, 1.0, 0.5346100291781214, 0.9481217217085638, 0.9468609327920792, 0.6555963663828098, 0.5093389105892754, 1.0, 1.0, 0.961951508858029, 0.9742036311749107, 1.0, 1.0, 0.8871538763548781, 1.0, 0.9500422034388175, 0.03580807022007912, 0.9811138462477552, 0.4005066941284314, 0.4682432462180212, 0.9101927476136468, 0.6763515349793515, 1.0, 0.5750101262978614, 1.0, 1.0, 0.9501171621795508, 1.0, 0.875107747722269, 0.6595735854106625, 0.9663771223197105, 0.9496438266036354, 1.0, 0.7147440787595943, 0.9756046842573819, 0.8769257234229547, 0.8717742679167169, 1.0, 0.6492911214645004, 0.8978940315121337, 0.6534552581392982, 0.9582635701051341, 1.0, 1.0, 0.8203106485668378, 0.9135136013771641]\n"
          ],
          "name": "stdout"
        }
      ]
    },
    {
      "cell_type": "code",
      "metadata": {
        "id": "1xqZ2MpDNfso",
        "outputId": "f6e6e63b-f206-4663-f84e-9264942467d8",
        "colab": {
          "base_uri": "https://localhost:8080/"
        }
      },
      "source": [
        "len(lst)"
      ],
      "execution_count": 88,
      "outputs": [
        {
          "output_type": "execute_result",
          "data": {
            "text/plain": [
              "5881"
            ]
          },
          "metadata": {
            "tags": []
          },
          "execution_count": 88
        }
      ]
    },
    {
      "cell_type": "code",
      "metadata": {
        "id": "d5j2sG8tzWKn",
        "outputId": "17fe7a0f-3227-4d7e-df90-ef6896ae3f5f",
        "colab": {
          "base_uri": "https://localhost:8080/",
          "height": 551
        }
      },
      "source": [
        "\n",
        "from lifetimes.plotting import plot_probability_alive_matrix\n",
        "fig =plt.figure(figsize=(12,8))\n",
        "plot_probability_alive_matrix(bgf)\n"
      ],
      "execution_count": 89,
      "outputs": [
        {
          "output_type": "execute_result",
          "data": {
            "text/plain": [
              "<matplotlib.axes._subplots.AxesSubplot at 0x7ff2c16237b8>"
            ]
          },
          "metadata": {
            "tags": []
          },
          "execution_count": 89
        },
        {
          "output_type": "display_data",
          "data": {
            "image/png": "[encoded data removed]",
            "text/plain": [
              "<Figure size 864x576 with 2 Axes>"
            ]
          },
          "metadata": {
            "tags": [],
            "needs_background": "light"
          }
        }
      ]
    },
    {
      "cell_type": "code",
      "metadata": {
        "id": "5nGKJQIE79OL",
        "outputId": "3a1c13db-97fd-40f6-e786-3fdda291f0ad",
        "colab": {
          "base_uri": "https://localhost:8080/"
        }
      },
      "source": [
        "all_customers_summary = data.copy()\n",
        "print(len(all_customers_summary)) "
      ],
      "execution_count": 90,
      "outputs": [
        {
          "output_type": "stream",
          "text": [
            "5881\n"
          ],
          "name": "stdout"
        }
      ]
    },
    {
      "cell_type": "code",
      "metadata": {
        "id": "XMxQjSJc0R1B",
        "outputId": "2981474f-6d44-46a8-eb8d-bf07287727a9",
        "colab": {
          "base_uri": "https://localhost:8080/"
        }
      },
      "source": [
        "\n",
        "returning_customers_summary = data[data['frequency']>0]\n",
        "print(returning_customers_summary.head())\n",
        "print(len(returning_customers_summary)) \n"
      ],
      "execution_count": 91,
      "outputs": [
        {
          "output_type": "stream",
          "text": [
            "            frequency  recency      T  monetary_value\n",
            "CustomerID                                           \n",
            "12346.0           7.0    400.0  726.0    11066.637143\n",
            "12347.0           7.0    402.0  405.0      717.398571\n",
            "12348.0           4.0    363.0  439.0      449.310000\n",
            "12349.0           3.0    571.0  590.0     1120.056667\n",
            "12352.0           8.0    356.0  393.0      338.261250\n",
            "4189\n"
          ],
          "name": "stdout"
        }
      ]
    },
    {
      "cell_type": "code",
      "metadata": {
        "id": "KWA7lO330UxD",
        "outputId": "df5c25bf-e11b-423c-c6fb-b7d4401bbc5e",
        "colab": {
          "base_uri": "https://localhost:8080/"
        }
      },
      "source": [
        "\n",
        "from lifetimes import GammaGammaFitter\n",
        "ggf = GammaGammaFitter(penalizer_coef = 0)\n",
        "ggf.fit(returning_customers_summary['frequency'],\n",
        "        returning_customers_summary['monetary_value'])\n",
        "print(ggf)\n"
      ],
      "execution_count": 92,
      "outputs": [
        {
          "output_type": "stream",
          "text": [
            "<lifetimes.GammaGammaFitter: fitted with 4189 subjects, p: 2.13, q: 3.53, v: 486.53>\n"
          ],
          "name": "stdout"
        }
      ]
    },
    {
      "cell_type": "code",
      "metadata": {
        "id": "ieoNLuZ-0dcM",
        "outputId": "888f1a1c-2c5a-4b20-d34f-1f6b5fd03e0e",
        "colab": {
          "base_uri": "https://localhost:8080/"
        }
      },
      "source": [
        "#After applying Gamma-Gamma model, now we can estimate average transaction value for each customer. \n",
        "\n",
        "print(ggf.conditional_expected_average_profit(\n",
        "        all_customers_summary['frequency'],\n",
        "        all_customers_summary['monetary_value']\n",
        "    ).head(10))\n",
        "\n"
      ],
      "execution_count": 93,
      "outputs": [
        {
          "output_type": "stream",
          "text": [
            "CustomerID\n",
            "12346.0    9520.529482\n",
            "12347.0     672.740683\n",
            "12348.0     440.212758\n",
            "12349.0     918.531323\n",
            "12350.0     409.579325\n",
            "12351.0     409.579325\n",
            "12352.0     347.481829\n",
            "12353.0     263.054511\n",
            "12354.0     409.579325\n",
            "12355.0     432.350492\n",
            "dtype: float64\n"
          ],
          "name": "stdout"
        }
      ]
    },
    {
      "cell_type": "code",
      "metadata": {
        "id": "8H-spZuh7Lkx",
        "outputId": "48dca2d6-4246-4575-b8ff-c60e4443c835",
        "colab": {
          "base_uri": "https://localhost:8080/"
        }
      },
      "source": [
        "len(all_customers_summary)"
      ],
      "execution_count": 94,
      "outputs": [
        {
          "output_type": "execute_result",
          "data": {
            "text/plain": [
              "5881"
            ]
          },
          "metadata": {
            "tags": []
          },
          "execution_count": 94
        }
      ]
    },
    {
      "cell_type": "code",
      "metadata": {
        "id": "mSvsAHan82Od",
        "outputId": "dec4f124-6fa0-44ac-ff79-cf9dd0cdfa0c",
        "colab": {
          "base_uri": "https://localhost:8080/",
          "height": 233
        }
      },
      "source": [
        "#Calculate Customer Lifetime Value\n",
        "all_customers_summary['CLV'] = round(ggf.customer_lifetime_value(\n",
        "    bgf, all_customers_summary['frequency'],all_customers_summary['recency'],\n",
        "    all_customers_summary['T'], all_customers_summary['monetary_value'],\n",
        "    time=12, discount_rate=0.01 ), 2)\n",
        "\n",
        "all_customers_summary.head() \n"
      ],
      "execution_count": 95,
      "outputs": [
        {
          "output_type": "execute_result",
          "data": {
            "text/html": [
              "<div>\n",
              "<style scoped>\n",
              "    .dataframe tbody tr th:only-of-type {\n",
              "        vertical-align: middle;\n",
              "    }\n",
              "\n",
              "    .dataframe tbody tr th {\n",
              "        vertical-align: top;\n",
              "    }\n",
              "\n",
              "    .dataframe thead th {\n",
              "        text-align: right;\n",
              "    }\n",
              "</style>\n",
              "<table border=\"1\" class=\"dataframe\">\n",
              "  <thead>\n",
              "    <tr style=\"text-align: right;\">\n",
              "      <th></th>\n",
              "      <th>frequency</th>\n",
              "      <th>recency</th>\n",
              "      <th>T</th>\n",
              "      <th>monetary_value</th>\n",
              "      <th>CLV</th>\n",
              "    </tr>\n",
              "    <tr>\n",
              "      <th>CustomerID</th>\n",
              "      <th></th>\n",
              "      <th></th>\n",
              "      <th></th>\n",
              "      <th></th>\n",
              "      <th></th>\n",
              "    </tr>\n",
              "  </thead>\n",
              "  <tbody>\n",
              "    <tr>\n",
              "      <th>12346.0</th>\n",
              "      <td>7.0</td>\n",
              "      <td>400.0</td>\n",
              "      <td>726.0</td>\n",
              "      <td>11066.637143</td>\n",
              "      <td>17255.85</td>\n",
              "    </tr>\n",
              "    <tr>\n",
              "      <th>12347.0</th>\n",
              "      <td>7.0</td>\n",
              "      <td>402.0</td>\n",
              "      <td>405.0</td>\n",
              "      <td>717.398571</td>\n",
              "      <td>3554.63</td>\n",
              "    </tr>\n",
              "    <tr>\n",
              "      <th>12348.0</th>\n",
              "      <td>4.0</td>\n",
              "      <td>363.0</td>\n",
              "      <td>439.0</td>\n",
              "      <td>449.310000</td>\n",
              "      <td>1285.67</td>\n",
              "    </tr>\n",
              "    <tr>\n",
              "      <th>12349.0</th>\n",
              "      <td>3.0</td>\n",
              "      <td>571.0</td>\n",
              "      <td>590.0</td>\n",
              "      <td>1120.056667</td>\n",
              "      <td>1655.55</td>\n",
              "    </tr>\n",
              "    <tr>\n",
              "      <th>12350.0</th>\n",
              "      <td>0.0</td>\n",
              "      <td>0.0</td>\n",
              "      <td>311.0</td>\n",
              "      <td>0.000000</td>\n",
              "      <td>238.11</td>\n",
              "    </tr>\n",
              "  </tbody>\n",
              "</table>\n",
              "</div>"
            ],
            "text/plain": [
              "            frequency  recency      T  monetary_value       CLV\n",
              "CustomerID                                                     \n",
              "12346.0           7.0    400.0  726.0    11066.637143  17255.85\n",
              "12347.0           7.0    402.0  405.0      717.398571   3554.63\n",
              "12348.0           4.0    363.0  439.0      449.310000   1285.67\n",
              "12349.0           3.0    571.0  590.0     1120.056667   1655.55\n",
              "12350.0           0.0      0.0  311.0        0.000000    238.11"
            ]
          },
          "metadata": {
            "tags": []
          },
          "execution_count": 95
        }
      ]
    },
    {
      "cell_type": "code",
      "metadata": {
        "id": "UvCUZ26t-cAK",
        "outputId": "1f224c3e-65ea-47b8-e780-2a252105be75",
        "colab": {
          "base_uri": "https://localhost:8080/"
        }
      },
      "source": [
        "Unique_Customers1 = len( all_customers_summary )\n",
        "Unique_Customers1"
      ],
      "execution_count": 96,
      "outputs": [
        {
          "output_type": "execute_result",
          "data": {
            "text/plain": [
              "5881"
            ]
          },
          "metadata": {
            "tags": []
          },
          "execution_count": 96
        }
      ]
    },
    {
      "cell_type": "code",
      "metadata": {
        "id": "s-J_o_arThyO",
        "outputId": "655663a3-6816-492c-a194-c8405dde18b6",
        "colab": {
          "base_uri": "https://localhost:8080/",
          "height": 386
        }
      },
      "source": [
        "all_customers_summary['Alive Probability'] = lst\n",
        "\n",
        "all_customers_summary['pred_txn for_30days'] = data2['pred_num_txn']\n",
        "\n",
        "all_customers_summary.head(10)\n"
      ],
      "execution_count": 97,
      "outputs": [
        {
          "output_type": "execute_result",
          "data": {
            "text/html": [
              "<div>\n",
              "<style scoped>\n",
              "    .dataframe tbody tr th:only-of-type {\n",
              "        vertical-align: middle;\n",
              "    }\n",
              "\n",
              "    .dataframe tbody tr th {\n",
              "        vertical-align: top;\n",
              "    }\n",
              "\n",
              "    .dataframe thead th {\n",
              "        text-align: right;\n",
              "    }\n",
              "</style>\n",
              "<table border=\"1\" class=\"dataframe\">\n",
              "  <thead>\n",
              "    <tr style=\"text-align: right;\">\n",
              "      <th></th>\n",
              "      <th>frequency</th>\n",
              "      <th>recency</th>\n",
              "      <th>T</th>\n",
              "      <th>monetary_value</th>\n",
              "      <th>CLV</th>\n",
              "      <th>Alive Probability</th>\n",
              "      <th>pred_txn for_30days</th>\n",
              "    </tr>\n",
              "    <tr>\n",
              "      <th>CustomerID</th>\n",
              "      <th></th>\n",
              "      <th></th>\n",
              "      <th></th>\n",
              "      <th></th>\n",
              "      <th></th>\n",
              "      <th></th>\n",
              "      <th></th>\n",
              "    </tr>\n",
              "  </thead>\n",
              "  <tbody>\n",
              "    <tr>\n",
              "      <th>12346.0</th>\n",
              "      <td>7.0</td>\n",
              "      <td>400.0</td>\n",
              "      <td>726.0</td>\n",
              "      <td>11066.637143</td>\n",
              "      <td>17255.85</td>\n",
              "      <td>0.535346</td>\n",
              "      <td>0.16</td>\n",
              "    </tr>\n",
              "    <tr>\n",
              "      <th>12347.0</th>\n",
              "      <td>7.0</td>\n",
              "      <td>402.0</td>\n",
              "      <td>405.0</td>\n",
              "      <td>717.398571</td>\n",
              "      <td>3554.63</td>\n",
              "      <td>0.543545</td>\n",
              "      <td>0.48</td>\n",
              "    </tr>\n",
              "    <tr>\n",
              "      <th>12348.0</th>\n",
              "      <td>4.0</td>\n",
              "      <td>363.0</td>\n",
              "      <td>439.0</td>\n",
              "      <td>449.310000</td>\n",
              "      <td>1285.67</td>\n",
              "      <td>0.722565</td>\n",
              "      <td>0.27</td>\n",
              "    </tr>\n",
              "    <tr>\n",
              "      <th>12349.0</th>\n",
              "      <td>3.0</td>\n",
              "      <td>571.0</td>\n",
              "      <td>590.0</td>\n",
              "      <td>1120.056667</td>\n",
              "      <td>1655.55</td>\n",
              "      <td>0.944805</td>\n",
              "      <td>0.16</td>\n",
              "    </tr>\n",
              "    <tr>\n",
              "      <th>12350.0</th>\n",
              "      <td>0.0</td>\n",
              "      <td>0.0</td>\n",
              "      <td>311.0</td>\n",
              "      <td>0.000000</td>\n",
              "      <td>238.11</td>\n",
              "      <td>1.000000</td>\n",
              "      <td>0.05</td>\n",
              "    </tr>\n",
              "    <tr>\n",
              "      <th>12351.0</th>\n",
              "      <td>0.0</td>\n",
              "      <td>0.0</td>\n",
              "      <td>376.0</td>\n",
              "      <td>0.000000</td>\n",
              "      <td>203.60</td>\n",
              "      <td>1.000000</td>\n",
              "      <td>0.05</td>\n",
              "    </tr>\n",
              "    <tr>\n",
              "      <th>12352.0</th>\n",
              "      <td>8.0</td>\n",
              "      <td>356.0</td>\n",
              "      <td>393.0</td>\n",
              "      <td>338.261250</td>\n",
              "      <td>2106.28</td>\n",
              "      <td>0.238949</td>\n",
              "      <td>0.55</td>\n",
              "    </tr>\n",
              "    <tr>\n",
              "      <th>12353.0</th>\n",
              "      <td>1.0</td>\n",
              "      <td>204.0</td>\n",
              "      <td>409.0</td>\n",
              "      <td>89.000000</td>\n",
              "      <td>272.85</td>\n",
              "      <td>0.780824</td>\n",
              "      <td>0.09</td>\n",
              "    </tr>\n",
              "    <tr>\n",
              "      <th>12354.0</th>\n",
              "      <td>0.0</td>\n",
              "      <td>0.0</td>\n",
              "      <td>233.0</td>\n",
              "      <td>0.000000</td>\n",
              "      <td>299.02</td>\n",
              "      <td>1.000000</td>\n",
              "      <td>0.07</td>\n",
              "    </tr>\n",
              "    <tr>\n",
              "      <th>12355.0</th>\n",
              "      <td>1.0</td>\n",
              "      <td>353.0</td>\n",
              "      <td>568.0</td>\n",
              "      <td>459.400000</td>\n",
              "      <td>345.54</td>\n",
              "      <td>0.881530</td>\n",
              "      <td>0.07</td>\n",
              "    </tr>\n",
              "  </tbody>\n",
              "</table>\n",
              "</div>"
            ],
            "text/plain": [
              "            frequency  recency  ...  Alive Probability  pred_txn for_30days\n",
              "CustomerID                      ...                                        \n",
              "12346.0           7.0    400.0  ...           0.535346                 0.16\n",
              "12347.0           7.0    402.0  ...           0.543545                 0.48\n",
              "12348.0           4.0    363.0  ...           0.722565                 0.27\n",
              "12349.0           3.0    571.0  ...           0.944805                 0.16\n",
              "12350.0           0.0      0.0  ...           1.000000                 0.05\n",
              "12351.0           0.0      0.0  ...           1.000000                 0.05\n",
              "12352.0           8.0    356.0  ...           0.238949                 0.55\n",
              "12353.0           1.0    204.0  ...           0.780824                 0.09\n",
              "12354.0           0.0      0.0  ...           1.000000                 0.07\n",
              "12355.0           1.0    353.0  ...           0.881530                 0.07\n",
              "\n",
              "[10 rows x 7 columns]"
            ]
          },
          "metadata": {
            "tags": []
          },
          "execution_count": 97
        }
      ]
    },
    {
      "cell_type": "code",
      "metadata": {
        "id": "oyE1VhuD-lD4",
        "outputId": "2ad7b50d-5279-41b7-93f3-bff26ee4aeb2",
        "colab": {
          "base_uri": "https://localhost:8080/",
          "height": 355
        }
      },
      "source": [
        "all_customers_summary = all_customers_summary.reindex(columns= ['CustomerID','frequency','recency','T','monetary_value','CLV','Alive Probability','pred_txn for_30days'])\n",
        "\n",
        "all_customers_summary['CustomerID'] = all_customers_summary.index\n",
        "\n",
        "all_customers_summary.reset_index(drop=True, inplace=True)\n",
        "\n",
        "all_customers_summary.head(10)\n"
      ],
      "execution_count": 98,
      "outputs": [
        {
          "output_type": "execute_result",
          "data": {
            "text/html": [
              "<div>\n",
              "<style scoped>\n",
              "    .dataframe tbody tr th:only-of-type {\n",
              "        vertical-align: middle;\n",
              "    }\n",
              "\n",
              "    .dataframe tbody tr th {\n",
              "        vertical-align: top;\n",
              "    }\n",
              "\n",
              "    .dataframe thead th {\n",
              "        text-align: right;\n",
              "    }\n",
              "</style>\n",
              "<table border=\"1\" class=\"dataframe\">\n",
              "  <thead>\n",
              "    <tr style=\"text-align: right;\">\n",
              "      <th></th>\n",
              "      <th>CustomerID</th>\n",
              "      <th>frequency</th>\n",
              "      <th>recency</th>\n",
              "      <th>T</th>\n",
              "      <th>monetary_value</th>\n",
              "      <th>CLV</th>\n",
              "      <th>Alive Probability</th>\n",
              "      <th>pred_txn for_30days</th>\n",
              "    </tr>\n",
              "  </thead>\n",
              "  <tbody>\n",
              "    <tr>\n",
              "      <th>0</th>\n",
              "      <td>12346.0</td>\n",
              "      <td>7.0</td>\n",
              "      <td>400.0</td>\n",
              "      <td>726.0</td>\n",
              "      <td>11066.637143</td>\n",
              "      <td>17255.85</td>\n",
              "      <td>0.535346</td>\n",
              "      <td>0.16</td>\n",
              "    </tr>\n",
              "    <tr>\n",
              "      <th>1</th>\n",
              "      <td>12347.0</td>\n",
              "      <td>7.0</td>\n",
              "      <td>402.0</td>\n",
              "      <td>405.0</td>\n",
              "      <td>717.398571</td>\n",
              "      <td>3554.63</td>\n",
              "      <td>0.543545</td>\n",
              "      <td>0.48</td>\n",
              "    </tr>\n",
              "    <tr>\n",
              "      <th>2</th>\n",
              "      <td>12348.0</td>\n",
              "      <td>4.0</td>\n",
              "      <td>363.0</td>\n",
              "      <td>439.0</td>\n",
              "      <td>449.310000</td>\n",
              "      <td>1285.67</td>\n",
              "      <td>0.722565</td>\n",
              "      <td>0.27</td>\n",
              "    </tr>\n",
              "    <tr>\n",
              "      <th>3</th>\n",
              "      <td>12349.0</td>\n",
              "      <td>3.0</td>\n",
              "      <td>571.0</td>\n",
              "      <td>590.0</td>\n",
              "      <td>1120.056667</td>\n",
              "      <td>1655.55</td>\n",
              "      <td>0.944805</td>\n",
              "      <td>0.16</td>\n",
              "    </tr>\n",
              "    <tr>\n",
              "      <th>4</th>\n",
              "      <td>12350.0</td>\n",
              "      <td>0.0</td>\n",
              "      <td>0.0</td>\n",
              "      <td>311.0</td>\n",
              "      <td>0.000000</td>\n",
              "      <td>238.11</td>\n",
              "      <td>1.000000</td>\n",
              "      <td>0.05</td>\n",
              "    </tr>\n",
              "    <tr>\n",
              "      <th>5</th>\n",
              "      <td>12351.0</td>\n",
              "      <td>0.0</td>\n",
              "      <td>0.0</td>\n",
              "      <td>376.0</td>\n",
              "      <td>0.000000</td>\n",
              "      <td>203.60</td>\n",
              "      <td>1.000000</td>\n",
              "      <td>0.05</td>\n",
              "    </tr>\n",
              "    <tr>\n",
              "      <th>6</th>\n",
              "      <td>12352.0</td>\n",
              "      <td>8.0</td>\n",
              "      <td>356.0</td>\n",
              "      <td>393.0</td>\n",
              "      <td>338.261250</td>\n",
              "      <td>2106.28</td>\n",
              "      <td>0.238949</td>\n",
              "      <td>0.55</td>\n",
              "    </tr>\n",
              "    <tr>\n",
              "      <th>7</th>\n",
              "      <td>12353.0</td>\n",
              "      <td>1.0</td>\n",
              "      <td>204.0</td>\n",
              "      <td>409.0</td>\n",
              "      <td>89.000000</td>\n",
              "      <td>272.85</td>\n",
              "      <td>0.780824</td>\n",
              "      <td>0.09</td>\n",
              "    </tr>\n",
              "    <tr>\n",
              "      <th>8</th>\n",
              "      <td>12354.0</td>\n",
              "      <td>0.0</td>\n",
              "      <td>0.0</td>\n",
              "      <td>233.0</td>\n",
              "      <td>0.000000</td>\n",
              "      <td>299.02</td>\n",
              "      <td>1.000000</td>\n",
              "      <td>0.07</td>\n",
              "    </tr>\n",
              "    <tr>\n",
              "      <th>9</th>\n",
              "      <td>12355.0</td>\n",
              "      <td>1.0</td>\n",
              "      <td>353.0</td>\n",
              "      <td>568.0</td>\n",
              "      <td>459.400000</td>\n",
              "      <td>345.54</td>\n",
              "      <td>0.881530</td>\n",
              "      <td>0.07</td>\n",
              "    </tr>\n",
              "  </tbody>\n",
              "</table>\n",
              "</div>"
            ],
            "text/plain": [
              "   CustomerID  frequency  ...  Alive Probability  pred_txn for_30days\n",
              "0     12346.0        7.0  ...           0.535346                 0.16\n",
              "1     12347.0        7.0  ...           0.543545                 0.48\n",
              "2     12348.0        4.0  ...           0.722565                 0.27\n",
              "3     12349.0        3.0  ...           0.944805                 0.16\n",
              "4     12350.0        0.0  ...           1.000000                 0.05\n",
              "5     12351.0        0.0  ...           1.000000                 0.05\n",
              "6     12352.0        8.0  ...           0.238949                 0.55\n",
              "7     12353.0        1.0  ...           0.780824                 0.09\n",
              "8     12354.0        0.0  ...           1.000000                 0.07\n",
              "9     12355.0        1.0  ...           0.881530                 0.07\n",
              "\n",
              "[10 rows x 8 columns]"
            ]
          },
          "metadata": {
            "tags": []
          },
          "execution_count": 98
        }
      ]
    },
    {
      "cell_type": "code",
      "metadata": {
        "id": "InmjNyQnvJgB",
        "outputId": "63929ce4-11f6-4d10-eea4-7f2f6a338773",
        "colab": {
          "base_uri": "https://localhost:8080/",
          "height": 433
        }
      },
      "source": [
        "sorted_all_customers_summary = all_customers_summary.sort_values(by='CLV', ascending=False )\n",
        "\n",
        "sorted_all_customers_summary['rank'] = [ i for i in range(1,Unique_Customers1 + 1)  ]\n",
        "\n",
        "sorted_all_customers_summary.reset_index(drop=True, inplace=True)\n",
        "\n",
        "sorted_all_customers_summary\n"
      ],
      "execution_count": 99,
      "outputs": [
        {
          "output_type": "execute_result",
          "data": {
            "text/html": [
              "<div>\n",
              "<style scoped>\n",
              "    .dataframe tbody tr th:only-of-type {\n",
              "        vertical-align: middle;\n",
              "    }\n",
              "\n",
              "    .dataframe tbody tr th {\n",
              "        vertical-align: top;\n",
              "    }\n",
              "\n",
              "    .dataframe thead th {\n",
              "        text-align: right;\n",
              "    }\n",
              "</style>\n",
              "<table border=\"1\" class=\"dataframe\">\n",
              "  <thead>\n",
              "    <tr style=\"text-align: right;\">\n",
              "      <th></th>\n",
              "      <th>CustomerID</th>\n",
              "      <th>frequency</th>\n",
              "      <th>recency</th>\n",
              "      <th>T</th>\n",
              "      <th>monetary_value</th>\n",
              "      <th>CLV</th>\n",
              "      <th>Alive Probability</th>\n",
              "      <th>pred_txn for_30days</th>\n",
              "      <th>rank</th>\n",
              "    </tr>\n",
              "  </thead>\n",
              "  <tbody>\n",
              "    <tr>\n",
              "      <th>0</th>\n",
              "      <td>18102.0</td>\n",
              "      <td>66.0</td>\n",
              "      <td>738.0</td>\n",
              "      <td>739.0</td>\n",
              "      <td>9189.930455</td>\n",
              "      <td>247768.22</td>\n",
              "      <td>9.983717e-01</td>\n",
              "      <td>2.48</td>\n",
              "      <td>1</td>\n",
              "    </tr>\n",
              "    <tr>\n",
              "      <th>1</th>\n",
              "      <td>14646.0</td>\n",
              "      <td>90.0</td>\n",
              "      <td>736.0</td>\n",
              "      <td>738.0</td>\n",
              "      <td>5809.905333</td>\n",
              "      <td>214375.44</td>\n",
              "      <td>9.984936e-01</td>\n",
              "      <td>3.38</td>\n",
              "      <td>2</td>\n",
              "    </tr>\n",
              "    <tr>\n",
              "      <th>2</th>\n",
              "      <td>16446.0</td>\n",
              "      <td>1.0</td>\n",
              "      <td>205.0</td>\n",
              "      <td>206.0</td>\n",
              "      <td>168469.600000</td>\n",
              "      <td>147748.15</td>\n",
              "      <td>7.818840e-01</td>\n",
              "      <td>0.18</td>\n",
              "      <td>3</td>\n",
              "    </tr>\n",
              "    <tr>\n",
              "      <th>3</th>\n",
              "      <td>17450.0</td>\n",
              "      <td>30.0</td>\n",
              "      <td>430.0</td>\n",
              "      <td>439.0</td>\n",
              "      <td>6924.523000</td>\n",
              "      <td>132600.94</td>\n",
              "      <td>9.916722e-05</td>\n",
              "      <td>1.81</td>\n",
              "      <td>4</td>\n",
              "    </tr>\n",
              "    <tr>\n",
              "      <th>4</th>\n",
              "      <td>14156.0</td>\n",
              "      <td>120.0</td>\n",
              "      <td>729.0</td>\n",
              "      <td>739.0</td>\n",
              "      <td>2607.329750</td>\n",
              "      <td>128042.86</td>\n",
              "      <td>9.964738e-01</td>\n",
              "      <td>4.48</td>\n",
              "      <td>5</td>\n",
              "    </tr>\n",
              "    <tr>\n",
              "      <th>...</th>\n",
              "      <td>...</td>\n",
              "      <td>...</td>\n",
              "      <td>...</td>\n",
              "      <td>...</td>\n",
              "      <td>...</td>\n",
              "      <td>...</td>\n",
              "      <td>...</td>\n",
              "      <td>...</td>\n",
              "      <td>...</td>\n",
              "    </tr>\n",
              "    <tr>\n",
              "      <th>5876</th>\n",
              "      <td>15633.0</td>\n",
              "      <td>12.0</td>\n",
              "      <td>222.0</td>\n",
              "      <td>732.0</td>\n",
              "      <td>346.714167</td>\n",
              "      <td>0.52</td>\n",
              "      <td>2.559442e-04</td>\n",
              "      <td>0.00</td>\n",
              "      <td>5877</td>\n",
              "    </tr>\n",
              "    <tr>\n",
              "      <th>5877</th>\n",
              "      <td>14590.0</td>\n",
              "      <td>18.0</td>\n",
              "      <td>308.0</td>\n",
              "      <td>733.0</td>\n",
              "      <td>161.012222</td>\n",
              "      <td>0.16</td>\n",
              "      <td>1.030514e-04</td>\n",
              "      <td>0.00</td>\n",
              "      <td>5878</td>\n",
              "    </tr>\n",
              "    <tr>\n",
              "      <th>5878</th>\n",
              "      <td>13093.0</td>\n",
              "      <td>42.0</td>\n",
              "      <td>460.0</td>\n",
              "      <td>736.0</td>\n",
              "      <td>1284.528095</td>\n",
              "      <td>0.12</td>\n",
              "      <td>5.041853e-06</td>\n",
              "      <td>0.00</td>\n",
              "      <td>5879</td>\n",
              "    </tr>\n",
              "    <tr>\n",
              "      <th>5879</th>\n",
              "      <td>12835.0</td>\n",
              "      <td>36.0</td>\n",
              "      <td>309.0</td>\n",
              "      <td>737.0</td>\n",
              "      <td>159.950556</td>\n",
              "      <td>0.00</td>\n",
              "      <td>2.127819e-10</td>\n",
              "      <td>0.00</td>\n",
              "      <td>5880</td>\n",
              "    </tr>\n",
              "    <tr>\n",
              "      <th>5880</th>\n",
              "      <td>17448.0</td>\n",
              "      <td>17.0</td>\n",
              "      <td>148.0</td>\n",
              "      <td>646.0</td>\n",
              "      <td>830.904706</td>\n",
              "      <td>0.00</td>\n",
              "      <td>1.001522e-08</td>\n",
              "      <td>0.00</td>\n",
              "      <td>5881</td>\n",
              "    </tr>\n",
              "  </tbody>\n",
              "</table>\n",
              "<p>5881 rows × 9 columns</p>\n",
              "</div>"
            ],
            "text/plain": [
              "      CustomerID  frequency  ...  pred_txn for_30days  rank\n",
              "0        18102.0       66.0  ...                 2.48     1\n",
              "1        14646.0       90.0  ...                 3.38     2\n",
              "2        16446.0        1.0  ...                 0.18     3\n",
              "3        17450.0       30.0  ...                 1.81     4\n",
              "4        14156.0      120.0  ...                 4.48     5\n",
              "...          ...        ...  ...                  ...   ...\n",
              "5876     15633.0       12.0  ...                 0.00  5877\n",
              "5877     14590.0       18.0  ...                 0.00  5878\n",
              "5878     13093.0       42.0  ...                 0.00  5879\n",
              "5879     12835.0       36.0  ...                 0.00  5880\n",
              "5880     17448.0       17.0  ...                 0.00  5881\n",
              "\n",
              "[5881 rows x 9 columns]"
            ]
          },
          "metadata": {
            "tags": []
          },
          "execution_count": 99
        }
      ]
    },
    {
      "cell_type": "code",
      "metadata": {
        "id": "rdFstUki-ryY",
        "outputId": "db1e7a36-542d-408e-c8f1-61a25f385f7f",
        "colab": {
          "base_uri": "https://localhost:8080/",
          "height": 268
        }
      },
      "source": [
        "plt.plot( sorted_all_customers_summary['rank'] , sorted_all_customers_summary['CLV'] ) \n",
        "\n",
        "plt.show()"
      ],
      "execution_count": 46,
      "outputs": [
        {
          "output_type": "display_data",
          "data": {
            "image/png": "[encoded data removed]",
            "text/plain": [
              "<Figure size 432x288 with 1 Axes>"
            ]
          },
          "metadata": {
            "tags": [],
            "needs_background": "light"
          }
        }
      ]
    },
    {
      "cell_type": "code",
      "metadata": {
        "id": "dgvchR_F-1hm",
        "outputId": "7646b678-1178-4079-93db-e6d3449e25bb",
        "colab": {
          "base_uri": "https://localhost:8080/",
          "height": 268
        }
      },
      "source": [
        "plt.plot( sorted_all_customers_summary['rank'] , sorted_all_customers_summary['CLV'] ) \n",
        "\n",
        "plt.xlim(0,100)\n",
        "\n",
        "plt.show()\n",
        "\n"
      ],
      "execution_count": 48,
      "outputs": [
        {
          "output_type": "display_data",
          "data": {
            "image/png": "[encoded data removed]",
            "text/plain": [
              "<Figure size 432x288 with 1 Axes>"
            ]
          },
          "metadata": {
            "tags": [],
            "needs_background": "light"
          }
        }
      ]
    },
    {
      "cell_type": "code",
      "metadata": {
        "id": "XH22bEQf_6ry",
        "outputId": "2976dffc-d52d-4101-f9a4-a241d9624c64",
        "colab": {
          "base_uri": "https://localhost:8080/",
          "height": 459
        }
      },
      "source": [
        "sns.jointplot( x = 'rank' , y = 'Alive Probability' , data = sorted_all_customers_summary )\n"
      ],
      "execution_count": 100,
      "outputs": [
        {
          "output_type": "execute_result",
          "data": {
            "text/plain": [
              "<seaborn.axisgrid.JointGrid at 0x7ff2c9ff2390>"
            ]
          },
          "metadata": {
            "tags": []
          },
          "execution_count": 100
        },
        {
          "output_type": "display_data",
          "data": {
            "image/png": "[encoded data removed]",
            "text/plain": [
              "<Figure size 432x432 with 3 Axes>"
            ]
          },
          "metadata": {
            "tags": [],
            "needs_background": "light"
          }
        }
      ]
    },
    {
      "cell_type": "code",
      "metadata": {
        "id": "SLweZiXrCQau",
        "outputId": "3940cdd9-d957-451d-b0fc-14ac4b3869e5",
        "colab": {
          "base_uri": "https://localhost:8080/",
          "height": 433
        }
      },
      "source": [
        "sorted_all_customers_summary"
      ],
      "execution_count": 101,
      "outputs": [
        {
          "output_type": "execute_result",
          "data": {
            "text/html": [
              "<div>\n",
              "<style scoped>\n",
              "    .dataframe tbody tr th:only-of-type {\n",
              "        vertical-align: middle;\n",
              "    }\n",
              "\n",
              "    .dataframe tbody tr th {\n",
              "        vertical-align: top;\n",
              "    }\n",
              "\n",
              "    .dataframe thead th {\n",
              "        text-align: right;\n",
              "    }\n",
              "</style>\n",
              "<table border=\"1\" class=\"dataframe\">\n",
              "  <thead>\n",
              "    <tr style=\"text-align: right;\">\n",
              "      <th></th>\n",
              "      <th>CustomerID</th>\n",
              "      <th>frequency</th>\n",
              "      <th>recency</th>\n",
              "      <th>T</th>\n",
              "      <th>monetary_value</th>\n",
              "      <th>CLV</th>\n",
              "      <th>Alive Probability</th>\n",
              "      <th>pred_txn for_30days</th>\n",
              "      <th>rank</th>\n",
              "    </tr>\n",
              "  </thead>\n",
              "  <tbody>\n",
              "    <tr>\n",
              "      <th>0</th>\n",
              "      <td>18102.0</td>\n",
              "      <td>66.0</td>\n",
              "      <td>738.0</td>\n",
              "      <td>739.0</td>\n",
              "      <td>9189.930455</td>\n",
              "      <td>247768.22</td>\n",
              "      <td>9.983717e-01</td>\n",
              "      <td>2.48</td>\n",
              "      <td>1</td>\n",
              "    </tr>\n",
              "    <tr>\n",
              "      <th>1</th>\n",
              "      <td>14646.0</td>\n",
              "      <td>90.0</td>\n",
              "      <td>736.0</td>\n",
              "      <td>738.0</td>\n",
              "      <td>5809.905333</td>\n",
              "      <td>214375.44</td>\n",
              "      <td>9.984936e-01</td>\n",
              "      <td>3.38</td>\n",
              "      <td>2</td>\n",
              "    </tr>\n",
              "    <tr>\n",
              "      <th>2</th>\n",
              "      <td>16446.0</td>\n",
              "      <td>1.0</td>\n",
              "      <td>205.0</td>\n",
              "      <td>206.0</td>\n",
              "      <td>168469.600000</td>\n",
              "      <td>147748.15</td>\n",
              "      <td>7.818840e-01</td>\n",
              "      <td>0.18</td>\n",
              "      <td>3</td>\n",
              "    </tr>\n",
              "    <tr>\n",
              "      <th>3</th>\n",
              "      <td>17450.0</td>\n",
              "      <td>30.0</td>\n",
              "      <td>430.0</td>\n",
              "      <td>439.0</td>\n",
              "      <td>6924.523000</td>\n",
              "      <td>132600.94</td>\n",
              "      <td>9.916722e-05</td>\n",
              "      <td>1.81</td>\n",
              "      <td>4</td>\n",
              "    </tr>\n",
              "    <tr>\n",
              "      <th>4</th>\n",
              "      <td>14156.0</td>\n",
              "      <td>120.0</td>\n",
              "      <td>729.0</td>\n",
              "      <td>739.0</td>\n",
              "      <td>2607.329750</td>\n",
              "      <td>128042.86</td>\n",
              "      <td>9.964738e-01</td>\n",
              "      <td>4.48</td>\n",
              "      <td>5</td>\n",
              "    </tr>\n",
              "    <tr>\n",
              "      <th>...</th>\n",
              "      <td>...</td>\n",
              "      <td>...</td>\n",
              "      <td>...</td>\n",
              "      <td>...</td>\n",
              "      <td>...</td>\n",
              "      <td>...</td>\n",
              "      <td>...</td>\n",
              "      <td>...</td>\n",
              "      <td>...</td>\n",
              "    </tr>\n",
              "    <tr>\n",
              "      <th>5876</th>\n",
              "      <td>15633.0</td>\n",
              "      <td>12.0</td>\n",
              "      <td>222.0</td>\n",
              "      <td>732.0</td>\n",
              "      <td>346.714167</td>\n",
              "      <td>0.52</td>\n",
              "      <td>2.559442e-04</td>\n",
              "      <td>0.00</td>\n",
              "      <td>5877</td>\n",
              "    </tr>\n",
              "    <tr>\n",
              "      <th>5877</th>\n",
              "      <td>14590.0</td>\n",
              "      <td>18.0</td>\n",
              "      <td>308.0</td>\n",
              "      <td>733.0</td>\n",
              "      <td>161.012222</td>\n",
              "      <td>0.16</td>\n",
              "      <td>1.030514e-04</td>\n",
              "      <td>0.00</td>\n",
              "      <td>5878</td>\n",
              "    </tr>\n",
              "    <tr>\n",
              "      <th>5878</th>\n",
              "      <td>13093.0</td>\n",
              "      <td>42.0</td>\n",
              "      <td>460.0</td>\n",
              "      <td>736.0</td>\n",
              "      <td>1284.528095</td>\n",
              "      <td>0.12</td>\n",
              "      <td>5.041853e-06</td>\n",
              "      <td>0.00</td>\n",
              "      <td>5879</td>\n",
              "    </tr>\n",
              "    <tr>\n",
              "      <th>5879</th>\n",
              "      <td>12835.0</td>\n",
              "      <td>36.0</td>\n",
              "      <td>309.0</td>\n",
              "      <td>737.0</td>\n",
              "      <td>159.950556</td>\n",
              "      <td>0.00</td>\n",
              "      <td>2.127819e-10</td>\n",
              "      <td>0.00</td>\n",
              "      <td>5880</td>\n",
              "    </tr>\n",
              "    <tr>\n",
              "      <th>5880</th>\n",
              "      <td>17448.0</td>\n",
              "      <td>17.0</td>\n",
              "      <td>148.0</td>\n",
              "      <td>646.0</td>\n",
              "      <td>830.904706</td>\n",
              "      <td>0.00</td>\n",
              "      <td>1.001522e-08</td>\n",
              "      <td>0.00</td>\n",
              "      <td>5881</td>\n",
              "    </tr>\n",
              "  </tbody>\n",
              "</table>\n",
              "<p>5881 rows × 9 columns</p>\n",
              "</div>"
            ],
            "text/plain": [
              "      CustomerID  frequency  ...  pred_txn for_30days  rank\n",
              "0        18102.0       66.0  ...                 2.48     1\n",
              "1        14646.0       90.0  ...                 3.38     2\n",
              "2        16446.0        1.0  ...                 0.18     3\n",
              "3        17450.0       30.0  ...                 1.81     4\n",
              "4        14156.0      120.0  ...                 4.48     5\n",
              "...          ...        ...  ...                  ...   ...\n",
              "5876     15633.0       12.0  ...                 0.00  5877\n",
              "5877     14590.0       18.0  ...                 0.00  5878\n",
              "5878     13093.0       42.0  ...                 0.00  5879\n",
              "5879     12835.0       36.0  ...                 0.00  5880\n",
              "5880     17448.0       17.0  ...                 0.00  5881\n",
              "\n",
              "[5881 rows x 9 columns]"
            ]
          },
          "metadata": {
            "tags": []
          },
          "execution_count": 101
        }
      ]
    },
    {
      "cell_type": "code",
      "metadata": {
        "id": "oBcNi1CGgFux"
      },
      "source": [
        "sorted_all_customers_summary.to_csv(\"Customer_Lifetime_Value_Insights1.csv\")"
      ],
      "execution_count": 102,
      "outputs": []
    },
    {
      "cell_type": "code",
      "metadata": {
        "id": "kLsAYnAJgumD"
      },
      "source": [
        "sorted_all_customers_summary.to_excel('Customer_Lifetime_Value_Insights1.xlsx')"
      ],
      "execution_count": 103,
      "outputs": []
    },
    {
      "cell_type": "code",
      "metadata": {
        "id": "JBSAU2sRtlwA"
      },
      "source": [
        ""
      ],
      "execution_count": null,
      "outputs": []
    }
  ]
}