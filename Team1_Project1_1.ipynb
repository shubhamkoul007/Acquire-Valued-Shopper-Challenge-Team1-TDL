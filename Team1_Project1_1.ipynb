{
  "nbformat": 4,
  "nbformat_minor": 0,
  "metadata": {
    "colab": {
      "name": "Team1_Project1.1.ipynb",
      "provenance": [],
      "authorship_tag": "ABX9TyNrUbETvW2OGBEdNSy5b9qT",
      "include_colab_link": true
    },
    "kernelspec": {
      "name": "python3",
      "display_name": "Python 3"
    }
  },
  "cells": [
    {
      "cell_type": "markdown",
      "metadata": {
        "id": "view-in-github",
        "colab_type": "text"
      },
      "source": [
        "<a href=\"https://colab.research.google.com/github/shubhamkoul007/Acquire-Valued-Shopper-Challenge-Team1-TDL/blob/main/Team1_Project1_1.ipynb\" target=\"_parent\"><img src=\"https://colab.research.google.com/assets/colab-badge.svg\" alt=\"Open In Colab\"/></a>"
      ]
    },
    {
      "cell_type": "code",
      "metadata": {
        "id": "YYlPgZJWUnil"
      },
      "source": [
        "import pandas as pd\n",
        "import numpy as np \n",
        "import matplotlib.pyplot as plt\n",
        "%matplotlib inline\n",
        "import seaborn as sns\n",
        "\n",
        "\n"
      ],
      "execution_count": 176,
      "outputs": []
    },
    {
      "cell_type": "code",
      "metadata": {
        "id": "jHzWn1d_sy4W"
      },
      "source": [
        "data = pd.read_excel(\"Online Retail.xlsx\" )"
      ],
      "execution_count": 177,
      "outputs": []
    },
    {
      "cell_type": "code",
      "metadata": {
        "id": "YpT3CACjtEHx",
        "outputId": "b72b594b-0716-460c-c6a0-e896e3dde275",
        "colab": {
          "base_uri": "https://localhost:8080/",
          "height": 206
        }
      },
      "source": [
        "data.head()"
      ],
      "execution_count": 178,
      "outputs": [
        {
          "output_type": "execute_result",
          "data": {
            "text/html": [
              "<div>\n",
              "<style scoped>\n",
              "    .dataframe tbody tr th:only-of-type {\n",
              "        vertical-align: middle;\n",
              "    }\n",
              "\n",
              "    .dataframe tbody tr th {\n",
              "        vertical-align: top;\n",
              "    }\n",
              "\n",
              "    .dataframe thead th {\n",
              "        text-align: right;\n",
              "    }\n",
              "</style>\n",
              "<table border=\"1\" class=\"dataframe\">\n",
              "  <thead>\n",
              "    <tr style=\"text-align: right;\">\n",
              "      <th></th>\n",
              "      <th>InvoiceNo</th>\n",
              "      <th>StockCode</th>\n",
              "      <th>Description</th>\n",
              "      <th>Quantity</th>\n",
              "      <th>InvoiceDate</th>\n",
              "      <th>UnitPrice</th>\n",
              "      <th>CustomerID</th>\n",
              "      <th>Country</th>\n",
              "    </tr>\n",
              "  </thead>\n",
              "  <tbody>\n",
              "    <tr>\n",
              "      <th>0</th>\n",
              "      <td>536365</td>\n",
              "      <td>85123A</td>\n",
              "      <td>WHITE HANGING HEART T-LIGHT HOLDER</td>\n",
              "      <td>6</td>\n",
              "      <td>2010-12-01 08:26:00</td>\n",
              "      <td>2.55</td>\n",
              "      <td>17850.0</td>\n",
              "      <td>United Kingdom</td>\n",
              "    </tr>\n",
              "    <tr>\n",
              "      <th>1</th>\n",
              "      <td>536365</td>\n",
              "      <td>71053</td>\n",
              "      <td>WHITE METAL LANTERN</td>\n",
              "      <td>6</td>\n",
              "      <td>2010-12-01 08:26:00</td>\n",
              "      <td>3.39</td>\n",
              "      <td>17850.0</td>\n",
              "      <td>United Kingdom</td>\n",
              "    </tr>\n",
              "    <tr>\n",
              "      <th>2</th>\n",
              "      <td>536365</td>\n",
              "      <td>84406B</td>\n",
              "      <td>CREAM CUPID HEARTS COAT HANGER</td>\n",
              "      <td>8</td>\n",
              "      <td>2010-12-01 08:26:00</td>\n",
              "      <td>2.75</td>\n",
              "      <td>17850.0</td>\n",
              "      <td>United Kingdom</td>\n",
              "    </tr>\n",
              "    <tr>\n",
              "      <th>3</th>\n",
              "      <td>536365</td>\n",
              "      <td>84029G</td>\n",
              "      <td>KNITTED UNION FLAG HOT WATER BOTTLE</td>\n",
              "      <td>6</td>\n",
              "      <td>2010-12-01 08:26:00</td>\n",
              "      <td>3.39</td>\n",
              "      <td>17850.0</td>\n",
              "      <td>United Kingdom</td>\n",
              "    </tr>\n",
              "    <tr>\n",
              "      <th>4</th>\n",
              "      <td>536365</td>\n",
              "      <td>84029E</td>\n",
              "      <td>RED WOOLLY HOTTIE WHITE HEART.</td>\n",
              "      <td>6</td>\n",
              "      <td>2010-12-01 08:26:00</td>\n",
              "      <td>3.39</td>\n",
              "      <td>17850.0</td>\n",
              "      <td>United Kingdom</td>\n",
              "    </tr>\n",
              "  </tbody>\n",
              "</table>\n",
              "</div>"
            ],
            "text/plain": [
              "  InvoiceNo StockCode  ... CustomerID         Country\n",
              "0    536365    85123A  ...    17850.0  United Kingdom\n",
              "1    536365     71053  ...    17850.0  United Kingdom\n",
              "2    536365    84406B  ...    17850.0  United Kingdom\n",
              "3    536365    84029G  ...    17850.0  United Kingdom\n",
              "4    536365    84029E  ...    17850.0  United Kingdom\n",
              "\n",
              "[5 rows x 8 columns]"
            ]
          },
          "metadata": {
            "tags": []
          },
          "execution_count": 178
        }
      ]
    },
    {
      "cell_type": "code",
      "metadata": {
        "id": "NND4tQMJwzcW",
        "outputId": "e54e5a80-3f7d-44b4-9f83-8b08e043101b",
        "colab": {
          "base_uri": "https://localhost:8080/",
          "height": 34
        }
      },
      "source": [
        "data.shape"
      ],
      "execution_count": 179,
      "outputs": [
        {
          "output_type": "execute_result",
          "data": {
            "text/plain": [
              "(541909, 8)"
            ]
          },
          "metadata": {
            "tags": []
          },
          "execution_count": 179
        }
      ]
    },
    {
      "cell_type": "code",
      "metadata": {
        "id": "6qw2-k4ktQvH",
        "outputId": "ca3222a1-aa78-4a1b-e076-d724198a56ff",
        "colab": {
          "base_uri": "https://localhost:8080/",
          "height": 173
        }
      },
      "source": [
        "data.isnull().sum(axis=0) "
      ],
      "execution_count": 180,
      "outputs": [
        {
          "output_type": "execute_result",
          "data": {
            "text/plain": [
              "InvoiceNo           0\n",
              "StockCode           0\n",
              "Description      1454\n",
              "Quantity            0\n",
              "InvoiceDate         0\n",
              "UnitPrice           0\n",
              "CustomerID     135080\n",
              "Country             0\n",
              "dtype: int64"
            ]
          },
          "metadata": {
            "tags": []
          },
          "execution_count": 180
        }
      ]
    },
    {
      "cell_type": "code",
      "metadata": {
        "id": "VvEue-FL2MDv"
      },
      "source": [
        "#There are 1,35,000 entries where customer id is null.\n",
        "#Copying all the non null entries to the new data object \n",
        "#that doesn't have null entries for customerid\n",
        "\n",
        "data = data[ pd.notnull(data['CustomerID'])]\n"
      ],
      "execution_count": 181,
      "outputs": []
    },
    {
      "cell_type": "code",
      "metadata": {
        "id": "ZtZcHuTIpyWp",
        "outputId": "07c91db6-9c74-4350-fccf-e5391f0832ca",
        "colab": {
          "base_uri": "https://localhost:8080/",
          "height": 34
        }
      },
      "source": [
        "len(data[data['Quantity'] < 0 ]) "
      ],
      "execution_count": 182,
      "outputs": [
        {
          "output_type": "execute_result",
          "data": {
            "text/plain": [
              "8905"
            ]
          },
          "metadata": {
            "tags": []
          },
          "execution_count": 182
        }
      ]
    },
    {
      "cell_type": "code",
      "metadata": {
        "id": "qHHwT6WrqIzK"
      },
      "source": [
        "#Removing all the entries(rows) that have negative quantity\n",
        "\n",
        "data = data[data['Quantity'] > 0 ] \n",
        "\n",
        "#Adding a new column depicting total sales\n",
        "\n",
        "data['Total_Sales'] = data['Quantity'] * data['UnitPrice']"
      ],
      "execution_count": 183,
      "outputs": []
    },
    {
      "cell_type": "code",
      "metadata": {
        "id": "k4kzq56-HO8u",
        "outputId": "63620680-d958-45aa-fcb4-17c4b82c20de",
        "colab": {
          "base_uri": "https://localhost:8080/",
          "height": 206
        }
      },
      "source": [
        "data.head()"
      ],
      "execution_count": 184,
      "outputs": [
        {
          "output_type": "execute_result",
          "data": {
            "text/html": [
              "<div>\n",
              "<style scoped>\n",
              "    .dataframe tbody tr th:only-of-type {\n",
              "        vertical-align: middle;\n",
              "    }\n",
              "\n",
              "    .dataframe tbody tr th {\n",
              "        vertical-align: top;\n",
              "    }\n",
              "\n",
              "    .dataframe thead th {\n",
              "        text-align: right;\n",
              "    }\n",
              "</style>\n",
              "<table border=\"1\" class=\"dataframe\">\n",
              "  <thead>\n",
              "    <tr style=\"text-align: right;\">\n",
              "      <th></th>\n",
              "      <th>InvoiceNo</th>\n",
              "      <th>StockCode</th>\n",
              "      <th>Description</th>\n",
              "      <th>Quantity</th>\n",
              "      <th>InvoiceDate</th>\n",
              "      <th>UnitPrice</th>\n",
              "      <th>CustomerID</th>\n",
              "      <th>Country</th>\n",
              "      <th>Total_Sales</th>\n",
              "    </tr>\n",
              "  </thead>\n",
              "  <tbody>\n",
              "    <tr>\n",
              "      <th>0</th>\n",
              "      <td>536365</td>\n",
              "      <td>85123A</td>\n",
              "      <td>WHITE HANGING HEART T-LIGHT HOLDER</td>\n",
              "      <td>6</td>\n",
              "      <td>2010-12-01 08:26:00</td>\n",
              "      <td>2.55</td>\n",
              "      <td>17850.0</td>\n",
              "      <td>United Kingdom</td>\n",
              "      <td>15.30</td>\n",
              "    </tr>\n",
              "    <tr>\n",
              "      <th>1</th>\n",
              "      <td>536365</td>\n",
              "      <td>71053</td>\n",
              "      <td>WHITE METAL LANTERN</td>\n",
              "      <td>6</td>\n",
              "      <td>2010-12-01 08:26:00</td>\n",
              "      <td>3.39</td>\n",
              "      <td>17850.0</td>\n",
              "      <td>United Kingdom</td>\n",
              "      <td>20.34</td>\n",
              "    </tr>\n",
              "    <tr>\n",
              "      <th>2</th>\n",
              "      <td>536365</td>\n",
              "      <td>84406B</td>\n",
              "      <td>CREAM CUPID HEARTS COAT HANGER</td>\n",
              "      <td>8</td>\n",
              "      <td>2010-12-01 08:26:00</td>\n",
              "      <td>2.75</td>\n",
              "      <td>17850.0</td>\n",
              "      <td>United Kingdom</td>\n",
              "      <td>22.00</td>\n",
              "    </tr>\n",
              "    <tr>\n",
              "      <th>3</th>\n",
              "      <td>536365</td>\n",
              "      <td>84029G</td>\n",
              "      <td>KNITTED UNION FLAG HOT WATER BOTTLE</td>\n",
              "      <td>6</td>\n",
              "      <td>2010-12-01 08:26:00</td>\n",
              "      <td>3.39</td>\n",
              "      <td>17850.0</td>\n",
              "      <td>United Kingdom</td>\n",
              "      <td>20.34</td>\n",
              "    </tr>\n",
              "    <tr>\n",
              "      <th>4</th>\n",
              "      <td>536365</td>\n",
              "      <td>84029E</td>\n",
              "      <td>RED WOOLLY HOTTIE WHITE HEART.</td>\n",
              "      <td>6</td>\n",
              "      <td>2010-12-01 08:26:00</td>\n",
              "      <td>3.39</td>\n",
              "      <td>17850.0</td>\n",
              "      <td>United Kingdom</td>\n",
              "      <td>20.34</td>\n",
              "    </tr>\n",
              "  </tbody>\n",
              "</table>\n",
              "</div>"
            ],
            "text/plain": [
              "  InvoiceNo StockCode  ...         Country  Total_Sales\n",
              "0    536365    85123A  ...  United Kingdom        15.30\n",
              "1    536365     71053  ...  United Kingdom        20.34\n",
              "2    536365    84406B  ...  United Kingdom        22.00\n",
              "3    536365    84029G  ...  United Kingdom        20.34\n",
              "4    536365    84029E  ...  United Kingdom        20.34\n",
              "\n",
              "[5 rows x 9 columns]"
            ]
          },
          "metadata": {
            "tags": []
          },
          "execution_count": 184
        }
      ]
    },
    {
      "cell_type": "code",
      "metadata": {
        "id": "9tGImRMXGmpu"
      },
      "source": [
        "df = data.copy()\n",
        "\n",
        "import datetime as dt\n",
        "df['InvoiceDate'] = pd.to_datetime(df['InvoiceDate'])\n",
        "\n",
        "df['day'] = df['InvoiceDate'].dt.day\n",
        "df['month'] = df['InvoiceDate'].dt.month\n",
        "df['hour']=df['InvoiceDate'].dt.hour\n",
        "df['weekday'] = df['InvoiceDate'].dt.dayofweek\n",
        "\n"
      ],
      "execution_count": 185,
      "outputs": []
    },
    {
      "cell_type": "code",
      "metadata": {
        "id": "3HZNTljvKKbH",
        "outputId": "968233ce-ace8-4090-86d4-f387900f4b0d",
        "colab": {
          "base_uri": "https://localhost:8080/",
          "height": 282
        }
      },
      "source": [
        "df['hour'].plot(kind='hist', bins=30)"
      ],
      "execution_count": 186,
      "outputs": [
        {
          "output_type": "execute_result",
          "data": {
            "text/plain": [
              "<matplotlib.axes._subplots.AxesSubplot at 0x7f8f9def4c88>"
            ]
          },
          "metadata": {
            "tags": []
          },
          "execution_count": 186
        },
        {
          "output_type": "display_data",
          "data": {
            "image/png": "[encoded data removed]",
            "text/plain": [
              "<Figure size 432x288 with 1 Axes>"
            ]
          },
          "metadata": {
            "tags": [],
            "needs_background": "light"
          }
        }
      ]
    },
    {
      "cell_type": "code",
      "metadata": {
        "id": "_c4mExWQKMfM",
        "outputId": "42405aad-0686-4d0d-a090-5ba217445a4e",
        "colab": {
          "base_uri": "https://localhost:8080/",
          "height": 282
        }
      },
      "source": [
        "df['month'].plot(kind='hist', bins=30)"
      ],
      "execution_count": 187,
      "outputs": [
        {
          "output_type": "execute_result",
          "data": {
            "text/plain": [
              "<matplotlib.axes._subplots.AxesSubplot at 0x7f8f9b3b98d0>"
            ]
          },
          "metadata": {
            "tags": []
          },
          "execution_count": 187
        },
        {
          "output_type": "display_data",
          "data": {
            "image/png": "[encoded data removed]",
            "text/plain": [
              "<Figure size 432x288 with 1 Axes>"
            ]
          },
          "metadata": {
            "tags": [],
            "needs_background": "light"
          }
        }
      ]
    },
    {
      "cell_type": "code",
      "metadata": {
        "id": "guSkTzdzKMP8",
        "outputId": "341844c9-2bfb-468d-8023-c63b6a4b560e",
        "colab": {
          "base_uri": "https://localhost:8080/",
          "height": 282
        }
      },
      "source": [
        "df['day'].plot(kind='hist', bins=30)"
      ],
      "execution_count": 190,
      "outputs": [
        {
          "output_type": "execute_result",
          "data": {
            "text/plain": [
              "<matplotlib.axes._subplots.AxesSubplot at 0x7f8f9d77fb70>"
            ]
          },
          "metadata": {
            "tags": []
          },
          "execution_count": 190
        },
        {
          "output_type": "display_data",
          "data": {
            "image/png": "[encoded data removed]",
            "text/plain": [
              "<Figure size 432x288 with 1 Axes>"
            ]
          },
          "metadata": {
            "tags": [],
            "needs_background": "light"
          }
        }
      ]
    },
    {
      "cell_type": "code",
      "metadata": {
        "id": "_QfKX_OFKL-z",
        "outputId": "c82160b1-bf11-4140-d21e-f59e41fb788a",
        "colab": {
          "base_uri": "https://localhost:8080/",
          "height": 282
        }
      },
      "source": [
        "df['weekday'].plot(kind='hist', bins=30)"
      ],
      "execution_count": 189,
      "outputs": [
        {
          "output_type": "execute_result",
          "data": {
            "text/plain": [
              "<matplotlib.axes._subplots.AxesSubplot at 0x7f8fa1bcfe10>"
            ]
          },
          "metadata": {
            "tags": []
          },
          "execution_count": 189
        },
        {
          "output_type": "display_data",
          "data": {
            "image/png": "[encoded data removed]",
            "text/plain": [
              "<Figure size 432x288 with 1 Axes>"
            ]
          },
          "metadata": {
            "tags": [],
            "needs_background": "light"
          }
        }
      ]
    },
    {
      "cell_type": "code",
      "metadata": {
        "id": "Vm6uC-S8vfuQ"
      },
      "source": [
        "#Removing the time from Invoice Date\n",
        "\n",
        "data['InvoiceDate'] = pd.to_datetime( data['InvoiceDate'] , format = \"%y %m %d %H:%M\" ).dt.date"
      ],
      "execution_count": 191,
      "outputs": []
    },
    {
      "cell_type": "code",
      "metadata": {
        "id": "5bgCxG_v18Gl",
        "outputId": "7edb6320-1ecd-4b95-9e37-edbae012b636",
        "colab": {
          "base_uri": "https://localhost:8080/",
          "height": 206
        }
      },
      "source": [
        "data.head()"
      ],
      "execution_count": 192,
      "outputs": [
        {
          "output_type": "execute_result",
          "data": {
            "text/html": [
              "<div>\n",
              "<style scoped>\n",
              "    .dataframe tbody tr th:only-of-type {\n",
              "        vertical-align: middle;\n",
              "    }\n",
              "\n",
              "    .dataframe tbody tr th {\n",
              "        vertical-align: top;\n",
              "    }\n",
              "\n",
              "    .dataframe thead th {\n",
              "        text-align: right;\n",
              "    }\n",
              "</style>\n",
              "<table border=\"1\" class=\"dataframe\">\n",
              "  <thead>\n",
              "    <tr style=\"text-align: right;\">\n",
              "      <th></th>\n",
              "      <th>InvoiceNo</th>\n",
              "      <th>StockCode</th>\n",
              "      <th>Description</th>\n",
              "      <th>Quantity</th>\n",
              "      <th>InvoiceDate</th>\n",
              "      <th>UnitPrice</th>\n",
              "      <th>CustomerID</th>\n",
              "      <th>Country</th>\n",
              "      <th>Total_Sales</th>\n",
              "    </tr>\n",
              "  </thead>\n",
              "  <tbody>\n",
              "    <tr>\n",
              "      <th>0</th>\n",
              "      <td>536365</td>\n",
              "      <td>85123A</td>\n",
              "      <td>WHITE HANGING HEART T-LIGHT HOLDER</td>\n",
              "      <td>6</td>\n",
              "      <td>2010-12-01</td>\n",
              "      <td>2.55</td>\n",
              "      <td>17850.0</td>\n",
              "      <td>United Kingdom</td>\n",
              "      <td>15.30</td>\n",
              "    </tr>\n",
              "    <tr>\n",
              "      <th>1</th>\n",
              "      <td>536365</td>\n",
              "      <td>71053</td>\n",
              "      <td>WHITE METAL LANTERN</td>\n",
              "      <td>6</td>\n",
              "      <td>2010-12-01</td>\n",
              "      <td>3.39</td>\n",
              "      <td>17850.0</td>\n",
              "      <td>United Kingdom</td>\n",
              "      <td>20.34</td>\n",
              "    </tr>\n",
              "    <tr>\n",
              "      <th>2</th>\n",
              "      <td>536365</td>\n",
              "      <td>84406B</td>\n",
              "      <td>CREAM CUPID HEARTS COAT HANGER</td>\n",
              "      <td>8</td>\n",
              "      <td>2010-12-01</td>\n",
              "      <td>2.75</td>\n",
              "      <td>17850.0</td>\n",
              "      <td>United Kingdom</td>\n",
              "      <td>22.00</td>\n",
              "    </tr>\n",
              "    <tr>\n",
              "      <th>3</th>\n",
              "      <td>536365</td>\n",
              "      <td>84029G</td>\n",
              "      <td>KNITTED UNION FLAG HOT WATER BOTTLE</td>\n",
              "      <td>6</td>\n",
              "      <td>2010-12-01</td>\n",
              "      <td>3.39</td>\n",
              "      <td>17850.0</td>\n",
              "      <td>United Kingdom</td>\n",
              "      <td>20.34</td>\n",
              "    </tr>\n",
              "    <tr>\n",
              "      <th>4</th>\n",
              "      <td>536365</td>\n",
              "      <td>84029E</td>\n",
              "      <td>RED WOOLLY HOTTIE WHITE HEART.</td>\n",
              "      <td>6</td>\n",
              "      <td>2010-12-01</td>\n",
              "      <td>3.39</td>\n",
              "      <td>17850.0</td>\n",
              "      <td>United Kingdom</td>\n",
              "      <td>20.34</td>\n",
              "    </tr>\n",
              "  </tbody>\n",
              "</table>\n",
              "</div>"
            ],
            "text/plain": [
              "  InvoiceNo StockCode  ...         Country  Total_Sales\n",
              "0    536365    85123A  ...  United Kingdom        15.30\n",
              "1    536365     71053  ...  United Kingdom        20.34\n",
              "2    536365    84406B  ...  United Kingdom        22.00\n",
              "3    536365    84029G  ...  United Kingdom        20.34\n",
              "4    536365    84029E  ...  United Kingdom        20.34\n",
              "\n",
              "[5 rows x 9 columns]"
            ]
          },
          "metadata": {
            "tags": []
          },
          "execution_count": 192
        }
      ]
    },
    {
      "cell_type": "code",
      "metadata": {
        "id": "VQsj-mStsrdk",
        "outputId": "11209f3e-fb33-4b22-e8f3-daa96a084695",
        "colab": {
          "base_uri": "https://localhost:8080/",
          "height": 206
        }
      },
      "source": [
        "\n",
        "#Getting required columns only\n",
        "required_cols = ['CustomerID' , 'InvoiceDate' , 'Total_Sales']\n",
        "\n",
        "data = data[required_cols]\n",
        "\n",
        "data.head()"
      ],
      "execution_count": 193,
      "outputs": [
        {
          "output_type": "execute_result",
          "data": {
            "text/html": [
              "<div>\n",
              "<style scoped>\n",
              "    .dataframe tbody tr th:only-of-type {\n",
              "        vertical-align: middle;\n",
              "    }\n",
              "\n",
              "    .dataframe tbody tr th {\n",
              "        vertical-align: top;\n",
              "    }\n",
              "\n",
              "    .dataframe thead th {\n",
              "        text-align: right;\n",
              "    }\n",
              "</style>\n",
              "<table border=\"1\" class=\"dataframe\">\n",
              "  <thead>\n",
              "    <tr style=\"text-align: right;\">\n",
              "      <th></th>\n",
              "      <th>CustomerID</th>\n",
              "      <th>InvoiceDate</th>\n",
              "      <th>Total_Sales</th>\n",
              "    </tr>\n",
              "  </thead>\n",
              "  <tbody>\n",
              "    <tr>\n",
              "      <th>0</th>\n",
              "      <td>17850.0</td>\n",
              "      <td>2010-12-01</td>\n",
              "      <td>15.30</td>\n",
              "    </tr>\n",
              "    <tr>\n",
              "      <th>1</th>\n",
              "      <td>17850.0</td>\n",
              "      <td>2010-12-01</td>\n",
              "      <td>20.34</td>\n",
              "    </tr>\n",
              "    <tr>\n",
              "      <th>2</th>\n",
              "      <td>17850.0</td>\n",
              "      <td>2010-12-01</td>\n",
              "      <td>22.00</td>\n",
              "    </tr>\n",
              "    <tr>\n",
              "      <th>3</th>\n",
              "      <td>17850.0</td>\n",
              "      <td>2010-12-01</td>\n",
              "      <td>20.34</td>\n",
              "    </tr>\n",
              "    <tr>\n",
              "      <th>4</th>\n",
              "      <td>17850.0</td>\n",
              "      <td>2010-12-01</td>\n",
              "      <td>20.34</td>\n",
              "    </tr>\n",
              "  </tbody>\n",
              "</table>\n",
              "</div>"
            ],
            "text/plain": [
              "   CustomerID InvoiceDate  Total_Sales\n",
              "0     17850.0  2010-12-01        15.30\n",
              "1     17850.0  2010-12-01        20.34\n",
              "2     17850.0  2010-12-01        22.00\n",
              "3     17850.0  2010-12-01        20.34\n",
              "4     17850.0  2010-12-01        20.34"
            ]
          },
          "metadata": {
            "tags": []
          },
          "execution_count": 193
        }
      ]
    },
    {
      "cell_type": "code",
      "metadata": {
        "id": "3hZXRlq1v_N9",
        "outputId": "0d59f3e5-eb56-43d7-c601-c3c224f3c3db",
        "colab": {
          "base_uri": "https://localhost:8080/",
          "height": 34
        }
      },
      "source": [
        "data['CustomerID'].nunique()"
      ],
      "execution_count": 194,
      "outputs": [
        {
          "output_type": "execute_result",
          "data": {
            "text/plain": [
              "4339"
            ]
          },
          "metadata": {
            "tags": []
          },
          "execution_count": 194
        }
      ]
    },
    {
      "cell_type": "code",
      "metadata": {
        "id": "uZzto_9vwIZm",
        "outputId": "6cf5e58e-eeaf-44c8-e121-9e58958bd0a6",
        "colab": {
          "base_uri": "https://localhost:8080/",
          "height": 34
        }
      },
      "source": [
        "#Getting the last order date\n",
        "\n",
        "last_order_date = data['InvoiceDate'].max()\n",
        "\n",
        "last_order_date\n"
      ],
      "execution_count": 195,
      "outputs": [
        {
          "output_type": "execute_result",
          "data": {
            "text/plain": [
              "datetime.date(2011, 12, 9)"
            ]
          },
          "metadata": {
            "tags": []
          },
          "execution_count": 195
        }
      ]
    },
    {
      "cell_type": "markdown",
      "metadata": {
        "id": "JTFj17-ebEMr"
      },
      "source": [
        "**Pareto's 80-20 rule**\n",
        "\n",
        "It states that 80% results come from 20% causes. In this context,we can say 20% customers contribute to 80% total revenue.We will try to verify it here. If it is verified ,we can know which customers to focus on."
      ]
    },
    {
      "cell_type": "code",
      "metadata": {
        "id": "iBsmb8Pkbl4k",
        "outputId": "22b864a1-18ae-467c-a2dd-d6278d3a34a0",
        "colab": {
          "base_uri": "https://localhost:8080/",
          "height": 52
        }
      },
      "source": [
        "\n",
        "#get 80% of our total revenue\n",
        "pareto_cutoff=data['Total_Sales'].sum()*0.8\n",
        "print(\"80% of total revenue is\")\n",
        "print(round(pareto_cutoff,2))\n",
        "\n"
      ],
      "execution_count": 196,
      "outputs": [
        {
          "output_type": "stream",
          "text": [
            "80% of total revenue is\n",
            "7129126.32\n"
          ],
          "name": "stdout"
        }
      ]
    },
    {
      "cell_type": "code",
      "metadata": {
        "id": "aKMOZz_1nLh3",
        "outputId": "ba15aa05-fbd4-4fc0-e377-b0a1f5a687c2",
        "colab": {
          "base_uri": "https://localhost:8080/",
          "height": 206
        }
      },
      "source": [
        "df_customer_rank=data.groupby(['CustomerID'] , as_index = False )['Total_Sales'].sum()\n",
        "\n",
        "df_customer_rank.head()\n",
        "\n",
        "\n"
      ],
      "execution_count": 197,
      "outputs": [
        {
          "output_type": "execute_result",
          "data": {
            "text/html": [
              "<div>\n",
              "<style scoped>\n",
              "    .dataframe tbody tr th:only-of-type {\n",
              "        vertical-align: middle;\n",
              "    }\n",
              "\n",
              "    .dataframe tbody tr th {\n",
              "        vertical-align: top;\n",
              "    }\n",
              "\n",
              "    .dataframe thead th {\n",
              "        text-align: right;\n",
              "    }\n",
              "</style>\n",
              "<table border=\"1\" class=\"dataframe\">\n",
              "  <thead>\n",
              "    <tr style=\"text-align: right;\">\n",
              "      <th></th>\n",
              "      <th>CustomerID</th>\n",
              "      <th>Total_Sales</th>\n",
              "    </tr>\n",
              "  </thead>\n",
              "  <tbody>\n",
              "    <tr>\n",
              "      <th>0</th>\n",
              "      <td>12346.0</td>\n",
              "      <td>77183.60</td>\n",
              "    </tr>\n",
              "    <tr>\n",
              "      <th>1</th>\n",
              "      <td>12347.0</td>\n",
              "      <td>4310.00</td>\n",
              "    </tr>\n",
              "    <tr>\n",
              "      <th>2</th>\n",
              "      <td>12348.0</td>\n",
              "      <td>1797.24</td>\n",
              "    </tr>\n",
              "    <tr>\n",
              "      <th>3</th>\n",
              "      <td>12349.0</td>\n",
              "      <td>1757.55</td>\n",
              "    </tr>\n",
              "    <tr>\n",
              "      <th>4</th>\n",
              "      <td>12350.0</td>\n",
              "      <td>334.40</td>\n",
              "    </tr>\n",
              "  </tbody>\n",
              "</table>\n",
              "</div>"
            ],
            "text/plain": [
              "   CustomerID  Total_Sales\n",
              "0     12346.0     77183.60\n",
              "1     12347.0      4310.00\n",
              "2     12348.0      1797.24\n",
              "3     12349.0      1757.55\n",
              "4     12350.0       334.40"
            ]
          },
          "metadata": {
            "tags": []
          },
          "execution_count": 197
        }
      ]
    },
    {
      "cell_type": "code",
      "metadata": {
        "id": "_6Kj5wPgoD9L",
        "outputId": "0c8da6f7-2b69-497e-b848-4bebe2d5bffd",
        "colab": {
          "base_uri": "https://localhost:8080/",
          "height": 52
        }
      },
      "source": [
        "pareto_cutoff1=df_customer_rank['Total_Sales'].sum()*0.8\n",
        "print(\"80% of total revenue is\")\n",
        "print(round(pareto_cutoff,2))"
      ],
      "execution_count": 198,
      "outputs": [
        {
          "output_type": "stream",
          "text": [
            "80% of total revenue is\n",
            "7129126.32\n"
          ],
          "name": "stdout"
        }
      ]
    },
    {
      "cell_type": "code",
      "metadata": {
        "id": "8wu1katYbl0J",
        "outputId": "69578d78-5611-40a4-edf5-5201bead1c99",
        "colab": {
          "base_uri": "https://localhost:8080/",
          "height": 238
        }
      },
      "source": [
        "\n",
        "#make customer ID as index\n",
        "df_customer_rank=df_customer_rank.set_index('CustomerID')\n",
        "\n",
        "df_customer_rank.head()\n",
        "\n"
      ],
      "execution_count": 199,
      "outputs": [
        {
          "output_type": "execute_result",
          "data": {
            "text/html": [
              "<div>\n",
              "<style scoped>\n",
              "    .dataframe tbody tr th:only-of-type {\n",
              "        vertical-align: middle;\n",
              "    }\n",
              "\n",
              "    .dataframe tbody tr th {\n",
              "        vertical-align: top;\n",
              "    }\n",
              "\n",
              "    .dataframe thead th {\n",
              "        text-align: right;\n",
              "    }\n",
              "</style>\n",
              "<table border=\"1\" class=\"dataframe\">\n",
              "  <thead>\n",
              "    <tr style=\"text-align: right;\">\n",
              "      <th></th>\n",
              "      <th>Total_Sales</th>\n",
              "    </tr>\n",
              "    <tr>\n",
              "      <th>CustomerID</th>\n",
              "      <th></th>\n",
              "    </tr>\n",
              "  </thead>\n",
              "  <tbody>\n",
              "    <tr>\n",
              "      <th>12346.0</th>\n",
              "      <td>77183.60</td>\n",
              "    </tr>\n",
              "    <tr>\n",
              "      <th>12347.0</th>\n",
              "      <td>4310.00</td>\n",
              "    </tr>\n",
              "    <tr>\n",
              "      <th>12348.0</th>\n",
              "      <td>1797.24</td>\n",
              "    </tr>\n",
              "    <tr>\n",
              "      <th>12349.0</th>\n",
              "      <td>1757.55</td>\n",
              "    </tr>\n",
              "    <tr>\n",
              "      <th>12350.0</th>\n",
              "      <td>334.40</td>\n",
              "    </tr>\n",
              "  </tbody>\n",
              "</table>\n",
              "</div>"
            ],
            "text/plain": [
              "            Total_Sales\n",
              "CustomerID             \n",
              "12346.0        77183.60\n",
              "12347.0         4310.00\n",
              "12348.0         1797.24\n",
              "12349.0         1757.55\n",
              "12350.0          334.40"
            ]
          },
          "metadata": {
            "tags": []
          },
          "execution_count": 199
        }
      ]
    },
    {
      "cell_type": "code",
      "metadata": {
        "id": "_YdnZZGQblsa",
        "outputId": "6ec9d8af-fddd-4e46-e55c-4c0d67b04053",
        "colab": {
          "base_uri": "https://localhost:8080/",
          "height": 238
        }
      },
      "source": [
        "df_customer_rank[\"Rank\"]=df_customer_rank[\"Total_Sales\"].rank(ascending=False)\n",
        "df_customer_rank.head()"
      ],
      "execution_count": 200,
      "outputs": [
        {
          "output_type": "execute_result",
          "data": {
            "text/html": [
              "<div>\n",
              "<style scoped>\n",
              "    .dataframe tbody tr th:only-of-type {\n",
              "        vertical-align: middle;\n",
              "    }\n",
              "\n",
              "    .dataframe tbody tr th {\n",
              "        vertical-align: top;\n",
              "    }\n",
              "\n",
              "    .dataframe thead th {\n",
              "        text-align: right;\n",
              "    }\n",
              "</style>\n",
              "<table border=\"1\" class=\"dataframe\">\n",
              "  <thead>\n",
              "    <tr style=\"text-align: right;\">\n",
              "      <th></th>\n",
              "      <th>Total_Sales</th>\n",
              "      <th>Rank</th>\n",
              "    </tr>\n",
              "    <tr>\n",
              "      <th>CustomerID</th>\n",
              "      <th></th>\n",
              "      <th></th>\n",
              "    </tr>\n",
              "  </thead>\n",
              "  <tbody>\n",
              "    <tr>\n",
              "      <th>12346.0</th>\n",
              "      <td>77183.60</td>\n",
              "      <td>10.0</td>\n",
              "    </tr>\n",
              "    <tr>\n",
              "      <th>12347.0</th>\n",
              "      <td>4310.00</td>\n",
              "      <td>336.0</td>\n",
              "    </tr>\n",
              "    <tr>\n",
              "      <th>12348.0</th>\n",
              "      <td>1797.24</td>\n",
              "      <td>1006.0</td>\n",
              "    </tr>\n",
              "    <tr>\n",
              "      <th>12349.0</th>\n",
              "      <td>1757.55</td>\n",
              "      <td>1034.0</td>\n",
              "    </tr>\n",
              "    <tr>\n",
              "      <th>12350.0</th>\n",
              "      <td>334.40</td>\n",
              "      <td>3110.0</td>\n",
              "    </tr>\n",
              "  </tbody>\n",
              "</table>\n",
              "</div>"
            ],
            "text/plain": [
              "            Total_Sales    Rank\n",
              "CustomerID                     \n",
              "12346.0        77183.60    10.0\n",
              "12347.0         4310.00   336.0\n",
              "12348.0         1797.24  1006.0\n",
              "12349.0         1757.55  1034.0\n",
              "12350.0          334.40  3110.0"
            ]
          },
          "metadata": {
            "tags": []
          },
          "execution_count": 200
        }
      ]
    },
    {
      "cell_type": "code",
      "metadata": {
        "id": "Px-tsVqma_Zx",
        "outputId": "afb7da84-74a8-41f8-b4c1-4c2df4d32ba4",
        "colab": {
          "base_uri": "https://localhost:8080/",
          "height": 708
        }
      },
      "source": [
        "#sort by rank to get top customers\n",
        "df_customer_rank.sort_values('Rank',ascending=1 ,inplace = True)\n",
        "\n",
        "df_customer_rank.head(20)"
      ],
      "execution_count": 201,
      "outputs": [
        {
          "output_type": "execute_result",
          "data": {
            "text/html": [
              "<div>\n",
              "<style scoped>\n",
              "    .dataframe tbody tr th:only-of-type {\n",
              "        vertical-align: middle;\n",
              "    }\n",
              "\n",
              "    .dataframe tbody tr th {\n",
              "        vertical-align: top;\n",
              "    }\n",
              "\n",
              "    .dataframe thead th {\n",
              "        text-align: right;\n",
              "    }\n",
              "</style>\n",
              "<table border=\"1\" class=\"dataframe\">\n",
              "  <thead>\n",
              "    <tr style=\"text-align: right;\">\n",
              "      <th></th>\n",
              "      <th>Total_Sales</th>\n",
              "      <th>Rank</th>\n",
              "    </tr>\n",
              "    <tr>\n",
              "      <th>CustomerID</th>\n",
              "      <th></th>\n",
              "      <th></th>\n",
              "    </tr>\n",
              "  </thead>\n",
              "  <tbody>\n",
              "    <tr>\n",
              "      <th>14646.0</th>\n",
              "      <td>280206.02</td>\n",
              "      <td>1.0</td>\n",
              "    </tr>\n",
              "    <tr>\n",
              "      <th>18102.0</th>\n",
              "      <td>259657.30</td>\n",
              "      <td>2.0</td>\n",
              "    </tr>\n",
              "    <tr>\n",
              "      <th>17450.0</th>\n",
              "      <td>194550.79</td>\n",
              "      <td>3.0</td>\n",
              "    </tr>\n",
              "    <tr>\n",
              "      <th>16446.0</th>\n",
              "      <td>168472.50</td>\n",
              "      <td>4.0</td>\n",
              "    </tr>\n",
              "    <tr>\n",
              "      <th>14911.0</th>\n",
              "      <td>143825.06</td>\n",
              "      <td>5.0</td>\n",
              "    </tr>\n",
              "    <tr>\n",
              "      <th>12415.0</th>\n",
              "      <td>124914.53</td>\n",
              "      <td>6.0</td>\n",
              "    </tr>\n",
              "    <tr>\n",
              "      <th>14156.0</th>\n",
              "      <td>117379.63</td>\n",
              "      <td>7.0</td>\n",
              "    </tr>\n",
              "    <tr>\n",
              "      <th>17511.0</th>\n",
              "      <td>91062.38</td>\n",
              "      <td>8.0</td>\n",
              "    </tr>\n",
              "    <tr>\n",
              "      <th>16029.0</th>\n",
              "      <td>81024.84</td>\n",
              "      <td>9.0</td>\n",
              "    </tr>\n",
              "    <tr>\n",
              "      <th>12346.0</th>\n",
              "      <td>77183.60</td>\n",
              "      <td>10.0</td>\n",
              "    </tr>\n",
              "    <tr>\n",
              "      <th>16684.0</th>\n",
              "      <td>66653.56</td>\n",
              "      <td>11.0</td>\n",
              "    </tr>\n",
              "    <tr>\n",
              "      <th>14096.0</th>\n",
              "      <td>65164.79</td>\n",
              "      <td>12.0</td>\n",
              "    </tr>\n",
              "    <tr>\n",
              "      <th>13694.0</th>\n",
              "      <td>65039.62</td>\n",
              "      <td>13.0</td>\n",
              "    </tr>\n",
              "    <tr>\n",
              "      <th>15311.0</th>\n",
              "      <td>60767.90</td>\n",
              "      <td>14.0</td>\n",
              "    </tr>\n",
              "    <tr>\n",
              "      <th>13089.0</th>\n",
              "      <td>58825.83</td>\n",
              "      <td>15.0</td>\n",
              "    </tr>\n",
              "    <tr>\n",
              "      <th>17949.0</th>\n",
              "      <td>58510.48</td>\n",
              "      <td>16.0</td>\n",
              "    </tr>\n",
              "    <tr>\n",
              "      <th>15769.0</th>\n",
              "      <td>56252.72</td>\n",
              "      <td>17.0</td>\n",
              "    </tr>\n",
              "    <tr>\n",
              "      <th>15061.0</th>\n",
              "      <td>54534.14</td>\n",
              "      <td>18.0</td>\n",
              "    </tr>\n",
              "    <tr>\n",
              "      <th>14298.0</th>\n",
              "      <td>51527.30</td>\n",
              "      <td>19.0</td>\n",
              "    </tr>\n",
              "    <tr>\n",
              "      <th>14088.0</th>\n",
              "      <td>50491.81</td>\n",
              "      <td>20.0</td>\n",
              "    </tr>\n",
              "  </tbody>\n",
              "</table>\n",
              "</div>"
            ],
            "text/plain": [
              "            Total_Sales  Rank\n",
              "CustomerID                   \n",
              "14646.0       280206.02   1.0\n",
              "18102.0       259657.30   2.0\n",
              "17450.0       194550.79   3.0\n",
              "16446.0       168472.50   4.0\n",
              "14911.0       143825.06   5.0\n",
              "12415.0       124914.53   6.0\n",
              "14156.0       117379.63   7.0\n",
              "17511.0        91062.38   8.0\n",
              "16029.0        81024.84   9.0\n",
              "12346.0        77183.60  10.0\n",
              "16684.0        66653.56  11.0\n",
              "14096.0        65164.79  12.0\n",
              "13694.0        65039.62  13.0\n",
              "15311.0        60767.90  14.0\n",
              "13089.0        58825.83  15.0\n",
              "17949.0        58510.48  16.0\n",
              "15769.0        56252.72  17.0\n",
              "15061.0        54534.14  18.0\n",
              "14298.0        51527.30  19.0\n",
              "14088.0        50491.81  20.0"
            ]
          },
          "metadata": {
            "tags": []
          },
          "execution_count": 201
        }
      ]
    },
    {
      "cell_type": "code",
      "metadata": {
        "id": "59WzM-rcq5ui",
        "outputId": "bf51588d-3e85-4e9a-c4ab-d32c82455295",
        "colab": {
          "base_uri": "https://localhost:8080/",
          "height": 34
        }
      },
      "source": [
        "data['CustomerID'].nunique()\n"
      ],
      "execution_count": 202,
      "outputs": [
        {
          "output_type": "execute_result",
          "data": {
            "text/plain": [
              "4339"
            ]
          },
          "metadata": {
            "tags": []
          },
          "execution_count": 202
        }
      ]
    },
    {
      "cell_type": "code",
      "metadata": {
        "id": "5TQgTJtTsclU",
        "outputId": "f3a643d1-7749-484b-aa00-a15df61cc1eb",
        "colab": {
          "base_uri": "https://localhost:8080/",
          "height": 34
        }
      },
      "source": [
        "data['CustomerID'].nunique() *0.2 "
      ],
      "execution_count": 203,
      "outputs": [
        {
          "output_type": "execute_result",
          "data": {
            "text/plain": [
              "867.8000000000001"
            ]
          },
          "metadata": {
            "tags": []
          },
          "execution_count": 203
        }
      ]
    },
    {
      "cell_type": "code",
      "metadata": {
        "id": "8EVbO4XNdn6B",
        "outputId": "e5b68cc0-8dc3-4c8c-82fc-b6400863888b",
        "colab": {
          "base_uri": "https://localhost:8080/",
          "height": 52
        }
      },
      "source": [
        "\n",
        "top_20percent_Customer = data['CustomerID'].nunique() *0.2 \n",
        "\n",
        "#total revenue generation from these top 20 % customers\n",
        "observed_pareto_cutoff = df_customer_rank[df_customer_rank[\"Rank\"]<= top_20percent_Customer]['Total_Sales'].sum()\n",
        "\n",
        "print(observed_pareto_cutoff)\n",
        "\n",
        "if observed_pareto_cutoff > pareto_cutoff:\n",
        "   print(\"Our Model verifies Pareto's 80 20 rule\")\n",
        "else:\n",
        "   print(\"Our Model fails to Verify Pareto's 80 20 rule\")\n"
      ],
      "execution_count": 204,
      "outputs": [
        {
          "output_type": "stream",
          "text": [
            "6647378.010999998\n",
            "Our Model fails to Verify Pareto's 80 20 rule\n"
          ],
          "name": "stdout"
        }
      ]
    },
    {
      "cell_type": "code",
      "metadata": {
        "id": "7djtRtK0yS5q",
        "outputId": "364ad5e1-9cbb-45f9-ae0c-b84e4bff6b1a",
        "colab": {
          "base_uri": "https://localhost:8080/",
          "height": 191
        }
      },
      "source": [
        "!pip install lifetimes"
      ],
      "execution_count": 205,
      "outputs": [
        {
          "output_type": "stream",
          "text": [
            "Requirement already satisfied: lifetimes in /usr/local/lib/python3.6/dist-packages (0.11.3)\n",
            "Requirement already satisfied: pandas>=0.24.0 in /usr/local/lib/python3.6/dist-packages (from lifetimes) (1.1.2)\n",
            "Requirement already satisfied: scipy>=1.0.0 in /usr/local/lib/python3.6/dist-packages (from lifetimes) (1.4.1)\n",
            "Requirement already satisfied: autograd>=1.2.0 in /usr/local/lib/python3.6/dist-packages (from lifetimes) (1.3)\n",
            "Requirement already satisfied: dill>=0.2.6 in /usr/local/lib/python3.6/dist-packages (from lifetimes) (0.3.2)\n",
            "Requirement already satisfied: numpy>=1.10.0 in /usr/local/lib/python3.6/dist-packages (from lifetimes) (1.18.5)\n",
            "Requirement already satisfied: pytz>=2017.2 in /usr/local/lib/python3.6/dist-packages (from pandas>=0.24.0->lifetimes) (2018.9)\n",
            "Requirement already satisfied: python-dateutil>=2.7.3 in /usr/local/lib/python3.6/dist-packages (from pandas>=0.24.0->lifetimes) (2.8.1)\n",
            "Requirement already satisfied: future>=0.15.2 in /usr/local/lib/python3.6/dist-packages (from autograd>=1.2.0->lifetimes) (0.16.0)\n",
            "Requirement already satisfied: six>=1.5 in /usr/local/lib/python3.6/dist-packages (from python-dateutil>=2.7.3->pandas>=0.24.0->lifetimes) (1.15.0)\n"
          ],
          "name": "stdout"
        }
      ]
    },
    {
      "cell_type": "code",
      "metadata": {
        "id": "lzfFbaZztcJw",
        "outputId": "327ff43f-4aad-4442-a5f9-380018ac0416",
        "colab": {
          "base_uri": "https://localhost:8080/",
          "height": 206
        }
      },
      "source": [
        "from lifetimes.plotting import *\n",
        "from lifetimes.utils import *\n",
        "\n",
        "#Built-in utility functions from lifetimes package to \n",
        "#transform the transactional data (one row per purchase) \n",
        "#into summary data (a frequency, recency, age and monetary).\n",
        "\n",
        "lf_data = summary_data_from_transaction_data(data, 'CustomerID' , 'InvoiceDate' , monetary_value_col = 'Total_Sales' , observation_period_end = '2011-12-9')\n",
        "\n",
        "lf_data.reset_index().head()\n"
      ],
      "execution_count": 206,
      "outputs": [
        {
          "output_type": "execute_result",
          "data": {
            "text/html": [
              "<div>\n",
              "<style scoped>\n",
              "    .dataframe tbody tr th:only-of-type {\n",
              "        vertical-align: middle;\n",
              "    }\n",
              "\n",
              "    .dataframe tbody tr th {\n",
              "        vertical-align: top;\n",
              "    }\n",
              "\n",
              "    .dataframe thead th {\n",
              "        text-align: right;\n",
              "    }\n",
              "</style>\n",
              "<table border=\"1\" class=\"dataframe\">\n",
              "  <thead>\n",
              "    <tr style=\"text-align: right;\">\n",
              "      <th></th>\n",
              "      <th>CustomerID</th>\n",
              "      <th>frequency</th>\n",
              "      <th>recency</th>\n",
              "      <th>T</th>\n",
              "      <th>monetary_value</th>\n",
              "    </tr>\n",
              "  </thead>\n",
              "  <tbody>\n",
              "    <tr>\n",
              "      <th>0</th>\n",
              "      <td>12346.0</td>\n",
              "      <td>0.0</td>\n",
              "      <td>0.0</td>\n",
              "      <td>325.0</td>\n",
              "      <td>0.000000</td>\n",
              "    </tr>\n",
              "    <tr>\n",
              "      <th>1</th>\n",
              "      <td>12347.0</td>\n",
              "      <td>6.0</td>\n",
              "      <td>365.0</td>\n",
              "      <td>367.0</td>\n",
              "      <td>599.701667</td>\n",
              "    </tr>\n",
              "    <tr>\n",
              "      <th>2</th>\n",
              "      <td>12348.0</td>\n",
              "      <td>3.0</td>\n",
              "      <td>283.0</td>\n",
              "      <td>358.0</td>\n",
              "      <td>301.480000</td>\n",
              "    </tr>\n",
              "    <tr>\n",
              "      <th>3</th>\n",
              "      <td>12349.0</td>\n",
              "      <td>0.0</td>\n",
              "      <td>0.0</td>\n",
              "      <td>18.0</td>\n",
              "      <td>0.000000</td>\n",
              "    </tr>\n",
              "    <tr>\n",
              "      <th>4</th>\n",
              "      <td>12350.0</td>\n",
              "      <td>0.0</td>\n",
              "      <td>0.0</td>\n",
              "      <td>310.0</td>\n",
              "      <td>0.000000</td>\n",
              "    </tr>\n",
              "  </tbody>\n",
              "</table>\n",
              "</div>"
            ],
            "text/plain": [
              "   CustomerID  frequency  recency      T  monetary_value\n",
              "0     12346.0        0.0      0.0  325.0        0.000000\n",
              "1     12347.0        6.0    365.0  367.0      599.701667\n",
              "2     12348.0        3.0    283.0  358.0      301.480000\n",
              "3     12349.0        0.0      0.0   18.0        0.000000\n",
              "4     12350.0        0.0      0.0  310.0        0.000000"
            ]
          },
          "metadata": {
            "tags": []
          },
          "execution_count": 206
        }
      ]
    },
    {
      "cell_type": "code",
      "metadata": {
        "id": "tl11xA8Lw5db",
        "outputId": "ee538e7d-8755-448c-f539-4168485db51f",
        "colab": {
          "base_uri": "https://localhost:8080/",
          "height": 296
        }
      },
      "source": [
        "sns.distplot( lf_data['frequency'] ,kde= False,  bins=50)\n",
        "\n"
      ],
      "execution_count": 207,
      "outputs": [
        {
          "output_type": "execute_result",
          "data": {
            "text/plain": [
              "<matplotlib.axes._subplots.AxesSubplot at 0x7f8f9bec9748>"
            ]
          },
          "metadata": {
            "tags": []
          },
          "execution_count": 207
        },
        {
          "output_type": "display_data",
          "data": {
            "image/png": "[encoded data removed]",
            "text/plain": [
              "<Figure size 432x288 with 1 Axes>"
            ]
          },
          "metadata": {
            "tags": [],
            "needs_background": "light"
          }
        }
      ]
    },
    {
      "cell_type": "code",
      "metadata": {
        "id": "8djjK2oI04bD",
        "outputId": "3582cbc2-c96c-4cf2-9028-8484efb3728f",
        "colab": {
          "base_uri": "https://localhost:8080/",
          "height": 623
        }
      },
      "source": [
        "\n",
        "plt.figure(figsize = (20,10))\n",
        "sns.distplot( lf_data['frequency'] ,kde= False,  bins=100)\n",
        "\n",
        "sns.distplot\n",
        "plt.xlim(0 , 30)\n"
      ],
      "execution_count": 208,
      "outputs": [
        {
          "output_type": "execute_result",
          "data": {
            "text/plain": [
              "(0.0, 30.0)"
            ]
          },
          "metadata": {
            "tags": []
          },
          "execution_count": 208
        },
        {
          "output_type": "display_data",
          "data": {
            "image/png": "[encoded data removed]",
            "text/plain": [
              "<Figure size 1440x720 with 1 Axes>"
            ]
          },
          "metadata": {
            "tags": [],
            "needs_background": "light"
          }
        }
      ]
    },
    {
      "cell_type": "code",
      "metadata": {
        "id": "_6jyPqwX8H9b",
        "outputId": "b66a4e5c-c205-481f-9c1f-65f0563eeb78",
        "colab": {
          "base_uri": "https://localhost:8080/",
          "height": 34
        }
      },
      "source": [
        "from lifetimes import BetaGeoFitter\n",
        "\n",
        "bgf= BetaGeoFitter(penalizer_coef = 0.0 )\n",
        "\n",
        "bgf.fit( lf_data['frequency'] , lf_data['recency']  , lf_data['T'] )\n",
        "\n",
        "bgf\n",
        "\n"
      ],
      "execution_count": 209,
      "outputs": [
        {
          "output_type": "execute_result",
          "data": {
            "text/plain": [
              "<lifetimes.BetaGeoFitter: fitted with 4339 subjects, a: 0.00, alpha: 68.89, b: 6.75, r: 0.83>"
            ]
          },
          "metadata": {
            "tags": []
          },
          "execution_count": 209
        }
      ]
    },
    {
      "cell_type": "code",
      "metadata": {
        "id": "fx86vTa6x3Lt",
        "outputId": "1db9b1e7-d03d-4a79-a081-8ecce64c8bbb",
        "colab": {
          "base_uri": "https://localhost:8080/",
          "height": 175
        }
      },
      "source": [
        "bgf.summary"
      ],
      "execution_count": 210,
      "outputs": [
        {
          "output_type": "execute_result",
          "data": {
            "text/html": [
              "<div>\n",
              "<style scoped>\n",
              "    .dataframe tbody tr th:only-of-type {\n",
              "        vertical-align: middle;\n",
              "    }\n",
              "\n",
              "    .dataframe tbody tr th {\n",
              "        vertical-align: top;\n",
              "    }\n",
              "\n",
              "    .dataframe thead th {\n",
              "        text-align: right;\n",
              "    }\n",
              "</style>\n",
              "<table border=\"1\" class=\"dataframe\">\n",
              "  <thead>\n",
              "    <tr style=\"text-align: right;\">\n",
              "      <th></th>\n",
              "      <th>coef</th>\n",
              "      <th>se(coef)</th>\n",
              "      <th>lower 95% bound</th>\n",
              "      <th>upper 95% bound</th>\n",
              "    </tr>\n",
              "  </thead>\n",
              "  <tbody>\n",
              "    <tr>\n",
              "      <th>r</th>\n",
              "      <td>0.826433</td>\n",
              "      <td>0.026780</td>\n",
              "      <td>0.773944</td>\n",
              "      <td>0.878922</td>\n",
              "    </tr>\n",
              "    <tr>\n",
              "      <th>alpha</th>\n",
              "      <td>68.890678</td>\n",
              "      <td>2.611055</td>\n",
              "      <td>63.773011</td>\n",
              "      <td>74.008345</td>\n",
              "    </tr>\n",
              "    <tr>\n",
              "      <th>a</th>\n",
              "      <td>0.003443</td>\n",
              "      <td>0.010347</td>\n",
              "      <td>-0.016837</td>\n",
              "      <td>0.023722</td>\n",
              "    </tr>\n",
              "    <tr>\n",
              "      <th>b</th>\n",
              "      <td>6.749363</td>\n",
              "      <td>22.412933</td>\n",
              "      <td>-37.179985</td>\n",
              "      <td>50.678711</td>\n",
              "    </tr>\n",
              "  </tbody>\n",
              "</table>\n",
              "</div>"
            ],
            "text/plain": [
              "            coef   se(coef)  lower 95% bound  upper 95% bound\n",
              "r       0.826433   0.026780         0.773944         0.878922\n",
              "alpha  68.890678   2.611055        63.773011        74.008345\n",
              "a       0.003443   0.010347        -0.016837         0.023722\n",
              "b       6.749363  22.412933       -37.179985        50.678711"
            ]
          },
          "metadata": {
            "tags": []
          },
          "execution_count": 210
        }
      ]
    },
    {
      "cell_type": "code",
      "metadata": {
        "id": "sIiTElciykK1",
        "outputId": "d4af97ab-1480-4c09-bae1-b99c3adc7616",
        "colab": {
          "base_uri": "https://localhost:8080/",
          "height": 654
        }
      },
      "source": [
        "from lifetimes.plotting import plot_frequency_recency_matrix\n",
        "\n",
        "fig = plt.figure(figsize = (14 , 10))\n",
        "plot_frequency_recency_matrix(bgf)\n"
      ],
      "execution_count": 211,
      "outputs": [
        {
          "output_type": "execute_result",
          "data": {
            "text/plain": [
              "<matplotlib.axes._subplots.AxesSubplot at 0x7f8fa0ac6ac8>"
            ]
          },
          "metadata": {
            "tags": []
          },
          "execution_count": 211
        },
        {
          "output_type": "display_data",
          "data": {
            "image/png": "[encoded data removed]",
            "text/plain": [
              "<Figure size 1008x720 with 2 Axes>"
            ]
          },
          "metadata": {
            "tags": [],
            "needs_background": "light"
          }
        }
      ]
    },
    {
      "cell_type": "code",
      "metadata": {
        "id": "udGiZ3x4wMfk",
        "outputId": "c899a0ca-3d13-432a-f9e6-dc993c5db80f",
        "colab": {
          "base_uri": "https://localhost:8080/",
          "height": 545
        }
      },
      "source": [
        "#predict if the customers are surely alive:\n",
        "from lifetimes.plotting import plot_probability_alive_matrix\n",
        "fig = plt.figure(figsize=(12,8))\n",
        "plot_probability_alive_matrix(bgf)"
      ],
      "execution_count": 212,
      "outputs": [
        {
          "output_type": "execute_result",
          "data": {
            "text/plain": [
              "<matplotlib.axes._subplots.AxesSubplot at 0x7f8f9ddec048>"
            ]
          },
          "metadata": {
            "tags": []
          },
          "execution_count": 212
        },
        {
          "output_type": "display_data",
          "data": {
            "image/png": "[encoded data removed]",
            "text/plain": [
              "<Figure size 864x576 with 2 Axes>"
            ]
          },
          "metadata": {
            "tags": [],
            "needs_background": "light"
          }
        }
      ]
    },
    {
      "cell_type": "code",
      "metadata": {
        "id": "QhJmVT5lwh01",
        "outputId": "e96c3c14-2351-4fea-bc1f-a390c4c8fc65",
        "colab": {
          "base_uri": "https://localhost:8080/",
          "height": 363
        }
      },
      "source": [
        "#Predict future transaction in next 10 days i.e.top 10 customers that the model expects them to make purchases \n",
        "#in the next 10 days, based on historical data\n",
        "\n",
        "t = 10\n",
        "lf_data['pred_num_txn'] = round(bgf.conditional_expected_number_of_purchases_up_to_time(t, lf_data['frequency'], lf_data['recency'], lf_data['T']),2)\n",
        "lf_data.sort_values(by='pred_num_txn', ascending=False).head(10).reset_index() \n"
      ],
      "execution_count": 213,
      "outputs": [
        {
          "output_type": "execute_result",
          "data": {
            "text/html": [
              "<div>\n",
              "<style scoped>\n",
              "    .dataframe tbody tr th:only-of-type {\n",
              "        vertical-align: middle;\n",
              "    }\n",
              "\n",
              "    .dataframe tbody tr th {\n",
              "        vertical-align: top;\n",
              "    }\n",
              "\n",
              "    .dataframe thead th {\n",
              "        text-align: right;\n",
              "    }\n",
              "</style>\n",
              "<table border=\"1\" class=\"dataframe\">\n",
              "  <thead>\n",
              "    <tr style=\"text-align: right;\">\n",
              "      <th></th>\n",
              "      <th>CustomerID</th>\n",
              "      <th>frequency</th>\n",
              "      <th>recency</th>\n",
              "      <th>T</th>\n",
              "      <th>monetary_value</th>\n",
              "      <th>pred_num_txn</th>\n",
              "    </tr>\n",
              "  </thead>\n",
              "  <tbody>\n",
              "    <tr>\n",
              "      <th>0</th>\n",
              "      <td>14911.0</td>\n",
              "      <td>131.0</td>\n",
              "      <td>372.0</td>\n",
              "      <td>373.0</td>\n",
              "      <td>1093.661679</td>\n",
              "      <td>2.98</td>\n",
              "    </tr>\n",
              "    <tr>\n",
              "      <th>1</th>\n",
              "      <td>12748.0</td>\n",
              "      <td>113.0</td>\n",
              "      <td>373.0</td>\n",
              "      <td>373.0</td>\n",
              "      <td>298.360885</td>\n",
              "      <td>2.58</td>\n",
              "    </tr>\n",
              "    <tr>\n",
              "      <th>2</th>\n",
              "      <td>17841.0</td>\n",
              "      <td>111.0</td>\n",
              "      <td>372.0</td>\n",
              "      <td>373.0</td>\n",
              "      <td>364.452162</td>\n",
              "      <td>2.53</td>\n",
              "    </tr>\n",
              "    <tr>\n",
              "      <th>3</th>\n",
              "      <td>15311.0</td>\n",
              "      <td>89.0</td>\n",
              "      <td>373.0</td>\n",
              "      <td>373.0</td>\n",
              "      <td>677.729438</td>\n",
              "      <td>2.03</td>\n",
              "    </tr>\n",
              "    <tr>\n",
              "      <th>4</th>\n",
              "      <td>14606.0</td>\n",
              "      <td>88.0</td>\n",
              "      <td>372.0</td>\n",
              "      <td>373.0</td>\n",
              "      <td>135.890114</td>\n",
              "      <td>2.01</td>\n",
              "    </tr>\n",
              "    <tr>\n",
              "      <th>5</th>\n",
              "      <td>12971.0</td>\n",
              "      <td>70.0</td>\n",
              "      <td>369.0</td>\n",
              "      <td>372.0</td>\n",
              "      <td>159.211286</td>\n",
              "      <td>1.61</td>\n",
              "    </tr>\n",
              "    <tr>\n",
              "      <th>6</th>\n",
              "      <td>13089.0</td>\n",
              "      <td>65.0</td>\n",
              "      <td>367.0</td>\n",
              "      <td>369.0</td>\n",
              "      <td>893.714308</td>\n",
              "      <td>1.50</td>\n",
              "    </tr>\n",
              "    <tr>\n",
              "      <th>7</th>\n",
              "      <td>14527.0</td>\n",
              "      <td>53.0</td>\n",
              "      <td>367.0</td>\n",
              "      <td>369.0</td>\n",
              "      <td>155.016415</td>\n",
              "      <td>1.23</td>\n",
              "    </tr>\n",
              "    <tr>\n",
              "      <th>8</th>\n",
              "      <td>13798.0</td>\n",
              "      <td>52.0</td>\n",
              "      <td>371.0</td>\n",
              "      <td>372.0</td>\n",
              "      <td>706.650962</td>\n",
              "      <td>1.20</td>\n",
              "    </tr>\n",
              "    <tr>\n",
              "      <th>9</th>\n",
              "      <td>16422.0</td>\n",
              "      <td>47.0</td>\n",
              "      <td>352.0</td>\n",
              "      <td>369.0</td>\n",
              "      <td>702.472340</td>\n",
              "      <td>1.09</td>\n",
              "    </tr>\n",
              "  </tbody>\n",
              "</table>\n",
              "</div>"
            ],
            "text/plain": [
              "   CustomerID  frequency  recency      T  monetary_value  pred_num_txn\n",
              "0     14911.0      131.0    372.0  373.0     1093.661679          2.98\n",
              "1     12748.0      113.0    373.0  373.0      298.360885          2.58\n",
              "2     17841.0      111.0    372.0  373.0      364.452162          2.53\n",
              "3     15311.0       89.0    373.0  373.0      677.729438          2.03\n",
              "4     14606.0       88.0    372.0  373.0      135.890114          2.01\n",
              "5     12971.0       70.0    369.0  372.0      159.211286          1.61\n",
              "6     13089.0       65.0    367.0  369.0      893.714308          1.50\n",
              "7     14527.0       53.0    367.0  369.0      155.016415          1.23\n",
              "8     13798.0       52.0    371.0  372.0      706.650962          1.20\n",
              "9     16422.0       47.0    352.0  369.0      702.472340          1.09"
            ]
          },
          "metadata": {
            "tags": []
          },
          "execution_count": 213
        }
      ]
    },
    {
      "cell_type": "code",
      "metadata": {
        "id": "WyReiqHzy5mo",
        "outputId": "cf3192f6-495c-4a47-b9fa-9f8343833024",
        "colab": {
          "base_uri": "https://localhost:8080/",
          "height": 327
        }
      },
      "source": [
        "from lifetimes.plotting import plot_period_transactions\n",
        "\n",
        "fig = plt.figure(figsize = (20 , 10))\n",
        "\n",
        "plot_period_transactions(bgf)"
      ],
      "execution_count": 214,
      "outputs": [
        {
          "output_type": "execute_result",
          "data": {
            "text/plain": [
              "<matplotlib.axes._subplots.AxesSubplot at 0x7f8f9a0c5748>"
            ]
          },
          "metadata": {
            "tags": []
          },
          "execution_count": 214
        },
        {
          "output_type": "display_data",
          "data": {
            "text/plain": [
              "<Figure size 1440x720 with 0 Axes>"
            ]
          },
          "metadata": {
            "tags": []
          }
        },
        {
          "output_type": "display_data",
          "data": {
            "image/png": "[encoded data removed]",
            "text/plain": [
              "<Figure size 432x288 with 1 Axes>"
            ]
          },
          "metadata": {
            "tags": [],
            "needs_background": "light"
          }
        }
      ]
    },
    {
      "cell_type": "code",
      "metadata": {
        "id": "L0gu28EgzovW",
        "outputId": "a7d32d75-817e-4688-d23d-64e17710649e",
        "colab": {
          "base_uri": "https://localhost:8080/",
          "height": 34
        }
      },
      "source": [
        "\n",
        "#Customer's future transaction prediction for next 10 days\n",
        "\n",
        "t = 10\n",
        "individual = lf_data.loc[14911]\n",
        "bgf.predict(t, individual['frequency'], individual['recency'], individual['T'])\n",
        "\n",
        "#OBSERVATION: Our model predicts that customer 14911’s future transaction is appx 3 in 10 days.\n",
        "\n"
      ],
      "execution_count": 215,
      "outputs": [
        {
          "output_type": "execute_result",
          "data": {
            "text/plain": [
              "2.983023863904241"
            ]
          },
          "metadata": {
            "tags": []
          },
          "execution_count": 215
        }
      ]
    },
    {
      "cell_type": "code",
      "metadata": {
        "id": "-dRmuRRkL9E6",
        "outputId": "958c30d2-f05a-4646-9bd6-a5549e35f1d8",
        "colab": {
          "base_uri": "https://localhost:8080/",
          "height": 112
        }
      },
      "source": [
        "\n",
        "\n",
        "#Check if there is correlation between monetary value and frequency in order to use gamma gamma model for CLV calculation.\n",
        "lf_data[['monetary_value', 'frequency']].corr()\n",
        "\n"
      ],
      "execution_count": 216,
      "outputs": [
        {
          "output_type": "execute_result",
          "data": {
            "text/html": [
              "<div>\n",
              "<style scoped>\n",
              "    .dataframe tbody tr th:only-of-type {\n",
              "        vertical-align: middle;\n",
              "    }\n",
              "\n",
              "    .dataframe tbody tr th {\n",
              "        vertical-align: top;\n",
              "    }\n",
              "\n",
              "    .dataframe thead th {\n",
              "        text-align: right;\n",
              "    }\n",
              "</style>\n",
              "<table border=\"1\" class=\"dataframe\">\n",
              "  <thead>\n",
              "    <tr style=\"text-align: right;\">\n",
              "      <th></th>\n",
              "      <th>monetary_value</th>\n",
              "      <th>frequency</th>\n",
              "    </tr>\n",
              "  </thead>\n",
              "  <tbody>\n",
              "    <tr>\n",
              "      <th>monetary_value</th>\n",
              "      <td>1.000000</td>\n",
              "      <td>0.046161</td>\n",
              "    </tr>\n",
              "    <tr>\n",
              "      <th>frequency</th>\n",
              "      <td>0.046161</td>\n",
              "      <td>1.000000</td>\n",
              "    </tr>\n",
              "  </tbody>\n",
              "</table>\n",
              "</div>"
            ],
            "text/plain": [
              "                monetary_value  frequency\n",
              "monetary_value        1.000000   0.046161\n",
              "frequency             0.046161   1.000000"
            ]
          },
          "metadata": {
            "tags": []
          },
          "execution_count": 216
        }
      ]
    },
    {
      "cell_type": "code",
      "metadata": {
        "id": "L17QzSDEL95g",
        "outputId": "8d47c93d-0b01-463f-88d0-fbf85498a9dc",
        "colab": {
          "base_uri": "https://localhost:8080/",
          "height": 156
        }
      },
      "source": [
        "\n",
        "#Shortlist customers who had at least one repeat purchase with the company. \n",
        "shortlisted_customers = lf_data[lf_data['frequency']>0]\n",
        "print(shortlisted_customers.head().reset_index())\n",
        "print(\"-----------------------------------------\")\n",
        "print(\"The Number of Returning Customers are: \",len(shortlisted_customers))\n",
        "\n"
      ],
      "execution_count": 217,
      "outputs": [
        {
          "output_type": "stream",
          "text": [
            "   CustomerID  frequency  recency      T  monetary_value  pred_num_txn\n",
            "0     12347.0        6.0    365.0  367.0      599.701667          0.16\n",
            "1     12348.0        3.0    283.0  358.0      301.480000          0.09\n",
            "2     12352.0        6.0    260.0  296.0      368.256667          0.19\n",
            "3     12356.0        2.0    303.0  325.0      269.905000          0.07\n",
            "4     12358.0        1.0    149.0  150.0      683.200000          0.08\n",
            "-----------------------------------------\n",
            "The Number of Returning Customers are:  2790\n"
          ],
          "name": "stdout"
        }
      ]
    },
    {
      "cell_type": "code",
      "metadata": {
        "id": "4LQ1lgyaL-2M",
        "outputId": "c350ad17-79b3-4e3f-fa67-3d0f236ec046",
        "colab": {
          "base_uri": "https://localhost:8080/",
          "height": 34
        }
      },
      "source": [
        "\n",
        "#Train gamma-gamma model by taking into account the monetary_value.\n",
        "from lifetimes import GammaGammaFitter\n",
        "ggf = GammaGammaFitter(penalizer_coef = 0)\n",
        "ggf.fit(shortlisted_customers['frequency'],\n",
        "        shortlisted_customers['monetary_value'])\n",
        "print(ggf)\n",
        "\n"
      ],
      "execution_count": 218,
      "outputs": [
        {
          "output_type": "stream",
          "text": [
            "<lifetimes.GammaGammaFitter: fitted with 2790 subjects, p: 2.10, q: 3.45, v: 485.57>\n"
          ],
          "name": "stdout"
        }
      ]
    },
    {
      "cell_type": "code",
      "metadata": {
        "id": "ZdgGRmtVMQe1",
        "outputId": "21c3668e-0294-4b3c-b5cc-95260f7c72b7",
        "colab": {
          "base_uri": "https://localhost:8080/",
          "height": 225
        }
      },
      "source": [
        "\n",
        "#After applying Gamma-Gamma model, now we can estimate average transaction value for each customer. \n",
        "print(ggf.conditional_expected_average_profit(\n",
        "        lf_data['frequency'],\n",
        "        lf_data['monetary_value']\n",
        "    ).head(10))\n",
        "\n"
      ],
      "execution_count": 219,
      "outputs": [
        {
          "output_type": "stream",
          "text": [
            "CustomerID\n",
            "12346.0    416.917667\n",
            "12347.0    569.988807\n",
            "12348.0    333.762672\n",
            "12349.0    416.917667\n",
            "12350.0    416.917667\n",
            "12352.0    376.166864\n",
            "12353.0    416.917667\n",
            "12354.0    416.917667\n",
            "12355.0    416.917667\n",
            "12356.0    324.008941\n",
            "dtype: float64\n"
          ],
          "name": "stdout"
        }
      ]
    },
    {
      "cell_type": "code",
      "metadata": {
        "id": "nekX83uDMVvH",
        "outputId": "8be734a5-b743-478b-a3dd-8436199331dd",
        "colab": {
          "base_uri": "https://localhost:8080/",
          "height": 206
        }
      },
      "source": [
        "\n",
        "\n",
        "lf_data['pred_txn_value'] = round(ggf.conditional_expected_average_profit(\n",
        "        lf_data['frequency'],\n",
        "        lf_data['monetary_value']), 2)\n",
        "lf_data.reset_index().head()\n",
        "\n"
      ],
      "execution_count": 220,
      "outputs": [
        {
          "output_type": "execute_result",
          "data": {
            "text/html": [
              "<div>\n",
              "<style scoped>\n",
              "    .dataframe tbody tr th:only-of-type {\n",
              "        vertical-align: middle;\n",
              "    }\n",
              "\n",
              "    .dataframe tbody tr th {\n",
              "        vertical-align: top;\n",
              "    }\n",
              "\n",
              "    .dataframe thead th {\n",
              "        text-align: right;\n",
              "    }\n",
              "</style>\n",
              "<table border=\"1\" class=\"dataframe\">\n",
              "  <thead>\n",
              "    <tr style=\"text-align: right;\">\n",
              "      <th></th>\n",
              "      <th>CustomerID</th>\n",
              "      <th>frequency</th>\n",
              "      <th>recency</th>\n",
              "      <th>T</th>\n",
              "      <th>monetary_value</th>\n",
              "      <th>pred_num_txn</th>\n",
              "      <th>pred_txn_value</th>\n",
              "    </tr>\n",
              "  </thead>\n",
              "  <tbody>\n",
              "    <tr>\n",
              "      <th>0</th>\n",
              "      <td>12346.0</td>\n",
              "      <td>0.0</td>\n",
              "      <td>0.0</td>\n",
              "      <td>325.0</td>\n",
              "      <td>0.000000</td>\n",
              "      <td>0.02</td>\n",
              "      <td>416.92</td>\n",
              "    </tr>\n",
              "    <tr>\n",
              "      <th>1</th>\n",
              "      <td>12347.0</td>\n",
              "      <td>6.0</td>\n",
              "      <td>365.0</td>\n",
              "      <td>367.0</td>\n",
              "      <td>599.701667</td>\n",
              "      <td>0.16</td>\n",
              "      <td>569.99</td>\n",
              "    </tr>\n",
              "    <tr>\n",
              "      <th>2</th>\n",
              "      <td>12348.0</td>\n",
              "      <td>3.0</td>\n",
              "      <td>283.0</td>\n",
              "      <td>358.0</td>\n",
              "      <td>301.480000</td>\n",
              "      <td>0.09</td>\n",
              "      <td>333.76</td>\n",
              "    </tr>\n",
              "    <tr>\n",
              "      <th>3</th>\n",
              "      <td>12349.0</td>\n",
              "      <td>0.0</td>\n",
              "      <td>0.0</td>\n",
              "      <td>18.0</td>\n",
              "      <td>0.000000</td>\n",
              "      <td>0.10</td>\n",
              "      <td>416.92</td>\n",
              "    </tr>\n",
              "    <tr>\n",
              "      <th>4</th>\n",
              "      <td>12350.0</td>\n",
              "      <td>0.0</td>\n",
              "      <td>0.0</td>\n",
              "      <td>310.0</td>\n",
              "      <td>0.000000</td>\n",
              "      <td>0.02</td>\n",
              "      <td>416.92</td>\n",
              "    </tr>\n",
              "  </tbody>\n",
              "</table>\n",
              "</div>"
            ],
            "text/plain": [
              "   CustomerID  frequency  recency  ...  monetary_value  pred_num_txn  pred_txn_value\n",
              "0     12346.0        0.0      0.0  ...        0.000000          0.02          416.92\n",
              "1     12347.0        6.0    365.0  ...      599.701667          0.16          569.99\n",
              "2     12348.0        3.0    283.0  ...      301.480000          0.09          333.76\n",
              "3     12349.0        0.0      0.0  ...        0.000000          0.10          416.92\n",
              "4     12350.0        0.0      0.0  ...        0.000000          0.02          416.92\n",
              "\n",
              "[5 rows x 7 columns]"
            ]
          },
          "metadata": {
            "tags": []
          },
          "execution_count": 220
        }
      ]
    },
    {
      "cell_type": "code",
      "metadata": {
        "id": "JAuodahSMn_3",
        "outputId": "cb1b057f-ac4f-456d-8dac-f286299233ff",
        "colab": {
          "base_uri": "https://localhost:8080/",
          "height": 363
        }
      },
      "source": [
        "#Calculate Customer Lifetime Value\n",
        "lf_data['CLV'] = round(ggf.customer_lifetime_value(\n",
        "    bgf, lf_data['frequency'],lf_data['recency'],\n",
        "    lf_data['T'], lf_data['monetary_value'],\n",
        "    time=12, discount_rate=0.01 ), 2)\n",
        "\n",
        "lf_data.drop( lf_data.iloc[:, 0:6], inplace=True, axis=1 )\n",
        "\n",
        "lf_data.sort_values(by='CLV', ascending=False).head(10).reset_index()\n"
      ],
      "execution_count": 221,
      "outputs": [
        {
          "output_type": "execute_result",
          "data": {
            "text/html": [
              "<div>\n",
              "<style scoped>\n",
              "    .dataframe tbody tr th:only-of-type {\n",
              "        vertical-align: middle;\n",
              "    }\n",
              "\n",
              "    .dataframe tbody tr th {\n",
              "        vertical-align: top;\n",
              "    }\n",
              "\n",
              "    .dataframe thead th {\n",
              "        text-align: right;\n",
              "    }\n",
              "</style>\n",
              "<table border=\"1\" class=\"dataframe\">\n",
              "  <thead>\n",
              "    <tr style=\"text-align: right;\">\n",
              "      <th></th>\n",
              "      <th>CustomerID</th>\n",
              "      <th>CLV</th>\n",
              "    </tr>\n",
              "  </thead>\n",
              "  <tbody>\n",
              "    <tr>\n",
              "      <th>0</th>\n",
              "      <td>14646.0</td>\n",
              "      <td>222128.93</td>\n",
              "    </tr>\n",
              "    <tr>\n",
              "      <th>1</th>\n",
              "      <td>18102.0</td>\n",
              "      <td>178895.33</td>\n",
              "    </tr>\n",
              "    <tr>\n",
              "      <th>2</th>\n",
              "      <td>16446.0</td>\n",
              "      <td>175531.47</td>\n",
              "    </tr>\n",
              "    <tr>\n",
              "      <th>3</th>\n",
              "      <td>17450.0</td>\n",
              "      <td>147476.62</td>\n",
              "    </tr>\n",
              "    <tr>\n",
              "      <th>4</th>\n",
              "      <td>14096.0</td>\n",
              "      <td>127589.20</td>\n",
              "    </tr>\n",
              "    <tr>\n",
              "      <th>5</th>\n",
              "      <td>14911.0</td>\n",
              "      <td>109442.13</td>\n",
              "    </tr>\n",
              "    <tr>\n",
              "      <th>6</th>\n",
              "      <td>12415.0</td>\n",
              "      <td>96290.23</td>\n",
              "    </tr>\n",
              "    <tr>\n",
              "      <th>7</th>\n",
              "      <td>14156.0</td>\n",
              "      <td>89410.33</td>\n",
              "    </tr>\n",
              "    <tr>\n",
              "      <th>8</th>\n",
              "      <td>17511.0</td>\n",
              "      <td>67660.41</td>\n",
              "    </tr>\n",
              "    <tr>\n",
              "      <th>9</th>\n",
              "      <td>16029.0</td>\n",
              "      <td>58729.62</td>\n",
              "    </tr>\n",
              "  </tbody>\n",
              "</table>\n",
              "</div>"
            ],
            "text/plain": [
              "   CustomerID        CLV\n",
              "0     14646.0  222128.93\n",
              "1     18102.0  178895.33\n",
              "2     16446.0  175531.47\n",
              "3     17450.0  147476.62\n",
              "4     14096.0  127589.20\n",
              "5     14911.0  109442.13\n",
              "6     12415.0   96290.23\n",
              "7     14156.0   89410.33\n",
              "8     17511.0   67660.41\n",
              "9     16029.0   58729.62"
            ]
          },
          "metadata": {
            "tags": []
          },
          "execution_count": 221
        }
      ]
    },
    {
      "cell_type": "code",
      "metadata": {
        "id": "iZIjSj3WMqOy"
      },
      "source": [
        "\n"
      ],
      "execution_count": null,
      "outputs": []
    }
  ]
}