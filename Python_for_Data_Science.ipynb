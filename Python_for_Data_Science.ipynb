{
  "nbformat": 4,
  "nbformat_minor": 0,
  "metadata": {
    "colab": {
      "name": "Python for Data Science.ipynb",
      "provenance": [],
      "collapsed_sections": [],
      "include_colab_link": true
    },
    "kernelspec": {
      "name": "python3",
      "display_name": "Python 3"
    }
  },
  "cells": [
    {
      "cell_type": "markdown",
      "metadata": {
        "id": "view-in-github",
        "colab_type": "text"
      },
      "source": [
        "<a href=\"https://colab.research.google.com/github/shubhamkoul007/Acquire-Valued-Shopper-Challenge-Team1-TDL/blob/main/Python_for_Data_Science.ipynb\" target=\"_parent\"><img src=\"https://colab.research.google.com/assets/colab-badge.svg\" alt=\"Open In Colab\"/></a>"
      ]
    },
    {
      "cell_type": "markdown",
      "metadata": {
        "id": "IgV4UuXial2f"
      },
      "source": [
        "**Chapter 1- Python Basics**"
      ]
    },
    {
      "cell_type": "markdown",
      "metadata": {
        "id": "Z-kTjSx2bFsK"
      },
      "source": [
        "**Data Types**"
      ]
    },
    {
      "cell_type": "markdown",
      "metadata": {
        "id": "wU7FC51kcG3F"
      },
      "source": [
        "**Numbers**"
      ]
    },
    {
      "cell_type": "code",
      "metadata": {
        "id": "rDrbrub7cLK6",
        "outputId": "fbba6c60-c154-4006-9bcd-41cf097ce56b",
        "colab": {
          "base_uri": "https://localhost:8080/",
          "height": 119
        }
      },
      "source": [
        "a=3\n",
        "b=2\n",
        "\n",
        "#Addition\n",
        "print(a+b)\n",
        "\n",
        "#Subtraction\n",
        "print(a-b)\n",
        "\n",
        "#Multiplication\n",
        "print(a*b)\n",
        "\n",
        "#Division\n",
        "print(a/b)\n",
        "\n",
        "#a raised to the power b\n",
        "print(a**b)\n",
        "\n",
        "#Remainder using a modulus b\n",
        "print(a%b)"
      ],
      "execution_count": null,
      "outputs": [
        {
          "output_type": "stream",
          "text": [
            "5\n",
            "1\n",
            "6\n",
            "1.5\n",
            "9\n",
            "1\n"
          ],
          "name": "stdout"
        }
      ]
    },
    {
      "cell_type": "markdown",
      "metadata": {
        "id": "hnxAeVrw_zuU"
      },
      "source": [
        "**Lists**"
      ]
    },
    {
      "cell_type": "code",
      "metadata": {
        "id": "bNWQx8F3dlLO"
      },
      "source": [
        "l=['a','b','c']"
      ],
      "execution_count": null,
      "outputs": []
    },
    {
      "cell_type": "code",
      "metadata": {
        "id": "XTrJcyaAe4iG",
        "outputId": "674cefa5-8298-431c-d4e8-79181539918b",
        "colab": {
          "base_uri": "https://localhost:8080/",
          "height": 34
        }
      },
      "source": [
        "l"
      ],
      "execution_count": null,
      "outputs": [
        {
          "output_type": "execute_result",
          "data": {
            "text/plain": [
              "['a', 'b', 'c']"
            ]
          },
          "metadata": {
            "tags": []
          },
          "execution_count": 23
        }
      ]
    },
    {
      "cell_type": "code",
      "metadata": {
        "id": "Vnxurqyme3-p"
      },
      "source": [
        "l.append('d')"
      ],
      "execution_count": null,
      "outputs": []
    },
    {
      "cell_type": "code",
      "metadata": {
        "id": "stMC11B1eoh_",
        "outputId": "a4ab0dce-84d4-43f9-a12e-3ab93e160a68",
        "colab": {
          "base_uri": "https://localhost:8080/",
          "height": 34
        }
      },
      "source": [
        "l"
      ],
      "execution_count": null,
      "outputs": [
        {
          "output_type": "execute_result",
          "data": {
            "text/plain": [
              "['a', 'b', 'c', 'd']"
            ]
          },
          "metadata": {
            "tags": []
          },
          "execution_count": 25
        }
      ]
    },
    {
      "cell_type": "code",
      "metadata": {
        "id": "gvTceMKLeoP1",
        "outputId": "a1f26c38-5a2c-4fa0-b540-a0715445b712",
        "colab": {
          "base_uri": "https://localhost:8080/",
          "height": 35
        }
      },
      "source": [
        "l[0]"
      ],
      "execution_count": null,
      "outputs": [
        {
          "output_type": "execute_result",
          "data": {
            "application/vnd.google.colaboratory.intrinsic+json": {
              "type": "string"
            },
            "text/plain": [
              "'a'"
            ]
          },
          "metadata": {
            "tags": []
          },
          "execution_count": 26
        }
      ]
    },
    {
      "cell_type": "code",
      "metadata": {
        "id": "3ddCk10xetPd",
        "outputId": "07221fbe-987b-47e3-8636-48696bd8fea6",
        "colab": {
          "base_uri": "https://localhost:8080/",
          "height": 34
        }
      },
      "source": [
        "l[1:]"
      ],
      "execution_count": null,
      "outputs": [
        {
          "output_type": "execute_result",
          "data": {
            "text/plain": [
              "['b', 'c', 'd']"
            ]
          },
          "metadata": {
            "tags": []
          },
          "execution_count": 27
        }
      ]
    },
    {
      "cell_type": "code",
      "metadata": {
        "id": "6bIe56geevoU",
        "outputId": "2bf92c16-f993-4960-b2b0-fccf0065100a",
        "colab": {
          "base_uri": "https://localhost:8080/",
          "height": 34
        }
      },
      "source": [
        "l[:3]"
      ],
      "execution_count": null,
      "outputs": [
        {
          "output_type": "execute_result",
          "data": {
            "text/plain": [
              "['a', 'b', 'c']"
            ]
          },
          "metadata": {
            "tags": []
          },
          "execution_count": 28
        }
      ]
    },
    {
      "cell_type": "code",
      "metadata": {
        "id": "qO_1C7XLexXn",
        "outputId": "47e44a7d-380e-4307-825b-3840e9c11200",
        "colab": {
          "base_uri": "https://localhost:8080/",
          "height": 34
        }
      },
      "source": [
        "l[1:2]"
      ],
      "execution_count": null,
      "outputs": [
        {
          "output_type": "execute_result",
          "data": {
            "text/plain": [
              "['b']"
            ]
          },
          "metadata": {
            "tags": []
          },
          "execution_count": 29
        }
      ]
    },
    {
      "cell_type": "code",
      "metadata": {
        "id": "P5yfGYS3-z9a",
        "outputId": "2c26f096-b630-44ce-b69d-a02b553e3670",
        "colab": {
          "base_uri": "https://localhost:8080/",
          "height": 35
        }
      },
      "source": [
        "l.pop()"
      ],
      "execution_count": null,
      "outputs": [
        {
          "output_type": "execute_result",
          "data": {
            "application/vnd.google.colaboratory.intrinsic+json": {
              "type": "string"
            },
            "text/plain": [
              "'c'"
            ]
          },
          "metadata": {
            "tags": []
          },
          "execution_count": 31
        }
      ]
    },
    {
      "cell_type": "code",
      "metadata": {
        "id": "6440fhq4-7n3",
        "outputId": "3e49e57e-0e9c-445e-fa12-9c9bdf87d5d4",
        "colab": {
          "base_uri": "https://localhost:8080/",
          "height": 34
        }
      },
      "source": [
        "l"
      ],
      "execution_count": null,
      "outputs": [
        {
          "output_type": "execute_result",
          "data": {
            "text/plain": [
              "['a', 'b']"
            ]
          },
          "metadata": {
            "tags": []
          },
          "execution_count": 32
        }
      ]
    },
    {
      "cell_type": "code",
      "metadata": {
        "id": "e-qAiZvf_ADx",
        "outputId": "bb48861d-293a-4b09-b598-fbee9d11262a",
        "colab": {
          "base_uri": "https://localhost:8080/",
          "height": 34
        }
      },
      "source": [
        "'x' in l"
      ],
      "execution_count": null,
      "outputs": [
        {
          "output_type": "execute_result",
          "data": {
            "text/plain": [
              "False"
            ]
          },
          "metadata": {
            "tags": []
          },
          "execution_count": 34
        }
      ]
    },
    {
      "cell_type": "code",
      "metadata": {
        "id": "mYT9A2Da_FVG",
        "outputId": "acf6725d-a7aa-461b-894a-dd240e941a06",
        "colab": {
          "base_uri": "https://localhost:8080/",
          "height": 34
        }
      },
      "source": [
        "'x' in ['x','y','z']"
      ],
      "execution_count": null,
      "outputs": [
        {
          "output_type": "execute_result",
          "data": {
            "text/plain": [
              "True"
            ]
          },
          "metadata": {
            "tags": []
          },
          "execution_count": 36
        }
      ]
    },
    {
      "cell_type": "code",
      "metadata": {
        "id": "agpQEy91fiMw",
        "outputId": "6e011615-6a13-4deb-d4cd-4e886ee2455c",
        "colab": {
          "base_uri": "https://localhost:8080/",
          "height": 34
        }
      },
      "source": [
        "nst=[1,2,3,[4,5,[6]]]\n",
        "nst[3]"
      ],
      "execution_count": null,
      "outputs": [
        {
          "output_type": "execute_result",
          "data": {
            "text/plain": [
              "[4, 5, [6]]"
            ]
          },
          "metadata": {
            "tags": []
          },
          "execution_count": 37
        }
      ]
    },
    {
      "cell_type": "code",
      "metadata": {
        "id": "qP7Xo2lhfy4b",
        "outputId": "cd6efde4-6829-44a2-899f-9196bfbf001f",
        "colab": {
          "base_uri": "https://localhost:8080/",
          "height": 34
        }
      },
      "source": [
        "nst[3][1]"
      ],
      "execution_count": null,
      "outputs": [
        {
          "output_type": "execute_result",
          "data": {
            "text/plain": [
              "5"
            ]
          },
          "metadata": {
            "tags": []
          },
          "execution_count": 38
        }
      ]
    },
    {
      "cell_type": "code",
      "metadata": {
        "id": "2wJf515qf4BR"
      },
      "source": [
        "nst[3][2][0]"
      ],
      "execution_count": null,
      "outputs": []
    },
    {
      "cell_type": "markdown",
      "metadata": {
        "id": "YB48Ig0C_7Je"
      },
      "source": [
        "**Dictionaries**"
      ]
    },
    {
      "cell_type": "code",
      "metadata": {
        "id": "CdU4syMHf74A"
      },
      "source": [
        "d = {'key1':'item1','key2':'item2'}"
      ],
      "execution_count": null,
      "outputs": []
    },
    {
      "cell_type": "code",
      "metadata": {
        "id": "_OJzf6DhgDWD",
        "outputId": "4b2d824e-63d9-4304-ffb7-999d62b4c05a",
        "colab": {
          "base_uri": "https://localhost:8080/",
          "height": 34
        }
      },
      "source": [
        "d"
      ],
      "execution_count": null,
      "outputs": [
        {
          "output_type": "execute_result",
          "data": {
            "text/plain": [
              "{'key1': 'item1', 'key2': 'item2'}"
            ]
          },
          "metadata": {
            "tags": []
          },
          "execution_count": 15
        }
      ]
    },
    {
      "cell_type": "code",
      "metadata": {
        "id": "N9tysenFgEgV",
        "outputId": "d2bc1296-f0ac-48c1-8ef3-2aa29c7fa8d7",
        "colab": {
          "base_uri": "https://localhost:8080/",
          "height": 35
        }
      },
      "source": [
        "d['key1']"
      ],
      "execution_count": null,
      "outputs": [
        {
          "output_type": "execute_result",
          "data": {
            "application/vnd.google.colaboratory.intrinsic+json": {
              "type": "string"
            },
            "text/plain": [
              "'item1'"
            ]
          },
          "metadata": {
            "tags": []
          },
          "execution_count": 20
        }
      ]
    },
    {
      "cell_type": "code",
      "metadata": {
        "id": "yMTieQQm-WI4",
        "outputId": "62a27f14-c9bd-416d-a94c-117d7481c5aa",
        "colab": {
          "base_uri": "https://localhost:8080/",
          "height": 34
        }
      },
      "source": [
        "d.keys()"
      ],
      "execution_count": null,
      "outputs": [
        {
          "output_type": "execute_result",
          "data": {
            "text/plain": [
              "dict_keys(['key1', 'key2'])"
            ]
          },
          "metadata": {
            "tags": []
          },
          "execution_count": 17
        }
      ]
    },
    {
      "cell_type": "code",
      "metadata": {
        "id": "rZNxJP2U-Yqq",
        "outputId": "fe015c9c-4f22-4f83-fa8b-38ec02b4a036",
        "colab": {
          "base_uri": "https://localhost:8080/",
          "height": 34
        }
      },
      "source": [
        "d.items()"
      ],
      "execution_count": null,
      "outputs": [
        {
          "output_type": "execute_result",
          "data": {
            "text/plain": [
              "dict_items([('key1', 'item1'), ('key2', 'item2')])"
            ]
          },
          "metadata": {
            "tags": []
          },
          "execution_count": 18
        }
      ]
    },
    {
      "cell_type": "markdown",
      "metadata": {
        "id": "9VB3nILmAKqt"
      },
      "source": [
        "**Strings**"
      ]
    },
    {
      "cell_type": "code",
      "metadata": {
        "id": "A8Wj9VQbgXkz"
      },
      "source": [
        "s1=\"TATA\""
      ],
      "execution_count": null,
      "outputs": []
    },
    {
      "cell_type": "code",
      "metadata": {
        "id": "nIS0w88ugcz5"
      },
      "source": [
        "s2=\"DIGITAL\""
      ],
      "execution_count": null,
      "outputs": []
    },
    {
      "cell_type": "code",
      "metadata": {
        "id": "G4hvqDKXghKN",
        "outputId": "a7a6321e-dbd0-4dc5-efb3-13b723135c9b",
        "colab": {
          "base_uri": "https://localhost:8080/",
          "height": 35
        }
      },
      "source": [
        "s3=s1+\" \" +s2\n",
        "print(s3)"
      ],
      "execution_count": null,
      "outputs": [
        {
          "output_type": "execute_result",
          "data": {
            "application/vnd.google.colaboratory.intrinsic+json": {
              "type": "string"
            },
            "text/plain": [
              "'TATA DIGITAL'"
            ]
          },
          "metadata": {
            "tags": []
          },
          "execution_count": 4
        }
      ]
    },
    {
      "cell_type": "code",
      "metadata": {
        "id": "cvrzlhKL8wlb"
      },
      "source": [
        "s3.lower()"
      ],
      "execution_count": null,
      "outputs": []
    },
    {
      "cell_type": "code",
      "metadata": {
        "id": "9Bp4GqMZ87lN"
      },
      "source": [
        "s3.upper()"
      ],
      "execution_count": null,
      "outputs": []
    },
    {
      "cell_type": "code",
      "metadata": {
        "id": "nSgnDLxN9CUz"
      },
      "source": [
        "s3.split()"
      ],
      "execution_count": null,
      "outputs": []
    },
    {
      "cell_type": "code",
      "metadata": {
        "id": "TvbdAzZO9Eq-"
      },
      "source": [
        "s4=\"Alas! I can't learn python quickly.\""
      ],
      "execution_count": null,
      "outputs": []
    },
    {
      "cell_type": "code",
      "metadata": {
        "id": "kRf_jwEj9syy",
        "outputId": "9d6c4dd5-9644-4cc3-d637-8369ee9535bd",
        "colab": {
          "base_uri": "https://localhost:8080/",
          "height": 34
        }
      },
      "source": [
        "s4.split('!')"
      ],
      "execution_count": null,
      "outputs": [
        {
          "output_type": "execute_result",
          "data": {
            "text/plain": [
              "['Alas', \" I can't learn python quickly.\"]"
            ]
          },
          "metadata": {
            "tags": []
          },
          "execution_count": 12
        }
      ]
    },
    {
      "cell_type": "code",
      "metadata": {
        "id": "kK_MI1gg97hT",
        "outputId": "17d09506-9205-438c-cd67-dd2f7a693a69",
        "colab": {
          "base_uri": "https://localhost:8080/",
          "height": 35
        }
      },
      "source": [
        "s4.split('!')[1]"
      ],
      "execution_count": null,
      "outputs": [
        {
          "output_type": "execute_result",
          "data": {
            "application/vnd.google.colaboratory.intrinsic+json": {
              "type": "string"
            },
            "text/plain": [
              "\" I can't learn python quickly.\""
            ]
          },
          "metadata": {
            "tags": []
          },
          "execution_count": 13
        }
      ]
    },
    {
      "cell_type": "markdown",
      "metadata": {
        "id": "XUFGegznAd7l"
      },
      "source": [
        "**Sets**"
      ]
    },
    {
      "cell_type": "code",
      "metadata": {
        "id": "nBaUBBswgxaB"
      },
      "source": [
        "s={1,2,3,4,5}"
      ],
      "execution_count": null,
      "outputs": []
    },
    {
      "cell_type": "code",
      "metadata": {
        "id": "njSKHmyNl4Uk"
      },
      "source": [
        "s={1,2,2,3,3,3,4,4,4,4,5,5,5,5,5}"
      ],
      "execution_count": null,
      "outputs": []
    },
    {
      "cell_type": "markdown",
      "metadata": {
        "id": "TgG2xDuOAQWv"
      },
      "source": [
        "**if, elif and else**"
      ]
    },
    {
      "cell_type": "code",
      "metadata": {
        "id": "qb9pgA_8l_W7"
      },
      "source": [
        "if 1 < 2:\n",
        "    print('yep!')"
      ],
      "execution_count": null,
      "outputs": []
    },
    {
      "cell_type": "code",
      "metadata": {
        "id": "l7BZZJMlmfKv"
      },
      "source": [
        "if 1 < 2:\n",
        "    print('first')\n",
        "else:\n",
        "    print('last')"
      ],
      "execution_count": null,
      "outputs": []
    },
    {
      "cell_type": "code",
      "metadata": {
        "id": "rUqUay-dmki3"
      },
      "source": [
        "if 1 == 2:\n",
        "    print('first')\n",
        "elif 3 == 3:\n",
        "    print('middle')\n",
        "else:\n",
        "    print('Last')"
      ],
      "execution_count": null,
      "outputs": []
    },
    {
      "cell_type": "markdown",
      "metadata": {
        "id": "6kXuUXGxAkST"
      },
      "source": [
        "**For and While loop**"
      ]
    },
    {
      "cell_type": "code",
      "metadata": {
        "id": "fzIdb0QSmpHj"
      },
      "source": [
        "range(5)"
      ],
      "execution_count": null,
      "outputs": []
    },
    {
      "cell_type": "code",
      "metadata": {
        "id": "rljw948pofAI"
      },
      "source": [
        "for i in range(5):\n",
        "    print(i)"
      ],
      "execution_count": null,
      "outputs": []
    },
    {
      "cell_type": "code",
      "metadata": {
        "id": "cFyEa6Z0oia3"
      },
      "source": [
        "list(range(5))"
      ],
      "execution_count": null,
      "outputs": []
    },
    {
      "cell_type": "code",
      "metadata": {
        "id": "s_v6spSkomeJ"
      },
      "source": [
        "r = [1,2,3,4,5]"
      ],
      "execution_count": null,
      "outputs": []
    },
    {
      "cell_type": "code",
      "metadata": {
        "id": "uIvK8rsaowEx"
      },
      "source": [
        "for i in r:\n",
        "    print(i)"
      ],
      "execution_count": null,
      "outputs": []
    },
    {
      "cell_type": "code",
      "metadata": {
        "id": "JeIZezj7o0x1",
        "outputId": "2670f4e6-28b2-45c8-c179-c831c49833ad",
        "colab": {
          "base_uri": "https://localhost:8080/",
          "height": 85
        }
      },
      "source": [
        "i = 1\n",
        "while i < 5:\n",
        "    print('i is: {}'.format(i))\n",
        "    i = i+1"
      ],
      "execution_count": null,
      "outputs": [
        {
          "output_type": "stream",
          "text": [
            "i is: 1\n",
            "i is: 2\n",
            "i is: 3\n",
            "i is: 4\n"
          ],
          "name": "stdout"
        }
      ]
    },
    {
      "cell_type": "code",
      "metadata": {
        "id": "VNGS1fooo5VK"
      },
      "source": [
        "x = [1,2,3,4]"
      ],
      "execution_count": null,
      "outputs": []
    },
    {
      "cell_type": "code",
      "metadata": {
        "id": "qfrsR2_0qFzD"
      },
      "source": [
        "out = []\n",
        "for item in x:\n",
        "    out.append(item**2)\n",
        "print(out)"
      ],
      "execution_count": null,
      "outputs": []
    },
    {
      "cell_type": "code",
      "metadata": {
        "id": "GD5hKLlVqIzy"
      },
      "source": [
        "[item**2 for item in x]"
      ],
      "execution_count": null,
      "outputs": []
    },
    {
      "cell_type": "markdown",
      "metadata": {
        "id": "bU-1qGbsA5hJ"
      },
      "source": [
        "**Functions**"
      ]
    },
    {
      "cell_type": "code",
      "metadata": {
        "id": "zZEnaMGTqMLc"
      },
      "source": [
        "def my_func(param1='default'):\n",
        "    \"\"\"\n",
        "    Docstring goes here.\n",
        "    \"\"\"\n",
        "    print(param1)"
      ],
      "execution_count": null,
      "outputs": []
    },
    {
      "cell_type": "code",
      "metadata": {
        "id": "TahB4NZTqkyw"
      },
      "source": [
        "my_func()"
      ],
      "execution_count": null,
      "outputs": []
    },
    {
      "cell_type": "code",
      "metadata": {
        "id": "uxH8CNXmqqut"
      },
      "source": [
        "my_func('new param')"
      ],
      "execution_count": null,
      "outputs": []
    },
    {
      "cell_type": "code",
      "metadata": {
        "id": "tArUkFV9qr0z"
      },
      "source": [
        "my_func(param1='new param')"
      ],
      "execution_count": null,
      "outputs": []
    },
    {
      "cell_type": "code",
      "metadata": {
        "id": "6CpdNQcfqxIv"
      },
      "source": [
        "def square(x):\n",
        "    return x**2"
      ],
      "execution_count": null,
      "outputs": []
    },
    {
      "cell_type": "code",
      "metadata": {
        "id": "TH5Ljxolq3cv"
      },
      "source": [
        "out = square(2)\n",
        "print(out)"
      ],
      "execution_count": null,
      "outputs": []
    },
    {
      "cell_type": "markdown",
      "metadata": {
        "id": "L6Op47AuBPl-"
      },
      "source": [
        "**Lambda Expressions**"
      ]
    },
    {
      "cell_type": "code",
      "metadata": {
        "id": "fc9SnKVT0l8g"
      },
      "source": [
        "sqr = lambda a : a**2\n",
        "print(sqr(2))"
      ],
      "execution_count": null,
      "outputs": []
    },
    {
      "cell_type": "code",
      "metadata": {
        "id": "hpUb2qp87UZ6"
      },
      "source": [
        "seq = [1,2,3,4,5]"
      ],
      "execution_count": null,
      "outputs": []
    },
    {
      "cell_type": "markdown",
      "metadata": {
        "id": "5ROb7BvaBYz5"
      },
      "source": [
        "**Map and Filter**"
      ]
    },
    {
      "cell_type": "code",
      "metadata": {
        "id": "YT8zHQ3M7fh2"
      },
      "source": [
        "map(times2,seq)"
      ],
      "execution_count": null,
      "outputs": []
    },
    {
      "cell_type": "code",
      "metadata": {
        "id": "VbTBZ8zq7oDi"
      },
      "source": [
        "list(map(square,seq))"
      ],
      "execution_count": null,
      "outputs": []
    },
    {
      "cell_type": "code",
      "metadata": {
        "id": "ScPQVi2x77Ui"
      },
      "source": [
        "list(map(sqr,seq))"
      ],
      "execution_count": null,
      "outputs": []
    },
    {
      "cell_type": "code",
      "metadata": {
        "id": "oVLJA4_n8JOe"
      },
      "source": [
        "filter(lambda item: item%2 == 0,seq)"
      ],
      "execution_count": null,
      "outputs": []
    },
    {
      "cell_type": "code",
      "metadata": {
        "id": "F9JIouVB8PPR"
      },
      "source": [
        "list(filter(lambda item: item%2 == 0,seq))"
      ],
      "execution_count": null,
      "outputs": []
    },
    {
      "cell_type": "markdown",
      "metadata": {
        "id": "YiBes0B3lsQw"
      },
      "source": [
        "**Chapter 2 -Introduction to Numpy(python data science handbook)**\n",
        "\n",
        "\n",
        "No matter what the data,first step in making them analyzable will be to transform them into arrays of numbers.\n",
        "\n",
        "Efficient storage and manipulation of numerical arrays is absolutely fundamental to the process of doing data science.\n",
        "\n",
        "Specialized tool that python has for handling such numerical arrays-NumPy package and Pandas package.\n",
        "\n",
        "NumPy (short for Numerical Python) provides\n",
        "an efficient interface to store and operate on dense data buffers.\n",
        "NumPy arrays provide much\n",
        "more efficient storage and data operations as the arrays grow larger in size than lists.\n",
        "\n"
      ]
    },
    {
      "cell_type": "code",
      "metadata": {
        "id": "7hEEL7LelhAC"
      },
      "source": [
        "import numpy as np"
      ],
      "execution_count": null,
      "outputs": []
    },
    {
      "cell_type": "code",
      "metadata": {
        "id": "VEClMmzLlmi7",
        "outputId": "41854cf5-4a05-4c60-d545-42d07b77ed0c",
        "colab": {
          "base_uri": "https://localhost:8080/",
          "height": 35
        }
      },
      "source": [
        "np.__version__"
      ],
      "execution_count": null,
      "outputs": [
        {
          "output_type": "execute_result",
          "data": {
            "application/vnd.google.colaboratory.intrinsic+json": {
              "type": "string"
            },
            "text/plain": [
              "'1.18.5'"
            ]
          },
          "metadata": {
            "tags": []
          },
          "execution_count": 2
        }
      ]
    },
    {
      "cell_type": "code",
      "metadata": {
        "id": "bmFSLeiWo3kG"
      },
      "source": [
        "np?"
      ],
      "execution_count": null,
      "outputs": []
    },
    {
      "cell_type": "markdown",
      "metadata": {
        "id": "ilW1NRhFpXYZ"
      },
      "source": [
        "**Understanding Data Types in Python**\n",
        "\n",
        "Effective data-driven science and computation requires understanding how data is\n",
        "stored and manipulated. This section outlines and contrasts how arrays of data are\n",
        "handled in the Python language itself, and how NumPy improves on this.\n",
        "\n",
        "Data types are dynamically inferred."
      ]
    },
    {
      "cell_type": "markdown",
      "metadata": {
        "id": "b3c4xCjzqjaH"
      },
      "source": [
        "**A Python Integer Is More Than Just an Integer**\n",
        "\n",
        "\n",
        "when we define an integer in Python, such as\n",
        "x = 10000, x is not just a “raw” integer. It’s actually a pointer to a compound C structure,\n",
        "which contains several values.\n",
        "\n",
        "A single integer in Python 3.4 actually contains four pieces:\n",
        "• ob_refcnt, a reference count that helps Python silently handle memory allocation\n",
        "and deallocation\n",
        "• ob_type, which encodes the type of the variable\n",
        "• ob_size, which specifies the size of the following data members\n",
        "• ob_digit, which contains\n",
        "\n",
        "A Python integer is a pointer to a position in\n",
        "memory containing all the Python object information, including the bytes that contain\n",
        "the integer value."
      ]
    },
    {
      "cell_type": "code",
      "metadata": {
        "id": "kgbDv-gupPOF"
      },
      "source": [
        ""
      ],
      "execution_count": null,
      "outputs": []
    },
    {
      "cell_type": "markdown",
      "metadata": {
        "id": "CiMGDVQS4GAN"
      },
      "source": [
        "**A Python List Is More Than Just a List**\n",
        "\n"
      ]
    },
    {
      "cell_type": "code",
      "metadata": {
        "id": "oIkVi6DR4I06"
      },
      "source": [
        "L3=[True,\"creation\",3.0,4]"
      ],
      "execution_count": null,
      "outputs": []
    },
    {
      "cell_type": "markdown",
      "metadata": {
        "id": "ctxZz9Qe4Sxz"
      },
      "source": [
        "But this flexibility comes at a cost: to allow these flexible types, each item in the list\n",
        "must contain its own type info, reference count, and other information—that is, each\n",
        "item is a complete Python object.\n",
        "\n",
        "At the implementation level, the array essentially contains a single pointer to one contiguous\n",
        "block of data. The Python list, on the other hand, contains a pointer to a\n",
        "block of pointers, each of which in turn points to a full Python object like the Python integer.\n",
        "\n",
        "The advantage of the list is flexibility: because each list\n",
        "element is a full structure containing both data and type information, the list can be\n",
        "filled with data of any desired type. Fixed-type NumPy-style arrays lack this flexibility,\n",
        "but are much more efficient for storing and manipulating data."
      ]
    },
    {
      "cell_type": "markdown",
      "metadata": {
        "id": "PpHk1b2P5NWr"
      },
      "source": [
        "**Fixed-Type Arrays in Python**"
      ]
    },
    {
      "cell_type": "code",
      "metadata": {
        "id": "vSDuYgor4RiG",
        "outputId": "397b4935-6028-4142-a62d-3f26f9940532",
        "colab": {
          "base_uri": "https://localhost:8080/",
          "height": 34
        }
      },
      "source": [
        "import array\n",
        "L=list(range(10))\n",
        "A=array.array('i',L)\n",
        "A"
      ],
      "execution_count": null,
      "outputs": [
        {
          "output_type": "execute_result",
          "data": {
            "text/plain": [
              "array('i', [0, 1, 2, 3, 4, 5, 6, 7, 8, 9])"
            ]
          },
          "metadata": {
            "tags": []
          },
          "execution_count": 5
        }
      ]
    },
    {
      "cell_type": "markdown",
      "metadata": {
        "id": "JJfXTdu_5wuG"
      },
      "source": [
        "While Python’s array object provides efficient storage of array-based data, NumPy adds to this efficient operations on that data"
      ]
    },
    {
      "cell_type": "markdown",
      "metadata": {
        "id": "LQm87qsd5-1W"
      },
      "source": [
        "**Creating Arrays from Python Lists**"
      ]
    },
    {
      "cell_type": "code",
      "metadata": {
        "id": "ogP_-CmY6BPG"
      },
      "source": [
        "A=np.array([1,2,3,4],dtype='float32')"
      ],
      "execution_count": null,
      "outputs": []
    },
    {
      "cell_type": "code",
      "metadata": {
        "id": "iDOIsagN6HcP",
        "outputId": "45f8c161-ba53-41d2-9e77-95b1ca24c050",
        "colab": {
          "base_uri": "https://localhost:8080/",
          "height": 67
        }
      },
      "source": [
        "#multidimensional arrays\n",
        "np.array([range(i,i+3) for i in range(3)])"
      ],
      "execution_count": null,
      "outputs": [
        {
          "output_type": "execute_result",
          "data": {
            "text/plain": [
              "array([[0, 1, 2],\n",
              "       [1, 2, 3],\n",
              "       [2, 3, 4]])"
            ]
          },
          "metadata": {
            "tags": []
          },
          "execution_count": 7
        }
      ]
    },
    {
      "cell_type": "code",
      "metadata": {
        "id": "qrZdKpVv8VLt",
        "outputId": "60a28346-2f94-47ac-9531-5e7e838b6b5b",
        "colab": {
          "base_uri": "https://localhost:8080/",
          "height": 67
        }
      },
      "source": [
        "for i in range(3):\n",
        "  print(range(i,i+3))"
      ],
      "execution_count": null,
      "outputs": [
        {
          "output_type": "stream",
          "text": [
            "range(0, 3)\n",
            "range(1, 4)\n",
            "range(2, 5)\n"
          ],
          "name": "stdout"
        }
      ]
    },
    {
      "cell_type": "markdown",
      "metadata": {
        "id": "RqF6RN6a9wre"
      },
      "source": [
        "**Creating Arrays from Scratch**"
      ]
    },
    {
      "cell_type": "code",
      "metadata": {
        "id": "3PgY_pSs8p9-",
        "outputId": "d6044ebc-355b-4b74-9f59-3b6aad83f8f2",
        "colab": {
          "base_uri": "https://localhost:8080/",
          "height": 34
        }
      },
      "source": [
        "np.zeros(5,dtype=int)"
      ],
      "execution_count": null,
      "outputs": [
        {
          "output_type": "execute_result",
          "data": {
            "text/plain": [
              "array([0, 0, 0, 0, 0])"
            ]
          },
          "metadata": {
            "tags": []
          },
          "execution_count": 9
        }
      ]
    },
    {
      "cell_type": "code",
      "metadata": {
        "id": "L0eHOzkn96mw",
        "outputId": "c9f643b5-281c-4fa8-cc3f-b642710a608b",
        "colab": {
          "base_uri": "https://localhost:8080/",
          "height": 67
        }
      },
      "source": [
        "np.ones((3,3),dtype=float)"
      ],
      "execution_count": null,
      "outputs": [
        {
          "output_type": "execute_result",
          "data": {
            "text/plain": [
              "array([[1., 1., 1.],\n",
              "       [1., 1., 1.],\n",
              "       [1., 1., 1.]])"
            ]
          },
          "metadata": {
            "tags": []
          },
          "execution_count": 10
        }
      ]
    },
    {
      "cell_type": "code",
      "metadata": {
        "id": "AEVdMOzP-Aom",
        "outputId": "7231d0ba-0fd6-4f4c-b1c4-8c64930f28fb",
        "colab": {
          "base_uri": "https://localhost:8080/",
          "height": 50
        }
      },
      "source": [
        "np.full((2,3),3.14)"
      ],
      "execution_count": null,
      "outputs": [
        {
          "output_type": "execute_result",
          "data": {
            "text/plain": [
              "array([[3.14, 3.14, 3.14],\n",
              "       [3.14, 3.14, 3.14]])"
            ]
          },
          "metadata": {
            "tags": []
          },
          "execution_count": 11
        }
      ]
    },
    {
      "cell_type": "code",
      "metadata": {
        "id": "84obgfOc-Fu8",
        "outputId": "ef745f76-f58a-4783-e495-d33444a98ae6",
        "colab": {
          "base_uri": "https://localhost:8080/",
          "height": 34
        }
      },
      "source": [
        "np.arange(1,10,2)"
      ],
      "execution_count": null,
      "outputs": [
        {
          "output_type": "execute_result",
          "data": {
            "text/plain": [
              "array([1, 3, 5, 7, 9])"
            ]
          },
          "metadata": {
            "tags": []
          },
          "execution_count": 12
        }
      ]
    },
    {
      "cell_type": "code",
      "metadata": {
        "id": "TYSG3Kf6-LmM",
        "outputId": "3dc16be4-eb3b-42d1-a17e-c712839426c7",
        "colab": {
          "base_uri": "https://localhost:8080/",
          "height": 34
        }
      },
      "source": [
        "np.linspace(0,10,5)"
      ],
      "execution_count": null,
      "outputs": [
        {
          "output_type": "execute_result",
          "data": {
            "text/plain": [
              "array([ 0. ,  2.5,  5. ,  7.5, 10. ])"
            ]
          },
          "metadata": {
            "tags": []
          },
          "execution_count": 13
        }
      ]
    },
    {
      "cell_type": "code",
      "metadata": {
        "id": "miBf1_2g-Pvp",
        "outputId": "f8cb7e85-c447-4e68-9800-5f189dc7aa35",
        "colab": {
          "base_uri": "https://localhost:8080/",
          "height": 67
        }
      },
      "source": [
        "np.random.random((3,3))"
      ],
      "execution_count": null,
      "outputs": [
        {
          "output_type": "execute_result",
          "data": {
            "text/plain": [
              "array([[0.89020099, 0.99304152, 0.02411159],\n",
              "       [0.12250582, 0.43999855, 0.64062683],\n",
              "       [0.75065739, 0.78916632, 0.57904854]])"
            ]
          },
          "metadata": {
            "tags": []
          },
          "execution_count": 14
        }
      ]
    },
    {
      "cell_type": "code",
      "metadata": {
        "id": "QhzE6HQL-bt1",
        "outputId": "ecb92d47-5684-4f44-9c52-67d314fdddcd",
        "colab": {
          "base_uri": "https://localhost:8080/",
          "height": 67
        }
      },
      "source": [
        "np.random.normal(0,1,(3,3))\n",
        "#0 mean and 1 std deviation"
      ],
      "execution_count": null,
      "outputs": [
        {
          "output_type": "execute_result",
          "data": {
            "text/plain": [
              "array([[ 1.07205549,  0.33376062,  0.70419279],\n",
              "       [-1.01544406,  0.42350841,  0.91215136],\n",
              "       [-0.59726534, -1.72404557,  0.86541784]])"
            ]
          },
          "metadata": {
            "tags": []
          },
          "execution_count": 15
        }
      ]
    },
    {
      "cell_type": "code",
      "metadata": {
        "id": "bTtFwwYh-m1v",
        "outputId": "bd2d7549-4e3e-4252-bafa-2829bcc30238",
        "colab": {
          "base_uri": "https://localhost:8080/",
          "height": 67
        }
      },
      "source": [
        "np.random.randint(0,10,(3,3))"
      ],
      "execution_count": null,
      "outputs": [
        {
          "output_type": "execute_result",
          "data": {
            "text/plain": [
              "array([[8, 4, 2],\n",
              "       [3, 4, 9],\n",
              "       [4, 4, 6]])"
            ]
          },
          "metadata": {
            "tags": []
          },
          "execution_count": 16
        }
      ]
    },
    {
      "cell_type": "code",
      "metadata": {
        "id": "Plc_a7_J-0Yy",
        "outputId": "b13905bd-a443-4fef-bbe3-0322d25b434b",
        "colab": {
          "base_uri": "https://localhost:8080/",
          "height": 67
        }
      },
      "source": [
        "np.eye(3)"
      ],
      "execution_count": null,
      "outputs": [
        {
          "output_type": "execute_result",
          "data": {
            "text/plain": [
              "array([[1., 0., 0.],\n",
              "       [0., 1., 0.],\n",
              "       [0., 0., 1.]])"
            ]
          },
          "metadata": {
            "tags": []
          },
          "execution_count": 17
        }
      ]
    },
    {
      "cell_type": "code",
      "metadata": {
        "id": "VDszNXF8_NeX"
      },
      "source": [
        ""
      ],
      "execution_count": null,
      "outputs": []
    },
    {
      "cell_type": "markdown",
      "metadata": {
        "id": "-KmujcJW_WLR"
      },
      "source": [
        "**NumPy Standard Data Types**\n",
        "\n",
        "NumPy arrays contain values of a single type.\n",
        "\n",
        "bool_,int_,intc ,intp ,int8,int16,int32,int64,uint8,uint16,uint32,uint64,float_,float16,float32,float64,complex_,complex64,complex128."
      ]
    },
    {
      "cell_type": "code",
      "metadata": {
        "id": "oamL8_SF_aDF",
        "outputId": "e6e28b8f-830a-480a-ce05-da601937a6f8",
        "colab": {
          "base_uri": "https://localhost:8080/",
          "height": 34
        }
      },
      "source": [
        "np.zeros(5,dtype='int16')"
      ],
      "execution_count": null,
      "outputs": [
        {
          "output_type": "execute_result",
          "data": {
            "text/plain": [
              "array([0, 0, 0, 0, 0], dtype=int16)"
            ]
          },
          "metadata": {
            "tags": []
          },
          "execution_count": 18
        }
      ]
    },
    {
      "cell_type": "code",
      "metadata": {
        "id": "1CwaVj-0_uq3",
        "outputId": "1e4e9e57-0eb6-4b65-b5f6-650dc2a40eb0",
        "colab": {
          "base_uri": "https://localhost:8080/",
          "height": 34
        }
      },
      "source": [
        "np.zeros(4,dtype=np.int16)"
      ],
      "execution_count": null,
      "outputs": [
        {
          "output_type": "execute_result",
          "data": {
            "text/plain": [
              "array([0, 0, 0, 0], dtype=int16)"
            ]
          },
          "metadata": {
            "tags": []
          },
          "execution_count": 19
        }
      ]
    },
    {
      "cell_type": "markdown",
      "metadata": {
        "id": "-HouP-0sA4i1"
      },
      "source": [
        "**NumPy Array Attributes**\n",
        "\n",
        "Determining the size, shape, memory consumption, and data types of arrays"
      ]
    },
    {
      "cell_type": "code",
      "metadata": {
        "id": "ZSDIqa7j_yS4",
        "outputId": "f81fc033-5dcf-429c-db80-547463233b8d",
        "colab": {
          "base_uri": "https://localhost:8080/",
          "height": 67
        }
      },
      "source": [
        "x1=np.random.randint(10,size=(3,4))\n",
        "x1"
      ],
      "execution_count": null,
      "outputs": [
        {
          "output_type": "execute_result",
          "data": {
            "text/plain": [
              "array([[5, 8, 4, 8],\n",
              "       [0, 5, 1, 5],\n",
              "       [1, 7, 6, 9]])"
            ]
          },
          "metadata": {
            "tags": []
          },
          "execution_count": 20
        }
      ]
    },
    {
      "cell_type": "code",
      "metadata": {
        "id": "VDhfmjIdBc6j",
        "outputId": "a177d963-7ab4-49e1-c56b-9edc31851a84",
        "colab": {
          "base_uri": "https://localhost:8080/",
          "height": 34
        }
      },
      "source": [
        "print(\"dim = \\t\",x1.ndim,\"\\t shape is \",x1.shape,\"\\t size is \",x1.size)"
      ],
      "execution_count": null,
      "outputs": [
        {
          "output_type": "stream",
          "text": [
            "dim = \t 2 \t shape is  (3, 4) \t size is  12\n"
          ],
          "name": "stdout"
        }
      ]
    },
    {
      "cell_type": "code",
      "metadata": {
        "id": "iozo74GtBlze",
        "outputId": "cdb0f1fd-bc11-4aac-c071-6ac420a24bcf",
        "colab": {
          "base_uri": "https://localhost:8080/",
          "height": 34
        }
      },
      "source": [
        "x1.dtype"
      ],
      "execution_count": null,
      "outputs": [
        {
          "output_type": "execute_result",
          "data": {
            "text/plain": [
              "dtype('int64')"
            ]
          },
          "metadata": {
            "tags": []
          },
          "execution_count": 22
        }
      ]
    },
    {
      "cell_type": "code",
      "metadata": {
        "id": "vAk8066wCQBB",
        "outputId": "ac0450ba-f733-4579-f4a3-7f5380a2874f",
        "colab": {
          "base_uri": "https://localhost:8080/",
          "height": 34
        }
      },
      "source": [
        "x1.itemsize,x1.nbytes"
      ],
      "execution_count": null,
      "outputs": [
        {
          "output_type": "execute_result",
          "data": {
            "text/plain": [
              "(8, 96)"
            ]
          },
          "metadata": {
            "tags": []
          },
          "execution_count": 23
        }
      ]
    },
    {
      "cell_type": "markdown",
      "metadata": {
        "id": "I6GQF9sYCT9f"
      },
      "source": [
        "**Array Indexing: Accessing Single Elements**"
      ]
    },
    {
      "cell_type": "code",
      "metadata": {
        "id": "jYxyMnVgCqLS",
        "outputId": "1e22f400-2111-4c14-f06c-c7f49aa5005b",
        "colab": {
          "base_uri": "https://localhost:8080/",
          "height": 34
        }
      },
      "source": [
        "x1[-1]"
      ],
      "execution_count": null,
      "outputs": [
        {
          "output_type": "execute_result",
          "data": {
            "text/plain": [
              "array([1, 7, 6, 9])"
            ]
          },
          "metadata": {
            "tags": []
          },
          "execution_count": 24
        }
      ]
    },
    {
      "cell_type": "code",
      "metadata": {
        "id": "eNyFnV9VC4bs",
        "outputId": "129e1d59-bcb0-4d10-d6f1-90a8d693fd61",
        "colab": {
          "base_uri": "https://localhost:8080/",
          "height": 34
        }
      },
      "source": [
        "x1[0,1]"
      ],
      "execution_count": null,
      "outputs": [
        {
          "output_type": "execute_result",
          "data": {
            "text/plain": [
              "8"
            ]
          },
          "metadata": {
            "tags": []
          },
          "execution_count": 25
        }
      ]
    },
    {
      "cell_type": "code",
      "metadata": {
        "id": "4NIHsw8FDDWd",
        "outputId": "f0c8729b-8b7f-42d3-fb6f-8cc75f375bba",
        "colab": {
          "base_uri": "https://localhost:8080/",
          "height": 67
        }
      },
      "source": [
        "x1[0,1]=89\n",
        "x1"
      ],
      "execution_count": null,
      "outputs": [
        {
          "output_type": "execute_result",
          "data": {
            "text/plain": [
              "array([[ 5, 89,  4,  8],\n",
              "       [ 0,  5,  1,  5],\n",
              "       [ 1,  7,  6,  9]])"
            ]
          },
          "metadata": {
            "tags": []
          },
          "execution_count": 26
        }
      ]
    },
    {
      "cell_type": "markdown",
      "metadata": {
        "id": "cvPDxcagDWry"
      },
      "source": [
        "**Array Slicing: Accessing Subarrays**\n",
        "\n",
        "To access subarrays with slice notation,marked by colon(:) character.\n",
        "\n",
        "\n",
        "x[start:stop:step].\n",
        "\n",
        "If any of these are unspecified, they default to the values start=0, stop=size of\n",
        "dimension, step=1."
      ]
    },
    {
      "cell_type": "code",
      "metadata": {
        "id": "ckCKoR3XDKBs",
        "outputId": "793f8c4a-eb2a-4567-cb6a-1837c34a0d30",
        "colab": {
          "base_uri": "https://localhost:8080/",
          "height": 34
        }
      },
      "source": [
        "x=np.array(range(10))\n",
        "x"
      ],
      "execution_count": null,
      "outputs": [
        {
          "output_type": "execute_result",
          "data": {
            "text/plain": [
              "array([0, 1, 2, 3, 4, 5, 6, 7, 8, 9])"
            ]
          },
          "metadata": {
            "tags": []
          },
          "execution_count": 27
        }
      ]
    },
    {
      "cell_type": "code",
      "metadata": {
        "id": "o6XQQq5ZD__8",
        "outputId": "27935874-b32a-4512-ac3e-e34135d4c44c",
        "colab": {
          "base_uri": "https://localhost:8080/",
          "height": 34
        }
      },
      "source": [
        "x[::2]"
      ],
      "execution_count": null,
      "outputs": [
        {
          "output_type": "execute_result",
          "data": {
            "text/plain": [
              "array([0, 2, 4, 6, 8])"
            ]
          },
          "metadata": {
            "tags": []
          },
          "execution_count": 28
        }
      ]
    },
    {
      "cell_type": "code",
      "metadata": {
        "id": "-TNt41dQEFBK",
        "outputId": "777ad6a1-5669-4834-f936-e876caf4ee15",
        "colab": {
          "base_uri": "https://localhost:8080/",
          "height": 34
        }
      },
      "source": [
        "x[::-1]"
      ],
      "execution_count": null,
      "outputs": [
        {
          "output_type": "execute_result",
          "data": {
            "text/plain": [
              "array([9, 8, 7, 6, 5, 4, 3, 2, 1, 0])"
            ]
          },
          "metadata": {
            "tags": []
          },
          "execution_count": 29
        }
      ]
    },
    {
      "cell_type": "code",
      "metadata": {
        "id": "namoxjukEMM0",
        "outputId": "47cfd804-497d-4bed-8a72-a822cdbf0e36",
        "colab": {
          "base_uri": "https://localhost:8080/",
          "height": 34
        }
      },
      "source": [
        "x[5::-2]"
      ],
      "execution_count": null,
      "outputs": [
        {
          "output_type": "execute_result",
          "data": {
            "text/plain": [
              "array([5, 3, 1])"
            ]
          },
          "metadata": {
            "tags": []
          },
          "execution_count": 30
        }
      ]
    },
    {
      "cell_type": "code",
      "metadata": {
        "id": "iXt0MVsOEcr0",
        "outputId": "2dc86080-f02b-4629-8e1b-4958114bc8de",
        "colab": {
          "base_uri": "https://localhost:8080/",
          "height": 67
        }
      },
      "source": [
        "x1"
      ],
      "execution_count": null,
      "outputs": [
        {
          "output_type": "execute_result",
          "data": {
            "text/plain": [
              "array([[ 5, 89,  4,  8],\n",
              "       [ 0,  5,  1,  5],\n",
              "       [ 1,  7,  6,  9]])"
            ]
          },
          "metadata": {
            "tags": []
          },
          "execution_count": 31
        }
      ]
    },
    {
      "cell_type": "code",
      "metadata": {
        "id": "9MeQPY3XEvdv",
        "outputId": "34130e8b-f389-4dad-c51a-a499a5463e67",
        "colab": {
          "base_uri": "https://localhost:8080/",
          "height": 50
        }
      },
      "source": [
        "x1[:2,1:3]"
      ],
      "execution_count": null,
      "outputs": [
        {
          "output_type": "execute_result",
          "data": {
            "text/plain": [
              "array([[89,  4],\n",
              "       [ 5,  1]])"
            ]
          },
          "metadata": {
            "tags": []
          },
          "execution_count": 32
        }
      ]
    },
    {
      "cell_type": "code",
      "metadata": {
        "id": "iqhcr96kEzt_",
        "outputId": "42ea6519-2392-490e-bdc8-0c551db5c90b",
        "colab": {
          "base_uri": "https://localhost:8080/",
          "height": 67
        }
      },
      "source": [
        "x1[::-1,::-1]"
      ],
      "execution_count": null,
      "outputs": [
        {
          "output_type": "execute_result",
          "data": {
            "text/plain": [
              "array([[ 9,  6,  7,  1],\n",
              "       [ 5,  1,  5,  0],\n",
              "       [ 8,  4, 89,  5]])"
            ]
          },
          "metadata": {
            "tags": []
          },
          "execution_count": 33
        }
      ]
    },
    {
      "cell_type": "markdown",
      "metadata": {
        "id": "x5ew_1AtFj8x"
      },
      "source": [
        "**Subarrays as no-copy views**\n",
        "\n",
        "Array slices is that they\n",
        "return views rather than copies of the array data.\n",
        "\n",
        "If we modify the subarray, we’ll see that the original array is changed!"
      ]
    },
    {
      "cell_type": "code",
      "metadata": {
        "id": "vOiekNlJFDyW",
        "outputId": "7be5af43-72a8-409d-d256-eda9b381128d",
        "colab": {
          "base_uri": "https://localhost:8080/",
          "height": 50
        }
      },
      "source": [
        "#creating copies of arrays\n",
        "x1_subarry_copy=x1[:2,1:3].copy()\n",
        "print(x1_subarry_copy)"
      ],
      "execution_count": null,
      "outputs": [
        {
          "output_type": "stream",
          "text": [
            "[[89  4]\n",
            " [ 5  1]]\n"
          ],
          "name": "stdout"
        }
      ]
    },
    {
      "cell_type": "code",
      "metadata": {
        "id": "mzSArdNqGZGW",
        "outputId": "fb4ce8c4-23b7-4e18-d45d-07324af533d0",
        "colab": {
          "base_uri": "https://localhost:8080/",
          "height": 50
        }
      },
      "source": [
        "x1_subarry_copy[0,0]=99\n",
        "x1_subarry_copy"
      ],
      "execution_count": null,
      "outputs": [
        {
          "output_type": "execute_result",
          "data": {
            "text/plain": [
              "array([[99,  4],\n",
              "       [ 5,  1]])"
            ]
          },
          "metadata": {
            "tags": []
          },
          "execution_count": 35
        }
      ]
    },
    {
      "cell_type": "code",
      "metadata": {
        "id": "ZVCFHw98Gqmf",
        "outputId": "1fbb2ca6-60a4-4796-842b-7f600441dc1b",
        "colab": {
          "base_uri": "https://localhost:8080/",
          "height": 67
        }
      },
      "source": [
        "x1\n",
        "#x1 is not modified"
      ],
      "execution_count": null,
      "outputs": [
        {
          "output_type": "execute_result",
          "data": {
            "text/plain": [
              "array([[ 5, 89,  4,  8],\n",
              "       [ 0,  5,  1,  5],\n",
              "       [ 1,  7,  6,  9]])"
            ]
          },
          "metadata": {
            "tags": []
          },
          "execution_count": 36
        }
      ]
    },
    {
      "cell_type": "markdown",
      "metadata": {
        "id": "FKEUMU-dGyoZ"
      },
      "source": [
        "**Reshaping of Arrays**"
      ]
    },
    {
      "cell_type": "code",
      "metadata": {
        "id": "OCn0E237GrdJ",
        "outputId": "6734c924-ded8-4500-b9ae-d3a276881a02",
        "colab": {
          "base_uri": "https://localhost:8080/",
          "height": 67
        }
      },
      "source": [
        "a1=np.array(range(9)).reshape((3,3))\n",
        "a1"
      ],
      "execution_count": null,
      "outputs": [
        {
          "output_type": "execute_result",
          "data": {
            "text/plain": [
              "array([[0, 1, 2],\n",
              "       [3, 4, 5],\n",
              "       [6, 7, 8]])"
            ]
          },
          "metadata": {
            "tags": []
          },
          "execution_count": 37
        }
      ]
    },
    {
      "cell_type": "code",
      "metadata": {
        "id": "pKBB-UEYTPqa",
        "outputId": "fd09cda3-2089-414d-eae6-aa6f7d6c5d1f",
        "colab": {
          "base_uri": "https://localhost:8080/",
          "height": 34
        }
      },
      "source": [
        "a2=np.array([1,2,3])\n",
        "a2.shape"
      ],
      "execution_count": null,
      "outputs": [
        {
          "output_type": "execute_result",
          "data": {
            "text/plain": [
              "(3,)"
            ]
          },
          "metadata": {
            "tags": []
          },
          "execution_count": 38
        }
      ]
    },
    {
      "cell_type": "code",
      "metadata": {
        "id": "cLata1F4TQdF",
        "outputId": "ad2417d2-0732-45ae-bd47-b00577f48e32",
        "colab": {
          "base_uri": "https://localhost:8080/",
          "height": 84
        }
      },
      "source": [
        "a2=a2.reshape((3,1))\n",
        "print(a2.shape)\n",
        "print(a2)"
      ],
      "execution_count": null,
      "outputs": [
        {
          "output_type": "stream",
          "text": [
            "(3, 1)\n",
            "[[1]\n",
            " [2]\n",
            " [3]]\n"
          ],
          "name": "stdout"
        }
      ]
    },
    {
      "cell_type": "code",
      "metadata": {
        "id": "ENntvC0_Tuoc",
        "outputId": "6d559ddf-2996-490b-9d0c-dde4c64b1d1b",
        "colab": {
          "base_uri": "https://localhost:8080/",
          "height": 50
        }
      },
      "source": [
        "#row vector via new axis\n",
        "a3=np.array([1,2,3,4,5])\n",
        "print(a3.shape)\n",
        "a3=a3[np.newaxis,:]\n",
        "a3"
      ],
      "execution_count": null,
      "outputs": [
        {
          "output_type": "stream",
          "text": [
            "(5,)\n"
          ],
          "name": "stdout"
        },
        {
          "output_type": "execute_result",
          "data": {
            "text/plain": [
              "array([[1, 2, 3, 4, 5]])"
            ]
          },
          "metadata": {
            "tags": []
          },
          "execution_count": 40
        }
      ]
    },
    {
      "cell_type": "code",
      "metadata": {
        "id": "yLgZxHILUcjF",
        "outputId": "a4b5bf17-460c-4a30-e6ae-3c67506dc578",
        "colab": {
          "base_uri": "https://localhost:8080/",
          "height": 34
        }
      },
      "source": [
        "a3.shape"
      ],
      "execution_count": null,
      "outputs": [
        {
          "output_type": "execute_result",
          "data": {
            "text/plain": [
              "(1, 5)"
            ]
          },
          "metadata": {
            "tags": []
          },
          "execution_count": 41
        }
      ]
    },
    {
      "cell_type": "code",
      "metadata": {
        "id": "ZFmnSj6BUj9L",
        "outputId": "1c8c9954-fd7c-4385-ea55-8955688d3953",
        "colab": {
          "base_uri": "https://localhost:8080/",
          "height": 118
        }
      },
      "source": [
        "#col vector via newaxis\n",
        "a5=np.array([1,4,5,6,8])\n",
        "print(a5.shape)\n",
        "#a4=a4.reshape((5,1))\n",
        "\n",
        "a5=a5[:,np.newaxis]\n",
        "print(a5)"
      ],
      "execution_count": null,
      "outputs": [
        {
          "output_type": "stream",
          "text": [
            "(5,)\n",
            "[[1]\n",
            " [4]\n",
            " [5]\n",
            " [6]\n",
            " [8]]\n"
          ],
          "name": "stdout"
        }
      ]
    },
    {
      "cell_type": "markdown",
      "metadata": {
        "id": "jQoP6h1vV2qN"
      },
      "source": [
        "**Array Concatenation and Splitting**\n",
        "\n"
      ]
    },
    {
      "cell_type": "code",
      "metadata": {
        "id": "LIlY0UwiVEVQ",
        "outputId": "2433b3f0-e0ff-47d2-c783-1abbcde82fa1",
        "colab": {
          "base_uri": "https://localhost:8080/",
          "height": 34
        }
      },
      "source": [
        "#concatenation \n",
        "#np.concatenate,np.vstack and np.hstack\n",
        "x=np.array([1,2,3,4])\n",
        "y=np.array([5,6,7,8])\n",
        "#takes tuple or list of arrays as first argument\n",
        "np.concatenate([x,y])"
      ],
      "execution_count": null,
      "outputs": [
        {
          "output_type": "execute_result",
          "data": {
            "text/plain": [
              "array([1, 2, 3, 4, 5, 6, 7, 8])"
            ]
          },
          "metadata": {
            "tags": []
          },
          "execution_count": 43
        }
      ]
    },
    {
      "cell_type": "code",
      "metadata": {
        "id": "DM3-FFg_XJhS",
        "outputId": "715ddd13-0104-404b-f254-dc2f30f70821",
        "colab": {
          "base_uri": "https://localhost:8080/",
          "height": 84
        }
      },
      "source": [
        "z=np.array([[1,2,3],[4,5,6]])\n",
        "np.concatenate([z,z])#concatenate along first axis"
      ],
      "execution_count": null,
      "outputs": [
        {
          "output_type": "execute_result",
          "data": {
            "text/plain": [
              "array([[1, 2, 3],\n",
              "       [4, 5, 6],\n",
              "       [1, 2, 3],\n",
              "       [4, 5, 6]])"
            ]
          },
          "metadata": {
            "tags": []
          },
          "execution_count": 44
        }
      ]
    },
    {
      "cell_type": "code",
      "metadata": {
        "id": "_JzHxGPlX17V",
        "outputId": "b6f55788-21f6-4648-977e-db5a5762ba8c",
        "colab": {
          "base_uri": "https://localhost:8080/",
          "height": 50
        }
      },
      "source": [
        "np.concatenate([z,z],axis=1)#along second axis"
      ],
      "execution_count": null,
      "outputs": [
        {
          "output_type": "execute_result",
          "data": {
            "text/plain": [
              "array([[1, 2, 3, 1, 2, 3],\n",
              "       [4, 5, 6, 4, 5, 6]])"
            ]
          },
          "metadata": {
            "tags": []
          },
          "execution_count": 45
        }
      ]
    },
    {
      "cell_type": "code",
      "metadata": {
        "id": "bQhzFQ15YTm3",
        "outputId": "fbd9afa1-1215-4b0c-c19b-26f9483ff4ff",
        "colab": {
          "base_uri": "https://localhost:8080/",
          "height": 67
        }
      },
      "source": [
        "#for arrays with mixed dimensions-np.hstack,np.vstack\n",
        "k=np.array([10,11,12])\n",
        "np.vstack([z,k])"
      ],
      "execution_count": null,
      "outputs": [
        {
          "output_type": "execute_result",
          "data": {
            "text/plain": [
              "array([[ 1,  2,  3],\n",
              "       [ 4,  5,  6],\n",
              "       [10, 11, 12]])"
            ]
          },
          "metadata": {
            "tags": []
          },
          "execution_count": 46
        }
      ]
    },
    {
      "cell_type": "code",
      "metadata": {
        "id": "DIhVE-uCYubT",
        "outputId": "9fc7c247-f5e5-45ef-834b-1c9bb4e9ffc0",
        "colab": {
          "base_uri": "https://localhost:8080/",
          "height": 50
        }
      },
      "source": [
        "l=np.array([[20],[21]])\n",
        "np.hstack([z,l])"
      ],
      "execution_count": null,
      "outputs": [
        {
          "output_type": "execute_result",
          "data": {
            "text/plain": [
              "array([[ 1,  2,  3, 20],\n",
              "       [ 4,  5,  6, 21]])"
            ]
          },
          "metadata": {
            "tags": []
          },
          "execution_count": 47
        }
      ]
    },
    {
      "cell_type": "code",
      "metadata": {
        "id": "lzzZALIZZALa",
        "outputId": "5731285a-dc3b-4540-fb5d-2480257d9b3e",
        "colab": {
          "base_uri": "https://localhost:8080/",
          "height": 34
        }
      },
      "source": [
        "#splitting of arrays\n",
        "#np.split,np.hsplit,np.vsplit\n",
        "x=[1,2,3,4,5,6,78,9,55,22]\n",
        "x1,x2,x3=np.split(x,[3,5])\n",
        "#create splits from -:3,3:5,5:\n",
        "print(x1,x2,x3)"
      ],
      "execution_count": null,
      "outputs": [
        {
          "output_type": "stream",
          "text": [
            "[1 2 3] [4 5] [ 6 78  9 55 22]\n"
          ],
          "name": "stdout"
        }
      ]
    },
    {
      "cell_type": "code",
      "metadata": {
        "id": "O0OywAIJZ5kO",
        "outputId": "c90065d7-d942-4d57-f1ad-13ea22174e96",
        "colab": {
          "base_uri": "https://localhost:8080/",
          "height": 84
        }
      },
      "source": [
        "grid=np.arange(16).reshape((4,4))\n",
        "grid"
      ],
      "execution_count": null,
      "outputs": [
        {
          "output_type": "execute_result",
          "data": {
            "text/plain": [
              "array([[ 0,  1,  2,  3],\n",
              "       [ 4,  5,  6,  7],\n",
              "       [ 8,  9, 10, 11],\n",
              "       [12, 13, 14, 15]])"
            ]
          },
          "metadata": {
            "tags": []
          },
          "execution_count": 49
        }
      ]
    },
    {
      "cell_type": "code",
      "metadata": {
        "id": "26byI724asYY",
        "outputId": "422d3699-0043-4f34-9a5d-6de1b89abc4f",
        "colab": {
          "base_uri": "https://localhost:8080/",
          "height": 84
        }
      },
      "source": [
        "upper,lower=np.vsplit(grid,[2])\n",
        "print(upper)\n",
        "print(lower)\n"
      ],
      "execution_count": null,
      "outputs": [
        {
          "output_type": "stream",
          "text": [
            "[[0 1 2 3]\n",
            " [4 5 6 7]]\n",
            "[[ 8  9 10 11]\n",
            " [12 13 14 15]]\n"
          ],
          "name": "stdout"
        }
      ]
    },
    {
      "cell_type": "code",
      "metadata": {
        "id": "VW_s3UJfazAw",
        "outputId": "3870269d-38f8-4143-af95-7029e4ace696",
        "colab": {
          "base_uri": "https://localhost:8080/",
          "height": 151
        }
      },
      "source": [
        "left,right=np.hsplit(grid,[2])\n",
        "print(left)\n",
        "print(right)"
      ],
      "execution_count": null,
      "outputs": [
        {
          "output_type": "stream",
          "text": [
            "[[ 0  1]\n",
            " [ 4  5]\n",
            " [ 8  9]\n",
            " [12 13]]\n",
            "[[ 2  3]\n",
            " [ 6  7]\n",
            " [10 11]\n",
            " [14 15]]\n"
          ],
          "name": "stdout"
        }
      ]
    },
    {
      "cell_type": "markdown",
      "metadata": {
        "id": "CNCRf9w8bN-1"
      },
      "source": [
        "**Computation on NumPy Arrays: Universal Functions**\n",
        "Numpy provides an easy and flexible interface to optimized\n",
        "computation with arrays of data.\n",
        "\n",
        "The key to\n",
        "making it fast is to use vectorized operations, generally implemented through NumPy’s universal functions (ufuncs)."
      ]
    },
    {
      "cell_type": "markdown",
      "metadata": {
        "id": "3PGCF1imbxv_"
      },
      "source": [
        "**The Slowness of Loops**"
      ]
    },
    {
      "cell_type": "code",
      "metadata": {
        "id": "rwYCkk1Fa7dA"
      },
      "source": [
        "def reciprocal(values):\n",
        "  output = np.empty(len(values))\n",
        "  for i in range(len(values)):\n",
        "    output[i]=1.0/values[i]\n",
        "  return output\n",
        "\n"
      ],
      "execution_count": null,
      "outputs": []
    },
    {
      "cell_type": "code",
      "metadata": {
        "id": "WszptJM_r_iQ",
        "outputId": "e64ab354-8880-42fa-e419-0daf7b1d0ed4",
        "colab": {
          "base_uri": "https://localhost:8080/",
          "height": 34
        }
      },
      "source": [
        "big_array=np.random.randint(1,100,size = 1000000)\n",
        "%timeit reciprocal(big_array)"
      ],
      "execution_count": null,
      "outputs": [
        {
          "output_type": "stream",
          "text": [
            "1 loop, best of 3: 2.31 s per loop\n"
          ],
          "name": "stdout"
        }
      ]
    },
    {
      "cell_type": "markdown",
      "metadata": {
        "id": "LGk3qxzhtBXC"
      },
      "source": [
        "bottleneck here is not the operations themselves, but the type-checking\n",
        "and function dispatches that CPython must do at each cycle of the loop.\n",
        "Each time\n",
        "the reciprocal is computed, Python first examines the object’s type and does a\n",
        "dynamic lookup of the correct function to use for that type.\n",
        "\n",
        "**Introducing UFuncs**"
      ]
    },
    {
      "cell_type": "code",
      "metadata": {
        "id": "bsvjMUDRsP68",
        "outputId": "af64ae8c-498c-4d4f-c144-bb1bd468bc9e",
        "colab": {
          "base_uri": "https://localhost:8080/",
          "height": 34
        }
      },
      "source": [
        "#vectorization-operation on the array\n",
        "#This vectorized approach is designed to push the loop\n",
        "# into the compiled layer that underlies NumPy, \n",
        "#leading to much faster execution\n",
        "%timeit (1.0/big_array)"
      ],
      "execution_count": null,
      "outputs": [
        {
          "output_type": "stream",
          "text": [
            "100 loops, best of 3: 2.84 ms per loop\n"
          ],
          "name": "stdout"
        }
      ]
    },
    {
      "cell_type": "markdown",
      "metadata": {
        "id": "YYJ08r9Pvgdk"
      },
      "source": [
        "Vectorized operations in NumPy are implemented via ufuncs.\n",
        "Standard addition, subtraction, multiplication, and division\n",
        "can all be used."
      ]
    },
    {
      "cell_type": "code",
      "metadata": {
        "id": "ZghsKPRNtw79",
        "outputId": "10c83114-99c2-49e0-f484-adf11a3296f4",
        "colab": {
          "base_uri": "https://localhost:8080/",
          "height": 34
        }
      },
      "source": [
        "x=np.array([1,2,3,4,5,6])\n",
        "x+6\n",
        "-x\n",
        "2**x\n",
        "-x\n",
        "x%2"
      ],
      "execution_count": null,
      "outputs": [
        {
          "output_type": "execute_result",
          "data": {
            "text/plain": [
              "array([1, 0, 1, 0, 1, 0])"
            ]
          },
          "metadata": {
            "tags": []
          },
          "execution_count": 55
        }
      ]
    },
    {
      "cell_type": "code",
      "metadata": {
        "id": "qToiKn2FyYnW",
        "outputId": "d83f4bb3-e0fe-4755-eb58-b407e3ceed42",
        "colab": {
          "base_uri": "https://localhost:8080/",
          "height": 34
        }
      },
      "source": [
        "np.add(x,2)"
      ],
      "execution_count": null,
      "outputs": [
        {
          "output_type": "execute_result",
          "data": {
            "text/plain": [
              "array([3, 4, 5, 6, 7, 8])"
            ]
          },
          "metadata": {
            "tags": []
          },
          "execution_count": 56
        }
      ]
    },
    {
      "cell_type": "code",
      "metadata": {
        "id": "OgAo6sody2jB"
      },
      "source": [
        "#np.subtract,np.negative,np.multiply,np.divide,np.floor_divide,np.power,np.mod"
      ],
      "execution_count": null,
      "outputs": []
    },
    {
      "cell_type": "code",
      "metadata": {
        "id": "u4Rs45sDzCd0",
        "outputId": "9ffb5782-0e04-4e0c-be96-58de7460065b",
        "colab": {
          "base_uri": "https://localhost:8080/",
          "height": 34
        }
      },
      "source": [
        "abs(x)"
      ],
      "execution_count": null,
      "outputs": [
        {
          "output_type": "execute_result",
          "data": {
            "text/plain": [
              "array([1, 2, 3, 4, 5, 6])"
            ]
          },
          "metadata": {
            "tags": []
          },
          "execution_count": 58
        }
      ]
    },
    {
      "cell_type": "code",
      "metadata": {
        "id": "anABA0TlzHYm",
        "outputId": "55c91c3c-293d-4ed0-e5d6-f412e99953e5",
        "colab": {
          "base_uri": "https://localhost:8080/",
          "height": 34
        }
      },
      "source": [
        "np.absolute(x)"
      ],
      "execution_count": null,
      "outputs": [
        {
          "output_type": "execute_result",
          "data": {
            "text/plain": [
              "array([1, 2, 3, 4, 5, 6])"
            ]
          },
          "metadata": {
            "tags": []
          },
          "execution_count": 59
        }
      ]
    },
    {
      "cell_type": "code",
      "metadata": {
        "id": "Z0lyZf0RzMYz",
        "outputId": "a5b5e23a-4bf7-4244-8d3d-ad133fc0a692",
        "colab": {
          "base_uri": "https://localhost:8080/",
          "height": 34
        }
      },
      "source": [
        "theta=np.linspace(0,np.pi,3)\n",
        "theta"
      ],
      "execution_count": null,
      "outputs": [
        {
          "output_type": "execute_result",
          "data": {
            "text/plain": [
              "array([0.        , 1.57079633, 3.14159265])"
            ]
          },
          "metadata": {
            "tags": []
          },
          "execution_count": 60
        }
      ]
    },
    {
      "cell_type": "code",
      "metadata": {
        "id": "DVMIYdvkzXws",
        "outputId": "0a8c69a5-cd08-4b13-b198-77a7b8ddc8bc",
        "colab": {
          "base_uri": "https://localhost:8080/",
          "height": 34
        }
      },
      "source": [
        "np.sin(theta)"
      ],
      "execution_count": null,
      "outputs": [
        {
          "output_type": "execute_result",
          "data": {
            "text/plain": [
              "array([0.0000000e+00, 1.0000000e+00, 1.2246468e-16])"
            ]
          },
          "metadata": {
            "tags": []
          },
          "execution_count": 61
        }
      ]
    },
    {
      "cell_type": "code",
      "metadata": {
        "id": "lOVi9s_7zaKE",
        "outputId": "c13f786b-f3cc-42ed-a596-880ed9ced972",
        "colab": {
          "base_uri": "https://localhost:8080/",
          "height": 34
        }
      },
      "source": [
        "np.arcsin([-1,0,1])"
      ],
      "execution_count": null,
      "outputs": [
        {
          "output_type": "execute_result",
          "data": {
            "text/plain": [
              "array([-1.57079633,  0.        ,  1.57079633])"
            ]
          },
          "metadata": {
            "tags": []
          },
          "execution_count": 62
        }
      ]
    },
    {
      "cell_type": "code",
      "metadata": {
        "id": "npi6TUzOzggu",
        "outputId": "5b3eadff-c243-4cee-b6ac-37c2e4ec637b",
        "colab": {
          "base_uri": "https://localhost:8080/",
          "height": 34
        }
      },
      "source": [
        "np.exp2(x)"
      ],
      "execution_count": null,
      "outputs": [
        {
          "output_type": "execute_result",
          "data": {
            "text/plain": [
              "array([ 2.,  4.,  8., 16., 32., 64.])"
            ]
          },
          "metadata": {
            "tags": []
          },
          "execution_count": 63
        }
      ]
    },
    {
      "cell_type": "code",
      "metadata": {
        "id": "s4JHwSiuzuxu",
        "outputId": "717fe866-038b-4c57-8990-9b8c8270648f",
        "colab": {
          "base_uri": "https://localhost:8080/",
          "height": 50
        }
      },
      "source": [
        "np.log10(x)"
      ],
      "execution_count": null,
      "outputs": [
        {
          "output_type": "execute_result",
          "data": {
            "text/plain": [
              "array([0.        , 0.30103   , 0.47712125, 0.60205999, 0.69897   ,\n",
              "       0.77815125])"
            ]
          },
          "metadata": {
            "tags": []
          },
          "execution_count": 64
        }
      ]
    },
    {
      "cell_type": "markdown",
      "metadata": {
        "id": "T5eAzdky0JKE"
      },
      "source": [
        "**Specialized ufuncs**"
      ]
    },
    {
      "cell_type": "code",
      "metadata": {
        "id": "-wkuZ8y3z100"
      },
      "source": [
        "from scipy import special"
      ],
      "execution_count": null,
      "outputs": []
    },
    {
      "cell_type": "code",
      "metadata": {
        "id": "q13PE5RT0XKx",
        "outputId": "d275b180-0ff8-402b-f472-8aa51f1251b2",
        "colab": {
          "base_uri": "https://localhost:8080/",
          "height": 34
        }
      },
      "source": [
        "x=[1,5,10]\n",
        "special.gamma(x)"
      ],
      "execution_count": null,
      "outputs": [
        {
          "output_type": "execute_result",
          "data": {
            "text/plain": [
              "array([1.0000e+00, 2.4000e+01, 3.6288e+05])"
            ]
          },
          "metadata": {
            "tags": []
          },
          "execution_count": 66
        }
      ]
    },
    {
      "cell_type": "code",
      "metadata": {
        "id": "YX3VEMnC0cR3",
        "outputId": "79525ea0-e00a-49bd-d6f4-98ef92cb38bb",
        "colab": {
          "base_uri": "https://localhost:8080/",
          "height": 34
        }
      },
      "source": [
        "special.beta(x,2)"
      ],
      "execution_count": null,
      "outputs": [
        {
          "output_type": "execute_result",
          "data": {
            "text/plain": [
              "array([0.5       , 0.03333333, 0.00909091])"
            ]
          },
          "metadata": {
            "tags": []
          },
          "execution_count": 67
        }
      ]
    },
    {
      "cell_type": "code",
      "metadata": {
        "id": "E2Nof4ef0hDU",
        "outputId": "d4322f00-3d2f-4b0a-eb4f-1eab0d0c9952",
        "colab": {
          "base_uri": "https://localhost:8080/",
          "height": 34
        }
      },
      "source": [
        "#error function -integral of gaussian\n",
        "x=np.array([0,0.3,0.7,1])\n",
        "special.erf(x)"
      ],
      "execution_count": null,
      "outputs": [
        {
          "output_type": "execute_result",
          "data": {
            "text/plain": [
              "array([0.        , 0.32862676, 0.67780119, 0.84270079])"
            ]
          },
          "metadata": {
            "tags": []
          },
          "execution_count": 68
        }
      ]
    },
    {
      "cell_type": "code",
      "metadata": {
        "id": "_3IbtciE0uz3"
      },
      "source": [
        ""
      ],
      "execution_count": null,
      "outputs": []
    },
    {
      "cell_type": "markdown",
      "metadata": {
        "id": "_gzKnY5x05eb"
      },
      "source": [
        "**Advanced Ufunc Features**"
      ]
    },
    {
      "cell_type": "code",
      "metadata": {
        "id": "9nJiPuEm08dB",
        "outputId": "db9bec1c-d65b-4e90-8591-adb451872663",
        "colab": {
          "base_uri": "https://localhost:8080/",
          "height": 34
        }
      },
      "source": [
        "#instead of creating temporary arrays,store the result in specified arrays\n",
        "x=np.arange(5)\n",
        "\n",
        "y=np.empty(5)\n",
        "np.multiply(x,10,out=y)"
      ],
      "execution_count": null,
      "outputs": [
        {
          "output_type": "execute_result",
          "data": {
            "text/plain": [
              "array([ 0., 10., 20., 30., 40.])"
            ]
          },
          "metadata": {
            "tags": []
          },
          "execution_count": 69
        }
      ]
    },
    {
      "cell_type": "code",
      "metadata": {
        "id": "4YRCewVV1lfP",
        "outputId": "29a5796c-fcac-47ee-b8cd-710c117ad5e2",
        "colab": {
          "base_uri": "https://localhost:8080/",
          "height": 34
        }
      },
      "source": [
        "y=np.zeros(10)\n",
        "np.power(2,x,out=y[::2])\n",
        "print(y)"
      ],
      "execution_count": null,
      "outputs": [
        {
          "output_type": "stream",
          "text": [
            "[ 1.  0.  2.  0.  4.  0.  8.  0. 16.  0.]\n"
          ],
          "name": "stdout"
        }
      ]
    },
    {
      "cell_type": "markdown",
      "metadata": {
        "id": "7ODihwwk2pHe"
      },
      "source": [
        "**Aggregates**"
      ]
    },
    {
      "cell_type": "code",
      "metadata": {
        "id": "99HkI_yu2NIT",
        "outputId": "10f995d7-5f36-41bb-9da8-4652b87c66dc",
        "colab": {
          "base_uri": "https://localhost:8080/",
          "height": 34
        }
      },
      "source": [
        "np.add.reduce(x)#gives sum\n",
        "np.multiply.reduce(x)#gives product"
      ],
      "execution_count": null,
      "outputs": [
        {
          "output_type": "execute_result",
          "data": {
            "text/plain": [
              "0"
            ]
          },
          "metadata": {
            "tags": []
          },
          "execution_count": 71
        }
      ]
    },
    {
      "cell_type": "code",
      "metadata": {
        "id": "G1chVBQM5z7s",
        "outputId": "c7088871-1a30-4b4b-9571-f9a17ad9873b",
        "colab": {
          "base_uri": "https://localhost:8080/",
          "height": 34
        }
      },
      "source": [
        "#to store all intermediate results of the computation\n",
        "np.add.accumulate(x)"
      ],
      "execution_count": null,
      "outputs": [
        {
          "output_type": "execute_result",
          "data": {
            "text/plain": [
              "array([ 0,  1,  3,  6, 10])"
            ]
          },
          "metadata": {
            "tags": []
          },
          "execution_count": 72
        }
      ]
    },
    {
      "cell_type": "code",
      "metadata": {
        "id": "kmF29xbb6F8_",
        "outputId": "78115c33-1fd8-49cf-bba1-084bb5f6fcc1",
        "colab": {
          "base_uri": "https://localhost:8080/",
          "height": 101
        }
      },
      "source": [
        "#outer products\n",
        "np.multiply.outer(x,x)"
      ],
      "execution_count": null,
      "outputs": [
        {
          "output_type": "execute_result",
          "data": {
            "text/plain": [
              "array([[ 0,  0,  0,  0,  0],\n",
              "       [ 0,  1,  2,  3,  4],\n",
              "       [ 0,  2,  4,  6,  8],\n",
              "       [ 0,  3,  6,  9, 12],\n",
              "       [ 0,  4,  8, 12, 16]])"
            ]
          },
          "metadata": {
            "tags": []
          },
          "execution_count": 73
        }
      ]
    },
    {
      "cell_type": "markdown",
      "metadata": {
        "id": "7cUsyTAM7EL9"
      },
      "source": [
        "**Aggregations: Min, Max, and Everything in Between**"
      ]
    },
    {
      "cell_type": "code",
      "metadata": {
        "id": "ZLZ8DfOu6uB0",
        "outputId": "5c26e0e1-515b-47c6-d79f-e44fd7b4eda5",
        "colab": {
          "base_uri": "https://localhost:8080/",
          "height": 34
        }
      },
      "source": [
        "L=np.random.random(100)\n",
        "%timeit sum(L)"
      ],
      "execution_count": null,
      "outputs": [
        {
          "output_type": "stream",
          "text": [
            "100000 loops, best of 3: 18.3 µs per loop\n"
          ],
          "name": "stdout"
        }
      ]
    },
    {
      "cell_type": "code",
      "metadata": {
        "id": "N_RsLivD7WDa",
        "outputId": "c96b8acd-e4b8-4892-9661-3c49753708a7",
        "colab": {
          "base_uri": "https://localhost:8080/",
          "height": 50
        }
      },
      "source": [
        "%timeit np.sum(L)"
      ],
      "execution_count": null,
      "outputs": [
        {
          "output_type": "stream",
          "text": [
            "The slowest run took 16.80 times longer than the fastest. This could mean that an intermediate result is being cached.\n",
            "100000 loops, best of 3: 3.94 µs per loop\n"
          ],
          "name": "stdout"
        }
      ]
    },
    {
      "cell_type": "markdown",
      "metadata": {
        "id": "RUDTnqZe8LoX"
      },
      "source": [
        "Because it executes the operation in compiled code, NumPy’s version of the\n",
        "operation is computed much more quickly"
      ]
    },
    {
      "cell_type": "code",
      "metadata": {
        "id": "9TpHealY7vo0",
        "outputId": "ba8430d2-6b58-41a0-8c0b-9527bedb431d",
        "colab": {
          "base_uri": "https://localhost:8080/",
          "height": 50
        }
      },
      "source": [
        "%timeit min(big_array)\n",
        "%timeit np.min(big_array)"
      ],
      "execution_count": null,
      "outputs": [
        {
          "output_type": "stream",
          "text": [
            "10 loops, best of 3: 101 ms per loop\n",
            "1000 loops, best of 3: 826 µs per loop\n"
          ],
          "name": "stdout"
        }
      ]
    },
    {
      "cell_type": "code",
      "metadata": {
        "id": "u5uDL1iW8iDq",
        "outputId": "6cd095eb-2e01-4bcd-b41b-c72ff46c8ad0",
        "colab": {
          "base_uri": "https://localhost:8080/",
          "height": 34
        }
      },
      "source": [
        "big_array.min()"
      ],
      "execution_count": null,
      "outputs": [
        {
          "output_type": "execute_result",
          "data": {
            "text/plain": [
              "1"
            ]
          },
          "metadata": {
            "tags": []
          },
          "execution_count": 77
        }
      ]
    },
    {
      "cell_type": "code",
      "metadata": {
        "id": "nqEm6Ciw8n5W",
        "outputId": "6bc8fffb-fd66-453d-a9f7-9297c531c590",
        "colab": {
          "base_uri": "https://localhost:8080/",
          "height": 84
        }
      },
      "source": [
        "#multidimensional aggregates\n",
        "M=np.array(range(12)).reshape((3,4))\n",
        "print(M)\n",
        "#by default\n",
        "M.sum()"
      ],
      "execution_count": null,
      "outputs": [
        {
          "output_type": "stream",
          "text": [
            "[[ 0  1  2  3]\n",
            " [ 4  5  6  7]\n",
            " [ 8  9 10 11]]\n"
          ],
          "name": "stdout"
        },
        {
          "output_type": "execute_result",
          "data": {
            "text/plain": [
              "66"
            ]
          },
          "metadata": {
            "tags": []
          },
          "execution_count": 78
        }
      ]
    },
    {
      "cell_type": "code",
      "metadata": {
        "id": "K0s2GyAG82NC",
        "outputId": "8cee9330-ce53-4aea-cfb5-9a1aa7905a36",
        "colab": {
          "base_uri": "https://localhost:8080/",
          "height": 34
        }
      },
      "source": [
        "M.sum(axis=0)\n",
        "#axis specifies the dimension of the array that will be collapsed"
      ],
      "execution_count": null,
      "outputs": [
        {
          "output_type": "execute_result",
          "data": {
            "text/plain": [
              "array([12, 15, 18, 21])"
            ]
          },
          "metadata": {
            "tags": []
          },
          "execution_count": 79
        }
      ]
    },
    {
      "cell_type": "code",
      "metadata": {
        "id": "ib7UrIxr9nQL",
        "outputId": "6a93a822-c303-4788-e991-25f4bca2bb2a",
        "colab": {
          "base_uri": "https://localhost:8080/",
          "height": 34
        }
      },
      "source": [
        "M.sum(axis=1)"
      ],
      "execution_count": null,
      "outputs": [
        {
          "output_type": "execute_result",
          "data": {
            "text/plain": [
              "array([ 6, 22, 38])"
            ]
          },
          "metadata": {
            "tags": []
          },
          "execution_count": 80
        }
      ]
    },
    {
      "cell_type": "markdown",
      "metadata": {
        "id": "S4v9UQgX-MeG"
      },
      "source": [
        "most aggregates have a NaN-safe counterpart that computes\n",
        "the result while ignoring missing values"
      ]
    },
    {
      "cell_type": "code",
      "metadata": {
        "id": "TyPkahzS9yql",
        "outputId": "08d5509a-5664-4580-fe92-363aa8183ca7",
        "colab": {
          "base_uri": "https://localhost:8080/",
          "height": 34
        }
      },
      "source": [
        "s=np.array([1,2,3,4,5,np.nan,33,np.nan])\n",
        "np.nanmax(s)"
      ],
      "execution_count": null,
      "outputs": [
        {
          "output_type": "execute_result",
          "data": {
            "text/plain": [
              "33.0"
            ]
          },
          "metadata": {
            "tags": []
          },
          "execution_count": 81
        }
      ]
    },
    {
      "cell_type": "code",
      "metadata": {
        "id": "myIffBwQ-bG5",
        "outputId": "6933d0c0-7eb1-4fa7-d93f-4480e047f1c6",
        "colab": {
          "base_uri": "https://localhost:8080/",
          "height": 34
        }
      },
      "source": [
        "np.nanargmax(s)"
      ],
      "execution_count": null,
      "outputs": [
        {
          "output_type": "execute_result",
          "data": {
            "text/plain": [
              "6"
            ]
          },
          "metadata": {
            "tags": []
          },
          "execution_count": 82
        }
      ]
    },
    {
      "cell_type": "markdown",
      "metadata": {
        "id": "ZSdc983HAgH2"
      },
      "source": [
        "**Computation on Arrays: Broadcasting**-another means of vectorization.\n",
        "Broadcasting is simply a\n",
        "set of rules for applying binary ufuncs (addition, subtraction, multiplication, etc.) on arrays of different sizes."
      ]
    },
    {
      "cell_type": "markdown",
      "metadata": {
        "id": "cfsNWtQu-Ree"
      },
      "source": [
        "Broadcasting in NumPy follows a strict set of rules to determine the interaction\n",
        "between the two arrays:\n",
        "• Rule 1: If the two arrays differ in their number of dimensions, the shape of the one with fewer dimensions is padded with ones on its leading (left) side.\n",
        "• Rule 2: If the shape of the two arrays does not match in any dimension, the array\n",
        "with shape equal to 1 in that dimension is stretched to match the other shape.\n",
        "• Rule 3: If in any dimension the sizes disagree and neither is equal to 1, an error is\n",
        "raised."
      ]
    },
    {
      "cell_type": "code",
      "metadata": {
        "id": "6wXJ8YDO-uwl",
        "outputId": "cf94f609-3674-43a9-cb95-9c84215dca44",
        "colab": {
          "base_uri": "https://localhost:8080/"
        }
      },
      "source": [
        "import numpy as np\n",
        "a=np.array([1,2,3])\n",
        "print(a+5)\n",
        "print(a.shape)"
      ],
      "execution_count": null,
      "outputs": [
        {
          "output_type": "stream",
          "text": [
            "[6 7 8]\n",
            "(3,)\n"
          ],
          "name": "stdout"
        }
      ]
    },
    {
      "cell_type": "markdown",
      "metadata": {
        "id": "dh3KEUIo3GVc"
      },
      "source": [
        "We can think of this as an operation that stretches or duplicates the value 5 into the\n",
        "array [5, 5, 5], and adds the results. The advantage of NumPy’s broadcasting is that\n",
        "this duplication of values does not actually take place, but it is a useful mental model\n",
        "as we think about broadcasting"
      ]
    },
    {
      "cell_type": "code",
      "metadata": {
        "id": "9mji46viMbU2",
        "outputId": "1adcfddd-e0bc-4751-e898-a5d63521bea5",
        "colab": {
          "base_uri": "https://localhost:8080/"
        }
      },
      "source": [
        "#broadcasting to arrays of higher dimensions\n",
        "M=np.ones((3,3))\n",
        "M+a"
      ],
      "execution_count": null,
      "outputs": [
        {
          "output_type": "execute_result",
          "data": {
            "text/plain": [
              "array([[2., 3., 4.],\n",
              "       [2., 3., 4.],\n",
              "       [2., 3., 4.]])"
            ]
          },
          "metadata": {
            "tags": []
          },
          "execution_count": 4
        }
      ]
    },
    {
      "cell_type": "markdown",
      "metadata": {
        "id": "GOuoD95a3End"
      },
      "source": [
        ""
      ]
    },
    {
      "cell_type": "code",
      "metadata": {
        "id": "3oMhb2l9Maqx",
        "outputId": "f1629367-05f3-4b2b-af31-c096f07e1ea4",
        "colab": {
          "base_uri": "https://localhost:8080/"
        }
      },
      "source": [
        "#broadcasting of both arrays\n",
        "a=np.arange(3)\n",
        "b=np.arange(3)[:,np.newaxis]\n",
        "print(a)\n",
        "print(b)"
      ],
      "execution_count": null,
      "outputs": [
        {
          "output_type": "stream",
          "text": [
            "[0 1 2]\n",
            "[[0]\n",
            " [1]\n",
            " [2]]\n"
          ],
          "name": "stdout"
        }
      ]
    },
    {
      "cell_type": "code",
      "metadata": {
        "id": "LG5y1TphMcFD",
        "outputId": "bbc5cff0-14af-47e4-91e3-9af2247a9b67",
        "colab": {
          "base_uri": "https://localhost:8080/"
        }
      },
      "source": [
        "#stretched both a and b to match a common shape, and the result is a twodimensional\n",
        "#array.\n",
        "a+b"
      ],
      "execution_count": null,
      "outputs": [
        {
          "output_type": "execute_result",
          "data": {
            "text/plain": [
              "array([[0, 1, 2],\n",
              "       [1, 2, 3],\n",
              "       [2, 3, 4]])"
            ]
          },
          "metadata": {
            "tags": []
          },
          "execution_count": 10
        }
      ]
    },
    {
      "cell_type": "code",
      "metadata": {
        "id": "wEPfhSzM96OV"
      },
      "source": [
        "#Rule 1  and 2 example\n",
        "M = np.ones((2, 3))\n",
        "a = np.arange(3)\n",
        "print(M.shape)\n",
        "print(a.shape)\n"
      ],
      "execution_count": null,
      "outputs": []
    },
    {
      "cell_type": "markdown",
      "metadata": {
        "id": "I2qNGbO4-wA-"
      },
      "source": [
        "by rule 1-M.shape ->(2,3) and a.shape ->(1,3)\n",
        "\n",
        "by rule 2-M.shape ->(2,3) and a.shape->(2,3)\n",
        "\n"
      ]
    },
    {
      "cell_type": "code",
      "metadata": {
        "id": "Qh6ei1ES_r24"
      },
      "source": [
        ""
      ],
      "execution_count": null,
      "outputs": []
    },
    {
      "cell_type": "code",
      "metadata": {
        "id": "vE_4Y-L4_Zq9",
        "outputId": "6684c9b0-6e0c-4cca-c091-41ee772632bb",
        "colab": {
          "base_uri": "https://localhost:8080/"
        }
      },
      "source": [
        "M+a"
      ],
      "execution_count": null,
      "outputs": [
        {
          "output_type": "execute_result",
          "data": {
            "text/plain": [
              "array([[1., 2., 3.],\n",
              "       [1., 2., 3.],\n",
              "       [1., 2., 3.]])"
            ]
          },
          "metadata": {
            "tags": []
          },
          "execution_count": 12
        }
      ]
    },
    {
      "cell_type": "code",
      "metadata": {
        "id": "ROvWWUWtARBX"
      },
      "source": [
        "#rule1,2,3\n",
        "M=np.ones((3,2))\n",
        "a=np.arange(3)\n"
      ],
      "execution_count": null,
      "outputs": []
    },
    {
      "cell_type": "markdown",
      "metadata": {
        "id": "Pipph2dXCQ7Q"
      },
      "source": [
        "rule 1-M.shape ->(3,2) and a->(1,3)\n",
        "\n",
        "rule 2-M.shape ->(3,2) and a ->(3,3)\n",
        "\n",
        "rule 3-final shapes do not match,so error"
      ]
    },
    {
      "cell_type": "code",
      "metadata": {
        "id": "EBap8WIx_NBo",
        "outputId": "fdae8a6b-854b-4448-9804-88b53db358f5",
        "colab": {
          "base_uri": "https://localhost:8080/",
          "height": 162
        }
      },
      "source": [
        "M+a"
      ],
      "execution_count": null,
      "outputs": [
        {
          "output_type": "error",
          "ename": "ValueError",
          "evalue": "ignored",
          "traceback": [
            "\u001b[0;31m---------------------------------------------------------------------------\u001b[0m",
            "\u001b[0;31mValueError\u001b[0m                                Traceback (most recent call last)",
            "\u001b[0;32m<ipython-input-14-2267d2681641>\u001b[0m in \u001b[0;36m<module>\u001b[0;34m()\u001b[0m\n\u001b[0;32m----> 1\u001b[0;31m \u001b[0mM\u001b[0m\u001b[0;34m+\u001b[0m\u001b[0ma\u001b[0m\u001b[0;34m\u001b[0m\u001b[0;34m\u001b[0m\u001b[0m\n\u001b[0m",
            "\u001b[0;31mValueError\u001b[0m: operands could not be broadcast together with shapes (3,2) (3,) "
          ]
        }
      ]
    },
    {
      "cell_type": "code",
      "metadata": {
        "id": "7me5asz6_O5V"
      },
      "source": [
        "#logaddexp(a+b)=log(exp(a)+exp(b))"
      ],
      "execution_count": null,
      "outputs": []
    },
    {
      "cell_type": "code",
      "metadata": {
        "id": "ULWCjZmB_OzM",
        "outputId": "080601bd-da15-47df-b30e-39c0982edf8d",
        "colab": {
          "base_uri": "https://localhost:8080/"
        }
      },
      "source": [
        "#broadcasting example while dealing with data\n",
        "#Imagine you have an array of 10 observations, each of which consists of 3 values.\n",
        "X=np.random.random((10,3))\n",
        "Xmean=X.mean(axis=0)\n",
        "Xmean"
      ],
      "execution_count": null,
      "outputs": [
        {
          "output_type": "execute_result",
          "data": {
            "text/plain": [
              "array([0.52887708, 0.50464722, 0.52097069])"
            ]
          },
          "metadata": {
            "tags": []
          },
          "execution_count": 16
        }
      ]
    },
    {
      "cell_type": "code",
      "metadata": {
        "id": "Oh1GdXym_Otk",
        "outputId": "bda62ffb-c1b4-4bbc-ada3-492b761054ee",
        "colab": {
          "base_uri": "https://localhost:8080/"
        }
      },
      "source": [
        "X_centered=X-Xmean\n",
        "X_centered"
      ],
      "execution_count": null,
      "outputs": [
        {
          "output_type": "execute_result",
          "data": {
            "text/plain": [
              "array([[ 0.30749428, -0.04276815,  0.32171347],\n",
              "       [ 0.00681866,  0.43784589, -0.040432  ],\n",
              "       [ 0.36703248, -0.42126033, -0.35943889],\n",
              "       [-0.01342078, -0.34748197, -0.25659663],\n",
              "       [-0.26186167, -0.30408804, -0.01876433],\n",
              "       [ 0.34131167, -0.199811  ,  0.38495952],\n",
              "       [-0.25384684,  0.4917393 ,  0.09271157],\n",
              "       [-0.21795376,  0.25756832,  0.01215039],\n",
              "       [-0.46954756,  0.45641722,  0.15934075],\n",
              "       [ 0.19397353, -0.32816126, -0.29564385]])"
            ]
          },
          "metadata": {
            "tags": []
          },
          "execution_count": 18
        }
      ]
    },
    {
      "cell_type": "code",
      "metadata": {
        "id": "lnh2nNieHnvQ"
      },
      "source": [
        ""
      ],
      "execution_count": null,
      "outputs": []
    },
    {
      "cell_type": "markdown",
      "metadata": {
        "id": "cArNlxhDHmeT"
      },
      "source": [
        "**Comparison Operators as ufuncs**\n",
        "\n",
        "The result of these comparison operators is always an array with a Boolean data type"
      ]
    },
    {
      "cell_type": "code",
      "metadata": {
        "id": "YSmY6aMY_OpC",
        "outputId": "9fdb577c-79e4-4e70-a7c4-4d3963786d35",
        "colab": {
          "base_uri": "https://localhost:8080/"
        }
      },
      "source": [
        "x=np.array([1,2,3,4,5])\n",
        "x<3\n",
        "#internally numpy uses np.less(x,3)"
      ],
      "execution_count": null,
      "outputs": [
        {
          "output_type": "execute_result",
          "data": {
            "text/plain": [
              "array([ True,  True, False, False, False])"
            ]
          },
          "metadata": {
            "tags": []
          },
          "execution_count": 20
        }
      ]
    },
    {
      "cell_type": "markdown",
      "metadata": {
        "id": "DcaNUNn3IVWD"
      },
      "source": [
        "**Working with Boolean Arrays**\n"
      ]
    },
    {
      "cell_type": "code",
      "metadata": {
        "id": "X6bg6NGI_Oji",
        "outputId": "4e5dcfa9-ee7f-48a8-df50-c38bae38b7a7",
        "colab": {
          "base_uri": "https://localhost:8080/"
        }
      },
      "source": [
        "rng=np.random.RandomState(0)\n",
        "x=rng.randint(10,size=(3,4))\n",
        "x"
      ],
      "execution_count": null,
      "outputs": [
        {
          "output_type": "execute_result",
          "data": {
            "text/plain": [
              "array([[5, 0, 3, 3],\n",
              "       [7, 9, 3, 5],\n",
              "       [2, 4, 7, 6]])"
            ]
          },
          "metadata": {
            "tags": []
          },
          "execution_count": 21
        }
      ]
    },
    {
      "cell_type": "code",
      "metadata": {
        "id": "ubbNkbPT_OeS",
        "outputId": "420ef5d4-70e3-4bdd-8c2c-1fbe9d8e346c",
        "colab": {
          "base_uri": "https://localhost:8080/"
        }
      },
      "source": [
        "#counting enteries\n",
        "#enteries less than 6\n",
        "np.count_nonzero(x<6)"
      ],
      "execution_count": null,
      "outputs": [
        {
          "output_type": "execute_result",
          "data": {
            "text/plain": [
              "8"
            ]
          },
          "metadata": {
            "tags": []
          },
          "execution_count": 22
        }
      ]
    },
    {
      "cell_type": "code",
      "metadata": {
        "id": "flnx9ZQY_OY7",
        "outputId": "23a849a5-6c22-49a0-daad-17d57ffac9f8",
        "colab": {
          "base_uri": "https://localhost:8080/"
        }
      },
      "source": [
        "#another way-here True is 1 and False is 0\n",
        "np.sum(x<6)"
      ],
      "execution_count": null,
      "outputs": [
        {
          "output_type": "execute_result",
          "data": {
            "text/plain": [
              "8"
            ]
          },
          "metadata": {
            "tags": []
          },
          "execution_count": 23
        }
      ]
    },
    {
      "cell_type": "code",
      "metadata": {
        "id": "uH_7fsqF_OUR",
        "outputId": "679b13c0-d363-4648-8276-85fc7829dd48",
        "colab": {
          "base_uri": "https://localhost:8080/"
        }
      },
      "source": [
        "#along each row\n",
        "np.sum(x<6,axis=1)"
      ],
      "execution_count": null,
      "outputs": [
        {
          "output_type": "execute_result",
          "data": {
            "text/plain": [
              "array([4, 2, 2])"
            ]
          },
          "metadata": {
            "tags": []
          },
          "execution_count": 24
        }
      ]
    },
    {
      "cell_type": "code",
      "metadata": {
        "id": "u-Mzq151_OPH",
        "outputId": "750509aa-4786-43ea-9b0f-f25009406afa",
        "colab": {
          "base_uri": "https://localhost:8080/"
        }
      },
      "source": [
        "#to check whether any or all the values are true\n",
        "#is any value greater than 8\n",
        "np.any(x>8)"
      ],
      "execution_count": null,
      "outputs": [
        {
          "output_type": "execute_result",
          "data": {
            "text/plain": [
              "True"
            ]
          },
          "metadata": {
            "tags": []
          },
          "execution_count": 26
        }
      ]
    },
    {
      "cell_type": "code",
      "metadata": {
        "id": "Hj9Bgzwc_OKI",
        "outputId": "ae7027a1-90f8-4115-aeb1-f568c3769bbe",
        "colab": {
          "base_uri": "https://localhost:8080/"
        }
      },
      "source": [
        "#are all values equal to 6?\n",
        "np.all(x==6)\n",
        "#can be used along any particular axis as well"
      ],
      "execution_count": null,
      "outputs": [
        {
          "output_type": "execute_result",
          "data": {
            "text/plain": [
              "False"
            ]
          },
          "metadata": {
            "tags": []
          },
          "execution_count": 28
        }
      ]
    },
    {
      "cell_type": "markdown",
      "metadata": {
        "id": "BedrjIn_KJmn"
      },
      "source": [
        "Warning-Python has built-in sum(), any(), and all() functions.\n",
        "These have a different syntax than the NumPy versions, and in particular will fail or\n",
        "produce unintended results when used on multidimensional arrays. Be sure that you\n",
        "are using np.sum(), np.any(), and np.all() for these examples!"
      ]
    },
    {
      "cell_type": "markdown",
      "metadata": {
        "id": "F2SQqb0wKPEV"
      },
      "source": [
        "**Boolean operators**\n",
        "Python’s bitwise logic operators, &, |, ^, and~.\n",
        "NumPy overloads these as ufuncs that work element-wise on (usually\n",
        "Boolean) arrays.\n"
      ]
    },
    {
      "cell_type": "code",
      "metadata": {
        "id": "sWCjwJsB_OE8",
        "outputId": "93ab9edb-2a1f-47f5-dcf7-667c784eb04b",
        "colab": {
          "base_uri": "https://localhost:8080/"
        }
      },
      "source": [
        "np.sum((x>5)&(x<9))"
      ],
      "execution_count": null,
      "outputs": [
        {
          "output_type": "execute_result",
          "data": {
            "text/plain": [
              "3"
            ]
          },
          "metadata": {
            "tags": []
          },
          "execution_count": 29
        }
      ]
    },
    {
      "cell_type": "code",
      "metadata": {
        "id": "r2gcWaVq_N_q",
        "outputId": "309383e3-0a0a-4e2b-b8b9-0c5dd794d9e2",
        "colab": {
          "base_uri": "https://localhost:8080/"
        }
      },
      "source": [
        "#use Boolean arrays as masks\n",
        "x[x<5]"
      ],
      "execution_count": null,
      "outputs": [
        {
          "output_type": "execute_result",
          "data": {
            "text/plain": [
              "array([0, 3, 3, 3, 2, 4])"
            ]
          },
          "metadata": {
            "tags": []
          },
          "execution_count": 30
        }
      ]
    },
    {
      "cell_type": "code",
      "metadata": {
        "id": "fs2_HLVN_N6Y",
        "outputId": "5176c700-1950-45a7-cfa1-3a2033e309ee",
        "colab": {
          "base_uri": "https://localhost:8080/"
        }
      },
      "source": [
        "#aggregate functions with boolean masking\n",
        "np.max(x[x<5])"
      ],
      "execution_count": null,
      "outputs": [
        {
          "output_type": "execute_result",
          "data": {
            "text/plain": [
              "4"
            ]
          },
          "metadata": {
            "tags": []
          },
          "execution_count": 31
        }
      ]
    },
    {
      "cell_type": "markdown",
      "metadata": {
        "id": "relar9PAOT2f"
      },
      "source": [
        "Remember-and and or perform a single Boolean evaluation on an entire\n",
        "object, while & and | perform multiple Boolean evaluations on the content (the individual\n",
        "bits or bytes) of an object."
      ]
    },
    {
      "cell_type": "markdown",
      "metadata": {
        "id": "280MCpXiOZQo"
      },
      "source": [
        "**Fancy Indexing**\n",
        "Fancy indexing is conceptually simple: it means passing an array of indices to access multiple array elements at once."
      ]
    },
    {
      "cell_type": "code",
      "metadata": {
        "id": "peCQDXEb_N0_",
        "outputId": "fed8f7d6-a25b-4fc0-c6d3-2a063592b820",
        "colab": {
          "base_uri": "https://localhost:8080/"
        }
      },
      "source": [
        "x=np.random.randint(100,size=10)\n",
        "x\n"
      ],
      "execution_count": null,
      "outputs": [
        {
          "output_type": "execute_result",
          "data": {
            "text/plain": [
              "array([45,  4, 53, 25, 48, 48, 66, 11, 87, 48])"
            ]
          },
          "metadata": {
            "tags": []
          },
          "execution_count": 32
        }
      ]
    },
    {
      "cell_type": "code",
      "metadata": {
        "id": "ggqYQWQs_Nuu",
        "outputId": "c442c02f-c14e-4240-ea36-f32d8a0f36a6",
        "colab": {
          "base_uri": "https://localhost:8080/"
        }
      },
      "source": [
        "ind=[3,7,5]\n",
        "x[ind]\n",
        "#result reflects the shape of the index arrays\n",
        "#rather than the shape of the array being indexed\n"
      ],
      "execution_count": null,
      "outputs": [
        {
          "output_type": "execute_result",
          "data": {
            "text/plain": [
              "array([25, 11, 48])"
            ]
          },
          "metadata": {
            "tags": []
          },
          "execution_count": 33
        }
      ]
    },
    {
      "cell_type": "code",
      "metadata": {
        "id": "UNv1mKKJPDYC",
        "outputId": "3d791826-020b-4b80-d7b4-98b703e60149",
        "colab": {
          "base_uri": "https://localhost:8080/"
        }
      },
      "source": [
        "#The pairing of indices in fancy indexing follows all the broadcasting rules\n",
        "X = np.arange(12).reshape((3, 4))\n",
        "row = np.array([0, 1, 2])\n",
        "col = np.array([2, 1, 3])\n",
        "X[row[:, np.newaxis], col]"
      ],
      "execution_count": null,
      "outputs": [
        {
          "output_type": "execute_result",
          "data": {
            "text/plain": [
              "array([[ 2,  1,  3],\n",
              "       [ 6,  5,  7],\n",
              "       [10,  9, 11]])"
            ]
          },
          "metadata": {
            "tags": []
          },
          "execution_count": 34
        }
      ]
    },
    {
      "cell_type": "code",
      "metadata": {
        "id": "fbkC0E74QP0l",
        "outputId": "2e7a681f-8287-4866-8475-be2b92bff14a",
        "colab": {
          "base_uri": "https://localhost:8080/"
        }
      },
      "source": [
        "#combine fancy indexing with slicing:\n",
        "X[1:, [2, 0, 1]]"
      ],
      "execution_count": null,
      "outputs": [
        {
          "output_type": "execute_result",
          "data": {
            "text/plain": [
              "array([[ 6,  4,  5],\n",
              "       [10,  8,  9]])"
            ]
          },
          "metadata": {
            "tags": []
          },
          "execution_count": 35
        }
      ]
    },
    {
      "cell_type": "code",
      "metadata": {
        "id": "kSUqNR_oRCkd",
        "outputId": "f970d30a-ef86-43f7-a4a2-52b5db3a053c",
        "colab": {
          "base_uri": "https://localhost:8080/"
        }
      },
      "source": [
        "row[:, np.newaxis].shape"
      ],
      "execution_count": null,
      "outputs": [
        {
          "output_type": "execute_result",
          "data": {
            "text/plain": [
              "(3, 1)"
            ]
          },
          "metadata": {
            "tags": []
          },
          "execution_count": 36
        }
      ]
    },
    {
      "cell_type": "code",
      "metadata": {
        "id": "uRIFJFjeQilK",
        "outputId": "3bf99db2-2c48-4256-c3e4-77f0ac783056",
        "colab": {
          "base_uri": "https://localhost:8080/"
        }
      },
      "source": [
        "#combine fancy indexing with masking\n",
        "mask = np.array([1, 0, 1, 0], dtype=bool)\n",
        "X[row[:, np.newaxis], mask]"
      ],
      "execution_count": null,
      "outputs": [
        {
          "output_type": "execute_result",
          "data": {
            "text/plain": [
              "array([[ 0,  2],\n",
              "       [ 4,  6],\n",
              "       [ 8, 10]])"
            ]
          },
          "metadata": {
            "tags": []
          },
          "execution_count": 37
        }
      ]
    },
    {
      "cell_type": "markdown",
      "metadata": {
        "id": "QUo_ssUTTg8L"
      },
      "source": [
        "**Sorting Arrays**\n",
        "By default np.sort uses an O[N log N] , quicksort\n",
        "algorithm, though mergesort and heapsort are also available"
      ]
    },
    {
      "cell_type": "code",
      "metadata": {
        "id": "rt0jJZ9NTfcQ",
        "outputId": "26520a27-96a9-41b5-ccf6-2c06ac2c35ba",
        "colab": {
          "base_uri": "https://localhost:8080/"
        }
      },
      "source": [
        "#sorted array without modifying the input\n",
        "x=np.array([2,1,4,3,5])\n",
        "np.sort(x)"
      ],
      "execution_count": null,
      "outputs": [
        {
          "output_type": "execute_result",
          "data": {
            "text/plain": [
              "array([1, 2, 3, 4, 5])"
            ]
          },
          "metadata": {
            "tags": []
          },
          "execution_count": 38
        }
      ]
    },
    {
      "cell_type": "code",
      "metadata": {
        "id": "rui4FXzoQifZ",
        "outputId": "5a28d8e9-2da4-41d3-a32f-22e095bc5a70",
        "colab": {
          "base_uri": "https://localhost:8080/"
        }
      },
      "source": [
        "#inplace sort\n",
        "x.sort()\n",
        "x"
      ],
      "execution_count": null,
      "outputs": [
        {
          "output_type": "execute_result",
          "data": {
            "text/plain": [
              "array([1, 2, 3, 4, 5])"
            ]
          },
          "metadata": {
            "tags": []
          },
          "execution_count": 40
        }
      ]
    },
    {
      "cell_type": "code",
      "metadata": {
        "id": "roXYyMAAQiaI",
        "outputId": "92efda83-b300-4509-b9b6-43002b6c8e10",
        "colab": {
          "base_uri": "https://localhost:8080/"
        }
      },
      "source": [
        "#argsort-returns indices of the sorted elements\n",
        "x = np.array([2, 1, 4, 3, 5])\n",
        "i = np.argsort(x)\n",
        "print(i)\n"
      ],
      "execution_count": null,
      "outputs": [
        {
          "output_type": "stream",
          "text": [
            "[1 0 3 2 4]\n"
          ],
          "name": "stdout"
        }
      ]
    },
    {
      "cell_type": "code",
      "metadata": {
        "id": "V4xLx99ZQiSU",
        "outputId": "1f8680c6-bb5c-4a81-cd7b-ff7b399a4b8c",
        "colab": {
          "base_uri": "https://localhost:8080/"
        }
      },
      "source": [
        "#sorting rows or columns\n",
        "rand = np.random.RandomState(42)\n",
        "X = rand.randint(0, 10, (4, 6))\n",
        "print(X)\n",
        "np.sort(X,axis=0)#sort each column\n"
      ],
      "execution_count": null,
      "outputs": [
        {
          "output_type": "stream",
          "text": [
            "[[6 3 7 4 6 9]\n",
            " [2 6 7 4 3 7]\n",
            " [7 2 5 4 1 7]\n",
            " [5 1 4 0 9 5]]\n"
          ],
          "name": "stdout"
        },
        {
          "output_type": "execute_result",
          "data": {
            "text/plain": [
              "array([[2, 1, 4, 0, 1, 5],\n",
              "       [5, 2, 5, 4, 3, 7],\n",
              "       [6, 3, 7, 4, 6, 7],\n",
              "       [7, 6, 7, 4, 9, 9]])"
            ]
          },
          "metadata": {
            "tags": []
          },
          "execution_count": 42
        }
      ]
    },
    {
      "cell_type": "code",
      "metadata": {
        "id": "KR4T_NHaQiMY",
        "outputId": "edb0fa7d-a27b-435d-e499-325a0c1e593d",
        "colab": {
          "base_uri": "https://localhost:8080/"
        }
      },
      "source": [
        "#to find the K smallest values in the array\n",
        "x = np.array([7, 2, 3, 1, 6, 5, 4])\n",
        "np.partition(x, 3)"
      ],
      "execution_count": null,
      "outputs": [
        {
          "output_type": "execute_result",
          "data": {
            "text/plain": [
              "array([2, 1, 3, 4, 6, 5, 7])"
            ]
          },
          "metadata": {
            "tags": []
          },
          "execution_count": 43
        }
      ]
    },
    {
      "cell_type": "markdown",
      "metadata": {
        "id": "7UXpQ8W_Mci7"
      },
      "source": [
        "**CHAPTER-3 PANDAS BASICS**\n",
        "\n",
        "Pandas is a software library written for python that contains high level data structures and manipulation tools to make data analysis fast and easy in Python."
      ]
    },
    {
      "cell_type": "code",
      "metadata": {
        "id": "WhxiOiOxMbxo"
      },
      "source": [
        "#importing pandas\n",
        "\n",
        "import pandas as pd\n",
        "\n"
      ],
      "execution_count": null,
      "outputs": []
    },
    {
      "cell_type": "code",
      "metadata": {
        "id": "WJNF-ZZhOdr3"
      },
      "source": [
        "#Series and Dataframes are two prominent data structures \n",
        "#that are imported from pandas library and are widely used\n",
        "#in python\n",
        "\n",
        "\n"
      ],
      "execution_count": null,
      "outputs": []
    },
    {
      "cell_type": "markdown",
      "metadata": {
        "id": "kEP60mI3R4cl"
      },
      "source": [
        "**PANDA SERIES**"
      ]
    },
    {
      "cell_type": "markdown",
      "metadata": {
        "id": "Wkgz7WFbZFKS"
      },
      "source": [
        "Creating Series using List\n"
      ]
    },
    {
      "cell_type": "code",
      "metadata": {
        "id": "pOsQ87OcR3il",
        "outputId": "ae848d60-52dc-414a-e00d-6b07b9a1a39b",
        "colab": {
          "base_uri": "https://localhost:8080/"
        }
      },
      "source": [
        "\n",
        "#Series having strings only \n",
        "\n",
        "#If the indexes are not given by us then the index is alloted \n",
        "#by pandas automatically starting from 0 to len(array) - 1 \n",
        "\n",
        "animals = ['Tiger', ' Bear ' , ' Moose ' ]\n",
        "\n",
        "pd.Series(animals)"
      ],
      "execution_count": null,
      "outputs": [
        {
          "output_type": "execute_result",
          "data": {
            "text/plain": [
              "0      Tiger\n",
              "1      Bear \n",
              "2     Moose \n",
              "dtype: object"
            ]
          },
          "metadata": {
            "tags": []
          },
          "execution_count": 18
        }
      ]
    },
    {
      "cell_type": "code",
      "metadata": {
        "id": "HEdD5X9jPRb9"
      },
      "source": [
        "#Note\n",
        "#1. Underneath  Panda stores series values in a typed array using\n",
        "#   the Numpy library.This allows significant speed- up when  \n",
        "#    processing data versus traditional python lists.\n",
        "\n",
        "#2. If we have strings and place None , pandas uses type object for \n",
        "#   underneath array. Same for strings and numbers; dtype will be \n",
        "#    shown as object. \n",
        "\n",
        "#3. If we have  int and float, pandas shows dtype as int64 and\n",
        "#   float64 respectively.  \n",
        "\n",
        "#4. If we have int or float with None , pandas shows dtype as float64 .\n",
        "#   and denotes None as NaN which is a special floating point value \n",
        "#   that stands for means Not a Number.\n"
      ],
      "execution_count": null,
      "outputs": []
    },
    {
      "cell_type": "markdown",
      "metadata": {
        "id": "XMzAcUrlf1u5"
      },
      "source": [
        "**Dtype for different items in Series**"
      ]
    },
    {
      "cell_type": "code",
      "metadata": {
        "id": "rOx7wP4yU7e_",
        "outputId": "58d870eb-6ca4-4ae2-c070-96b29077d407",
        "colab": {
          "base_uri": "https://localhost:8080/"
        }
      },
      "source": [
        "#Series having Strings and integer(number)\n",
        "\n",
        "animals = ['Tiger', ' Bear '  , '1' ]\n",
        "\n",
        "pd.Series(animals)"
      ],
      "execution_count": null,
      "outputs": [
        {
          "output_type": "execute_result",
          "data": {
            "text/plain": [
              "0     Tiger\n",
              "1     Bear \n",
              "2         1\n",
              "dtype: object"
            ]
          },
          "metadata": {
            "tags": []
          },
          "execution_count": 8
        }
      ]
    },
    {
      "cell_type": "code",
      "metadata": {
        "id": "ZM4LhR9vVz2k",
        "outputId": "58dcd79f-4033-4e4e-fd6a-cdc2335ae7ca",
        "colab": {
          "base_uri": "https://localhost:8080/"
        }
      },
      "source": [
        "#Series having Strings and None\n",
        "\n",
        "animals = ['Tiger', ' Bear ' , None  ]\n",
        "\n",
        "pd.Series(animals)"
      ],
      "execution_count": null,
      "outputs": [
        {
          "output_type": "execute_result",
          "data": {
            "text/plain": [
              "0     Tiger\n",
              "1     Bear \n",
              "2      None\n",
              "dtype: object"
            ]
          },
          "metadata": {
            "tags": []
          },
          "execution_count": 9
        }
      ]
    },
    {
      "cell_type": "code",
      "metadata": {
        "id": "KeSISg6zWRt7",
        "outputId": "0d90c7b7-8765-40f9-da49-3cb2b617d157",
        "colab": {
          "base_uri": "https://localhost:8080/"
        }
      },
      "source": [
        "#Series having Strings , None and Integer\n",
        "\n",
        "animals = ['Tiger', ' Bear ' , None , 1 ]\n",
        "\n",
        "pd.Series(animals)"
      ],
      "execution_count": null,
      "outputs": [
        {
          "output_type": "execute_result",
          "data": {
            "text/plain": [
              "0     Tiger\n",
              "1     Bear \n",
              "2      None\n",
              "3         1\n",
              "dtype: object"
            ]
          },
          "metadata": {
            "tags": []
          },
          "execution_count": 10
        }
      ]
    },
    {
      "cell_type": "code",
      "metadata": {
        "id": "WJ5bnDcMYxBd",
        "outputId": "73e3f2b5-d1bb-4c8a-b85e-0c724f0db81b",
        "colab": {
          "base_uri": "https://localhost:8080/"
        }
      },
      "source": [
        "#Series having float\n",
        "\n",
        "numbers = [ 1.0 , 2.0 , 3.0 ]\n",
        "\n",
        "pd.Series(numbers)"
      ],
      "execution_count": null,
      "outputs": [
        {
          "output_type": "execute_result",
          "data": {
            "text/plain": [
              "0    1.0\n",
              "1    2.0\n",
              "2    3.0\n",
              "dtype: float64"
            ]
          },
          "metadata": {
            "tags": []
          },
          "execution_count": 11
        }
      ]
    },
    {
      "cell_type": "code",
      "metadata": {
        "id": "wh1R0LHDZTcl",
        "outputId": "9570777d-5eb1-48d4-b388-820ed2bc72bd",
        "colab": {
          "base_uri": "https://localhost:8080/"
        }
      },
      "source": [
        "#Series having int\n",
        "\n",
        "numbers = [ 1, 2 , 3 ]\n",
        "\n",
        "pd.Series(numbers)"
      ],
      "execution_count": null,
      "outputs": [
        {
          "output_type": "execute_result",
          "data": {
            "text/plain": [
              "0    1\n",
              "1    2\n",
              "2    3\n",
              "dtype: int64"
            ]
          },
          "metadata": {
            "tags": []
          },
          "execution_count": 12
        }
      ]
    },
    {
      "cell_type": "code",
      "metadata": {
        "id": "aIzqVUpraB-Z",
        "outputId": "2b4eeea9-3233-4625-d70d-b6872a0d5bc1",
        "colab": {
          "base_uri": "https://localhost:8080/"
        }
      },
      "source": [
        "#Series having int and None\n",
        "\n",
        "numbers = [ 1, 2 , 3 , None]\n",
        "\n",
        "pd.Series(numbers)"
      ],
      "execution_count": null,
      "outputs": [
        {
          "output_type": "execute_result",
          "data": {
            "text/plain": [
              "0    1.0\n",
              "1    2.0\n",
              "2    3.0\n",
              "3    NaN\n",
              "dtype: float64"
            ]
          },
          "metadata": {
            "tags": []
          },
          "execution_count": 14
        }
      ]
    },
    {
      "cell_type": "code",
      "metadata": {
        "id": "8VA-vqtCajpx"
      },
      "source": [
        "# We can also create empty Series of a particular dtype\n",
        "\n",
        "x = pd.Series( dtype = 'string' )\n"
      ],
      "execution_count": null,
      "outputs": []
    },
    {
      "cell_type": "markdown",
      "metadata": {
        "id": "LpLaE-SCc7H6"
      },
      "source": [
        "Creating Series from np array"
      ]
    },
    {
      "cell_type": "code",
      "metadata": {
        "id": "9CohuOPPbLrt",
        "outputId": "07ecf763-470d-45a8-d8ed-0cb487287db8",
        "colab": {
          "base_uri": "https://localhost:8080/"
        }
      },
      "source": [
        "#Creating a Series from np array by specifying indexes\n",
        "\n",
        "import numpy as np\n",
        "\n",
        "data = np.array([ 'a' , 'b' , 'c', 'd' , 'e' ])\n",
        "\n",
        "s1 = pd.Series( data , index = [ 'idx1 ' , 'idx2 ' , 'idx3 ' , 'idx4 ' , 'idx5 ' ] ) \n",
        "\n",
        "s1"
      ],
      "execution_count": null,
      "outputs": [
        {
          "output_type": "execute_result",
          "data": {
            "text/plain": [
              "idx1     a\n",
              "idx2     b\n",
              "idx3     c\n",
              "idx4     d\n",
              "idx5     e\n",
              "dtype: object"
            ]
          },
          "metadata": {
            "tags": []
          },
          "execution_count": 23
        }
      ]
    },
    {
      "cell_type": "markdown",
      "metadata": {
        "id": "6_DPFrgUfXqP"
      },
      "source": [
        "**Creating Series from dictionary**"
      ]
    },
    {
      "cell_type": "code",
      "metadata": {
        "id": "hJJRy7-zgSyz",
        "outputId": "448bfd14-a6fe-40d2-d780-ec49d16f40e0",
        "colab": {
          "base_uri": "https://localhost:8080/"
        }
      },
      "source": [
        "import numpy as np\n",
        "\n",
        "dict = { 'key1' : 1 , 'key2' : 2 , 'key3' : 3 , 'key4' : 4  }\n",
        "\n",
        "s2 = pd.Series(dict)\n",
        "\n",
        "s2"
      ],
      "execution_count": null,
      "outputs": [
        {
          "output_type": "execute_result",
          "data": {
            "text/plain": [
              "key1    1\n",
              "key2    2\n",
              "key3    3\n",
              "key4    4\n",
              "dtype: int64"
            ]
          },
          "metadata": {
            "tags": []
          },
          "execution_count": 3
        }
      ]
    },
    {
      "cell_type": "markdown",
      "metadata": {
        "id": "ttLw2RyYfi5j"
      },
      "source": [
        "**Creating Series from a Scalar**"
      ]
    },
    {
      "cell_type": "code",
      "metadata": {
        "id": "FJ6pJ69Hd0Fj",
        "outputId": "6d6f0966-7c18-4097-dac3-fc56dcb20275",
        "colab": {
          "base_uri": "https://localhost:8080/"
        }
      },
      "source": [
        "s3 = pd.Series( 6 , index = [1,2,3,4])\n",
        "\n",
        "s3"
      ],
      "execution_count": null,
      "outputs": [
        {
          "output_type": "execute_result",
          "data": {
            "text/plain": [
              "1    6\n",
              "2    6\n",
              "3    6\n",
              "4    6\n",
              "dtype: int64"
            ]
          },
          "metadata": {
            "tags": []
          },
          "execution_count": 5
        }
      ]
    },
    {
      "cell_type": "markdown",
      "metadata": {
        "id": "yjuKCoBNhaVz"
      },
      "source": [
        "**Accessing Elements**"
      ]
    },
    {
      "cell_type": "code",
      "metadata": {
        "id": "i9mfFoZgfAm1",
        "outputId": "006a8e43-5d69-402e-fa63-150cd04f91a3",
        "colab": {
          "base_uri": "https://localhost:8080/"
        }
      },
      "source": [
        "data = np.array(['a', 'b' , 'c' , 'd' , 'e'])\n",
        "\n",
        "s4 = pd.Series(data , index = [ 'idx1' , 'idx2' , 'idx3' , 'idx4' ,'idx5'] )\n",
        "\n",
        "s4"
      ],
      "execution_count": null,
      "outputs": [
        {
          "output_type": "execute_result",
          "data": {
            "text/plain": [
              "idx1    a\n",
              "idx2    b\n",
              "idx3    c\n",
              "idx4    d\n",
              "idx5    e\n",
              "dtype: object"
            ]
          },
          "metadata": {
            "tags": []
          },
          "execution_count": 8
        }
      ]
    },
    {
      "cell_type": "code",
      "metadata": {
        "id": "k-yNiNL4h_5r",
        "outputId": "01b2516b-2130-42f4-e8e7-aa80e88314ac",
        "colab": {
          "base_uri": "https://localhost:8080/",
          "height": 35
        }
      },
      "source": [
        "s4[0]"
      ],
      "execution_count": null,
      "outputs": [
        {
          "output_type": "execute_result",
          "data": {
            "application/vnd.google.colaboratory.intrinsic+json": {
              "type": "string"
            },
            "text/plain": [
              "'a'"
            ]
          },
          "metadata": {
            "tags": []
          },
          "execution_count": 9
        }
      ]
    },
    {
      "cell_type": "code",
      "metadata": {
        "id": "RHhqgYiKiOq8",
        "outputId": "a6572dc4-85e1-4e7a-c95e-d4ebf1bdaf48",
        "colab": {
          "base_uri": "https://localhost:8080/"
        }
      },
      "source": [
        "#This will show the items from index 0 to 2 including 2\n",
        "\n",
        "s4[:3]\n"
      ],
      "execution_count": null,
      "outputs": [
        {
          "output_type": "execute_result",
          "data": {
            "text/plain": [
              "idx1    a\n",
              "idx2    b\n",
              "idx3    c\n",
              "dtype: object"
            ]
          },
          "metadata": {
            "tags": []
          },
          "execution_count": 10
        }
      ]
    },
    {
      "cell_type": "code",
      "metadata": {
        "id": "265IAaT9iSfd",
        "outputId": "ff494d21-7626-442b-c2f4-7662918cdb1c",
        "colab": {
          "base_uri": "https://localhost:8080/"
        }
      },
      "source": [
        "\n",
        "#Using indexes , we get the items from the starting index to the ending \n",
        "#index including the index\n",
        "\n",
        "s4['idx1' : 'idx3']\n"
      ],
      "execution_count": null,
      "outputs": [
        {
          "output_type": "execute_result",
          "data": {
            "text/plain": [
              "idx1    a\n",
              "idx2    b\n",
              "idx3    c\n",
              "dtype: object"
            ]
          },
          "metadata": {
            "tags": []
          },
          "execution_count": 12
        }
      ]
    },
    {
      "cell_type": "code",
      "metadata": {
        "id": "zw2TNwXwlDUL",
        "outputId": "449e43b4-2379-40d2-84c3-6d50b9c108ae",
        "colab": {
          "base_uri": "https://localhost:8080/"
        }
      },
      "source": [
        "#To see index , use series_name.index\n",
        "#s1.index() will give error as index is not callable.\n",
        "\n",
        "s4.index"
      ],
      "execution_count": null,
      "outputs": [
        {
          "output_type": "execute_result",
          "data": {
            "text/plain": [
              "Index(['idx1', 'idx2', 'idx3', 'idx4', 'idx5'], dtype='object')"
            ]
          },
          "metadata": {
            "tags": []
          },
          "execution_count": 13
        }
      ]
    },
    {
      "cell_type": "code",
      "metadata": {
        "id": "vkOPevzmm6Vw",
        "outputId": "749542e8-ac52-4b70-abfd-547a0b715f6b",
        "colab": {
          "base_uri": "https://localhost:8080/"
        }
      },
      "source": [
        "s4.item"
      ],
      "execution_count": null,
      "outputs": [
        {
          "output_type": "execute_result",
          "data": {
            "text/plain": [
              "<bound method IndexOpsMixin.item of idx1    a\n",
              "idx2    b\n",
              "idx3    c\n",
              "idx4    d\n",
              "idx5    e\n",
              "dtype: object>"
            ]
          },
          "metadata": {
            "tags": []
          },
          "execution_count": 14
        }
      ]
    },
    {
      "cell_type": "code",
      "metadata": {
        "id": "CXEnLv3lm9T6",
        "outputId": "f77e3e53-dbf0-4701-8b33-694528662d67",
        "colab": {
          "base_uri": "https://localhost:8080/"
        }
      },
      "source": [
        "#head and tail\n",
        "\n",
        "s4.head(2)"
      ],
      "execution_count": null,
      "outputs": [
        {
          "output_type": "execute_result",
          "data": {
            "text/plain": [
              "idx1    a\n",
              "idx2    b\n",
              "dtype: object"
            ]
          },
          "metadata": {
            "tags": []
          },
          "execution_count": 16
        }
      ]
    },
    {
      "cell_type": "code",
      "metadata": {
        "id": "KMW3nQ1unPM9",
        "outputId": "9fbf953f-de44-4413-f20d-5df5dfae6e89",
        "colab": {
          "base_uri": "https://localhost:8080/"
        }
      },
      "source": [
        "s4.tail(3)"
      ],
      "execution_count": null,
      "outputs": [
        {
          "output_type": "execute_result",
          "data": {
            "text/plain": [
              "idx3    c\n",
              "idx4    d\n",
              "idx5    e\n",
              "dtype: object"
            ]
          },
          "metadata": {
            "tags": []
          },
          "execution_count": 17
        }
      ]
    },
    {
      "cell_type": "code",
      "metadata": {
        "id": "-h1-rSaznUT3",
        "outputId": "f1a0c291-4aec-41c9-bf4a-99ae47be657e",
        "colab": {
          "base_uri": "https://localhost:8080/"
        }
      },
      "source": [
        "#comparison with lists\n",
        "\n",
        "l4 = ['a', 'b' , 'c ', 'd']\n",
        "\n",
        "l4 = l4*2 \n",
        "\n",
        "l4"
      ],
      "execution_count": null,
      "outputs": [
        {
          "output_type": "execute_result",
          "data": {
            "text/plain": [
              "['a', 'b', 'c ', 'd', 'a', 'b', 'c ', 'd']"
            ]
          },
          "metadata": {
            "tags": []
          },
          "execution_count": 19
        }
      ]
    },
    {
      "cell_type": "code",
      "metadata": {
        "id": "tg12sYepn3nZ",
        "outputId": "bc55b0bc-d6c3-4a61-e125-f02755b76417",
        "colab": {
          "base_uri": "https://localhost:8080/"
        }
      },
      "source": [
        "#with series\n",
        "\n",
        "series= pd.Series(['a','b','c','d'])\n",
        "\n",
        "series = series*2 \n",
        "\n",
        "series"
      ],
      "execution_count": null,
      "outputs": [
        {
          "output_type": "execute_result",
          "data": {
            "text/plain": [
              "0    aa\n",
              "1    bb\n",
              "2    cc\n",
              "3    dd\n",
              "dtype: object"
            ]
          },
          "metadata": {
            "tags": []
          },
          "execution_count": 20
        }
      ]
    },
    {
      "cell_type": "markdown",
      "metadata": {
        "id": "l0SJwGqdolDY"
      },
      "source": [
        "**PANDA DATAFRAME**"
      ]
    },
    {
      "cell_type": "code",
      "metadata": {
        "id": "NCcUM7jzrFqt"
      },
      "source": [
        "#DataFrame is in table form while Series was in normal column form\n",
        "#DataFrame has index for the column too while Series had index for \n",
        "#row only"
      ],
      "execution_count": null,
      "outputs": []
    },
    {
      "cell_type": "code",
      "metadata": {
        "id": "jlkEv3Q5oTn7",
        "outputId": "8e26fa54-c5c9-4ace-d530-88f3f1cc5e89",
        "colab": {
          "base_uri": "https://localhost:8080/",
          "height": 32
        }
      },
      "source": [
        "\n",
        "#Creating an empty dataframe\n",
        "\n",
        "df = pd.DataFrame()\n",
        "\n",
        "df"
      ],
      "execution_count": null,
      "outputs": [
        {
          "output_type": "execute_result",
          "data": {
            "text/html": [
              "<div>\n",
              "<style scoped>\n",
              "    .dataframe tbody tr th:only-of-type {\n",
              "        vertical-align: middle;\n",
              "    }\n",
              "\n",
              "    .dataframe tbody tr th {\n",
              "        vertical-align: top;\n",
              "    }\n",
              "\n",
              "    .dataframe thead th {\n",
              "        text-align: right;\n",
              "    }\n",
              "</style>\n",
              "<table border=\"1\" class=\"dataframe\">\n",
              "  <thead>\n",
              "    <tr style=\"text-align: right;\">\n",
              "      <th></th>\n",
              "    </tr>\n",
              "  </thead>\n",
              "  <tbody>\n",
              "  </tbody>\n",
              "</table>\n",
              "</div>"
            ],
            "text/plain": [
              "Empty DataFrame\n",
              "Columns: []\n",
              "Index: []"
            ]
          },
          "metadata": {
            "tags": []
          },
          "execution_count": 21
        }
      ]
    },
    {
      "cell_type": "code",
      "metadata": {
        "id": "jBLEa4_kqYGA",
        "outputId": "2ef2fb32-9a42-40a7-a790-332cf47c25a8",
        "colab": {
          "base_uri": "https://localhost:8080/",
          "height": 206
        }
      },
      "source": [
        "#Creating DataFrame from list\n",
        "\n",
        "l5 = [ 'a','b','c','d','e']\n",
        "\n",
        "df = pd.DataFrame(l5)\n",
        "\n",
        "df"
      ],
      "execution_count": null,
      "outputs": [
        {
          "output_type": "execute_result",
          "data": {
            "text/html": [
              "<div>\n",
              "<style scoped>\n",
              "    .dataframe tbody tr th:only-of-type {\n",
              "        vertical-align: middle;\n",
              "    }\n",
              "\n",
              "    .dataframe tbody tr th {\n",
              "        vertical-align: top;\n",
              "    }\n",
              "\n",
              "    .dataframe thead th {\n",
              "        text-align: right;\n",
              "    }\n",
              "</style>\n",
              "<table border=\"1\" class=\"dataframe\">\n",
              "  <thead>\n",
              "    <tr style=\"text-align: right;\">\n",
              "      <th></th>\n",
              "      <th>0</th>\n",
              "    </tr>\n",
              "  </thead>\n",
              "  <tbody>\n",
              "    <tr>\n",
              "      <th>0</th>\n",
              "      <td>a</td>\n",
              "    </tr>\n",
              "    <tr>\n",
              "      <th>1</th>\n",
              "      <td>b</td>\n",
              "    </tr>\n",
              "    <tr>\n",
              "      <th>2</th>\n",
              "      <td>c</td>\n",
              "    </tr>\n",
              "    <tr>\n",
              "      <th>3</th>\n",
              "      <td>d</td>\n",
              "    </tr>\n",
              "    <tr>\n",
              "      <th>4</th>\n",
              "      <td>e</td>\n",
              "    </tr>\n",
              "  </tbody>\n",
              "</table>\n",
              "</div>"
            ],
            "text/plain": [
              "   0\n",
              "0  a\n",
              "1  b\n",
              "2  c\n",
              "3  d\n",
              "4  e"
            ]
          },
          "metadata": {
            "tags": []
          },
          "execution_count": 22
        }
      ]
    },
    {
      "cell_type": "code",
      "metadata": {
        "id": "Rk9XmrBCqw85",
        "outputId": "316b0c74-f5fd-4e74-9c9a-237caa62802b",
        "colab": {
          "base_uri": "https://localhost:8080/",
          "height": 143
        }
      },
      "source": [
        "#Creating DataFrame from multiple list\n",
        "\n",
        "l1 = [ ['abc' , 1 ] , [ 'bcd' , 2 ] , ['cde' , 3] ]\n",
        "\n",
        "df = pd.DataFrame(l1)\n",
        "\n",
        "df"
      ],
      "execution_count": null,
      "outputs": [
        {
          "output_type": "execute_result",
          "data": {
            "text/html": [
              "<div>\n",
              "<style scoped>\n",
              "    .dataframe tbody tr th:only-of-type {\n",
              "        vertical-align: middle;\n",
              "    }\n",
              "\n",
              "    .dataframe tbody tr th {\n",
              "        vertical-align: top;\n",
              "    }\n",
              "\n",
              "    .dataframe thead th {\n",
              "        text-align: right;\n",
              "    }\n",
              "</style>\n",
              "<table border=\"1\" class=\"dataframe\">\n",
              "  <thead>\n",
              "    <tr style=\"text-align: right;\">\n",
              "      <th></th>\n",
              "      <th>0</th>\n",
              "      <th>1</th>\n",
              "    </tr>\n",
              "  </thead>\n",
              "  <tbody>\n",
              "    <tr>\n",
              "      <th>0</th>\n",
              "      <td>abc</td>\n",
              "      <td>1</td>\n",
              "    </tr>\n",
              "    <tr>\n",
              "      <th>1</th>\n",
              "      <td>bcd</td>\n",
              "      <td>2</td>\n",
              "    </tr>\n",
              "    <tr>\n",
              "      <th>2</th>\n",
              "      <td>cde</td>\n",
              "      <td>3</td>\n",
              "    </tr>\n",
              "  </tbody>\n",
              "</table>\n",
              "</div>"
            ],
            "text/plain": [
              "     0  1\n",
              "0  abc  1\n",
              "1  bcd  2\n",
              "2  cde  3"
            ]
          },
          "metadata": {
            "tags": []
          },
          "execution_count": 23
        }
      ]
    },
    {
      "cell_type": "code",
      "metadata": {
        "id": "BF0iJ9TzvNh5",
        "outputId": "8473cf5d-3e37-4fe2-f880-391efe5959a0",
        "colab": {
          "base_uri": "https://localhost:8080/",
          "height": 143
        }
      },
      "source": [
        "#Assigning Column Names\n",
        "\n",
        "df = pd.DataFrame(l1, columns = ['Name', 'Age'])\n",
        "\n",
        "df"
      ],
      "execution_count": null,
      "outputs": [
        {
          "output_type": "execute_result",
          "data": {
            "text/html": [
              "<div>\n",
              "<style scoped>\n",
              "    .dataframe tbody tr th:only-of-type {\n",
              "        vertical-align: middle;\n",
              "    }\n",
              "\n",
              "    .dataframe tbody tr th {\n",
              "        vertical-align: top;\n",
              "    }\n",
              "\n",
              "    .dataframe thead th {\n",
              "        text-align: right;\n",
              "    }\n",
              "</style>\n",
              "<table border=\"1\" class=\"dataframe\">\n",
              "  <thead>\n",
              "    <tr style=\"text-align: right;\">\n",
              "      <th></th>\n",
              "      <th>Name</th>\n",
              "      <th>Age</th>\n",
              "    </tr>\n",
              "  </thead>\n",
              "  <tbody>\n",
              "    <tr>\n",
              "      <th>0</th>\n",
              "      <td>abc</td>\n",
              "      <td>1</td>\n",
              "    </tr>\n",
              "    <tr>\n",
              "      <th>1</th>\n",
              "      <td>bcd</td>\n",
              "      <td>2</td>\n",
              "    </tr>\n",
              "    <tr>\n",
              "      <th>2</th>\n",
              "      <td>cde</td>\n",
              "      <td>3</td>\n",
              "    </tr>\n",
              "  </tbody>\n",
              "</table>\n",
              "</div>"
            ],
            "text/plain": [
              "  Name  Age\n",
              "0  abc    1\n",
              "1  bcd    2\n",
              "2  cde    3"
            ]
          },
          "metadata": {
            "tags": []
          },
          "execution_count": 24
        }
      ]
    },
    {
      "cell_type": "code",
      "metadata": {
        "id": "39ce7e3N-XCr",
        "outputId": "ef347e12-ced1-490d-8162-d974cd8ea40a",
        "colab": {
          "base_uri": "https://localhost:8080/",
          "height": 143
        }
      },
      "source": [
        "#Changing Data Type\n",
        "\n",
        "df = pd.DataFrame(l1, columns = ['Name', 'Age'], dtype = float )\n",
        "\n",
        "df"
      ],
      "execution_count": null,
      "outputs": [
        {
          "output_type": "execute_result",
          "data": {
            "text/html": [
              "<div>\n",
              "<style scoped>\n",
              "    .dataframe tbody tr th:only-of-type {\n",
              "        vertical-align: middle;\n",
              "    }\n",
              "\n",
              "    .dataframe tbody tr th {\n",
              "        vertical-align: top;\n",
              "    }\n",
              "\n",
              "    .dataframe thead th {\n",
              "        text-align: right;\n",
              "    }\n",
              "</style>\n",
              "<table border=\"1\" class=\"dataframe\">\n",
              "  <thead>\n",
              "    <tr style=\"text-align: right;\">\n",
              "      <th></th>\n",
              "      <th>Name</th>\n",
              "      <th>Age</th>\n",
              "    </tr>\n",
              "  </thead>\n",
              "  <tbody>\n",
              "    <tr>\n",
              "      <th>0</th>\n",
              "      <td>abc</td>\n",
              "      <td>1.0</td>\n",
              "    </tr>\n",
              "    <tr>\n",
              "      <th>1</th>\n",
              "      <td>bcd</td>\n",
              "      <td>2.0</td>\n",
              "    </tr>\n",
              "    <tr>\n",
              "      <th>2</th>\n",
              "      <td>cde</td>\n",
              "      <td>3.0</td>\n",
              "    </tr>\n",
              "  </tbody>\n",
              "</table>\n",
              "</div>"
            ],
            "text/plain": [
              "  Name  Age\n",
              "0  abc  1.0\n",
              "1  bcd  2.0\n",
              "2  cde  3.0"
            ]
          },
          "metadata": {
            "tags": []
          },
          "execution_count": 25
        }
      ]
    },
    {
      "cell_type": "code",
      "metadata": {
        "id": "Z3U0mS4_-dn4",
        "outputId": "cccddc08-f4eb-4475-bbd7-70b0c4cce417",
        "colab": {
          "base_uri": "https://localhost:8080/",
          "height": 175
        }
      },
      "source": [
        "#Creating dataframe from list of dictionaries\n",
        "#In creating series, key of the dictionary used to become the index of series\n",
        "#but in creating DataFrames, the key of dictionary becomes column of the \n",
        "#DataFrame\n",
        "\n",
        "students = {'Name': ['Andrew', 'Michael', 'Ron', 'Stephen'], 'Age': [23, 22, 21,20], 'Marks': [98, 67, 78, 89]}\n",
        "\n",
        "df = pd.DataFrame(students)\n",
        "\n",
        "df"
      ],
      "execution_count": null,
      "outputs": [
        {
          "output_type": "execute_result",
          "data": {
            "text/html": [
              "<div>\n",
              "<style scoped>\n",
              "    .dataframe tbody tr th:only-of-type {\n",
              "        vertical-align: middle;\n",
              "    }\n",
              "\n",
              "    .dataframe tbody tr th {\n",
              "        vertical-align: top;\n",
              "    }\n",
              "\n",
              "    .dataframe thead th {\n",
              "        text-align: right;\n",
              "    }\n",
              "</style>\n",
              "<table border=\"1\" class=\"dataframe\">\n",
              "  <thead>\n",
              "    <tr style=\"text-align: right;\">\n",
              "      <th></th>\n",
              "      <th>Name</th>\n",
              "      <th>Age</th>\n",
              "      <th>Marks</th>\n",
              "    </tr>\n",
              "  </thead>\n",
              "  <tbody>\n",
              "    <tr>\n",
              "      <th>0</th>\n",
              "      <td>Andrew</td>\n",
              "      <td>23</td>\n",
              "      <td>98</td>\n",
              "    </tr>\n",
              "    <tr>\n",
              "      <th>1</th>\n",
              "      <td>Michael</td>\n",
              "      <td>22</td>\n",
              "      <td>67</td>\n",
              "    </tr>\n",
              "    <tr>\n",
              "      <th>2</th>\n",
              "      <td>Ron</td>\n",
              "      <td>21</td>\n",
              "      <td>78</td>\n",
              "    </tr>\n",
              "    <tr>\n",
              "      <th>3</th>\n",
              "      <td>Stephen</td>\n",
              "      <td>20</td>\n",
              "      <td>89</td>\n",
              "    </tr>\n",
              "  </tbody>\n",
              "</table>\n",
              "</div>"
            ],
            "text/plain": [
              "      Name  Age  Marks\n",
              "0   Andrew   23     98\n",
              "1  Michael   22     67\n",
              "2      Ron   21     78\n",
              "3  Stephen   20     89"
            ]
          },
          "metadata": {
            "tags": []
          },
          "execution_count": 27
        }
      ]
    },
    {
      "cell_type": "code",
      "metadata": {
        "id": "VnSJF6yP-lff",
        "outputId": "57225ce0-189e-4e2c-82ee-82e4d1c6354d",
        "colab": {
          "base_uri": "https://localhost:8080/",
          "height": 175
        }
      },
      "source": [
        "#Changing the indexes\n",
        "\n",
        "df = pd.DataFrame(students, index = ['grade1', 'grade2', 'grade3', 'grade4'])\n",
        "\n",
        "df\n"
      ],
      "execution_count": null,
      "outputs": [
        {
          "output_type": "execute_result",
          "data": {
            "text/html": [
              "<div>\n",
              "<style scoped>\n",
              "    .dataframe tbody tr th:only-of-type {\n",
              "        vertical-align: middle;\n",
              "    }\n",
              "\n",
              "    .dataframe tbody tr th {\n",
              "        vertical-align: top;\n",
              "    }\n",
              "\n",
              "    .dataframe thead th {\n",
              "        text-align: right;\n",
              "    }\n",
              "</style>\n",
              "<table border=\"1\" class=\"dataframe\">\n",
              "  <thead>\n",
              "    <tr style=\"text-align: right;\">\n",
              "      <th></th>\n",
              "      <th>Name</th>\n",
              "      <th>Age</th>\n",
              "      <th>Marks</th>\n",
              "    </tr>\n",
              "  </thead>\n",
              "  <tbody>\n",
              "    <tr>\n",
              "      <th>grade1</th>\n",
              "      <td>Andrew</td>\n",
              "      <td>23</td>\n",
              "      <td>98</td>\n",
              "    </tr>\n",
              "    <tr>\n",
              "      <th>grade2</th>\n",
              "      <td>Michael</td>\n",
              "      <td>22</td>\n",
              "      <td>67</td>\n",
              "    </tr>\n",
              "    <tr>\n",
              "      <th>grade3</th>\n",
              "      <td>Ron</td>\n",
              "      <td>21</td>\n",
              "      <td>78</td>\n",
              "    </tr>\n",
              "    <tr>\n",
              "      <th>grade4</th>\n",
              "      <td>Stephen</td>\n",
              "      <td>20</td>\n",
              "      <td>89</td>\n",
              "    </tr>\n",
              "  </tbody>\n",
              "</table>\n",
              "</div>"
            ],
            "text/plain": [
              "           Name  Age  Marks\n",
              "grade1   Andrew   23     98\n",
              "grade2  Michael   22     67\n",
              "grade3      Ron   21     78\n",
              "grade4  Stephen   20     89"
            ]
          },
          "metadata": {
            "tags": []
          },
          "execution_count": 28
        }
      ]
    },
    {
      "cell_type": "code",
      "metadata": {
        "id": "Esk-Z0nk_DYu",
        "outputId": "14fe8cd0-53e2-4f6e-878a-a9de40581b7a",
        "colab": {
          "base_uri": "https://localhost:8080/",
          "height": 143
        }
      },
      "source": [
        "#Rows selection - Using loc , iloc\n",
        "\n",
        "df = pd.DataFrame(students, index = ['grade1', 'grade2', 'grade3', 'grade4'])\n",
        "\n",
        "df\n",
        "\n",
        "df.loc['grade1': 'grade3']\n"
      ],
      "execution_count": null,
      "outputs": [
        {
          "output_type": "execute_result",
          "data": {
            "text/html": [
              "<div>\n",
              "<style scoped>\n",
              "    .dataframe tbody tr th:only-of-type {\n",
              "        vertical-align: middle;\n",
              "    }\n",
              "\n",
              "    .dataframe tbody tr th {\n",
              "        vertical-align: top;\n",
              "    }\n",
              "\n",
              "    .dataframe thead th {\n",
              "        text-align: right;\n",
              "    }\n",
              "</style>\n",
              "<table border=\"1\" class=\"dataframe\">\n",
              "  <thead>\n",
              "    <tr style=\"text-align: right;\">\n",
              "      <th></th>\n",
              "      <th>Name</th>\n",
              "      <th>Age</th>\n",
              "      <th>Marks</th>\n",
              "    </tr>\n",
              "  </thead>\n",
              "  <tbody>\n",
              "    <tr>\n",
              "      <th>grade1</th>\n",
              "      <td>Andrew</td>\n",
              "      <td>23</td>\n",
              "      <td>98</td>\n",
              "    </tr>\n",
              "    <tr>\n",
              "      <th>grade2</th>\n",
              "      <td>Michael</td>\n",
              "      <td>22</td>\n",
              "      <td>67</td>\n",
              "    </tr>\n",
              "    <tr>\n",
              "      <th>grade3</th>\n",
              "      <td>Ron</td>\n",
              "      <td>21</td>\n",
              "      <td>78</td>\n",
              "    </tr>\n",
              "  </tbody>\n",
              "</table>\n",
              "</div>"
            ],
            "text/plain": [
              "           Name  Age  Marks\n",
              "grade1   Andrew   23     98\n",
              "grade2  Michael   22     67\n",
              "grade3      Ron   21     78"
            ]
          },
          "metadata": {
            "tags": []
          },
          "execution_count": 29
        }
      ]
    },
    {
      "cell_type": "code",
      "metadata": {
        "id": "1zIil3a1_uln",
        "outputId": "ad4366a7-8209-441f-f5b7-6c7195c0fec1",
        "colab": {
          "base_uri": "https://localhost:8080/",
          "height": 143
        }
      },
      "source": [
        "df.iloc[0:3]"
      ],
      "execution_count": null,
      "outputs": [
        {
          "output_type": "execute_result",
          "data": {
            "text/html": [
              "<div>\n",
              "<style scoped>\n",
              "    .dataframe tbody tr th:only-of-type {\n",
              "        vertical-align: middle;\n",
              "    }\n",
              "\n",
              "    .dataframe tbody tr th {\n",
              "        vertical-align: top;\n",
              "    }\n",
              "\n",
              "    .dataframe thead th {\n",
              "        text-align: right;\n",
              "    }\n",
              "</style>\n",
              "<table border=\"1\" class=\"dataframe\">\n",
              "  <thead>\n",
              "    <tr style=\"text-align: right;\">\n",
              "      <th></th>\n",
              "      <th>Name</th>\n",
              "      <th>Age</th>\n",
              "      <th>Marks</th>\n",
              "    </tr>\n",
              "  </thead>\n",
              "  <tbody>\n",
              "    <tr>\n",
              "      <th>grade1</th>\n",
              "      <td>Andrew</td>\n",
              "      <td>23</td>\n",
              "      <td>98</td>\n",
              "    </tr>\n",
              "    <tr>\n",
              "      <th>grade2</th>\n",
              "      <td>Michael</td>\n",
              "      <td>22</td>\n",
              "      <td>67</td>\n",
              "    </tr>\n",
              "    <tr>\n",
              "      <th>grade3</th>\n",
              "      <td>Ron</td>\n",
              "      <td>21</td>\n",
              "      <td>78</td>\n",
              "    </tr>\n",
              "  </tbody>\n",
              "</table>\n",
              "</div>"
            ],
            "text/plain": [
              "           Name  Age  Marks\n",
              "grade1   Andrew   23     98\n",
              "grade2  Michael   22     67\n",
              "grade3      Ron   21     78"
            ]
          },
          "metadata": {
            "tags": []
          },
          "execution_count": 30
        }
      ]
    },
    {
      "cell_type": "code",
      "metadata": {
        "id": "WpeKRJwr_zTW",
        "outputId": "5ccfdfa3-6b7e-46c9-a06d-1dc03ad56ad4",
        "colab": {
          "base_uri": "https://localhost:8080/",
          "height": 175
        }
      },
      "source": [
        "\n",
        "#Column Selection - Using iLoc\n",
        "\n",
        "df.iloc[ : , 0:2 ]\n"
      ],
      "execution_count": null,
      "outputs": [
        {
          "output_type": "execute_result",
          "data": {
            "text/html": [
              "<div>\n",
              "<style scoped>\n",
              "    .dataframe tbody tr th:only-of-type {\n",
              "        vertical-align: middle;\n",
              "    }\n",
              "\n",
              "    .dataframe tbody tr th {\n",
              "        vertical-align: top;\n",
              "    }\n",
              "\n",
              "    .dataframe thead th {\n",
              "        text-align: right;\n",
              "    }\n",
              "</style>\n",
              "<table border=\"1\" class=\"dataframe\">\n",
              "  <thead>\n",
              "    <tr style=\"text-align: right;\">\n",
              "      <th></th>\n",
              "      <th>Name</th>\n",
              "      <th>Age</th>\n",
              "    </tr>\n",
              "  </thead>\n",
              "  <tbody>\n",
              "    <tr>\n",
              "      <th>grade1</th>\n",
              "      <td>Andrew</td>\n",
              "      <td>23</td>\n",
              "    </tr>\n",
              "    <tr>\n",
              "      <th>grade2</th>\n",
              "      <td>Michael</td>\n",
              "      <td>22</td>\n",
              "    </tr>\n",
              "    <tr>\n",
              "      <th>grade3</th>\n",
              "      <td>Ron</td>\n",
              "      <td>21</td>\n",
              "    </tr>\n",
              "    <tr>\n",
              "      <th>grade4</th>\n",
              "      <td>Stephen</td>\n",
              "      <td>20</td>\n",
              "    </tr>\n",
              "  </tbody>\n",
              "</table>\n",
              "</div>"
            ],
            "text/plain": [
              "           Name  Age\n",
              "grade1   Andrew   23\n",
              "grade2  Michael   22\n",
              "grade3      Ron   21\n",
              "grade4  Stephen   20"
            ]
          },
          "metadata": {
            "tags": []
          },
          "execution_count": 32
        }
      ]
    },
    {
      "cell_type": "code",
      "metadata": {
        "id": "Jc3-oT2o_38t",
        "outputId": "5ea80e25-3e6e-4e76-a9e0-5149bef87f52",
        "colab": {
          "base_uri": "https://localhost:8080/",
          "height": 112
        }
      },
      "source": [
        "#Deleting multiple rows\n",
        "\n",
        "df.drop(['grade2', 'grade3'], inplace = True)\n",
        "\n",
        "df\n"
      ],
      "execution_count": null,
      "outputs": [
        {
          "output_type": "execute_result",
          "data": {
            "text/html": [
              "<div>\n",
              "<style scoped>\n",
              "    .dataframe tbody tr th:only-of-type {\n",
              "        vertical-align: middle;\n",
              "    }\n",
              "\n",
              "    .dataframe tbody tr th {\n",
              "        vertical-align: top;\n",
              "    }\n",
              "\n",
              "    .dataframe thead th {\n",
              "        text-align: right;\n",
              "    }\n",
              "</style>\n",
              "<table border=\"1\" class=\"dataframe\">\n",
              "  <thead>\n",
              "    <tr style=\"text-align: right;\">\n",
              "      <th></th>\n",
              "      <th>Name</th>\n",
              "      <th>Age</th>\n",
              "      <th>Marks</th>\n",
              "    </tr>\n",
              "  </thead>\n",
              "  <tbody>\n",
              "    <tr>\n",
              "      <th>grade1</th>\n",
              "      <td>Andrew</td>\n",
              "      <td>23</td>\n",
              "      <td>98</td>\n",
              "    </tr>\n",
              "    <tr>\n",
              "      <th>grade4</th>\n",
              "      <td>Stephen</td>\n",
              "      <td>20</td>\n",
              "      <td>89</td>\n",
              "    </tr>\n",
              "  </tbody>\n",
              "</table>\n",
              "</div>"
            ],
            "text/plain": [
              "           Name  Age  Marks\n",
              "grade1   Andrew   23     98\n",
              "grade4  Stephen   20     89"
            ]
          },
          "metadata": {
            "tags": []
          },
          "execution_count": 33
        }
      ]
    },
    {
      "cell_type": "code",
      "metadata": {
        "id": "DTXUl4UFAAs8",
        "outputId": "d3e3f9bb-8af1-45a7-9312-922db526df66",
        "colab": {
          "base_uri": "https://localhost:8080/",
          "height": 112
        }
      },
      "source": [
        "#Adding new columns and Addition\n",
        "\n",
        "df['Bonus']=pd.DataFrame([10,20,30,40],index=['grade1','grade2','grade3','grade4'])\n",
        "\n",
        "df['Sum'] = df['Age'] + df['Marks'] + df['Bonus']\n",
        "\n",
        "df\n"
      ],
      "execution_count": null,
      "outputs": [
        {
          "output_type": "execute_result",
          "data": {
            "text/html": [
              "<div>\n",
              "<style scoped>\n",
              "    .dataframe tbody tr th:only-of-type {\n",
              "        vertical-align: middle;\n",
              "    }\n",
              "\n",
              "    .dataframe tbody tr th {\n",
              "        vertical-align: top;\n",
              "    }\n",
              "\n",
              "    .dataframe thead th {\n",
              "        text-align: right;\n",
              "    }\n",
              "</style>\n",
              "<table border=\"1\" class=\"dataframe\">\n",
              "  <thead>\n",
              "    <tr style=\"text-align: right;\">\n",
              "      <th></th>\n",
              "      <th>Name</th>\n",
              "      <th>Age</th>\n",
              "      <th>Marks</th>\n",
              "      <th>Bonus</th>\n",
              "      <th>Sum</th>\n",
              "    </tr>\n",
              "  </thead>\n",
              "  <tbody>\n",
              "    <tr>\n",
              "      <th>grade1</th>\n",
              "      <td>Andrew</td>\n",
              "      <td>23</td>\n",
              "      <td>98</td>\n",
              "      <td>10</td>\n",
              "      <td>131</td>\n",
              "    </tr>\n",
              "    <tr>\n",
              "      <th>grade4</th>\n",
              "      <td>Stephen</td>\n",
              "      <td>20</td>\n",
              "      <td>89</td>\n",
              "      <td>40</td>\n",
              "      <td>149</td>\n",
              "    </tr>\n",
              "  </tbody>\n",
              "</table>\n",
              "</div>"
            ],
            "text/plain": [
              "           Name  Age  Marks  Bonus  Sum\n",
              "grade1   Andrew   23     98     10  131\n",
              "grade4  Stephen   20     89     40  149"
            ]
          },
          "metadata": {
            "tags": []
          },
          "execution_count": 34
        }
      ]
    },
    {
      "cell_type": "code",
      "metadata": {
        "id": "37A2xSYXAJV1",
        "outputId": "eeec1866-fac7-455a-df6d-371c687e67f4",
        "colab": {
          "base_uri": "https://localhost:8080/",
          "height": 112
        }
      },
      "source": [
        "\n",
        "#Addition using iLoc, column wise\n",
        "\n",
        "df['Sum'] = df.iloc[:, 0:3].sum(axis = 1)\n",
        "\n",
        "df\n",
        "\n"
      ],
      "execution_count": null,
      "outputs": [
        {
          "output_type": "execute_result",
          "data": {
            "text/html": [
              "<div>\n",
              "<style scoped>\n",
              "    .dataframe tbody tr th:only-of-type {\n",
              "        vertical-align: middle;\n",
              "    }\n",
              "\n",
              "    .dataframe tbody tr th {\n",
              "        vertical-align: top;\n",
              "    }\n",
              "\n",
              "    .dataframe thead th {\n",
              "        text-align: right;\n",
              "    }\n",
              "</style>\n",
              "<table border=\"1\" class=\"dataframe\">\n",
              "  <thead>\n",
              "    <tr style=\"text-align: right;\">\n",
              "      <th></th>\n",
              "      <th>Name</th>\n",
              "      <th>Age</th>\n",
              "      <th>Marks</th>\n",
              "      <th>Bonus</th>\n",
              "      <th>Sum</th>\n",
              "    </tr>\n",
              "  </thead>\n",
              "  <tbody>\n",
              "    <tr>\n",
              "      <th>grade1</th>\n",
              "      <td>Andrew</td>\n",
              "      <td>23</td>\n",
              "      <td>98</td>\n",
              "      <td>10</td>\n",
              "      <td>121</td>\n",
              "    </tr>\n",
              "    <tr>\n",
              "      <th>grade4</th>\n",
              "      <td>Stephen</td>\n",
              "      <td>20</td>\n",
              "      <td>89</td>\n",
              "      <td>40</td>\n",
              "      <td>109</td>\n",
              "    </tr>\n",
              "  </tbody>\n",
              "</table>\n",
              "</div>"
            ],
            "text/plain": [
              "           Name  Age  Marks  Bonus  Sum\n",
              "grade1   Andrew   23     98     10  121\n",
              "grade4  Stephen   20     89     40  109"
            ]
          },
          "metadata": {
            "tags": []
          },
          "execution_count": 35
        }
      ]
    },
    {
      "cell_type": "code",
      "metadata": {
        "id": "8V81HSZrAP1_",
        "outputId": "cf9b15aa-9502-485b-cd5b-82520281d559",
        "colab": {
          "base_uri": "https://localhost:8080/",
          "height": 112
        }
      },
      "source": [
        "#Copy DataFrame\n",
        "\n",
        "df1 = df.copy()\n",
        "\n",
        "df1\n"
      ],
      "execution_count": null,
      "outputs": [
        {
          "output_type": "execute_result",
          "data": {
            "text/html": [
              "<div>\n",
              "<style scoped>\n",
              "    .dataframe tbody tr th:only-of-type {\n",
              "        vertical-align: middle;\n",
              "    }\n",
              "\n",
              "    .dataframe tbody tr th {\n",
              "        vertical-align: top;\n",
              "    }\n",
              "\n",
              "    .dataframe thead th {\n",
              "        text-align: right;\n",
              "    }\n",
              "</style>\n",
              "<table border=\"1\" class=\"dataframe\">\n",
              "  <thead>\n",
              "    <tr style=\"text-align: right;\">\n",
              "      <th></th>\n",
              "      <th>Name</th>\n",
              "      <th>Age</th>\n",
              "      <th>Marks</th>\n",
              "      <th>Bonus</th>\n",
              "      <th>Sum</th>\n",
              "    </tr>\n",
              "  </thead>\n",
              "  <tbody>\n",
              "    <tr>\n",
              "      <th>grade1</th>\n",
              "      <td>Andrew</td>\n",
              "      <td>23</td>\n",
              "      <td>98</td>\n",
              "      <td>10</td>\n",
              "      <td>121</td>\n",
              "    </tr>\n",
              "    <tr>\n",
              "      <th>grade4</th>\n",
              "      <td>Stephen</td>\n",
              "      <td>20</td>\n",
              "      <td>89</td>\n",
              "      <td>40</td>\n",
              "      <td>109</td>\n",
              "    </tr>\n",
              "  </tbody>\n",
              "</table>\n",
              "</div>"
            ],
            "text/plain": [
              "           Name  Age  Marks  Bonus  Sum\n",
              "grade1   Andrew   23     98     10  121\n",
              "grade4  Stephen   20     89     40  109"
            ]
          },
          "metadata": {
            "tags": []
          },
          "execution_count": 36
        }
      ]
    },
    {
      "cell_type": "code",
      "metadata": {
        "id": "FO_jxZdPAU8E",
        "outputId": "0ed82234-563e-4b5c-f045-00518a18ecc3",
        "colab": {
          "base_uri": "https://localhost:8080/",
          "height": 112
        }
      },
      "source": [
        "#Deleting columns\n",
        "\n",
        "del(df1['Name'])\n",
        "\n",
        "df1"
      ],
      "execution_count": null,
      "outputs": [
        {
          "output_type": "execute_result",
          "data": {
            "text/html": [
              "<div>\n",
              "<style scoped>\n",
              "    .dataframe tbody tr th:only-of-type {\n",
              "        vertical-align: middle;\n",
              "    }\n",
              "\n",
              "    .dataframe tbody tr th {\n",
              "        vertical-align: top;\n",
              "    }\n",
              "\n",
              "    .dataframe thead th {\n",
              "        text-align: right;\n",
              "    }\n",
              "</style>\n",
              "<table border=\"1\" class=\"dataframe\">\n",
              "  <thead>\n",
              "    <tr style=\"text-align: right;\">\n",
              "      <th></th>\n",
              "      <th>Age</th>\n",
              "      <th>Marks</th>\n",
              "      <th>Bonus</th>\n",
              "      <th>Sum</th>\n",
              "    </tr>\n",
              "  </thead>\n",
              "  <tbody>\n",
              "    <tr>\n",
              "      <th>grade1</th>\n",
              "      <td>23</td>\n",
              "      <td>98</td>\n",
              "      <td>10</td>\n",
              "      <td>121</td>\n",
              "    </tr>\n",
              "    <tr>\n",
              "      <th>grade4</th>\n",
              "      <td>20</td>\n",
              "      <td>89</td>\n",
              "      <td>40</td>\n",
              "      <td>109</td>\n",
              "    </tr>\n",
              "  </tbody>\n",
              "</table>\n",
              "</div>"
            ],
            "text/plain": [
              "        Age  Marks  Bonus  Sum\n",
              "grade1   23     98     10  121\n",
              "grade4   20     89     40  109"
            ]
          },
          "metadata": {
            "tags": []
          },
          "execution_count": 37
        }
      ]
    },
    {
      "cell_type": "code",
      "metadata": {
        "id": "fkG5cMdHAYkk",
        "outputId": "d5026d94-7a76-4e0f-effb-034874b2d7a4",
        "colab": {
          "base_uri": "https://localhost:8080/",
          "height": 112
        }
      },
      "source": [
        "df1.pop('Age')\n",
        "\n",
        "df1\n"
      ],
      "execution_count": null,
      "outputs": [
        {
          "output_type": "execute_result",
          "data": {
            "text/html": [
              "<div>\n",
              "<style scoped>\n",
              "    .dataframe tbody tr th:only-of-type {\n",
              "        vertical-align: middle;\n",
              "    }\n",
              "\n",
              "    .dataframe tbody tr th {\n",
              "        vertical-align: top;\n",
              "    }\n",
              "\n",
              "    .dataframe thead th {\n",
              "        text-align: right;\n",
              "    }\n",
              "</style>\n",
              "<table border=\"1\" class=\"dataframe\">\n",
              "  <thead>\n",
              "    <tr style=\"text-align: right;\">\n",
              "      <th></th>\n",
              "      <th>Marks</th>\n",
              "      <th>Bonus</th>\n",
              "      <th>Sum</th>\n",
              "    </tr>\n",
              "  </thead>\n",
              "  <tbody>\n",
              "    <tr>\n",
              "      <th>grade1</th>\n",
              "      <td>98</td>\n",
              "      <td>10</td>\n",
              "      <td>121</td>\n",
              "    </tr>\n",
              "    <tr>\n",
              "      <th>grade4</th>\n",
              "      <td>89</td>\n",
              "      <td>40</td>\n",
              "      <td>109</td>\n",
              "    </tr>\n",
              "  </tbody>\n",
              "</table>\n",
              "</div>"
            ],
            "text/plain": [
              "        Marks  Bonus  Sum\n",
              "grade1     98     10  121\n",
              "grade4     89     40  109"
            ]
          },
          "metadata": {
            "tags": []
          },
          "execution_count": 38
        }
      ]
    },
    {
      "cell_type": "code",
      "metadata": {
        "id": "13g2wkJ2Ajed",
        "outputId": "9951311b-2b3c-4411-a10f-2716ec4a4b52",
        "colab": {
          "base_uri": "https://localhost:8080/",
          "height": 112
        }
      },
      "source": [
        "\n",
        "df\n"
      ],
      "execution_count": null,
      "outputs": [
        {
          "output_type": "execute_result",
          "data": {
            "text/html": [
              "<div>\n",
              "<style scoped>\n",
              "    .dataframe tbody tr th:only-of-type {\n",
              "        vertical-align: middle;\n",
              "    }\n",
              "\n",
              "    .dataframe tbody tr th {\n",
              "        vertical-align: top;\n",
              "    }\n",
              "\n",
              "    .dataframe thead th {\n",
              "        text-align: right;\n",
              "    }\n",
              "</style>\n",
              "<table border=\"1\" class=\"dataframe\">\n",
              "  <thead>\n",
              "    <tr style=\"text-align: right;\">\n",
              "      <th></th>\n",
              "      <th>Name</th>\n",
              "      <th>Age</th>\n",
              "      <th>Marks</th>\n",
              "      <th>Bonus</th>\n",
              "      <th>Sum</th>\n",
              "    </tr>\n",
              "  </thead>\n",
              "  <tbody>\n",
              "    <tr>\n",
              "      <th>grade1</th>\n",
              "      <td>Andrew</td>\n",
              "      <td>23</td>\n",
              "      <td>98</td>\n",
              "      <td>10</td>\n",
              "      <td>121</td>\n",
              "    </tr>\n",
              "    <tr>\n",
              "      <th>grade4</th>\n",
              "      <td>Stephen</td>\n",
              "      <td>20</td>\n",
              "      <td>89</td>\n",
              "      <td>40</td>\n",
              "      <td>109</td>\n",
              "    </tr>\n",
              "  </tbody>\n",
              "</table>\n",
              "</div>"
            ],
            "text/plain": [
              "           Name  Age  Marks  Bonus  Sum\n",
              "grade1   Andrew   23     98     10  121\n",
              "grade4  Stephen   20     89     40  109"
            ]
          },
          "metadata": {
            "tags": []
          },
          "execution_count": 40
        }
      ]
    },
    {
      "cell_type": "code",
      "metadata": {
        "id": "oEqTLXmUAmAx",
        "outputId": "33341d8d-0b7e-42a2-ea69-68997074d3e7",
        "colab": {
          "base_uri": "https://localhost:8080/",
          "height": 112
        }
      },
      "source": [
        "#Reordering of Columns\n",
        "\n",
        "df = df[['Marks', 'Bonus', 'Sum', 'Age', 'Name']]\n",
        "\n",
        "df\n"
      ],
      "execution_count": null,
      "outputs": [
        {
          "output_type": "execute_result",
          "data": {
            "text/html": [
              "<div>\n",
              "<style scoped>\n",
              "    .dataframe tbody tr th:only-of-type {\n",
              "        vertical-align: middle;\n",
              "    }\n",
              "\n",
              "    .dataframe tbody tr th {\n",
              "        vertical-align: top;\n",
              "    }\n",
              "\n",
              "    .dataframe thead th {\n",
              "        text-align: right;\n",
              "    }\n",
              "</style>\n",
              "<table border=\"1\" class=\"dataframe\">\n",
              "  <thead>\n",
              "    <tr style=\"text-align: right;\">\n",
              "      <th></th>\n",
              "      <th>Marks</th>\n",
              "      <th>Bonus</th>\n",
              "      <th>Sum</th>\n",
              "      <th>Age</th>\n",
              "      <th>Name</th>\n",
              "    </tr>\n",
              "  </thead>\n",
              "  <tbody>\n",
              "    <tr>\n",
              "      <th>grade1</th>\n",
              "      <td>98</td>\n",
              "      <td>10</td>\n",
              "      <td>121</td>\n",
              "      <td>23</td>\n",
              "      <td>Andrew</td>\n",
              "    </tr>\n",
              "    <tr>\n",
              "      <th>grade4</th>\n",
              "      <td>89</td>\n",
              "      <td>40</td>\n",
              "      <td>109</td>\n",
              "      <td>20</td>\n",
              "      <td>Stephen</td>\n",
              "    </tr>\n",
              "  </tbody>\n",
              "</table>\n",
              "</div>"
            ],
            "text/plain": [
              "        Marks  Bonus  Sum  Age     Name\n",
              "grade1     98     10  121   23   Andrew\n",
              "grade4     89     40  109   20  Stephen"
            ]
          },
          "metadata": {
            "tags": []
          },
          "execution_count": 41
        }
      ]
    },
    {
      "cell_type": "code",
      "metadata": {
        "id": "sFjSE4K3AsgC",
        "outputId": "c3536a14-7a09-419b-f93e-fdf2230a79c6",
        "colab": {
          "base_uri": "https://localhost:8080/",
          "height": 81
        }
      },
      "source": [
        "#Filtering Data\n",
        "df.loc[df['Name'] == 'Stephen']"
      ],
      "execution_count": null,
      "outputs": [
        {
          "output_type": "execute_result",
          "data": {
            "text/html": [
              "<div>\n",
              "<style scoped>\n",
              "    .dataframe tbody tr th:only-of-type {\n",
              "        vertical-align: middle;\n",
              "    }\n",
              "\n",
              "    .dataframe tbody tr th {\n",
              "        vertical-align: top;\n",
              "    }\n",
              "\n",
              "    .dataframe thead th {\n",
              "        text-align: right;\n",
              "    }\n",
              "</style>\n",
              "<table border=\"1\" class=\"dataframe\">\n",
              "  <thead>\n",
              "    <tr style=\"text-align: right;\">\n",
              "      <th></th>\n",
              "      <th>Marks</th>\n",
              "      <th>Bonus</th>\n",
              "      <th>Sum</th>\n",
              "      <th>Age</th>\n",
              "      <th>Name</th>\n",
              "    </tr>\n",
              "  </thead>\n",
              "  <tbody>\n",
              "    <tr>\n",
              "      <th>grade4</th>\n",
              "      <td>89</td>\n",
              "      <td>40</td>\n",
              "      <td>109</td>\n",
              "      <td>20</td>\n",
              "      <td>Stephen</td>\n",
              "    </tr>\n",
              "  </tbody>\n",
              "</table>\n",
              "</div>"
            ],
            "text/plain": [
              "        Marks  Bonus  Sum  Age     Name\n",
              "grade4     89     40  109   20  Stephen"
            ]
          },
          "metadata": {
            "tags": []
          },
          "execution_count": 42
        }
      ]
    },
    {
      "cell_type": "code",
      "metadata": {
        "id": "h2geXQn0Bmek",
        "outputId": "c6047590-023a-4cf1-ad49-26b146bbe651",
        "colab": {
          "base_uri": "https://localhost:8080/",
          "height": 81
        }
      },
      "source": [
        "df.loc[(df['Sum'] > 85) & (df['Sum'] < 115)]\n"
      ],
      "execution_count": null,
      "outputs": [
        {
          "output_type": "execute_result",
          "data": {
            "text/html": [
              "<div>\n",
              "<style scoped>\n",
              "    .dataframe tbody tr th:only-of-type {\n",
              "        vertical-align: middle;\n",
              "    }\n",
              "\n",
              "    .dataframe tbody tr th {\n",
              "        vertical-align: top;\n",
              "    }\n",
              "\n",
              "    .dataframe thead th {\n",
              "        text-align: right;\n",
              "    }\n",
              "</style>\n",
              "<table border=\"1\" class=\"dataframe\">\n",
              "  <thead>\n",
              "    <tr style=\"text-align: right;\">\n",
              "      <th></th>\n",
              "      <th>Marks</th>\n",
              "      <th>Bonus</th>\n",
              "      <th>Sum</th>\n",
              "      <th>Age</th>\n",
              "      <th>Name</th>\n",
              "    </tr>\n",
              "  </thead>\n",
              "  <tbody>\n",
              "    <tr>\n",
              "      <th>grade4</th>\n",
              "      <td>89</td>\n",
              "      <td>40</td>\n",
              "      <td>109</td>\n",
              "      <td>20</td>\n",
              "      <td>Stephen</td>\n",
              "    </tr>\n",
              "  </tbody>\n",
              "</table>\n",
              "</div>"
            ],
            "text/plain": [
              "        Marks  Bonus  Sum  Age     Name\n",
              "grade4     89     40  109   20  Stephen"
            ]
          },
          "metadata": {
            "tags": []
          },
          "execution_count": 43
        }
      ]
    },
    {
      "cell_type": "code",
      "metadata": {
        "id": "uy5ejk7gBqnO",
        "outputId": "b9b16b69-6f5a-4b04-e417-650eb8dce850",
        "colab": {
          "base_uri": "https://localhost:8080/",
          "height": 363
        }
      },
      "source": [
        "#Methods\n",
        "\n",
        "dict1 = {'Name': pd.Series(['Martin', 'Jack', 'Mary', 'David', 'Stephen', 'Shannon', 'Angela', 'Stephanie', 'Philip', 'Michael']), \n",
        "        'Age': pd.Series([34,23,56,34,27,43,33,54,44,41]), 'Rating': pd.Series([4.23,3.24,3.98,2.56,3.20,4.6,3.8,3.78,2.98,4.80])}\n",
        "\n",
        "dfg = pd.DataFrame(dict1)\n",
        "\n",
        "dfg"
      ],
      "execution_count": null,
      "outputs": [
        {
          "output_type": "execute_result",
          "data": {
            "text/html": [
              "<div>\n",
              "<style scoped>\n",
              "    .dataframe tbody tr th:only-of-type {\n",
              "        vertical-align: middle;\n",
              "    }\n",
              "\n",
              "    .dataframe tbody tr th {\n",
              "        vertical-align: top;\n",
              "    }\n",
              "\n",
              "    .dataframe thead th {\n",
              "        text-align: right;\n",
              "    }\n",
              "</style>\n",
              "<table border=\"1\" class=\"dataframe\">\n",
              "  <thead>\n",
              "    <tr style=\"text-align: right;\">\n",
              "      <th></th>\n",
              "      <th>Name</th>\n",
              "      <th>Age</th>\n",
              "      <th>Rating</th>\n",
              "    </tr>\n",
              "  </thead>\n",
              "  <tbody>\n",
              "    <tr>\n",
              "      <th>0</th>\n",
              "      <td>Martin</td>\n",
              "      <td>34</td>\n",
              "      <td>4.23</td>\n",
              "    </tr>\n",
              "    <tr>\n",
              "      <th>1</th>\n",
              "      <td>Jack</td>\n",
              "      <td>23</td>\n",
              "      <td>3.24</td>\n",
              "    </tr>\n",
              "    <tr>\n",
              "      <th>2</th>\n",
              "      <td>Mary</td>\n",
              "      <td>56</td>\n",
              "      <td>3.98</td>\n",
              "    </tr>\n",
              "    <tr>\n",
              "      <th>3</th>\n",
              "      <td>David</td>\n",
              "      <td>34</td>\n",
              "      <td>2.56</td>\n",
              "    </tr>\n",
              "    <tr>\n",
              "      <th>4</th>\n",
              "      <td>Stephen</td>\n",
              "      <td>27</td>\n",
              "      <td>3.20</td>\n",
              "    </tr>\n",
              "    <tr>\n",
              "      <th>5</th>\n",
              "      <td>Shannon</td>\n",
              "      <td>43</td>\n",
              "      <td>4.60</td>\n",
              "    </tr>\n",
              "    <tr>\n",
              "      <th>6</th>\n",
              "      <td>Angela</td>\n",
              "      <td>33</td>\n",
              "      <td>3.80</td>\n",
              "    </tr>\n",
              "    <tr>\n",
              "      <th>7</th>\n",
              "      <td>Stephanie</td>\n",
              "      <td>54</td>\n",
              "      <td>3.78</td>\n",
              "    </tr>\n",
              "    <tr>\n",
              "      <th>8</th>\n",
              "      <td>Philip</td>\n",
              "      <td>44</td>\n",
              "      <td>2.98</td>\n",
              "    </tr>\n",
              "    <tr>\n",
              "      <th>9</th>\n",
              "      <td>Michael</td>\n",
              "      <td>41</td>\n",
              "      <td>4.80</td>\n",
              "    </tr>\n",
              "  </tbody>\n",
              "</table>\n",
              "</div>"
            ],
            "text/plain": [
              "        Name  Age  Rating\n",
              "0     Martin   34    4.23\n",
              "1       Jack   23    3.24\n",
              "2       Mary   56    3.98\n",
              "3      David   34    2.56\n",
              "4    Stephen   27    3.20\n",
              "5    Shannon   43    4.60\n",
              "6     Angela   33    3.80\n",
              "7  Stephanie   54    3.78\n",
              "8     Philip   44    2.98\n",
              "9    Michael   41    4.80"
            ]
          },
          "metadata": {
            "tags": []
          },
          "execution_count": 44
        }
      ]
    },
    {
      "cell_type": "code",
      "metadata": {
        "id": "KBfxXmaLCMiv",
        "outputId": "2b23b9f3-4808-46b1-c761-cd73f6b9bd13",
        "colab": {
          "base_uri": "https://localhost:8080/",
          "height": 143
        }
      },
      "source": [
        "#Transpose\n",
        "\n",
        "dfg.T\n"
      ],
      "execution_count": null,
      "outputs": [
        {
          "output_type": "execute_result",
          "data": {
            "text/html": [
              "<div>\n",
              "<style scoped>\n",
              "    .dataframe tbody tr th:only-of-type {\n",
              "        vertical-align: middle;\n",
              "    }\n",
              "\n",
              "    .dataframe tbody tr th {\n",
              "        vertical-align: top;\n",
              "    }\n",
              "\n",
              "    .dataframe thead th {\n",
              "        text-align: right;\n",
              "    }\n",
              "</style>\n",
              "<table border=\"1\" class=\"dataframe\">\n",
              "  <thead>\n",
              "    <tr style=\"text-align: right;\">\n",
              "      <th></th>\n",
              "      <th>0</th>\n",
              "      <th>1</th>\n",
              "      <th>2</th>\n",
              "      <th>3</th>\n",
              "      <th>4</th>\n",
              "      <th>5</th>\n",
              "      <th>6</th>\n",
              "      <th>7</th>\n",
              "      <th>8</th>\n",
              "      <th>9</th>\n",
              "    </tr>\n",
              "  </thead>\n",
              "  <tbody>\n",
              "    <tr>\n",
              "      <th>Name</th>\n",
              "      <td>Martin</td>\n",
              "      <td>Jack</td>\n",
              "      <td>Mary</td>\n",
              "      <td>David</td>\n",
              "      <td>Stephen</td>\n",
              "      <td>Shannon</td>\n",
              "      <td>Angela</td>\n",
              "      <td>Stephanie</td>\n",
              "      <td>Philip</td>\n",
              "      <td>Michael</td>\n",
              "    </tr>\n",
              "    <tr>\n",
              "      <th>Age</th>\n",
              "      <td>34</td>\n",
              "      <td>23</td>\n",
              "      <td>56</td>\n",
              "      <td>34</td>\n",
              "      <td>27</td>\n",
              "      <td>43</td>\n",
              "      <td>33</td>\n",
              "      <td>54</td>\n",
              "      <td>44</td>\n",
              "      <td>41</td>\n",
              "    </tr>\n",
              "    <tr>\n",
              "      <th>Rating</th>\n",
              "      <td>4.23</td>\n",
              "      <td>3.24</td>\n",
              "      <td>3.98</td>\n",
              "      <td>2.56</td>\n",
              "      <td>3.2</td>\n",
              "      <td>4.6</td>\n",
              "      <td>3.8</td>\n",
              "      <td>3.78</td>\n",
              "      <td>2.98</td>\n",
              "      <td>4.8</td>\n",
              "    </tr>\n",
              "  </tbody>\n",
              "</table>\n",
              "</div>"
            ],
            "text/plain": [
              "             0     1     2      3  ...       6          7       8        9\n",
              "Name    Martin  Jack  Mary  David  ...  Angela  Stephanie  Philip  Michael\n",
              "Age         34    23    56     34  ...      33         54      44       41\n",
              "Rating    4.23  3.24  3.98   2.56  ...     3.8       3.78    2.98      4.8\n",
              "\n",
              "[3 rows x 10 columns]"
            ]
          },
          "metadata": {
            "tags": []
          },
          "execution_count": 45
        }
      ]
    },
    {
      "cell_type": "code",
      "metadata": {
        "id": "pgeyI4njCRGz",
        "outputId": "353e4020-96cf-4f0d-c9cf-c60bc1cafa1d",
        "colab": {
          "base_uri": "https://localhost:8080/"
        }
      },
      "source": [
        "#axes\n",
        "#For columns too, it is called index in DataFrame\n",
        "\n",
        "dfg.axes\n"
      ],
      "execution_count": null,
      "outputs": [
        {
          "output_type": "execute_result",
          "data": {
            "text/plain": [
              "[RangeIndex(start=0, stop=10, step=1),\n",
              " Index(['Name', 'Age', 'Rating'], dtype='object')]"
            ]
          },
          "metadata": {
            "tags": []
          },
          "execution_count": 46
        }
      ]
    },
    {
      "cell_type": "code",
      "metadata": {
        "id": "obxKyislCVpv",
        "outputId": "201990fa-43be-4cb6-9989-8b75316dd646",
        "colab": {
          "base_uri": "https://localhost:8080/"
        }
      },
      "source": [
        "#datatypes\n",
        "\n",
        "dfg.dtypes\n"
      ],
      "execution_count": null,
      "outputs": [
        {
          "output_type": "execute_result",
          "data": {
            "text/plain": [
              "Name       object\n",
              "Age         int64\n",
              "Rating    float64\n",
              "dtype: object"
            ]
          },
          "metadata": {
            "tags": []
          },
          "execution_count": 47
        }
      ]
    },
    {
      "cell_type": "code",
      "metadata": {
        "id": "70F9OYj8Cp1Z",
        "outputId": "4f6c2848-30a8-4341-998e-81b27423a8ed",
        "colab": {
          "base_uri": "https://localhost:8080/"
        }
      },
      "source": [
        "#shapes\n",
        "\n",
        "dfg.shape\n"
      ],
      "execution_count": null,
      "outputs": [
        {
          "output_type": "execute_result",
          "data": {
            "text/plain": [
              "(10, 3)"
            ]
          },
          "metadata": {
            "tags": []
          },
          "execution_count": 48
        }
      ]
    },
    {
      "cell_type": "code",
      "metadata": {
        "id": "0RqImHyXCsty",
        "outputId": "d698bf9d-1ec0-4271-f60a-aeaf73713f80",
        "colab": {
          "base_uri": "https://localhost:8080/"
        }
      },
      "source": [
        "#Size\n",
        "\n",
        "dfg.size"
      ],
      "execution_count": null,
      "outputs": [
        {
          "output_type": "execute_result",
          "data": {
            "text/plain": [
              "30"
            ]
          },
          "metadata": {
            "tags": []
          },
          "execution_count": 49
        }
      ]
    },
    {
      "cell_type": "code",
      "metadata": {
        "id": "kXVDDXbxCx-m",
        "outputId": "20bfff36-3f64-45ea-e8e1-6c078e0c79aa",
        "colab": {
          "base_uri": "https://localhost:8080/"
        }
      },
      "source": [
        "#Values\n",
        "\n",
        "dfg.values\n"
      ],
      "execution_count": null,
      "outputs": [
        {
          "output_type": "execute_result",
          "data": {
            "text/plain": [
              "array([['Martin', 34, 4.23],\n",
              "       ['Jack', 23, 3.24],\n",
              "       ['Mary', 56, 3.98],\n",
              "       ['David', 34, 2.56],\n",
              "       ['Stephen', 27, 3.2],\n",
              "       ['Shannon', 43, 4.6],\n",
              "       ['Angela', 33, 3.8],\n",
              "       ['Stephanie', 54, 3.78],\n",
              "       ['Philip', 44, 2.98],\n",
              "       ['Michael', 41, 4.8]], dtype=object)"
            ]
          },
          "metadata": {
            "tags": []
          },
          "execution_count": 50
        }
      ]
    },
    {
      "cell_type": "code",
      "metadata": {
        "id": "Q1dGbCfCC1OK",
        "outputId": "cf0f90fe-b187-4b0b-e585-f3365b600b46",
        "colab": {
          "base_uri": "https://localhost:8080/"
        }
      },
      "source": [
        "\n",
        "#sum, mean, std, count\n",
        "\n",
        "dfg.sum()\n"
      ],
      "execution_count": null,
      "outputs": [
        {
          "output_type": "execute_result",
          "data": {
            "text/plain": [
              "Name      MartinJackMaryDavidStephenShannonAngelaStephan...\n",
              "Age                                                     389\n",
              "Rating                                                37.17\n",
              "dtype: object"
            ]
          },
          "metadata": {
            "tags": []
          },
          "execution_count": 51
        }
      ]
    },
    {
      "cell_type": "code",
      "metadata": {
        "id": "gVWwkXbhC66t",
        "outputId": "b8ef20c4-03e2-4b77-b0e6-b94f8a336b4c",
        "colab": {
          "base_uri": "https://localhost:8080/"
        }
      },
      "source": [
        "\n",
        "dfg.sum(axis = 1) \n"
      ],
      "execution_count": null,
      "outputs": [
        {
          "output_type": "execute_result",
          "data": {
            "text/plain": [
              "0    38.23\n",
              "1    26.24\n",
              "2    59.98\n",
              "3    36.56\n",
              "4    30.20\n",
              "5    47.60\n",
              "6    36.80\n",
              "7    57.78\n",
              "8    46.98\n",
              "9    45.80\n",
              "dtype: float64"
            ]
          },
          "metadata": {
            "tags": []
          },
          "execution_count": 52
        }
      ]
    },
    {
      "cell_type": "code",
      "metadata": {
        "id": "DRDtBzCDDVnN",
        "outputId": "05ea4c5a-00f5-48e0-ed09-50164376f379",
        "colab": {
          "base_uri": "https://localhost:8080/"
        }
      },
      "source": [
        "\n",
        "dfg.mean()\n"
      ],
      "execution_count": null,
      "outputs": [
        {
          "output_type": "execute_result",
          "data": {
            "text/plain": [
              "Age       38.900\n",
              "Rating     3.717\n",
              "dtype: float64"
            ]
          },
          "metadata": {
            "tags": []
          },
          "execution_count": 53
        }
      ]
    },
    {
      "cell_type": "code",
      "metadata": {
        "id": "XmD2VOwUDZwT",
        "outputId": "656386be-38df-470c-c1f8-88914b91075e",
        "colab": {
          "base_uri": "https://localhost:8080/"
        }
      },
      "source": [
        "\n",
        "dfg.std()\n"
      ],
      "execution_count": null,
      "outputs": [
        {
          "output_type": "execute_result",
          "data": {
            "text/plain": [
              "Age       10.774971\n",
              "Rating     0.720525\n",
              "dtype: float64"
            ]
          },
          "metadata": {
            "tags": []
          },
          "execution_count": 54
        }
      ]
    },
    {
      "cell_type": "code",
      "metadata": {
        "id": "8fEPu8inDb4c",
        "outputId": "c77fed87-dc5d-4a3d-bb2c-64db00dad12d",
        "colab": {
          "base_uri": "https://localhost:8080/"
        }
      },
      "source": [
        "dfg.count(axis = 1) \n"
      ],
      "execution_count": null,
      "outputs": [
        {
          "output_type": "execute_result",
          "data": {
            "text/plain": [
              "0    3\n",
              "1    3\n",
              "2    3\n",
              "3    3\n",
              "4    3\n",
              "5    3\n",
              "6    3\n",
              "7    3\n",
              "8    3\n",
              "9    3\n",
              "dtype: int64"
            ]
          },
          "metadata": {
            "tags": []
          },
          "execution_count": 55
        }
      ]
    },
    {
      "cell_type": "code",
      "metadata": {
        "id": "-DijvShNDjGP",
        "outputId": "b476a623-c870-42df-a6a1-3db8f5be054a",
        "colab": {
          "base_uri": "https://localhost:8080/",
          "height": 300
        }
      },
      "source": [
        "\n",
        "#Data Summary - shows summary of statistics\n",
        "\n",
        "dfg.describe()\n"
      ],
      "execution_count": null,
      "outputs": [
        {
          "output_type": "execute_result",
          "data": {
            "text/html": [
              "<div>\n",
              "<style scoped>\n",
              "    .dataframe tbody tr th:only-of-type {\n",
              "        vertical-align: middle;\n",
              "    }\n",
              "\n",
              "    .dataframe tbody tr th {\n",
              "        vertical-align: top;\n",
              "    }\n",
              "\n",
              "    .dataframe thead th {\n",
              "        text-align: right;\n",
              "    }\n",
              "</style>\n",
              "<table border=\"1\" class=\"dataframe\">\n",
              "  <thead>\n",
              "    <tr style=\"text-align: right;\">\n",
              "      <th></th>\n",
              "      <th>Age</th>\n",
              "      <th>Rating</th>\n",
              "    </tr>\n",
              "  </thead>\n",
              "  <tbody>\n",
              "    <tr>\n",
              "      <th>count</th>\n",
              "      <td>10.000000</td>\n",
              "      <td>10.000000</td>\n",
              "    </tr>\n",
              "    <tr>\n",
              "      <th>mean</th>\n",
              "      <td>38.900000</td>\n",
              "      <td>3.717000</td>\n",
              "    </tr>\n",
              "    <tr>\n",
              "      <th>std</th>\n",
              "      <td>10.774971</td>\n",
              "      <td>0.720525</td>\n",
              "    </tr>\n",
              "    <tr>\n",
              "      <th>min</th>\n",
              "      <td>23.000000</td>\n",
              "      <td>2.560000</td>\n",
              "    </tr>\n",
              "    <tr>\n",
              "      <th>25%</th>\n",
              "      <td>33.250000</td>\n",
              "      <td>3.210000</td>\n",
              "    </tr>\n",
              "    <tr>\n",
              "      <th>50%</th>\n",
              "      <td>37.500000</td>\n",
              "      <td>3.790000</td>\n",
              "    </tr>\n",
              "    <tr>\n",
              "      <th>75%</th>\n",
              "      <td>43.750000</td>\n",
              "      <td>4.167500</td>\n",
              "    </tr>\n",
              "    <tr>\n",
              "      <th>max</th>\n",
              "      <td>56.000000</td>\n",
              "      <td>4.800000</td>\n",
              "    </tr>\n",
              "  </tbody>\n",
              "</table>\n",
              "</div>"
            ],
            "text/plain": [
              "             Age     Rating\n",
              "count  10.000000  10.000000\n",
              "mean   38.900000   3.717000\n",
              "std    10.774971   0.720525\n",
              "min    23.000000   2.560000\n",
              "25%    33.250000   3.210000\n",
              "50%    37.500000   3.790000\n",
              "75%    43.750000   4.167500\n",
              "max    56.000000   4.800000"
            ]
          },
          "metadata": {
            "tags": []
          },
          "execution_count": 56
        }
      ]
    },
    {
      "cell_type": "code",
      "metadata": {
        "id": "p1foW4eEDp80",
        "outputId": "58e86be0-6092-45b9-c886-81a0305250f7",
        "colab": {
          "base_uri": "https://localhost:8080/",
          "height": 363
        }
      },
      "source": [
        "#Sorting\n",
        "#By Index\n",
        "#By default, in this function, ascending is always True\n",
        "\n",
        "sorted_dfg = dfg.sort_index(ascending = False)\n",
        "\n",
        "sorted_dfg\n"
      ],
      "execution_count": null,
      "outputs": [
        {
          "output_type": "execute_result",
          "data": {
            "text/html": [
              "<div>\n",
              "<style scoped>\n",
              "    .dataframe tbody tr th:only-of-type {\n",
              "        vertical-align: middle;\n",
              "    }\n",
              "\n",
              "    .dataframe tbody tr th {\n",
              "        vertical-align: top;\n",
              "    }\n",
              "\n",
              "    .dataframe thead th {\n",
              "        text-align: right;\n",
              "    }\n",
              "</style>\n",
              "<table border=\"1\" class=\"dataframe\">\n",
              "  <thead>\n",
              "    <tr style=\"text-align: right;\">\n",
              "      <th></th>\n",
              "      <th>Name</th>\n",
              "      <th>Age</th>\n",
              "      <th>Rating</th>\n",
              "    </tr>\n",
              "  </thead>\n",
              "  <tbody>\n",
              "    <tr>\n",
              "      <th>9</th>\n",
              "      <td>Michael</td>\n",
              "      <td>41</td>\n",
              "      <td>4.80</td>\n",
              "    </tr>\n",
              "    <tr>\n",
              "      <th>8</th>\n",
              "      <td>Philip</td>\n",
              "      <td>44</td>\n",
              "      <td>2.98</td>\n",
              "    </tr>\n",
              "    <tr>\n",
              "      <th>7</th>\n",
              "      <td>Stephanie</td>\n",
              "      <td>54</td>\n",
              "      <td>3.78</td>\n",
              "    </tr>\n",
              "    <tr>\n",
              "      <th>6</th>\n",
              "      <td>Angela</td>\n",
              "      <td>33</td>\n",
              "      <td>3.80</td>\n",
              "    </tr>\n",
              "    <tr>\n",
              "      <th>5</th>\n",
              "      <td>Shannon</td>\n",
              "      <td>43</td>\n",
              "      <td>4.60</td>\n",
              "    </tr>\n",
              "    <tr>\n",
              "      <th>4</th>\n",
              "      <td>Stephen</td>\n",
              "      <td>27</td>\n",
              "      <td>3.20</td>\n",
              "    </tr>\n",
              "    <tr>\n",
              "      <th>3</th>\n",
              "      <td>David</td>\n",
              "      <td>34</td>\n",
              "      <td>2.56</td>\n",
              "    </tr>\n",
              "    <tr>\n",
              "      <th>2</th>\n",
              "      <td>Mary</td>\n",
              "      <td>56</td>\n",
              "      <td>3.98</td>\n",
              "    </tr>\n",
              "    <tr>\n",
              "      <th>1</th>\n",
              "      <td>Jack</td>\n",
              "      <td>23</td>\n",
              "      <td>3.24</td>\n",
              "    </tr>\n",
              "    <tr>\n",
              "      <th>0</th>\n",
              "      <td>Martin</td>\n",
              "      <td>34</td>\n",
              "      <td>4.23</td>\n",
              "    </tr>\n",
              "  </tbody>\n",
              "</table>\n",
              "</div>"
            ],
            "text/plain": [
              "        Name  Age  Rating\n",
              "9    Michael   41    4.80\n",
              "8     Philip   44    2.98\n",
              "7  Stephanie   54    3.78\n",
              "6     Angela   33    3.80\n",
              "5    Shannon   43    4.60\n",
              "4    Stephen   27    3.20\n",
              "3      David   34    2.56\n",
              "2       Mary   56    3.98\n",
              "1       Jack   23    3.24\n",
              "0     Martin   34    4.23"
            ]
          },
          "metadata": {
            "tags": []
          },
          "execution_count": 58
        }
      ]
    },
    {
      "cell_type": "code",
      "metadata": {
        "id": "_uwUeF-0FzLs",
        "outputId": "e8bce77a-4a77-405b-b947-570876244704",
        "colab": {
          "base_uri": "https://localhost:8080/",
          "height": 363
        }
      },
      "source": [
        "#Sorting by Values\n",
        "\n",
        "sorted_age= dfg.sort_values('Age')\n",
        "\n",
        "sorted_age\n"
      ],
      "execution_count": null,
      "outputs": [
        {
          "output_type": "execute_result",
          "data": {
            "text/html": [
              "<div>\n",
              "<style scoped>\n",
              "    .dataframe tbody tr th:only-of-type {\n",
              "        vertical-align: middle;\n",
              "    }\n",
              "\n",
              "    .dataframe tbody tr th {\n",
              "        vertical-align: top;\n",
              "    }\n",
              "\n",
              "    .dataframe thead th {\n",
              "        text-align: right;\n",
              "    }\n",
              "</style>\n",
              "<table border=\"1\" class=\"dataframe\">\n",
              "  <thead>\n",
              "    <tr style=\"text-align: right;\">\n",
              "      <th></th>\n",
              "      <th>Name</th>\n",
              "      <th>Age</th>\n",
              "      <th>Rating</th>\n",
              "    </tr>\n",
              "  </thead>\n",
              "  <tbody>\n",
              "    <tr>\n",
              "      <th>1</th>\n",
              "      <td>Jack</td>\n",
              "      <td>23</td>\n",
              "      <td>3.24</td>\n",
              "    </tr>\n",
              "    <tr>\n",
              "      <th>4</th>\n",
              "      <td>Stephen</td>\n",
              "      <td>27</td>\n",
              "      <td>3.20</td>\n",
              "    </tr>\n",
              "    <tr>\n",
              "      <th>6</th>\n",
              "      <td>Angela</td>\n",
              "      <td>33</td>\n",
              "      <td>3.80</td>\n",
              "    </tr>\n",
              "    <tr>\n",
              "      <th>0</th>\n",
              "      <td>Martin</td>\n",
              "      <td>34</td>\n",
              "      <td>4.23</td>\n",
              "    </tr>\n",
              "    <tr>\n",
              "      <th>3</th>\n",
              "      <td>David</td>\n",
              "      <td>34</td>\n",
              "      <td>2.56</td>\n",
              "    </tr>\n",
              "    <tr>\n",
              "      <th>9</th>\n",
              "      <td>Michael</td>\n",
              "      <td>41</td>\n",
              "      <td>4.80</td>\n",
              "    </tr>\n",
              "    <tr>\n",
              "      <th>5</th>\n",
              "      <td>Shannon</td>\n",
              "      <td>43</td>\n",
              "      <td>4.60</td>\n",
              "    </tr>\n",
              "    <tr>\n",
              "      <th>8</th>\n",
              "      <td>Philip</td>\n",
              "      <td>44</td>\n",
              "      <td>2.98</td>\n",
              "    </tr>\n",
              "    <tr>\n",
              "      <th>7</th>\n",
              "      <td>Stephanie</td>\n",
              "      <td>54</td>\n",
              "      <td>3.78</td>\n",
              "    </tr>\n",
              "    <tr>\n",
              "      <th>2</th>\n",
              "      <td>Mary</td>\n",
              "      <td>56</td>\n",
              "      <td>3.98</td>\n",
              "    </tr>\n",
              "  </tbody>\n",
              "</table>\n",
              "</div>"
            ],
            "text/plain": [
              "        Name  Age  Rating\n",
              "1       Jack   23    3.24\n",
              "4    Stephen   27    3.20\n",
              "6     Angela   33    3.80\n",
              "0     Martin   34    4.23\n",
              "3      David   34    2.56\n",
              "9    Michael   41    4.80\n",
              "5    Shannon   43    4.60\n",
              "8     Philip   44    2.98\n",
              "7  Stephanie   54    3.78\n",
              "2       Mary   56    3.98"
            ]
          },
          "metadata": {
            "tags": []
          },
          "execution_count": 59
        }
      ]
    },
    {
      "cell_type": "code",
      "metadata": {
        "id": "3cSV5gpKGCph"
      },
      "source": [
        "#Dataframe with missing values\n",
        "\n",
        "raw_data = {'first_name': ['Martin', 'Jack', np.nan, 'David', 'Stephen'], \n",
        "            'last_name': ['Duston', np.nan, 'Miller', 'Ross', 'Still'],\n",
        "            'age': [42, 36, np.nan, 24, 73], \n",
        "            'sex': ['m', np.nan, np.nan, 'f', np.nan],\n",
        "            'preTestScore': [4, np.nan, 2, np.nan,  3],\n",
        "            'postTestScore': [25, np.nan, np.nan, 62, 70]}\n",
        "\n",
        "df = pd.DataFrame(raw_data, columns = ['first_name', 'last_name', 'age', 'sex', 'preTestScore', 'postTestScore'])\n",
        "\n",
        "\n"
      ],
      "execution_count": null,
      "outputs": []
    },
    {
      "cell_type": "code",
      "metadata": {
        "id": "kTCUQQOhGI2k",
        "outputId": "f94e970b-5b17-4f0c-9245-dbb6900406ee",
        "colab": {
          "base_uri": "https://localhost:8080/",
          "height": 206
        }
      },
      "source": [
        "#identifying the missing values\n",
        "\n",
        "df.isnull()\n"
      ],
      "execution_count": null,
      "outputs": [
        {
          "output_type": "execute_result",
          "data": {
            "text/html": [
              "<div>\n",
              "<style scoped>\n",
              "    .dataframe tbody tr th:only-of-type {\n",
              "        vertical-align: middle;\n",
              "    }\n",
              "\n",
              "    .dataframe tbody tr th {\n",
              "        vertical-align: top;\n",
              "    }\n",
              "\n",
              "    .dataframe thead th {\n",
              "        text-align: right;\n",
              "    }\n",
              "</style>\n",
              "<table border=\"1\" class=\"dataframe\">\n",
              "  <thead>\n",
              "    <tr style=\"text-align: right;\">\n",
              "      <th></th>\n",
              "      <th>first_name</th>\n",
              "      <th>last_name</th>\n",
              "      <th>age</th>\n",
              "      <th>sex</th>\n",
              "      <th>preTestScore</th>\n",
              "      <th>postTestScore</th>\n",
              "    </tr>\n",
              "  </thead>\n",
              "  <tbody>\n",
              "    <tr>\n",
              "      <th>0</th>\n",
              "      <td>False</td>\n",
              "      <td>False</td>\n",
              "      <td>False</td>\n",
              "      <td>False</td>\n",
              "      <td>False</td>\n",
              "      <td>False</td>\n",
              "    </tr>\n",
              "    <tr>\n",
              "      <th>1</th>\n",
              "      <td>False</td>\n",
              "      <td>True</td>\n",
              "      <td>False</td>\n",
              "      <td>True</td>\n",
              "      <td>True</td>\n",
              "      <td>True</td>\n",
              "    </tr>\n",
              "    <tr>\n",
              "      <th>2</th>\n",
              "      <td>True</td>\n",
              "      <td>False</td>\n",
              "      <td>True</td>\n",
              "      <td>True</td>\n",
              "      <td>False</td>\n",
              "      <td>True</td>\n",
              "    </tr>\n",
              "    <tr>\n",
              "      <th>3</th>\n",
              "      <td>False</td>\n",
              "      <td>False</td>\n",
              "      <td>False</td>\n",
              "      <td>False</td>\n",
              "      <td>True</td>\n",
              "      <td>False</td>\n",
              "    </tr>\n",
              "    <tr>\n",
              "      <th>4</th>\n",
              "      <td>False</td>\n",
              "      <td>False</td>\n",
              "      <td>False</td>\n",
              "      <td>True</td>\n",
              "      <td>False</td>\n",
              "      <td>False</td>\n",
              "    </tr>\n",
              "  </tbody>\n",
              "</table>\n",
              "</div>"
            ],
            "text/plain": [
              "   first_name  last_name    age    sex  preTestScore  postTestScore\n",
              "0       False      False  False  False         False          False\n",
              "1       False       True  False   True          True           True\n",
              "2        True      False   True   True         False           True\n",
              "3       False      False  False  False          True          False\n",
              "4       False      False  False   True         False          False"
            ]
          },
          "metadata": {
            "tags": []
          },
          "execution_count": 62
        }
      ]
    },
    {
      "cell_type": "code",
      "metadata": {
        "id": "_xbLqwQIGZCb",
        "outputId": "204ae897-fce1-4f2b-e561-a3bda52b25ce",
        "colab": {
          "base_uri": "https://localhost:8080/"
        }
      },
      "source": [
        "\n",
        "df.isnull().sum()\n"
      ],
      "execution_count": null,
      "outputs": [
        {
          "output_type": "execute_result",
          "data": {
            "text/plain": [
              "first_name       1\n",
              "last_name        1\n",
              "age              1\n",
              "sex              3\n",
              "preTestScore     2\n",
              "postTestScore    2\n",
              "dtype: int64"
            ]
          },
          "metadata": {
            "tags": []
          },
          "execution_count": 64
        }
      ]
    },
    {
      "cell_type": "code",
      "metadata": {
        "id": "obdJaM1xGhCL",
        "outputId": "e22d3ec6-bba4-46d2-f6b8-07aee40eb664",
        "colab": {
          "base_uri": "https://localhost:8080/",
          "height": 81
        }
      },
      "source": [
        "\n",
        "#Drop rows with missing values\n",
        "\n",
        "df_drop = df.dropna()\n",
        "\n",
        "df_drop\n",
        "\n"
      ],
      "execution_count": null,
      "outputs": [
        {
          "output_type": "execute_result",
          "data": {
            "text/html": [
              "<div>\n",
              "<style scoped>\n",
              "    .dataframe tbody tr th:only-of-type {\n",
              "        vertical-align: middle;\n",
              "    }\n",
              "\n",
              "    .dataframe tbody tr th {\n",
              "        vertical-align: top;\n",
              "    }\n",
              "\n",
              "    .dataframe thead th {\n",
              "        text-align: right;\n",
              "    }\n",
              "</style>\n",
              "<table border=\"1\" class=\"dataframe\">\n",
              "  <thead>\n",
              "    <tr style=\"text-align: right;\">\n",
              "      <th></th>\n",
              "      <th>first_name</th>\n",
              "      <th>last_name</th>\n",
              "      <th>age</th>\n",
              "      <th>sex</th>\n",
              "      <th>preTestScore</th>\n",
              "      <th>postTestScore</th>\n",
              "    </tr>\n",
              "  </thead>\n",
              "  <tbody>\n",
              "    <tr>\n",
              "      <th>0</th>\n",
              "      <td>Martin</td>\n",
              "      <td>Duston</td>\n",
              "      <td>42.0</td>\n",
              "      <td>m</td>\n",
              "      <td>4.0</td>\n",
              "      <td>25.0</td>\n",
              "    </tr>\n",
              "  </tbody>\n",
              "</table>\n",
              "</div>"
            ],
            "text/plain": [
              "  first_name last_name   age sex  preTestScore  postTestScore\n",
              "0     Martin    Duston  42.0   m           4.0           25.0"
            ]
          },
          "metadata": {
            "tags": []
          },
          "execution_count": 65
        }
      ]
    },
    {
      "cell_type": "code",
      "metadata": {
        "id": "vYzo1yr6GlgW",
        "outputId": "d2801053-c5f9-4d5b-ffe4-304a3427e860",
        "colab": {
          "base_uri": "https://localhost:8080/",
          "height": 206
        }
      },
      "source": [
        "#Create a new column full of missing values\n",
        "\n",
        "df['new'] = np.nan\n",
        "\n",
        "df"
      ],
      "execution_count": null,
      "outputs": [
        {
          "output_type": "execute_result",
          "data": {
            "text/html": [
              "<div>\n",
              "<style scoped>\n",
              "    .dataframe tbody tr th:only-of-type {\n",
              "        vertical-align: middle;\n",
              "    }\n",
              "\n",
              "    .dataframe tbody tr th {\n",
              "        vertical-align: top;\n",
              "    }\n",
              "\n",
              "    .dataframe thead th {\n",
              "        text-align: right;\n",
              "    }\n",
              "</style>\n",
              "<table border=\"1\" class=\"dataframe\">\n",
              "  <thead>\n",
              "    <tr style=\"text-align: right;\">\n",
              "      <th></th>\n",
              "      <th>first_name</th>\n",
              "      <th>last_name</th>\n",
              "      <th>age</th>\n",
              "      <th>sex</th>\n",
              "      <th>preTestScore</th>\n",
              "      <th>postTestScore</th>\n",
              "      <th>new</th>\n",
              "    </tr>\n",
              "  </thead>\n",
              "  <tbody>\n",
              "    <tr>\n",
              "      <th>0</th>\n",
              "      <td>Martin</td>\n",
              "      <td>Duston</td>\n",
              "      <td>42.0</td>\n",
              "      <td>m</td>\n",
              "      <td>4.0</td>\n",
              "      <td>25.0</td>\n",
              "      <td>NaN</td>\n",
              "    </tr>\n",
              "    <tr>\n",
              "      <th>1</th>\n",
              "      <td>Jack</td>\n",
              "      <td>NaN</td>\n",
              "      <td>36.0</td>\n",
              "      <td>NaN</td>\n",
              "      <td>NaN</td>\n",
              "      <td>NaN</td>\n",
              "      <td>NaN</td>\n",
              "    </tr>\n",
              "    <tr>\n",
              "      <th>2</th>\n",
              "      <td>NaN</td>\n",
              "      <td>Miller</td>\n",
              "      <td>NaN</td>\n",
              "      <td>NaN</td>\n",
              "      <td>2.0</td>\n",
              "      <td>NaN</td>\n",
              "      <td>NaN</td>\n",
              "    </tr>\n",
              "    <tr>\n",
              "      <th>3</th>\n",
              "      <td>David</td>\n",
              "      <td>Ross</td>\n",
              "      <td>24.0</td>\n",
              "      <td>f</td>\n",
              "      <td>NaN</td>\n",
              "      <td>62.0</td>\n",
              "      <td>NaN</td>\n",
              "    </tr>\n",
              "    <tr>\n",
              "      <th>4</th>\n",
              "      <td>Stephen</td>\n",
              "      <td>Still</td>\n",
              "      <td>73.0</td>\n",
              "      <td>NaN</td>\n",
              "      <td>3.0</td>\n",
              "      <td>70.0</td>\n",
              "      <td>NaN</td>\n",
              "    </tr>\n",
              "  </tbody>\n",
              "</table>\n",
              "</div>"
            ],
            "text/plain": [
              "  first_name last_name   age  sex  preTestScore  postTestScore  new\n",
              "0     Martin    Duston  42.0    m           4.0           25.0  NaN\n",
              "1       Jack       NaN  36.0  NaN           NaN            NaN  NaN\n",
              "2        NaN    Miller   NaN  NaN           2.0            NaN  NaN\n",
              "3      David      Ross  24.0    f           NaN           62.0  NaN\n",
              "4    Stephen     Still  73.0  NaN           3.0           70.0  NaN"
            ]
          },
          "metadata": {
            "tags": []
          },
          "execution_count": 66
        }
      ]
    },
    {
      "cell_type": "code",
      "metadata": {
        "id": "iFr7MIobG157",
        "outputId": "1592dfff-1c3c-4d8f-fd50-4cfa3eaf1659",
        "colab": {
          "base_uri": "https://localhost:8080/",
          "height": 206
        }
      },
      "source": [
        "#Drop column if they only contain missing values\n",
        "\n",
        "df.dropna(axis=1,how=\"all\",inplace=True)\n",
        "\n",
        "df"
      ],
      "execution_count": null,
      "outputs": [
        {
          "output_type": "execute_result",
          "data": {
            "text/html": [
              "<div>\n",
              "<style scoped>\n",
              "    .dataframe tbody tr th:only-of-type {\n",
              "        vertical-align: middle;\n",
              "    }\n",
              "\n",
              "    .dataframe tbody tr th {\n",
              "        vertical-align: top;\n",
              "    }\n",
              "\n",
              "    .dataframe thead th {\n",
              "        text-align: right;\n",
              "    }\n",
              "</style>\n",
              "<table border=\"1\" class=\"dataframe\">\n",
              "  <thead>\n",
              "    <tr style=\"text-align: right;\">\n",
              "      <th></th>\n",
              "      <th>first_name</th>\n",
              "      <th>last_name</th>\n",
              "      <th>age</th>\n",
              "      <th>sex</th>\n",
              "      <th>preTestScore</th>\n",
              "      <th>postTestScore</th>\n",
              "    </tr>\n",
              "  </thead>\n",
              "  <tbody>\n",
              "    <tr>\n",
              "      <th>0</th>\n",
              "      <td>Martin</td>\n",
              "      <td>Duston</td>\n",
              "      <td>42.0</td>\n",
              "      <td>m</td>\n",
              "      <td>4.0</td>\n",
              "      <td>25.0</td>\n",
              "    </tr>\n",
              "    <tr>\n",
              "      <th>1</th>\n",
              "      <td>Jack</td>\n",
              "      <td>NaN</td>\n",
              "      <td>36.0</td>\n",
              "      <td>NaN</td>\n",
              "      <td>NaN</td>\n",
              "      <td>NaN</td>\n",
              "    </tr>\n",
              "    <tr>\n",
              "      <th>2</th>\n",
              "      <td>NaN</td>\n",
              "      <td>Miller</td>\n",
              "      <td>NaN</td>\n",
              "      <td>NaN</td>\n",
              "      <td>2.0</td>\n",
              "      <td>NaN</td>\n",
              "    </tr>\n",
              "    <tr>\n",
              "      <th>3</th>\n",
              "      <td>David</td>\n",
              "      <td>Ross</td>\n",
              "      <td>24.0</td>\n",
              "      <td>f</td>\n",
              "      <td>NaN</td>\n",
              "      <td>62.0</td>\n",
              "    </tr>\n",
              "    <tr>\n",
              "      <th>4</th>\n",
              "      <td>Stephen</td>\n",
              "      <td>Still</td>\n",
              "      <td>73.0</td>\n",
              "      <td>NaN</td>\n",
              "      <td>3.0</td>\n",
              "      <td>70.0</td>\n",
              "    </tr>\n",
              "  </tbody>\n",
              "</table>\n",
              "</div>"
            ],
            "text/plain": [
              "  first_name last_name   age  sex  preTestScore  postTestScore\n",
              "0     Martin    Duston  42.0    m           4.0           25.0\n",
              "1       Jack       NaN  36.0  NaN           NaN            NaN\n",
              "2        NaN    Miller   NaN  NaN           2.0            NaN\n",
              "3      David      Ross  24.0    f           NaN           62.0\n",
              "4    Stephen     Still  73.0  NaN           3.0           70.0"
            ]
          },
          "metadata": {
            "tags": []
          },
          "execution_count": 67
        }
      ]
    },
    {
      "cell_type": "code",
      "metadata": {
        "id": "8RpxzXFzG6wv",
        "outputId": "6e655a75-57b4-4969-e8d0-ea497fbc8d64",
        "colab": {
          "base_uri": "https://localhost:8080/",
          "height": 206
        }
      },
      "source": [
        "\n",
        "#Fill in missing data with Zeros\n",
        "\n",
        "df.fillna(0)\n"
      ],
      "execution_count": null,
      "outputs": [
        {
          "output_type": "execute_result",
          "data": {
            "text/html": [
              "<div>\n",
              "<style scoped>\n",
              "    .dataframe tbody tr th:only-of-type {\n",
              "        vertical-align: middle;\n",
              "    }\n",
              "\n",
              "    .dataframe tbody tr th {\n",
              "        vertical-align: top;\n",
              "    }\n",
              "\n",
              "    .dataframe thead th {\n",
              "        text-align: right;\n",
              "    }\n",
              "</style>\n",
              "<table border=\"1\" class=\"dataframe\">\n",
              "  <thead>\n",
              "    <tr style=\"text-align: right;\">\n",
              "      <th></th>\n",
              "      <th>first_name</th>\n",
              "      <th>last_name</th>\n",
              "      <th>age</th>\n",
              "      <th>sex</th>\n",
              "      <th>preTestScore</th>\n",
              "      <th>postTestScore</th>\n",
              "    </tr>\n",
              "  </thead>\n",
              "  <tbody>\n",
              "    <tr>\n",
              "      <th>0</th>\n",
              "      <td>Martin</td>\n",
              "      <td>Duston</td>\n",
              "      <td>42.0</td>\n",
              "      <td>m</td>\n",
              "      <td>4.0</td>\n",
              "      <td>25.0</td>\n",
              "    </tr>\n",
              "    <tr>\n",
              "      <th>1</th>\n",
              "      <td>Jack</td>\n",
              "      <td>0</td>\n",
              "      <td>36.0</td>\n",
              "      <td>0</td>\n",
              "      <td>0.0</td>\n",
              "      <td>0.0</td>\n",
              "    </tr>\n",
              "    <tr>\n",
              "      <th>2</th>\n",
              "      <td>0</td>\n",
              "      <td>Miller</td>\n",
              "      <td>0.0</td>\n",
              "      <td>0</td>\n",
              "      <td>2.0</td>\n",
              "      <td>0.0</td>\n",
              "    </tr>\n",
              "    <tr>\n",
              "      <th>3</th>\n",
              "      <td>David</td>\n",
              "      <td>Ross</td>\n",
              "      <td>24.0</td>\n",
              "      <td>f</td>\n",
              "      <td>0.0</td>\n",
              "      <td>62.0</td>\n",
              "    </tr>\n",
              "    <tr>\n",
              "      <th>4</th>\n",
              "      <td>Stephen</td>\n",
              "      <td>Still</td>\n",
              "      <td>73.0</td>\n",
              "      <td>0</td>\n",
              "      <td>3.0</td>\n",
              "      <td>70.0</td>\n",
              "    </tr>\n",
              "  </tbody>\n",
              "</table>\n",
              "</div>"
            ],
            "text/plain": [
              "  first_name last_name   age sex  preTestScore  postTestScore\n",
              "0     Martin    Duston  42.0   m           4.0           25.0\n",
              "1       Jack         0  36.0   0           0.0            0.0\n",
              "2          0    Miller   0.0   0           2.0            0.0\n",
              "3      David      Ross  24.0   f           0.0           62.0\n",
              "4    Stephen     Still  73.0   0           3.0           70.0"
            ]
          },
          "metadata": {
            "tags": []
          },
          "execution_count": 68
        }
      ]
    },
    {
      "cell_type": "code",
      "metadata": {
        "id": "sQ3lLW18HAMD",
        "outputId": "5993cf29-d201-4305-bd6d-b9bd87833824",
        "colab": {
          "base_uri": "https://localhost:8080/",
          "height": 206
        }
      },
      "source": [
        "#Fill in missing in specific col with the mean value of that col\n",
        "\n",
        "df[\"preTestScore\"].fillna(df[\"preTestScore\"].mean(),inplace=True)\n",
        "\n",
        "df\n"
      ],
      "execution_count": null,
      "outputs": [
        {
          "output_type": "execute_result",
          "data": {
            "text/html": [
              "<div>\n",
              "<style scoped>\n",
              "    .dataframe tbody tr th:only-of-type {\n",
              "        vertical-align: middle;\n",
              "    }\n",
              "\n",
              "    .dataframe tbody tr th {\n",
              "        vertical-align: top;\n",
              "    }\n",
              "\n",
              "    .dataframe thead th {\n",
              "        text-align: right;\n",
              "    }\n",
              "</style>\n",
              "<table border=\"1\" class=\"dataframe\">\n",
              "  <thead>\n",
              "    <tr style=\"text-align: right;\">\n",
              "      <th></th>\n",
              "      <th>first_name</th>\n",
              "      <th>last_name</th>\n",
              "      <th>age</th>\n",
              "      <th>sex</th>\n",
              "      <th>preTestScore</th>\n",
              "      <th>postTestScore</th>\n",
              "    </tr>\n",
              "  </thead>\n",
              "  <tbody>\n",
              "    <tr>\n",
              "      <th>0</th>\n",
              "      <td>Martin</td>\n",
              "      <td>Duston</td>\n",
              "      <td>42.0</td>\n",
              "      <td>m</td>\n",
              "      <td>4.0</td>\n",
              "      <td>25.0</td>\n",
              "    </tr>\n",
              "    <tr>\n",
              "      <th>1</th>\n",
              "      <td>Jack</td>\n",
              "      <td>NaN</td>\n",
              "      <td>36.0</td>\n",
              "      <td>NaN</td>\n",
              "      <td>3.0</td>\n",
              "      <td>NaN</td>\n",
              "    </tr>\n",
              "    <tr>\n",
              "      <th>2</th>\n",
              "      <td>NaN</td>\n",
              "      <td>Miller</td>\n",
              "      <td>NaN</td>\n",
              "      <td>NaN</td>\n",
              "      <td>2.0</td>\n",
              "      <td>NaN</td>\n",
              "    </tr>\n",
              "    <tr>\n",
              "      <th>3</th>\n",
              "      <td>David</td>\n",
              "      <td>Ross</td>\n",
              "      <td>24.0</td>\n",
              "      <td>f</td>\n",
              "      <td>3.0</td>\n",
              "      <td>62.0</td>\n",
              "    </tr>\n",
              "    <tr>\n",
              "      <th>4</th>\n",
              "      <td>Stephen</td>\n",
              "      <td>Still</td>\n",
              "      <td>73.0</td>\n",
              "      <td>NaN</td>\n",
              "      <td>3.0</td>\n",
              "      <td>70.0</td>\n",
              "    </tr>\n",
              "  </tbody>\n",
              "</table>\n",
              "</div>"
            ],
            "text/plain": [
              "  first_name last_name   age  sex  preTestScore  postTestScore\n",
              "0     Martin    Duston  42.0    m           4.0           25.0\n",
              "1       Jack       NaN  36.0  NaN           3.0            NaN\n",
              "2        NaN    Miller   NaN  NaN           2.0            NaN\n",
              "3      David      Ross  24.0    f           3.0           62.0\n",
              "4    Stephen     Still  73.0  NaN           3.0           70.0"
            ]
          },
          "metadata": {
            "tags": []
          },
          "execution_count": 69
        }
      ]
    },
    {
      "cell_type": "code",
      "metadata": {
        "id": "X6Kk9j3wHJh1",
        "outputId": "cfdbd29d-ced4-4ab2-b814-fde4ca99214b",
        "colab": {
          "base_uri": "https://localhost:8080/",
          "height": 143
        }
      },
      "source": [
        "# Select the rows of df where age is not NaN and last_name is not NaN\n",
        "\n",
        "df[df['age'].notnull() & df['last_name'].notnull()]\n"
      ],
      "execution_count": null,
      "outputs": [
        {
          "output_type": "execute_result",
          "data": {
            "text/html": [
              "<div>\n",
              "<style scoped>\n",
              "    .dataframe tbody tr th:only-of-type {\n",
              "        vertical-align: middle;\n",
              "    }\n",
              "\n",
              "    .dataframe tbody tr th {\n",
              "        vertical-align: top;\n",
              "    }\n",
              "\n",
              "    .dataframe thead th {\n",
              "        text-align: right;\n",
              "    }\n",
              "</style>\n",
              "<table border=\"1\" class=\"dataframe\">\n",
              "  <thead>\n",
              "    <tr style=\"text-align: right;\">\n",
              "      <th></th>\n",
              "      <th>first_name</th>\n",
              "      <th>last_name</th>\n",
              "      <th>age</th>\n",
              "      <th>sex</th>\n",
              "      <th>preTestScore</th>\n",
              "      <th>postTestScore</th>\n",
              "    </tr>\n",
              "  </thead>\n",
              "  <tbody>\n",
              "    <tr>\n",
              "      <th>0</th>\n",
              "      <td>Martin</td>\n",
              "      <td>Duston</td>\n",
              "      <td>42.0</td>\n",
              "      <td>m</td>\n",
              "      <td>4.0</td>\n",
              "      <td>25.0</td>\n",
              "    </tr>\n",
              "    <tr>\n",
              "      <th>3</th>\n",
              "      <td>David</td>\n",
              "      <td>Ross</td>\n",
              "      <td>24.0</td>\n",
              "      <td>f</td>\n",
              "      <td>3.0</td>\n",
              "      <td>62.0</td>\n",
              "    </tr>\n",
              "    <tr>\n",
              "      <th>4</th>\n",
              "      <td>Stephen</td>\n",
              "      <td>Still</td>\n",
              "      <td>73.0</td>\n",
              "      <td>NaN</td>\n",
              "      <td>3.0</td>\n",
              "      <td>70.0</td>\n",
              "    </tr>\n",
              "  </tbody>\n",
              "</table>\n",
              "</div>"
            ],
            "text/plain": [
              "  first_name last_name   age  sex  preTestScore  postTestScore\n",
              "0     Martin    Duston  42.0    m           4.0           25.0\n",
              "3      David      Ross  24.0    f           3.0           62.0\n",
              "4    Stephen     Still  73.0  NaN           3.0           70.0"
            ]
          },
          "metadata": {
            "tags": []
          },
          "execution_count": 70
        }
      ]
    },
    {
      "cell_type": "code",
      "metadata": {
        "id": "APx6ZmaVHP1s"
      },
      "source": [
        ""
      ],
      "execution_count": null,
      "outputs": []
    },
    {
      "cell_type": "markdown",
      "metadata": {
        "id": "WCti0KyOVJhC"
      },
      "source": [
        "**Chapter 4- SciPy**"
      ]
    },
    {
      "cell_type": "markdown",
      "metadata": {
        "id": "KN3N6RNZRvzk"
      },
      "source": [
        ""
      ]
    },
    {
      "cell_type": "markdown",
      "metadata": {
        "id": "MyepSC6yRvSA"
      },
      "source": [
        "SciPy is a collection of mathematical algorithms and convenience functions built on the NumPy extension of Python.It adds significant power to the interactive Python session by providing the user with high-level commands and classes for manipulating and visualizing data. "
      ]
    },
    {
      "cell_type": "markdown",
      "metadata": {
        "id": "ehIcQKyLVwIK"
      },
      "source": [
        "**SciPy Constants**"
      ]
    },
    {
      "cell_type": "markdown",
      "metadata": {
        "id": "O-Rwl1MCWDKn"
      },
      "source": [
        "As SciPy is more focused on scientific implementations, it provides many built-in scientific constants.\n",
        "These constants can be helpful when you are working with Data Science."
      ]
    },
    {
      "cell_type": "code",
      "metadata": {
        "id": "BmO22YzaWRO3"
      },
      "source": [
        "import scipy"
      ],
      "execution_count": null,
      "outputs": []
    },
    {
      "cell_type": "code",
      "metadata": {
        "id": "_yDP0D6eWeHd",
        "outputId": "655f3b8f-d38e-4cbb-96bc-ae62efdaaad5",
        "colab": {
          "base_uri": "https://localhost:8080/",
          "height": 34
        }
      },
      "source": [
        "from scipy import constants\n",
        "\n",
        "print(constants.pi)"
      ],
      "execution_count": null,
      "outputs": [
        {
          "output_type": "stream",
          "text": [
            "3.141592653589793\n"
          ],
          "name": "stdout"
        }
      ]
    },
    {
      "cell_type": "code",
      "metadata": {
        "id": "pjea0_iCWjuc",
        "outputId": "109a321d-e3a4-409c-9779-beb5f6d3648a",
        "colab": {
          "base_uri": "https://localhost:8080/",
          "height": 54
        }
      },
      "source": [
        "print(dir(constants))"
      ],
      "execution_count": null,
      "outputs": [
        {
          "output_type": "stream",
          "text": [
            "['Avogadro', 'Boltzmann', 'Btu', 'Btu_IT', 'Btu_th', 'ConstantWarning', 'G', 'Julian_year', 'N_A', 'Planck', 'R', 'Rydberg', 'Stefan_Boltzmann', 'Wien', '__all__', '__builtins__', '__cached__', '__doc__', '__file__', '__loader__', '__name__', '__package__', '__path__', '__spec__', '_obsolete_constants', 'absolute_import', 'acre', 'alpha', 'angstrom', 'arcmin', 'arcminute', 'arcsec', 'arcsecond', 'astronomical_unit', 'atm', 'atmosphere', 'atomic_mass', 'atto', 'au', 'bar', 'barrel', 'bbl', 'blob', 'c', 'calorie', 'calorie_IT', 'calorie_th', 'carat', 'centi', 'codata', 'constants', 'convert_temperature', 'day', 'deci', 'degree', 'degree_Fahrenheit', 'deka', 'division', 'dyn', 'dyne', 'e', 'eV', 'electron_mass', 'electron_volt', 'elementary_charge', 'epsilon_0', 'erg', 'exa', 'exbi', 'femto', 'fermi', 'find', 'fine_structure', 'fluid_ounce', 'fluid_ounce_US', 'fluid_ounce_imp', 'foot', 'g', 'gallon', 'gallon_US', 'gallon_imp', 'gas_constant', 'gibi', 'giga', 'golden', 'golden_ratio', 'grain', 'gram', 'gravitational_constant', 'h', 'hbar', 'hectare', 'hecto', 'horsepower', 'hour', 'hp', 'inch', 'k', 'kgf', 'kibi', 'kilo', 'kilogram_force', 'kmh', 'knot', 'lambda2nu', 'lb', 'lbf', 'light_year', 'liter', 'litre', 'long_ton', 'm_e', 'm_n', 'm_p', 'm_u', 'mach', 'mebi', 'mega', 'metric_ton', 'micro', 'micron', 'mil', 'mile', 'milli', 'minute', 'mmHg', 'mph', 'mu_0', 'nano', 'nautical_mile', 'neutron_mass', 'nu2lambda', 'ounce', 'oz', 'parsec', 'pebi', 'peta', 'physical_constants', 'pi', 'pico', 'point', 'pound', 'pound_force', 'precision', 'print_function', 'proton_mass', 'psi', 'pt', 'short_ton', 'sigma', 'slinch', 'slug', 'speed_of_light', 'speed_of_sound', 'stone', 'survey_foot', 'survey_mile', 'tebi', 'tera', 'test', 'ton_TNT', 'torr', 'troy_ounce', 'troy_pound', 'u', 'unit', 'value', 'week', 'yard', 'year', 'yobi', 'yotta', 'zebi', 'zepto', 'zero_Celsius', 'zetta']\n"
          ],
          "name": "stdout"
        }
      ]
    },
    {
      "cell_type": "markdown",
      "metadata": {
        "id": "PyYo01oEXX0m"
      },
      "source": [
        "Unit Categories\n",
        "The units are placed under these categories:\n",
        "\n",
        "Metric\n",
        "\n",
        "Binary\n",
        "\n",
        "Mass\n",
        "\n",
        "Angle\n",
        "\n",
        "Time\n",
        "\n",
        "Length\n",
        "\n",
        "Pressure\n",
        "\n",
        "Volume\n",
        "\n",
        "Speed\n",
        "\n",
        "Temperature\n",
        "\n",
        "Energy\n",
        "\n",
        "Power\n",
        "\n",
        "Force"
      ]
    },
    {
      "cell_type": "code",
      "metadata": {
        "id": "-aEMlTI_X9vd"
      },
      "source": [
        "print(constants.gram)"
      ],
      "execution_count": null,
      "outputs": []
    },
    {
      "cell_type": "code",
      "metadata": {
        "id": "-aSWZs1lX_JS"
      },
      "source": [
        "print(constants.degree)"
      ],
      "execution_count": null,
      "outputs": []
    },
    {
      "cell_type": "code",
      "metadata": {
        "id": "Klg33phUYGXH"
      },
      "source": [
        "print(constants.minute) "
      ],
      "execution_count": null,
      "outputs": []
    },
    {
      "cell_type": "markdown",
      "metadata": {
        "id": "tT5f7gARYMco"
      },
      "source": [
        "**SciPy Optimization and root finding**"
      ]
    },
    {
      "cell_type": "markdown",
      "metadata": {
        "id": "xy7GOV-CYV7_"
      },
      "source": [
        "SciPy optimize provides functions for minimizing (or maximizing) objective functions, possibly subject to constraints. It includes solvers for nonlinear problems (with support for both local and global optimization algorithms), linear programing, constrained and nonlinear least-squares, root finding, and curve fitting.\n",
        "\n"
      ]
    },
    {
      "cell_type": "code",
      "metadata": {
        "id": "YtCstJLHYeaG",
        "outputId": "9e2e4721-594b-4d52-d76d-fcd07c5ff778",
        "colab": {
          "base_uri": "https://localhost:8080/",
          "height": 34
        }
      },
      "source": [
        "#finding the root\n",
        "from scipy.optimize import root\n",
        "\n",
        "def eqn(x):\n",
        "  return x**2-4*x+4\n",
        "\n",
        "myroot = root(eqn, 0)\n",
        "\n",
        "print(myroot.x)"
      ],
      "execution_count": null,
      "outputs": [
        {
          "output_type": "stream",
          "text": [
            "[1.99999999]\n"
          ],
          "name": "stdout"
        }
      ]
    },
    {
      "cell_type": "code",
      "metadata": {
        "id": "GRioycvNZMlr",
        "outputId": "afcc07b6-bc7d-44b6-fe80-e717437c1a03",
        "colab": {
          "base_uri": "https://localhost:8080/",
          "height": 170
        }
      },
      "source": [
        "print(myroot)"
      ],
      "execution_count": null,
      "outputs": [
        {
          "output_type": "stream",
          "text": [
            "    fjac: array([[-1.]])\n",
            "     fun: array([0.])\n",
            " message: 'The solution converged.'\n",
            "    nfev: 41\n",
            "     qtf: array([-4.4408921e-16])\n",
            "       r: array([4.41088521e-08])\n",
            "  status: 1\n",
            " success: True\n",
            "       x: array([1.99999999])\n"
          ],
          "name": "stdout"
        }
      ]
    },
    {
      "cell_type": "code",
      "metadata": {
        "id": "U8xj5qOAZf_O",
        "outputId": "a21f2a9b-05db-4ef3-ee3d-903a0a7c4faf",
        "colab": {
          "base_uri": "https://localhost:8080/",
          "height": 187
        }
      },
      "source": [
        "from scipy.optimize import minimize\n",
        "\n",
        "def eqn(x):\n",
        "  return x**2 + x + 2\n",
        "\n",
        "mymin = minimize(eqn, 0, method='BFGS')\n",
        "\n",
        "print(mymin)"
      ],
      "execution_count": null,
      "outputs": [
        {
          "output_type": "stream",
          "text": [
            "      fun: 1.75\n",
            " hess_inv: array([[0.50000001]])\n",
            "      jac: array([0.])\n",
            "  message: 'Optimization terminated successfully.'\n",
            "     nfev: 12\n",
            "      nit: 2\n",
            "     njev: 4\n",
            "   status: 0\n",
            "  success: True\n",
            "        x: array([-0.50000001])\n"
          ],
          "name": "stdout"
        }
      ]
    },
    {
      "cell_type": "markdown",
      "metadata": {
        "id": "FdjRs2U-ehcs"
      },
      "source": [
        "**SciPy Sparse Data**"
      ]
    },
    {
      "cell_type": "markdown",
      "metadata": {
        "id": "4miTJhBGe45O"
      },
      "source": [
        "Sparse Data: is a data set where most of the item values are zero.\n",
        "\n",
        "Dense Array: is the opposite of a sparse array: most of the values are not zero.\n",
        "\n"
      ]
    },
    {
      "cell_type": "markdown",
      "metadata": {
        "id": "LAlXMfgvfBfR"
      },
      "source": [
        "SciPy has a module, scipy.sparse that provides functions to deal with sparse data.\n",
        "\n",
        "There are primarily two types of sparse matrices that we use:\n",
        "\n",
        "CSC - Compressed Sparse Column. For efficient arithmetic, fast column slicing.\n",
        "\n",
        "CSR - Compressed Sparse Row. For fast row slicing, faster matrix vector products"
      ]
    },
    {
      "cell_type": "code",
      "metadata": {
        "id": "o7uOOItrg-B_",
        "outputId": "31b7f7bf-06a9-43a2-8675-18f7e59bd479",
        "colab": {
          "base_uri": "https://localhost:8080/",
          "height": 68
        }
      },
      "source": [
        "import numpy as np\n",
        "from scipy.sparse import csr_matrix\n",
        "\n",
        "arr = np.array([0, 0, 0, 0, 0, 1, 1, 0, 2])\n",
        "\n",
        "print(csr_matrix(arr))"
      ],
      "execution_count": null,
      "outputs": [
        {
          "output_type": "stream",
          "text": [
            "  (0, 5)\t1\n",
            "  (0, 6)\t1\n",
            "  (0, 8)\t2\n"
          ],
          "name": "stdout"
        }
      ]
    },
    {
      "cell_type": "code",
      "metadata": {
        "id": "_m1T_sFRlNtM"
      },
      "source": [
        ""
      ],
      "execution_count": null,
      "outputs": []
    },
    {
      "cell_type": "markdown",
      "metadata": {
        "id": "N1Uz42-0ZnYL"
      },
      "source": [
        ""
      ]
    }
  ]
}