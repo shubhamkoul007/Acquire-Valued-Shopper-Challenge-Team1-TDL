{
  "nbformat": 4,
  "nbformat_minor": 0,
  "metadata": {
    "colab": {
      "name": "Team1_Project1.ipynb",
      "provenance": [],
      "toc_visible": true,
      "authorship_tag": "ABX9TyNp6EiaHuFlWTLZ4y23UYKv",
      "include_colab_link": true
    },
    "kernelspec": {
      "name": "python3",
      "display_name": "Python 3"
    }
  },
  "cells": [
    {
      "cell_type": "markdown",
      "metadata": {
        "id": "view-in-github",
        "colab_type": "text"
      },
      "source": [
        "<a href=\"https://colab.research.google.com/github/shubhamkoul007/Acquire-Valued-Shopper-Challenge-Team1-TDL/blob/main/Team1_Project1.ipynb\" target=\"_parent\"><img src=\"https://colab.research.google.com/assets/colab-badge.svg\" alt=\"Open In Colab\"/></a>"
      ]
    },
    {
      "cell_type": "code",
      "metadata": {
        "id": "wL1iLV5xBoTf"
      },
      "source": [
        "import numpy as np\n",
        "import matplotlib.pyplot as plt\n",
        "import seaborn as sns\n",
        "import pandas as pd \n"
      ],
      "execution_count": 1,
      "outputs": []
    },
    {
      "cell_type": "code",
      "metadata": {
        "id": "4LDZhgDECXOf"
      },
      "source": [
        "train_history = pd.read_csv(\"trainHistory.csv\")"
      ],
      "execution_count": 3,
      "outputs": []
    },
    {
      "cell_type": "code",
      "metadata": {
        "id": "_ftT48KJLIg_",
        "outputId": "18f4253d-61fe-4cb3-c563-2ccb609d36ee",
        "colab": {
          "base_uri": "https://localhost:8080/",
          "height": 206
        }
      },
      "source": [
        "train_history.head()\n"
      ],
      "execution_count": 4,
      "outputs": [
        {
          "output_type": "execute_result",
          "data": {
            "text/html": [
              "<div>\n",
              "<style scoped>\n",
              "    .dataframe tbody tr th:only-of-type {\n",
              "        vertical-align: middle;\n",
              "    }\n",
              "\n",
              "    .dataframe tbody tr th {\n",
              "        vertical-align: top;\n",
              "    }\n",
              "\n",
              "    .dataframe thead th {\n",
              "        text-align: right;\n",
              "    }\n",
              "</style>\n",
              "<table border=\"1\" class=\"dataframe\">\n",
              "  <thead>\n",
              "    <tr style=\"text-align: right;\">\n",
              "      <th></th>\n",
              "      <th>id</th>\n",
              "      <th>chain</th>\n",
              "      <th>offer</th>\n",
              "      <th>market</th>\n",
              "      <th>repeattrips</th>\n",
              "      <th>repeater</th>\n",
              "      <th>offerdate</th>\n",
              "    </tr>\n",
              "  </thead>\n",
              "  <tbody>\n",
              "    <tr>\n",
              "      <th>0</th>\n",
              "      <td>86246</td>\n",
              "      <td>205</td>\n",
              "      <td>1208251</td>\n",
              "      <td>34</td>\n",
              "      <td>5</td>\n",
              "      <td>t</td>\n",
              "      <td>2013-04-24</td>\n",
              "    </tr>\n",
              "    <tr>\n",
              "      <th>1</th>\n",
              "      <td>86252</td>\n",
              "      <td>205</td>\n",
              "      <td>1197502</td>\n",
              "      <td>34</td>\n",
              "      <td>16</td>\n",
              "      <td>t</td>\n",
              "      <td>2013-03-27</td>\n",
              "    </tr>\n",
              "    <tr>\n",
              "      <th>2</th>\n",
              "      <td>12682470</td>\n",
              "      <td>18</td>\n",
              "      <td>1197502</td>\n",
              "      <td>11</td>\n",
              "      <td>0</td>\n",
              "      <td>f</td>\n",
              "      <td>2013-03-28</td>\n",
              "    </tr>\n",
              "    <tr>\n",
              "      <th>3</th>\n",
              "      <td>12996040</td>\n",
              "      <td>15</td>\n",
              "      <td>1197502</td>\n",
              "      <td>9</td>\n",
              "      <td>0</td>\n",
              "      <td>f</td>\n",
              "      <td>2013-03-25</td>\n",
              "    </tr>\n",
              "    <tr>\n",
              "      <th>4</th>\n",
              "      <td>13089312</td>\n",
              "      <td>15</td>\n",
              "      <td>1204821</td>\n",
              "      <td>9</td>\n",
              "      <td>0</td>\n",
              "      <td>f</td>\n",
              "      <td>2013-04-01</td>\n",
              "    </tr>\n",
              "  </tbody>\n",
              "</table>\n",
              "</div>"
            ],
            "text/plain": [
              "         id  chain    offer  market  repeattrips repeater   offerdate\n",
              "0     86246    205  1208251      34            5        t  2013-04-24\n",
              "1     86252    205  1197502      34           16        t  2013-03-27\n",
              "2  12682470     18  1197502      11            0        f  2013-03-28\n",
              "3  12996040     15  1197502       9            0        f  2013-03-25\n",
              "4  13089312     15  1204821       9            0        f  2013-04-01"
            ]
          },
          "metadata": {
            "tags": []
          },
          "execution_count": 4
        }
      ]
    },
    {
      "cell_type": "code",
      "metadata": {
        "id": "zqs1cOIhLhbW",
        "outputId": "dd60ebbc-0097-4ec1-9416-1499041e0761",
        "colab": {
          "base_uri": "https://localhost:8080/",
          "height": 424
        }
      },
      "source": [
        "#Adding dummy variables for Boolean Values for repeater Class\n",
        "\n",
        "pd.get_dummies(train_history[\"repeater\"]) "
      ],
      "execution_count": 5,
      "outputs": [
        {
          "output_type": "execute_result",
          "data": {
            "text/html": [
              "<div>\n",
              "<style scoped>\n",
              "    .dataframe tbody tr th:only-of-type {\n",
              "        vertical-align: middle;\n",
              "    }\n",
              "\n",
              "    .dataframe tbody tr th {\n",
              "        vertical-align: top;\n",
              "    }\n",
              "\n",
              "    .dataframe thead th {\n",
              "        text-align: right;\n",
              "    }\n",
              "</style>\n",
              "<table border=\"1\" class=\"dataframe\">\n",
              "  <thead>\n",
              "    <tr style=\"text-align: right;\">\n",
              "      <th></th>\n",
              "      <th>f</th>\n",
              "      <th>t</th>\n",
              "    </tr>\n",
              "  </thead>\n",
              "  <tbody>\n",
              "    <tr>\n",
              "      <th>0</th>\n",
              "      <td>0</td>\n",
              "      <td>1</td>\n",
              "    </tr>\n",
              "    <tr>\n",
              "      <th>1</th>\n",
              "      <td>0</td>\n",
              "      <td>1</td>\n",
              "    </tr>\n",
              "    <tr>\n",
              "      <th>2</th>\n",
              "      <td>1</td>\n",
              "      <td>0</td>\n",
              "    </tr>\n",
              "    <tr>\n",
              "      <th>3</th>\n",
              "      <td>1</td>\n",
              "      <td>0</td>\n",
              "    </tr>\n",
              "    <tr>\n",
              "      <th>4</th>\n",
              "      <td>1</td>\n",
              "      <td>0</td>\n",
              "    </tr>\n",
              "    <tr>\n",
              "      <th>...</th>\n",
              "      <td>...</td>\n",
              "      <td>...</td>\n",
              "    </tr>\n",
              "    <tr>\n",
              "      <th>160052</th>\n",
              "      <td>1</td>\n",
              "      <td>0</td>\n",
              "    </tr>\n",
              "    <tr>\n",
              "      <th>160053</th>\n",
              "      <td>1</td>\n",
              "      <td>0</td>\n",
              "    </tr>\n",
              "    <tr>\n",
              "      <th>160054</th>\n",
              "      <td>0</td>\n",
              "      <td>1</td>\n",
              "    </tr>\n",
              "    <tr>\n",
              "      <th>160055</th>\n",
              "      <td>1</td>\n",
              "      <td>0</td>\n",
              "    </tr>\n",
              "    <tr>\n",
              "      <th>160056</th>\n",
              "      <td>1</td>\n",
              "      <td>0</td>\n",
              "    </tr>\n",
              "  </tbody>\n",
              "</table>\n",
              "<p>160057 rows × 2 columns</p>\n",
              "</div>"
            ],
            "text/plain": [
              "        f  t\n",
              "0       0  1\n",
              "1       0  1\n",
              "2       1  0\n",
              "3       1  0\n",
              "4       1  0\n",
              "...    .. ..\n",
              "160052  1  0\n",
              "160053  1  0\n",
              "160054  0  1\n",
              "160055  1  0\n",
              "160056  1  0\n",
              "\n",
              "[160057 rows x 2 columns]"
            ]
          },
          "metadata": {
            "tags": []
          },
          "execution_count": 5
        }
      ]
    },
    {
      "cell_type": "code",
      "metadata": {
        "id": "wCvxfTMVMRcE"
      },
      "source": [
        "#Making Repeater Column\n",
        "\n",
        "Repeater = pd.get_dummies(train_history[\"repeater\"],drop_first= True)"
      ],
      "execution_count": 7,
      "outputs": []
    },
    {
      "cell_type": "markdown",
      "metadata": {
        "id": "wyYrCh7LPNuA"
      },
      "source": [
        ""
      ]
    },
    {
      "cell_type": "code",
      "metadata": {
        "id": "FDtl973oNmze"
      },
      "source": [
        "#Adding Repeater Column .(Later older column \"repeater\" will be removed)\n",
        "\n",
        "train_history = pd.concat( [ train_history, Repeater ] , axis = 1 ) \n",
        "\n"
      ],
      "execution_count": 8,
      "outputs": []
    },
    {
      "cell_type": "code",
      "metadata": {
        "id": "GbtVE-32XDJn"
      },
      "source": [
        "#Now removing the columns that we are not going to use for our model .Also the repeater column \n",
        "\n",
        "train_history.drop( [\"id\", \"chain\", \"offerdate\" , \"repeater\" ] , axis = 1 , inplace = True )"
      ],
      "execution_count": 27,
      "outputs": []
    },
    {
      "cell_type": "code",
      "metadata": {
        "id": "t7tdmo9FdFXZ"
      },
      "source": [
        "train_History = train_history.rename( columns = { \"t\" : \"repeater\" },inplace = False)"
      ],
      "execution_count": 28,
      "outputs": []
    },
    {
      "cell_type": "code",
      "metadata": {
        "id": "qwdnxdC_XvER"
      },
      "source": [
        "#Now X will contain all the features and Y will contain the target variable\n",
        "\n",
        "X = train_History.drop(\"repeater\",axis=1)"
      ],
      "execution_count": 29,
      "outputs": []
    },
    {
      "cell_type": "code",
      "metadata": {
        "id": "zOuSnBNbYZIm"
      },
      "source": [
        "y = train_History[\"repeater\"]  "
      ],
      "execution_count": 31,
      "outputs": []
    },
    {
      "cell_type": "code",
      "metadata": {
        "id": "pdHq-jq9YiGF"
      },
      "source": [
        "test_history= pd.read_csv(\"trainHistory.csv\")"
      ],
      "execution_count": 15,
      "outputs": []
    },
    {
      "cell_type": "code",
      "metadata": {
        "id": "QdICy356ZstQ",
        "outputId": "bae3b3fc-7f1a-47b2-d2b1-ce816b1a1c92",
        "colab": {
          "base_uri": "https://localhost:8080/",
          "height": 206
        }
      },
      "source": [
        "test_history.head()\n"
      ],
      "execution_count": 16,
      "outputs": [
        {
          "output_type": "execute_result",
          "data": {
            "text/html": [
              "<div>\n",
              "<style scoped>\n",
              "    .dataframe tbody tr th:only-of-type {\n",
              "        vertical-align: middle;\n",
              "    }\n",
              "\n",
              "    .dataframe tbody tr th {\n",
              "        vertical-align: top;\n",
              "    }\n",
              "\n",
              "    .dataframe thead th {\n",
              "        text-align: right;\n",
              "    }\n",
              "</style>\n",
              "<table border=\"1\" class=\"dataframe\">\n",
              "  <thead>\n",
              "    <tr style=\"text-align: right;\">\n",
              "      <th></th>\n",
              "      <th>id</th>\n",
              "      <th>chain</th>\n",
              "      <th>offer</th>\n",
              "      <th>market</th>\n",
              "      <th>repeattrips</th>\n",
              "      <th>repeater</th>\n",
              "      <th>offerdate</th>\n",
              "    </tr>\n",
              "  </thead>\n",
              "  <tbody>\n",
              "    <tr>\n",
              "      <th>0</th>\n",
              "      <td>86246</td>\n",
              "      <td>205</td>\n",
              "      <td>1208251</td>\n",
              "      <td>34</td>\n",
              "      <td>5</td>\n",
              "      <td>t</td>\n",
              "      <td>2013-04-24</td>\n",
              "    </tr>\n",
              "    <tr>\n",
              "      <th>1</th>\n",
              "      <td>86252</td>\n",
              "      <td>205</td>\n",
              "      <td>1197502</td>\n",
              "      <td>34</td>\n",
              "      <td>16</td>\n",
              "      <td>t</td>\n",
              "      <td>2013-03-27</td>\n",
              "    </tr>\n",
              "    <tr>\n",
              "      <th>2</th>\n",
              "      <td>12682470</td>\n",
              "      <td>18</td>\n",
              "      <td>1197502</td>\n",
              "      <td>11</td>\n",
              "      <td>0</td>\n",
              "      <td>f</td>\n",
              "      <td>2013-03-28</td>\n",
              "    </tr>\n",
              "    <tr>\n",
              "      <th>3</th>\n",
              "      <td>12996040</td>\n",
              "      <td>15</td>\n",
              "      <td>1197502</td>\n",
              "      <td>9</td>\n",
              "      <td>0</td>\n",
              "      <td>f</td>\n",
              "      <td>2013-03-25</td>\n",
              "    </tr>\n",
              "    <tr>\n",
              "      <th>4</th>\n",
              "      <td>13089312</td>\n",
              "      <td>15</td>\n",
              "      <td>1204821</td>\n",
              "      <td>9</td>\n",
              "      <td>0</td>\n",
              "      <td>f</td>\n",
              "      <td>2013-04-01</td>\n",
              "    </tr>\n",
              "  </tbody>\n",
              "</table>\n",
              "</div>"
            ],
            "text/plain": [
              "         id  chain    offer  market  repeattrips repeater   offerdate\n",
              "0     86246    205  1208251      34            5        t  2013-04-24\n",
              "1     86252    205  1197502      34           16        t  2013-03-27\n",
              "2  12682470     18  1197502      11            0        f  2013-03-28\n",
              "3  12996040     15  1197502       9            0        f  2013-03-25\n",
              "4  13089312     15  1204821       9            0        f  2013-04-01"
            ]
          },
          "metadata": {
            "tags": []
          },
          "execution_count": 16
        }
      ]
    },
    {
      "cell_type": "code",
      "metadata": {
        "id": "cgDi5WrjZxpS",
        "outputId": "f5f51673-1f07-4b85-b214-e3fed376ade4",
        "colab": {
          "base_uri": "https://localhost:8080/",
          "height": 104
        }
      },
      "source": [
        "from sklearn.linear_model import LogisticRegression\n",
        "\n",
        "logModel = LogisticRegression()\n",
        "\n",
        "logModel.fit( X , y )"
      ],
      "execution_count": 32,
      "outputs": [
        {
          "output_type": "execute_result",
          "data": {
            "text/plain": [
              "LogisticRegression(C=1.0, class_weight=None, dual=False, fit_intercept=True,\n",
              "                   intercept_scaling=1, l1_ratio=None, max_iter=100,\n",
              "                   multi_class='auto', n_jobs=None, penalty='l2',\n",
              "                   random_state=None, solver='lbfgs', tol=0.0001, verbose=0,\n",
              "                   warm_start=False)"
            ]
          },
          "metadata": {
            "tags": []
          },
          "execution_count": 32
        }
      ]
    },
    {
      "cell_type": "code",
      "metadata": {
        "id": "uRHiXHQialpl"
      },
      "source": [
        "# Here we could have used pipelining , to do the same for preprocessing for test data . Saving it for later"
      ],
      "execution_count": 33,
      "outputs": []
    },
    {
      "cell_type": "code",
      "metadata": {
        "id": "AoXUAZXnfyd7"
      },
      "source": [
        "#Doing the same preprocessing for test data without pipelining method\n",
        "\n",
        "Repeater = pd.get_dummies(test_history[\"repeater\"],drop_first= True)\n",
        "\n",
        "test_history = pd.concat( [ test_history, Repeater ] , axis = 1 ) \n",
        "\n",
        "test_history.drop( [\"id\", \"chain\", \"offerdate\" , \"repeater\" ] , axis = 1 , inplace = True )\n",
        "\n",
        "test_History = test_history.rename( columns = { \"t\" : \"repeater\" },inplace = False)\n",
        "\n",
        "X_test = test_History.drop(\"repeater\",axis=1)\n",
        "\n",
        "y_test = test_History[\"repeater\"]  \n",
        "\n"
      ],
      "execution_count": 34,
      "outputs": []
    },
    {
      "cell_type": "code",
      "metadata": {
        "id": "KOYzR22QhGPG",
        "outputId": "c3195fcb-b806-4a81-b852-5739c514404b",
        "colab": {
          "base_uri": "https://localhost:8080/",
          "height": 228
        }
      },
      "source": [
        "predictions = logModel.predict(X_test)\n",
        "\n",
        "from sklearn.metrics import classification_report\n",
        "\n",
        "print(classification_report(y_test, predictions) )\n",
        "\n",
        "\n"
      ],
      "execution_count": 35,
      "outputs": [
        {
          "output_type": "stream",
          "text": [
            "              precision    recall  f1-score   support\n",
            "\n",
            "           0       0.73      1.00      0.84    116619\n",
            "           1       0.00      0.00      0.00     43438\n",
            "\n",
            "    accuracy                           0.73    160057\n",
            "   macro avg       0.36      0.50      0.42    160057\n",
            "weighted avg       0.53      0.73      0.61    160057\n",
            "\n"
          ],
          "name": "stdout"
        },
        {
          "output_type": "stream",
          "text": [
            "/usr/local/lib/python3.6/dist-packages/sklearn/metrics/_classification.py:1272: UndefinedMetricWarning: Precision and F-score are ill-defined and being set to 0.0 in labels with no predicted samples. Use `zero_division` parameter to control this behavior.\n",
            "  _warn_prf(average, modifier, msg_start, len(result))\n"
          ],
          "name": "stderr"
        }
      ]
    },
    {
      "cell_type": "code",
      "metadata": {
        "id": "jtrcW6ishpR8",
        "outputId": "a27c7307-2fb1-4897-9953-43da06bd784b",
        "colab": {
          "base_uri": "https://localhost:8080/",
          "height": 52
        }
      },
      "source": [
        "from sklearn.metrics import confusion_matrix\n",
        "confusion_matrix(y_test , predictions )"
      ],
      "execution_count": 36,
      "outputs": [
        {
          "output_type": "execute_result",
          "data": {
            "text/plain": [
              "array([[116619,      0],\n",
              "       [ 43438,      0]])"
            ]
          },
          "metadata": {
            "tags": []
          },
          "execution_count": 36
        }
      ]
    },
    {
      "cell_type": "code",
      "metadata": {
        "id": "Ki5ri67Mh9H8"
      },
      "source": [
        "\n",
        "#Just did the very basic things. Code needs more optimization . Data should be ran with other algorithms too ."
      ],
      "execution_count": 37,
      "outputs": []
    },
    {
      "cell_type": "code",
      "metadata": {
        "id": "8i1XRaOCiUdt"
      },
      "source": [
        ""
      ],
      "execution_count": null,
      "outputs": []
    }
  ]
}