{
  "nbformat": 4,
  "nbformat_minor": 0,
  "metadata": {
    "colab": {
      "name": "CLV1.ipynb",
      "provenance": [],
      "collapsed_sections": [],
      "include_colab_link": true
    },
    "kernelspec": {
      "name": "python3",
      "display_name": "Python 3"
    }
  },
  "cells": [
    {
      "cell_type": "markdown",
      "metadata": {
        "id": "view-in-github",
        "colab_type": "text"
      },
      "source": [
        "<a href=\"https://colab.research.google.com/github/shubhamkoul007/Acquire-Valued-Shopper-Challenge-Team1-TDL/blob/main/CLV1.ipynb\" target=\"_parent\"><img src=\"https://colab.research.google.com/assets/colab-badge.svg\" alt=\"Open In Colab\"/></a>"
      ]
    },
    {
      "cell_type": "code",
      "metadata": {
        "id": "dKr3vw9S0lmi"
      },
      "source": [
        "import pandas as pd\n",
        "import numpy as np\n",
        "import matplotlib.pyplot as plt\n",
        "import seaborn as sns\n",
        "from scipy.stats import norm\n",
        "from sklearn.preprocessing import StandardScaler\n",
        "from scipy import stats\n",
        "import warnings\n",
        "warnings.filterwarnings('ignore')\n",
        "%matplotlib inline\n",
        "\n"
      ],
      "execution_count": 1,
      "outputs": []
    },
    {
      "cell_type": "code",
      "metadata": {
        "id": "ZnVRCSNuM3yq",
        "outputId": "b3897c6c-5549-4ffa-9031-03dad8c868f7",
        "colab": {
          "base_uri": "https://localhost:8080/",
          "height": 35
        }
      },
      "source": [
        "\"\"\"\n",
        "from google.colab import drive\n",
        "\n",
        "drive.mount('/content/drive')\n",
        "\n",
        "\"\"\"\n"
      ],
      "execution_count": null,
      "outputs": [
        {
          "output_type": "execute_result",
          "data": {
            "application/vnd.google.colaboratory.intrinsic+json": {
              "type": "string"
            },
            "text/plain": [
              "\"\\nfrom google.colab import drive\\n\\ndrive.mount('/content/drive')\\n\\n\""
            ]
          },
          "metadata": {
            "tags": []
          },
          "execution_count": 2
        }
      ]
    },
    {
      "cell_type": "code",
      "metadata": {
        "id": "Wt0tL8QnzeKN"
      },
      "source": [
        "# df=pd.read_excel('/content/drive/My Drive/Online Retail.xlsx')"
      ],
      "execution_count": null,
      "outputs": []
    },
    {
      "cell_type": "code",
      "metadata": {
        "id": "E2VVlaGEvAx4"
      },
      "source": [
        "\n",
        "df = pd.read_excel(\"Online Retail.xlsx\" )"
      ],
      "execution_count": 2,
      "outputs": []
    },
    {
      "cell_type": "code",
      "metadata": {
        "id": "WMsHLoQdaPHU",
        "outputId": "01585043-fe4c-4d90-a0bb-d240e40dfd69",
        "colab": {
          "base_uri": "https://localhost:8080/",
          "height": 289
        }
      },
      "source": [
        "df.head()"
      ],
      "execution_count": null,
      "outputs": [
        {
          "output_type": "execute_result",
          "data": {
            "text/html": [
              "<div>\n",
              "<style scoped>\n",
              "    .dataframe tbody tr th:only-of-type {\n",
              "        vertical-align: middle;\n",
              "    }\n",
              "\n",
              "    .dataframe tbody tr th {\n",
              "        vertical-align: top;\n",
              "    }\n",
              "\n",
              "    .dataframe thead th {\n",
              "        text-align: right;\n",
              "    }\n",
              "</style>\n",
              "<table border=\"1\" class=\"dataframe\">\n",
              "  <thead>\n",
              "    <tr style=\"text-align: right;\">\n",
              "      <th></th>\n",
              "      <th>InvoiceNo</th>\n",
              "      <th>StockCode</th>\n",
              "      <th>Description</th>\n",
              "      <th>Quantity</th>\n",
              "      <th>InvoiceDate</th>\n",
              "      <th>UnitPrice</th>\n",
              "      <th>CustomerID</th>\n",
              "      <th>Country</th>\n",
              "    </tr>\n",
              "  </thead>\n",
              "  <tbody>\n",
              "    <tr>\n",
              "      <th>0</th>\n",
              "      <td>536365</td>\n",
              "      <td>85123A</td>\n",
              "      <td>WHITE HANGING HEART T-LIGHT HOLDER</td>\n",
              "      <td>6</td>\n",
              "      <td>2010-12-01 08:26:00</td>\n",
              "      <td>2.55</td>\n",
              "      <td>17850.0</td>\n",
              "      <td>United Kingdom</td>\n",
              "    </tr>\n",
              "    <tr>\n",
              "      <th>1</th>\n",
              "      <td>536365</td>\n",
              "      <td>71053</td>\n",
              "      <td>WHITE METAL LANTERN</td>\n",
              "      <td>6</td>\n",
              "      <td>2010-12-01 08:26:00</td>\n",
              "      <td>3.39</td>\n",
              "      <td>17850.0</td>\n",
              "      <td>United Kingdom</td>\n",
              "    </tr>\n",
              "    <tr>\n",
              "      <th>2</th>\n",
              "      <td>536365</td>\n",
              "      <td>84406B</td>\n",
              "      <td>CREAM CUPID HEARTS COAT HANGER</td>\n",
              "      <td>8</td>\n",
              "      <td>2010-12-01 08:26:00</td>\n",
              "      <td>2.75</td>\n",
              "      <td>17850.0</td>\n",
              "      <td>United Kingdom</td>\n",
              "    </tr>\n",
              "    <tr>\n",
              "      <th>3</th>\n",
              "      <td>536365</td>\n",
              "      <td>84029G</td>\n",
              "      <td>KNITTED UNION FLAG HOT WATER BOTTLE</td>\n",
              "      <td>6</td>\n",
              "      <td>2010-12-01 08:26:00</td>\n",
              "      <td>3.39</td>\n",
              "      <td>17850.0</td>\n",
              "      <td>United Kingdom</td>\n",
              "    </tr>\n",
              "    <tr>\n",
              "      <th>4</th>\n",
              "      <td>536365</td>\n",
              "      <td>84029E</td>\n",
              "      <td>RED WOOLLY HOTTIE WHITE HEART.</td>\n",
              "      <td>6</td>\n",
              "      <td>2010-12-01 08:26:00</td>\n",
              "      <td>3.39</td>\n",
              "      <td>17850.0</td>\n",
              "      <td>United Kingdom</td>\n",
              "    </tr>\n",
              "  </tbody>\n",
              "</table>\n",
              "</div>"
            ],
            "text/plain": [
              "  InvoiceNo StockCode  ... CustomerID         Country\n",
              "0    536365    85123A  ...    17850.0  United Kingdom\n",
              "1    536365     71053  ...    17850.0  United Kingdom\n",
              "2    536365    84406B  ...    17850.0  United Kingdom\n",
              "3    536365    84029G  ...    17850.0  United Kingdom\n",
              "4    536365    84029E  ...    17850.0  United Kingdom\n",
              "\n",
              "[5 rows x 8 columns]"
            ]
          },
          "metadata": {
            "tags": []
          },
          "execution_count": 3
        }
      ]
    },
    {
      "cell_type": "code",
      "metadata": {
        "id": "gtdr4cpe3BjQ",
        "outputId": "61450ceb-7b7f-4074-ecf9-fc989cd81712",
        "colab": {
          "base_uri": "https://localhost:8080/",
          "height": 35
        }
      },
      "source": [
        "df.shape"
      ],
      "execution_count": null,
      "outputs": [
        {
          "output_type": "execute_result",
          "data": {
            "text/plain": [
              "(541909, 8)"
            ]
          },
          "metadata": {
            "tags": []
          },
          "execution_count": 4
        }
      ]
    },
    {
      "cell_type": "code",
      "metadata": {
        "id": "DWU_n9TW3awb",
        "outputId": "82c10e33-70b9-4f68-eab5-466f69f6f745",
        "colab": {
          "base_uri": "https://localhost:8080/"
        }
      },
      "source": [
        "df.isnull().sum()"
      ],
      "execution_count": 3,
      "outputs": [
        {
          "output_type": "execute_result",
          "data": {
            "text/plain": [
              "InvoiceNo           0\n",
              "StockCode           0\n",
              "Description      1454\n",
              "Quantity            0\n",
              "InvoiceDate         0\n",
              "UnitPrice           0\n",
              "CustomerID     135080\n",
              "Country             0\n",
              "dtype: int64"
            ]
          },
          "metadata": {
            "tags": []
          },
          "execution_count": 3
        }
      ]
    },
    {
      "cell_type": "code",
      "metadata": {
        "id": "0WY9a-mPiEjU"
      },
      "source": [
        "df6=df.copy()"
      ],
      "execution_count": 4,
      "outputs": []
    },
    {
      "cell_type": "code",
      "metadata": {
        "id": "uZ-2OF3d3fT3"
      },
      "source": [
        "import datetime as dt\n",
        "df['InvoiceDate'] = pd.to_datetime(df['InvoiceDate'])\n",
        "df['day'] = df['InvoiceDate'].dt.day\n",
        "df['month'] = df['InvoiceDate'].dt.month\n",
        "df['hour']=df['InvoiceDate'].dt.hour\n",
        "df['weekday'] = df['InvoiceDate'].dt.dayofweek\n",
        "#df['Date'] = df['InvoiceDate'].dt.Date\n"
      ],
      "execution_count": 5,
      "outputs": []
    },
    {
      "cell_type": "code",
      "metadata": {
        "id": "CqYnWXpzgLwE"
      },
      "source": [
        "df8 = df.copy()\n",
        "df9 = df.copy()"
      ],
      "execution_count": 6,
      "outputs": []
    },
    {
      "cell_type": "code",
      "metadata": {
        "id": "SXtjyvZ_3qzU",
        "outputId": "550ace41-174c-4405-ec07-39c284690249",
        "colab": {
          "base_uri": "https://localhost:8080/"
        }
      },
      "source": [
        "#Removing all customer id's with Null Value\n",
        "df=df[pd.notnull(df['CustomerID'])]\n",
        "\n",
        "#Removing all the returned items(Quantity less than equal to 0)\n",
        "df=df[df['Quantity']>0]\n",
        "df['Sales'] = df['Quantity'] * df['UnitPrice']\n",
        "df[df['CustomerID']==12347]['Sales'].sum()#this monetary value does not match with the monetary value that we get after summary_from_transaction_data\n"
      ],
      "execution_count": 7,
      "outputs": [
        {
          "output_type": "execute_result",
          "data": {
            "text/plain": [
              "4310.000000000001"
            ]
          },
          "metadata": {
            "tags": []
          },
          "execution_count": 7
        }
      ]
    },
    {
      "cell_type": "code",
      "metadata": {
        "id": "pTjrw3RLih4k"
      },
      "source": [
        "#Removing all customer id's with Null Value\n",
        "df6=df6[pd.notnull(df6['CustomerID'])]\n",
        "\n",
        "#Removing all the returned items(Quantity less than equal to 0)\n",
        "df6=df6[df6['Quantity']>0]\n",
        "df6['Sales'] = df6['Quantity'] * df6['UnitPrice']\n"
      ],
      "execution_count": 8,
      "outputs": []
    },
    {
      "cell_type": "code",
      "metadata": {
        "id": "y5AHLoEaiVfF"
      },
      "source": [
        ""
      ],
      "execution_count": null,
      "outputs": []
    },
    {
      "cell_type": "code",
      "metadata": {
        "id": "6XOXPfyng0sF"
      },
      "source": [
        "df11 = df.copy()\n",
        "df12 = df.copy()"
      ],
      "execution_count": 9,
      "outputs": []
    },
    {
      "cell_type": "code",
      "metadata": {
        "id": "c1O3DgXD3tzK",
        "outputId": "7f30585e-404c-42e6-9835-291a7dd20942",
        "colab": {
          "base_uri": "https://localhost:8080/"
        }
      },
      "source": [
        "print(df['CustomerID'].nunique())\n"
      ],
      "execution_count": 10,
      "outputs": [
        {
          "output_type": "stream",
          "text": [
            "4339\n"
          ],
          "name": "stdout"
        }
      ]
    },
    {
      "cell_type": "code",
      "metadata": {
        "id": "FAw5UGFp3vlm",
        "outputId": "1242fee2-19ad-42c7-aeda-6a70c1b35b75",
        "colab": {
          "base_uri": "https://localhost:8080/",
          "height": 283
        }
      },
      "source": [
        "df['hour'].plot(kind='hist', bins=30)"
      ],
      "execution_count": null,
      "outputs": [
        {
          "output_type": "execute_result",
          "data": {
            "text/plain": [
              "<matplotlib.axes._subplots.AxesSubplot at 0x7f7e5ecfec50>"
            ]
          },
          "metadata": {
            "tags": []
          },
          "execution_count": 9
        },
        {
          "output_type": "display_data",
          "data": {
            "image/png": "[encoded data removed]",
            "text/plain": [
              "<Figure size 432x288 with 1 Axes>"
            ]
          },
          "metadata": {
            "tags": [],
            "needs_background": "light"
          }
        }
      ]
    },
    {
      "cell_type": "code",
      "metadata": {
        "id": "MJnokmU13v60",
        "outputId": "7543d2aa-5b36-497e-c476-7e70a20772ee",
        "colab": {
          "base_uri": "https://localhost:8080/",
          "height": 283
        }
      },
      "source": [
        "df['month'].plot(kind='hist', bins=30)"
      ],
      "execution_count": null,
      "outputs": [
        {
          "output_type": "execute_result",
          "data": {
            "text/plain": [
              "<matplotlib.axes._subplots.AxesSubplot at 0x7f7e678d3be0>"
            ]
          },
          "metadata": {
            "tags": []
          },
          "execution_count": 10
        },
        {
          "output_type": "display_data",
          "data": {
            "image/png": "[encoded data removed]",
            "text/plain": [
              "<Figure size 432x288 with 1 Axes>"
            ]
          },
          "metadata": {
            "tags": [],
            "needs_background": "light"
          }
        }
      ]
    },
    {
      "cell_type": "code",
      "metadata": {
        "id": "AuQNOYPA3x0i",
        "outputId": "f0d8eec8-82d5-4513-a89c-6385cf9bc87b",
        "colab": {
          "base_uri": "https://localhost:8080/",
          "height": 283
        }
      },
      "source": [
        "df['day'].plot(kind='hist', bins=30)"
      ],
      "execution_count": null,
      "outputs": [
        {
          "output_type": "execute_result",
          "data": {
            "text/plain": [
              "<matplotlib.axes._subplots.AxesSubplot at 0x7f7e5bc5e400>"
            ]
          },
          "metadata": {
            "tags": []
          },
          "execution_count": 11
        },
        {
          "output_type": "display_data",
          "data": {
            "image/png": "[encoded data removed]",
            "text/plain": [
              "<Figure size 432x288 with 1 Axes>"
            ]
          },
          "metadata": {
            "tags": [],
            "needs_background": "light"
          }
        }
      ]
    },
    {
      "cell_type": "code",
      "metadata": {
        "id": "3xo8ocSh3ztE",
        "outputId": "3948bb7a-97ea-491c-c7c7-d3f4ad03a41c",
        "colab": {
          "base_uri": "https://localhost:8080/",
          "height": 283
        }
      },
      "source": [
        "df['weekday'].plot(kind='hist', bins=30)"
      ],
      "execution_count": null,
      "outputs": [
        {
          "output_type": "execute_result",
          "data": {
            "text/plain": [
              "<matplotlib.axes._subplots.AxesSubplot at 0x7f7e5bd41e48>"
            ]
          },
          "metadata": {
            "tags": []
          },
          "execution_count": 12
        },
        {
          "output_type": "display_data",
          "data": {
            "image/png": "[encoded data removed]",
            "text/plain": [
              "<Figure size 432x288 with 1 Axes>"
            ]
          },
          "metadata": {
            "tags": [],
            "needs_background": "light"
          }
        }
      ]
    },
    {
      "cell_type": "code",
      "metadata": {
        "id": "edyGLnaGO3yL",
        "outputId": "f5c2ab48-940f-4926-b9e4-aec8c01c882f",
        "colab": {
          "base_uri": "https://localhost:8080/",
          "height": 202
        }
      },
      "source": [
        "### number of gap days between purchases for all customers\n",
        "df.head()\n",
        "#cleaning the data\n",
        "df1=df.loc[(df['CustomerID'].notnull()==True)]\n",
        "df1=df1[df1['Quantity']>0]\n",
        "df1['InvoiceDate']=pd.to_datetime(df1[\"InvoiceDate\"]).dt.date\n",
        "df1=df1[['CustomerID','InvoiceDate']]\n",
        "uniqueids=sorted(df1['CustomerID'].unique())\n",
        "\n",
        "#creating a list containing all transaction dates for the corresponding customer\n",
        "date_list=[]\n",
        "\n",
        "for id in uniqueids:\n",
        "\n",
        "  date=df1[df1['CustomerID']==id]['InvoiceDate'].unique()\n",
        "  date=sorted(date)\n",
        "  date_list.append(date)\n",
        "  \n",
        "#creating a df with customer ids and the created col containing all purchase dates\n",
        "date_df=pd.DataFrame(list(zip(uniqueids,date_list)),columns=['CustomerID','Purchase_dates'])\n",
        "date_df.head()"
      ],
      "execution_count": null,
      "outputs": [
        {
          "output_type": "execute_result",
          "data": {
            "text/html": [
              "<div>\n",
              "<style scoped>\n",
              "    .dataframe tbody tr th:only-of-type {\n",
              "        vertical-align: middle;\n",
              "    }\n",
              "\n",
              "    .dataframe tbody tr th {\n",
              "        vertical-align: top;\n",
              "    }\n",
              "\n",
              "    .dataframe thead th {\n",
              "        text-align: right;\n",
              "    }\n",
              "</style>\n",
              "<table border=\"1\" class=\"dataframe\">\n",
              "  <thead>\n",
              "    <tr style=\"text-align: right;\">\n",
              "      <th></th>\n",
              "      <th>CustomerID</th>\n",
              "      <th>Purchase_dates</th>\n",
              "    </tr>\n",
              "  </thead>\n",
              "  <tbody>\n",
              "    <tr>\n",
              "      <th>0</th>\n",
              "      <td>12346.0</td>\n",
              "      <td>[2011-01-18]</td>\n",
              "    </tr>\n",
              "    <tr>\n",
              "      <th>1</th>\n",
              "      <td>12347.0</td>\n",
              "      <td>[2010-12-07, 2011-01-26, 2011-04-07, 2011-06-0...</td>\n",
              "    </tr>\n",
              "    <tr>\n",
              "      <th>2</th>\n",
              "      <td>12348.0</td>\n",
              "      <td>[2010-12-16, 2011-01-25, 2011-04-05, 2011-09-25]</td>\n",
              "    </tr>\n",
              "    <tr>\n",
              "      <th>3</th>\n",
              "      <td>12349.0</td>\n",
              "      <td>[2011-11-21]</td>\n",
              "    </tr>\n",
              "    <tr>\n",
              "      <th>4</th>\n",
              "      <td>12350.0</td>\n",
              "      <td>[2011-02-02]</td>\n",
              "    </tr>\n",
              "  </tbody>\n",
              "</table>\n",
              "</div>"
            ],
            "text/plain": [
              "   CustomerID                                     Purchase_dates\n",
              "0     12346.0                                       [2011-01-18]\n",
              "1     12347.0  [2010-12-07, 2011-01-26, 2011-04-07, 2011-06-0...\n",
              "2     12348.0   [2010-12-16, 2011-01-25, 2011-04-05, 2011-09-25]\n",
              "3     12349.0                                       [2011-11-21]\n",
              "4     12350.0                                       [2011-02-02]"
            ]
          },
          "metadata": {
            "tags": []
          },
          "execution_count": 13
        }
      ]
    },
    {
      "cell_type": "code",
      "metadata": {
        "id": "1Lf6t64eQVI5",
        "outputId": "92dcce99-5259-4604-e502-9f54b5a28d70",
        "colab": {
          "base_uri": "https://localhost:8080/",
          "height": 202
        }
      },
      "source": [
        "##creating a list containing number of gap days between purchases for each customer\n",
        "\n",
        "gap_list=[]\n",
        "n=len(date_df)\n",
        "for i in range(n):\n",
        "  purchase_dates=date_df['Purchase_dates'][i]\n",
        "  m=len(date_df['Purchase_dates'][i])\n",
        "  if m==1:\n",
        "    gap_list.append(0)\n",
        "  else:\n",
        "    #gap=0\n",
        "    for j in range(m-1):\n",
        "      gap=gap_list.append(((purchase_dates[j+1]-purchase_dates[j]).days))\n",
        "\n",
        "## creating a dataframe of all gap days\n",
        "df_gap=pd.DataFrame(gap_list,columns=['gap_days'])\n",
        "df_gap.head()\n",
        "\n"
      ],
      "execution_count": null,
      "outputs": [
        {
          "output_type": "execute_result",
          "data": {
            "text/html": [
              "<div>\n",
              "<style scoped>\n",
              "    .dataframe tbody tr th:only-of-type {\n",
              "        vertical-align: middle;\n",
              "    }\n",
              "\n",
              "    .dataframe tbody tr th {\n",
              "        vertical-align: top;\n",
              "    }\n",
              "\n",
              "    .dataframe thead th {\n",
              "        text-align: right;\n",
              "    }\n",
              "</style>\n",
              "<table border=\"1\" class=\"dataframe\">\n",
              "  <thead>\n",
              "    <tr style=\"text-align: right;\">\n",
              "      <th></th>\n",
              "      <th>gap_days</th>\n",
              "    </tr>\n",
              "  </thead>\n",
              "  <tbody>\n",
              "    <tr>\n",
              "      <th>0</th>\n",
              "      <td>0</td>\n",
              "    </tr>\n",
              "    <tr>\n",
              "      <th>1</th>\n",
              "      <td>50</td>\n",
              "    </tr>\n",
              "    <tr>\n",
              "      <th>2</th>\n",
              "      <td>71</td>\n",
              "    </tr>\n",
              "    <tr>\n",
              "      <th>3</th>\n",
              "      <td>63</td>\n",
              "    </tr>\n",
              "    <tr>\n",
              "      <th>4</th>\n",
              "      <td>54</td>\n",
              "    </tr>\n",
              "  </tbody>\n",
              "</table>\n",
              "</div>"
            ],
            "text/plain": [
              "   gap_days\n",
              "0         0\n",
              "1        50\n",
              "2        71\n",
              "3        63\n",
              "4        54"
            ]
          },
          "metadata": {
            "tags": []
          },
          "execution_count": 14
        }
      ]
    },
    {
      "cell_type": "code",
      "metadata": {
        "id": "Pr-HFUiaRdqD",
        "outputId": "f4798391-b3fb-4255-f964-497921248348",
        "colab": {
          "base_uri": "https://localhost:8080/",
          "height": 1000
        }
      },
      "source": [
        "#viewing the frequency of each gap day\n",
        "import numpy as np\n",
        "lst=np.array(gap_list)\n",
        "(unique, counts) = np.unique(lst, return_counts=True)\n",
        "frequencies = np.asarray((unique, counts)).T\n",
        "frequencies\n"
      ],
      "execution_count": null,
      "outputs": [
        {
          "output_type": "execute_result",
          "data": {
            "text/plain": [
              "array([[   0, 1549],\n",
              "       [   1,  328],\n",
              "       [   2,  296],\n",
              "       [   3,  265],\n",
              "       [   4,  265],\n",
              "       [   5,  278],\n",
              "       [   6,  306],\n",
              "       [   7,  411],\n",
              "       [   8,  287],\n",
              "       [   9,  231],\n",
              "       [  10,  209],\n",
              "       [  11,  185],\n",
              "       [  12,  227],\n",
              "       [  13,  244],\n",
              "       [  14,  358],\n",
              "       [  15,  224],\n",
              "       [  16,  183],\n",
              "       [  17,  167],\n",
              "       [  18,  148],\n",
              "       [  19,  176],\n",
              "       [  20,  201],\n",
              "       [  21,  296],\n",
              "       [  22,  179],\n",
              "       [  23,  136],\n",
              "       [  24,  125],\n",
              "       [  25,  135],\n",
              "       [  26,  127],\n",
              "       [  27,  139],\n",
              "       [  28,  223],\n",
              "       [  29,  147],\n",
              "       [  30,  132],\n",
              "       [  31,  127],\n",
              "       [  32,  107],\n",
              "       [  33,  111],\n",
              "       [  34,  131],\n",
              "       [  35,  174],\n",
              "       [  36,  128],\n",
              "       [  37,  107],\n",
              "       [  38,   97],\n",
              "       [  39,  115],\n",
              "       [  40,  103],\n",
              "       [  41,  112],\n",
              "       [  42,  160],\n",
              "       [  43,  114],\n",
              "       [  44,   87],\n",
              "       [  45,   90],\n",
              "       [  46,   84],\n",
              "       [  47,   56],\n",
              "       [  48,   95],\n",
              "       [  49,  124],\n",
              "       [  50,   81],\n",
              "       [  51,   75],\n",
              "       [  52,   59],\n",
              "       [  53,   55],\n",
              "       [  54,   69],\n",
              "       [  55,   75],\n",
              "       [  56,   95],\n",
              "       [  57,   51],\n",
              "       [  58,   54],\n",
              "       [  59,   47],\n",
              "       [  60,   63],\n",
              "       [  61,   46],\n",
              "       [  62,   62],\n",
              "       [  63,   83],\n",
              "       [  64,   55],\n",
              "       [  65,   40],\n",
              "       [  66,   47],\n",
              "       [  67,   40],\n",
              "       [  68,   43],\n",
              "       [  69,   47],\n",
              "       [  70,   61],\n",
              "       [  71,   40],\n",
              "       [  72,   36],\n",
              "       [  73,   46],\n",
              "       [  74,   32],\n",
              "       [  75,   32],\n",
              "       [  76,   41],\n",
              "       [  77,   46],\n",
              "       [  78,   35],\n",
              "       [  79,   29],\n",
              "       [  80,   23],\n",
              "       [  81,   34],\n",
              "       [  82,   36],\n",
              "       [  83,   42],\n",
              "       [  84,   50],\n",
              "       [  85,   35],\n",
              "       [  86,   21],\n",
              "       [  87,   26],\n",
              "       [  88,   21],\n",
              "       [  89,   22],\n",
              "       [  90,   29],\n",
              "       [  91,   45],\n",
              "       [  92,   28],\n",
              "       [  93,   23],\n",
              "       [  94,   18],\n",
              "       [  95,   29],\n",
              "       [  96,   22],\n",
              "       [  97,   28],\n",
              "       [  98,   33],\n",
              "       [  99,   27],\n",
              "       [ 100,   21],\n",
              "       [ 101,   26],\n",
              "       [ 102,   17],\n",
              "       [ 103,   26],\n",
              "       [ 104,   24],\n",
              "       [ 105,   32],\n",
              "       [ 106,   25],\n",
              "       [ 107,   25],\n",
              "       [ 108,   25],\n",
              "       [ 109,   20],\n",
              "       [ 110,   19],\n",
              "       [ 111,   16],\n",
              "       [ 112,   37],\n",
              "       [ 113,   18],\n",
              "       [ 114,   20],\n",
              "       [ 115,   14],\n",
              "       [ 116,   19],\n",
              "       [ 117,   14],\n",
              "       [ 118,   13],\n",
              "       [ 119,   28],\n",
              "       [ 120,   17],\n",
              "       [ 121,   14],\n",
              "       [ 122,    9],\n",
              "       [ 123,   13],\n",
              "       [ 124,   17],\n",
              "       [ 125,   21],\n",
              "       [ 126,   28],\n",
              "       [ 127,   16],\n",
              "       [ 128,    8],\n",
              "       [ 129,   12],\n",
              "       [ 130,   15],\n",
              "       [ 131,    9],\n",
              "       [ 132,   13],\n",
              "       [ 133,   20],\n",
              "       [ 134,   13],\n",
              "       [ 135,   12],\n",
              "       [ 136,    9],\n",
              "       [ 137,    9],\n",
              "       [ 138,   12],\n",
              "       [ 139,   16],\n",
              "       [ 140,   15],\n",
              "       [ 141,   10],\n",
              "       [ 142,   11],\n",
              "       [ 143,    8],\n",
              "       [ 144,    8],\n",
              "       [ 145,    7],\n",
              "       [ 146,   10],\n",
              "       [ 147,   12],\n",
              "       [ 148,   10],\n",
              "       [ 149,    7],\n",
              "       [ 150,    5],\n",
              "       [ 151,   12],\n",
              "       [ 152,   14],\n",
              "       [ 153,    8],\n",
              "       [ 154,   16],\n",
              "       [ 155,    9],\n",
              "       [ 156,    4],\n",
              "       [ 157,    5],\n",
              "       [ 158,   11],\n",
              "       [ 159,    9],\n",
              "       [ 160,   14],\n",
              "       [ 161,   10],\n",
              "       [ 162,    5],\n",
              "       [ 163,   13],\n",
              "       [ 164,    4],\n",
              "       [ 165,    8],\n",
              "       [ 166,   11],\n",
              "       [ 167,    8],\n",
              "       [ 168,    5],\n",
              "       [ 169,    5],\n",
              "       [ 170,    6],\n",
              "       [ 171,    5],\n",
              "       [ 172,    5],\n",
              "       [ 173,   10],\n",
              "       [ 174,    8],\n",
              "       [ 175,   10],\n",
              "       [ 176,    4],\n",
              "       [ 177,    4],\n",
              "       [ 178,    8],\n",
              "       [ 179,    6],\n",
              "       [ 180,    6],\n",
              "       [ 181,    5],\n",
              "       [ 182,    9],\n",
              "       [ 183,    3],\n",
              "       [ 184,    7],\n",
              "       [ 185,    4],\n",
              "       [ 186,    9],\n",
              "       [ 187,    5],\n",
              "       [ 188,    6],\n",
              "       [ 189,    7],\n",
              "       [ 190,    5],\n",
              "       [ 191,    4],\n",
              "       [ 192,    7],\n",
              "       [ 193,    5],\n",
              "       [ 194,    6],\n",
              "       [ 195,    6],\n",
              "       [ 196,    3],\n",
              "       [ 197,    7],\n",
              "       [ 198,    1],\n",
              "       [ 199,    3],\n",
              "       [ 200,    7],\n",
              "       [ 201,    5],\n",
              "       [ 202,    5],\n",
              "       [ 203,    6],\n",
              "       [ 204,    7],\n",
              "       [ 205,    4],\n",
              "       [ 206,    3],\n",
              "       [ 207,    2],\n",
              "       [ 208,    5],\n",
              "       [ 209,    2],\n",
              "       [ 210,    7],\n",
              "       [ 211,    5],\n",
              "       [ 212,    1],\n",
              "       [ 213,    6],\n",
              "       [ 214,    4],\n",
              "       [ 215,    2],\n",
              "       [ 216,    6],\n",
              "       [ 217,    2],\n",
              "       [ 218,    2],\n",
              "       [ 219,    3],\n",
              "       [ 220,    2],\n",
              "       [ 221,    3],\n",
              "       [ 222,    1],\n",
              "       [ 223,    6],\n",
              "       [ 224,    8],\n",
              "       [ 225,    7],\n",
              "       [ 226,    3],\n",
              "       [ 227,    1],\n",
              "       [ 228,    3],\n",
              "       [ 229,    3],\n",
              "       [ 230,    2],\n",
              "       [ 231,    3],\n",
              "       [ 232,    3],\n",
              "       [ 233,    2],\n",
              "       [ 234,    3],\n",
              "       [ 235,    1],\n",
              "       [ 236,    3],\n",
              "       [ 237,    4],\n",
              "       [ 238,    6],\n",
              "       [ 239,    1],\n",
              "       [ 240,    3],\n",
              "       [ 241,    1],\n",
              "       [ 242,    4],\n",
              "       [ 243,    4],\n",
              "       [ 244,    1],\n",
              "       [ 245,    6],\n",
              "       [ 246,    1],\n",
              "       [ 247,    3],\n",
              "       [ 248,    4],\n",
              "       [ 250,    4],\n",
              "       [ 251,    4],\n",
              "       [ 252,    5],\n",
              "       [ 253,    2],\n",
              "       [ 254,    1],\n",
              "       [ 255,    2],\n",
              "       [ 257,    2],\n",
              "       [ 258,    5],\n",
              "       [ 259,    3],\n",
              "       [ 260,    3],\n",
              "       [ 262,    1],\n",
              "       [ 264,    1],\n",
              "       [ 265,    1],\n",
              "       [ 266,    3],\n",
              "       [ 267,    2],\n",
              "       [ 270,    1],\n",
              "       [ 271,    2],\n",
              "       [ 272,    2],\n",
              "       [ 273,    3],\n",
              "       [ 274,    1],\n",
              "       [ 275,    1],\n",
              "       [ 276,    3],\n",
              "       [ 277,    3],\n",
              "       [ 279,    2],\n",
              "       [ 280,    1],\n",
              "       [ 281,    3],\n",
              "       [ 283,    1],\n",
              "       [ 285,    3],\n",
              "       [ 286,    1],\n",
              "       [ 287,    1],\n",
              "       [ 289,    3],\n",
              "       [ 290,    2],\n",
              "       [ 291,    1],\n",
              "       [ 292,    2],\n",
              "       [ 293,    1],\n",
              "       [ 294,    2],\n",
              "       [ 295,    1],\n",
              "       [ 297,    2],\n",
              "       [ 298,    1],\n",
              "       [ 300,    1],\n",
              "       [ 301,    2],\n",
              "       [ 302,    1],\n",
              "       [ 305,    2],\n",
              "       [ 306,    5],\n",
              "       [ 308,    1],\n",
              "       [ 309,    2],\n",
              "       [ 310,    1],\n",
              "       [ 311,    1],\n",
              "       [ 313,    1],\n",
              "       [ 315,    4],\n",
              "       [ 316,    1],\n",
              "       [ 317,    1],\n",
              "       [ 318,    1],\n",
              "       [ 319,    2],\n",
              "       [ 320,    1],\n",
              "       [ 321,    1],\n",
              "       [ 322,    1],\n",
              "       [ 324,    2],\n",
              "       [ 325,    1],\n",
              "       [ 326,    2],\n",
              "       [ 327,    1],\n",
              "       [ 329,    1],\n",
              "       [ 330,    2],\n",
              "       [ 332,    1],\n",
              "       [ 333,    1],\n",
              "       [ 335,    2],\n",
              "       [ 337,    1],\n",
              "       [ 338,    2],\n",
              "       [ 339,    1],\n",
              "       [ 340,    2],\n",
              "       [ 341,    1],\n",
              "       [ 342,    2],\n",
              "       [ 344,    1],\n",
              "       [ 347,    1],\n",
              "       [ 349,    3],\n",
              "       [ 350,    3],\n",
              "       [ 351,    2],\n",
              "       [ 352,    1],\n",
              "       [ 355,    2],\n",
              "       [ 356,    2],\n",
              "       [ 357,    2],\n",
              "       [ 363,    1],\n",
              "       [ 364,    1],\n",
              "       [ 365,    1],\n",
              "       [ 366,    1]])"
            ]
          },
          "metadata": {
            "tags": []
          },
          "execution_count": 15
        }
      ]
    },
    {
      "cell_type": "code",
      "metadata": {
        "id": "2QojBwBfSxya",
        "outputId": "34ba2370-bf36-440f-f899-f67e00d39ed7",
        "colab": {
          "base_uri": "https://localhost:8080/",
          "height": 280
        }
      },
      "source": [
        "plt.hist(np.array(gap_list), 30, facecolor='g', alpha=0.75)\n",
        "plt.grid()\n",
        "plt.xlabel(\"Number of Gap Days\")\n",
        "plt.show()"
      ],
      "execution_count": null,
      "outputs": [
        {
          "output_type": "display_data",
          "data": {
            "image/png": "[encoded data removed]",
            "text/plain": [
              "<Figure size 432x288 with 1 Axes>"
            ]
          },
          "metadata": {
            "tags": [],
            "needs_background": "light"
          }
        }
      ]
    },
    {
      "cell_type": "code",
      "metadata": {
        "id": "uUbmlpfgNmV7",
        "outputId": "7712688e-c891-4d87-8501-1e5137dd6048",
        "colab": {
          "base_uri": "https://localhost:8080/"
        }
      },
      "source": [
        "!pip install lifetimes"
      ],
      "execution_count": 11,
      "outputs": [
        {
          "output_type": "stream",
          "text": [
            "Collecting lifetimes\n",
            "\u001b[?25l  Downloading https://files.pythonhosted.org/packages/c5/1f/ee6a471dcb5cb2f4dbc219023e07991f3b917875f9c8a5f5d77c00ddabca/Lifetimes-0.11.3-py3-none-any.whl (584kB)\n",
            "\r\u001b[K     |▋                               | 10kB 17.1MB/s eta 0:00:01\r\u001b[K     |█▏                              | 20kB 1.5MB/s eta 0:00:01\r\u001b[K     |█▊                              | 30kB 1.8MB/s eta 0:00:01\r\u001b[K     |██▎                             | 40kB 2.1MB/s eta 0:00:01\r\u001b[K     |██▉                             | 51kB 1.9MB/s eta 0:00:01\r\u001b[K     |███▍                            | 61kB 2.1MB/s eta 0:00:01\r\u001b[K     |████                            | 71kB 2.3MB/s eta 0:00:01\r\u001b[K     |████▌                           | 81kB 2.4MB/s eta 0:00:01\r\u001b[K     |█████                           | 92kB 2.4MB/s eta 0:00:01\r\u001b[K     |█████▋                          | 102kB 2.6MB/s eta 0:00:01\r\u001b[K     |██████▏                         | 112kB 2.6MB/s eta 0:00:01\r\u001b[K     |██████▊                         | 122kB 2.6MB/s eta 0:00:01\r\u001b[K     |███████▎                        | 133kB 2.6MB/s eta 0:00:01\r\u001b[K     |███████▉                        | 143kB 2.6MB/s eta 0:00:01\r\u001b[K     |████████▍                       | 153kB 2.6MB/s eta 0:00:01\r\u001b[K     |█████████                       | 163kB 2.6MB/s eta 0:00:01\r\u001b[K     |█████████▌                      | 174kB 2.6MB/s eta 0:00:01\r\u001b[K     |██████████                      | 184kB 2.6MB/s eta 0:00:01\r\u001b[K     |██████████▋                     | 194kB 2.6MB/s eta 0:00:01\r\u001b[K     |███████████▏                    | 204kB 2.6MB/s eta 0:00:01\r\u001b[K     |███████████▉                    | 215kB 2.6MB/s eta 0:00:01\r\u001b[K     |████████████▍                   | 225kB 2.6MB/s eta 0:00:01\r\u001b[K     |█████████████                   | 235kB 2.6MB/s eta 0:00:01\r\u001b[K     |█████████████▌                  | 245kB 2.6MB/s eta 0:00:01\r\u001b[K     |██████████████                  | 256kB 2.6MB/s eta 0:00:01\r\u001b[K     |██████████████▋                 | 266kB 2.6MB/s eta 0:00:01\r\u001b[K     |███████████████▏                | 276kB 2.6MB/s eta 0:00:01\r\u001b[K     |███████████████▊                | 286kB 2.6MB/s eta 0:00:01\r\u001b[K     |████████████████▎               | 296kB 2.6MB/s eta 0:00:01\r\u001b[K     |████████████████▉               | 307kB 2.6MB/s eta 0:00:01\r\u001b[K     |█████████████████▍              | 317kB 2.6MB/s eta 0:00:01\r\u001b[K     |██████████████████              | 327kB 2.6MB/s eta 0:00:01\r\u001b[K     |██████████████████▌             | 337kB 2.6MB/s eta 0:00:01\r\u001b[K     |███████████████████             | 348kB 2.6MB/s eta 0:00:01\r\u001b[K     |███████████████████▋            | 358kB 2.6MB/s eta 0:00:01\r\u001b[K     |████████████████████▏           | 368kB 2.6MB/s eta 0:00:01\r\u001b[K     |████████████████████▊           | 378kB 2.6MB/s eta 0:00:01\r\u001b[K     |█████████████████████▎          | 389kB 2.6MB/s eta 0:00:01\r\u001b[K     |█████████████████████▉          | 399kB 2.6MB/s eta 0:00:01\r\u001b[K     |██████████████████████▍         | 409kB 2.6MB/s eta 0:00:01\r\u001b[K     |███████████████████████         | 419kB 2.6MB/s eta 0:00:01\r\u001b[K     |███████████████████████▋        | 430kB 2.6MB/s eta 0:00:01\r\u001b[K     |████████████████████████▏       | 440kB 2.6MB/s eta 0:00:01\r\u001b[K     |████████████████████████▊       | 450kB 2.6MB/s eta 0:00:01\r\u001b[K     |█████████████████████████▎      | 460kB 2.6MB/s eta 0:00:01\r\u001b[K     |█████████████████████████▉      | 471kB 2.6MB/s eta 0:00:01\r\u001b[K     |██████████████████████████▍     | 481kB 2.6MB/s eta 0:00:01\r\u001b[K     |███████████████████████████     | 491kB 2.6MB/s eta 0:00:01\r\u001b[K     |███████████████████████████▌    | 501kB 2.6MB/s eta 0:00:01\r\u001b[K     |████████████████████████████    | 512kB 2.6MB/s eta 0:00:01\r\u001b[K     |████████████████████████████▋   | 522kB 2.6MB/s eta 0:00:01\r\u001b[K     |█████████████████████████████▏  | 532kB 2.6MB/s eta 0:00:01\r\u001b[K     |█████████████████████████████▊  | 542kB 2.6MB/s eta 0:00:01\r\u001b[K     |██████████████████████████████▎ | 552kB 2.6MB/s eta 0:00:01\r\u001b[K     |██████████████████████████████▉ | 563kB 2.6MB/s eta 0:00:01\r\u001b[K     |███████████████████████████████▍| 573kB 2.6MB/s eta 0:00:01\r\u001b[K     |████████████████████████████████| 583kB 2.6MB/s eta 0:00:01\r\u001b[K     |████████████████████████████████| 593kB 2.6MB/s \n",
            "\u001b[?25hRequirement already satisfied: scipy>=1.0.0 in /usr/local/lib/python3.6/dist-packages (from lifetimes) (1.4.1)\n",
            "Requirement already satisfied: dill>=0.2.6 in /usr/local/lib/python3.6/dist-packages (from lifetimes) (0.3.2)\n",
            "Requirement already satisfied: numpy>=1.10.0 in /usr/local/lib/python3.6/dist-packages (from lifetimes) (1.18.5)\n",
            "Requirement already satisfied: pandas>=0.24.0 in /usr/local/lib/python3.6/dist-packages (from lifetimes) (1.1.3)\n",
            "Requirement already satisfied: autograd>=1.2.0 in /usr/local/lib/python3.6/dist-packages (from lifetimes) (1.3)\n",
            "Requirement already satisfied: python-dateutil>=2.7.3 in /usr/local/lib/python3.6/dist-packages (from pandas>=0.24.0->lifetimes) (2.8.1)\n",
            "Requirement already satisfied: pytz>=2017.2 in /usr/local/lib/python3.6/dist-packages (from pandas>=0.24.0->lifetimes) (2018.9)\n",
            "Requirement already satisfied: future>=0.15.2 in /usr/local/lib/python3.6/dist-packages (from autograd>=1.2.0->lifetimes) (0.16.0)\n",
            "Requirement already satisfied: six>=1.5 in /usr/local/lib/python3.6/dist-packages (from python-dateutil>=2.7.3->pandas>=0.24.0->lifetimes) (1.15.0)\n",
            "Installing collected packages: lifetimes\n",
            "Successfully installed lifetimes-0.11.3\n"
          ],
          "name": "stdout"
        }
      ]
    },
    {
      "cell_type": "code",
      "metadata": {
        "id": "p4-k6JbsRcxY"
      },
      "source": [
        ""
      ],
      "execution_count": null,
      "outputs": []
    },
    {
      "cell_type": "code",
      "metadata": {
        "id": "tVdB1QIp32Kk",
        "outputId": "ea41215b-7b22-42f1-8e7e-a0363c3b7322",
        "colab": {
          "base_uri": "https://localhost:8080/",
          "height": 233
        }
      },
      "source": [
        "\n",
        "from lifetimes.plotting import *\n",
        "from lifetimes.utils import *\n",
        "data = summary_data_from_transaction_data(df, 'CustomerID', 'InvoiceDate', monetary_value_col='Sales', observation_period_end='2011-12-10')\n",
        "data1 = data.copy()\n",
        "data2 = data.copy()\n",
        "data.head()"
      ],
      "execution_count": 13,
      "outputs": [
        {
          "output_type": "execute_result",
          "data": {
            "text/html": [
              "<div>\n",
              "<style scoped>\n",
              "    .dataframe tbody tr th:only-of-type {\n",
              "        vertical-align: middle;\n",
              "    }\n",
              "\n",
              "    .dataframe tbody tr th {\n",
              "        vertical-align: top;\n",
              "    }\n",
              "\n",
              "    .dataframe thead th {\n",
              "        text-align: right;\n",
              "    }\n",
              "</style>\n",
              "<table border=\"1\" class=\"dataframe\">\n",
              "  <thead>\n",
              "    <tr style=\"text-align: right;\">\n",
              "      <th></th>\n",
              "      <th>frequency</th>\n",
              "      <th>recency</th>\n",
              "      <th>T</th>\n",
              "      <th>monetary_value</th>\n",
              "    </tr>\n",
              "    <tr>\n",
              "      <th>CustomerID</th>\n",
              "      <th></th>\n",
              "      <th></th>\n",
              "      <th></th>\n",
              "      <th></th>\n",
              "    </tr>\n",
              "  </thead>\n",
              "  <tbody>\n",
              "    <tr>\n",
              "      <th>12346.0</th>\n",
              "      <td>0.0</td>\n",
              "      <td>0.0</td>\n",
              "      <td>326.0</td>\n",
              "      <td>0.000000</td>\n",
              "    </tr>\n",
              "    <tr>\n",
              "      <th>12347.0</th>\n",
              "      <td>6.0</td>\n",
              "      <td>365.0</td>\n",
              "      <td>368.0</td>\n",
              "      <td>599.701667</td>\n",
              "    </tr>\n",
              "    <tr>\n",
              "      <th>12348.0</th>\n",
              "      <td>3.0</td>\n",
              "      <td>283.0</td>\n",
              "      <td>359.0</td>\n",
              "      <td>301.480000</td>\n",
              "    </tr>\n",
              "    <tr>\n",
              "      <th>12349.0</th>\n",
              "      <td>0.0</td>\n",
              "      <td>0.0</td>\n",
              "      <td>19.0</td>\n",
              "      <td>0.000000</td>\n",
              "    </tr>\n",
              "    <tr>\n",
              "      <th>12350.0</th>\n",
              "      <td>0.0</td>\n",
              "      <td>0.0</td>\n",
              "      <td>311.0</td>\n",
              "      <td>0.000000</td>\n",
              "    </tr>\n",
              "  </tbody>\n",
              "</table>\n",
              "</div>"
            ],
            "text/plain": [
              "            frequency  recency      T  monetary_value\n",
              "CustomerID                                           \n",
              "12346.0           0.0      0.0  326.0        0.000000\n",
              "12347.0           6.0    365.0  368.0      599.701667\n",
              "12348.0           3.0    283.0  359.0      301.480000\n",
              "12349.0           0.0      0.0   19.0        0.000000\n",
              "12350.0           0.0      0.0  311.0        0.000000"
            ]
          },
          "metadata": {
            "tags": []
          },
          "execution_count": 13
        }
      ]
    },
    {
      "cell_type": "code",
      "metadata": {
        "id": "PrRUPV2x36uU"
      },
      "source": [
        "data.reset_index()\n",
        "data=data.reindex(columns=['CustomerID','frequency','recency','T','monetary_value']) \n"
      ],
      "execution_count": null,
      "outputs": []
    },
    {
      "cell_type": "code",
      "metadata": {
        "id": "BBZg6az0jBIk",
        "outputId": "08249faa-4a7a-41f1-b496-8b44227c0a2d",
        "colab": {
          "base_uri": "https://localhost:8080/",
          "height": 233
        }
      },
      "source": [
        "\n",
        "data['CustomerID']=data.index\n",
        "data.head()"
      ],
      "execution_count": 11,
      "outputs": [
        {
          "output_type": "execute_result",
          "data": {
            "text/html": [
              "<div>\n",
              "<style scoped>\n",
              "    .dataframe tbody tr th:only-of-type {\n",
              "        vertical-align: middle;\n",
              "    }\n",
              "\n",
              "    .dataframe tbody tr th {\n",
              "        vertical-align: top;\n",
              "    }\n",
              "\n",
              "    .dataframe thead th {\n",
              "        text-align: right;\n",
              "    }\n",
              "</style>\n",
              "<table border=\"1\" class=\"dataframe\">\n",
              "  <thead>\n",
              "    <tr style=\"text-align: right;\">\n",
              "      <th></th>\n",
              "      <th>frequency</th>\n",
              "      <th>recency</th>\n",
              "      <th>T</th>\n",
              "      <th>monetary_value</th>\n",
              "      <th>CustomerID</th>\n",
              "    </tr>\n",
              "    <tr>\n",
              "      <th>CustomerID</th>\n",
              "      <th></th>\n",
              "      <th></th>\n",
              "      <th></th>\n",
              "      <th></th>\n",
              "      <th></th>\n",
              "    </tr>\n",
              "  </thead>\n",
              "  <tbody>\n",
              "    <tr>\n",
              "      <th>12346.0</th>\n",
              "      <td>0.0</td>\n",
              "      <td>0.0</td>\n",
              "      <td>326.0</td>\n",
              "      <td>0.000000</td>\n",
              "      <td>12346.0</td>\n",
              "    </tr>\n",
              "    <tr>\n",
              "      <th>12347.0</th>\n",
              "      <td>6.0</td>\n",
              "      <td>365.0</td>\n",
              "      <td>368.0</td>\n",
              "      <td>599.701667</td>\n",
              "      <td>12347.0</td>\n",
              "    </tr>\n",
              "    <tr>\n",
              "      <th>12348.0</th>\n",
              "      <td>3.0</td>\n",
              "      <td>283.0</td>\n",
              "      <td>359.0</td>\n",
              "      <td>301.480000</td>\n",
              "      <td>12348.0</td>\n",
              "    </tr>\n",
              "    <tr>\n",
              "      <th>12349.0</th>\n",
              "      <td>0.0</td>\n",
              "      <td>0.0</td>\n",
              "      <td>19.0</td>\n",
              "      <td>0.000000</td>\n",
              "      <td>12349.0</td>\n",
              "    </tr>\n",
              "    <tr>\n",
              "      <th>12350.0</th>\n",
              "      <td>0.0</td>\n",
              "      <td>0.0</td>\n",
              "      <td>311.0</td>\n",
              "      <td>0.000000</td>\n",
              "      <td>12350.0</td>\n",
              "    </tr>\n",
              "  </tbody>\n",
              "</table>\n",
              "</div>"
            ],
            "text/plain": [
              "            frequency  recency      T  monetary_value  CustomerID\n",
              "CustomerID                                                       \n",
              "12346.0           0.0      0.0  326.0        0.000000     12346.0\n",
              "12347.0           6.0    365.0  368.0      599.701667     12347.0\n",
              "12348.0           3.0    283.0  359.0      301.480000     12348.0\n",
              "12349.0           0.0      0.0   19.0        0.000000     12349.0\n",
              "12350.0           0.0      0.0  311.0        0.000000     12350.0"
            ]
          },
          "metadata": {
            "tags": []
          },
          "execution_count": 11
        }
      ]
    },
    {
      "cell_type": "code",
      "metadata": {
        "id": "Sco_z93S3_jY",
        "outputId": "00be70de-7ac2-4899-f1ce-d46c40cb5597",
        "colab": {
          "base_uri": "https://localhost:8080/",
          "height": 283
        }
      },
      "source": [
        "data['frequency'].plot(kind='hist', bins=25)"
      ],
      "execution_count": 12,
      "outputs": [
        {
          "output_type": "execute_result",
          "data": {
            "text/plain": [
              "<matplotlib.axes._subplots.AxesSubplot at 0x7f7b82013da0>"
            ]
          },
          "metadata": {
            "tags": []
          },
          "execution_count": 12
        },
        {
          "output_type": "display_data",
          "data": {
            "image/png": "[encoded data removed]",
            "text/plain": [
              "<Figure size 432x288 with 1 Axes>"
            ]
          },
          "metadata": {
            "tags": [],
            "needs_background": "light"
          }
        }
      ]
    },
    {
      "cell_type": "code",
      "metadata": {
        "id": "8a7sV7Gx4EFK",
        "outputId": "80263263-6c88-4e4f-d396-1d230bcca179",
        "colab": {
          "base_uri": "https://localhost:8080/",
          "height": 693
        }
      },
      "source": [
        "out=data[['CustomerID','frequency']]\n",
        "(out.sort_values(by=['frequency'], ascending=False)).head(20)"
      ],
      "execution_count": 13,
      "outputs": [
        {
          "output_type": "execute_result",
          "data": {
            "text/html": [
              "<div>\n",
              "<style scoped>\n",
              "    .dataframe tbody tr th:only-of-type {\n",
              "        vertical-align: middle;\n",
              "    }\n",
              "\n",
              "    .dataframe tbody tr th {\n",
              "        vertical-align: top;\n",
              "    }\n",
              "\n",
              "    .dataframe thead th {\n",
              "        text-align: right;\n",
              "    }\n",
              "</style>\n",
              "<table border=\"1\" class=\"dataframe\">\n",
              "  <thead>\n",
              "    <tr style=\"text-align: right;\">\n",
              "      <th></th>\n",
              "      <th>CustomerID</th>\n",
              "      <th>frequency</th>\n",
              "    </tr>\n",
              "    <tr>\n",
              "      <th>CustomerID</th>\n",
              "      <th></th>\n",
              "      <th></th>\n",
              "    </tr>\n",
              "  </thead>\n",
              "  <tbody>\n",
              "    <tr>\n",
              "      <th>14911.0</th>\n",
              "      <td>14911.0</td>\n",
              "      <td>131.0</td>\n",
              "    </tr>\n",
              "    <tr>\n",
              "      <th>12748.0</th>\n",
              "      <td>12748.0</td>\n",
              "      <td>113.0</td>\n",
              "    </tr>\n",
              "    <tr>\n",
              "      <th>17841.0</th>\n",
              "      <td>17841.0</td>\n",
              "      <td>111.0</td>\n",
              "    </tr>\n",
              "    <tr>\n",
              "      <th>15311.0</th>\n",
              "      <td>15311.0</td>\n",
              "      <td>89.0</td>\n",
              "    </tr>\n",
              "    <tr>\n",
              "      <th>14606.0</th>\n",
              "      <td>14606.0</td>\n",
              "      <td>88.0</td>\n",
              "    </tr>\n",
              "    <tr>\n",
              "      <th>12971.0</th>\n",
              "      <td>12971.0</td>\n",
              "      <td>70.0</td>\n",
              "    </tr>\n",
              "    <tr>\n",
              "      <th>13089.0</th>\n",
              "      <td>13089.0</td>\n",
              "      <td>65.0</td>\n",
              "    </tr>\n",
              "    <tr>\n",
              "      <th>14527.0</th>\n",
              "      <td>14527.0</td>\n",
              "      <td>53.0</td>\n",
              "    </tr>\n",
              "    <tr>\n",
              "      <th>13798.0</th>\n",
              "      <td>13798.0</td>\n",
              "      <td>52.0</td>\n",
              "    </tr>\n",
              "    <tr>\n",
              "      <th>16422.0</th>\n",
              "      <td>16422.0</td>\n",
              "      <td>47.0</td>\n",
              "    </tr>\n",
              "    <tr>\n",
              "      <th>14646.0</th>\n",
              "      <td>14646.0</td>\n",
              "      <td>44.0</td>\n",
              "    </tr>\n",
              "    <tr>\n",
              "      <th>14156.0</th>\n",
              "      <td>14156.0</td>\n",
              "      <td>42.0</td>\n",
              "    </tr>\n",
              "    <tr>\n",
              "      <th>15039.0</th>\n",
              "      <td>15039.0</td>\n",
              "      <td>41.0</td>\n",
              "    </tr>\n",
              "    <tr>\n",
              "      <th>13408.0</th>\n",
              "      <td>13408.0</td>\n",
              "      <td>40.0</td>\n",
              "    </tr>\n",
              "    <tr>\n",
              "      <th>16029.0</th>\n",
              "      <td>16029.0</td>\n",
              "      <td>38.0</td>\n",
              "    </tr>\n",
              "    <tr>\n",
              "      <th>17811.0</th>\n",
              "      <td>17811.0</td>\n",
              "      <td>37.0</td>\n",
              "    </tr>\n",
              "    <tr>\n",
              "      <th>15189.0</th>\n",
              "      <td>15189.0</td>\n",
              "      <td>37.0</td>\n",
              "    </tr>\n",
              "    <tr>\n",
              "      <th>13468.0</th>\n",
              "      <td>13468.0</td>\n",
              "      <td>35.0</td>\n",
              "    </tr>\n",
              "    <tr>\n",
              "      <th>17315.0</th>\n",
              "      <td>17315.0</td>\n",
              "      <td>34.0</td>\n",
              "    </tr>\n",
              "    <tr>\n",
              "      <th>13694.0</th>\n",
              "      <td>13694.0</td>\n",
              "      <td>34.0</td>\n",
              "    </tr>\n",
              "  </tbody>\n",
              "</table>\n",
              "</div>"
            ],
            "text/plain": [
              "            CustomerID  frequency\n",
              "CustomerID                       \n",
              "14911.0        14911.0      131.0\n",
              "12748.0        12748.0      113.0\n",
              "17841.0        17841.0      111.0\n",
              "15311.0        15311.0       89.0\n",
              "14606.0        14606.0       88.0\n",
              "12971.0        12971.0       70.0\n",
              "13089.0        13089.0       65.0\n",
              "14527.0        14527.0       53.0\n",
              "13798.0        13798.0       52.0\n",
              "16422.0        16422.0       47.0\n",
              "14646.0        14646.0       44.0\n",
              "14156.0        14156.0       42.0\n",
              "15039.0        15039.0       41.0\n",
              "13408.0        13408.0       40.0\n",
              "16029.0        16029.0       38.0\n",
              "17811.0        17811.0       37.0\n",
              "15189.0        15189.0       37.0\n",
              "13468.0        13468.0       35.0\n",
              "17315.0        17315.0       34.0\n",
              "13694.0        13694.0       34.0"
            ]
          },
          "metadata": {
            "tags": []
          },
          "execution_count": 13
        }
      ]
    },
    {
      "cell_type": "code",
      "metadata": {
        "id": "1snWZfFTzXfX",
        "outputId": "62cc3aa2-b282-4f36-852e-300c7b8d9594",
        "colab": {
          "base_uri": "https://localhost:8080/",
          "height": 446
        }
      },
      "source": [
        "out[out['frequency'] < 50 ]"
      ],
      "execution_count": 34,
      "outputs": [
        {
          "output_type": "execute_result",
          "data": {
            "text/html": [
              "<div>\n",
              "<style scoped>\n",
              "    .dataframe tbody tr th:only-of-type {\n",
              "        vertical-align: middle;\n",
              "    }\n",
              "\n",
              "    .dataframe tbody tr th {\n",
              "        vertical-align: top;\n",
              "    }\n",
              "\n",
              "    .dataframe thead th {\n",
              "        text-align: right;\n",
              "    }\n",
              "</style>\n",
              "<table border=\"1\" class=\"dataframe\">\n",
              "  <thead>\n",
              "    <tr style=\"text-align: right;\">\n",
              "      <th></th>\n",
              "      <th>CustomerID</th>\n",
              "      <th>frequency</th>\n",
              "    </tr>\n",
              "    <tr>\n",
              "      <th>CustomerID</th>\n",
              "      <th></th>\n",
              "      <th></th>\n",
              "    </tr>\n",
              "  </thead>\n",
              "  <tbody>\n",
              "    <tr>\n",
              "      <th>12346.0</th>\n",
              "      <td>12346.0</td>\n",
              "      <td>0.0</td>\n",
              "    </tr>\n",
              "    <tr>\n",
              "      <th>12347.0</th>\n",
              "      <td>12347.0</td>\n",
              "      <td>6.0</td>\n",
              "    </tr>\n",
              "    <tr>\n",
              "      <th>12348.0</th>\n",
              "      <td>12348.0</td>\n",
              "      <td>3.0</td>\n",
              "    </tr>\n",
              "    <tr>\n",
              "      <th>12349.0</th>\n",
              "      <td>12349.0</td>\n",
              "      <td>0.0</td>\n",
              "    </tr>\n",
              "    <tr>\n",
              "      <th>12350.0</th>\n",
              "      <td>12350.0</td>\n",
              "      <td>0.0</td>\n",
              "    </tr>\n",
              "    <tr>\n",
              "      <th>...</th>\n",
              "      <td>...</td>\n",
              "      <td>...</td>\n",
              "    </tr>\n",
              "    <tr>\n",
              "      <th>18280.0</th>\n",
              "      <td>18280.0</td>\n",
              "      <td>0.0</td>\n",
              "    </tr>\n",
              "    <tr>\n",
              "      <th>18281.0</th>\n",
              "      <td>18281.0</td>\n",
              "      <td>0.0</td>\n",
              "    </tr>\n",
              "    <tr>\n",
              "      <th>18282.0</th>\n",
              "      <td>18282.0</td>\n",
              "      <td>1.0</td>\n",
              "    </tr>\n",
              "    <tr>\n",
              "      <th>18283.0</th>\n",
              "      <td>18283.0</td>\n",
              "      <td>13.0</td>\n",
              "    </tr>\n",
              "    <tr>\n",
              "      <th>18287.0</th>\n",
              "      <td>18287.0</td>\n",
              "      <td>2.0</td>\n",
              "    </tr>\n",
              "  </tbody>\n",
              "</table>\n",
              "<p>4330 rows × 2 columns</p>\n",
              "</div>"
            ],
            "text/plain": [
              "            CustomerID  frequency\n",
              "CustomerID                       \n",
              "12346.0        12346.0        0.0\n",
              "12347.0        12347.0        6.0\n",
              "12348.0        12348.0        3.0\n",
              "12349.0        12349.0        0.0\n",
              "12350.0        12350.0        0.0\n",
              "...                ...        ...\n",
              "18280.0        18280.0        0.0\n",
              "18281.0        18281.0        0.0\n",
              "18282.0        18282.0        1.0\n",
              "18283.0        18283.0       13.0\n",
              "18287.0        18287.0        2.0\n",
              "\n",
              "[4330 rows x 2 columns]"
            ]
          },
          "metadata": {
            "tags": []
          },
          "execution_count": 34
        }
      ]
    },
    {
      "cell_type": "code",
      "metadata": {
        "id": "bZdQheOw4FGJ",
        "outputId": "2493f1d6-616e-4f0f-d484-b32d0afe53f1",
        "colab": {
          "base_uri": "https://localhost:8080/",
          "height": 355
        }
      },
      "source": [
        "### percentage of customers with x repeat purchases\n",
        "xd=pd.DataFrame(data['frequency'],columns=['frequency'])\n",
        "xd=xd.groupby(['frequency']).size().reset_index(name='count%')\n",
        "xd['count%']=(xd['count%']/(xd['count%'].sum())*100)\n",
        "xd.head(10)"
      ],
      "execution_count": 14,
      "outputs": [
        {
          "output_type": "execute_result",
          "data": {
            "text/html": [
              "<div>\n",
              "<style scoped>\n",
              "    .dataframe tbody tr th:only-of-type {\n",
              "        vertical-align: middle;\n",
              "    }\n",
              "\n",
              "    .dataframe tbody tr th {\n",
              "        vertical-align: top;\n",
              "    }\n",
              "\n",
              "    .dataframe thead th {\n",
              "        text-align: right;\n",
              "    }\n",
              "</style>\n",
              "<table border=\"1\" class=\"dataframe\">\n",
              "  <thead>\n",
              "    <tr style=\"text-align: right;\">\n",
              "      <th></th>\n",
              "      <th>frequency</th>\n",
              "      <th>count%</th>\n",
              "    </tr>\n",
              "  </thead>\n",
              "  <tbody>\n",
              "    <tr>\n",
              "      <th>0</th>\n",
              "      <td>0.0</td>\n",
              "      <td>35.699470</td>\n",
              "    </tr>\n",
              "    <tr>\n",
              "      <th>1</th>\n",
              "      <td>1.0</td>\n",
              "      <td>20.142890</td>\n",
              "    </tr>\n",
              "    <tr>\n",
              "      <th>2</th>\n",
              "      <td>2.0</td>\n",
              "      <td>11.546439</td>\n",
              "    </tr>\n",
              "    <tr>\n",
              "      <th>3</th>\n",
              "      <td>3.0</td>\n",
              "      <td>8.942153</td>\n",
              "    </tr>\n",
              "    <tr>\n",
              "      <th>4</th>\n",
              "      <td>4.0</td>\n",
              "      <td>5.254667</td>\n",
              "    </tr>\n",
              "    <tr>\n",
              "      <th>5</th>\n",
              "      <td>5.0</td>\n",
              "      <td>4.240608</td>\n",
              "    </tr>\n",
              "    <tr>\n",
              "      <th>6</th>\n",
              "      <td>6.0</td>\n",
              "      <td>3.042176</td>\n",
              "    </tr>\n",
              "    <tr>\n",
              "      <th>7</th>\n",
              "      <td>7.0</td>\n",
              "      <td>1.982024</td>\n",
              "    </tr>\n",
              "    <tr>\n",
              "      <th>8</th>\n",
              "      <td>8.0</td>\n",
              "      <td>1.544135</td>\n",
              "    </tr>\n",
              "    <tr>\n",
              "      <th>9</th>\n",
              "      <td>9.0</td>\n",
              "      <td>1.106246</td>\n",
              "    </tr>\n",
              "  </tbody>\n",
              "</table>\n",
              "</div>"
            ],
            "text/plain": [
              "   frequency     count%\n",
              "0        0.0  35.699470\n",
              "1        1.0  20.142890\n",
              "2        2.0  11.546439\n",
              "3        3.0   8.942153\n",
              "4        4.0   5.254667\n",
              "5        5.0   4.240608\n",
              "6        6.0   3.042176\n",
              "7        7.0   1.982024\n",
              "8        8.0   1.544135\n",
              "9        9.0   1.106246"
            ]
          },
          "metadata": {
            "tags": []
          },
          "execution_count": 14
        }
      ]
    },
    {
      "cell_type": "code",
      "metadata": {
        "id": "_ArRfUwRjVvC",
        "outputId": "21001f3f-9f21-409f-f19d-0167c23c8e7b",
        "colab": {
          "base_uri": "https://localhost:8080/",
          "height": 298
        }
      },
      "source": [
        "plt.plot( xd['frequency'] , xd['count%'] ) \n",
        "plt.xlabel('Frequency')\n",
        "plt.ylabel('Percentage of Customers with particular frequency')\n",
        "plt.show()\n"
      ],
      "execution_count": 15,
      "outputs": [
        {
          "output_type": "display_data",
          "data": {
            "image/png": "[encoded data removed]",
            "text/plain": [
              "<Figure size 432x288 with 1 Axes>"
            ]
          },
          "metadata": {
            "tags": [],
            "needs_background": "light"
          }
        }
      ]
    },
    {
      "cell_type": "code",
      "metadata": {
        "id": "8_-WY6l6jVfd",
        "outputId": "d9d1c5f1-f309-4c43-e61c-17dde521b635",
        "colab": {
          "base_uri": "https://localhost:8080/",
          "height": 298
        }
      },
      "source": [
        "plt.plot( xd['frequency'] , xd['count%'] ) \n",
        "plt.xlabel('Frequency')\n",
        "plt.ylabel('Percentage of Customers with particular frequency')\n",
        "plt.xlim(0,25)\n",
        "plt.show()"
      ],
      "execution_count": 16,
      "outputs": [
        {
          "output_type": "display_data",
          "data": {
            "image/png": "[encoded data removed]",
            "text/plain": [
              "<Figure size 432x288 with 1 Axes>"
            ]
          },
          "metadata": {
            "tags": [],
            "needs_background": "light"
          }
        }
      ]
    },
    {
      "cell_type": "code",
      "metadata": {
        "id": "cjjeAld24HB8",
        "outputId": "bc5e2a91-6deb-4f62-ddc4-5aed7c209b5e",
        "colab": {
          "base_uri": "https://localhost:8080/",
          "height": 386
        }
      },
      "source": [
        "\n",
        "# average number of gap between purchases of  customers with repeat purchases\n",
        "md=data[data['frequency']>0]\n",
        "md=md[['frequency','recency']]\n",
        "md['AvgPurDays']= (md['recency']/md['frequency']).round()\n",
        "md.head(10)\n"
      ],
      "execution_count": null,
      "outputs": [
        {
          "output_type": "execute_result",
          "data": {
            "text/html": [
              "<div>\n",
              "<style scoped>\n",
              "    .dataframe tbody tr th:only-of-type {\n",
              "        vertical-align: middle;\n",
              "    }\n",
              "\n",
              "    .dataframe tbody tr th {\n",
              "        vertical-align: top;\n",
              "    }\n",
              "\n",
              "    .dataframe thead th {\n",
              "        text-align: right;\n",
              "    }\n",
              "</style>\n",
              "<table border=\"1\" class=\"dataframe\">\n",
              "  <thead>\n",
              "    <tr style=\"text-align: right;\">\n",
              "      <th></th>\n",
              "      <th>frequency</th>\n",
              "      <th>recency</th>\n",
              "      <th>AvgPurDays</th>\n",
              "    </tr>\n",
              "    <tr>\n",
              "      <th>CustomerID</th>\n",
              "      <th></th>\n",
              "      <th></th>\n",
              "      <th></th>\n",
              "    </tr>\n",
              "  </thead>\n",
              "  <tbody>\n",
              "    <tr>\n",
              "      <th>12347.0</th>\n",
              "      <td>6.0</td>\n",
              "      <td>365.0</td>\n",
              "      <td>61.0</td>\n",
              "    </tr>\n",
              "    <tr>\n",
              "      <th>12348.0</th>\n",
              "      <td>3.0</td>\n",
              "      <td>283.0</td>\n",
              "      <td>94.0</td>\n",
              "    </tr>\n",
              "    <tr>\n",
              "      <th>12352.0</th>\n",
              "      <td>6.0</td>\n",
              "      <td>260.0</td>\n",
              "      <td>43.0</td>\n",
              "    </tr>\n",
              "    <tr>\n",
              "      <th>12356.0</th>\n",
              "      <td>2.0</td>\n",
              "      <td>303.0</td>\n",
              "      <td>152.0</td>\n",
              "    </tr>\n",
              "    <tr>\n",
              "      <th>12358.0</th>\n",
              "      <td>1.0</td>\n",
              "      <td>149.0</td>\n",
              "      <td>149.0</td>\n",
              "    </tr>\n",
              "    <tr>\n",
              "      <th>12359.0</th>\n",
              "      <td>3.0</td>\n",
              "      <td>274.0</td>\n",
              "      <td>91.0</td>\n",
              "    </tr>\n",
              "    <tr>\n",
              "      <th>12360.0</th>\n",
              "      <td>2.0</td>\n",
              "      <td>148.0</td>\n",
              "      <td>74.0</td>\n",
              "    </tr>\n",
              "    <tr>\n",
              "      <th>12362.0</th>\n",
              "      <td>9.0</td>\n",
              "      <td>292.0</td>\n",
              "      <td>32.0</td>\n",
              "    </tr>\n",
              "    <tr>\n",
              "      <th>12363.0</th>\n",
              "      <td>1.0</td>\n",
              "      <td>133.0</td>\n",
              "      <td>133.0</td>\n",
              "    </tr>\n",
              "    <tr>\n",
              "      <th>12364.0</th>\n",
              "      <td>3.0</td>\n",
              "      <td>105.0</td>\n",
              "      <td>35.0</td>\n",
              "    </tr>\n",
              "  </tbody>\n",
              "</table>\n",
              "</div>"
            ],
            "text/plain": [
              "            frequency  recency  AvgPurDays\n",
              "CustomerID                                \n",
              "12347.0           6.0    365.0        61.0\n",
              "12348.0           3.0    283.0        94.0\n",
              "12352.0           6.0    260.0        43.0\n",
              "12356.0           2.0    303.0       152.0\n",
              "12358.0           1.0    149.0       149.0\n",
              "12359.0           3.0    274.0        91.0\n",
              "12360.0           2.0    148.0        74.0\n",
              "12362.0           9.0    292.0        32.0\n",
              "12363.0           1.0    133.0       133.0\n",
              "12364.0           3.0    105.0        35.0"
            ]
          },
          "metadata": {
            "tags": []
          },
          "execution_count": 24
        }
      ]
    },
    {
      "cell_type": "code",
      "metadata": {
        "id": "xhcD5TRS4JpT",
        "outputId": "71be97a5-e25d-4534-f16c-97ec54af026c",
        "colab": {
          "base_uri": "https://localhost:8080/",
          "height": 283
        }
      },
      "source": [
        "#histogram showing average purchase dates\n",
        "bins=[0,25,50,75,100,125,150,175,200,225,250,275,300,700]\n",
        "md['AvgPurDays'].plot(kind='hist', bins=bins)"
      ],
      "execution_count": null,
      "outputs": [
        {
          "output_type": "execute_result",
          "data": {
            "text/plain": [
              "<matplotlib.axes._subplots.AxesSubplot at 0x7f7e659f9a90>"
            ]
          },
          "metadata": {
            "tags": []
          },
          "execution_count": 25
        },
        {
          "output_type": "display_data",
          "data": {
            "image/png": "[encoded data removed]",
            "text/plain": [
              "<Figure size 432x288 with 1 Axes>"
            ]
          },
          "metadata": {
            "tags": [],
            "needs_background": "light"
          }
        }
      ]
    },
    {
      "cell_type": "code",
      "metadata": {
        "id": "dQE083cD4Mpx",
        "outputId": "62fb9c44-724f-4729-e636-b310c88b4a9c",
        "colab": {
          "base_uri": "https://localhost:8080/",
          "height": 260
        }
      },
      "source": [
        "md['AvgPurDays'].value_counts(bins=bins, sort=False).head(15)"
      ],
      "execution_count": null,
      "outputs": [
        {
          "output_type": "execute_result",
          "data": {
            "text/plain": [
              "(-0.001, 25.0]    454\n",
              "(25.0, 50.0]      724\n",
              "(50.0, 75.0]      575\n",
              "(75.0, 100.0]     359\n",
              "(100.0, 125.0]    209\n",
              "(125.0, 150.0]    116\n",
              "(150.0, 175.0]    107\n",
              "(175.0, 200.0]     68\n",
              "(200.0, 225.0]     46\n",
              "(225.0, 250.0]     32\n",
              "(250.0, 275.0]     27\n",
              "(275.0, 300.0]     20\n",
              "(300.0, 700.0]     53\n",
              "Name: AvgPurDays, dtype: int64"
            ]
          },
          "metadata": {
            "tags": []
          },
          "execution_count": 26
        }
      ]
    },
    {
      "cell_type": "code",
      "metadata": {
        "id": "XHCSMBzA4OzC",
        "outputId": "307b12c6-775a-4f89-fdc6-bd73c4ddfd8a",
        "colab": {
          "base_uri": "https://localhost:8080/",
          "height": 294
        }
      },
      "source": [
        "data.describe()"
      ],
      "execution_count": null,
      "outputs": [
        {
          "output_type": "execute_result",
          "data": {
            "text/html": [
              "<div>\n",
              "<style scoped>\n",
              "    .dataframe tbody tr th:only-of-type {\n",
              "        vertical-align: middle;\n",
              "    }\n",
              "\n",
              "    .dataframe tbody tr th {\n",
              "        vertical-align: top;\n",
              "    }\n",
              "\n",
              "    .dataframe thead th {\n",
              "        text-align: right;\n",
              "    }\n",
              "</style>\n",
              "<table border=\"1\" class=\"dataframe\">\n",
              "  <thead>\n",
              "    <tr style=\"text-align: right;\">\n",
              "      <th></th>\n",
              "      <th>CustomerID</th>\n",
              "      <th>frequency</th>\n",
              "      <th>recency</th>\n",
              "      <th>T</th>\n",
              "      <th>monetary_value</th>\n",
              "    </tr>\n",
              "  </thead>\n",
              "  <tbody>\n",
              "    <tr>\n",
              "      <th>count</th>\n",
              "      <td>4339.000000</td>\n",
              "      <td>4339.000000</td>\n",
              "      <td>4339.000000</td>\n",
              "      <td>4339.000000</td>\n",
              "      <td>4339.000000</td>\n",
              "    </tr>\n",
              "    <tr>\n",
              "      <th>mean</th>\n",
              "      <td>15299.936852</td>\n",
              "      <td>2.864024</td>\n",
              "      <td>130.741415</td>\n",
              "      <td>223.782899</td>\n",
              "      <td>306.944168</td>\n",
              "    </tr>\n",
              "    <tr>\n",
              "      <th>std</th>\n",
              "      <td>1721.889758</td>\n",
              "      <td>5.952745</td>\n",
              "      <td>132.210176</td>\n",
              "      <td>117.883623</td>\n",
              "      <td>2612.453380</td>\n",
              "    </tr>\n",
              "    <tr>\n",
              "      <th>min</th>\n",
              "      <td>12346.000000</td>\n",
              "      <td>0.000000</td>\n",
              "      <td>0.000000</td>\n",
              "      <td>1.000000</td>\n",
              "      <td>0.000000</td>\n",
              "    </tr>\n",
              "    <tr>\n",
              "      <th>25%</th>\n",
              "      <td>13812.500000</td>\n",
              "      <td>0.000000</td>\n",
              "      <td>0.000000</td>\n",
              "      <td>113.000000</td>\n",
              "      <td>0.000000</td>\n",
              "    </tr>\n",
              "    <tr>\n",
              "      <th>50%</th>\n",
              "      <td>15299.000000</td>\n",
              "      <td>1.000000</td>\n",
              "      <td>93.000000</td>\n",
              "      <td>249.000000</td>\n",
              "      <td>176.940000</td>\n",
              "    </tr>\n",
              "    <tr>\n",
              "      <th>75%</th>\n",
              "      <td>16778.500000</td>\n",
              "      <td>3.000000</td>\n",
              "      <td>252.000000</td>\n",
              "      <td>327.000000</td>\n",
              "      <td>360.161667</td>\n",
              "    </tr>\n",
              "    <tr>\n",
              "      <th>max</th>\n",
              "      <td>18287.000000</td>\n",
              "      <td>131.000000</td>\n",
              "      <td>373.000000</td>\n",
              "      <td>374.000000</td>\n",
              "      <td>168469.600000</td>\n",
              "    </tr>\n",
              "  </tbody>\n",
              "</table>\n",
              "</div>"
            ],
            "text/plain": [
              "         CustomerID    frequency      recency            T  monetary_value\n",
              "count   4339.000000  4339.000000  4339.000000  4339.000000     4339.000000\n",
              "mean   15299.936852     2.864024   130.741415   223.782899      306.944168\n",
              "std     1721.889758     5.952745   132.210176   117.883623     2612.453380\n",
              "min    12346.000000     0.000000     0.000000     1.000000        0.000000\n",
              "25%    13812.500000     0.000000     0.000000   113.000000        0.000000\n",
              "50%    15299.000000     1.000000    93.000000   249.000000      176.940000\n",
              "75%    16778.500000     3.000000   252.000000   327.000000      360.161667\n",
              "max    18287.000000   131.000000   373.000000   374.000000   168469.600000"
            ]
          },
          "metadata": {
            "tags": []
          },
          "execution_count": 27
        }
      ]
    },
    {
      "cell_type": "code",
      "metadata": {
        "id": "TkEr29lE4Qqi",
        "outputId": "a0093621-e757-4493-a80d-2e9738a42f2a",
        "colab": {
          "base_uri": "https://localhost:8080/",
          "height": 35
        }
      },
      "source": [
        "stdt=df['InvoiceDate'].min()\n",
        "stdt"
      ],
      "execution_count": null,
      "outputs": [
        {
          "output_type": "execute_result",
          "data": {
            "text/plain": [
              "Timestamp('2010-12-01 08:26:00')"
            ]
          },
          "metadata": {
            "tags": []
          },
          "execution_count": 28
        }
      ]
    },
    {
      "cell_type": "code",
      "metadata": {
        "id": "I56znPOZ4Szy",
        "outputId": "8a0431b8-23ca-4635-aea5-96a8e6328c1a",
        "colab": {
          "base_uri": "https://localhost:8080/",
          "height": 35
        }
      },
      "source": [
        "endt=df['InvoiceDate'].max()\n",
        "endt"
      ],
      "execution_count": null,
      "outputs": [
        {
          "output_type": "execute_result",
          "data": {
            "text/plain": [
              "Timestamp('2011-12-09 12:50:00')"
            ]
          },
          "metadata": {
            "tags": []
          },
          "execution_count": 29
        }
      ]
    },
    {
      "cell_type": "markdown",
      "metadata": {
        "id": "qEALtDE-5F34"
      },
      "source": [
        ""
      ]
    },
    {
      "cell_type": "markdown",
      "metadata": {
        "id": "EOXkJMdIiXzd"
      },
      "source": [
        "**BG/NBD implementation Time v/s Pareto/NBD implementation time**"
      ]
    },
    {
      "cell_type": "markdown",
      "metadata": {
        "id": "uHcvW4xylcus"
      },
      "source": [
        "**frequency-num of repeats=num of transactions-1**\n",
        "\n",
        "\n",
        "**recency-age of customer from first transaction**\n",
        "\n",
        "\n",
        "**T-age of customer till the observation period**"
      ]
    },
    {
      "cell_type": "code",
      "metadata": {
        "id": "NeSdT4vD4XGX",
        "outputId": "d64571a8-81d2-4d52-8951-2a859211b909",
        "colab": {
          "base_uri": "https://localhost:8080/"
        }
      },
      "source": [
        "import time\n",
        "start=time.time()\n",
        "from lifetimes import BetaGeoFitter\n",
        "bgf = BetaGeoFitter(penalizer_coef=0.0)\n",
        "bgf.fit(data1['frequency'], data1['recency'], data1['T'])\n",
        "#print(bgf)\n",
        "\n",
        "end =time.time()\n",
        "print(\"TIme elapsed :\",end-start,\"seconds\")"
      ],
      "execution_count": 14,
      "outputs": [
        {
          "output_type": "stream",
          "text": [
            "TIme elapsed : 0.31307125091552734 seconds\n"
          ],
          "name": "stdout"
        }
      ]
    },
    {
      "cell_type": "code",
      "metadata": {
        "id": "u4_Sw0I14ZkG",
        "outputId": "48c7967f-9780-46b0-ed54-6642bb3909e5",
        "colab": {
          "base_uri": "https://localhost:8080/"
        }
      },
      "source": [
        "import time\n",
        "start=time.time()\n",
        "from lifetimes import ParetoNBDFitter\n",
        "pareto = ParetoNBDFitter(penalizer_coef=0.0)\n",
        "pareto.fit(data1['frequency'], data1['recency'], data1['T'])\n",
        "#print(bgf)\n",
        "\n",
        "end =time.time()\n",
        "print(\"TIme elapsed :\",end-start,\"seconds\")\n",
        "\n"
      ],
      "execution_count": 15,
      "outputs": [
        {
          "output_type": "stream",
          "text": [
            "TIme elapsed : 1.386446237564087 seconds\n"
          ],
          "name": "stdout"
        }
      ]
    },
    {
      "cell_type": "code",
      "metadata": {
        "id": "eWH_YS0ukMqk",
        "outputId": "78c31935-aa3d-44e1-ec90-e43e32675316",
        "colab": {
          "base_uri": "https://localhost:8080/"
        }
      },
      "source": [
        "\n",
        "import time\n",
        "start=time.time()\n",
        "from lifetimes import ModifiedBetaGeoFitter\n",
        "pareto = ModifiedBetaGeoFitter(penalizer_coef=0.0)\n",
        "pareto.fit(data1['frequency'], data1['recency'], data1['T'])\n",
        "#print(bgf)\n",
        "\n",
        "end =time.time()\n",
        "print(\"TIme elapsed :\",end-start,\"seconds\")\n"
      ],
      "execution_count": 16,
      "outputs": [
        {
          "output_type": "stream",
          "text": [
            "TIme elapsed : 0.2963728904724121 seconds\n"
          ],
          "name": "stdout"
        }
      ]
    },
    {
      "cell_type": "markdown",
      "metadata": {
        "id": "beIMKqiMj42B"
      },
      "source": [
        "What are the expected number of transactions a customer is to make in the next time period, given his recency (age at last purchase) and frequency (the number of repeat transactions he has made)??\n",
        "\n",
        "Frequency/Recency Matrix"
      ]
    },
    {
      "cell_type": "code",
      "metadata": {
        "id": "h8rxSrsuj3-M",
        "outputId": "8e9bf788-0672-478f-d355-9779a551c369",
        "colab": {
          "base_uri": "https://localhost:8080/",
          "height": 551
        }
      },
      "source": [
        "import seaborn as sns\n",
        "sns.set_palette(\"husl\")\n",
        "sns.set(rc={'image.cmap':'coolwarm'})\n",
        "%matplotlib inline\n",
        "from lifetimes.plotting import plot_frequency_recency_matrix\n",
        "\n",
        "import matplotlib.pyplot as plt\n",
        "fig = plt.figure(figsize=(12,8))\n",
        "plot_frequency_recency_matrix(bgf)\n"
      ],
      "execution_count": null,
      "outputs": [
        {
          "output_type": "execute_result",
          "data": {
            "text/plain": [
              "<matplotlib.axes._subplots.AxesSubplot at 0x7f7e5e4e20f0>"
            ]
          },
          "metadata": {
            "tags": []
          },
          "execution_count": 32
        },
        {
          "output_type": "display_data",
          "data": {
            "image/png": "[encoded data removed]",
            "text/plain": [
              "<Figure size 864x576 with 2 Axes>"
            ]
          },
          "metadata": {
            "tags": [],
            "needs_background": "light"
          }
        }
      ]
    },
    {
      "cell_type": "markdown",
      "metadata": {
        "id": "Ho5tou84n0yY"
      },
      "source": [
        "What is the probability of a customer being alive??\n"
      ]
    },
    {
      "cell_type": "code",
      "metadata": {
        "id": "rdwWNz7OnvLa",
        "outputId": "5cf3a8f5-11e5-498c-90cd-8c6f0c363365",
        "colab": {
          "base_uri": "https://localhost:8080/"
        }
      },
      "source": [
        "recency=(data1['recency'].to_numpy())\n",
        "freq=data1['frequency'].to_numpy()\n",
        "\n",
        "\n",
        "rf =zip(recency,freq)\n",
        "lst=[]\n",
        "\n",
        "for r,f in rf:\n",
        "    lst.append(bgf.conditional_probability_alive_matrix(int(data1['frequency'].max()),int(data1['recency'].max()))[int(r),int(f)])\n",
        "print(lst)\n",
        "\n"
      ],
      "execution_count": 17,
      "outputs": [
        {
          "output_type": "stream",
          "text": [
            "[1.0, 0.9996184957131284, 0.9989176866055391, 1.0, 1.0, 0.9974813461718293, 1.0, 1.0, 1.0, 0.9991659939906717, 1.0, 0.9978625368964519, 0.9988051618292724, 0.9961913014705267, 1.0, 0.9980475163918869, 0.9975445407385217, 0.9842430796867275, 1.0, 1.0, 0.9991755996522065, 0.9879659055367018, 0.9983804425697295, 1.0, 1.0, 0.9961178113790903, 0.9923520880414699, 1.0, 0.9961623166874648, 0.9947818577573596, 0.9729259437052997, 0.9918529955672845, 0.9963326818537234, 0.9908846807471492, 0.9991122480185559, 1.0, 1.0, 0.9985990895128638, 0.9979489547179586, 0.9995753962192349, 0.996603963433037, 1.0, 0.9923951418617528, 1.0, 1.0, 1.0, 1.0, 0.9980611542527947, 0.9965783458725528, 0.9979298278412548, 0.9928045448336064, 1.0, 0.9916434925963287, 0.9989250843870254, 0.9913516387912423, 0.9980927676625128, 0.9995764340116339, 1.0, 1.0, 0.9991325794473883, 0.998440979293137, 0.9995544435105924, 1.0, 1.0, 1.0, 0.9994038525172229, 0.9973746626221113, 0.9994731784609387, 1.0, 0.9993421932924693, 0.9951418895505915, 0.9996315838419668, 0.9982718125483896, 0.9984159273819438, 1.0, 0.9990903523133235, 0.9973818602149278, 1.0, 1.0, 0.9881220798896795, 1.0, 1.0, 1.0, 1.0, 0.9948661398036938, 0.9884648139015866, 0.999188961084855, 1.0, 1.0, 1.0, 0.9958988609068152, 0.9981228567509104, 0.9799026163099646, 0.9986623489835373, 0.9944556426007745, 0.9991161394573177, 0.9964067456199283, 0.998825415300209, 0.9979150476463897, 0.9974535628147874, 0.9997375963457404, 0.9993988333159878, 0.9946080078611172, 0.9978010544804801, 1.0, 0.9995025995242798, 0.9985193161211278, 1.0, 1.0, 0.999167214618699, 0.999462565705125, 0.9991910692609196, 0.9990108539881923, 0.9856180790318709, 1.0, 0.9991510984793102, 1.0, 0.9927217828184686, 0.9913676419360962, 0.999515083989193, 1.0, 0.9919525708192257, 0.9987882924753254, 1.0, 0.9965198557773314, 0.9871526571281241, 1.0, 0.996882092805127, 0.984129237894018, 1.0, 0.9983582260919537, 1.0, 1.0, 1.0, 1.0, 0.996710830193855, 0.9946080078611172, 0.9691997278687207, 1.0, 0.9950519345695019, 1.0, 0.9871526571281241, 0.9987505018064107, 0.9992226888792076, 0.9914992543201402, 0.9986425655450717, 0.9989952878782191, 0.9988442416261295, 1.0, 1.0, 1.0, 0.9964135174948299, 0.9882194322056717, 1.0, 0.9991920528426442, 0.9993843092329933, 0.9987246424283627, 1.0, 0.9983700237669445, 0.9912111357438227, 0.9958828357575813, 1.0, 1.0, 1.0, 0.9833082504915166, 0.9990848142422941, 0.9966401749033887, 0.9995032216494601, 1.0, 0.9862514569284568, 0.9956511385618261, 1.0, 0.9872557753046959, 1.0, 1.0, 1.0, 0.9995092979058592, 0.6330309170860339, 0.9958332038747317, 0.9928389044434304, 1.0, 1.0, 0.9985190746187297, 0.9992694695835279, 0.9992157568862698, 1.0, 1.0, 1.0, 0.9935830257138839, 0.9997863436929972, 0.9975126256817332, 0.9971469383224636, 1.0, 1.0, 1.0, 0.9971188363468548, 1.0, 1.0, 0.9972552138805281, 0.9934602842386725, 0.9979658636386641, 0.9984490562525264, 0.9984049044310983, 0.9981405666066119, 0.9981405666066119, 0.9994658870161356, 0.9861363267215967, 1.0, 1.0, 0.9983462957890658, 1.0, 0.9985924327041861, 0.9638976290476533, 1.0, 1.0, 0.9980247223690039, 1.0, 0.9949487169928073, 0.9985617993687742, 1.0, 1.0, 0.9926851655982801, 0.9976852129898421, 0.9997437392507015, 1.0, 1.0, 0.9952201674576675, 0.9968777431372251, 0.9986856611514894, 0.9277669496527002, 0.9836822873393914, 0.9916680255616727, 1.0, 0.9979562045778069, 0.9948249675319086, 0.9972627766518319, 1.0, 1.0, 0.9829595228429147, 1.0, 0.989473656853236, 0.9958633805373804, 1.0, 0.9989176866055391, 0.9930645858359988, 0.9995168293702134, 1.0, 0.9967792140584473, 1.0, 1.0, 1.0, 0.997844577774158, 0.9989408541914279, 0.9966356559584869, 0.9859102328925704, 1.0, 1.0, 1.0, 0.9997320980449701, 0.9989832685694446, 1.0, 1.0, 0.9994122428403002, 0.9930326021488547, 0.9969562374326124, 1.0, 0.9992591917876059, 0.9951866266265332, 0.9987025968827958, 0.998910321924145, 0.997848081578668, 0.9866966594693316, 0.9996014196462036, 0.9998317035835695, 0.9996622270279738, 0.991495867684424, 0.7230974235739758, 1.0, 1.0, 0.9966757927951698, 1.0, 0.999321800321144, 0.9966120304870758, 0.9970319120655905, 0.9971051623450705, 0.9958235008151791, 0.9972993438264289, 0.9980914718807099, 1.0, 1.0, 0.9726053354297786, 0.9994522585815939, 1.0, 0.9994122141083428, 0.9995744027677887, 0.9929198123177337, 0.9994526239105668, 1.0, 0.9988147938685321, 1.0, 0.9974767902600942, 0.9963734478800231, 1.0, 0.9944556426007745, 0.999796576040754, 0.999259132728114, 0.9583823662632801, 0.9843644673746378, 0.9993098383454969, 1.0, 0.9993114776223052, 0.9990985356447445, 0.9986152273061795, 1.0, 0.9994346303982555, 1.0, 1.0, 1.0, 0.9895811416924779, 1.0, 1.0, 0.989371602291625, 1.0, 1.0, 0.9981843109950963, 0.9997092434945578, 0.9999668992249389, 0.9973724090098615, 1.0, 1.0, 0.999421288604444, 0.9875057201031234, 0.9959793978324325, 1.0, 0.9744659074724253, 0.9980457151822838, 0.9983489784467898, 0.9887023998032594, 0.9988049528558006, 1.0, 0.9996062875114948, 1.0, 1.0, 1.0, 0.9989498055378644, 0.9988227530643016, 0.9993612875277463, 0.9987288108705968, 0.9994917686970684, 0.9115792124411201, 0.9852489743949524, 1.0, 0.9974995194400564, 1.0, 1.0, 1.0, 1.0, 0.9920892540251744, 0.9930645858359988, 1.0, 1.0, 0.9967264063671114, 1.0, 0.9993252028763542, 1.0, 0.9599338328932225, 1.0, 1.0, 0.9936795217511217, 0.995782640953451, 1.0, 1.0, 0.9992825411921835, 1.0, 0.9884648139015866, 0.9969562374326124, 1.0, 0.9996062875114948, 0.9733492988441065, 0.960902776930184, 0.9899815537655012, 0.9829667448691318, 1.0, 0.9948942659828272, 1.0, 1.0, 0.9984610607521762, 1.0, 0.9993207344596123, 0.9997291072637788, 0.973869274194634, 0.9998102497653293, 0.9988541368238085, 0.9847094148973594, 0.9966401749033887, 0.8456578749471183, 1.0, 0.998847304309305, 1.0, 1.0, 0.9974427791907295, 0.9985924327041861, 1.0, 0.6354173661667704, 0.9962912029445276, 1.0, 1.0, 0.9964916310085156, 1.0, 0.9993676542978758, 0.9914155162960179, 0.9973069862813003, 0.9923520880414699, 1.0, 0.9987126822990231, 0.997671874367453, 0.9996147041294805, 0.9910502055396502, 0.9781069016273075, 1.0, 0.9899815537655012, 0.9948249675319086, 1.0, 0.9944556426007745, 0.9979150476463897, 0.9926016761195237, 1.0, 0.9931429808701081, 1.0, 0.9929531403678252, 0.9964916310085156, 0.9057124204081469, 1.0, 0.9979489547179586, 0.9949621406974413, 0.997609518320485, 0.9975112227348443, 0.9954670534819641, 0.7250910837831542, 0.9995510614564999, 0.9987524240302943, 0.9960685310437284, 1.0, 0.9837477351971552, 1.0, 0.999772977384955, 1.0, 1.0, 0.9981980415431526, 0.9951576083308181, 0.9992836966816576, 1.0, 0.9963326818537234, 0.9993377723631114, 0.9988104333999109, 0.9991895758382674, 0.9840282692488084, 0.9984610607521762, 1.0, 0.9982757246532621, 0.9915198867999537, 0.9985124236745736, 0.9992522150611731, 1.0, 0.9964252738045176, 0.9967571975076698, 0.9969562374326124, 0.9575092616725073, 0.9992480406817185, 0.9875057201031234, 1.0, 0.994992001103057, 1.0, 0.9993231560669683, 0.9968125849353806, 0.9995668877206968, 1.0, 1.0, 0.9874329197231637, 1.0, 0.9992379529674362, 0.999901202514451, 1.0, 1.0, 1.0, 0.9782618718168631, 0.9967452998234461, 1.0, 1.0, 0.9907143824311438, 0.9973323082331859, 1.0, 0.9996835372773699, 0.9989933393664487, 0.9961623166874648, 0.998818370950082, 0.9988601240217831, 1.0, 0.999047755991977, 0.9791158454379684, 0.9988001450697174, 0.9989301974766722, 1.0, 0.9933567605547268, 0.9994768007470063, 0.9953415974726536, 1.0, 1.0, 1.0, 0.9982414382410378, 0.9997445002206471, 0.996488502902198, 0.9968027669695797, 0.9935830257138839, 1.0, 0.982136086353903, 0.9995626124238282, 0.9948249675319086, 0.9986201807273357, 0.9971013440889646, 0.9897843743250403, 0.9992805614701743, 0.9993693472005198, 0.9918122063982066, 1.0, 0.9992379529674362, 0.9984046407133726, 0.9942150562869628, 0.9981228567509104, 0.9901729208975771, 1.0, 1.0, 1.0, 0.9988404085520728, 0.9994522585815939, 0.9992080941708258, 0.9989554591886017, 0.999588964040436, 1.0, 0.9975881576631063, 0.9949301552073261, 1.0, 1.0, 1.0, 1.0, 0.9992237360114461, 1.0, 0.9859292784785645, 1.0, 0.9992157568862698, 0.9998092985177817, 1.0, 1.0, 1.0, 0.9994601937361959, 0.9997663744117352, 0.9837402166566109, 1.0, 0.9996259024665614, 0.9926513828618543, 0.9952201674576675, 0.9976513713888662, 0.999863395965064, 0.9997105138697415, 1.0, 0.9988772376313263, 0.7953878237470263, 0.9995174650871347, 1.0, 0.9992590360662521, 0.9954982823677586, 1.0, 1.0, 0.9997605923010046, 1.0, 0.99950410697618, 1.0, 0.9989853443113031, 1.0, 0.9965297055320987, 0.9985438107510538, 0.9997956288281205, 0.9954823485579514, 1.0, 0.9995375843834903, 0.9987362513413839, 1.0, 1.0, 0.9978079519273841, 0.9989161163712439, 0.9996000158635062, 1.0, 1.0, 0.996882092805127, 1.0, 0.9912111357438227, 0.9939391595917308, 1.0, 0.9940408556376248, 0.9986730666552319, 0.9994971796217941, 0.997207558423594, 0.9988001450697174, 0.998007700109569, 1.0, 1.0, 0.9993483760879084, 1.0, 0.9773804708828437, 0.9993782487640253, 0.998818370950082, 1.0, 1.0, 0.9993606163579245, 0.9984049044310983, 0.9978199318470877, 0.9849061669664189, 1.0, 1.0, 0.9974430019497045, 0.9992003985693547, 1.0, 0.9895467341781815, 0.9989058632123029, 0.9984270909944168, 1.0, 0.9989851342487711, 0.9993852278400112, 0.9994157366567012, 1.0, 1.0, 0.9993189151889518, 1.0, 0.9992423801420257, 0.9974484739972442, 1.0, 0.9907253526545151, 1.0, 1.0, 0.9964916310085156, 0.9969408643718257, 1.0, 1.0, 0.9987246424283627, 0.99950410697618, 0.9997790585662027, 0.9849061669664189, 0.9980575715615405, 0.9975881576631063, 0.9975893167720364, 0.999341294638927, 1.0, 0.9994078499546672, 0.9927217828184686, 0.9925303042469571, 1.0, 0.9696537253313334, 1.0, 0.9942378944385207, 0.9972018858650383, 0.9913676419360962, 0.9962489941870704, 0.9995737575249124, 1.0, 1.0, 1.0, 1.0, 0.9996835372773699, 0.9952842219900379, 0.9990010108279602, 1.0, 0.9958332038747317, 0.9994067727311186, 1.0, 0.9987362513413839, 0.9966401749033887, 1.0, 1.0, 1.0, 0.999125716793244, 0.9583823662632801, 0.9948249675319086, 0.9970629490602703, 0.9983582260919537, 0.9993878143952447, 1.0, 0.9977830166458238, 1.0, 1.0, 0.9884648139015866, 1.0, 0.9950980382435504, 0.9968536394360945, 0.9867646691067845, 0.9997203353899314, 0.9934530310971528, 0.9997426951749672, 1.0, 1.0, 0.9942964027627601, 1.0, 0.9919525708192257, 0.9879896732683796, 1.0, 1.0, 0.9982145099923754, 0.997962488706324, 0.9973818602149278, 1.0, 0.9987072878768872, 1.0, 0.998906611602415, 0.9944556426007745, 1.0, 1.0, 0.9836822873393914, 1.0, 1.0, 1.0, 0.9964595025325835, 1.0, 1.0, 0.9997004394921774, 1.0, 0.9974427791907295, 0.9990421331274575, 0.9991200733351903, 0.9978079519273841, 0.9992188896218672, 0.9872573148255078, 0.9976093135539335, 0.9990171744427859, 0.9712093468033226, 0.9997004658847386, 0.995469024599157, 0.9877038648235362, 1.0, 0.9306784817671939, 0.999270033654315, 1.0, 0.9992874210837962, 1.0, 0.999305328225474, 0.9983489784467898, 1.0, 0.9983489784467898, 1.0, 1.0, 1.0, 0.9973709151874448, 1.0, 1.0, 0.9986360315718287, 1.0, 1.0, 1.0, 1.0, 0.9946819352458395, 1.0, 1.0, 1.0, 1.0, 1.0, 1.0, 1.0, 1.0, 0.9988569092562178, 0.9903587046696171, 1.0, 0.9983700237669445, 1.0, 0.995782640953451, 1.0, 1.0, 1.0, 0.9982321105089503, 1.0, 0.995469024599157, 0.9934602842386725, 0.9981843109950963, 1.0, 0.9773464446924615, 1.0, 1.0, 0.9983166816648553, 1.0, 1.0, 0.9989244114828985, 1.0, 0.9991384500523578, 0.9984761438317069, 1.0, 0.9989002578538911, 1.0, 0.998644892386834, 0.9986302617644465, 0.9999056514634004, 0.9984761438317069, 1.0, 0.9968441259345583, 0.9922223852430488, 0.9985520823423604, 0.9996835372773699, 1.0, 0.989371602291625, 0.9989314671547924, 1.0, 0.9975814821838344, 0.9996325395803828, 0.9978298285960276, 1.0, 0.9583823662632801, 0.9950286309379837, 0.989371602291625, 0.9895811416924779, 0.9850797806796993, 1.0, 0.9814922170321442, 1.0, 1.0, 0.9419668605418269, 0.9995143645749848, 1.0, 0.992147763888339, 0.9991248434211996, 0.9868626395501829, 0.9973323082331859, 0.9993267493274846, 0.9917911437762068, 0.9995876689513792, 0.9891554890399965, 0.9947820253702495, 1.0, 1.0, 1.0, 0.9903587046696171, 0.9998952422119959, 0.9882194322056717, 0.9277606509666074, 0.999053760185135, 1.0, 0.9849061669664189, 0.996710830193855, 0.9977164888251937, 0.9916680255616727, 0.9974080081413903, 1.0, 1.0, 1.0, 1.0, 0.9884366704435363, 0.9991200733351903, 0.9995567374118757, 0.9964595025325835, 0.9990848142422941, 0.9886547305641186, 0.9871526571281241, 1.0, 0.9995357591254682, 0.9993471652372858, 0.9960263719794888, 0.9981014202303186, 0.9921885533053769, 1.0, 0.9991907864103853, 1.0, 1.0, 0.9944268121919276, 0.993865911907913, 0.9923951418617528, 1.0, 0.9981769556613832, 0.9960685310437284, 1.0, 1.0, 1.0, 0.9956216405238189, 0.9982494771370577, 0.9943852048247389, 1.0, 1.0, 0.9991389469129439, 0.9358726875585014, 1.0, 0.9993483760879084, 0.9934430890946496, 0.998826424117168, 0.9988227530643016, 0.9973818602149278, 0.9980611542527947, 1.0, 0.9959793978324325, 0.9996514511477871, 0.5744966629442667, 0.9980263084250469, 0.9983648128861302, 0.9985520823423604, 0.9976341162427271, 0.997826384171671, 0.9934788268357937, 1.0, 0.9959411420368562, 0.9974300029969644, 0.9989435685481214, 0.9560302831561671, 1.0, 1.0, 0.996882092805127, 0.9941299836655022, 0.9983648128861302, 0.9992379529674362, 0.9927217828184686, 1.0, 0.9993500034646021, 1.0, 0.9846328307225496, 1.0, 0.9985714158740255, 0.9888677599740968, 0.999739446509278, 0.9975771667506519, 0.9993639122814229, 1.0, 1.0, 1.0, 1.0, 0.9932841877985787, 0.9981210623762332, 0.9988036625454827, 0.997962488706324, 0.9979562045778069, 0.9972407237781137, 1.0, 0.9855953139258398, 1.0, 0.9997381486214683, 1.0, 0.9981355922993584, 1.0, 1.0, 0.9990174225099807, 1.0, 0.9980652648718473, 0.9989161163712439, 0.9991501194402732, 1.0, 0.9957670891472993, 1.0, 1.0, 0.9984761438317069, 1.0, 0.9990038151110753, 0.9988520415177548, 0.9983145824779501, 0.9768986440859108, 0.9968007795809644, 0.9989498055378644, 1.0, 0.9980136514298256, 0.9972299064732185, 1.0, 1.0, 1.0, 0.9964725311138116, 0.9773804708828437, 1.0, 0.997848081578668, 0.9969408643718257, 0.9980726934247766, 0.984516624789949, 0.9992805614701743, 0.9973283573792934, 0.9974061043392733, 0.9982326071926855, 0.9984490562525264, 0.9978065915154606, 0.997090303994948, 0.9972299064732185, 1.0, 0.9987753653687752, 1.0, 0.9997151080411605, 0.996567144924708, 1.0, 0.9912111357438227, 0.9877038648235362, 0.9975445407385217, 1.0, 0.9993784383832981, 0.9918227748561783, 1.0, 1.0, 0.6565237301506911, 1.0, 1.0, 1.0, 0.9981602648661807, 0.9998744769026151, 0.9513162539574077, 1.0, 1.0, 0.9987548190551911, 1.0, 0.22124362200207504, 0.9994636890844417, 1.0, 0.9933830742332838, 1.0, 0.9990095459928443, 1.0, 1.0, 1.0, 0.9784188478954252, 1.0, 0.9981525878911002, 0.9934842346703604, 0.9968007795809644, 0.9918227748561783, 1.0, 0.9978977678939001, 1.0, 0.9968112111129118, 0.9946081155713828, 0.984889633568977, 0.9983893650060909, 0.9903587046696171, 0.9905391227994619, 1.0, 0.9973724090098615, 0.9989613270252213, 1.0, 1.0, 1.0, 0.996090837753336, 0.9984285230500218, 0.9973193874743898, 0.9985121800906478, 1.0, 1.0, 0.9988569092562178, 0.9987820034094488, 1.0, 0.9535509647617085, 1.0, 0.9981355922993584, 0.17509864633788016, 0.9997074670183288, 0.9996000158635062, 0.9922223852430488, 0.9985617993687742, 0.9974535628147874, 1.0, 1.0, 0.9988885972036804, 0.9998733435808754, 0.9996622394377828, 0.9974995194400564, 0.9980448950799616, 1.0, 0.9998629585749047, 1.0, 0.9980914718807099, 1.0, 0.9991647104031147, 0.9990813734573624, 1.0, 0.9991340581652371, 1.0, 0.9926016761195237, 0.9987288108705968, 0.999913453669948, 0.9982972071899108, 1.0, 1.0, 0.9971975613344088, 1.0, 0.9979114264297457, 0.9955705916372598, 1.0, 1.0, 0.9482481758301338, 1.0, 0.9907143824311438, 0.9821931124961475, 0.9846912250843195, 0.9803234289382657, 0.9930645858359988, 0.9990576826026845, 0.9926016761195237, 0.9992626424482516, 0.9520448507605547, 0.9971469383224636, 0.9918122063982066, 0.9953415974726536, 0.9986951165462775, 1.0, 0.9902149105413859, 1.0, 0.9995176291825728, 1.0, 1.0, 0.9965112881061495, 0.9968125849353806, 0.9994566674818017, 1.0, 0.9988315066381344, 1.0, 1.0, 0.9993438427510508, 0.9989513933252697, 0.9972018858650383, 1.0, 0.9977590977774687, 1.0, 0.9996694812252045, 0.9704451876364961, 1.0, 1.0, 0.9751104394379931, 0.9990492464486384, 1.0, 0.998007700109569, 1.0, 0.9976079949852062, 0.9912111357438227, 0.9980819175341189, 0.9986593944300216, 0.9968646889604224, 0.9976852129898421, 1.0, 0.9979833133900085, 1.0, 1.0, 1.0, 0.9995025995242798, 0.9976519141277672, 0.8748573880047454, 0.9986302617644465, 0.9988313965265894, 0.9868626395501829, 1.0, 1.0, 0.996567144924708, 1.0, 0.9996020226231762, 0.9977025839888919, 1.0, 0.9991251697968064, 0.9915163034201758, 1.0, 1.0, 0.9989786278160862, 0.9888672896516677, 0.9979209439683838, 0.9989729107487572, 0.9968483240234594, 0.9950581151565747, 0.9901729208975771, 0.9977317499718831, 0.9985809332603253, 0.9946081155713828, 1.0, 1.0, 0.771120482926449, 0.9752819180897261, 1.0, 1.0, 0.9891290824252313, 0.9979982389985005, 0.9956786261230391, 0.9983816908015405, 1.0, 0.9923520880414699, 1.0, 1.0, 1.0, 1.0, 0.9990633003433275, 0.98994446546919, 0.9994799955677974, 0.9976341162427271, 1.0, 1.0, 0.8836710441885319, 0.9981058802768742, 0.9942150562869628, 0.989371602291625, 0.9994737207415552, 0.995093774612511, 0.9978977678939001, 0.9984541160545287, 0.9990252768465813, 0.9935830257138839, 0.9987524240302943, 0.9508166537538224, 1.0, 0.9996759855247931, 0.9973574729349222, 0.9974996916454053, 1.0, 1.0, 0.9978888879977122, 1.0, 0.9912111357438227, 1.0, 1.0, 0.9993031386026661, 0.9993831716082743, 0.9994090288528449, 0.9843783853602621, 1.0, 0.9967531819039988, 0.9982458272061664, 1.0, 0.981722524395829, 1.0, 0.9981114958763551, 0.9754815783402053, 0.9973283573792934, 0.9995690467596321, 1.0, 0.9993058390571892, 0.9895811416924779, 0.9965406568370649, 0.9960058663107444, 0.9978527339625421, 0.9855953139258398, 1.0, 0.9969194447871789, 1.0, 1.0, 0.9968027669695797, 0.9912005461537339, 0.9952814861634847, 0.9924431772212894, 1.0, 0.9988873777217292, 0.984129237894018, 1.0, 0.995782640953451, 0.9994990026290379, 0.9997534878285568, 0.9996866967832251, 0.9975881576631063, 0.9985190746187297, 1.0, 0.9984159273819438, 0.9950726615180917, 1.0, 0.9976949937811533, 1.0, 0.9989176866055391, 0.9988601240217831, 1.0, 0.9995510614564999, 1.0, 0.9991054045795876, 0.9954583245423789, 0.9997913195412184, 1.0, 0.9918122063982066, 1.0, 1.0, 0.9750482675208129, 0.9993194635076353, 1.0, 0.9997943825087696, 0.9996067839553694, 0.9978888879977122, 1.0, 0.9915198867999537, 1.0, 0.9975328221647747, 1.0, 0.9987897359662511, 1.0, 0.9974937747951743, 0.9983336780788624, 1.0, 1.0, 0.9949621406974413, 1.0, 0.9996547904175108, 0.999755301619509, 1.0, 0.9986377334518748, 1.0, 1.0, 0.9995690467596321, 1.0, 0.0003900340951533926, 1.0, 0.9993879014732111, 1.0, 0.9976749902432298, 0.7339303806276385, 0.9868626395501829, 1.0, 0.9990892837076037, 0.9952201674576675, 1.0, 0.9931066337246228, 0.9979030207885347, 0.9981296323523885, 0.9994488056290626, 0.9942141176178847, 0.9618959459399269, 1.0, 0.9464038851589557, 1.0, 0.9861944618920456, 0.984129237894018, 0.9976341162427271, 0.9984915874826249, 0.9985827139672562, 1.0, 0.8933829090177005, 0.9983932291458381, 0.9997759125176436, 0.9946081155713828, 1.0, 0.9907143824311438, 0.983543189853533, 1.0, 1.0, 0.9953374356267923, 0.9994386591441471, 0.9986089043621107, 1.0, 1.0, 0.9992694695835279, 0.998030085102298, 1.0, 1.0, 0.9997576712994383, 0.9990226438536504, 1.0, 0.9994636122546057, 0.9964725311138116, 0.9972018858650383, 0.9936206962678241, 0.9865624033684035, 1.0, 0.9990171744427859, 1.0, 0.9981037663098662, 1.0, 0.9989161163712439, 0.986740203229953, 0.9913516387912423, 0.9804490158469844, 0.9871526571281241, 0.9997502853858115, 1.0, 1.0, 0.9985438107510538, 0.9997375848373244, 0.9488447803529436, 0.9985617993687742, 0.9975350479252013, 0.9936795217511217, 1.0, 0.997732652349023, 1.0, 0.998825415300209, 1.0, 0.998919149920789, 1.0, 1.0, 0.9992480406817185, 0.9981525878911002, 0.9936532878161464, 1.0, 0.9979524149506981, 0.9995433995862323, 0.893978585139885, 0.9997462317238907, 1.0, 1.0, 0.9969716879287536, 0.9987809831044443, 1.0, 0.997164703428864, 0.9973724090098615, 0.9977545542787775, 0.9978740472804559, 0.9990174225099807, 0.9929198123177337, 0.9969562374326124, 0.9987218730141099, 0.8974240965377006, 0.9962424237227134, 0.9991471310726228, 1.0, 1.0, 0.9959919303592706, 0.9984915874826249, 1.0, 0.9962489941870704, 0.9996152490180064, 0.9929531403678252, 0.995469024599157, 1.0, 1.0, 0.9958332038747317, 0.8479678747144056, 0.9967452998234461, 0.9981573405435185, 0.9992818369338946, 1.0, 0.9907143824311438, 0.9937762751751158, 0.9962489941870704, 0.9923520880414699, 0.9965297055320987, 1.0, 1.0, 0.9983342308325022, 0.9965621237911557, 0.9977102025117318, 0.9978527339625421, 1.0, 0.9997290456015911, 0.9941299836655022, 0.9939391595917308, 0.9982835242622454, 0.9984381333595043, 1.0, 0.9985678324389531, 0.999473985660787, 0.9981033435344094, 0.9984163902571803, 0.9995137236111901, 1.0, 0.998549232583218, 0.999557029123114, 0.9996020226231762, 1.0, 1.0, 1.0, 0.9850088714501356, 0.9916680255616727, 0.9988147938685321, 0.9995394216837575, 1.0, 0.9987842086115705, 1.0, 0.995816484488767, 1.0, 0.9973818602149278, 0.9992748471557064, 0.9973323082331859, 1.0, 1.0, 0.999125716793244, 0.9868626395501829, 0.9947820253702495, 1.0, 0.9994522585815939, 0.9957311232181221, 0.9985990895128638, 0.9918122063982066, 1.0, 1.0, 0.9986006424440389, 0.9964595025325835, 0.995050645237009, 1.0, 0.9982845825635678, 1.0, 1.0, 1.0, 1.0, 0.9940378716661256, 1.0, 0.9901729208975771, 1.0, 0.9837267157530953, 1.0, 0.9861944618920456, 0.9846912250843195, 1.0, 0.8261831325039601, 0.9928549038988077, 1.0, 1.0, 1.0, 1.0, 0.9952201674576675, 0.9989375445099651, 1.0, 1.0, 0.9947820253702495, 0.9456122263641373, 1.0, 0.9884366704435363, 0.9996222113036312, 0.9973572638329395, 0.9996222113036312, 1.0, 0.9996946910054861, 0.9992042815060249, 0.5285819933231869, 1.0, 0.9996210997805532, 0.9877441081190508, 0.9993872277646417, 1.0, 0.986641265776727, 0.9971454013021922, 0.9989906332197316, 0.992826026675379, 1.0, 0.9910502055396502, 1.0, 0.9978175366414235, 0.9996640546119016, 0.9891554890399965, 0.9929198123177337, 0.9995242280968586, 1.0, 0.9979489547179586, 0.9981843109950963, 1.0, 1.0, 0.9985829135333107, 0.9874329197231637, 0.999228568477986, 1.0, 0.8287875446762373, 0.5788706231214403, 1.0, 1.0, 1.0, 1.0, 0.9995143645749848, 0.9985147481832717, 0.9970020338405908, 0.9992237360114461, 0.9983461410178465, 0.9986311314975018, 0.9993639122814229, 0.9994635957333257, 0.9957670891472993, 0.9975665003365248, 0.9958828357575813, 1.0, 0.8916810230317089, 1.0, 1.0, 0.9979195185792451, 0.993758086902326, 0.9972447224816905, 0.9931429808701081, 0.9941299836655022, 0.9994560537091909, 0.999047755991977, 0.9990736612397426, 0.9962274202361545, 0.9986180388109268, 1.0, 0.9984984946314901, 1.0, 0.9988569092562178, 0.9970020338405908, 1.0, 0.9973069862813003, 0.9957321686247966, 1.0, 1.0, 1.0, 0.9994227623310595, 1.0, 1.0, 0.9985121800906478, 0.9875916253731957, 1.0, 0.9952201674576675, 0.9946081155713828, 1.0, 0.9992381029916126, 0.9987358149672353, 0.9924431772212894, 0.997609518320485, 0.9983692565704446, 0.9884225092679026, 0.998007700109569, 0.9994825307013645, 0.9994859228036749, 0.9981296323523885, 0.9949621406974413, 0.9772837926688405, 0.9930645858359988, 0.9976341162427271, 0.9989161163712439, 0.9956379964464989, 0.9968777431372251, 1.0, 0.9991340581652371, 0.9955526805588283, 1.0, 0.999321800321144, 0.9994540950186609, 0.9998603300586888, 1.0, 0.9795970156046819, 0.9983049911874533, 0.9874922231118457, 0.9992995676891678, 0.9979753815695436, 0.9976341162427271, 1.0, 1.0, 0.9984598614161534, 0.9908846807471492, 0.9991467206572192, 0.9975328221647747, 1.0, 0.9992707064693349, 0.9993115549802943, 0.997822969749655, 0.10765917483985708, 0.9981499491399638, 1.0, 0.9916680255616727, 0.9983932291458381, 1.0, 0.9992611702026736, 0.91816083943147, 0.9989002578538911, 1.0, 0.9995409225538413, 0.9933567605547268, 0.9964061582302883, 0.998692492331545, 1.0, 0.9954005333095417, 1.0, 1.0, 0.9992092642816053, 0.981801759306737, 1.0, 0.9994437615593136, 1.0, 1.0, 1.0, 0.9955596024329227, 0.8745811278531985, 1.0, 1.0, 0.998959574730013, 1.0, 0.9985223137341747, 0.9652418550547877, 0.9982845825635678, 0.9993929372470381, 0.9988414879207549, 0.9983220291573157, 1.0, 1.0, 1.0, 1.0, 0.9999487237734577, 0.9966146237745177, 0.9994825463152611, 0.9978199318470877, 0.9879833217266517, 0.9993058390571892, 1.0, 0.995625124322127, 0.9995143645749848, 1.0, 0.9957898451952407, 0.9837267157530953, 0.9981210623762332, 0.9973724090098615, 0.9978977678939001, 0.9928389044434304, 0.9986903125111858, 1.0, 1.0, 0.9988121770067181, 1.0, 0.9991755996522065, 0.9938146447900748, 1.0, 1.0, 0.9984159273819438, 0.9988049528558006, 0.9972018858650383, 0.999370680291908, 1.0, 0.9980844123016805, 0.9977703543967039, 1.0, 0.9993959582066961, 0.9975112227348443, 0.9970613323017453, 0.9991755996522065, 0.9970020338405908, 0.9988038416595308, 0.9877038648235362, 1.0, 0.9989744461885631, 0.9877038648235362, 0.9984239058752986, 1.0, 0.9996879057895179, 0.9962489941870704, 1.0, 0.9966757927951698, 0.9995510614564999, 1.0, 0.9976326067740526, 0.9994849598614737, 0.997692101818927, 0.9877038648235362, 0.9993876814879592, 1.0, 0.999781481131888, 1.0, 0.9968454241638565, 0.9960685310437284, 0.9962424237227134, 1.0, 0.9996416334871422, 1.0, 0.8148446973225328, 1.0, 0.9980448950799616, 0.9989669485291115, 0.9997437392507015, 1.0, 0.9366899456441974, 1.0, 0.9994636890844417, 0.9994591227048601, 0.9254935156444901, 0.9920757174311413, 0.9896658767233673, 0.9996166761374453, 1.0, 0.9991587217736648, 0.9967792140584473, 0.9979833133900085, 0.9944677500496412, 1.0, 0.9995357591254682, 1.0, 1.0, 1.0, 0.9981405666066119, 0.9969194447871789, 0.9993228742687129, 0.9995690467596321, 0.9996370537206949, 0.9994038525172229, 0.9981033435344094, 0.9996062875114948, 0.9902149105413859, 0.9995675720828618, 0.9994971796217941, 0.9954823485579514, 1.0, 0.9993842395561542, 1.0, 1.0, 0.9989375445099651, 0.9991305443590484, 1.0, 1.0, 0.9872338228385881, 0.9984261360186558, 1.0, 0.9990736612397426, 1.0, 1.0, 0.9961415114506555, 0.9995495879599504, 0.9969408643718257, 0.9995706128792728, 0.9962489941870704, 1.0, 0.9992318276292508, 0.9962282971538583, 0.9983342308325022, 0.9758843652265422, 0.9901729208975771, 1.0, 0.9991682508374017, 0.984889633568977, 0.9889325204733599, 1.0, 0.9981526849064444, 1.0, 1.0, 0.9993458385995504, 1.0, 0.9997534878285568, 0.9988001450697174, 1.0, 0.9989966916016467, 1.0, 0.9951418895505915, 1.0, 0.9990771475665543, 1.0, 0.9660286015605236, 0.9992204885943645, 1.0, 0.9912111357438227, 1.0, 0.9955705916372598, 0.9974137551406052, 0.9974300029969644, 0.9936206962678241, 1.0, 0.9877038648235362, 0.9725503300670929, 0.9997074670183288, 0.9957670891472993, 0.9994067727311186, 1.0, 0.9958988609068152, 0.9548863625411549, 0.9864174692953622, 1.0, 0.9990261384765549, 0.9986774827064384, 0.9958206046169149, 1.0, 0.9995850079318732, 1.0, 0.9988193338115247, 0.9950519345695019, 0.9984046407133726, 0.9890784815752292, 0.9879659055367018, 0.9891554890399965, 0.9961623166874648, 0.9977348285626129, 1.0, 1.0, 0.9973069862813003, 1.0, 0.999390384148451, 0.9996166761374453, 0.9963355600428787, 0.9951761198201408, 0.9964135174948299, 1.0, 0.9994778888812146, 1.0, 0.9979655894161141, 0.9994987743522796, 0.9981416881316131, 1.0, 0.9855953139258398, 0.9949606715215767, 1.0, 1.0, 1.0, 1.0, 1.0, 1.0, 0.9923520880414699, 0.9837267157530953, 1.0, 0.9970624322917276, 0.9980611542527947, 0.9989853443113031, 0.9994829819304107, 0.9996335045537033, 1.0, 0.9982375452549761, 0.9897843743250403, 0.9955150010250996, 0.9995847208566638, 1.0, 0.9397432976266947, 0.9999612646213256, 0.9987976604981776, 0.9992894912569861, 0.9983932291458381, 0.998497118519269, 0.9923520880414699, 1.0, 0.9982057004120518, 1.0, 1.0, 1.0, 0.9981355922993584, 0.9975718455367223, 1.0, 0.9985520823423604, 1.0, 0.9977890809948993, 0.9954005333095417, 0.9978175366414235, 1.0, 0.9942964027627601, 0.9928082560645511, 1.0, 1.0, 0.9988551382759961, 1.0, 1.0, 1.0, 0.9920568919351415, 0.998032834946854, 0.9980914718807099, 0.9995288859467861, 1.0, 0.9927714397786755, 1.0, 1.0, 1.0, 1.0, 1.0, 0.9983856133851297, 0.9859292784785645, 1.0, 0.9942150562869628, 1.0, 1.0, 0.9985190746187297, 0.9982633402258012, 1.0, 0.9980611542527947, 0.9980457151822838, 0.9993500034646021, 1.0, 0.9988808499233655, 0.9952764544622352, 0.9952201674576675, 1.0, 0.9984610607521762, 1.0, 0.9995027038009627, 1.0, 1.0, 0.9438284251930287, 1.0, 0.9992557160741952, 0.9975445407385217, 1.0, 1.0, 0.9993107498046506, 1.0, 0.9995936415814862, 0.9712093468033226, 0.9997019312310451, 0.9995737575249124, 1.0, 0.9978527339625421, 0.9972993438264289, 0.9994422464242346, 0.9985121800906478, 0.9988569092562178, 0.9969408643718257, 0.9991720040774786, 0.9994088320361354, 1.0, 0.9931429808701081, 0.9991122480185559, 0.9996768130771462, 1.0, 1.0, 1.0, 0.9994341551321321, 0.9968125849353806, 0.9990559245733042, 1.0, 0.9991236382785847, 1.0, 0.9931733321682032, 0.9949301552073261, 1.0, 0.9989768383660351, 0.9907143824311438, 0.9924784806264977, 0.99831711207897, 0.9987106753476988, 0.9833082504915166, 0.9998483810973771, 0.9989744461885631, 1.0, 0.998497118519269, 1.0, 0.9985809332603253, 0.9986360315718287, 1.0, 1.0, 0.9983462957890658, 0.9973239644893863, 1.0, 1.0, 1.0, 0.9997252392218674, 0.9964276548430159, 0.9994426477813776, 1.0, 1.0, 0.9931733321682032, 0.9477812427093054, 1.0, 1.0, 0.9950286309379837, 0.9995242280968586, 0.9923172879877317, 1.0, 1.0, 1.0, 1.0, 0.9740152636599644, 0.9993528226423385, 0.9940439443101113, 0.9960263719794888, 0.9736056430551435, 0.9981014202303186, 0.6864603667857345, 0.9757035478931151, 1.0, 0.999047755991977, 0.9993748211307889, 0.977031582897, 0.996488502902198, 1.0, 0.9963529953499516, 0.9956379964464989, 1.0, 1.0, 1.0, 0.9988541368238085, 0.9974995194400564, 0.9985323409911298, 0.9981781546309555, 0.9923628611993807, 1.0, 0.994333342962279, 0.9913472102683197, 1.0, 0.9978562342830282, 0.9972299064732185, 0.992722700283648, 1.0, 0.9914992543201402, 0.9964916310085156, 0.9948768745630336, 1.0, 1.0, 0.9978075579904637, 0.9983054446612175, 0.9974061043392733, 1.0, 1.0, 1.0, 0.993840327017164, 0.7215847933221864, 1.0, 1.0, 0.9679839510803542, 0.99942348184867, 1.0, 0.9997089241359011, 1.0, 0.9982458272061664, 0.9989250843870254, 1.0, 1.0, 1.0, 1.0, 0.9972407237781137, 1.0, 1.0, 1.0, 0.9990421331274575, 1.0, 0.9979835242411355, 0.9970613323017453, 0.9980611542527947, 1.0, 0.9979489547179586, 0.8964326684256289, 0.996002673289041, 0.9986667281831472, 1.0, 0.9997381486214683, 1.0, 0.9993957473792133, 0.9913676419360962, 0.9984049044310983, 0.9944268121919276, 0.9986812027194503, 1.0, 0.9927217828184686, 0.9986774827064384, 0.9994859228036749, 1.0, 0.9992003985693547, 1.0, 0.9868626395501829, 0.995050645237009, 0.9935830257138839, 1.0, 0.9988315066381344, 1.0, 0.9963551321727896, 1.0, 1.0, 0.9899815537655012, 0.984516624789949, 1.0, 1.0, 0.998893876535355, 0.9979298278412548, 0.9833082504915166, 0.9905391227994619, 1.0, 0.8313137659647835, 1.0, 0.9978757749297913, 0.9965166487696274, 0.9950286309379837, 0.9984761438317069, 0.9907460638776387, 1.0, 0.9983582260919537, 0.9949301552073261, 0.9972287482431341, 1.0, 0.971634879365845, 0.9884779975937477, 0.997826384171671, 0.9964276548430159, 1.0, 1.0, 1.0, 1.0, 0.9934842346703604, 0.9983336780788624, 1.0, 1.0, 1.0, 1.0, 0.9959315596364758, 1.0, 0.9904003106446577, 1.0, 0.9989636324405582, 0.9996668291470091, 0.9908846807471492, 0.9877038648235362, 1.0, 1.0, 1.0, 1.0, 1.0, 0.9973824787945316, 1.0, 0.9933830742332838, 0.9992658653676263, 0.9983002123326521, 0.9996352119704494, 0.9995267293363769, 1.0, 0.9984428863143752, 0.9809542688975047, 0.9996866967832251, 0.9991414059110809, 1.0, 0.9990127868801659, 1.0, 0.9989244114828985, 0.9898533977259484, 1.0, 1.0, 0.9999585069996417, 0.998869402365881, 1.0, 1.0, 0.9937737942524131, 1.0, 1.0, 1.0, 1.0, 0.9987288108705968, 1.0, 1.0, 1.0, 1.0, 0.9952764544622352, 0.9907143824311438, 0.984129237894018, 1.0, 0.9505351130753553, 1.0, 0.9989435685481214, 1.0, 1.0, 1.0, 0.9877476524476508, 1.0, 1.0, 1.0, 1.0, 0.9908846807471492, 1.0, 0.9995668877206968, 0.9970319120655905, 0.9899815537655012, 0.9993831716082743, 0.9996996512689754, 1.0, 1.0, 1.0, 0.998030085102298, 0.998996096842033, 0.9991069640598846, 0.9982666137798605, 1.0, 0.9986612226770331, 1.0, 0.9996787623612899, 1.0, 0.9974713645170146, 0.9869195350297485, 0.9995143645749848, 0.9940439443101113, 0.9987481123639438, 0.9984381333595043, 1.0, 1.0, 1.0, 1.0, 0.9994731784609387, 0.99901730403698, 0.9994386591441471, 1.0, 1.0, 1.0, 0.9946081155713828, 0.9886547305641186, 0.9942618259796522, 0.9933830742332838, 1.0, 0.9990435605087307, 0.9987781803780695, 1.0, 0.9705558770354664, 0.9940408556376248, 1.0, 0.9984984946314901, 1.0, 0.997640924929926, 1.0, 1.0, 0.9987358149672353, 1.0, 1.0, 1.0, 0.9994437615593136, 0.9877038648235362, 1.0, 0.9934842346703604, 1.0, 0.9939559407569016, 0.9966120304870758, 1.0, 0.9983329358597001, 1.0, 1.0, 0.9964725311138116, 1.0, 0.9991810615905787, 0.9912111357438227, 1.0, 1.0, 1.0, 0.9985261784657852, 1.0, 0.9985261784657852, 0.985848809002644, 1.0, 0.9955150010250996, 1.0, 1.0, 1.0, 0.9913516387912423, 1.0, 1.0, 0.9995510121837323, 1.0, 0.9959333135784182, 1.0, 0.9951576083308181, 1.0, 1.0, 0.9277606509666074, 1.0, 0.9882194322056717, 1.0, 0.9994656663036607, 0.9967792140584473, 0.9696553241065503, 0.9993748211307889, 1.0, 0.997659853212674, 0.985164996202481, 0.9931733321682032, 0.998175540814504, 0.996603963433037, 0.9991885721537932, 0.9997437392507015, 0.9663725736835329, 0.9995626124238282, 1.0, 1.0, 0.9629126738794879, 0.9940378716661256, 1.0, 0.9277606509666074, 1.0, 0.9142668990347229, 0.9985809332603253, 0.9993694793084217, 0.9995461021833816, 0.9837267157530953, 1.0, 0.9978612380650217, 1.0, 0.9950830542188606, 0.9940439443101113, 1.0, 1.0, 0.999480714004704, 1.0, 0.9993855306633279, 1.0, 0.9994774915145109, 0.997848081578668, 0.9895811416924779, 0.9993483760879084, 0.986740203229953, 0.9964725311138116, 1.0, 1.0, 1.0, 1.0, 1.0, 0.9996481983536908, 0.9992451361334881, 0.9996147041294805, 0.9985795091126649, 0.9990674791103696, 1.0, 1.0, 1.0, 1.0, 0.9996594290371325, 1.0, 1.0, 0.9980042670911639, 1.0, 0.9993438427510508, 0.9891554890399965, 1.0, 0.9870022182729875, 0.9979562045778069, 0.9996824807193508, 0.9605816572154192, 0.9986201807273357, 0.9939559407569016, 0.9978065915154606, 1.0, 0.9979489547179586, 1.0, 0.9989002578538911, 0.9872465371108372, 0.9978298285960276, 0.9919707995572141, 1.0, 0.9991054045795876, 0.9940439443101113, 1.0, 1.0, 0.9968007795809644, 0.9984317031186813, 1.0, 1.0, 0.9982972071899108, 0.9996921425222723, 0.9996259024665614, 1.0, 1.0, 0.9993876814879592, 0.9964233359367897, 1.0, 0.9912005461537339, 1.0, 1.0, 0.9990832745483402, 0.9901729208975771, 0.9995364602151725, 0.9928045448336064, 1.0, 0.9991596356155622, 0.9505351130753553, 0.9976835302583401, 1.0, 0.992115475787722, 0.9908588593377473, 0.9989613270252213, 0.9996409350983781, 0.998030085102298, 0.9968112111129118, 1.0, 0.9984705505611253, 1.0, 1.0, 0.9997635527403457, 0.998497118519269, 0.9962489941870704, 0.9916434925963287, 1.0, 0.9982145099923754, 0.9946819352458395, 0.9912111357438227, 0.9987524240302943, 1.0, 0.9897843743250403, 0.9884648139015866, 1.0, 0.9981980415431526, 1.0, 0.9938101176581747, 1.0, 0.999421288604444, 0.989371602291625, 1.0, 1.0, 0.9954583245423789, 1.0, 1.0, 0.9977913166398783, 1.0, 0.997022231972139, 0.9981980415431526, 0.9936905859460197, 0.9978975732006445, 0.9988697236358698, 1.0, 1.0, 0.9942378944385207, 0.9994310887174166, 0.9985147481832717, 1.0, 0.9991910692609196, 0.9988808499233655, 0.9964529066928258, 1.0, 1.0, 0.9997828316525613, 1.0, 0.998523012693582, 1.0, 0.9833082504915166, 0.9852246299711876, 1.0, 0.9879833217266517, 1.0, 0.9414986443743504, 0.9379235956910604, 0.9993114776223052, 1.0, 0.9986951165462775, 0.9987446289251782, 0.9948942659828272, 0.9978199318470877, 1.0, 0.9981102438684254, 1.0, 1.0, 0.9985147481832717, 1.0, 0.9958828357575813, 1.0, 0.9994560537091909, 1.0, 0.9958235008151791, 0.9980457151822838, 1.0, 0.9960263719794888, 0.9949513111131281, 0.9996169866031822, 1.0, 1.0, 0.995108920829962, 1.0, 0.9976093135539335, 1.0, 0.9967264063671114, 1.0, 0.9964916310085156, 0.9996124467054286, 0.9993568524386035, 1.0, 0.9978065915154606, 0.9986371628109647, 0.9964067456199283, 0.9979150476463897, 1.0, 0.9957670891472993, 0.9871526571281241, 0.9931733321682032, 0.9964067456199283, 1.0, 0.9934602842386725, 0.9997692556030462, 1.0, 1.0, 1.0, 1.0, 0.9943852048247389, 0.9972299064732185, 0.9990014549674411, 0.9890745205245559, 1.0, 0.9986468061526097, 0.9950286309379837, 0.9918122063982066, 1.0, 1.0, 0.9980611542527947, 0.9987577659284473, 1.0, 0.9987548190551911, 0.9972237013400622, 0.9988104333999109, 0.997671874367453, 0.9846912250843195, 1.0, 1.0, 0.875456940316376, 0.9994174124345226, 0.9984556338051118, 0.9905391227994619, 0.9560302831561671, 0.9984541160545287, 0.997640924929926, 0.9994453838381264, 0.9962735138887195, 0.9913676419360962, 0.9696537253313334, 0.9952285662279139, 0.9979030207885347, 1.0, 0.9884648139015866, 0.9993666387622655, 1.0, 1.0, 0.9979489547179586, 0.9981819229800594, 0.9926016761195237, 1.0, 0.9988792141772822, 1.0, 0.9980647901246776, 0.9989522035825612, 1.0, 1.0, 0.9996428343665932, 0.993946526188579, 0.9970613323017453, 0.998692492331545, 1.0, 1.0, 0.9991579924485773, 0.9989314671547924, 0.9978625368964519, 0.9868626395501829, 1.0, 0.9996152490180064, 0.9798906645627097, 0.9997285820004826, 1.0, 0.9994859228036749, 0.9992818369338946, 0.9977571235864693, 0.9995137236111901, 0.9981499491399638, 0.9988414879207549, 0.9971975613344088, 1.0, 0.9997290456015911, 1.0, 1.0, 1.0, 0.9957321686247966, 0.9882194322056717, 1.0, 0.9805156808753704, 0.9981920086713842, 0.9912111357438227, 0.9982494771370577, 1.0, 1.0, 0.9986623489835373, 1.0, 0.9971188363468548, 1.0, 1.0, 0.9995657591764889, 1.0, 1.0, 0.9956511385618261, 0.998499313535636, 1.0, 0.9975718455367223, 0.9980647901246776, 1.0, 0.9990871626656772, 0.9940439443101113, 0.999515083989193, 1.0, 0.995782640953451, 0.9993471652372858, 1.0, 1.0, 1.0, 1.0, 1.0, 1.0, 0.9982414382410378, 0.9853177219333998, 0.9837267157530953, 1.0, 0.9963370167449986, 0.9736314910367173, 1.0, 1.0, 1.0, 1.0, 1.0, 0.9918122063982066, 0.9940439443101113, 0.9993164570746015, 0.9990785353569566, 0.9966120304870758, 0.9995626124238282, 0.9995255269825334, 1.0, 1.0, 0.9903587046696171, 0.9994038525172229, 0.99915990109302, 0.9974995194400564, 1.0, 0.9978925132276079, 1.0, 0.9968259012824601, 1.0, 0.9940439443101113, 0.9895811416924779, 1.0, 0.9981355922993584, 0.99831711207897, 0.9994488056290626, 0.9996866403404822, 0.9970319120655905, 1.0, 0.9995371113906251, 1.0, 0.9988873777217292, 1.0, 0.7066134350503892, 1.0, 0.9984943378597826, 0.9993010080013014, 1.0, 0.9993294561878223, 0.9988001450697174, 1.0, 0.995108920829962, 0.9974427791907295, 0.9916713082891644, 0.9941273660609883, 0.9996718242989439, 0.9943852048247389, 0.9998349907464841, 0.9987577659284473, 0.9775778720856035, 0.9996062875114948, 1.0, 0.9977120587294287, 0.9990722204579656, 0.9934842346703604, 1.0, 0.9983002123326521, 1.0, 1.0, 1.0, 0.9947700083724346, 0.9970635731047608, 1.0, 0.9979655894161141, 0.9997499591756528, 0.9955308550415041, 0.9982718125483896, 0.9907253526545151, 0.9977830166458238, 0.9979835242411355, 0.9969716879287536, 0.9991838785210313, 0.9988817238469556, 0.9953374356267923, 1.0, 0.9704451876364961, 1.0, 1.0, 0.9962060381040467, 1.0, 1.0, 1.0, 0.9987218730141099, 0.998979434187762, 0.9994684143252848, 1.0, 1.0, 0.9675414064307701, 0.9865624033684035, 1.0, 1.0, 1.0, 0.9808552425514541, 1.0, 0.9599338328932225, 0.9984705505611253, 0.9991468738226893, 0.9989899152482675, 1.0, 0.9989906332197316, 0.9991248434211996, 0.9929531403678252, 0.9957670891472993, 1.0, 0.9980844123016805, 1.0, 1.0, 0.998499313535636, 0.9972617488825736, 1.0, 0.9902149105413859, 0.9961348536794502, 1.0, 1.0, 1.0, 0.9755578593563661, 1.0, 0.9962060381040467, 0.9988792141772822, 0.9967563777037107, 1.0, 1.0, 0.9981619101930207, 1.0, 1.0, 0.9947542046695269, 1.0, 0.998014260801083, 0.9990275040616751, 1.0, 1.0, 1.0, 0.9987072878768872, 1.0, 0.9984317031186813, 0.9964067456199283, 0.9933286214064075, 0.9993146360261768, 1.0, 0.9982666137798605, 0.9976341162427271, 0.9992042815060249, 1.0, 1.0, 0.999595711209512, 1.0, 0.9995643336985769, 0.9879833217266517, 1.0, 1.0, 0.9976513713888662, 0.9993341406418184, 1.0, 0.9990904960376883, 0.9986541243364703, 0.9825819753249386, 1.0, 0.9891554890399965, 0.9997853270855512, 1.0, 0.9975445407385217, 0.9610774855986378, 0.9997057353131751, 0.9605816572154192, 0.9931140983197513, 1.0, 0.9929180887416389, 0.8446207969491578, 0.9610774855986378, 0.9929180887416389, 1.0, 1.0, 1.0, 0.9633094422503067, 1.0, 0.9977622266492361, 1.0, 0.976743591250334, 0.9986878889725708, 0.9995472959315088, 0.99233591818869, 0.9968930667788748, 0.9951576083308181, 1.0, 0.9996240037536106, 1.0, 1.0, 0.9980457151822838, 0.9845790769241918, 1.0, 0.9992159642707856, 1.0, 0.9932809182182462, 0.9987917660356382, 1.0, 0.9989002578538911, 0.9899897902749989, 0.9998116337002053, 1.0, 0.9990119189425507, 1.0, 0.9921885533053769, 1.0, 1.0, 0.9932794669537756, 0.9994531530707677, 0.9993204311548599, 1.0, 0.9966120304870758, 0.9980575715615405, 0.9679839510803542, 1.0, 0.9973572638329395, 0.9912111357438227, 0.997164703428864, 0.9991132359283204, 0.9989214780150933, 1.0, 0.9975445407385217, 0.993865911907913, 0.9996645424216091, 0.997903940708739, 0.989371602291625, 0.9980611542527947, 0.9984984946314901, 1.0, 1.0, 0.9943684898613531, 0.9970020338405908, 0.9984270909944168, 0.9995200026007153, 1.0, 1.0, 0.9927714397786755, 1.0, 0.9979562045778069, 0.9995706128792728, 0.9660286015605236, 1.0, 1.0, 0.999508831245718, 1.0, 1.0, 1.0, 1.0, 1.0, 0.9965166487696274, 1.0, 1.0, 0.9957898451952407, 0.9889325204733599, 1.0, 1.0, 0.9994683124311601, 0.9448265151647444, 1.0, 0.996882092805127, 1.0, 0.9991968283190232, 1.0, 0.9806069362034903, 0.9978199318470877, 0.9975665003365248, 0.9913676419360962, 0.9931733321682032, 1.0, 0.9987106753476988, 0.9973543566079061, 1.0, 1.0, 0.9926016761195237, 0.9987246424283627, 0.9918122063982066, 1.0, 0.9934842346703604, 0.9978975732006445, 0.9991476562600723, 0.9995307215235857, 0.9964135174948299, 0.9982125316696998, 0.9979051630357632, 1.0, 1.0, 1.0, 1.0, 0.9973239644893863, 0.9838978845573146, 1.0, 1.0, 1.0, 0.9901729208975771, 0.9944334481747168, 1.0, 0.9992001242057408, 1.0, 0.9891554890399965, 0.999781481131888, 0.9865624033684035, 0.9890745205245559, 0.9974137551406052, 0.9961275994819394, 0.9991898600160485, 0.8495614196771245, 0.9547930858803448, 0.9833261632605004, 1.0, 0.9973818602149278, 0.9995288859467861, 1.0, 0.999272846536881, 0.9903587046696171, 0.9973543566079061, 0.9925303042469571, 1.0, 0.9985019385272285, 0.9862514569284568, 1.0, 0.9846912250843195, 0.9672328475922617, 1.0, 0.9984811253669578, 0.9982458272061664, 0.9991846828253994, 0.998760144499248, 1.0, 0.9979821592966098, 1.0, 0.9997350285946314, 0.9974536059724455, 0.998539992545911, 0.996567144924708, 0.9986878889725708, 1.0, 0.9991103078460615, 0.9967792140584473, 1.0, 1.0, 0.9859292784785645, 1.0, 0.9985884943785934, 0.9987481123639438, 0.9993500034646021, 1.0, 1.0, 0.9989842957929846, 1.0, 0.9661894720639057, 0.9974713645170146, 0.9954795063122945, 0.9992363601255569, 1.0, 1.0, 1.0, 0.9981033435344094, 0.989371602291625, 1.0, 1.0, 0.9959315596364758, 1.0, 1.0, 0.9979456701798809, 0.9217901004458563, 0.9960748908026602, 0.9987524240302943, 0.9994385603635769, 0.997640924929926, 1.0, 0.9985903529053105, 1.0, 1.0, 0.9958828357575813, 1.0, 1.0, 0.9891554890399965, 0.9990703597418895, 0.9986201807273357, 1.0, 0.9996794107213487, 0.9809542688975047, 1.0, 0.9981228567509104, 0.9961275994819394, 0.9946279900362016, 0.9974286374228304, 1.0, 0.9983489784467898, 0.9991587217736648, 1.0, 0.997164703428864, 0.9704008771861727, 0.9962424237227134, 0.9990037244683121, 0.9740152636599644, 1.0, 1.0, 1.0, 1.0, 0.9884648139015866, 1.0, 0.993946526188579, 1.0, 0.9984239058752986, 1.0, 0.9990587970409475, 0.9991968283190232, 0.9987985335693881, 0.9833082504915166, 0.984516624789949, 0.9993010080013014, 0.998497118519269, 1.0, 1.0, 0.989371602291625, 1.0, 1.0, 0.9986547202615894, 0.9099486361094076, 0.9982886813197177, 1.0, 1.0, 0.9987446289251782, 0.9993207344596123, 0.9973842838514047, 0.9977789643508961, 0.9997821593787477, 1.0, 1.0, 1.0, 1.0, 0.9994088320361354, 0.9992701014420855, 0.9791158454379684, 1.0, 1.0, 0.9995385828099832, 1.0, 1.0, 0.9958332038747317, 0.9992226888792076, 0.9983135778509444, 0.9986051977211358, 0.9974996916454053, 0.9929631139337479, 0.9990706631903988, 0.9954005333095417, 0.9987106753476988, 0.9970319120655905, 0.999781481131888, 0.9992958233488503, 0.9939559407569016, 1.0, 1.0, 0.9986768526172793, 0.9977317499718831, 1.0, 0.9984462833512479, 0.9987685482368591, 0.9961913014705267, 0.9985996761625624, 1.0, 1.0, 1.0, 1.0, 0.9982458272061664, 1.0, 1.0, 0.990887512155321, 1.0, 0.9978618528665405, 0.9989768383660351, 1.0, 1.0, 0.9993528226423385, 1.0, 1.0, 0.9993693195524419, 1.0, 1.0, 0.9884648139015866, 0.999405634740227, 0.9958775698041259, 1.0, 1.0, 0.998869402365881, 1.0, 1.0, 0.9977317499718831, 1.0, 0.9990067061205573, 1.0, 0.9989729107487572, 0.9978757749297913, 1.0, 0.9971469383224636, 1.0, 0.9811824239457484, 1.0, 0.9959353750590801, 0.9897843743250403, 0.995374440821498, 0.9978802656090832, 0.9966610285584308, 0.9995025995242798, 0.9980042670911639, 1.0, 0.9985714158740255, 1.0, 0.9918122063982066, 0.9918122063982066, 1.0, 1.0, 0.9965783458725528, 0.9940439443101113, 0.9979030207885347, 0.99915194320906, 0.9994134204447477, 0.9983259486699282, 1.0, 1.0, 0.9991659939906717, 1.0, 1.0, 0.9986878889725708, 0.9982458650332732, 0.9940439443101113, 0.9994529942471652, 0.9955308550415041, 0.973799145046132, 0.9929531403678252, 0.9991325794473883, 0.996167637577964, 1.0, 1.0, 0.9899336675859006, 0.993926937155622, 0.9996191643605102, 1.0, 0.9990037244683121, 0.9508166537538224, 0.9855953139258398, 0.9974535628147874, 0.9915198867999537, 0.9985714158740255, 0.9866966594693316, 1.0, 0.9905391227994619, 0.9996538319118597, 0.9995925681892064, 0.9996455000779427, 0.9884366704435363, 1.0, 0.9968483240234594, 0.9995296153778878, 0.9994975345522181, 0.9967807084945378, 0.9995267293363769, 0.996567144924708, 1.0, 0.9930645858359988, 0.9994453838381264, 1.0, 0.9995455043926257, 1.0, 1.0, 0.999572167589817, 0.9882194322056717, 0.7560155134752091, 0.9993606163579245, 1.0, 0.997640924929926, 0.39392938964888663, 0.9988885972036804, 1.0, 0.9946081155713828, 0.9985321180031672, 1.0, 1.0, 1.0, 1.0, 0.999321800321144, 0.9726053354297786, 0.8530715317944434, 0.9996204406068013, 0.9910502055396502, 0.9992188896218672, 0.9944727780117016, 1.0, 1.0, 1.0, 1.0, 0.997941155264145, 1.0, 1.0, 1.0, 0.9897843743250403, 1.0, 0.9947820253702495, 1.0, 0.23358505819816658, 1.0, 1.0, 0.9982797437441205, 0.9983648128861302, 1.0, 0.9991990885694992, 0.9990904960376883, 1.0, 0.9861309090889314, 0.9996262971881476, 1.0, 0.9982845825635678, 0.9985422633674672, 0.9997651423986126, 0.998030085102298, 1.0, 0.9996210997805532, 1.0, 0.9974996916454053, 1.0, 0.36122464043607416, 0.9989952878782191, 1.0, 1.0, 0.9550934950286893, 1.0, 1.0, 1.0, 0.985836745347552, 1.0, 0.998912908731125, 0.9984046407133726, 0.9915163034201758, 0.9950020943198059, 0.9982588948693031, 0.9976835302583401, 1.0, 0.9874329197231637, 1.0, 0.960882671435199, 0.9996363998783, 0.9985147481832717, 0.9996690252118583, 0.9379140209525721, 1.0, 1.0, 0.9978625368964519, 0.997826384171671, 1.0, 0.9889325204733599, 1.0, 1.0, 0.9688337410208212, 0.9993299293611642, 1.0, 0.9989002578538911, 0.9955705916372598, 0.9855343188920771, 0.9962489941870704, 0.9997428881827607, 0.9975893167720364, 0.997962488706324, 0.9967587466009488, 1.0, 1.0, 1.0, 1.0, 1.0, 0.9781069016273075, 0.9981355922993584, 0.9891554890399965, 1.0, 1.0, 0.9971469383224636, 0.996567144924708, 0.999305328225474, 0.9562238169320283, 0.9937291377308235, 0.9979833133900085, 0.9931429808701081, 0.999561672451594, 0.9987781803780695, 0.9928082560645511, 1.0, 0.9829147507532633, 1.0, 0.9987246424283627, 0.9983700237669445, 1.0, 0.9993705185808389, 1.0, 0.9958789013919973, 0.9995798800750993, 0.9960685310437284, 1.0, 1.0, 0.9877038648235362, 0.9993705185808389, 0.9995176291825728, 0.9781069016273075, 1.0, 1.0, 0.9997196040695723, 0.999595711209512, 0.9950296306227316, 0.999380359700805, 1.0, 0.4837573484992355, 0.9988598746818791, 1.0, 1.0, 0.9983893650060909, 0.9993471652372858, 1.0, 0.9984977941715378, 0.9673960559033085, 1.0, 0.9995547095023006, 0.9846912250843195, 1.0, 0.9986667281831472, 0.9948179804664388, 0.9633094422503067, 0.9927217828184686, 0.9997605923010046, 1.0, 0.9988541368238085, 1.0, 1.0, 0.9990961083424775, 0.9985531761948591, 0.9902291672336302, 0.9931429808701081, 0.9993394476856091, 1.0, 0.9976079949852062, 0.9991389469129439, 0.9992145917644231, 0.9970974079491509, 1.0, 1.0, 0.9996010058140925, 0.9964595025325835, 1.0, 0.9927217828184686, 1.0, 0.9981966716040105, 1.0, 1.0, 1.0, 0.9953895653080103, 1.0, 0.996710830193855, 0.9963820034623155, 1.0, 1.0, 1.0, 0.9988414879207549, 0.9919525708192257, 1.0, 0.9995668877206968, 0.9927217828184686, 0.9994377036441532, 0.9833082504915166, 0.9936814472494329, 1.0, 0.9741401048889058, 1.0, 0.9986201807273357, 0.9992748471557064, 0.9719473606401597, 0.9965166487696274, 0.9936795217511217, 0.9996356551444163, 0.9980247223690039, 0.9931733321682032, 0.9645666967182014, 0.9991135710112177, 1.0, 1.0, 0.9829595228429147, 0.9966026721236892, 0.9997882780327568, 0.9991161394573177, 0.9994778888812146, 1.0, 0.9936608916727404, 0.9992306634744273, 0.9983700237669445, 0.9976835302583401, 0.9973818602149278, 1.0, 0.9977511803090884, 0.9989427214709691, 0.9989250843870254, 0.9948942659828272, 1.0, 1.0, 1.0, 0.9993346111487047, 0.9978888879977122, 0.9980819175341189, 1.0, 0.9954060328706038, 1.0, 0.9972287482431341, 0.9981966716040105, 0.9976982791281427, 0.9938146447900748, 1.0, 1.0, 1.0, 0.9966918137451385, 0.9966446087565364, 0.9994090288528449, 1.0, 0.9101790988202799, 0.9464038851589557, 0.9987218730141099, 0.9989070468088258, 0.9996537925612854, 0.9994825307013645, 1.0, 0.9980783086431978, 0.9789157773007185, 0.9990961083424775, 0.9993058390571892, 1.0, 1.0, 0.998912908731125, 0.989371602291625, 0.9991161394573177, 0.9977830166458238, 1.0, 0.9976835302583401, 0.6354173661667704, 0.997848081578668, 0.999515083989193, 0.9996184957131284, 0.9979030207885347, 1.0, 0.9992203946861693, 0.9983461410178465, 0.9996062875114948, 1.0, 0.995108920829962, 1.0, 0.997826384171671, 0.9978888879977122, 0.9971051623450705, 1.0, 1.0, 0.9992958196759939, 0.9983804425697295, 1.0, 1.0, 0.9941299836655022, 1.0, 1.0, 1.0, 1.0, 1.0, 0.9981228567509104, 1.0, 0.9636188841092829, 0.9975893167720364, 0.998014260801083, 0.9995032216494601, 1.0, 0.9972447224816905, 1.0, 1.0, 0.9958828357575813, 0.9987468554804163, 0.9989853443113031, 1.0, 0.995093774612511, 1.0, 1.0, 0.9980457151822838, 0.9981781546309555, 0.9993058390571892, 0.9962883072085682, 0.994660530951765, 0.9984688650049958, 0.9942141176178847, 0.9977545542787775, 1.0, 0.9981210623762332, 0.9973818602149278, 1.0, 1.0, 0.9179218783011882, 1.0, 0.9984610607521762, 1.0, 0.9974995194400564, 0.9988206027179112, 0.9992415577095702, 0.9038309493014225, 0.9877038648235362, 1.0, 0.99950410697618, 0.9989495399004136, 0.9978625368964519, 0.9994090288528449, 0.9854975562781848, 0.9960725030500404, 1.0, 0.9993957473792133, 1.0, 0.9610774855986378, 0.9905592794455268, 1.0, 1.0, 0.999462565705125, 1.0, 0.9992912771154971, 0.9989300858865304, 1.0, 0.9996721377432893, 1.0, 0.9994261679702472, 0.9908846807471492, 1.0, 0.9942964027627601, 1.0, 0.9994971796217941, 0.9995861237457451, 0.9931733321682032, 0.9803234289382657, 0.9995365522038375, 0.9871526571281241, 1.0, 1.0, 0.9993414309332398, 0.9994971796217941, 0.9868626395501829, 0.9997714253460274, 1.0, 0.9952814861634847, 0.9998281795318867, 1.0, 1.0, 1.0, 1.0, 0.9989786278160862, 1.0, 0.9951576083308181, 1.0, 0.9868626395501829, 0.9989842957929846, 0.9985903529053105, 0.9987207859121768, 0.9992159642707856, 1.0, 0.9927217828184686, 0.9960392605476364, 1.0, 0.9918227748561783, 0.9977025839888919, 1.0, 0.9964135174948299, 1.0, 1.0, 0.9970629490602703, 0.9984428863143752, 1.0, 0.9994823070852916, 0.9995071184699609, 0.9962402271220703, 0.9874329197231637, 1.0, 0.9995544435105924, 0.9919525708192257, 1.0, 0.9897843743250403, 0.9946080078611172, 1.0, 0.9989069688479573, 1.0, 0.9994341551321321, 1.0, 0.9988541368238085, 0.9562238169320283, 1.0, 0.9983535686491265, 0.9996122482449584, 0.9758843652265422, 0.998897874245967, 0.9943768935947274, 0.9982125316696998, 0.9994386591441471, 1.0, 0.9991845697932569, 0.9930645858359988, 1.0, 1.0, 0.9852489743949524, 0.994333342962279, 0.9994726547038791, 0.999048681498269, 0.9993972620269322, 0.9986360315718287, 1.0, 1.0, 0.9974427791907295, 0.999768756492102, 1.0, 0.9987820034094488, 1.0, 0.9758843652265422, 0.9985531761948591, 0.9901729208975771, 1.0, 1.0, 1.0, 0.9937737942524131, 1.0, 0.9981499491399638, 0.9986178066081234, 0.9951576083308181, 0.999286127915738, 0.9991953044930338, 1.0, 0.9990492464486384, 0.9811971295946691, 0.9993326821723642, 0.9991910692609196, 0.9987781803780695, 0.9946819352458395, 0.9968055313751643, 0.9988742626753325, 0.9995409225538413, 1.0, 0.9997605923010046, 1.0, 1.0, 0.9985422633674672, 1.0, 0.9942378944385207, 0.9877038648235362, 0.9973724090098615, 0.9974402977662795, 0.9833082504915166, 0.9937737942524131, 1.0, 0.9993421451366161, 1.0, 0.9958235008151791, 0.9971956092494223, 0.9997074670183288, 1.0, 0.9996428343665932, 0.9962402271220703, 0.9915198867999537, 1.0, 0.9947542046695269, 0.9954795063122945, 0.9987018932518171, 0.9996471638471316, 0.9977120587294287, 1.0, 0.997022231972139, 0.9990976404324953, 0.9996166761374453, 0.9992805614701743, 0.9985438107510538, 0.9982057004120518, 0.9926016761195237, 0.9988051618292724, 1.0, 0.9998060471436223, 0.990887512155321, 0.9992990138854693, 1.0, 0.9889325204733599, 1.0, 0.6717724624008306, 0.998760144499248, 1.0, 0.9962489941870704, 0.9977164888251937, 1.0, 0.9610774855986378, 0.9975665003365248, 0.9912111357438227, 0.9995433995862323, 0.9997060055758796, 0.9638976290476533, 0.9932794669537756, 0.9950296306227316, 1.0, 1.0, 0.9964601571996035, 1.0, 0.9884648139015866, 0.9985193161211278, 0.9855953139258398, 0.9987524240302943, 0.9989906332197316, 1.0, 0.9950286309379837, 0.984516624789949, 0.9944727780117016, 0.9992748471557064, 0.9932510128885645, 1.0, 1.0, 0.9779072511580563, 0.9942150562869628, 1.0, 0.9979489547179586, 0.9886917803002141, 0.9996866403404822, 1.0, 0.9912111357438227, 1.0, 1.0, 1.0, 0.9419668605418269, 1.0, 0.8284129684000697, 0.9919525708192257, 0.9445964453662169, 0.9929531403678252, 1.0, 0.9933830742332838, 1.0, 0.9289124703119754, 1.0, 0.9998635777412297, 0.9966843700297525, 1.0, 1.0, 0.9989634000891516, 0.9987504263850853, 1.0, 0.99950410697618, 1.0, 0.9970974079491509, 0.9966918137451385, 0.9336558112459505, 1.0, 1.0, 0.9994962078193083, 0.9948661398036938, 0.5266929734938669, 0.9996552984579021, 1.0, 1.0, 1.0, 1.0, 0.9990637925307133, 1.0, 0.9991471310726228, 1.0, 1.0, 1.0, 0.9907143824311438, 0.9931733321682032, 1.0, 0.9992203946861693, 1.0, 0.9873157775727384, 0.9992379529674362, 1.0, 0.9859102328925704, 0.9966356559584869, 1.0, 0.9701275316312682, 0.9821931124961475, 0.9884648139015866, 0.9996421547135119, 1.0, 0.9983856133851297, 0.9991145806014741, 0.9850088714501356, 1.0, 0.999665739428048, 1.0, 0.9972617488825736, 0.9930326021488547, 0.9997260737124172, 1.0, 0.9972287482431341, 0.9979562045778069, 0.9952764544622352, 0.9959469524740003, 0.9726603293628858, 0.9987106753476988, 0.9994678917290701, 0.9981781546309555, 0.9901729208975771, 0.9994737207415552, 1.0, 1.0, 1.0, 0.9992480406817185, 1.0, 0.9964135174948299, 1.0, 0.9989634000891516, 0.9996137973205692, 0.9972589555431032, 0.9970624322917276, 1.0, 0.9912005461537339, 0.9977830166458238, 0.9994310887174166, 1.0, 1.0, 0.9993299293611642, 1.0, 0.9985809332603253, 0.9981980415431526, 1.0, 0.9995626124238282, 0.9946819352458395, 0.998470102569951, 0.9773804708828437, 0.9986217437112751, 1.0, 0.9959315596364758, 1.0, 1.0, 0.9942141176178847, 1.0, 0.9968112111129118, 0.996090837753336, 1.0, 0.997659853212674, 1.0, 1.0, 0.9297239926048546, 0.9911499695047709, 0.9744992337175783, 1.0, 0.9995598907150309, 0.8429123043746061, 0.9983932291458381, 0.9996147041294805, 1.0, 0.997583097729525, 0.9984811253669578, 0.9946081155713828, 0.998032834946854, 0.9920892540251744, 0.9917020831224896, 1.0, 0.9994437615593136, 0.9989842957929846, 0.9992135788963191, 0.9991556774843613, 0.9998151854224805, 0.9995733789205793, 0.9997788949773375, 1.0, 0.9915198867999537, 1.0, 0.9995495879599504, 1.0, 0.9995598907150309, 0.9989636324405582, 0.9994442656126972, 0.9865624033684035, 0.998032834946854, 1.0, 1.0, 0.9924784806264977, 0.9992750324930284, 1.0, 1.0, 0.9986774827064384, 1.0, 0.9956892605272244, 0.9926867309342461, 0.9952201674576675, 0.9985192859620492, 0.9996824807193508, 0.9978977678939001, 0.9976305877806237, 1.0, 0.9990881653151609, 1.0, 1.0, 1.0, 0.99416551990075, 1.0, 0.8928297755501103, 0.9993956385457201, 0.9987504263850853, 0.8634361503352344, 0.9859102328925704, 0.9918059029904057, 1.0, 0.9896658767233673, 0.99896462193248, 0.9928045448336064, 1.0, 0.9987446289251782, 0.9974137551406052, 0.9997600249983287, 0.9928045448336064, 0.9934842346703604, 0.9988504137500571, 0.9995071184699609, 0.9987126822990231, 0.9995307215235857, 1.0, 1.0, 0.995625124322127, 0.9101790988202799, 1.0, 0.9983135778509444, 0.9998702787967233, 0.9964938430532259, 0.9979150476463897, 0.9993556229431605, 1.0, 1.0, 0.9980611542527947, 0.9920568919351415, 1.0, 0.9966446087565364, 0.9987237536315057, 0.9744992337175783, 0.9990279389063215, 1.0, 0.9973361918950653, 1.0, 0.9882129297127027, 0.9945486650260799, 0.9963734478800231, 0.9982588948693031, 1.0, 0.9988121770067181, 0.9976720115882305, 0.9941299836655022, 1.0, 0.9993752048201912, 1.0, 1.0, 0.9959793978324325, 0.999322995969038, 0.9980457151822838, 0.9994176739193851, 0.9984832729590788, 0.9990779479314643, 1.0, 1.0, 0.9996152490180064, 0.9951726809819051, 0.9994731784609387, 0.8528505167340877, 0.999322995969038, 0.9990587970409475, 0.9988469339173072, 1.0, 0.9994385603635769, 0.9946080078611172, 1.0, 0.9990558583314935, 1.0, 1.0, 0.9562238169320283, 1.0, 0.8139690793000002, 0.999449091864897, 1.0, 0.9999566326626621, 1.0, 1.0, 1.0, 0.9975126256817332, 0.9872338228385881, 0.9833082504915166, 1.0, 0.9927217828184686, 1.0, 0.9988817238469556, 0.9997252392218674, 0.9996993836307732, 1.0, 1.0, 0.9991365685067525, 1.0, 0.9990985356447445, 0.9988504137500571, 0.9991810303460896, 1.0, 0.9985660964325217, 0.9986152273061795, 0.9996552984579021, 1.0, 0.9989357554718948, 0.986740203229953, 1.0, 1.0, 1.0, 1.0, 1.0, 0.9982846231736008, 0.9995263588203015, 1.0, 0.9982666137798605, 1.0, 0.9993855306633279, 0.9969408643718257, 0.9923520880414699, 1.0, 0.9921885533053769, 1.0, 0.9985852166834166, 1.0, 1.0, 0.997941155264145, 0.9972812906633846, 1.0, 1.0, 1.0, 1.0, 0.9991145806014741, 1.0, 1.0, 1.0, 0.9431922246833837, 0.9991682508374017, 1.0, 0.9992485555181466, 1.0, 0.9997887252354769, 0.9970642376460084, 1.0, 0.9995409288594312, 1.0, 0.9951576083308181, 0.9985520823423604, 0.9990674791103696, 0.9958633805373804, 0.9972552138805281, 0.9974713645170146, 0.9855953139258398, 0.984129237894018, 1.0, 0.9995455043926257, 1.0, 0.9953211132660957, 1.0, 1.0, 0.9903587046696171, 1.0, 1.0, 0.9998580215104446, 0.9991514209271887, 0.9993346111487047, 0.9997153152606048, 0.9562238169320283, 1.0, 1.0, 1.0, 1.0, 0.999414715744414, 1.0, 0.9993237522419836, 0.9992258172552034, 0.9978199318470877, 1.0, 1.0, 0.9984915874826249, 1.0, 1.0, 1.0, 0.9978065915154606, 0.999572167589817, 1.0, 1.0, 1.0, 0.9983648128861302, 0.9977830166458238, 1.0, 1.0, 1.0, 1.0, 0.9991990885694992, 0.9947820253702495, 0.9833082504915166, 0.9951866266265332, 1.0, 0.5209537242126027, 0.999286115705304, 0.9954005333095417, 1.0, 0.9929531403678252, 1.0, 0.9958403496584398, 1.0, 1.0, 1.0, 1.0, 1.0, 1.0, 0.9993499952740972, 0.998440979293137, 0.9962489941870704, 1.0, 1.0, 1.0, 1.0, 0.9922223852430488, 1.0, 1.0, 1.0, 0.9859292784785645, 0.9981785912784428, 0.9944334481747168, 0.9987677912959777, 0.9997252392218674, 1.0, 0.9993705185808389, 0.9996062692295833, 1.0, 1.0, 1.0, 1.0, 0.9996568923616044, 1.0, 1.0, 0.9764673276250889, 0.9994906803832353, 0.996882092805127, 0.9966757927951698, 0.9995556783234912, 1.0, 1.0, 1.0, 0.9990421331274575, 0.9968777431372251, 1.0, 0.09498234373781606, 1.0, 0.9993831716082743, 0.9996356551444163, 0.9927217828184686, 0.9977590977774687, 0.9987524240302943, 0.9919222198362296, 1.0, 1.0, 0.9928389044434304, 1.0, 0.9984598614161534, 1.0, 0.9996646104509722, 0.9973361918950653, 0.9962735138887195, 0.9891554890399965, 0.9805156808753704, 0.9994554462494182, 1.0, 0.997522273132861, 0.9998177142765444, 1.0, 1.0, 1.0, 1.0, 0.9998243948944514, 1.0, 0.9979489547179586, 1.0, 1.0, 0.998644485086803, 1.0, 0.9997060269443938, 1.0, 1.0, 0.984889633568977, 0.9734378325719287, 0.9855953139258398, 0.9989634000891516, 1.0, 0.9970613323017453, 1.0, 0.9752819180897261, 1.0, 0.9905979872585166, 0.9987792042969004, 1.0, 0.9833082504915166, 0.9942964027627601, 0.9901729208975771, 0.9997019312310451, 0.9990961083424775, 0.9957311232181221, 0.9946819352458395, 0.9983489784467898, 0.9970629490602703, 0.9979655894161141, 0.9924784806264977, 0.9982321105089503, 0.9993693472005198, 0.9956786261230391, 1.0, 0.9977511803090884, 0.9990786869814171, 1.0, 1.0, 0.989473656853236, 0.9928082560645511, 1.0, 0.9975272520909946, 0.998639390922355, 0.9933219374972369, 0.9964067456199283, 1.0, 1.0, 0.9959793486355188, 0.9981294670381425, 0.9993016269290402, 0.9704008771861727, 1.0, 0.9932794669537756, 1.0, 1.0, 0.9989599692061573, 0.9984381333595043, 0.9976513713888662, 1.0, 1.0, 1.0, 1.0, 0.9984915874826249, 0.9990686353770607, 1.0, 0.9970020338405908, 1.0, 0.9944677500496412, 0.9922223852430488, 1.0, 0.9981525878911002, 0.9981296323523885, 1.0, 1.0, 1.0, 1.0, 0.9926016761195237, 0.9951576083308181, 0.9996690252118583, 1.0, 0.9945747518762481, 1.0, 0.9996094599966082, 1.0, 0.9996824807193508, 0.9978288043127418, 1.0, 0.9897843743250403, 0.9997375963457404, 0.9986862154926303, 0.9550601180671255, 0.9874922231118457, 1.0, 0.996090837753336, 0.9947700083724346, 0.9821489535262, 0.9891037654311969, 1.0, 0.6808088256899704, 0.9958235008151791, 0.9994617123936202, 0.9986360315718287, 0.9947542046695269, 1.0, 1.0, 1.0, 0.9972552138805281, 1.0, 0.9973193874743898, 0.9993705185808389, 0.99101972206615, 0.9937737942524131, 1.0, 0.9984111009070644, 0.9960263719794888, 1.0, 1.0, 0.9987828676505924, 0.9972589555431032, 0.9987685482368591, 1.0, 1.0, 1.0, 1.0, 1.0, 1.0, 0.9972018858650383, 0.9992460760057141, 0.9966858486673568]\n"
          ],
          "name": "stdout"
        }
      ]
    },
    {
      "cell_type": "code",
      "metadata": {
        "id": "IqR6TQhRTAy5",
        "outputId": "4e28312c-ab7a-42db-db6b-6412b8fcfa87",
        "colab": {
          "base_uri": "https://localhost:8080/"
        }
      },
      "source": [
        "lst"
      ],
      "execution_count": 106,
      "outputs": [
        {
          "output_type": "execute_result",
          "data": {
            "text/plain": [
              "[1.0,\n",
              " 0.9996184957131284,\n",
              " 0.9989176866055391,\n",
              " 1.0,\n",
              " 1.0,\n",
              " 0.9974813461718293,\n",
              " 1.0,\n",
              " 1.0,\n",
              " 1.0,\n",
              " 0.9991659939906717,\n",
              " 1.0,\n",
              " 0.9978625368964519,\n",
              " 0.9988051618292724,\n",
              " 0.9961913014705267,\n",
              " 1.0,\n",
              " 0.9980475163918869,\n",
              " 0.9975445407385217,\n",
              " 0.9842430796867275,\n",
              " 1.0,\n",
              " 1.0,\n",
              " 0.9991755996522065,\n",
              " 0.9879659055367018,\n",
              " 0.9983804425697295,\n",
              " 1.0,\n",
              " 1.0,\n",
              " 0.9961178113790903,\n",
              " 0.9923520880414699,\n",
              " 1.0,\n",
              " 0.9961623166874648,\n",
              " 0.9947818577573596,\n",
              " 0.9729259437052997,\n",
              " 0.9918529955672845,\n",
              " 0.9963326818537234,\n",
              " 0.9908846807471492,\n",
              " 0.9991122480185559,\n",
              " 1.0,\n",
              " 1.0,\n",
              " 0.9985990895128638,\n",
              " 0.9979489547179586,\n",
              " 0.9995753962192349,\n",
              " 0.996603963433037,\n",
              " 1.0,\n",
              " 0.9923951418617528,\n",
              " 1.0,\n",
              " 1.0,\n",
              " 1.0,\n",
              " 1.0,\n",
              " 0.9980611542527947,\n",
              " 0.9965783458725528,\n",
              " 0.9979298278412548,\n",
              " 0.9928045448336064,\n",
              " 1.0,\n",
              " 0.9916434925963287,\n",
              " 0.9989250843870254,\n",
              " 0.9913516387912423,\n",
              " 0.9980927676625128,\n",
              " 0.9995764340116339,\n",
              " 1.0,\n",
              " 1.0,\n",
              " 0.9991325794473883,\n",
              " 0.998440979293137,\n",
              " 0.9995544435105924,\n",
              " 1.0,\n",
              " 1.0,\n",
              " 1.0,\n",
              " 0.9994038525172229,\n",
              " 0.9973746626221113,\n",
              " 0.9994731784609387,\n",
              " 1.0,\n",
              " 0.9993421932924693,\n",
              " 0.9951418895505915,\n",
              " 0.9996315838419668,\n",
              " 0.9982718125483896,\n",
              " 0.9984159273819438,\n",
              " 1.0,\n",
              " 0.9990903523133235,\n",
              " 0.9973818602149278,\n",
              " 1.0,\n",
              " 1.0,\n",
              " 0.9881220798896795,\n",
              " 1.0,\n",
              " 1.0,\n",
              " 1.0,\n",
              " 1.0,\n",
              " 0.9948661398036938,\n",
              " 0.9884648139015866,\n",
              " 0.999188961084855,\n",
              " 1.0,\n",
              " 1.0,\n",
              " 1.0,\n",
              " 0.9958988609068152,\n",
              " 0.9981228567509104,\n",
              " 0.9799026163099646,\n",
              " 0.9986623489835373,\n",
              " 0.9944556426007745,\n",
              " 0.9991161394573177,\n",
              " 0.9964067456199283,\n",
              " 0.998825415300209,\n",
              " 0.9979150476463897,\n",
              " 0.9974535628147874,\n",
              " 0.9997375963457404,\n",
              " 0.9993988333159878,\n",
              " 0.9946080078611172,\n",
              " 0.9978010544804801,\n",
              " 1.0,\n",
              " 0.9995025995242798,\n",
              " 0.9985193161211278,\n",
              " 1.0,\n",
              " 1.0,\n",
              " 0.999167214618699,\n",
              " 0.999462565705125,\n",
              " 0.9991910692609196,\n",
              " 0.9990108539881923,\n",
              " 0.9856180790318709,\n",
              " 1.0,\n",
              " 0.9991510984793102,\n",
              " 1.0,\n",
              " 0.9927217828184686,\n",
              " 0.9913676419360962,\n",
              " 0.999515083989193,\n",
              " 1.0,\n",
              " 0.9919525708192257,\n",
              " 0.9987882924753254,\n",
              " 1.0,\n",
              " 0.9965198557773314,\n",
              " 0.9871526571281241,\n",
              " 1.0,\n",
              " 0.996882092805127,\n",
              " 0.984129237894018,\n",
              " 1.0,\n",
              " 0.9983582260919537,\n",
              " 1.0,\n",
              " 1.0,\n",
              " 1.0,\n",
              " 1.0,\n",
              " 0.996710830193855,\n",
              " 0.9946080078611172,\n",
              " 0.9691997278687207,\n",
              " 1.0,\n",
              " 0.9950519345695019,\n",
              " 1.0,\n",
              " 0.9871526571281241,\n",
              " 0.9987505018064107,\n",
              " 0.9992226888792076,\n",
              " 0.9914992543201402,\n",
              " 0.9986425655450717,\n",
              " 0.9989952878782191,\n",
              " 0.9988442416261295,\n",
              " 1.0,\n",
              " 1.0,\n",
              " 1.0,\n",
              " 0.9964135174948299,\n",
              " 0.9882194322056717,\n",
              " 1.0,\n",
              " 0.9991920528426442,\n",
              " 0.9993843092329933,\n",
              " 0.9987246424283627,\n",
              " 1.0,\n",
              " 0.9983700237669445,\n",
              " 0.9912111357438227,\n",
              " 0.9958828357575813,\n",
              " 1.0,\n",
              " 1.0,\n",
              " 1.0,\n",
              " 0.9833082504915166,\n",
              " 0.9990848142422941,\n",
              " 0.9966401749033887,\n",
              " 0.9995032216494601,\n",
              " 1.0,\n",
              " 0.9862514569284568,\n",
              " 0.9956511385618261,\n",
              " 1.0,\n",
              " 0.9872557753046959,\n",
              " 1.0,\n",
              " 1.0,\n",
              " 1.0,\n",
              " 0.9995092979058592,\n",
              " 0.6330309170860339,\n",
              " 0.9958332038747317,\n",
              " 0.9928389044434304,\n",
              " 1.0,\n",
              " 1.0,\n",
              " 0.9985190746187297,\n",
              " 0.9992694695835279,\n",
              " 0.9992157568862698,\n",
              " 1.0,\n",
              " 1.0,\n",
              " 1.0,\n",
              " 0.9935830257138839,\n",
              " 0.9997863436929972,\n",
              " 0.9975126256817332,\n",
              " 0.9971469383224636,\n",
              " 1.0,\n",
              " 1.0,\n",
              " 1.0,\n",
              " 0.9971188363468548,\n",
              " 1.0,\n",
              " 1.0,\n",
              " 0.9972552138805281,\n",
              " 0.9934602842386725,\n",
              " 0.9979658636386641,\n",
              " 0.9984490562525264,\n",
              " 0.9984049044310983,\n",
              " 0.9981405666066119,\n",
              " 0.9981405666066119,\n",
              " 0.9994658870161356,\n",
              " 0.9861363267215967,\n",
              " 1.0,\n",
              " 1.0,\n",
              " 0.9983462957890658,\n",
              " 1.0,\n",
              " 0.9985924327041861,\n",
              " 0.9638976290476533,\n",
              " 1.0,\n",
              " 1.0,\n",
              " 0.9980247223690039,\n",
              " 1.0,\n",
              " 0.9949487169928073,\n",
              " 0.9985617993687742,\n",
              " 1.0,\n",
              " 1.0,\n",
              " 0.9926851655982801,\n",
              " 0.9976852129898421,\n",
              " 0.9997437392507015,\n",
              " 1.0,\n",
              " 1.0,\n",
              " 0.9952201674576675,\n",
              " 0.9968777431372251,\n",
              " 0.9986856611514894,\n",
              " 0.9277669496527002,\n",
              " 0.9836822873393914,\n",
              " 0.9916680255616727,\n",
              " 1.0,\n",
              " 0.9979562045778069,\n",
              " 0.9948249675319086,\n",
              " 0.9972627766518319,\n",
              " 1.0,\n",
              " 1.0,\n",
              " 0.9829595228429147,\n",
              " 1.0,\n",
              " 0.989473656853236,\n",
              " 0.9958633805373804,\n",
              " 1.0,\n",
              " 0.9989176866055391,\n",
              " 0.9930645858359988,\n",
              " 0.9995168293702134,\n",
              " 1.0,\n",
              " 0.9967792140584473,\n",
              " 1.0,\n",
              " 1.0,\n",
              " 1.0,\n",
              " 0.997844577774158,\n",
              " 0.9989408541914279,\n",
              " 0.9966356559584869,\n",
              " 0.9859102328925704,\n",
              " 1.0,\n",
              " 1.0,\n",
              " 1.0,\n",
              " 0.9997320980449701,\n",
              " 0.9989832685694446,\n",
              " 1.0,\n",
              " 1.0,\n",
              " 0.9994122428403002,\n",
              " 0.9930326021488547,\n",
              " 0.9969562374326124,\n",
              " 1.0,\n",
              " 0.9992591917876059,\n",
              " 0.9951866266265332,\n",
              " 0.9987025968827958,\n",
              " 0.998910321924145,\n",
              " 0.997848081578668,\n",
              " 0.9866966594693316,\n",
              " 0.9996014196462036,\n",
              " 0.9998317035835695,\n",
              " 0.9996622270279738,\n",
              " 0.991495867684424,\n",
              " 0.7230974235739758,\n",
              " 1.0,\n",
              " 1.0,\n",
              " 0.9966757927951698,\n",
              " 1.0,\n",
              " 0.999321800321144,\n",
              " 0.9966120304870758,\n",
              " 0.9970319120655905,\n",
              " 0.9971051623450705,\n",
              " 0.9958235008151791,\n",
              " 0.9972993438264289,\n",
              " 0.9980914718807099,\n",
              " 1.0,\n",
              " 1.0,\n",
              " 0.9726053354297786,\n",
              " 0.9994522585815939,\n",
              " 1.0,\n",
              " 0.9994122141083428,\n",
              " 0.9995744027677887,\n",
              " 0.9929198123177337,\n",
              " 0.9994526239105668,\n",
              " 1.0,\n",
              " 0.9988147938685321,\n",
              " 1.0,\n",
              " 0.9974767902600942,\n",
              " 0.9963734478800231,\n",
              " 1.0,\n",
              " 0.9944556426007745,\n",
              " 0.999796576040754,\n",
              " 0.999259132728114,\n",
              " 0.9583823662632801,\n",
              " 0.9843644673746378,\n",
              " 0.9993098383454969,\n",
              " 1.0,\n",
              " 0.9993114776223052,\n",
              " 0.9990985356447445,\n",
              " 0.9986152273061795,\n",
              " 1.0,\n",
              " 0.9994346303982555,\n",
              " 1.0,\n",
              " 1.0,\n",
              " 1.0,\n",
              " 0.9895811416924779,\n",
              " 1.0,\n",
              " 1.0,\n",
              " 0.989371602291625,\n",
              " 1.0,\n",
              " 1.0,\n",
              " 0.9981843109950963,\n",
              " 0.9997092434945578,\n",
              " 0.9999668992249389,\n",
              " 0.9973724090098615,\n",
              " 1.0,\n",
              " 1.0,\n",
              " 0.999421288604444,\n",
              " 0.9875057201031234,\n",
              " 0.9959793978324325,\n",
              " 1.0,\n",
              " 0.9744659074724253,\n",
              " 0.9980457151822838,\n",
              " 0.9983489784467898,\n",
              " 0.9887023998032594,\n",
              " 0.9988049528558006,\n",
              " 1.0,\n",
              " 0.9996062875114948,\n",
              " 1.0,\n",
              " 1.0,\n",
              " 1.0,\n",
              " 0.9989498055378644,\n",
              " 0.9988227530643016,\n",
              " 0.9993612875277463,\n",
              " 0.9987288108705968,\n",
              " 0.9994917686970684,\n",
              " 0.9115792124411201,\n",
              " 0.9852489743949524,\n",
              " 1.0,\n",
              " 0.9974995194400564,\n",
              " 1.0,\n",
              " 1.0,\n",
              " 1.0,\n",
              " 1.0,\n",
              " 0.9920892540251744,\n",
              " 0.9930645858359988,\n",
              " 1.0,\n",
              " 1.0,\n",
              " 0.9967264063671114,\n",
              " 1.0,\n",
              " 0.9993252028763542,\n",
              " 1.0,\n",
              " 0.9599338328932225,\n",
              " 1.0,\n",
              " 1.0,\n",
              " 0.9936795217511217,\n",
              " 0.995782640953451,\n",
              " 1.0,\n",
              " 1.0,\n",
              " 0.9992825411921835,\n",
              " 1.0,\n",
              " 0.9884648139015866,\n",
              " 0.9969562374326124,\n",
              " 1.0,\n",
              " 0.9996062875114948,\n",
              " 0.9733492988441065,\n",
              " 0.960902776930184,\n",
              " 0.9899815537655012,\n",
              " 0.9829667448691318,\n",
              " 1.0,\n",
              " 0.9948942659828272,\n",
              " 1.0,\n",
              " 1.0,\n",
              " 0.9984610607521762,\n",
              " 1.0,\n",
              " 0.9993207344596123,\n",
              " 0.9997291072637788,\n",
              " 0.973869274194634,\n",
              " 0.9998102497653293,\n",
              " 0.9988541368238085,\n",
              " 0.9847094148973594,\n",
              " 0.9966401749033887,\n",
              " 0.8456578749471183,\n",
              " 1.0,\n",
              " 0.998847304309305,\n",
              " 1.0,\n",
              " 1.0,\n",
              " 0.9974427791907295,\n",
              " 0.9985924327041861,\n",
              " 1.0,\n",
              " 0.6354173661667704,\n",
              " 0.9962912029445276,\n",
              " 1.0,\n",
              " 1.0,\n",
              " 0.9964916310085156,\n",
              " 1.0,\n",
              " 0.9993676542978758,\n",
              " 0.9914155162960179,\n",
              " 0.9973069862813003,\n",
              " 0.9923520880414699,\n",
              " 1.0,\n",
              " 0.9987126822990231,\n",
              " 0.997671874367453,\n",
              " 0.9996147041294805,\n",
              " 0.9910502055396502,\n",
              " 0.9781069016273075,\n",
              " 1.0,\n",
              " 0.9899815537655012,\n",
              " 0.9948249675319086,\n",
              " 1.0,\n",
              " 0.9944556426007745,\n",
              " 0.9979150476463897,\n",
              " 0.9926016761195237,\n",
              " 1.0,\n",
              " 0.9931429808701081,\n",
              " 1.0,\n",
              " 0.9929531403678252,\n",
              " 0.9964916310085156,\n",
              " 0.9057124204081469,\n",
              " 1.0,\n",
              " 0.9979489547179586,\n",
              " 0.9949621406974413,\n",
              " 0.997609518320485,\n",
              " 0.9975112227348443,\n",
              " 0.9954670534819641,\n",
              " 0.7250910837831542,\n",
              " 0.9995510614564999,\n",
              " 0.9987524240302943,\n",
              " 0.9960685310437284,\n",
              " 1.0,\n",
              " 0.9837477351971552,\n",
              " 1.0,\n",
              " 0.999772977384955,\n",
              " 1.0,\n",
              " 1.0,\n",
              " 0.9981980415431526,\n",
              " 0.9951576083308181,\n",
              " 0.9992836966816576,\n",
              " 1.0,\n",
              " 0.9963326818537234,\n",
              " 0.9993377723631114,\n",
              " 0.9988104333999109,\n",
              " 0.9991895758382674,\n",
              " 0.9840282692488084,\n",
              " 0.9984610607521762,\n",
              " 1.0,\n",
              " 0.9982757246532621,\n",
              " 0.9915198867999537,\n",
              " 0.9985124236745736,\n",
              " 0.9992522150611731,\n",
              " 1.0,\n",
              " 0.9964252738045176,\n",
              " 0.9967571975076698,\n",
              " 0.9969562374326124,\n",
              " 0.9575092616725073,\n",
              " 0.9992480406817185,\n",
              " 0.9875057201031234,\n",
              " 1.0,\n",
              " 0.994992001103057,\n",
              " 1.0,\n",
              " 0.9993231560669683,\n",
              " 0.9968125849353806,\n",
              " 0.9995668877206968,\n",
              " 1.0,\n",
              " 1.0,\n",
              " 0.9874329197231637,\n",
              " 1.0,\n",
              " 0.9992379529674362,\n",
              " 0.999901202514451,\n",
              " 1.0,\n",
              " 1.0,\n",
              " 1.0,\n",
              " 0.9782618718168631,\n",
              " 0.9967452998234461,\n",
              " 1.0,\n",
              " 1.0,\n",
              " 0.9907143824311438,\n",
              " 0.9973323082331859,\n",
              " 1.0,\n",
              " 0.9996835372773699,\n",
              " 0.9989933393664487,\n",
              " 0.9961623166874648,\n",
              " 0.998818370950082,\n",
              " 0.9988601240217831,\n",
              " 1.0,\n",
              " 0.999047755991977,\n",
              " 0.9791158454379684,\n",
              " 0.9988001450697174,\n",
              " 0.9989301974766722,\n",
              " 1.0,\n",
              " 0.9933567605547268,\n",
              " 0.9994768007470063,\n",
              " 0.9953415974726536,\n",
              " 1.0,\n",
              " 1.0,\n",
              " 1.0,\n",
              " 0.9982414382410378,\n",
              " 0.9997445002206471,\n",
              " 0.996488502902198,\n",
              " 0.9968027669695797,\n",
              " 0.9935830257138839,\n",
              " 1.0,\n",
              " 0.982136086353903,\n",
              " 0.9995626124238282,\n",
              " 0.9948249675319086,\n",
              " 0.9986201807273357,\n",
              " 0.9971013440889646,\n",
              " 0.9897843743250403,\n",
              " 0.9992805614701743,\n",
              " 0.9993693472005198,\n",
              " 0.9918122063982066,\n",
              " 1.0,\n",
              " 0.9992379529674362,\n",
              " 0.9984046407133726,\n",
              " 0.9942150562869628,\n",
              " 0.9981228567509104,\n",
              " 0.9901729208975771,\n",
              " 1.0,\n",
              " 1.0,\n",
              " 1.0,\n",
              " 0.9988404085520728,\n",
              " 0.9994522585815939,\n",
              " 0.9992080941708258,\n",
              " 0.9989554591886017,\n",
              " 0.999588964040436,\n",
              " 1.0,\n",
              " 0.9975881576631063,\n",
              " 0.9949301552073261,\n",
              " 1.0,\n",
              " 1.0,\n",
              " 1.0,\n",
              " 1.0,\n",
              " 0.9992237360114461,\n",
              " 1.0,\n",
              " 0.9859292784785645,\n",
              " 1.0,\n",
              " 0.9992157568862698,\n",
              " 0.9998092985177817,\n",
              " 1.0,\n",
              " 1.0,\n",
              " 1.0,\n",
              " 0.9994601937361959,\n",
              " 0.9997663744117352,\n",
              " 0.9837402166566109,\n",
              " 1.0,\n",
              " 0.9996259024665614,\n",
              " 0.9926513828618543,\n",
              " 0.9952201674576675,\n",
              " 0.9976513713888662,\n",
              " 0.999863395965064,\n",
              " 0.9997105138697415,\n",
              " 1.0,\n",
              " 0.9988772376313263,\n",
              " 0.7953878237470263,\n",
              " 0.9995174650871347,\n",
              " 1.0,\n",
              " 0.9992590360662521,\n",
              " 0.9954982823677586,\n",
              " 1.0,\n",
              " 1.0,\n",
              " 0.9997605923010046,\n",
              " 1.0,\n",
              " 0.99950410697618,\n",
              " 1.0,\n",
              " 0.9989853443113031,\n",
              " 1.0,\n",
              " 0.9965297055320987,\n",
              " 0.9985438107510538,\n",
              " 0.9997956288281205,\n",
              " 0.9954823485579514,\n",
              " 1.0,\n",
              " 0.9995375843834903,\n",
              " 0.9987362513413839,\n",
              " 1.0,\n",
              " 1.0,\n",
              " 0.9978079519273841,\n",
              " 0.9989161163712439,\n",
              " 0.9996000158635062,\n",
              " 1.0,\n",
              " 1.0,\n",
              " 0.996882092805127,\n",
              " 1.0,\n",
              " 0.9912111357438227,\n",
              " 0.9939391595917308,\n",
              " 1.0,\n",
              " 0.9940408556376248,\n",
              " 0.9986730666552319,\n",
              " 0.9994971796217941,\n",
              " 0.997207558423594,\n",
              " 0.9988001450697174,\n",
              " 0.998007700109569,\n",
              " 1.0,\n",
              " 1.0,\n",
              " 0.9993483760879084,\n",
              " 1.0,\n",
              " 0.9773804708828437,\n",
              " 0.9993782487640253,\n",
              " 0.998818370950082,\n",
              " 1.0,\n",
              " 1.0,\n",
              " 0.9993606163579245,\n",
              " 0.9984049044310983,\n",
              " 0.9978199318470877,\n",
              " 0.9849061669664189,\n",
              " 1.0,\n",
              " 1.0,\n",
              " 0.9974430019497045,\n",
              " 0.9992003985693547,\n",
              " 1.0,\n",
              " 0.9895467341781815,\n",
              " 0.9989058632123029,\n",
              " 0.9984270909944168,\n",
              " 1.0,\n",
              " 0.9989851342487711,\n",
              " 0.9993852278400112,\n",
              " 0.9994157366567012,\n",
              " 1.0,\n",
              " 1.0,\n",
              " 0.9993189151889518,\n",
              " 1.0,\n",
              " 0.9992423801420257,\n",
              " 0.9974484739972442,\n",
              " 1.0,\n",
              " 0.9907253526545151,\n",
              " 1.0,\n",
              " 1.0,\n",
              " 0.9964916310085156,\n",
              " 0.9969408643718257,\n",
              " 1.0,\n",
              " 1.0,\n",
              " 0.9987246424283627,\n",
              " 0.99950410697618,\n",
              " 0.9997790585662027,\n",
              " 0.9849061669664189,\n",
              " 0.9980575715615405,\n",
              " 0.9975881576631063,\n",
              " 0.9975893167720364,\n",
              " 0.999341294638927,\n",
              " 1.0,\n",
              " 0.9994078499546672,\n",
              " 0.9927217828184686,\n",
              " 0.9925303042469571,\n",
              " 1.0,\n",
              " 0.9696537253313334,\n",
              " 1.0,\n",
              " 0.9942378944385207,\n",
              " 0.9972018858650383,\n",
              " 0.9913676419360962,\n",
              " 0.9962489941870704,\n",
              " 0.9995737575249124,\n",
              " 1.0,\n",
              " 1.0,\n",
              " 1.0,\n",
              " 1.0,\n",
              " 0.9996835372773699,\n",
              " 0.9952842219900379,\n",
              " 0.9990010108279602,\n",
              " 1.0,\n",
              " 0.9958332038747317,\n",
              " 0.9994067727311186,\n",
              " 1.0,\n",
              " 0.9987362513413839,\n",
              " 0.9966401749033887,\n",
              " 1.0,\n",
              " 1.0,\n",
              " 1.0,\n",
              " 0.999125716793244,\n",
              " 0.9583823662632801,\n",
              " 0.9948249675319086,\n",
              " 0.9970629490602703,\n",
              " 0.9983582260919537,\n",
              " 0.9993878143952447,\n",
              " 1.0,\n",
              " 0.9977830166458238,\n",
              " 1.0,\n",
              " 1.0,\n",
              " 0.9884648139015866,\n",
              " 1.0,\n",
              " 0.9950980382435504,\n",
              " 0.9968536394360945,\n",
              " 0.9867646691067845,\n",
              " 0.9997203353899314,\n",
              " 0.9934530310971528,\n",
              " 0.9997426951749672,\n",
              " 1.0,\n",
              " 1.0,\n",
              " 0.9942964027627601,\n",
              " 1.0,\n",
              " 0.9919525708192257,\n",
              " 0.9879896732683796,\n",
              " 1.0,\n",
              " 1.0,\n",
              " 0.9982145099923754,\n",
              " 0.997962488706324,\n",
              " 0.9973818602149278,\n",
              " 1.0,\n",
              " 0.9987072878768872,\n",
              " 1.0,\n",
              " 0.998906611602415,\n",
              " 0.9944556426007745,\n",
              " 1.0,\n",
              " 1.0,\n",
              " 0.9836822873393914,\n",
              " 1.0,\n",
              " 1.0,\n",
              " 1.0,\n",
              " 0.9964595025325835,\n",
              " 1.0,\n",
              " 1.0,\n",
              " 0.9997004394921774,\n",
              " 1.0,\n",
              " 0.9974427791907295,\n",
              " 0.9990421331274575,\n",
              " 0.9991200733351903,\n",
              " 0.9978079519273841,\n",
              " 0.9992188896218672,\n",
              " 0.9872573148255078,\n",
              " 0.9976093135539335,\n",
              " 0.9990171744427859,\n",
              " 0.9712093468033226,\n",
              " 0.9997004658847386,\n",
              " 0.995469024599157,\n",
              " 0.9877038648235362,\n",
              " 1.0,\n",
              " 0.9306784817671939,\n",
              " 0.999270033654315,\n",
              " 1.0,\n",
              " 0.9992874210837962,\n",
              " 1.0,\n",
              " 0.999305328225474,\n",
              " 0.9983489784467898,\n",
              " 1.0,\n",
              " 0.9983489784467898,\n",
              " 1.0,\n",
              " 1.0,\n",
              " 1.0,\n",
              " 0.9973709151874448,\n",
              " 1.0,\n",
              " 1.0,\n",
              " 0.9986360315718287,\n",
              " 1.0,\n",
              " 1.0,\n",
              " 1.0,\n",
              " 1.0,\n",
              " 0.9946819352458395,\n",
              " 1.0,\n",
              " 1.0,\n",
              " 1.0,\n",
              " 1.0,\n",
              " 1.0,\n",
              " 1.0,\n",
              " 1.0,\n",
              " 1.0,\n",
              " 0.9988569092562178,\n",
              " 0.9903587046696171,\n",
              " 1.0,\n",
              " 0.9983700237669445,\n",
              " 1.0,\n",
              " 0.995782640953451,\n",
              " 1.0,\n",
              " 1.0,\n",
              " 1.0,\n",
              " 0.9982321105089503,\n",
              " 1.0,\n",
              " 0.995469024599157,\n",
              " 0.9934602842386725,\n",
              " 0.9981843109950963,\n",
              " 1.0,\n",
              " 0.9773464446924615,\n",
              " 1.0,\n",
              " 1.0,\n",
              " 0.9983166816648553,\n",
              " 1.0,\n",
              " 1.0,\n",
              " 0.9989244114828985,\n",
              " 1.0,\n",
              " 0.9991384500523578,\n",
              " 0.9984761438317069,\n",
              " 1.0,\n",
              " 0.9989002578538911,\n",
              " 1.0,\n",
              " 0.998644892386834,\n",
              " 0.9986302617644465,\n",
              " 0.9999056514634004,\n",
              " 0.9984761438317069,\n",
              " 1.0,\n",
              " 0.9968441259345583,\n",
              " 0.9922223852430488,\n",
              " 0.9985520823423604,\n",
              " 0.9996835372773699,\n",
              " 1.0,\n",
              " 0.989371602291625,\n",
              " 0.9989314671547924,\n",
              " 1.0,\n",
              " 0.9975814821838344,\n",
              " 0.9996325395803828,\n",
              " 0.9978298285960276,\n",
              " 1.0,\n",
              " 0.9583823662632801,\n",
              " 0.9950286309379837,\n",
              " 0.989371602291625,\n",
              " 0.9895811416924779,\n",
              " 0.9850797806796993,\n",
              " 1.0,\n",
              " 0.9814922170321442,\n",
              " 1.0,\n",
              " 1.0,\n",
              " 0.9419668605418269,\n",
              " 0.9995143645749848,\n",
              " 1.0,\n",
              " 0.992147763888339,\n",
              " 0.9991248434211996,\n",
              " 0.9868626395501829,\n",
              " 0.9973323082331859,\n",
              " 0.9993267493274846,\n",
              " 0.9917911437762068,\n",
              " 0.9995876689513792,\n",
              " 0.9891554890399965,\n",
              " 0.9947820253702495,\n",
              " 1.0,\n",
              " 1.0,\n",
              " 1.0,\n",
              " 0.9903587046696171,\n",
              " 0.9998952422119959,\n",
              " 0.9882194322056717,\n",
              " 0.9277606509666074,\n",
              " 0.999053760185135,\n",
              " 1.0,\n",
              " 0.9849061669664189,\n",
              " 0.996710830193855,\n",
              " 0.9977164888251937,\n",
              " 0.9916680255616727,\n",
              " 0.9974080081413903,\n",
              " 1.0,\n",
              " 1.0,\n",
              " 1.0,\n",
              " 1.0,\n",
              " 0.9884366704435363,\n",
              " 0.9991200733351903,\n",
              " 0.9995567374118757,\n",
              " 0.9964595025325835,\n",
              " 0.9990848142422941,\n",
              " 0.9886547305641186,\n",
              " 0.9871526571281241,\n",
              " 1.0,\n",
              " 0.9995357591254682,\n",
              " 0.9993471652372858,\n",
              " 0.9960263719794888,\n",
              " 0.9981014202303186,\n",
              " 0.9921885533053769,\n",
              " 1.0,\n",
              " 0.9991907864103853,\n",
              " 1.0,\n",
              " 1.0,\n",
              " 0.9944268121919276,\n",
              " 0.993865911907913,\n",
              " 0.9923951418617528,\n",
              " 1.0,\n",
              " 0.9981769556613832,\n",
              " 0.9960685310437284,\n",
              " 1.0,\n",
              " 1.0,\n",
              " 1.0,\n",
              " 0.9956216405238189,\n",
              " 0.9982494771370577,\n",
              " 0.9943852048247389,\n",
              " 1.0,\n",
              " 1.0,\n",
              " 0.9991389469129439,\n",
              " 0.9358726875585014,\n",
              " 1.0,\n",
              " 0.9993483760879084,\n",
              " 0.9934430890946496,\n",
              " 0.998826424117168,\n",
              " 0.9988227530643016,\n",
              " 0.9973818602149278,\n",
              " 0.9980611542527947,\n",
              " 1.0,\n",
              " 0.9959793978324325,\n",
              " 0.9996514511477871,\n",
              " 0.5744966629442667,\n",
              " 0.9980263084250469,\n",
              " 0.9983648128861302,\n",
              " 0.9985520823423604,\n",
              " 0.9976341162427271,\n",
              " 0.997826384171671,\n",
              " 0.9934788268357937,\n",
              " 1.0,\n",
              " 0.9959411420368562,\n",
              " 0.9974300029969644,\n",
              " 0.9989435685481214,\n",
              " 0.9560302831561671,\n",
              " 1.0,\n",
              " 1.0,\n",
              " 0.996882092805127,\n",
              " 0.9941299836655022,\n",
              " 0.9983648128861302,\n",
              " 0.9992379529674362,\n",
              " 0.9927217828184686,\n",
              " 1.0,\n",
              " 0.9993500034646021,\n",
              " 1.0,\n",
              " 0.9846328307225496,\n",
              " 1.0,\n",
              " 0.9985714158740255,\n",
              " 0.9888677599740968,\n",
              " 0.999739446509278,\n",
              " 0.9975771667506519,\n",
              " 0.9993639122814229,\n",
              " 1.0,\n",
              " 1.0,\n",
              " 1.0,\n",
              " 1.0,\n",
              " 0.9932841877985787,\n",
              " 0.9981210623762332,\n",
              " 0.9988036625454827,\n",
              " 0.997962488706324,\n",
              " 0.9979562045778069,\n",
              " 0.9972407237781137,\n",
              " 1.0,\n",
              " 0.9855953139258398,\n",
              " 1.0,\n",
              " 0.9997381486214683,\n",
              " 1.0,\n",
              " 0.9981355922993584,\n",
              " 1.0,\n",
              " 1.0,\n",
              " 0.9990174225099807,\n",
              " 1.0,\n",
              " 0.9980652648718473,\n",
              " 0.9989161163712439,\n",
              " 0.9991501194402732,\n",
              " 1.0,\n",
              " 0.9957670891472993,\n",
              " 1.0,\n",
              " 1.0,\n",
              " 0.9984761438317069,\n",
              " 1.0,\n",
              " 0.9990038151110753,\n",
              " 0.9988520415177548,\n",
              " 0.9983145824779501,\n",
              " 0.9768986440859108,\n",
              " 0.9968007795809644,\n",
              " 0.9989498055378644,\n",
              " 1.0,\n",
              " 0.9980136514298256,\n",
              " 0.9972299064732185,\n",
              " 1.0,\n",
              " 1.0,\n",
              " 1.0,\n",
              " 0.9964725311138116,\n",
              " 0.9773804708828437,\n",
              " 1.0,\n",
              " 0.997848081578668,\n",
              " 0.9969408643718257,\n",
              " 0.9980726934247766,\n",
              " 0.984516624789949,\n",
              " 0.9992805614701743,\n",
              " 0.9973283573792934,\n",
              " 0.9974061043392733,\n",
              " 0.9982326071926855,\n",
              " 0.9984490562525264,\n",
              " 0.9978065915154606,\n",
              " 0.997090303994948,\n",
              " 0.9972299064732185,\n",
              " 1.0,\n",
              " 0.9987753653687752,\n",
              " 1.0,\n",
              " 0.9997151080411605,\n",
              " 0.996567144924708,\n",
              " 1.0,\n",
              " 0.9912111357438227,\n",
              " 0.9877038648235362,\n",
              " 0.9975445407385217,\n",
              " 1.0,\n",
              " 0.9993784383832981,\n",
              " 0.9918227748561783,\n",
              " 1.0,\n",
              " 1.0,\n",
              " 0.6565237301506911,\n",
              " 1.0,\n",
              " 1.0,\n",
              " 1.0,\n",
              " 0.9981602648661807,\n",
              " 0.9998744769026151,\n",
              " 0.9513162539574077,\n",
              " 1.0,\n",
              " ...]"
            ]
          },
          "metadata": {
            "tags": []
          },
          "execution_count": 106
        }
      ]
    },
    {
      "cell_type": "code",
      "metadata": {
        "id": "Oi0tX5uGTNTU",
        "outputId": "36ae2c58-81ab-4b13-9461-a31b057cfede",
        "colab": {
          "base_uri": "https://localhost:8080/"
        }
      },
      "source": [
        "len(lst)"
      ],
      "execution_count": 107,
      "outputs": [
        {
          "output_type": "execute_result",
          "data": {
            "text/plain": [
              "4339"
            ]
          },
          "metadata": {
            "tags": []
          },
          "execution_count": 107
        }
      ]
    },
    {
      "cell_type": "code",
      "metadata": {
        "id": "P8oG7OGqoFxw",
        "outputId": "dbb506dc-f9a4-4670-a4b1-3cd4dd75a1c4",
        "colab": {
          "base_uri": "https://localhost:8080/",
          "height": 415
        }
      },
      "source": [
        "data1['CustomerID']=data1.index\n",
        "df_prob_alive = pd.DataFrame(list(zip(data1['CustomerID'].to_numpy(), lst)),\n",
        "               columns =['ID', 'alive_prob']) \n",
        "df_prob_alive.head(14000)"
      ],
      "execution_count": 32,
      "outputs": [
        {
          "output_type": "execute_result",
          "data": {
            "text/html": [
              "<div>\n",
              "<style scoped>\n",
              "    .dataframe tbody tr th:only-of-type {\n",
              "        vertical-align: middle;\n",
              "    }\n",
              "\n",
              "    .dataframe tbody tr th {\n",
              "        vertical-align: top;\n",
              "    }\n",
              "\n",
              "    .dataframe thead th {\n",
              "        text-align: right;\n",
              "    }\n",
              "</style>\n",
              "<table border=\"1\" class=\"dataframe\">\n",
              "  <thead>\n",
              "    <tr style=\"text-align: right;\">\n",
              "      <th></th>\n",
              "      <th>ID</th>\n",
              "      <th>alive_prob</th>\n",
              "    </tr>\n",
              "  </thead>\n",
              "  <tbody>\n",
              "    <tr>\n",
              "      <th>0</th>\n",
              "      <td>12346.0</td>\n",
              "      <td>1.000000</td>\n",
              "    </tr>\n",
              "    <tr>\n",
              "      <th>1</th>\n",
              "      <td>12347.0</td>\n",
              "      <td>0.999618</td>\n",
              "    </tr>\n",
              "    <tr>\n",
              "      <th>2</th>\n",
              "      <td>12348.0</td>\n",
              "      <td>0.998918</td>\n",
              "    </tr>\n",
              "    <tr>\n",
              "      <th>3</th>\n",
              "      <td>12349.0</td>\n",
              "      <td>1.000000</td>\n",
              "    </tr>\n",
              "    <tr>\n",
              "      <th>4</th>\n",
              "      <td>12350.0</td>\n",
              "      <td>1.000000</td>\n",
              "    </tr>\n",
              "    <tr>\n",
              "      <th>...</th>\n",
              "      <td>...</td>\n",
              "      <td>...</td>\n",
              "    </tr>\n",
              "    <tr>\n",
              "      <th>4334</th>\n",
              "      <td>18280.0</td>\n",
              "      <td>1.000000</td>\n",
              "    </tr>\n",
              "    <tr>\n",
              "      <th>4335</th>\n",
              "      <td>18281.0</td>\n",
              "      <td>1.000000</td>\n",
              "    </tr>\n",
              "    <tr>\n",
              "      <th>4336</th>\n",
              "      <td>18282.0</td>\n",
              "      <td>0.997202</td>\n",
              "    </tr>\n",
              "    <tr>\n",
              "      <th>4337</th>\n",
              "      <td>18283.0</td>\n",
              "      <td>0.999246</td>\n",
              "    </tr>\n",
              "    <tr>\n",
              "      <th>4338</th>\n",
              "      <td>18287.0</td>\n",
              "      <td>0.996686</td>\n",
              "    </tr>\n",
              "  </tbody>\n",
              "</table>\n",
              "<p>4339 rows × 2 columns</p>\n",
              "</div>"
            ],
            "text/plain": [
              "           ID  alive_prob\n",
              "0     12346.0    1.000000\n",
              "1     12347.0    0.999618\n",
              "2     12348.0    0.998918\n",
              "3     12349.0    1.000000\n",
              "4     12350.0    1.000000\n",
              "...       ...         ...\n",
              "4334  18280.0    1.000000\n",
              "4335  18281.0    1.000000\n",
              "4336  18282.0    0.997202\n",
              "4337  18283.0    0.999246\n",
              "4338  18287.0    0.996686\n",
              "\n",
              "[4339 rows x 2 columns]"
            ]
          },
          "metadata": {
            "tags": []
          },
          "execution_count": 32
        }
      ]
    },
    {
      "cell_type": "code",
      "metadata": {
        "id": "SFuHvdhDvtWN",
        "outputId": "e174cb90-36a4-452c-8bed-8c21f95a275e",
        "colab": {
          "base_uri": "https://localhost:8080/",
          "height": 279
        }
      },
      "source": [
        "plt.plot( df_prob_alive['ID'] , df_prob_alive['alive_prob'] ) \n",
        "plt.xlabel('CustomerID')\n",
        "plt.ylabel('Alive Probability')\n",
        "plt.show()\n"
      ],
      "execution_count": 19,
      "outputs": [
        {
          "output_type": "display_data",
          "data": {
            "image/png": "[encoded data removed]",
            "text/plain": [
              "<Figure size 432x288 with 1 Axes>"
            ]
          },
          "metadata": {
            "tags": [],
            "needs_background": "light"
          }
        }
      ]
    },
    {
      "cell_type": "markdown",
      "metadata": {
        "id": "Urflbix-nlBw"
      },
      "source": [
        "What is the  probability a customer is alive based on their frequency and recency.??"
      ]
    },
    {
      "cell_type": "code",
      "metadata": {
        "id": "A0B-66nAhdrn",
        "outputId": "9269f0ab-eb45-49d6-b17d-38b58aa84299",
        "colab": {
          "base_uri": "https://localhost:8080/",
          "height": 545
        }
      },
      "source": [
        "from lifetimes.plotting import plot_probability_alive_matrix\n",
        "fig =plt.figure(figsize=(12,8))\n",
        "plot_probability_alive_matrix(bgf)"
      ],
      "execution_count": 22,
      "outputs": [
        {
          "output_type": "execute_result",
          "data": {
            "text/plain": [
              "<matplotlib.axes._subplots.AxesSubplot at 0x7f7b7c4adb70>"
            ]
          },
          "metadata": {
            "tags": []
          },
          "execution_count": 22
        },
        {
          "output_type": "display_data",
          "data": {
            "image/png": "[encoded data removed]",
            "text/plain": [
              "<Figure size 864x576 with 2 Axes>"
            ]
          },
          "metadata": {
            "tags": [],
            "needs_background": "light"
          }
        }
      ]
    },
    {
      "cell_type": "code",
      "metadata": {
        "id": "Oh1JiaMSuzmS"
      },
      "source": [
        "def plot_history_alive1(model, t, transactions, datetime_col, freq=\"D\", start_date=None, ax=None, **kwargs):\n",
        "    \"\"\"\n",
        "    Draw a graph showing the probability of being alive for a customer in time.\n",
        "    Parameters\n",
        "    ----------\n",
        "    model: lifetimes model\n",
        "        A fitted lifetimes model.\n",
        "    t: int\n",
        "        the number of time units since the birth we want to draw the p_alive\n",
        "    transactions: pandas DataFrame\n",
        "        DataFrame containing the transactions history of the customer_id\n",
        "    datetime_col: str\n",
        "        The column in the transactions that denotes the datetime the purchase was made\n",
        "    freq: str, optional\n",
        "        Default 'D' for days. Other examples= 'W' for weekly\n",
        "    start_date: datetime, optional\n",
        "        Limit xaxis to start date\n",
        "    ax: matplotlib.AxesSubplot, optional\n",
        "        Using user axes\n",
        "    kwargs\n",
        "        Passed into the matplotlib.pyplot.plot command.\n",
        "    Returns\n",
        "    -------\n",
        "    axes: matplotlib.AxesSubplot\n",
        "    \"\"\"\n",
        "    from matplotlib import pyplot as plt\n",
        "\n",
        "    if start_date is None:\n",
        "        start_date = min(transactions[datetime_col])\n",
        "\n",
        "    if ax is None:\n",
        "        ax = plt.subplot(111)\n",
        "\n",
        "    # Get purchasing history of user\n",
        "    customer_history = transactions[[datetime_col]].copy()\n",
        "    customer_history.index = pd.DatetimeIndex(customer_history[datetime_col])\n",
        "\n",
        "    # Add transactions column\n",
        "    customer_history[\"transactions\"] = 1\n",
        "    customer_history = customer_history.resample(freq).sum()\n",
        "\n",
        "    # plot alive_path\n",
        "    path = calculate_alive_path(model, transactions, datetime_col, t, freq)\n",
        "    path_dates = pd.date_range(start=min(transactions[datetime_col]), periods=len(path), freq=freq)\n",
        "    plt.plot(path_dates, path, \"-\", label=\"P_alive\")\n",
        "\n",
        "    # plot buying dates\n",
        "    payment_dates = customer_history[customer_history[\"transactions\"] >= 1].index\n",
        "    plt.vlines(payment_dates.values, ymin=0, ymax=1, colors=\"r\", linestyles=\"dashed\", label=\"purchases\")\n",
        "\n",
        "    plt.ylim(0, 1.5)\n",
        "    plt.yticks(np.arange(0, 1.1, 0.1))\n",
        "    plt.xlim(start_date, path_dates[-1])\n",
        "    plt.legend(loc=3)\n",
        "    plt.ylabel(\"P_alive\")\n",
        "    plt.title(\"History of P_alive\")\n",
        "\n",
        "    return ax"
      ],
      "execution_count": 29,
      "outputs": []
    },
    {
      "cell_type": "code",
      "metadata": {
        "id": "ZvqwxfDr7QyK",
        "outputId": "3c1148e8-eb70-4512-fa26-7e3a7afc8815",
        "colab": {
          "base_uri": "https://localhost:8080/",
          "height": 517
        }
      },
      "source": [
        "\n",
        "from lifetimes.plotting import plot_history_alive\n",
        "\n",
        "\n",
        "fig = plt.figure(figsize=(12,8))\n",
        "\n",
        "id = 12352\n",
        "days_since_birth = 200\n",
        "sp_trans = df.loc[df['CustomerID'] == id]\n",
        "plot_history_alive1(bgf, days_since_birth, sp_trans, 'InvoiceDate')\n"
      ],
      "execution_count": 31,
      "outputs": [
        {
          "output_type": "execute_result",
          "data": {
            "text/plain": [
              "<matplotlib.axes._subplots.AxesSubplot at 0x7f1f9e7fa0b8>"
            ]
          },
          "metadata": {
            "tags": []
          },
          "execution_count": 31
        },
        {
          "output_type": "display_data",
          "data": {
            "image/png": "[encoded data removed]",
            "text/plain": [
              "<Figure size 864x576 with 1 Axes>"
            ]
          },
          "metadata": {
            "tags": [],
            "needs_background": "light"
          }
        }
      ]
    },
    {
      "cell_type": "code",
      "metadata": {
        "id": "guQx1Sxa7RK0",
        "outputId": "7e7083b6-318b-4699-ea63-17662bb8e3af",
        "colab": {
          "base_uri": "https://localhost:8080/",
          "height": 517
        }
      },
      "source": [
        "fig = plt.figure(figsize=(12,8))\n",
        "id = 18283\n",
        "days_since_birth = 365\n",
        "sp_trans = df.loc[df['CustomerID'] == id]\n",
        "plot_history_alive1(bgf, days_since_birth, sp_trans,'InvoiceDate')"
      ],
      "execution_count": 30,
      "outputs": [
        {
          "output_type": "execute_result",
          "data": {
            "text/plain": [
              "<matplotlib.axes._subplots.AxesSubplot at 0x7f1f9e5072e8>"
            ]
          },
          "metadata": {
            "tags": []
          },
          "execution_count": 30
        },
        {
          "output_type": "display_data",
          "data": {
            "image/png": "[encoded data removed]",
            "text/plain": [
              "<Figure size 864x576 with 1 Axes>"
            ]
          },
          "metadata": {
            "tags": [],
            "needs_background": "light"
          }
        }
      ]
    },
    {
      "cell_type": "code",
      "metadata": {
        "id": "a-PdLsOo7Qna"
      },
      "source": [
        ""
      ],
      "execution_count": null,
      "outputs": []
    },
    {
      "cell_type": "markdown",
      "metadata": {
        "id": "1O2sW6MIoy9U"
      },
      "source": [
        "What is the expected number of purchases of a customer in the next t days???\n"
      ]
    },
    {
      "cell_type": "code",
      "metadata": {
        "id": "n78urEULoLvB",
        "outputId": "deb6d545-4800-46c3-9814-401d546c69fa",
        "colab": {
          "base_uri": "https://localhost:8080/",
          "height": 233
        }
      },
      "source": [
        "t=10\n",
        "data['predicted_purchases']=bgf.conditional_expected_number_of_purchases_up_to_time(t,\n",
        "                                                       data['frequency'],\n",
        "                                                       data['recency'],\n",
        "                                                       data['T'])\n",
        "data.head()\n",
        "data.sort_values(by='predicted_purchases').tail(5)\n",
        "#Listed below are our top 5 customers that the model expects them to make purchases in the next day."
      ],
      "execution_count": null,
      "outputs": [
        {
          "output_type": "execute_result",
          "data": {
            "text/html": [
              "<div>\n",
              "<style scoped>\n",
              "    .dataframe tbody tr th:only-of-type {\n",
              "        vertical-align: middle;\n",
              "    }\n",
              "\n",
              "    .dataframe tbody tr th {\n",
              "        vertical-align: top;\n",
              "    }\n",
              "\n",
              "    .dataframe thead th {\n",
              "        text-align: right;\n",
              "    }\n",
              "</style>\n",
              "<table border=\"1\" class=\"dataframe\">\n",
              "  <thead>\n",
              "    <tr style=\"text-align: right;\">\n",
              "      <th></th>\n",
              "      <th>CustomerID</th>\n",
              "      <th>frequency</th>\n",
              "      <th>recency</th>\n",
              "      <th>T</th>\n",
              "      <th>monetary_value</th>\n",
              "      <th>predicted_purchases</th>\n",
              "    </tr>\n",
              "    <tr>\n",
              "      <th>CustomerID</th>\n",
              "      <th></th>\n",
              "      <th></th>\n",
              "      <th></th>\n",
              "      <th></th>\n",
              "      <th></th>\n",
              "      <th></th>\n",
              "    </tr>\n",
              "  </thead>\n",
              "  <tbody>\n",
              "    <tr>\n",
              "      <th>14606.0</th>\n",
              "      <td>14606.0</td>\n",
              "      <td>88.0</td>\n",
              "      <td>372.0</td>\n",
              "      <td>374.0</td>\n",
              "      <td>135.890114</td>\n",
              "      <td>2.003901</td>\n",
              "    </tr>\n",
              "    <tr>\n",
              "      <th>15311.0</th>\n",
              "      <td>15311.0</td>\n",
              "      <td>89.0</td>\n",
              "      <td>373.0</td>\n",
              "      <td>374.0</td>\n",
              "      <td>677.729438</td>\n",
              "      <td>2.026485</td>\n",
              "    </tr>\n",
              "    <tr>\n",
              "      <th>17841.0</th>\n",
              "      <td>17841.0</td>\n",
              "      <td>111.0</td>\n",
              "      <td>372.0</td>\n",
              "      <td>374.0</td>\n",
              "      <td>364.452162</td>\n",
              "      <td>2.522796</td>\n",
              "    </tr>\n",
              "    <tr>\n",
              "      <th>12748.0</th>\n",
              "      <td>12748.0</td>\n",
              "      <td>113.0</td>\n",
              "      <td>373.0</td>\n",
              "      <td>374.0</td>\n",
              "      <td>298.360885</td>\n",
              "      <td>2.567949</td>\n",
              "    </tr>\n",
              "    <tr>\n",
              "      <th>14911.0</th>\n",
              "      <td>14911.0</td>\n",
              "      <td>131.0</td>\n",
              "      <td>372.0</td>\n",
              "      <td>374.0</td>\n",
              "      <td>1093.661679</td>\n",
              "      <td>2.974008</td>\n",
              "    </tr>\n",
              "  </tbody>\n",
              "</table>\n",
              "</div>"
            ],
            "text/plain": [
              "            CustomerID  frequency  ...  monetary_value  predicted_purchases\n",
              "CustomerID                         ...                                     \n",
              "14606.0        14606.0       88.0  ...      135.890114             2.003901\n",
              "15311.0        15311.0       89.0  ...      677.729438             2.026485\n",
              "17841.0        17841.0      111.0  ...      364.452162             2.522796\n",
              "12748.0        12748.0      113.0  ...      298.360885             2.567949\n",
              "14911.0        14911.0      131.0  ...     1093.661679             2.974008\n",
              "\n",
              "[5 rows x 6 columns]"
            ]
          },
          "metadata": {
            "tags": []
          },
          "execution_count": 39
        }
      ]
    },
    {
      "cell_type": "code",
      "metadata": {
        "id": "-SHYst6NpH_r"
      },
      "source": [
        "#(thought)from here also we can get our most valuabe customers-the customers that the model predicts \n",
        "#will be making more purchases in the near future."
      ],
      "execution_count": null,
      "outputs": []
    },
    {
      "cell_type": "markdown",
      "metadata": {
        "id": "-SKKr5dfqWHo"
      },
      "source": [
        "How good is our model??"
      ]
    },
    {
      "cell_type": "code",
      "metadata": {
        "id": "FMzmwi6YqHGu",
        "outputId": "3e691083-7b08-4bf9-c94e-ce69fd896bbd",
        "colab": {
          "base_uri": "https://localhost:8080/",
          "height": 315
        }
      },
      "source": [
        "#Calibration Period = Training Set \n",
        "#Holdout Period = Testing Set\n",
        "\n",
        "from lifetimes.plotting import plot_period_transactions\n",
        "plot_period_transactions(bgf)\n",
        "\n",
        "#Here Calibration Period and Holdout Period\n",
        "#are both whole observation period\n",
        "#So model has overfitting"
      ],
      "execution_count": null,
      "outputs": [
        {
          "output_type": "execute_result",
          "data": {
            "text/plain": [
              "<matplotlib.axes._subplots.AxesSubplot at 0x7f7e5cd01d68>"
            ]
          },
          "metadata": {
            "tags": []
          },
          "execution_count": 40
        },
        {
          "output_type": "display_data",
          "data": {
            "image/png": "[encoded data removed]",
            "text/plain": [
              "<Figure size 432x288 with 1 Axes>"
            ]
          },
          "metadata": {
            "tags": [],
            "needs_background": "light"
          }
        }
      ]
    },
    {
      "cell_type": "markdown",
      "metadata": {
        "id": "oyUqMB2DFSyc"
      },
      "source": [
        "**TRAIN TEST SPLIT**"
      ]
    },
    {
      "cell_type": "code",
      "metadata": {
        "id": "R53loH-e4U3P",
        "outputId": "dee6f801-26ce-4fb5-f688-dcf51bd5b0a4",
        "colab": {
          "base_uri": "https://localhost:8080/",
          "height": 713
        }
      },
      "source": [
        "data2 = calibration_and_holdout_data(df, 'CustomerID', 'InvoiceDate', calibration_period_end='2011-09-10',monetary_value_col='Sales')\n",
        "data2.head(20)"
      ],
      "execution_count": 39,
      "outputs": [
        {
          "output_type": "execute_result",
          "data": {
            "text/html": [
              "<div>\n",
              "<style scoped>\n",
              "    .dataframe tbody tr th:only-of-type {\n",
              "        vertical-align: middle;\n",
              "    }\n",
              "\n",
              "    .dataframe tbody tr th {\n",
              "        vertical-align: top;\n",
              "    }\n",
              "\n",
              "    .dataframe thead th {\n",
              "        text-align: right;\n",
              "    }\n",
              "</style>\n",
              "<table border=\"1\" class=\"dataframe\">\n",
              "  <thead>\n",
              "    <tr style=\"text-align: right;\">\n",
              "      <th></th>\n",
              "      <th>frequency_cal</th>\n",
              "      <th>recency_cal</th>\n",
              "      <th>T_cal</th>\n",
              "      <th>monetary_value_cal</th>\n",
              "      <th>frequency_holdout</th>\n",
              "      <th>monetary_value_holdout</th>\n",
              "      <th>duration_holdout</th>\n",
              "    </tr>\n",
              "    <tr>\n",
              "      <th>CustomerID</th>\n",
              "      <th></th>\n",
              "      <th></th>\n",
              "      <th></th>\n",
              "      <th></th>\n",
              "      <th></th>\n",
              "      <th></th>\n",
              "      <th></th>\n",
              "    </tr>\n",
              "  </thead>\n",
              "  <tbody>\n",
              "    <tr>\n",
              "      <th>12346.0</th>\n",
              "      <td>0.0</td>\n",
              "      <td>0.0</td>\n",
              "      <td>235.0</td>\n",
              "      <td>0.0000</td>\n",
              "      <td>0.0</td>\n",
              "      <td>0.000000</td>\n",
              "      <td>90.0</td>\n",
              "    </tr>\n",
              "    <tr>\n",
              "      <th>12347.0</th>\n",
              "      <td>4.0</td>\n",
              "      <td>238.0</td>\n",
              "      <td>277.0</td>\n",
              "      <td>519.7675</td>\n",
              "      <td>2.0</td>\n",
              "      <td>26.192069</td>\n",
              "      <td>90.0</td>\n",
              "    </tr>\n",
              "    <tr>\n",
              "      <th>12348.0</th>\n",
              "      <td>2.0</td>\n",
              "      <td>110.0</td>\n",
              "      <td>268.0</td>\n",
              "      <td>297.2200</td>\n",
              "      <td>1.0</td>\n",
              "      <td>103.333333</td>\n",
              "      <td>90.0</td>\n",
              "    </tr>\n",
              "    <tr>\n",
              "      <th>12350.0</th>\n",
              "      <td>0.0</td>\n",
              "      <td>0.0</td>\n",
              "      <td>220.0</td>\n",
              "      <td>0.0000</td>\n",
              "      <td>0.0</td>\n",
              "      <td>0.000000</td>\n",
              "      <td>90.0</td>\n",
              "    </tr>\n",
              "    <tr>\n",
              "      <th>12352.0</th>\n",
              "      <td>3.0</td>\n",
              "      <td>34.0</td>\n",
              "      <td>206.0</td>\n",
              "      <td>421.7700</td>\n",
              "      <td>3.0</td>\n",
              "      <td>20.090000</td>\n",
              "      <td>90.0</td>\n",
              "    </tr>\n",
              "    <tr>\n",
              "      <th>12353.0</th>\n",
              "      <td>0.0</td>\n",
              "      <td>0.0</td>\n",
              "      <td>114.0</td>\n",
              "      <td>0.0000</td>\n",
              "      <td>0.0</td>\n",
              "      <td>0.000000</td>\n",
              "      <td>90.0</td>\n",
              "    </tr>\n",
              "    <tr>\n",
              "      <th>12354.0</th>\n",
              "      <td>0.0</td>\n",
              "      <td>0.0</td>\n",
              "      <td>142.0</td>\n",
              "      <td>0.0000</td>\n",
              "      <td>0.0</td>\n",
              "      <td>0.000000</td>\n",
              "      <td>90.0</td>\n",
              "    </tr>\n",
              "    <tr>\n",
              "      <th>12355.0</th>\n",
              "      <td>0.0</td>\n",
              "      <td>0.0</td>\n",
              "      <td>124.0</td>\n",
              "      <td>0.0000</td>\n",
              "      <td>0.0</td>\n",
              "      <td>0.000000</td>\n",
              "      <td>90.0</td>\n",
              "    </tr>\n",
              "    <tr>\n",
              "      <th>12356.0</th>\n",
              "      <td>1.0</td>\n",
              "      <td>80.0</td>\n",
              "      <td>235.0</td>\n",
              "      <td>481.4600</td>\n",
              "      <td>1.0</td>\n",
              "      <td>29.175000</td>\n",
              "      <td>90.0</td>\n",
              "    </tr>\n",
              "    <tr>\n",
              "      <th>12358.0</th>\n",
              "      <td>0.0</td>\n",
              "      <td>0.0</td>\n",
              "      <td>60.0</td>\n",
              "      <td>0.0000</td>\n",
              "      <td>1.0</td>\n",
              "      <td>97.600000</td>\n",
              "      <td>90.0</td>\n",
              "    </tr>\n",
              "    <tr>\n",
              "      <th>12359.0</th>\n",
              "      <td>2.0</td>\n",
              "      <td>142.0</td>\n",
              "      <td>241.0</td>\n",
              "      <td>1474.1150</td>\n",
              "      <td>1.0</td>\n",
              "      <td>27.398571</td>\n",
              "      <td>90.0</td>\n",
              "    </tr>\n",
              "    <tr>\n",
              "      <th>12360.0</th>\n",
              "      <td>1.0</td>\n",
              "      <td>88.0</td>\n",
              "      <td>110.0</td>\n",
              "      <td>534.7000</td>\n",
              "      <td>1.0</td>\n",
              "      <td>19.329259</td>\n",
              "      <td>90.0</td>\n",
              "    </tr>\n",
              "    <tr>\n",
              "      <th>12361.0</th>\n",
              "      <td>0.0</td>\n",
              "      <td>0.0</td>\n",
              "      <td>197.0</td>\n",
              "      <td>0.0000</td>\n",
              "      <td>0.0</td>\n",
              "      <td>0.000000</td>\n",
              "      <td>90.0</td>\n",
              "    </tr>\n",
              "    <tr>\n",
              "      <th>12362.0</th>\n",
              "      <td>3.0</td>\n",
              "      <td>175.0</td>\n",
              "      <td>205.0</td>\n",
              "      <td>422.7500</td>\n",
              "      <td>6.0</td>\n",
              "      <td>21.607950</td>\n",
              "      <td>90.0</td>\n",
              "    </tr>\n",
              "    <tr>\n",
              "      <th>12363.0</th>\n",
              "      <td>1.0</td>\n",
              "      <td>133.0</td>\n",
              "      <td>152.0</td>\n",
              "      <td>252.9000</td>\n",
              "      <td>0.0</td>\n",
              "      <td>0.000000</td>\n",
              "      <td>90.0</td>\n",
              "    </tr>\n",
              "    <tr>\n",
              "      <th>12364.0</th>\n",
              "      <td>0.0</td>\n",
              "      <td>0.0</td>\n",
              "      <td>22.0</td>\n",
              "      <td>0.0000</td>\n",
              "      <td>3.0</td>\n",
              "      <td>13.513333</td>\n",
              "      <td>90.0</td>\n",
              "    </tr>\n",
              "    <tr>\n",
              "      <th>12365.0</th>\n",
              "      <td>0.0</td>\n",
              "      <td>0.0</td>\n",
              "      <td>201.0</td>\n",
              "      <td>0.0000</td>\n",
              "      <td>0.0</td>\n",
              "      <td>0.000000</td>\n",
              "      <td>90.0</td>\n",
              "    </tr>\n",
              "    <tr>\n",
              "      <th>12370.0</th>\n",
              "      <td>2.0</td>\n",
              "      <td>86.0</td>\n",
              "      <td>270.0</td>\n",
              "      <td>607.7950</td>\n",
              "      <td>1.0</td>\n",
              "      <td>26.402857</td>\n",
              "      <td>90.0</td>\n",
              "    </tr>\n",
              "    <tr>\n",
              "      <th>12372.0</th>\n",
              "      <td>1.0</td>\n",
              "      <td>84.0</td>\n",
              "      <td>206.0</td>\n",
              "      <td>515.7000</td>\n",
              "      <td>1.0</td>\n",
              "      <td>29.470769</td>\n",
              "      <td>90.0</td>\n",
              "    </tr>\n",
              "    <tr>\n",
              "      <th>12373.0</th>\n",
              "      <td>0.0</td>\n",
              "      <td>0.0</td>\n",
              "      <td>221.0</td>\n",
              "      <td>0.0000</td>\n",
              "      <td>0.0</td>\n",
              "      <td>0.000000</td>\n",
              "      <td>90.0</td>\n",
              "    </tr>\n",
              "  </tbody>\n",
              "</table>\n",
              "</div>"
            ],
            "text/plain": [
              "            frequency_cal  ...  duration_holdout\n",
              "CustomerID                 ...                  \n",
              "12346.0               0.0  ...              90.0\n",
              "12347.0               4.0  ...              90.0\n",
              "12348.0               2.0  ...              90.0\n",
              "12350.0               0.0  ...              90.0\n",
              "12352.0               3.0  ...              90.0\n",
              "12353.0               0.0  ...              90.0\n",
              "12354.0               0.0  ...              90.0\n",
              "12355.0               0.0  ...              90.0\n",
              "12356.0               1.0  ...              90.0\n",
              "12358.0               0.0  ...              90.0\n",
              "12359.0               2.0  ...              90.0\n",
              "12360.0               1.0  ...              90.0\n",
              "12361.0               0.0  ...              90.0\n",
              "12362.0               3.0  ...              90.0\n",
              "12363.0               1.0  ...              90.0\n",
              "12364.0               0.0  ...              90.0\n",
              "12365.0               0.0  ...              90.0\n",
              "12370.0               2.0  ...              90.0\n",
              "12372.0               1.0  ...              90.0\n",
              "12373.0               0.0  ...              90.0\n",
              "\n",
              "[20 rows x 7 columns]"
            ]
          },
          "metadata": {
            "tags": []
          },
          "execution_count": 39
        }
      ]
    },
    {
      "cell_type": "code",
      "metadata": {
        "id": "cgj5TFxs1L35",
        "outputId": "69bec4c6-be0f-4e40-b5ee-a13efb6905ae",
        "colab": {
          "base_uri": "https://localhost:8080/",
          "height": 313
        }
      },
      "source": [
        "bgf1 = BetaGeoFitter(penalizer_coef = 0.05)\n",
        "bgf1.fit(data2['frequency_cal'], data2['recency_cal'], data2['T_cal'])\n",
        "plot_calibration_purchases_vs_holdout_purchases(bgf1, data2)\n",
        "#ax.set_xlabel('Purchases/ Number of Transactions')\n"
      ],
      "execution_count": 48,
      "outputs": [
        {
          "output_type": "execute_result",
          "data": {
            "text/plain": [
              "<matplotlib.axes._subplots.AxesSubplot at 0x7f1f94e17240>"
            ]
          },
          "metadata": {
            "tags": []
          },
          "execution_count": 48
        },
        {
          "output_type": "display_data",
          "data": {
            "image/png": "[encoded data removed]",
            "text/plain": [
              "<Figure size 432x288 with 1 Axes>"
            ]
          },
          "metadata": {
            "tags": [],
            "needs_background": "light"
          }
        }
      ]
    },
    {
      "cell_type": "code",
      "metadata": {
        "id": "WBxYLAzFKSgj",
        "outputId": "1c514a3a-76a2-48ad-d325-016b8fc98a0d",
        "colab": {
          "base_uri": "https://localhost:8080/",
          "height": 183
        }
      },
      "source": [
        "from sklearn.metrics import confusion_matrix\n",
        "confusion_matrix(frequency_holdout, model_predictions)"
      ],
      "execution_count": 50,
      "outputs": [
        {
          "output_type": "error",
          "ename": "NameError",
          "evalue": "ignored",
          "traceback": [
            "\u001b[0;31m---------------------------------------------------------------------------\u001b[0m",
            "\u001b[0;31mNameError\u001b[0m                                 Traceback (most recent call last)",
            "\u001b[0;32m<ipython-input-50-6c039eed7949>\u001b[0m in \u001b[0;36m<module>\u001b[0;34m()\u001b[0m\n\u001b[1;32m      1\u001b[0m \u001b[0;32mfrom\u001b[0m \u001b[0msklearn\u001b[0m\u001b[0;34m.\u001b[0m\u001b[0mmetrics\u001b[0m \u001b[0;32mimport\u001b[0m \u001b[0mconfusion_matrix\u001b[0m\u001b[0;34m\u001b[0m\u001b[0;34m\u001b[0m\u001b[0m\n\u001b[0;32m----> 2\u001b[0;31m \u001b[0mconfusion_matrix\u001b[0m\u001b[0;34m(\u001b[0m\u001b[0mfrequency_holdout\u001b[0m\u001b[0;34m,\u001b[0m \u001b[0mmodel_predictions\u001b[0m\u001b[0;34m)\u001b[0m\u001b[0;34m\u001b[0m\u001b[0;34m\u001b[0m\u001b[0m\n\u001b[0m",
            "\u001b[0;31mNameError\u001b[0m: name 'frequency_holdout' is not defined"
          ]
        }
      ]
    },
    {
      "cell_type": "code",
      "metadata": {
        "id": "O1DY2pzGKS3g"
      },
      "source": [
        ""
      ],
      "execution_count": null,
      "outputs": []
    },
    {
      "cell_type": "code",
      "metadata": {
        "id": "VzLE_7WCKSWU"
      },
      "source": [
        ""
      ],
      "execution_count": null,
      "outputs": []
    },
    {
      "cell_type": "markdown",
      "metadata": {
        "id": "DxNOGjNWFIHJ"
      },
      "source": [
        "**CLV CALCULATIONS**"
      ]
    },
    {
      "cell_type": "code",
      "metadata": {
        "id": "rs4qAnc_qaC7",
        "outputId": "585c6729-7552-4aa3-fd0b-308d14bb133b",
        "colab": {
          "base_uri": "https://localhost:8080/"
        }
      },
      "source": [
        "returning_customers_summary = data[data['frequency']>0]\n",
        "print(returning_customers_summary.head())\n",
        "print(len(returning_customers_summary))"
      ],
      "execution_count": 69,
      "outputs": [
        {
          "output_type": "stream",
          "text": [
            "            frequency  recency      T  monetary_value\n",
            "CustomerID                                           \n",
            "12347.0           6.0    365.0  368.0      599.701667\n",
            "12348.0           3.0    283.0  359.0      301.480000\n",
            "12352.0           6.0    260.0  297.0      368.256667\n",
            "12356.0           2.0    303.0  326.0      269.905000\n",
            "12358.0           1.0    149.0  151.0      683.200000\n",
            "2790\n"
          ],
          "name": "stdout"
        }
      ]
    },
    {
      "cell_type": "code",
      "metadata": {
        "id": "cQTyBNs4lb87",
        "outputId": "b9e75b24-8180-4bb8-da88-8dc01c46c0dc",
        "colab": {
          "base_uri": "https://localhost:8080/"
        }
      },
      "source": [
        "from lifetimes import GammaGammaFitter\n",
        "ggf = GammaGammaFitter(penalizer_coef = 0)\n",
        "ggf.fit(returning_customers_summary['frequency'],\n",
        "        returning_customers_summary['monetary_value'])\n",
        "print(ggf)"
      ],
      "execution_count": 70,
      "outputs": [
        {
          "output_type": "stream",
          "text": [
            "<lifetimes.GammaGammaFitter: fitted with 2790 subjects, p: 2.10, q: 3.45, v: 485.57>\n"
          ],
          "name": "stdout"
        }
      ]
    },
    {
      "cell_type": "code",
      "metadata": {
        "id": "G3Fv89qIleXZ",
        "outputId": "4d278688-f936-47a3-c88d-df0babff6a54",
        "colab": {
          "base_uri": "https://localhost:8080/"
        }
      },
      "source": [
        "#After applying Gamma-Gamma model, now we can estimate average transaction value for each customer. \n",
        "\n",
        "print(ggf.conditional_expected_average_profit(\n",
        "        returning_customers_summary['frequency'],\n",
        "        returning_customers_summary['monetary_value']\n",
        "    ).head(10))"
      ],
      "execution_count": 71,
      "outputs": [
        {
          "output_type": "stream",
          "text": [
            "CustomerID\n",
            "12347.0     569.988807\n",
            "12348.0     333.762672\n",
            "12352.0     376.166864\n",
            "12356.0     324.008941\n",
            "12358.0     539.930643\n",
            "12359.0    1515.282839\n",
            "12360.0     652.217077\n",
            "12362.0     514.793066\n",
            "12363.0     341.147333\n",
            "12364.0     282.075487\n",
            "dtype: float64\n"
          ],
          "name": "stdout"
        }
      ]
    },
    {
      "cell_type": "code",
      "metadata": {
        "id": "jZZHxBc62N8D",
        "outputId": "ba019ab5-25af-4cc7-c5db-5c7d18772b5c",
        "colab": {
          "base_uri": "https://localhost:8080/",
          "height": 233
        }
      },
      "source": [
        "#Calculate Customer Lifetime Value\n",
        "returning_customers_summary['CLV'] = round(ggf.customer_lifetime_value(\n",
        "    bgf, returning_customers_summary['frequency'],returning_customers_summary['recency'],\n",
        "    returning_customers_summary['T'], returning_customers_summary['monetary_value'],\n",
        "    time=12, discount_rate=0.01 ), 2)\n",
        "\n",
        "returning_customers_summary.head()\n",
        "\n"
      ],
      "execution_count": 72,
      "outputs": [
        {
          "output_type": "execute_result",
          "data": {
            "text/html": [
              "<div>\n",
              "<style scoped>\n",
              "    .dataframe tbody tr th:only-of-type {\n",
              "        vertical-align: middle;\n",
              "    }\n",
              "\n",
              "    .dataframe tbody tr th {\n",
              "        vertical-align: top;\n",
              "    }\n",
              "\n",
              "    .dataframe thead th {\n",
              "        text-align: right;\n",
              "    }\n",
              "</style>\n",
              "<table border=\"1\" class=\"dataframe\">\n",
              "  <thead>\n",
              "    <tr style=\"text-align: right;\">\n",
              "      <th></th>\n",
              "      <th>frequency</th>\n",
              "      <th>recency</th>\n",
              "      <th>T</th>\n",
              "      <th>monetary_value</th>\n",
              "      <th>CLV</th>\n",
              "    </tr>\n",
              "    <tr>\n",
              "      <th>CustomerID</th>\n",
              "      <th></th>\n",
              "      <th></th>\n",
              "      <th></th>\n",
              "      <th></th>\n",
              "      <th></th>\n",
              "    </tr>\n",
              "  </thead>\n",
              "  <tbody>\n",
              "    <tr>\n",
              "      <th>12347.0</th>\n",
              "      <td>6.0</td>\n",
              "      <td>365.0</td>\n",
              "      <td>368.0</td>\n",
              "      <td>599.701667</td>\n",
              "      <td>3000.94</td>\n",
              "    </tr>\n",
              "    <tr>\n",
              "      <th>12348.0</th>\n",
              "      <td>3.0</td>\n",
              "      <td>283.0</td>\n",
              "      <td>359.0</td>\n",
              "      <td>301.480000</td>\n",
              "      <td>1005.11</td>\n",
              "    </tr>\n",
              "    <tr>\n",
              "      <th>12352.0</th>\n",
              "      <td>6.0</td>\n",
              "      <td>260.0</td>\n",
              "      <td>297.0</td>\n",
              "      <td>368.256667</td>\n",
              "      <td>2363.31</td>\n",
              "    </tr>\n",
              "    <tr>\n",
              "      <th>12356.0</th>\n",
              "      <td>2.0</td>\n",
              "      <td>303.0</td>\n",
              "      <td>326.0</td>\n",
              "      <td>269.905000</td>\n",
              "      <td>781.15</td>\n",
              "    </tr>\n",
              "    <tr>\n",
              "      <th>12358.0</th>\n",
              "      <td>1.0</td>\n",
              "      <td>149.0</td>\n",
              "      <td>151.0</td>\n",
              "      <td>683.200000</td>\n",
              "      <td>1508.94</td>\n",
              "    </tr>\n",
              "  </tbody>\n",
              "</table>\n",
              "</div>"
            ],
            "text/plain": [
              "            frequency  recency      T  monetary_value      CLV\n",
              "CustomerID                                                    \n",
              "12347.0           6.0    365.0  368.0      599.701667  3000.94\n",
              "12348.0           3.0    283.0  359.0      301.480000  1005.11\n",
              "12352.0           6.0    260.0  297.0      368.256667  2363.31\n",
              "12356.0           2.0    303.0  326.0      269.905000   781.15\n",
              "12358.0           1.0    149.0  151.0      683.200000  1508.94"
            ]
          },
          "metadata": {
            "tags": []
          },
          "execution_count": 72
        }
      ]
    },
    {
      "cell_type": "code",
      "metadata": {
        "id": "rIHg8D9329tW"
      },
      "source": [
        "#returning_customers_summary.drop( returning_customers_summary.iloc[:, 0:6], inplace=True, axis=1 )\n",
        "\n",
        "#returning_customers_summary.sort_values(by='CLV', ascending=False).head(10).reset_index()"
      ],
      "execution_count": null,
      "outputs": []
    },
    {
      "cell_type": "code",
      "metadata": {
        "id": "xSe0fPA9FYQC",
        "outputId": "4abf5659-ade2-4227-e2d9-dacd92fbd1eb",
        "colab": {
          "base_uri": "https://localhost:8080/",
          "height": 386
        }
      },
      "source": [
        "returning_customers_summary = returning_customers_summary.reindex(columns= ['CustomerID','frequency','recency','T','monetary_value','CLV'])\n",
        "\n",
        "returning_customers_summary['CustomerID'] = returning_customers_summary.index\n",
        "\n",
        "returning_customers_summary.head(10)\n"
      ],
      "execution_count": 73,
      "outputs": [
        {
          "output_type": "execute_result",
          "data": {
            "text/html": [
              "<div>\n",
              "<style scoped>\n",
              "    .dataframe tbody tr th:only-of-type {\n",
              "        vertical-align: middle;\n",
              "    }\n",
              "\n",
              "    .dataframe tbody tr th {\n",
              "        vertical-align: top;\n",
              "    }\n",
              "\n",
              "    .dataframe thead th {\n",
              "        text-align: right;\n",
              "    }\n",
              "</style>\n",
              "<table border=\"1\" class=\"dataframe\">\n",
              "  <thead>\n",
              "    <tr style=\"text-align: right;\">\n",
              "      <th></th>\n",
              "      <th>CustomerID</th>\n",
              "      <th>frequency</th>\n",
              "      <th>recency</th>\n",
              "      <th>T</th>\n",
              "      <th>monetary_value</th>\n",
              "      <th>CLV</th>\n",
              "    </tr>\n",
              "    <tr>\n",
              "      <th>CustomerID</th>\n",
              "      <th></th>\n",
              "      <th></th>\n",
              "      <th></th>\n",
              "      <th></th>\n",
              "      <th></th>\n",
              "      <th></th>\n",
              "    </tr>\n",
              "  </thead>\n",
              "  <tbody>\n",
              "    <tr>\n",
              "      <th>12347.0</th>\n",
              "      <td>12347.0</td>\n",
              "      <td>6.0</td>\n",
              "      <td>365.0</td>\n",
              "      <td>368.0</td>\n",
              "      <td>599.701667</td>\n",
              "      <td>3000.94</td>\n",
              "    </tr>\n",
              "    <tr>\n",
              "      <th>12348.0</th>\n",
              "      <td>12348.0</td>\n",
              "      <td>3.0</td>\n",
              "      <td>283.0</td>\n",
              "      <td>359.0</td>\n",
              "      <td>301.480000</td>\n",
              "      <td>1005.11</td>\n",
              "    </tr>\n",
              "    <tr>\n",
              "      <th>12352.0</th>\n",
              "      <td>12352.0</td>\n",
              "      <td>6.0</td>\n",
              "      <td>260.0</td>\n",
              "      <td>297.0</td>\n",
              "      <td>368.256667</td>\n",
              "      <td>2363.31</td>\n",
              "    </tr>\n",
              "    <tr>\n",
              "      <th>12356.0</th>\n",
              "      <td>12356.0</td>\n",
              "      <td>2.0</td>\n",
              "      <td>303.0</td>\n",
              "      <td>326.0</td>\n",
              "      <td>269.905000</td>\n",
              "      <td>781.15</td>\n",
              "    </tr>\n",
              "    <tr>\n",
              "      <th>12358.0</th>\n",
              "      <td>12358.0</td>\n",
              "      <td>1.0</td>\n",
              "      <td>149.0</td>\n",
              "      <td>151.0</td>\n",
              "      <td>683.200000</td>\n",
              "      <td>1508.94</td>\n",
              "    </tr>\n",
              "    <tr>\n",
              "      <th>12359.0</th>\n",
              "      <td>12359.0</td>\n",
              "      <td>3.0</td>\n",
              "      <td>274.0</td>\n",
              "      <td>332.0</td>\n",
              "      <td>1941.693333</td>\n",
              "      <td>4870.73</td>\n",
              "    </tr>\n",
              "    <tr>\n",
              "      <th>12360.0</th>\n",
              "      <td>12360.0</td>\n",
              "      <td>2.0</td>\n",
              "      <td>148.0</td>\n",
              "      <td>201.0</td>\n",
              "      <td>789.240000</td>\n",
              "      <td>2298.41</td>\n",
              "    </tr>\n",
              "    <tr>\n",
              "      <th>12362.0</th>\n",
              "      <td>12362.0</td>\n",
              "      <td>9.0</td>\n",
              "      <td>292.0</td>\n",
              "      <td>296.0</td>\n",
              "      <td>527.458889</td>\n",
              "      <td>4669.90</td>\n",
              "    </tr>\n",
              "    <tr>\n",
              "      <th>12363.0</th>\n",
              "      <td>12363.0</td>\n",
              "      <td>1.0</td>\n",
              "      <td>133.0</td>\n",
              "      <td>243.0</td>\n",
              "      <td>252.900000</td>\n",
              "      <td>672.16</td>\n",
              "    </tr>\n",
              "    <tr>\n",
              "      <th>12364.0</th>\n",
              "      <td>12364.0</td>\n",
              "      <td>3.0</td>\n",
              "      <td>105.0</td>\n",
              "      <td>113.0</td>\n",
              "      <td>229.726667</td>\n",
              "      <td>1995.60</td>\n",
              "    </tr>\n",
              "  </tbody>\n",
              "</table>\n",
              "</div>"
            ],
            "text/plain": [
              "            CustomerID  frequency  recency      T  monetary_value      CLV\n",
              "CustomerID                                                                \n",
              "12347.0        12347.0        6.0    365.0  368.0      599.701667  3000.94\n",
              "12348.0        12348.0        3.0    283.0  359.0      301.480000  1005.11\n",
              "12352.0        12352.0        6.0    260.0  297.0      368.256667  2363.31\n",
              "12356.0        12356.0        2.0    303.0  326.0      269.905000   781.15\n",
              "12358.0        12358.0        1.0    149.0  151.0      683.200000  1508.94\n",
              "12359.0        12359.0        3.0    274.0  332.0     1941.693333  4870.73\n",
              "12360.0        12360.0        2.0    148.0  201.0      789.240000  2298.41\n",
              "12362.0        12362.0        9.0    292.0  296.0      527.458889  4669.90\n",
              "12363.0        12363.0        1.0    133.0  243.0      252.900000   672.16\n",
              "12364.0        12364.0        3.0    105.0  113.0      229.726667  1995.60"
            ]
          },
          "metadata": {
            "tags": []
          },
          "execution_count": 73
        }
      ]
    },
    {
      "cell_type": "code",
      "metadata": {
        "id": "rUPxgTrKOHzF",
        "outputId": "5317a7af-c6db-4861-f847-f25094fb05cc",
        "colab": {
          "base_uri": "https://localhost:8080/",
          "height": 202
        }
      },
      "source": [
        "returning_customers_summary.reset_index(drop=True, inplace=True)\n",
        "returning_customers_summary.head()"
      ],
      "execution_count": 74,
      "outputs": [
        {
          "output_type": "execute_result",
          "data": {
            "text/html": [
              "<div>\n",
              "<style scoped>\n",
              "    .dataframe tbody tr th:only-of-type {\n",
              "        vertical-align: middle;\n",
              "    }\n",
              "\n",
              "    .dataframe tbody tr th {\n",
              "        vertical-align: top;\n",
              "    }\n",
              "\n",
              "    .dataframe thead th {\n",
              "        text-align: right;\n",
              "    }\n",
              "</style>\n",
              "<table border=\"1\" class=\"dataframe\">\n",
              "  <thead>\n",
              "    <tr style=\"text-align: right;\">\n",
              "      <th></th>\n",
              "      <th>CustomerID</th>\n",
              "      <th>frequency</th>\n",
              "      <th>recency</th>\n",
              "      <th>T</th>\n",
              "      <th>monetary_value</th>\n",
              "      <th>CLV</th>\n",
              "    </tr>\n",
              "  </thead>\n",
              "  <tbody>\n",
              "    <tr>\n",
              "      <th>0</th>\n",
              "      <td>12347.0</td>\n",
              "      <td>6.0</td>\n",
              "      <td>365.0</td>\n",
              "      <td>368.0</td>\n",
              "      <td>599.701667</td>\n",
              "      <td>3000.94</td>\n",
              "    </tr>\n",
              "    <tr>\n",
              "      <th>1</th>\n",
              "      <td>12348.0</td>\n",
              "      <td>3.0</td>\n",
              "      <td>283.0</td>\n",
              "      <td>359.0</td>\n",
              "      <td>301.480000</td>\n",
              "      <td>1005.11</td>\n",
              "    </tr>\n",
              "    <tr>\n",
              "      <th>2</th>\n",
              "      <td>12352.0</td>\n",
              "      <td>6.0</td>\n",
              "      <td>260.0</td>\n",
              "      <td>297.0</td>\n",
              "      <td>368.256667</td>\n",
              "      <td>2363.31</td>\n",
              "    </tr>\n",
              "    <tr>\n",
              "      <th>3</th>\n",
              "      <td>12356.0</td>\n",
              "      <td>2.0</td>\n",
              "      <td>303.0</td>\n",
              "      <td>326.0</td>\n",
              "      <td>269.905000</td>\n",
              "      <td>781.15</td>\n",
              "    </tr>\n",
              "    <tr>\n",
              "      <th>4</th>\n",
              "      <td>12358.0</td>\n",
              "      <td>1.0</td>\n",
              "      <td>149.0</td>\n",
              "      <td>151.0</td>\n",
              "      <td>683.200000</td>\n",
              "      <td>1508.94</td>\n",
              "    </tr>\n",
              "  </tbody>\n",
              "</table>\n",
              "</div>"
            ],
            "text/plain": [
              "   CustomerID  frequency  recency      T  monetary_value      CLV\n",
              "0     12347.0        6.0    365.0  368.0      599.701667  3000.94\n",
              "1     12348.0        3.0    283.0  359.0      301.480000  1005.11\n",
              "2     12352.0        6.0    260.0  297.0      368.256667  2363.31\n",
              "3     12356.0        2.0    303.0  326.0      269.905000   781.15\n",
              "4     12358.0        1.0    149.0  151.0      683.200000  1508.94"
            ]
          },
          "metadata": {
            "tags": []
          },
          "execution_count": 74
        }
      ]
    },
    {
      "cell_type": "code",
      "metadata": {
        "id": "CXneCRO6EK5H",
        "outputId": "a960189f-0ee3-4193-f68f-ba2321346c45",
        "colab": {
          "base_uri": "https://localhost:8080/",
          "height": 265
        }
      },
      "source": [
        "plt.plot( returning_customers_summary['CustomerID'] , returning_customers_summary['CLV'] ) \n",
        "\n",
        "plt.show()\n"
      ],
      "execution_count": 75,
      "outputs": [
        {
          "output_type": "display_data",
          "data": {
            "image/png": "[encoded data removed]",
            "text/plain": [
              "<Figure size 432x288 with 1 Axes>"
            ]
          },
          "metadata": {
            "tags": [],
            "needs_background": "light"
          }
        }
      ]
    },
    {
      "cell_type": "code",
      "metadata": {
        "id": "6BqAHb4oD0qD",
        "outputId": "62be69d0-0b02-485d-d1a6-54dd5af4cf70",
        "colab": {
          "base_uri": "https://localhost:8080/",
          "height": 202
        }
      },
      "source": [
        "sorted_returning_customers_summary = returning_customers_summary.sort_values(by='CLV', ascending=False )\n",
        "\n",
        "sorted_returning_customers_summary.head()"
      ],
      "execution_count": 76,
      "outputs": [
        {
          "output_type": "execute_result",
          "data": {
            "text/html": [
              "<div>\n",
              "<style scoped>\n",
              "    .dataframe tbody tr th:only-of-type {\n",
              "        vertical-align: middle;\n",
              "    }\n",
              "\n",
              "    .dataframe tbody tr th {\n",
              "        vertical-align: top;\n",
              "    }\n",
              "\n",
              "    .dataframe thead th {\n",
              "        text-align: right;\n",
              "    }\n",
              "</style>\n",
              "<table border=\"1\" class=\"dataframe\">\n",
              "  <thead>\n",
              "    <tr style=\"text-align: right;\">\n",
              "      <th></th>\n",
              "      <th>CustomerID</th>\n",
              "      <th>frequency</th>\n",
              "      <th>recency</th>\n",
              "      <th>T</th>\n",
              "      <th>monetary_value</th>\n",
              "      <th>CLV</th>\n",
              "    </tr>\n",
              "  </thead>\n",
              "  <tbody>\n",
              "    <tr>\n",
              "      <th>1111</th>\n",
              "      <td>14646.0</td>\n",
              "      <td>44.0</td>\n",
              "      <td>353.0</td>\n",
              "      <td>355.0</td>\n",
              "      <td>6366.705909</td>\n",
              "      <td>221392.88</td>\n",
              "    </tr>\n",
              "    <tr>\n",
              "      <th>2706</th>\n",
              "      <td>18102.0</td>\n",
              "      <td>25.0</td>\n",
              "      <td>367.0</td>\n",
              "      <td>368.0</td>\n",
              "      <td>9349.477200</td>\n",
              "      <td>178317.87</td>\n",
              "    </tr>\n",
              "    <tr>\n",
              "      <th>1938</th>\n",
              "      <td>16446.0</td>\n",
              "      <td>1.0</td>\n",
              "      <td>205.0</td>\n",
              "      <td>206.0</td>\n",
              "      <td>168469.600000</td>\n",
              "      <td>174568.39</td>\n",
              "    </tr>\n",
              "    <tr>\n",
              "      <th>2413</th>\n",
              "      <td>17450.0</td>\n",
              "      <td>26.0</td>\n",
              "      <td>359.0</td>\n",
              "      <td>368.0</td>\n",
              "      <td>7404.690385</td>\n",
              "      <td>146998.54</td>\n",
              "    </tr>\n",
              "    <tr>\n",
              "      <th>834</th>\n",
              "      <td>14096.0</td>\n",
              "      <td>16.0</td>\n",
              "      <td>97.0</td>\n",
              "      <td>102.0</td>\n",
              "      <td>4071.434375</td>\n",
              "      <td>126552.90</td>\n",
              "    </tr>\n",
              "  </tbody>\n",
              "</table>\n",
              "</div>"
            ],
            "text/plain": [
              "      CustomerID  frequency  recency      T  monetary_value        CLV\n",
              "1111     14646.0       44.0    353.0  355.0     6366.705909  221392.88\n",
              "2706     18102.0       25.0    367.0  368.0     9349.477200  178317.87\n",
              "1938     16446.0        1.0    205.0  206.0   168469.600000  174568.39\n",
              "2413     17450.0       26.0    359.0  368.0     7404.690385  146998.54\n",
              "834      14096.0       16.0     97.0  102.0     4071.434375  126552.90"
            ]
          },
          "metadata": {
            "tags": []
          },
          "execution_count": 76
        }
      ]
    },
    {
      "cell_type": "code",
      "metadata": {
        "id": "7-tyc7jL_WkR",
        "outputId": "d350cbb0-a880-4f72-8fd4-04833a9146d7",
        "colab": {
          "base_uri": "https://localhost:8080/",
          "height": 265
        }
      },
      "source": [
        "plt.plot( sorted_returning_customers_summary['CustomerID'] , sorted_returning_customers_summary['CLV'] ) \n",
        "\n",
        "plt.show()\n"
      ],
      "execution_count": 88,
      "outputs": [
        {
          "output_type": "display_data",
          "data": {
            "image/png": "[encoded data removed]",
            "text/plain": [
              "<Figure size 432x288 with 1 Axes>"
            ]
          },
          "metadata": {
            "tags": [],
            "needs_background": "light"
          }
        }
      ]
    },
    {
      "cell_type": "code",
      "metadata": {
        "id": "30T1ECjQ5Oyq",
        "outputId": "0fb0ea6f-2236-4256-931f-6709ff34bbb1",
        "colab": {
          "base_uri": "https://localhost:8080/"
        }
      },
      "source": [
        "Unique_Customers = len( sorted_returning_customers_summary )\n",
        "Unique_Customers"
      ],
      "execution_count": 79,
      "outputs": [
        {
          "output_type": "execute_result",
          "data": {
            "text/plain": [
              "2790"
            ]
          },
          "metadata": {
            "tags": []
          },
          "execution_count": 79
        }
      ]
    },
    {
      "cell_type": "code",
      "metadata": {
        "id": "hpbYFcdNAnGm",
        "outputId": "b76ce645-af56-40c8-d1f8-ee7826705016",
        "colab": {
          "base_uri": "https://localhost:8080/",
          "height": 415
        }
      },
      "source": [
        "sorted_returning_customers_summary['rank'] = [ i for i in range(1,Unique_Customers+1)  ]\n",
        "\n",
        "sorted_returning_customers_summary\n"
      ],
      "execution_count": 90,
      "outputs": [
        {
          "output_type": "execute_result",
          "data": {
            "text/html": [
              "<div>\n",
              "<style scoped>\n",
              "    .dataframe tbody tr th:only-of-type {\n",
              "        vertical-align: middle;\n",
              "    }\n",
              "\n",
              "    .dataframe tbody tr th {\n",
              "        vertical-align: top;\n",
              "    }\n",
              "\n",
              "    .dataframe thead th {\n",
              "        text-align: right;\n",
              "    }\n",
              "</style>\n",
              "<table border=\"1\" class=\"dataframe\">\n",
              "  <thead>\n",
              "    <tr style=\"text-align: right;\">\n",
              "      <th></th>\n",
              "      <th>CustomerID</th>\n",
              "      <th>frequency</th>\n",
              "      <th>recency</th>\n",
              "      <th>T</th>\n",
              "      <th>monetary_value</th>\n",
              "      <th>CLV</th>\n",
              "      <th>rank</th>\n",
              "    </tr>\n",
              "  </thead>\n",
              "  <tbody>\n",
              "    <tr>\n",
              "      <th>1111</th>\n",
              "      <td>14646.0</td>\n",
              "      <td>44.0</td>\n",
              "      <td>353.0</td>\n",
              "      <td>355.0</td>\n",
              "      <td>6366.705909</td>\n",
              "      <td>221392.88</td>\n",
              "      <td>1</td>\n",
              "    </tr>\n",
              "    <tr>\n",
              "      <th>2706</th>\n",
              "      <td>18102.0</td>\n",
              "      <td>25.0</td>\n",
              "      <td>367.0</td>\n",
              "      <td>368.0</td>\n",
              "      <td>9349.477200</td>\n",
              "      <td>178317.87</td>\n",
              "      <td>2</td>\n",
              "    </tr>\n",
              "    <tr>\n",
              "      <th>1938</th>\n",
              "      <td>16446.0</td>\n",
              "      <td>1.0</td>\n",
              "      <td>205.0</td>\n",
              "      <td>206.0</td>\n",
              "      <td>168469.600000</td>\n",
              "      <td>174568.39</td>\n",
              "      <td>3</td>\n",
              "    </tr>\n",
              "    <tr>\n",
              "      <th>2413</th>\n",
              "      <td>17450.0</td>\n",
              "      <td>26.0</td>\n",
              "      <td>359.0</td>\n",
              "      <td>368.0</td>\n",
              "      <td>7404.690385</td>\n",
              "      <td>146998.54</td>\n",
              "      <td>4</td>\n",
              "    </tr>\n",
              "    <tr>\n",
              "      <th>834</th>\n",
              "      <td>14096.0</td>\n",
              "      <td>16.0</td>\n",
              "      <td>97.0</td>\n",
              "      <td>102.0</td>\n",
              "      <td>4071.434375</td>\n",
              "      <td>126552.90</td>\n",
              "      <td>5</td>\n",
              "    </tr>\n",
              "    <tr>\n",
              "      <th>...</th>\n",
              "      <td>...</td>\n",
              "      <td>...</td>\n",
              "      <td>...</td>\n",
              "      <td>...</td>\n",
              "      <td>...</td>\n",
              "      <td>...</td>\n",
              "      <td>...</td>\n",
              "    </tr>\n",
              "    <tr>\n",
              "      <th>809</th>\n",
              "      <td>14037.0</td>\n",
              "      <td>1.0</td>\n",
              "      <td>188.0</td>\n",
              "      <td>365.0</td>\n",
              "      <td>35.400000</td>\n",
              "      <td>340.94</td>\n",
              "      <td>2786</td>\n",
              "    </tr>\n",
              "    <tr>\n",
              "      <th>1502</th>\n",
              "      <td>15512.0</td>\n",
              "      <td>1.0</td>\n",
              "      <td>204.0</td>\n",
              "      <td>360.0</td>\n",
              "      <td>19.800000</td>\n",
              "      <td>334.65</td>\n",
              "      <td>2787</td>\n",
              "    </tr>\n",
              "    <tr>\n",
              "      <th>212</th>\n",
              "      <td>12755.0</td>\n",
              "      <td>1.0</td>\n",
              "      <td>85.0</td>\n",
              "      <td>366.0</td>\n",
              "      <td>17.550000</td>\n",
              "      <td>327.72</td>\n",
              "      <td>2788</td>\n",
              "    </tr>\n",
              "    <tr>\n",
              "      <th>2288</th>\n",
              "      <td>17194.0</td>\n",
              "      <td>1.0</td>\n",
              "      <td>87.0</td>\n",
              "      <td>361.0</td>\n",
              "      <td>10.000000</td>\n",
              "      <td>326.61</td>\n",
              "      <td>2789</td>\n",
              "    </tr>\n",
              "    <tr>\n",
              "      <th>1220</th>\n",
              "      <td>14865.0</td>\n",
              "      <td>1.0</td>\n",
              "      <td>365.0</td>\n",
              "      <td>373.0</td>\n",
              "      <td>15.000000</td>\n",
              "      <td>321.97</td>\n",
              "      <td>2790</td>\n",
              "    </tr>\n",
              "  </tbody>\n",
              "</table>\n",
              "<p>2790 rows × 7 columns</p>\n",
              "</div>"
            ],
            "text/plain": [
              "      CustomerID  frequency  recency      T  monetary_value        CLV  rank\n",
              "1111     14646.0       44.0    353.0  355.0     6366.705909  221392.88     1\n",
              "2706     18102.0       25.0    367.0  368.0     9349.477200  178317.87     2\n",
              "1938     16446.0        1.0    205.0  206.0   168469.600000  174568.39     3\n",
              "2413     17450.0       26.0    359.0  368.0     7404.690385  146998.54     4\n",
              "834      14096.0       16.0     97.0  102.0     4071.434375  126552.90     5\n",
              "...          ...        ...      ...    ...             ...        ...   ...\n",
              "809      14037.0        1.0    188.0  365.0       35.400000     340.94  2786\n",
              "1502     15512.0        1.0    204.0  360.0       19.800000     334.65  2787\n",
              "212      12755.0        1.0     85.0  366.0       17.550000     327.72  2788\n",
              "2288     17194.0        1.0     87.0  361.0       10.000000     326.61  2789\n",
              "1220     14865.0        1.0    365.0  373.0       15.000000     321.97  2790\n",
              "\n",
              "[2790 rows x 7 columns]"
            ]
          },
          "metadata": {
            "tags": []
          },
          "execution_count": 90
        }
      ]
    },
    {
      "cell_type": "code",
      "metadata": {
        "id": "VEJqehyLHEtu",
        "outputId": "4676fdb2-1eaa-408d-8e1a-73fdd2aab88b",
        "colab": {
          "base_uri": "https://localhost:8080/",
          "height": 265
        }
      },
      "source": [
        "plt.plot( sorted_returning_customers_summary['rank'] , sorted_returning_customers_summary['CLV'] ) \n",
        "\n",
        "plt.show()"
      ],
      "execution_count": 91,
      "outputs": [
        {
          "output_type": "display_data",
          "data": {
            "image/png": "[encoded data removed]",
            "text/plain": [
              "<Figure size 432x288 with 1 Axes>"
            ]
          },
          "metadata": {
            "tags": [],
            "needs_background": "light"
          }
        }
      ]
    },
    {
      "cell_type": "code",
      "metadata": {
        "id": "UXPKpm7EIGIb",
        "outputId": "6128a853-2788-48e4-d12d-ed34ff032fd2",
        "colab": {
          "base_uri": "https://localhost:8080/",
          "height": 265
        }
      },
      "source": [
        "plt.plot( sorted_returning_customers_summary['rank'] , sorted_returning_customers_summary['CLV'] ) \n",
        "\n",
        "plt.xlim(0,500)\n",
        "plt.show()\n"
      ],
      "execution_count": 93,
      "outputs": [
        {
          "output_type": "display_data",
          "data": {
            "image/png": "[encoded data removed]",
            "text/plain": [
              "<Figure size 432x288 with 1 Axes>"
            ]
          },
          "metadata": {
            "tags": [],
            "needs_background": "light"
          }
        }
      ]
    },
    {
      "cell_type": "code",
      "metadata": {
        "id": "S_y2HCX4ISIk",
        "outputId": "08bf95f6-a72e-4de2-e55e-0241cf80bd46",
        "colab": {
          "base_uri": "https://localhost:8080/",
          "height": 265
        }
      },
      "source": [
        "plt.plot( sorted_returning_customers_summary['rank'] , sorted_returning_customers_summary['CLV'] ) \n",
        "\n",
        "plt.xlim(0,100)\n",
        "\n",
        "plt.show()"
      ],
      "execution_count": 94,
      "outputs": [
        {
          "output_type": "display_data",
          "data": {
            "image/png": "[encoded data removed]",
            "text/plain": [
              "<Figure size 432x288 with 1 Axes>"
            ]
          },
          "metadata": {
            "tags": [],
            "needs_background": "light"
          }
        }
      ]
    },
    {
      "cell_type": "code",
      "metadata": {
        "id": "8T55upuDHnvw",
        "outputId": "e33ce29f-56a7-4e99-a8e9-5ff1caf06b56",
        "colab": {
          "base_uri": "https://localhost:8080/",
          "height": 297
        }
      },
      "source": [
        "sns.distplot(sorted_returning_customers_summary['CLV'],bins=100)"
      ],
      "execution_count": 92,
      "outputs": [
        {
          "output_type": "execute_result",
          "data": {
            "text/plain": [
              "<matplotlib.axes._subplots.AxesSubplot at 0x7f1f900f1828>"
            ]
          },
          "metadata": {
            "tags": []
          },
          "execution_count": 92
        },
        {
          "output_type": "display_data",
          "data": {
            "image/png": "[encoded data removed]",
            "text/plain": [
              "<Figure size 432x288 with 1 Axes>"
            ]
          },
          "metadata": {
            "tags": [],
            "needs_background": "light"
          }
        }
      ]
    },
    {
      "cell_type": "code",
      "metadata": {
        "id": "78nVmomj54jA",
        "outputId": "8e4af5c5-e602-4522-f035-1af631d71d69",
        "colab": {
          "base_uri": "https://localhost:8080/",
          "height": 415
        }
      },
      "source": [
        "top_25percent_customers = sorted_returning_customers_summary[ 0 : int(Unique_Customers/4) ]\n",
        "\n",
        "top_25percent_customers"
      ],
      "execution_count": 96,
      "outputs": [
        {
          "output_type": "execute_result",
          "data": {
            "text/html": [
              "<div>\n",
              "<style scoped>\n",
              "    .dataframe tbody tr th:only-of-type {\n",
              "        vertical-align: middle;\n",
              "    }\n",
              "\n",
              "    .dataframe tbody tr th {\n",
              "        vertical-align: top;\n",
              "    }\n",
              "\n",
              "    .dataframe thead th {\n",
              "        text-align: right;\n",
              "    }\n",
              "</style>\n",
              "<table border=\"1\" class=\"dataframe\">\n",
              "  <thead>\n",
              "    <tr style=\"text-align: right;\">\n",
              "      <th></th>\n",
              "      <th>CustomerID</th>\n",
              "      <th>frequency</th>\n",
              "      <th>recency</th>\n",
              "      <th>T</th>\n",
              "      <th>monetary_value</th>\n",
              "      <th>CLV</th>\n",
              "      <th>rank</th>\n",
              "    </tr>\n",
              "  </thead>\n",
              "  <tbody>\n",
              "    <tr>\n",
              "      <th>1111</th>\n",
              "      <td>14646.0</td>\n",
              "      <td>44.0</td>\n",
              "      <td>353.0</td>\n",
              "      <td>355.0</td>\n",
              "      <td>6366.705909</td>\n",
              "      <td>221392.88</td>\n",
              "      <td>1</td>\n",
              "    </tr>\n",
              "    <tr>\n",
              "      <th>2706</th>\n",
              "      <td>18102.0</td>\n",
              "      <td>25.0</td>\n",
              "      <td>367.0</td>\n",
              "      <td>368.0</td>\n",
              "      <td>9349.477200</td>\n",
              "      <td>178317.87</td>\n",
              "      <td>2</td>\n",
              "    </tr>\n",
              "    <tr>\n",
              "      <th>1938</th>\n",
              "      <td>16446.0</td>\n",
              "      <td>1.0</td>\n",
              "      <td>205.0</td>\n",
              "      <td>206.0</td>\n",
              "      <td>168469.600000</td>\n",
              "      <td>174568.39</td>\n",
              "      <td>3</td>\n",
              "    </tr>\n",
              "    <tr>\n",
              "      <th>2413</th>\n",
              "      <td>17450.0</td>\n",
              "      <td>26.0</td>\n",
              "      <td>359.0</td>\n",
              "      <td>368.0</td>\n",
              "      <td>7404.690385</td>\n",
              "      <td>146998.54</td>\n",
              "      <td>4</td>\n",
              "    </tr>\n",
              "    <tr>\n",
              "      <th>834</th>\n",
              "      <td>14096.0</td>\n",
              "      <td>16.0</td>\n",
              "      <td>97.0</td>\n",
              "      <td>102.0</td>\n",
              "      <td>4071.434375</td>\n",
              "      <td>126552.90</td>\n",
              "      <td>5</td>\n",
              "    </tr>\n",
              "    <tr>\n",
              "      <th>...</th>\n",
              "      <td>...</td>\n",
              "      <td>...</td>\n",
              "      <td>...</td>\n",
              "      <td>...</td>\n",
              "      <td>...</td>\n",
              "      <td>...</td>\n",
              "      <td>...</td>\n",
              "    </tr>\n",
              "    <tr>\n",
              "      <th>2498</th>\n",
              "      <td>17633.0</td>\n",
              "      <td>3.0</td>\n",
              "      <td>89.0</td>\n",
              "      <td>121.0</td>\n",
              "      <td>330.650000</td>\n",
              "      <td>2403.58</td>\n",
              "      <td>693</td>\n",
              "    </tr>\n",
              "    <tr>\n",
              "      <th>2437</th>\n",
              "      <td>17504.0</td>\n",
              "      <td>5.0</td>\n",
              "      <td>116.0</td>\n",
              "      <td>323.0</td>\n",
              "      <td>511.176000</td>\n",
              "      <td>2402.08</td>\n",
              "      <td>694</td>\n",
              "    </tr>\n",
              "    <tr>\n",
              "      <th>673</th>\n",
              "      <td>13758.0</td>\n",
              "      <td>6.0</td>\n",
              "      <td>362.0</td>\n",
              "      <td>374.0</td>\n",
              "      <td>471.350000</td>\n",
              "      <td>2401.96</td>\n",
              "      <td>695</td>\n",
              "    </tr>\n",
              "    <tr>\n",
              "      <th>1571</th>\n",
              "      <td>15654.0</td>\n",
              "      <td>1.0</td>\n",
              "      <td>17.0</td>\n",
              "      <td>27.0</td>\n",
              "      <td>327.510000</td>\n",
              "      <td>2400.14</td>\n",
              "      <td>696</td>\n",
              "    </tr>\n",
              "    <tr>\n",
              "      <th>2511</th>\n",
              "      <td>17659.0</td>\n",
              "      <td>11.0</td>\n",
              "      <td>355.0</td>\n",
              "      <td>373.0</td>\n",
              "      <td>250.150909</td>\n",
              "      <td>2399.63</td>\n",
              "      <td>697</td>\n",
              "    </tr>\n",
              "  </tbody>\n",
              "</table>\n",
              "<p>697 rows × 7 columns</p>\n",
              "</div>"
            ],
            "text/plain": [
              "      CustomerID  frequency  recency      T  monetary_value        CLV  rank\n",
              "1111     14646.0       44.0    353.0  355.0     6366.705909  221392.88     1\n",
              "2706     18102.0       25.0    367.0  368.0     9349.477200  178317.87     2\n",
              "1938     16446.0        1.0    205.0  206.0   168469.600000  174568.39     3\n",
              "2413     17450.0       26.0    359.0  368.0     7404.690385  146998.54     4\n",
              "834      14096.0       16.0     97.0  102.0     4071.434375  126552.90     5\n",
              "...          ...        ...      ...    ...             ...        ...   ...\n",
              "2498     17633.0        3.0     89.0  121.0      330.650000    2403.58   693\n",
              "2437     17504.0        5.0    116.0  323.0      511.176000    2402.08   694\n",
              "673      13758.0        6.0    362.0  374.0      471.350000    2401.96   695\n",
              "1571     15654.0        1.0     17.0   27.0      327.510000    2400.14   696\n",
              "2511     17659.0       11.0    355.0  373.0      250.150909    2399.63   697\n",
              "\n",
              "[697 rows x 7 columns]"
            ]
          },
          "metadata": {
            "tags": []
          },
          "execution_count": 96
        }
      ]
    },
    {
      "cell_type": "code",
      "metadata": {
        "id": "h9I6WhCt97Nz",
        "outputId": "82fa7255-2ee0-4bcc-9a4d-7c0134e556cf",
        "colab": {
          "base_uri": "https://localhost:8080/",
          "height": 265
        }
      },
      "source": [
        "plt.plot( top_25percent_customers['rank'] , top_25percent_customers['CLV'] ) \n",
        "\n",
        "plt.show()"
      ],
      "execution_count": 97,
      "outputs": [
        {
          "output_type": "display_data",
          "data": {
            "image/png": "[encoded data removed]",
            "text/plain": [
              "<Figure size 432x288 with 1 Axes>"
            ]
          },
          "metadata": {
            "tags": [],
            "needs_background": "light"
          }
        }
      ]
    },
    {
      "cell_type": "code",
      "metadata": {
        "id": "UMllGmx48oT8",
        "outputId": "114783ff-d0be-47b9-9a69-6cc5bbceeb5e",
        "colab": {
          "base_uri": "https://localhost:8080/",
          "height": 294
        }
      },
      "source": [
        "top_25percent_customers.describe()"
      ],
      "execution_count": 85,
      "outputs": [
        {
          "output_type": "execute_result",
          "data": {
            "text/html": [
              "<div>\n",
              "<style scoped>\n",
              "    .dataframe tbody tr th:only-of-type {\n",
              "        vertical-align: middle;\n",
              "    }\n",
              "\n",
              "    .dataframe tbody tr th {\n",
              "        vertical-align: top;\n",
              "    }\n",
              "\n",
              "    .dataframe thead th {\n",
              "        text-align: right;\n",
              "    }\n",
              "</style>\n",
              "<table border=\"1\" class=\"dataframe\">\n",
              "  <thead>\n",
              "    <tr style=\"text-align: right;\">\n",
              "      <th></th>\n",
              "      <th>CustomerID</th>\n",
              "      <th>frequency</th>\n",
              "      <th>recency</th>\n",
              "      <th>T</th>\n",
              "      <th>monetary_value</th>\n",
              "      <th>CLV</th>\n",
              "    </tr>\n",
              "  </thead>\n",
              "  <tbody>\n",
              "    <tr>\n",
              "      <th>count</th>\n",
              "      <td>697.000000</td>\n",
              "      <td>697.000000</td>\n",
              "      <td>697.000000</td>\n",
              "      <td>697.000000</td>\n",
              "      <td>697.000000</td>\n",
              "      <td>697.000000</td>\n",
              "    </tr>\n",
              "    <tr>\n",
              "      <th>mean</th>\n",
              "      <td>15067.212339</td>\n",
              "      <td>9.956958</td>\n",
              "      <td>248.667145</td>\n",
              "      <td>270.853659</td>\n",
              "      <td>1014.139751</td>\n",
              "      <td>7265.534749</td>\n",
              "    </tr>\n",
              "    <tr>\n",
              "      <th>std</th>\n",
              "      <td>1763.722767</td>\n",
              "      <td>11.732208</td>\n",
              "      <td>115.076891</td>\n",
              "      <td>111.999455</td>\n",
              "      <td>6457.084161</td>\n",
              "      <td>16694.141752</td>\n",
              "    </tr>\n",
              "    <tr>\n",
              "      <th>min</th>\n",
              "      <td>12347.000000</td>\n",
              "      <td>1.000000</td>\n",
              "      <td>1.000000</td>\n",
              "      <td>11.000000</td>\n",
              "      <td>106.703750</td>\n",
              "      <td>2399.630000</td>\n",
              "    </tr>\n",
              "    <tr>\n",
              "      <th>25%</th>\n",
              "      <td>13521.000000</td>\n",
              "      <td>4.000000</td>\n",
              "      <td>165.000000</td>\n",
              "      <td>206.000000</td>\n",
              "      <td>357.056000</td>\n",
              "      <td>2907.300000</td>\n",
              "    </tr>\n",
              "    <tr>\n",
              "      <th>50%</th>\n",
              "      <td>14911.000000</td>\n",
              "      <td>7.000000</td>\n",
              "      <td>284.000000</td>\n",
              "      <td>316.000000</td>\n",
              "      <td>502.613333</td>\n",
              "      <td>3806.910000</td>\n",
              "    </tr>\n",
              "    <tr>\n",
              "      <th>75%</th>\n",
              "      <td>16626.000000</td>\n",
              "      <td>12.000000</td>\n",
              "      <td>352.000000</td>\n",
              "      <td>366.000000</td>\n",
              "      <td>810.697500</td>\n",
              "      <td>5502.570000</td>\n",
              "    </tr>\n",
              "    <tr>\n",
              "      <th>max</th>\n",
              "      <td>18272.000000</td>\n",
              "      <td>131.000000</td>\n",
              "      <td>373.000000</td>\n",
              "      <td>374.000000</td>\n",
              "      <td>168469.600000</td>\n",
              "      <td>221392.880000</td>\n",
              "    </tr>\n",
              "  </tbody>\n",
              "</table>\n",
              "</div>"
            ],
            "text/plain": [
              "         CustomerID   frequency  ...  monetary_value            CLV\n",
              "count    697.000000  697.000000  ...      697.000000     697.000000\n",
              "mean   15067.212339    9.956958  ...     1014.139751    7265.534749\n",
              "std     1763.722767   11.732208  ...     6457.084161   16694.141752\n",
              "min    12347.000000    1.000000  ...      106.703750    2399.630000\n",
              "25%    13521.000000    4.000000  ...      357.056000    2907.300000\n",
              "50%    14911.000000    7.000000  ...      502.613333    3806.910000\n",
              "75%    16626.000000   12.000000  ...      810.697500    5502.570000\n",
              "max    18272.000000  131.000000  ...   168469.600000  221392.880000\n",
              "\n",
              "[8 rows x 6 columns]"
            ]
          },
          "metadata": {
            "tags": []
          },
          "execution_count": 85
        }
      ]
    },
    {
      "cell_type": "code",
      "metadata": {
        "id": "umbJtYYGOlhu"
      },
      "source": [
        ""
      ],
      "execution_count": null,
      "outputs": []
    },
    {
      "cell_type": "code",
      "metadata": {
        "id": "hLDWCL3q-Ipg",
        "outputId": "714b3748-fb14-4e91-8754-03e30cb6a6da",
        "colab": {
          "base_uri": "https://localhost:8080/",
          "height": 265
        }
      },
      "source": [
        "plt.plot( top_25percent_customers['CustomerID'] , top_25percent_customers['CLV'] ) \n",
        "\n",
        "plt.show()\n"
      ],
      "execution_count": 86,
      "outputs": [
        {
          "output_type": "display_data",
          "data": {
            "image/png": "[encoded data removed]",
            "text/plain": [
              "<Figure size 432x288 with 1 Axes>"
            ]
          },
          "metadata": {
            "tags": [],
            "needs_background": "light"
          }
        }
      ]
    },
    {
      "cell_type": "code",
      "metadata": {
        "id": "4JSN61TP-Ilr",
        "outputId": "d65e63d8-9ecf-4713-836e-b50a9ef97740",
        "colab": {
          "base_uri": "https://localhost:8080/",
          "height": 297
        }
      },
      "source": [
        "sns.distplot(top_25percent_customers['CLV'])"
      ],
      "execution_count": 87,
      "outputs": [
        {
          "output_type": "execute_result",
          "data": {
            "text/plain": [
              "<matplotlib.axes._subplots.AxesSubplot at 0x7f1f900f1b38>"
            ]
          },
          "metadata": {
            "tags": []
          },
          "execution_count": 87
        },
        {
          "output_type": "display_data",
          "data": {
            "image/png": "[encoded data removed]",
            "text/plain": [
              "<Figure size 432x288 with 1 Axes>"
            ]
          },
          "metadata": {
            "tags": [],
            "needs_background": "light"
          }
        }
      ]
    },
    {
      "cell_type": "code",
      "metadata": {
        "id": "u4bekompLOH_",
        "outputId": "90cc0205-2534-4f6a-b5c6-7dddad79f05a",
        "colab": {
          "base_uri": "https://localhost:8080/",
          "height": 355
        }
      },
      "source": [
        "top_25_to_50_percent_customers = sorted_returning_customers_summary[ int(Unique_Customers/4) : int(Unique_Customers/2 )  ]\n",
        "\n",
        "top_25_to_50_percent_customers.head(10)\n"
      ],
      "execution_count": 98,
      "outputs": [
        {
          "output_type": "execute_result",
          "data": {
            "text/html": [
              "<div>\n",
              "<style scoped>\n",
              "    .dataframe tbody tr th:only-of-type {\n",
              "        vertical-align: middle;\n",
              "    }\n",
              "\n",
              "    .dataframe tbody tr th {\n",
              "        vertical-align: top;\n",
              "    }\n",
              "\n",
              "    .dataframe thead th {\n",
              "        text-align: right;\n",
              "    }\n",
              "</style>\n",
              "<table border=\"1\" class=\"dataframe\">\n",
              "  <thead>\n",
              "    <tr style=\"text-align: right;\">\n",
              "      <th></th>\n",
              "      <th>CustomerID</th>\n",
              "      <th>frequency</th>\n",
              "      <th>recency</th>\n",
              "      <th>T</th>\n",
              "      <th>monetary_value</th>\n",
              "      <th>CLV</th>\n",
              "      <th>rank</th>\n",
              "    </tr>\n",
              "  </thead>\n",
              "  <tbody>\n",
              "    <tr>\n",
              "      <th>1681</th>\n",
              "      <td>15877.0</td>\n",
              "      <td>1.0</td>\n",
              "      <td>16.0</td>\n",
              "      <td>18.0</td>\n",
              "      <td>251.020000</td>\n",
              "      <td>2398.65</td>\n",
              "      <td>698</td>\n",
              "    </tr>\n",
              "    <tr>\n",
              "      <th>1698</th>\n",
              "      <td>15932.0</td>\n",
              "      <td>7.0</td>\n",
              "      <td>285.0</td>\n",
              "      <td>290.0</td>\n",
              "      <td>311.162857</td>\n",
              "      <td>2396.49</td>\n",
              "      <td>699</td>\n",
              "    </tr>\n",
              "    <tr>\n",
              "      <th>487</th>\n",
              "      <td>13362.0</td>\n",
              "      <td>3.0</td>\n",
              "      <td>278.0</td>\n",
              "      <td>288.0</td>\n",
              "      <td>759.346667</td>\n",
              "      <td>2396.33</td>\n",
              "      <td>700</td>\n",
              "    </tr>\n",
              "    <tr>\n",
              "      <th>2014</th>\n",
              "      <td>16628.0</td>\n",
              "      <td>4.0</td>\n",
              "      <td>205.0</td>\n",
              "      <td>235.0</td>\n",
              "      <td>456.850000</td>\n",
              "      <td>2394.53</td>\n",
              "      <td>701</td>\n",
              "    </tr>\n",
              "    <tr>\n",
              "      <th>2162</th>\n",
              "      <td>16928.0</td>\n",
              "      <td>16.0</td>\n",
              "      <td>293.0</td>\n",
              "      <td>374.0</td>\n",
              "      <td>170.709375</td>\n",
              "      <td>2386.92</td>\n",
              "      <td>702</td>\n",
              "    </tr>\n",
              "    <tr>\n",
              "      <th>1025</th>\n",
              "      <td>14482.0</td>\n",
              "      <td>5.0</td>\n",
              "      <td>221.0</td>\n",
              "      <td>240.0</td>\n",
              "      <td>366.010000</td>\n",
              "      <td>2385.61</td>\n",
              "      <td>703</td>\n",
              "    </tr>\n",
              "    <tr>\n",
              "      <th>523</th>\n",
              "      <td>13451.0</td>\n",
              "      <td>4.0</td>\n",
              "      <td>308.0</td>\n",
              "      <td>335.0</td>\n",
              "      <td>643.665000</td>\n",
              "      <td>2385.15</td>\n",
              "      <td>704</td>\n",
              "    </tr>\n",
              "    <tr>\n",
              "      <th>1721</th>\n",
              "      <td>15984.0</td>\n",
              "      <td>9.0</td>\n",
              "      <td>366.0</td>\n",
              "      <td>369.0</td>\n",
              "      <td>301.663333</td>\n",
              "      <td>2380.89</td>\n",
              "      <td>705</td>\n",
              "    </tr>\n",
              "    <tr>\n",
              "      <th>1417</th>\n",
              "      <td>15296.0</td>\n",
              "      <td>5.0</td>\n",
              "      <td>276.0</td>\n",
              "      <td>327.0</td>\n",
              "      <td>494.706000</td>\n",
              "      <td>2378.96</td>\n",
              "      <td>706</td>\n",
              "    </tr>\n",
              "    <tr>\n",
              "      <th>29</th>\n",
              "      <td>12408.0</td>\n",
              "      <td>3.0</td>\n",
              "      <td>228.0</td>\n",
              "      <td>261.0</td>\n",
              "      <td>683.653333</td>\n",
              "      <td>2378.72</td>\n",
              "      <td>707</td>\n",
              "    </tr>\n",
              "  </tbody>\n",
              "</table>\n",
              "</div>"
            ],
            "text/plain": [
              "      CustomerID  frequency  recency      T  monetary_value      CLV  rank\n",
              "1681     15877.0        1.0     16.0   18.0      251.020000  2398.65   698\n",
              "1698     15932.0        7.0    285.0  290.0      311.162857  2396.49   699\n",
              "487      13362.0        3.0    278.0  288.0      759.346667  2396.33   700\n",
              "2014     16628.0        4.0    205.0  235.0      456.850000  2394.53   701\n",
              "2162     16928.0       16.0    293.0  374.0      170.709375  2386.92   702\n",
              "1025     14482.0        5.0    221.0  240.0      366.010000  2385.61   703\n",
              "523      13451.0        4.0    308.0  335.0      643.665000  2385.15   704\n",
              "1721     15984.0        9.0    366.0  369.0      301.663333  2380.89   705\n",
              "1417     15296.0        5.0    276.0  327.0      494.706000  2378.96   706\n",
              "29       12408.0        3.0    228.0  261.0      683.653333  2378.72   707"
            ]
          },
          "metadata": {
            "tags": []
          },
          "execution_count": 98
        }
      ]
    },
    {
      "cell_type": "code",
      "metadata": {
        "id": "gn2sXJK9LOOp",
        "outputId": "9a2380aa-5246-4b74-d881-c6aa798e649e",
        "colab": {
          "base_uri": "https://localhost:8080/",
          "height": 294
        }
      },
      "source": [
        "top_25_to_50_percent_customers.describe()"
      ],
      "execution_count": 99,
      "outputs": [
        {
          "output_type": "execute_result",
          "data": {
            "text/html": [
              "<div>\n",
              "<style scoped>\n",
              "    .dataframe tbody tr th:only-of-type {\n",
              "        vertical-align: middle;\n",
              "    }\n",
              "\n",
              "    .dataframe tbody tr th {\n",
              "        vertical-align: top;\n",
              "    }\n",
              "\n",
              "    .dataframe thead th {\n",
              "        text-align: right;\n",
              "    }\n",
              "</style>\n",
              "<table border=\"1\" class=\"dataframe\">\n",
              "  <thead>\n",
              "    <tr style=\"text-align: right;\">\n",
              "      <th></th>\n",
              "      <th>CustomerID</th>\n",
              "      <th>frequency</th>\n",
              "      <th>recency</th>\n",
              "      <th>T</th>\n",
              "      <th>monetary_value</th>\n",
              "      <th>CLV</th>\n",
              "      <th>rank</th>\n",
              "    </tr>\n",
              "  </thead>\n",
              "  <tbody>\n",
              "    <tr>\n",
              "      <th>count</th>\n",
              "      <td>698.000000</td>\n",
              "      <td>698.000000</td>\n",
              "      <td>698.000000</td>\n",
              "      <td>698.000000</td>\n",
              "      <td>698.000000</td>\n",
              "      <td>698.000000</td>\n",
              "      <td>698.00000</td>\n",
              "    </tr>\n",
              "    <tr>\n",
              "      <th>mean</th>\n",
              "      <td>15278.436963</td>\n",
              "      <td>3.780802</td>\n",
              "      <td>191.598854</td>\n",
              "      <td>227.305158</td>\n",
              "      <td>388.375654</td>\n",
              "      <td>1826.554140</td>\n",
              "      <td>1046.50000</td>\n",
              "    </tr>\n",
              "    <tr>\n",
              "      <th>std</th>\n",
              "      <td>1706.549020</td>\n",
              "      <td>2.676070</td>\n",
              "      <td>115.924193</td>\n",
              "      <td>116.547747</td>\n",
              "      <td>251.497045</td>\n",
              "      <td>292.856681</td>\n",
              "      <td>201.63953</td>\n",
              "    </tr>\n",
              "    <tr>\n",
              "      <th>min</th>\n",
              "      <td>12352.000000</td>\n",
              "      <td>1.000000</td>\n",
              "      <td>1.000000</td>\n",
              "      <td>10.000000</td>\n",
              "      <td>13.200000</td>\n",
              "      <td>1393.730000</td>\n",
              "      <td>698.00000</td>\n",
              "    </tr>\n",
              "    <tr>\n",
              "      <th>25%</th>\n",
              "      <td>13825.750000</td>\n",
              "      <td>2.000000</td>\n",
              "      <td>73.000000</td>\n",
              "      <td>111.500000</td>\n",
              "      <td>235.081250</td>\n",
              "      <td>1576.187500</td>\n",
              "      <td>872.25000</td>\n",
              "    </tr>\n",
              "    <tr>\n",
              "      <th>50%</th>\n",
              "      <td>15239.500000</td>\n",
              "      <td>3.000000</td>\n",
              "      <td>203.000000</td>\n",
              "      <td>252.000000</td>\n",
              "      <td>332.113571</td>\n",
              "      <td>1783.570000</td>\n",
              "      <td>1046.50000</td>\n",
              "    </tr>\n",
              "    <tr>\n",
              "      <th>75%</th>\n",
              "      <td>16780.250000</td>\n",
              "      <td>5.000000</td>\n",
              "      <td>293.000000</td>\n",
              "      <td>333.000000</td>\n",
              "      <td>453.855000</td>\n",
              "      <td>2067.912500</td>\n",
              "      <td>1220.75000</td>\n",
              "    </tr>\n",
              "    <tr>\n",
              "      <th>max</th>\n",
              "      <td>18287.000000</td>\n",
              "      <td>19.000000</td>\n",
              "      <td>370.000000</td>\n",
              "      <td>374.000000</td>\n",
              "      <td>2188.500000</td>\n",
              "      <td>2398.650000</td>\n",
              "      <td>1395.00000</td>\n",
              "    </tr>\n",
              "  </tbody>\n",
              "</table>\n",
              "</div>"
            ],
            "text/plain": [
              "         CustomerID   frequency  ...          CLV        rank\n",
              "count    698.000000  698.000000  ...   698.000000   698.00000\n",
              "mean   15278.436963    3.780802  ...  1826.554140  1046.50000\n",
              "std     1706.549020    2.676070  ...   292.856681   201.63953\n",
              "min    12352.000000    1.000000  ...  1393.730000   698.00000\n",
              "25%    13825.750000    2.000000  ...  1576.187500   872.25000\n",
              "50%    15239.500000    3.000000  ...  1783.570000  1046.50000\n",
              "75%    16780.250000    5.000000  ...  2067.912500  1220.75000\n",
              "max    18287.000000   19.000000  ...  2398.650000  1395.00000\n",
              "\n",
              "[8 rows x 7 columns]"
            ]
          },
          "metadata": {
            "tags": []
          },
          "execution_count": 99
        }
      ]
    },
    {
      "cell_type": "code",
      "metadata": {
        "id": "i03W8Q5KEK_0",
        "outputId": "6c7cebe4-4ab9-4e45-8e6f-a20646654e01",
        "colab": {
          "base_uri": "https://localhost:8080/",
          "height": 265
        }
      },
      "source": [
        "plt.plot( top_25_to_50_percent_customers['rank'] , top_25_to_50_percent_customers['CLV'] ) \n",
        "\n",
        "plt.show()\n"
      ],
      "execution_count": 101,
      "outputs": [
        {
          "output_type": "display_data",
          "data": {
            "image/png": "[encoded data removed]",
            "text/plain": [
              "<Figure size 432x288 with 1 Axes>"
            ]
          },
          "metadata": {
            "tags": [],
            "needs_background": "light"
          }
        }
      ]
    },
    {
      "cell_type": "code",
      "metadata": {
        "id": "Om0nOUm1EK1p"
      },
      "source": [
        "top_50_to_75_percent_customers = sorted_returning_customers_summary[ int(Unique_Customers/2) : int(3* Unique_Customers/4 )  ]\n"
      ],
      "execution_count": 102,
      "outputs": []
    },
    {
      "cell_type": "code",
      "metadata": {
        "id": "Ej6JwaU1P9Ss",
        "outputId": "b5800e20-dfa7-4ae5-bfab-36193b4c5087",
        "colab": {
          "base_uri": "https://localhost:8080/",
          "height": 265
        }
      },
      "source": [
        "plt.plot( top_50_to_75_percent_customers['rank'] , top_50_to_75_percent_customers['CLV'] ) \n",
        "\n",
        "plt.show()"
      ],
      "execution_count": 104,
      "outputs": [
        {
          "output_type": "display_data",
          "data": {
            "image/png": "[encoded data removed]",
            "text/plain": [
              "<Figure size 432x288 with 1 Axes>"
            ]
          },
          "metadata": {
            "tags": [],
            "needs_background": "light"
          }
        }
      ]
    },
    {
      "cell_type": "code",
      "metadata": {
        "id": "9VSrwBPCP8xu"
      },
      "source": [
        "last_25_percent_customers = sorted_returning_customers_summary[ int(3*Unique_Customers/4) : int(Unique_Customers+1 )  ]\n"
      ],
      "execution_count": 103,
      "outputs": []
    },
    {
      "cell_type": "code",
      "metadata": {
        "id": "3hIgxWDYQ8Pf",
        "outputId": "6d3380c5-e675-4ee5-d39c-9a243723e8fe",
        "colab": {
          "base_uri": "https://localhost:8080/",
          "height": 265
        }
      },
      "source": [
        "plt.plot( last_25_percent_customers['rank'] , last_25_percent_customers['CLV'] ) \n",
        "\n",
        "plt.show()"
      ],
      "execution_count": 105,
      "outputs": [
        {
          "output_type": "display_data",
          "data": {
            "image/png": "[encoded data removed]",
            "text/plain": [
              "<Figure size 432x288 with 1 Axes>"
            ]
          },
          "metadata": {
            "tags": [],
            "needs_background": "light"
          }
        }
      ]
    },
    {
      "cell_type": "code",
      "metadata": {
        "id": "8ogVLF3DQ8WL"
      },
      "source": [
        "bgf.conditional_probability_alive_matrix(int(data1['frequency'].max()),int(data1['recency'].max()))[int(r),int(f)]"
      ],
      "execution_count": null,
      "outputs": []
    },
    {
      "cell_type": "code",
      "metadata": {
        "id": "ODHi3Z3BQ8Kw"
      },
      "source": [
        ""
      ],
      "execution_count": null,
      "outputs": []
    },
    {
      "cell_type": "markdown",
      "metadata": {
        "id": "mYrBFYa2Ca21"
      },
      "source": [
        ""
      ]
    }
  ]
}